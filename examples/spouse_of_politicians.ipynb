{
 "cells": [
  {
   "cell_type": "markdown",
   "id": "ad9666c7",
   "metadata": {},
   "source": [
    "# Step 0 Set up `kgtk`\n",
    "Use GitHub branch `dev`:"
   ]
  },
  {
   "cell_type": "code",
   "execution_count": null,
   "id": "f8a1842b",
   "metadata": {},
   "outputs": [],
   "source": [
    "%%bash\n",
    "git clone -b dev https://github.com/usc-isi-i2/kgtk.git\n",
    "cd kgtk\n",
    "python setup.py install"
   ]
  },
  {
   "cell_type": "markdown",
   "id": "9d3fad15",
   "metadata": {},
   "source": [
    "# Step 1 Send a SPARQL query use `kgtk`"
   ]
  },
  {
   "cell_type": "markdown",
   "id": "8dd9091c",
   "metadata": {},
   "source": [
    "Example 1: Find spouse(s) of politicians: <div>\n",
    "SPARQL query:\n",
    "```\n",
    "SELECT ?politicianLabel ?spouseLabel\n",
    "WHERE \n",
    "{\n",
    "  ?politician wdt:P31  wd:Q5 ;\n",
    "              wdt:P106 wd:Q82955 ;\n",
    "              wdt:P26  ?spouse .\n",
    "  SERVICE wikibase:label { bd:serviceParam wikibase:language \"en\". }\n",
    "}\n",
    "```"
   ]
  },
  {
   "cell_type": "markdown",
   "id": "99a1ceef",
   "metadata": {},
   "source": [
    "### Define alias and variables"
   ]
  },
  {
   "cell_type": "code",
   "execution_count": null,
   "id": "40efa7bb",
   "metadata": {},
   "outputs": [],
   "source": [
    "%%bash\n",
    "# Database\n",
    "CLAIMS=../data/claims.tsv.gz\n",
    "WIKI_INFO=../data/wikidata_infobox.tsv\n",
    "# Results\n",
    "RESULTS=../data/spouse_of_politician_kgtk.tsv\n",
    "NEW_RESULTS=../data/new_spouse_of_politician.tsv\n",
    "# Datatypes\n",
    "NUMBERS=../data/numbers.tsv\n",
    "STRINGS=../data/strings.tsv\n",
    "STRUCTURED_LITERALS=../data/structued_literals.tsv\n",
    "QNODES=../data/qnodes.tsv"
   ]
  },
  {
   "cell_type": "markdown",
   "id": "12ae625a",
   "metadata": {},
   "source": [
    "### Main `kgtk` query:"
   ]
  },
  {
   "cell_type": "code",
   "execution_count": null,
   "id": "854ced7e",
   "metadata": {},
   "outputs": [],
   "source": [
    "%%bash\n",
    "kgtk query -i $CLAIMS \\\n",
    "           --match 'c: (:Q82955)<-[:P106]-(politician)-[:P26]->(s)' \\\n",
    "           --return 'politician, \"P26\" as label, s' \\\n",
    "           -o $RESULTS"
   ]
  },
  {
   "cell_type": "markdown",
   "id": "307d6750",
   "metadata": {},
   "source": [
    "### Count known results in Wikidata database:"
   ]
  },
  {
   "cell_type": "markdown",
   "id": "c45166f2",
   "metadata": {},
   "source": [
    "Count politician-spouse pairs / **rows** (result should -1 which is the header):"
   ]
  },
  {
   "cell_type": "code",
   "execution_count": null,
   "id": "8820b61b",
   "metadata": {},
   "outputs": [],
   "source": [
    "%%bash\n",
    "wc -l $RESULTS"
   ]
  },
  {
   "cell_type": "markdown",
   "id": "767a7890",
   "metadata": {},
   "source": [
    "Count how many **unique politicians** have spouse in Wikidata:"
   ]
  },
  {
   "cell_type": "code",
   "execution_count": null,
   "id": "88e88ccd",
   "metadata": {},
   "outputs": [],
   "source": []
  }
 ],
 "metadata": {
  "kernelspec": {
   "display_name": "Python 3",
   "language": "python",
   "name": "python3"
  },
  "language_info": {
   "codemirror_mode": {
    "name": "ipython",
    "version": 3
   },
   "file_extension": ".py",
   "mimetype": "text/x-python",
   "name": "python",
   "nbconvert_exporter": "python",
   "pygments_lexer": "ipython3",
   "version": "3.7.4"
  }
 },
 "nbformat": 4,
 "nbformat_minor": 5
}
