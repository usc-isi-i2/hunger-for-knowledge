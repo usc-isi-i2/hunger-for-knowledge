{
 "cells": [
  {
   "cell_type": "markdown",
   "id": "3010aeea",
   "metadata": {},
   "source": [
    "# Step 0 Set up `kgtk`\n",
    "Use GitHub branch `dev`:"
   ]
  },
  {
   "cell_type": "code",
   "execution_count": null,
   "id": "ff3f9b27",
   "metadata": {},
   "outputs": [],
   "source": [
    "%%bash\n",
    "git clone -b dev https://github.com/usc-isi-i2/kgtk.git\n",
    "cd kgtk\n",
    "python setup.py install"
   ]
  },
  {
   "cell_type": "markdown",
   "id": "e6e797e7",
   "metadata": {},
   "source": [
    "# Step 1 Send a SPARQL query use `kgtk`"
   ]
  },
  {
   "cell_type": "markdown",
   "id": "c9a4a0d9",
   "metadata": {},
   "source": [
    "Example 1: Find spouse(s) of politicians: <div>\n",
    "SPARQL query: <div>\n",
    "<code>\n",
    "SELECT ?politicianLabel ?spouseLabel\n",
    "WHERE \n",
    "{\n",
    "  ?politician wdt:P31  wd:Q5 ;\n",
    "              wdt:P106 wd:Q82955 ;\n",
    "              wdt:P26  ?spouse .\n",
    "  SERVICE wikibase:label { bd:serviceParam wikibase:language \"en\". }\n",
    "}\n",
    "</code>"
   ]
  },
  {
   "cell_type": "markdown",
   "id": "64194d86",
   "metadata": {},
   "source": [
    "### Define alias and variables"
   ]
  },
  {
   "cell_type": "code",
   "execution_count": null,
   "id": "a15bf950",
   "metadata": {},
   "outputs": [],
   "source": [
    "%%bash\n",
    "# Database\n",
    "CLAIMS=../data/claims.tsv.gz\n",
    "WIKI_INFO=../data/wikidata_infobox.tsv\n",
    "# Results\n",
    "RESULTS=../data/spouse_of_politician_kgtk.tsv\n",
    "NEW_RESULTS=../data/new_spouse_of_politician.tsv\n",
    "# Datatypes\n",
    "NUMBERS=../data/numbers.tsv\n",
    "STRINGS=../data/strings.tsv\n",
    "STRUCTURED_LITERALS=../data/structued_literals.tsv\n",
    "QNODES=../data/qnodes.tsv"
   ]
  },
  {
   "cell_type": "markdown",
   "id": "dfac0667",
   "metadata": {},
   "source": [
    "### Main `kgtk` query:"
   ]
  },
  {
   "cell_type": "code",
   "execution_count": null,
   "id": "6188675a",
   "metadata": {},
   "outputs": [],
   "source": [
    "%%bash\n",
    "kgtk query -i $CLAIMS \\\n",
    "           --match 'c: (:Q82955)<-[:P106]-(politician)-[:P26]->(s)' \\\n",
    "           --return 'politician, \"P26\" as label, s' \\\n",
    "           -o $RESULTS"
   ]
  },
  {
   "cell_type": "markdown",
   "id": "70feebab",
   "metadata": {},
   "source": [
    "### Count known results in Wikidata database:"
   ]
  },
  {
   "cell_type": "markdown",
   "id": "b1576796",
   "metadata": {},
   "source": [
    "Count politician-spouse pairs / **rows** (result should -1 which is the header):"
   ]
  },
  {
   "cell_type": "code",
   "execution_count": null,
   "id": "52f571fc",
   "metadata": {},
   "outputs": [],
   "source": [
    "%%bash\n",
    "wc -l $RESULTS"
   ]
  },
  {
   "cell_type": "markdown",
   "id": "3d1216bf",
   "metadata": {},
   "source": [
    "Count how many **unique politicians** have spouse in Wikidata:"
   ]
  },
  {
   "cell_type": "code",
   "execution_count": null,
   "id": "dd2854f3",
   "metadata": {},
   "outputs": [],
   "source": []
  }
 ],
 "metadata": {
  "kernelspec": {
   "display_name": "Python 3",
   "language": "python",
   "name": "python3"
  },
  "language_info": {
   "codemirror_mode": {
    "name": "ipython",
    "version": 3
   },
   "file_extension": ".py",
   "mimetype": "text/x-python",
   "name": "python",
   "nbconvert_exporter": "python",
   "pygments_lexer": "ipython3",
   "version": "3.7.4"
  }
 },
 "nbformat": 4,
 "nbformat_minor": 5
}
