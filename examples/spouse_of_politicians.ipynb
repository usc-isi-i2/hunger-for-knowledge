{
 "cells": [
  {
   "cell_type": "markdown",
   "id": "336cd912",
   "metadata": {},
   "source": [
    "# Step 0 Set up `kgtk`\n",
    "Use GitHub branch `dev`:"
   ]
  },
  {
   "cell_type": "code",
   "execution_count": null,
   "id": "b4ae0eb6",
   "metadata": {},
   "outputs": [],
   "source": [
    "%%bash\n",
    "git clone -b dev https://github.com/usc-isi-i2/kgtk.git\n",
    "cd kgtk\n",
    "python setup.py install"
   ]
  },
  {
   "cell_type": "markdown",
   "id": "cross-eating",
   "metadata": {},
   "source": [
    "# Step 1 Send a SPARQL query use `kgtk`"
   ]
  },
  {
   "cell_type": "markdown",
   "id": "fbbb6d61",
   "metadata": {},
   "source": [
    "Example 1: Find spouse(s) of politicians:"
   ]
  },
  {
   "cell_type": "code",
   "execution_count": 1,
   "id": "574e29c0",
   "metadata": {},
   "outputs": [],
   "source": [
    "import os"
   ]
  },
  {
   "cell_type": "markdown",
   "id": "b3686ae6",
   "metadata": {},
   "source": [
    "### Define alias and variables"
   ]
  },
  {
   "cell_type": "code",
   "execution_count": 10,
   "id": "04289761",
   "metadata": {},
   "outputs": [
    {
     "name": "stdout",
     "output_type": "stream",
     "text": [
      "DATABASE: \"/nas/home/bohuizha/KG/hunger-for-knowledge/data/\"\n",
      "CLAIMS: \"/nas/home/bohuizha/KG/hunger-for-knowledge/data/claims.tsv\"\n",
      "WIKI_INFO: \"/nas/home/bohuizha/KG/hunger-for-knowledge/data/wikidata_infobox.tsv\"\n",
      "P31: \"/nas/home/bohuizha/KG/hunger-for-knowledge/data/P31.tsv\"\n",
      "P279STAR: \"/nas/home/bohuizha/KG/hunger-for-knowledge/data/P279star.tsv\"\n",
      "OUTPUT: \"/nas/home/bohuizha/KG/hunger-for-knowledge/output/\"\n",
      "RESULTS: \"/nas/home/bohuizha/KG/hunger-for-knowledge/output/spouse_of_politician.tsv\"\n",
      "NEW_RESULTS: \"/nas/home/bohuizha/KG/hunger-for-knowledge/output/new_spouse_of_politician.tsv\"\n",
      "POLITICIAN: \"/nas/home/bohuizha/KG/hunger-for-knowledge/output/politician.tsv\"\n",
      "QUERY_FILE: \"/nas/home/bohuizha/KG/hunger-for-knowledge/output/politician_wo_spouse.tsv\"\n",
      "NUMBERS: \"/nas/home/bohuizha/KG/hunger-for-knowledge/output/numbers.tsv\"\n",
      "STRINGS: \"/nas/home/bohuizha/KG/hunger-for-knowledge/output/strings.tsv\"\n",
      "EMPTY_STRINGS: \"/nas/home/bohuizha/KG/hunger-for-knowledge/output/empty_strings.tsv\"\n",
      "PURE_EMPTY: \"/nas/home/bohuizha/KG/hunger-for-knowledge/output/pure_empty.tsv\"\n",
      "NON_EMPTY: \"/nas/home/bohuizha/KG/hunger-for-knowledge/output/non_empty_strings.tsv\"\n",
      "STRUCTURED_LITERALS: \"/nas/home/bohuizha/KG/hunger-for-knowledge/output/structured_literals.tsv\"\n",
      "NODES: \"/nas/home/bohuizha/KG/hunger-for-knowledge/output/nodes.tsv\"\n",
      "QNODES: \"/nas/home/bohuizha/KG/hunger-for-knowledge/output/qnodes.tsv\"\n",
      "STORE: \"/nas/home/bohuizha/KG/hunger-for-knowledge/kypher/wikidata.sqlite3.db\"\n",
      "kypher: \"kgtk query --graph-cache /nas/home/bohuizha/KG/hunger-for-knowledge/kypher/wikidata.sqlite3.db\"\n"
     ]
    }
   ],
   "source": [
    "# Parameters\n",
    "\n",
    "# Folder where database files store\n",
    "data_path = \"/nas/home/bohuizha/KG/hunger-for-knowledge/data/\"\n",
    "\n",
    "# Folder on local machine where to create the output and temporary folders\n",
    "output_path = \"/nas/home/bohuizha/KG/hunger-for-knowledge/output/\"\n",
    "\n",
    "# Location of the cache database for kypher\n",
    "cache_path = \"/nas/home/bohuizha/KG/hunger-for-knowledge/kypher\"\n",
    "# Whether to delete the cache database\n",
    "delete_database = False\n",
    "\n",
    "# The names of files in the KGTK Wikidata distirbution that we will use in this notebook.\n",
    "data_file_names = {\n",
    "    \"claims\": \"claims.tsv\",\n",
    "    \"wiki_info\": \"wikidata_infobox.tsv\",\n",
    "    \"p31\": \"P31.tsv\",\n",
    "    \"p279star\": \"P279star.tsv\"\n",
    "}\n",
    "\n",
    "# We will define environment variables to hold the full paths to the files as we will use them in the shell commands\n",
    "kgtk_environment_variables = []\n",
    "\n",
    "os.environ['DATABASE'] = data_path\n",
    "kgtk_environment_variables.append('DATABASE')\n",
    "\n",
    "for key, value in data_file_names.items():\n",
    "    variable = key.upper()\n",
    "    os.environ[variable] = data_path + value\n",
    "    kgtk_environment_variables.append(variable)\n",
    "\n",
    "output_file_names = {\n",
    "    \"results\": \"spouse_of_politician.tsv\",\n",
    "    \"new_results\": \"new_spouse_of_politician.tsv\",\n",
    "    \"politician\": \"politician.tsv\",\n",
    "    \"query_file\": \"politician_wo_spouse.tsv\",\n",
    "    \"numbers\": \"numbers.tsv\",\n",
    "    \"strings\": \"strings.tsv\",\n",
    "    \"empty_strings\": \"empty_strings.tsv\",\n",
    "    \"pure_empty\": \"pure_empty.tsv\",\n",
    "    \"non_empty\": \"non_empty_strings.tsv\",\n",
    "    \"structured_literals\": \"structured_literals.tsv\",\n",
    "    \"nodes\": \"nodes.tsv\",\n",
    "    \"qnodes\": \"qnodes.tsv\"\n",
    "}\n",
    "\n",
    "os.environ['OUTPUT'] = output_path\n",
    "kgtk_environment_variables.append('OUTPUT')\n",
    "\n",
    "for key, value in output_file_names.items():\n",
    "    variable = key.upper()\n",
    "    os.environ[variable] = output_path + value\n",
    "    kgtk_environment_variables.append(variable)\n",
    "\n",
    "# KGTK creates a SQLite database to index the knowledge graph.\n",
    "if cache_path:\n",
    "    os.environ['STORE'] = \"{}/wikidata.sqlite3.db\".format(cache_path)\n",
    "else:\n",
    "    os.environ['STORE'] = \"{}/{}/wikidata.sqlite3.db\".format(output_path, temp_folder)\n",
    "kgtk_environment_variables.append('STORE')\n",
    "    \n",
    "# Envronment variables with shortcuts to the commands we use often\n",
    "# os.environ['kgtk'] = kgtk\n",
    "# Use for debugging, but careful as it causes import to dataframes to break\n",
    "# os.environ['kypher'] = \"time kgtk --debug query --graph-cache \" + os.environ['STORE']\n",
    "os.environ['kypher'] = \"kgtk query --graph-cache \" + os.environ['STORE']\n",
    "# kgtk_environment_variables.append('kgtk')\n",
    "kgtk_environment_variables.append('kypher')\n",
    "    \n",
    "# kgtk_environment_variables.sort()\n",
    "for variable in kgtk_environment_variables:\n",
    "    print(\"{}: \\\"{}\\\"\".format(variable, os.environ[variable]))"
   ]
  },
  {
   "cell_type": "markdown",
   "id": "956dabe5",
   "metadata": {},
   "source": [
    "### Main `kgtk` query:"
   ]
  },
  {
   "cell_type": "code",
   "execution_count": 1,
   "id": "0af05714",
   "metadata": {},
   "outputs": [],
   "source": [
    "# SPARQL query: \n",
    "# SELECT ?politicianLabel ?spouseLabel \n",
    "# WHERE\n",
    "# { \n",
    "#   ?politician wdt:P31  wd:Q5 ; \n",
    "#               wdt:P106 wd:Q82955 ; \n",
    "#               wdt:P26  ?spouse . \n",
    "#   SERVICE wikibase:label { bd:serviceParam wikibase:language \"en\". } \n",
    "# } \n",
    "# where `P106` means \"occupation\", `Q82955` means \"politician\", `P26` means \"spouse\";"
   ]
  },
  {
   "cell_type": "code",
   "execution_count": 7,
   "id": "5dbc7fd8",
   "metadata": {},
   "outputs": [],
   "source": [
    "!kgtk query -i $CLAIMS -i $P31 \\\n",
    "            --match 'P31: (politician)-[]->(:Q5), claims: (:Q82955)<-[:P106]-(politician)-[:P26]->(spouse)' \\\n",
    "            --return 'politician, \"P26\" as label, spouse' \\\n",
    "            -o $RESULTS"
   ]
  },
  {
   "cell_type": "markdown",
   "id": "af0a3ad4",
   "metadata": {},
   "source": [
    "### Count known results in Wikidata database:"
   ]
  },
  {
   "cell_type": "markdown",
   "id": "10814a7c",
   "metadata": {},
   "source": [
    "Count politician-spouse pairs / **rows** (result should -1 which is the header):"
   ]
  },
  {
   "cell_type": "code",
   "execution_count": 8,
   "id": "cefd481c",
   "metadata": {
    "scrolled": true
   },
   "outputs": [
    {
     "name": "stdout",
     "output_type": "stream",
     "text": [
      "36849 /nas/home/bohuizha/KG/hunger-for-knowledge/output/spouse_of_politician.tsv\r\n"
     ]
    }
   ],
   "source": [
    "!wc -l $RESULTS"
   ]
  },
  {
   "cell_type": "markdown",
   "id": "b9bae014",
   "metadata": {},
   "source": [
    "Count how many **unique politicians** have spouse in Wikidata:"
   ]
  },
  {
   "cell_type": "code",
   "execution_count": 9,
   "id": "8b899374",
   "metadata": {},
   "outputs": [
    {
     "name": "stdout",
     "output_type": "stream",
     "text": [
      "N\r\n",
      "30281\r\n"
     ]
    }
   ],
   "source": [
    "!kgtk query -i $RESULTS \\\n",
    "            --match '(p)-[]->()' \\\n",
    "            --return 'count(distinct p) as N'"
   ]
  },
  {
   "cell_type": "markdown",
   "id": "b22f3eaa",
   "metadata": {},
   "source": [
    "### Find unknow results in Wikidata database:\n",
    "- Find all politicians"
   ]
  },
  {
   "cell_type": "code",
   "execution_count": 10,
   "id": "42864fd2",
   "metadata": {},
   "outputs": [],
   "source": [
    "!kgtk query -i $CLAIMS -i $P31 \\\n",
    "            --match 'P31: (politician)-[]->(:Q5), claims: (politician)-[:P106]->(:Q82955)' \\\n",
    "            --return 'politician as node1, \"P106\" as label, \"Q82955\" as node2' \\\n",
    "            -o $POLITICIAN"
   ]
  },
  {
   "cell_type": "markdown",
   "id": "40dcc0bd",
   "metadata": {},
   "source": [
    "- Eliminate politicians who have spouse(s)"
   ]
  },
  {
   "cell_type": "code",
   "execution_count": 11,
   "id": "bd71221f",
   "metadata": {},
   "outputs": [],
   "source": [
    "!kgtk ifnotexists -i $POLITICIAN \\\n",
    "                  --filter-on $RESULTS \\\n",
    "                  --input-keys node1 \\\n",
    "                  --filter-keys node1 \\\n",
    "                  -o $QUERY_FILE"
   ]
  },
  {
   "cell_type": "markdown",
   "id": "7628acfd",
   "metadata": {},
   "source": [
    "### Count unknown results in Wikidata database:"
   ]
  },
  {
   "cell_type": "code",
   "execution_count": 12,
   "id": "8f8d2bca",
   "metadata": {},
   "outputs": [
    {
     "name": "stdout",
     "output_type": "stream",
     "text": [
      "N\r\n",
      "593029\r\n"
     ]
    }
   ],
   "source": [
    "!kgtk query -i $QUERY_FILE \\\n",
    "            --match '(p)-[]->()' \\\n",
    "            --return 'count(distinct p) as N'"
   ]
  },
  {
   "cell_type": "markdown",
   "id": "juvenile-element",
   "metadata": {},
   "source": [
    "# Step 2 Infer properties"
   ]
  },
  {
   "cell_type": "markdown",
   "id": "94ef1eac",
   "metadata": {},
   "source": [
    "Use query results from Wikidata database to infer properties in Wikidata infobox and return the most frequent property."
   ]
  },
  {
   "cell_type": "code",
   "execution_count": 13,
   "id": "forbidden-neighbor",
   "metadata": {},
   "outputs": [
    {
     "name": "stdout",
     "output_type": "stream",
     "text": [
      "label\tN\r\n",
      "property:spouse\t5688\r\n"
     ]
    }
   ],
   "source": [
    "!kgtk query -i $RESULTS -i $WIKI_INFO \\\n",
    "            --match 's: (politician)-[]->(v), w: (politician)-[p]->(v)' \\\n",
    "            --return 'p.label, count(v) as N' \\\n",
    "            --order-by 'N desc' \\\n",
    "            --limit 1"
   ]
  },
  {
   "cell_type": "markdown",
   "id": "distant-norway",
   "metadata": {},
   "source": [
    "# Step 3 Run query in Wikidata infobox "
   ]
  },
  {
   "cell_type": "markdown",
   "id": "parliamentary-station",
   "metadata": {},
   "source": [
    "For those don't have spouse, query in Wikidata infobox:"
   ]
  },
  {
   "cell_type": "code",
   "execution_count": 15,
   "id": "proved-extension",
   "metadata": {},
   "outputs": [],
   "source": [
    "!kgtk query -i $QUERY_FILE -i $WIKI_INFO \\\n",
    "            --match 'p: (politician)-[]->(), w: (politician)-[property]->(spouse)' \\\n",
    "            --where 'property.label = \"property:spouse\"' \\\n",
    "            --return 'politician, property.label, spouse' \\\n",
    "            -o $NEW_RESULTS"
   ]
  },
  {
   "cell_type": "markdown",
   "id": "31fc5cec",
   "metadata": {},
   "source": [
    "- Count rows of new findings:"
   ]
  },
  {
   "cell_type": "code",
   "execution_count": 16,
   "id": "b8f80588",
   "metadata": {},
   "outputs": [
    {
     "data": {
      "text/plain": [
       "58733"
      ]
     },
     "execution_count": 16,
     "metadata": {},
     "output_type": "execute_result"
    }
   ],
   "source": [
    "new_results_line = !wc -l < $NEW_RESULTS\n",
    "new_results_line = int(new_results_line[0]) - 1\n",
    "# new_results_line"
   ]
  },
  {
   "cell_type": "markdown",
   "id": "e6dcef7a",
   "metadata": {},
   "source": [
    "- Count unique politicians of new findings:"
   ]
  },
  {
   "cell_type": "code",
   "execution_count": 17,
   "id": "fbba6416",
   "metadata": {},
   "outputs": [
    {
     "data": {
      "text/plain": [
       "39438"
      ]
     },
     "execution_count": 17,
     "metadata": {},
     "output_type": "execute_result"
    }
   ],
   "source": [
    "new_results_distinct = !kgtk query \\\n",
    "    -i $NEW_RESULTS \\\n",
    "    --match 'n: (p)-[]->()' \\\n",
    "    --return 'count(distinct p) as N'\n",
    "new_results_distinct = int(new_results_distinct[1])\n",
    "# new_results_distinct"
   ]
  },
  {
   "cell_type": "markdown",
   "id": "56b8c84c",
   "metadata": {},
   "source": [
    "# Step 4 Datatype distribution of new findings"
   ]
  },
  {
   "cell_type": "markdown",
   "id": "176881e4",
   "metadata": {},
   "source": [
    "Collect lines' number and distinct entities' number:"
   ]
  },
  {
   "cell_type": "code",
   "execution_count": 20,
   "id": "4ff17c77",
   "metadata": {},
   "outputs": [],
   "source": [
    "lines = [\"Lines\"]\n",
    "entities = [\"Entities\"]"
   ]
  },
  {
   "cell_type": "markdown",
   "id": "2a5db2e5",
   "metadata": {},
   "source": [
    "### 1. Numbers:"
   ]
  },
  {
   "cell_type": "markdown",
   "id": "130f4a19",
   "metadata": {},
   "source": [
    "- Rows:"
   ]
  },
  {
   "cell_type": "code",
   "execution_count": 21,
   "id": "9cbbae09",
   "metadata": {},
   "outputs": [],
   "source": [
    "!kgtk query -i $NEW_RESULTS \\\n",
    "            --match 'n: (p)-[]->(s)' \\\n",
    "            --where 'kgtk_number(s)' \\\n",
    "            -o $NUMBERS\n",
    "\n",
    "numbers_line = !wc -l < $NUMBERS\n",
    "numbers_line = int(numbers_line[0]) - 1\n",
    "lines.append(numbers_line)\n",
    "# numbers_line"
   ]
  },
  {
   "cell_type": "markdown",
   "id": "1e3c10cd",
   "metadata": {},
   "source": [
    "- Unique politicians:"
   ]
  },
  {
   "cell_type": "code",
   "execution_count": 22,
   "id": "23490768",
   "metadata": {},
   "outputs": [],
   "source": [
    "numbers_distinct = !kgtk query -i $NUMBERS \\\n",
    "    --match '(p)-[]->()' \\\n",
    "    --return 'count(distinct p) as N'\n",
    "numbers_distinct = int(numbers_distinct[1])\n",
    "entities.append(numbers_distinct)\n",
    "# numbers_distinct"
   ]
  },
  {
   "cell_type": "markdown",
   "id": "69bdd945",
   "metadata": {},
   "source": [
    "- Check if data type is useful:"
   ]
  },
  {
   "cell_type": "code",
   "execution_count": 21,
   "id": "8133f72e",
   "metadata": {},
   "outputs": [
    {
     "name": "stdout",
     "output_type": "stream",
     "text": [
      "node1      label            node2\r\n",
      "Q1000051   property:spouse  1913\r\n",
      "Q1000502   property:spouse  1947\r\n",
      "Q100942    property:spouse  1907\r\n",
      "Q1027026   property:spouse  1988\r\n",
      "Q1027380   property:spouse  1831\r\n",
      "Q1027380   property:spouse  1837\r\n",
      "Q1027380   property:spouse  1842\r\n",
      "Q1029113   property:spouse  1872\r\n",
      "Q10292736  property:spouse  1970\r\n"
     ]
    }
   ],
   "source": [
    "!head $NUMBERS | column -ts $'\\t'"
   ]
  },
  {
   "cell_type": "markdown",
   "id": "202ff513",
   "metadata": {},
   "source": [
    "**Not** useful!"
   ]
  },
  {
   "cell_type": "markdown",
   "id": "4178ff30",
   "metadata": {},
   "source": [
    "- Duplicates (politicians that have multiple numbers):"
   ]
  },
  {
   "cell_type": "code",
   "execution_count": null,
   "id": "966e663d",
   "metadata": {},
   "outputs": [],
   "source": [
    "!kgtk query -i $NUMBERS \\\n",
    "            --match '(p)-[]->(s)' \\\n",
    "            --return 'p, count(s) as N' \\\n",
    "            --order-by 'N desc'"
   ]
  },
  {
   "cell_type": "markdown",
   "id": "8422f099",
   "metadata": {},
   "source": [
    "### 2. Structured literals:"
   ]
  },
  {
   "cell_type": "markdown",
   "id": "c2f6b480",
   "metadata": {},
   "source": [
    "- Rows:"
   ]
  },
  {
   "cell_type": "code",
   "execution_count": 23,
   "id": "8d05ad37",
   "metadata": {},
   "outputs": [],
   "source": [
    "!kgtk query -i $NEW_RESULTS -i $WIKI_INFO \\\n",
    "            --match 'n: (q)-[p]->(s), w: (s)-[sv]->(v)' \\\n",
    "            --where 'NOT kgtk_lqstring(s) AND NOT kgtk_number(s) AND sv.label = \"dbpedia:structured_value\"' \\\n",
    "            --return 'q, p.label, v' \\\n",
    "            -o $STRUCTURED_LITERALS\n",
    "\n",
    "structured_literals_line = !wc -l < $STRUCTURED_LITERALS\n",
    "structured_literals_line = int(structured_literals_line[0]) - 1\n",
    "lines.append(structured_literals_line)\n",
    "# structured_literals_line"
   ]
  },
  {
   "cell_type": "markdown",
   "id": "dff318d1",
   "metadata": {},
   "source": [
    "- Unique politicians:"
   ]
  },
  {
   "cell_type": "code",
   "execution_count": 24,
   "id": "10c96375",
   "metadata": {},
   "outputs": [],
   "source": [
    "structured_literals_distinct = !kgtk query -i $STRUCTURED_LITERALS \\\n",
    "    --match '(p)-[]->()' \\\n",
    "    --return 'count(distinct p) as N'\n",
    "\n",
    "structured_literals_distinct = int(structured_literals_distinct[1])\n",
    "entities.append(structured_literals_distinct)\n",
    "# structured_literals_distinct"
   ]
  },
  {
   "cell_type": "markdown",
   "id": "2373f397",
   "metadata": {},
   "source": [
    "- Check if data type is useful:"
   ]
  },
  {
   "cell_type": "code",
   "execution_count": 24,
   "id": "886173dd",
   "metadata": {},
   "outputs": [
    {
     "name": "stdout",
     "output_type": "stream",
     "text": [
      "node1     label            node2\r\n",
      "Q1027380  property:spouse  \"1839-07-23\"\r\n",
      "Q1027380  property:spouse  \"1845-05-27\"\r\n",
      "Q1037067  property:spouse  \"1868-07-14\"\r\n",
      "Q1064442  property:spouse  \"1895-05-11\"\r\n",
      "Q1065552  property:spouse  \"1914-01-31\"\r\n",
      "Q1066516  property:spouse  \"1803-10-04\"\r\n",
      "Q1066645  property:spouse  \"1939-09-03\"\r\n",
      "Q1066645  property:spouse  \"1996-08-01\"\r\n",
      "Q1070523  property:spouse  \"1981-04-16\"\r\n"
     ]
    }
   ],
   "source": [
    "!head $STRUCTURED_LITERALS | column -ts $'\\t'"
   ]
  },
  {
   "cell_type": "markdown",
   "id": "2a689cf7",
   "metadata": {},
   "source": [
    "**Not** useful!"
   ]
  },
  {
   "cell_type": "markdown",
   "id": "1ea92773",
   "metadata": {},
   "source": [
    "- Duplicates:"
   ]
  },
  {
   "cell_type": "code",
   "execution_count": null,
   "id": "7a76346c",
   "metadata": {},
   "outputs": [],
   "source": [
    "!kgtk query -i $STRUCTURED_LITERALS \\\n",
    "            --match '(p)-[]->(s)' \\\n",
    "            --return 'p, count(s) as N' \\\n",
    "            --order-by 'N desc'"
   ]
  },
  {
   "cell_type": "markdown",
   "id": "b651b98e",
   "metadata": {},
   "source": [
    "### 3. Strings:"
   ]
  },
  {
   "cell_type": "markdown",
   "id": "c5426c3e",
   "metadata": {},
   "source": [
    "#### Ver 1: Filter all empty strings"
   ]
  },
  {
   "cell_type": "markdown",
   "id": "c3eb4f46",
   "metadata": {},
   "source": [
    "- Rows:"
   ]
  },
  {
   "cell_type": "code",
   "execution_count": 25,
   "id": "f2f32498",
   "metadata": {},
   "outputs": [
    {
     "data": {
      "text/plain": [
       "42300"
      ]
     },
     "execution_count": 25,
     "metadata": {},
     "output_type": "execute_result"
    }
   ],
   "source": [
    "!kgtk query -i $NEW_RESULTS \\\n",
    "            --match 'n: (p)-[]->(s)' \\\n",
    "            --where 'kgtk_lqstring(s) AND kgtk_lqstring_text(s) != \"\"' \\\n",
    "            -o $STRINGS\n",
    "\n",
    "strings_line = !wc -l < $STRINGS\n",
    "strings_line = int(strings_line[0]) - 1\n",
    "lines.append(strings_line)\n",
    "# strings_line"
   ]
  },
  {
   "cell_type": "markdown",
   "id": "25bce846",
   "metadata": {},
   "source": [
    "- Unique politicians:"
   ]
  },
  {
   "cell_type": "code",
   "execution_count": 26,
   "id": "bbff1f56",
   "metadata": {},
   "outputs": [
    {
     "data": {
      "text/plain": [
       "38018"
      ]
     },
     "execution_count": 26,
     "metadata": {},
     "output_type": "execute_result"
    }
   ],
   "source": [
    "strings_distinct = !kgtk query -i $STRINGS \\\n",
    "    --match '(p)-[]->()' \\\n",
    "    --return 'count(distinct p) as N'\n",
    "strings_distinct = int(strings_distinct[1])\n",
    "entities.append(strings_distinct)\n",
    "# strings_distinct"
   ]
  },
  {
   "cell_type": "markdown",
   "id": "149b04c4",
   "metadata": {},
   "source": [
    "- Check if the data type is useful:"
   ]
  },
  {
   "cell_type": "code",
   "execution_count": 28,
   "id": "7c526e83",
   "metadata": {},
   "outputs": [
    {
     "name": "stdout",
     "output_type": "stream",
     "text": [
      "node1     label            node2\r\n",
      "Q1000051  property:spouse  'Agnes Veronica O\\'Leary'@en\r\n",
      "Q1000061  property:spouse  'Yelena Taratuta'@en\r\n",
      "Q1000314  property:spouse  'Helen O\\'Connor'@en\r\n",
      "Q1000401  property:spouse  'Klára Siklay'@en\r\n",
      "Q1000502  property:spouse  'Marion Lucille McLachlan'@en\r\n",
      "Q1000799  property:spouse  'Elizabeth Harris'@en\r\n",
      "Q1000799  property:spouse  'Marjorie Greenwood Cormack'@en\r\n",
      "Q1000957  property:spouse  'Countess Júlia Károlyi de Nagykároly'@en\r\n",
      "Q1001178  property:spouse  'Judit Kovách'@en\r\n"
     ]
    }
   ],
   "source": [
    "!head $STRINGS | column -ts $'\\t'"
   ]
  },
  {
   "cell_type": "markdown",
   "id": "ab70b3c8",
   "metadata": {},
   "source": [
    "Useful!"
   ]
  },
  {
   "cell_type": "markdown",
   "id": "abb8aed5",
   "metadata": {},
   "source": [
    "#### Ver 2: query all and analyze"
   ]
  },
  {
   "cell_type": "markdown",
   "id": "0fc07195",
   "metadata": {},
   "source": [
    "- Rows:"
   ]
  },
  {
   "cell_type": "code",
   "execution_count": 8,
   "id": "8ec4a1ba",
   "metadata": {},
   "outputs": [
    {
     "data": {
      "text/plain": [
       "48167"
      ]
     },
     "execution_count": 8,
     "metadata": {},
     "output_type": "execute_result"
    }
   ],
   "source": [
    "!kgtk query -i $NEW_RESULTS \\\n",
    "            --match 'n: (p)-[]->(s)' \\\n",
    "            --where 'kgtk_lqstring(s)' \\\n",
    "            -o $STRINGS\n",
    "\n",
    "strings_line = !wc -l < $STRINGS\n",
    "strings_line = int(strings_line[0]) - 1\n",
    "lines.append(strings_line)\n",
    "# strings_line"
   ]
  },
  {
   "cell_type": "markdown",
   "id": "45f7db13",
   "metadata": {},
   "source": [
    "- Unique politicians:"
   ]
  },
  {
   "cell_type": "code",
   "execution_count": 9,
   "id": "5dd16e99",
   "metadata": {},
   "outputs": [
    {
     "data": {
      "text/plain": [
       "38314"
      ]
     },
     "execution_count": 9,
     "metadata": {},
     "output_type": "execute_result"
    }
   ],
   "source": [
    "strings_distinct = !kgtk query -i $STRINGS \\\n",
    "    --match '(p)-[]->()' \\\n",
    "    --return 'count(distinct p) as N'\n",
    "\n",
    "strings_distinct = int(strings_distinct[1])\n",
    "entities.append(strings_distinct)\n",
    "# strings_distinct"
   ]
  },
  {
   "cell_type": "markdown",
   "id": "54765570",
   "metadata": {},
   "source": [
    "Check if the data type is useful:"
   ]
  },
  {
   "cell_type": "code",
   "execution_count": 27,
   "id": "ece59714",
   "metadata": {
    "scrolled": true
   },
   "outputs": [
    {
     "name": "stdout",
     "output_type": "stream",
     "text": [
      "node1     label            node2\r\n",
      "Q1000051  property:spouse  ''@en\r\n",
      "Q1000051  property:spouse  'Agnes Veronica O\\'Leary'@en\r\n",
      "Q1000061  property:spouse  'Yelena Taratuta'@en\r\n",
      "Q1000314  property:spouse  'Helen O\\'Connor'@en\r\n",
      "Q1000401  property:spouse  'Klára Siklay'@en\r\n",
      "Q1000502  property:spouse  ''@en\r\n",
      "Q1000502  property:spouse  'Marion Lucille McLachlan'@en\r\n",
      "Q1000799  property:spouse  'Elizabeth Harris'@en\r\n",
      "Q1000799  property:spouse  'Marjorie Greenwood Cormack'@en\r\n"
     ]
    }
   ],
   "source": [
    "!head $STRINGS | column -ts $'\\t'"
   ]
  },
  {
   "cell_type": "markdown",
   "id": "651b1a50",
   "metadata": {},
   "source": [
    "Useful, but need cleaning."
   ]
  },
  {
   "cell_type": "markdown",
   "id": "7af6d532",
   "metadata": {},
   "source": [
    "- Duplicates:"
   ]
  },
  {
   "cell_type": "code",
   "execution_count": null,
   "id": "0e5c5d8d",
   "metadata": {},
   "outputs": [],
   "source": [
    "!kgtk query -i $STRINGS \\\n",
    "            --match '(p)-[]->(s)' \\\n",
    "            --return 'p, count(s) as N' \\\n",
    "            --order-by 'N desc'"
   ]
  },
  {
   "cell_type": "markdown",
   "id": "c28260f6",
   "metadata": {},
   "source": [
    "#### Empty:"
   ]
  },
  {
   "cell_type": "markdown",
   "id": "fce87776",
   "metadata": {},
   "source": [
    "- Rows:"
   ]
  },
  {
   "cell_type": "code",
   "execution_count": 11,
   "id": "b5f8afe3",
   "metadata": {},
   "outputs": [
    {
     "data": {
      "text/plain": [
       "5867"
      ]
     },
     "execution_count": 11,
     "metadata": {},
     "output_type": "execute_result"
    }
   ],
   "source": [
    "!kgtk query -i $NEW_RESULTS \\\n",
    "            --match 'n: (p)-[]->(s)' \\\n",
    "            --where 'kgtk_lqstring_text(s) = \"\"' \\\n",
    "            -o $EMPTY_STRINGS\n",
    "\n",
    "empty_lines = !wc -l < $EMPTY_STRINGS\n",
    "int(empty_lines[0]) - 1"
   ]
  },
  {
   "cell_type": "markdown",
   "id": "45f319e3",
   "metadata": {},
   "source": [
    "- Unique politicians:"
   ]
  },
  {
   "cell_type": "code",
   "execution_count": 12,
   "id": "ce64bebb",
   "metadata": {},
   "outputs": [
    {
     "data": {
      "text/plain": [
       "5867"
      ]
     },
     "execution_count": 12,
     "metadata": {},
     "output_type": "execute_result"
    }
   ],
   "source": [
    "empty_distinct = !kgtk query -i $EMPTY_STRINGS \\\n",
    "    --match 'n: (p)-[]->()' \\\n",
    "    --return 'count(distinct p) as N'\n",
    "\n",
    "int(empty_distinct[1])"
   ]
  },
  {
   "cell_type": "markdown",
   "id": "981b6d2a",
   "metadata": {},
   "source": [
    "which means there is no duplicate for empty string politician results."
   ]
  },
  {
   "cell_type": "markdown",
   "id": "e5a6ceb5",
   "metadata": {},
   "source": [
    "#### Further check empty strings:\n",
    "Since some of the empty items not excatly mean only return empty for that politician, for example, `Q1133864` has three spouse values: `nodemxZbyK2VRrGoaxfdLmyLxw-7343552`, `'Ethel Arnold'@en`, and `''@en`, so it need further check."
   ]
  },
  {
   "cell_type": "markdown",
   "id": "a08feeff",
   "metadata": {},
   "source": [
    "First we filter out all non-empty strings:"
   ]
  },
  {
   "cell_type": "code",
   "execution_count": 14,
   "id": "2af1392a",
   "metadata": {},
   "outputs": [],
   "source": [
    "!kgtk query -i $NEW_RESULTS \\\n",
    "            --match 'n: (p)-[]->(s)' \\\n",
    "            --where 'NOT kgtk_lqstring(s) OR kgtk_lqstring_text(s) != \"\"' \\\n",
    "            -o $NON_EMPTY"
   ]
  },
  {
   "cell_type": "markdown",
   "id": "824d6ea4",
   "metadata": {},
   "source": [
    "Then we filter those in empty but also have spouse in non-empty ones, then we can count how many \"pure\" empty:"
   ]
  },
  {
   "cell_type": "code",
   "execution_count": 15,
   "id": "e70a2b64",
   "metadata": {},
   "outputs": [
    {
     "data": {
      "text/plain": [
       "16"
      ]
     },
     "execution_count": 15,
     "metadata": {},
     "output_type": "execute_result"
    }
   ],
   "source": [
    "!kgtk ifnotexists -i $EMPTY_STRINGS \\\n",
    "                  --filter-on $NON_EMPTY \\\n",
    "                  --input-keys node1 \\\n",
    "                  --filter-keys node1 \\\n",
    "                  -o $PURE_EMPTY\n",
    "\n",
    "pure_empty_line = !wc -l < $PURE_EMPTY\n",
    "int(pure_empty_line[0]) - 1"
   ]
  },
  {
   "cell_type": "code",
   "execution_count": 17,
   "id": "8439ddd1",
   "metadata": {},
   "outputs": [
    {
     "data": {
      "text/plain": [
       "16"
      ]
     },
     "execution_count": 17,
     "metadata": {},
     "output_type": "execute_result"
    }
   ],
   "source": [
    "pure_empty_distinct = !kgtk query -i $PURE_EMPTY \\\n",
    "    --match 'p: (politician)-[]->()' \\\n",
    "    --return 'count(distinct politician) as N'\n",
    "\n",
    "int(pure_empty_distinct[1])"
   ]
  },
  {
   "cell_type": "markdown",
   "id": "b9976332",
   "metadata": {},
   "source": [
    "Check one of them by hand:"
   ]
  },
  {
   "cell_type": "code",
   "execution_count": 18,
   "id": "947886db",
   "metadata": {},
   "outputs": [
    {
     "name": "stdout",
     "output_type": "stream",
     "text": [
      "node1      label            node2\r\n",
      "Q1594657   property:spouse  ''@en\r\n",
      "Q16727834  property:spouse  ''@en\r\n",
      "Q1714588   property:spouse  ''@en\r\n",
      "Q205993    property:spouse  ''@en\r\n",
      "Q22443695  property:spouse  ''@en\r\n",
      "Q250177    property:spouse  ''@en\r\n",
      "Q3326309   property:spouse  ''@en\r\n",
      "Q5441059   property:spouse  ''@en\r\n",
      "Q5529328   property:spouse  ''@en\r\n"
     ]
    }
   ],
   "source": [
    "!head $PURE_EMPTY | column -ts $'\\t'"
   ]
  },
  {
   "cell_type": "code",
   "execution_count": 19,
   "id": "00559637",
   "metadata": {},
   "outputs": [
    {
     "name": "stdout",
     "output_type": "stream",
     "text": [
      "node1\tlabel\tnode2\r\n",
      "Q1594657\tproperty:spouse\t''@en\r\n"
     ]
    }
   ],
   "source": [
    "!kgtk query -i $NEW_RESULTS \\\n",
    "            --match '(q:Q1594657)-[p]->(v)' \\\n",
    "            --return 'q, p.label, v'"
   ]
  },
  {
   "cell_type": "markdown",
   "id": "8a7cce72",
   "metadata": {},
   "source": [
    "### 4. Qnodes"
   ]
  },
  {
   "cell_type": "markdown",
   "id": "ceeb8a67",
   "metadata": {},
   "source": [
    "- Rows:"
   ]
  },
  {
   "cell_type": "code",
   "execution_count": 27,
   "id": "0328daad",
   "metadata": {},
   "outputs": [
    {
     "data": {
      "text/plain": [
       "1250"
      ]
     },
     "execution_count": 27,
     "metadata": {},
     "output_type": "execute_result"
    }
   ],
   "source": [
    "!kgtk query -i $NEW_RESULTS \\\n",
    "            --match 'n:()-[]->(q)' \\\n",
    "            --where 'NOT kgtk_lqstring(q) AND NOT kgtk_number(q)' \\\n",
    "            -o $NODES\n",
    "\n",
    "!kgtk ifnotexists -i $NODES \\\n",
    "                  --filter-on $STRUCTURED_LITERALS \\\n",
    "                  --input-keys node1 \\\n",
    "                  --filter-keys node1 \\\n",
    "                  -o $QNODES\n",
    "\n",
    "qnodes_line = !wc -l < $QNODES\n",
    "qnodes_line = int(qnodes_line[0]) - 1\n",
    "lines.append(qnodes_line)\n",
    "# qnodes_line"
   ]
  },
  {
   "cell_type": "markdown",
   "id": "9ca4dafd",
   "metadata": {},
   "source": [
    "- Unique politicians:"
   ]
  },
  {
   "cell_type": "code",
   "execution_count": 29,
   "id": "cf43b298",
   "metadata": {},
   "outputs": [
    {
     "data": {
      "text/plain": [
       "1238"
      ]
     },
     "execution_count": 29,
     "metadata": {},
     "output_type": "execute_result"
    }
   ],
   "source": [
    "qnodes_distinct = !kgtk query -i $QNODES \\\n",
    "    --match '(p)-[]->()' \\\n",
    "    --return 'count(distinct p) as N'\n",
    "\n",
    "qnodes_distinct = int(qnodes_distinct[1])\n",
    "entities.append(qnodes_distinct)\n",
    "# qnodes_distinct"
   ]
  },
  {
   "cell_type": "markdown",
   "id": "baf1e6dc",
   "metadata": {},
   "source": [
    "- Check if the data type is useful:"
   ]
  },
  {
   "cell_type": "code",
   "execution_count": 31,
   "id": "43fbcdf2",
   "metadata": {},
   "outputs": [
    {
     "name": "stdout",
     "output_type": "stream",
     "text": [
      "node1      label            node2\r\n",
      "Q10296812  property:spouse  Q24279259\r\n",
      "Q10311321  property:spouse  Q21020057\r\n",
      "Q10316641  property:spouse  Q3781041\r\n",
      "Q10321616  property:spouse  Q30939176\r\n",
      "Q103926    property:spouse  Q541118\r\n",
      "Q1045405   property:spouse  Q3052569\r\n",
      "Q104705    property:spouse  Q7853663\r\n",
      "Q1053248   property:spouse  Q6041867\r\n",
      "Q1064126   property:spouse  Q560127\r\n"
     ]
    }
   ],
   "source": [
    "!head $QNODES | column -ts $'\\t'"
   ]
  },
  {
   "cell_type": "markdown",
   "id": "d052c471",
   "metadata": {},
   "source": [
    "Check one of them by hand on Internet and it is useful!"
   ]
  },
  {
   "cell_type": "markdown",
   "id": "16fce563",
   "metadata": {},
   "source": [
    "- Duplicates:"
   ]
  },
  {
   "cell_type": "code",
   "execution_count": 30,
   "id": "6a4af2f5",
   "metadata": {},
   "outputs": [
    {
     "name": "stdout",
     "output_type": "stream",
     "text": [
      "node1\tN\r\n",
      "Q8298365\t2\r\n",
      "Q8016992\t2\r\n",
      "Q6957644\t2\r\n",
      "Q6832113\t2\r\n",
      "Q6779683\t2\r\n",
      "Q6385397\t2\r\n",
      "Q6350598\t2\r\n",
      "Q434765\t2\r\n",
      "Q31865\t2\r\n",
      "Q315613\t2\r\n"
     ]
    }
   ],
   "source": [
    "!kgtk query -i $QNODES \\\n",
    "            --match '(p)-[]->(s)' \\\n",
    "            --return 'p, count(s) as N' \\\n",
    "            --order-by 'N desc' \\\n",
    "            --limit 10"
   ]
  },
  {
   "cell_type": "markdown",
   "id": "e6dec05b",
   "metadata": {},
   "source": [
    "### 5. Summary"
   ]
  },
  {
   "cell_type": "code",
   "execution_count": 34,
   "id": "43bf157f",
   "metadata": {},
   "outputs": [],
   "source": [
    "from prettytable import PrettyTable"
   ]
  },
  {
   "cell_type": "code",
   "execution_count": 35,
   "id": "afe9c3da",
   "metadata": {},
   "outputs": [
    {
     "name": "stdout",
     "output_type": "stream",
     "text": [
      "+-----------+---------+---------+---------------------+--------+\n",
      "| Data type | Numbers | Strings | Structured literals | Qnodes |\n",
      "+-----------+---------+---------+---------------------+--------+\n",
      "|   Lines   |   7334  |   1942  |        42300        |  1250  |\n",
      "|  Entities |   4586  |   1460  |        38018        |  1238  |\n",
      "+-----------+---------+---------+---------------------+--------+\n"
     ]
    }
   ],
   "source": [
    "x = PrettyTable()\n",
    "\n",
    "x.field_names = [\"Data type\", \"Numbers\", \"Strings\", \"Structured literals\", \"Qnodes\"]\n",
    "\n",
    "x.add_row(lines)\n",
    "x.add_row(entities)\n",
    "\n",
    "print(x)"
   ]
  },
  {
   "cell_type": "code",
   "execution_count": null,
   "id": "33a29999",
   "metadata": {},
   "outputs": [],
   "source": []
  }
 ],
 "metadata": {
  "kernelspec": {
   "display_name": "Python 3",
   "language": "python",
   "name": "python3"
  },
  "language_info": {
   "codemirror_mode": {
    "name": "ipython",
    "version": 3
   },
   "file_extension": ".py",
   "mimetype": "text/x-python",
   "name": "python",
   "nbconvert_exporter": "python",
   "pygments_lexer": "ipython3",
   "version": "3.7.10"
  }
 },
 "nbformat": 4,
 "nbformat_minor": 5
}
