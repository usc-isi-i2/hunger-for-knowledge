{
 "cells": [
  {
   "cell_type": "markdown",
   "id": "336cd912",
   "metadata": {},
   "source": [
    "# Step 0 Set up `kgtk`\n",
    "Check `kgtk` GitHub with branch `dev`;"
   ]
  },
  {
   "cell_type": "markdown",
   "id": "cross-eating",
   "metadata": {},
   "source": [
    "# Step 1 User Query"
   ]
  },
  {
   "cell_type": "markdown",
   "id": "fbbb6d61",
   "metadata": {},
   "source": [
    "Example description: find industry of companies;"
   ]
  },
  {
   "cell_type": "code",
   "execution_count": 1,
   "id": "574e29c0",
   "metadata": {},
   "outputs": [],
   "source": [
    "import os"
   ]
  },
  {
   "cell_type": "markdown",
   "id": "b3686ae6",
   "metadata": {},
   "source": [
    "### Define alias and variables"
   ]
  },
  {
   "cell_type": "code",
   "execution_count": 3,
   "id": "04289761",
   "metadata": {},
   "outputs": [
    {
     "name": "stdout",
     "output_type": "stream",
     "text": [
      "DATABASE: \"/nas/home/bohuizha/KG/hunger-for-knowledge/data/\"\n",
      "CLAIMS: \"/nas/home/bohuizha/KG/hunger-for-knowledge/data/claims.tsv\"\n",
      "WIKI_INFO: \"/nas/home/bohuizha/KG/hunger-for-knowledge/data/wikidata_infobox.tsv\"\n",
      "P31: \"/nas/home/bohuizha/KG/hunger-for-knowledge/data/P31.tsv\"\n",
      "P279STAR: \"/nas/home/bohuizha/KG/hunger-for-knowledge/data/P279star.tsv\"\n",
      "LABELS: \"/nas/home/bohuizha/KG/hunger-for-knowledge/data/labels.en.tsv\"\n",
      "OUTPUT: \"/nas/home/bohuizha/KG/hunger-for-knowledge/output/\"\n",
      "RESULTS: \"/nas/home/bohuizha/KG/hunger-for-knowledge/output/industry_of_company.tsv\"\n",
      "NEW_RESULTS: \"/nas/home/bohuizha/KG/hunger-for-knowledge/output/new_industry_of_company.tsv\"\n",
      "ENTITY: \"/nas/home/bohuizha/KG/hunger-for-knowledge/output/company.tsv\"\n",
      "QUERY_FILE: \"/nas/home/bohuizha/KG/hunger-for-knowledge/output/company_wo_industry.tsv\"\n",
      "DIRECT_INFER: \"/nas/home/bohuizha/KG/hunger-for-knowledge/output/direct_infer.tsv\"\n",
      "INDIRECT_INFER: \"/nas/home/bohuizha/KG/hunger-for-knowledge/output/indirect_infer.tsv\"\n",
      "INFERS: \"/nas/home/bohuizha/KG/hunger-for-knowledge/output/infers.tsv\"\n",
      "NUMBERS: \"/nas/home/bohuizha/KG/hunger-for-knowledge/output/numbers.tsv\"\n",
      "STRINGS: \"/nas/home/bohuizha/KG/hunger-for-knowledge/output/strings.tsv\"\n",
      "EMPTY_STRINGS: \"/nas/home/bohuizha/KG/hunger-for-knowledge/output/empty_strings.tsv\"\n",
      "PURE_EMPTY: \"/nas/home/bohuizha/KG/hunger-for-knowledge/output/pure_empty.tsv\"\n",
      "NON_EMPTY: \"/nas/home/bohuizha/KG/hunger-for-knowledge/output/non_empty_strings.tsv\"\n",
      "STRUCTURED_LITERALS: \"/nas/home/bohuizha/KG/hunger-for-knowledge/output/structured_literals.tsv\"\n",
      "NODES: \"/nas/home/bohuizha/KG/hunger-for-knowledge/output/nodes.tsv\"\n",
      "QNODES: \"/nas/home/bohuizha/KG/hunger-for-knowledge/output/qnodes.tsv\"\n",
      "CORRECT_TEMP_1: \"/nas/home/bohuizha/KG/hunger-for-knowledge/output/industry.type-constraints.instanceOf.correct_temp_1.tsv\"\n",
      "CORRECT_TEMP_2: \"/nas/home/bohuizha/KG/hunger-for-knowledge/output/industry.type-constraints.instanceOf.correct_temp_2.tsv\"\n",
      "INCORRECT_TEMP: \"/nas/home/bohuizha/KG/hunger-for-knowledge/output/industry.type-constraints.instanceOf.incorrect_temp.tsv\"\n",
      "CORRECT: \"/nas/home/bohuizha/KG/hunger-for-knowledge/output/industry.type-constraints.instanceOf.correct.tsv\"\n",
      "INCORRECT: \"/nas/home/bohuizha/KG/hunger-for-knowledge/output/industry.type-constraints.instanceOf.incorrect_temp.tsv\"\n",
      "STORE: \"/nas/home/bohuizha/KG/hunger-for-knowledge/kypher/wikidata.sqlite3.db\"\n",
      "kypher: \"kgtk query --graph-cache /nas/home/bohuizha/KG/hunger-for-knowledge/kypher/wikidata.sqlite3.db\"\n"
     ]
    }
   ],
   "source": [
    "# Parameters\n",
    "\n",
    "# Folder where database files store\n",
    "data_path = \"/nas/home/bohuizha/KG/hunger-for-knowledge/data/\"\n",
    "\n",
    "# Folder on local machine where to create the output and temporary folders\n",
    "output_path = \"/nas/home/bohuizha/KG/hunger-for-knowledge/output/\"\n",
    "\n",
    "# Location of the cache database for kypher\n",
    "cache_path = \"/nas/home/bohuizha/KG/hunger-for-knowledge/kypher\"\n",
    "# Whether to delete the cache database\n",
    "delete_database = False\n",
    "\n",
    "# The names of files in the KGTK Wikidata distirbution that we will use in this notebook.\n",
    "data_file_names = {\n",
    "    \"claims\": \"claims.tsv\",\n",
    "    \"wiki_info\": \"wikidata_infobox.tsv\",\n",
    "    \"p31\": \"P31.tsv\",\n",
    "    \"p279star\": \"P279star.tsv\",\n",
    "    \"labels\": \"labels.en.tsv\"\n",
    "}\n",
    "\n",
    "# We will define environment variables to hold the full paths to the files as we will use them in the shell commands\n",
    "kgtk_environment_variables = []\n",
    "\n",
    "os.environ['DATABASE'] = data_path\n",
    "kgtk_environment_variables.append('DATABASE')\n",
    "\n",
    "for key, value in data_file_names.items():\n",
    "    variable = key.upper()\n",
    "    os.environ[variable] = data_path + value\n",
    "    kgtk_environment_variables.append(variable)\n",
    "\n",
    "output_file_names = {\n",
    "    \"results\": \"industry_of_company.tsv\",\n",
    "    \"new_results\": \"new_industry_of_company.tsv\",\n",
    "    \"entity\": \"company.tsv\",\n",
    "    \"query_file\": \"company_wo_industry.tsv\",\n",
    "    \"direct_infer\": \"direct_infer.tsv\",\n",
    "    \"indirect_infer\": \"indirect_infer.tsv\",\n",
    "    \"infers\": \"infers.tsv\",\n",
    "    \"numbers\": \"numbers.tsv\",\n",
    "    \"strings\": \"strings.tsv\",\n",
    "    \"empty_strings\": \"empty_strings.tsv\",\n",
    "    \"pure_empty\": \"pure_empty.tsv\",\n",
    "    \"non_empty\": \"non_empty_strings.tsv\",\n",
    "    \"structured_literals\": \"structured_literals.tsv\",\n",
    "    \"nodes\": \"nodes.tsv\",\n",
    "    \"qnodes\": \"qnodes.tsv\",\n",
    "    \"correct_temp_1\": \"industry.type-constraints.instanceOf.correct_temp_1.tsv\",\n",
    "    \"correct_temp_2\": \"industry.type-constraints.instanceOf.correct_temp_2.tsv\",\n",
    "    \"incorrect_temp\": \"industry.type-constraints.instanceOf.incorrect_temp.tsv\",\n",
    "    \"correct\": \"industry.type-constraints.instanceOf.correct.tsv\",\n",
    "    \"incorrect\": \"industry.type-constraints.instanceOf.incorrect_temp.tsv\"\n",
    "}\n",
    "\n",
    "os.environ['OUTPUT'] = output_path\n",
    "kgtk_environment_variables.append('OUTPUT')\n",
    "\n",
    "for key, value in output_file_names.items():\n",
    "    variable = key.upper()\n",
    "    os.environ[variable] = output_path + value\n",
    "    kgtk_environment_variables.append(variable)\n",
    "\n",
    "# KGTK creates a SQLite database to index the knowledge graph.\n",
    "if cache_path:\n",
    "    os.environ['STORE'] = \"{}/wikidata.sqlite3.db\".format(cache_path)\n",
    "else:\n",
    "    os.environ['STORE'] = \"{}/{}/wikidata.sqlite3.db\".format(output_path, temp_folder)\n",
    "kgtk_environment_variables.append('STORE')\n",
    "    \n",
    "# Envronment variables with shortcuts to the commands we use often\n",
    "# os.environ['kgtk'] = kgtk\n",
    "# Use for debugging, but careful as it causes import to dataframes to break\n",
    "# os.environ['kypher'] = \"time kgtk --debug query --graph-cache \" + os.environ['STORE']\n",
    "os.environ['kypher'] = \"kgtk query --graph-cache \" + os.environ['STORE']\n",
    "# kgtk_environment_variables.append('kgtk')\n",
    "kgtk_environment_variables.append('kypher')\n",
    "    \n",
    "# kgtk_environment_variables.sort()\n",
    "for variable in kgtk_environment_variables:\n",
    "    print(\"{}: \\\"{}\\\"\".format(variable, os.environ[variable]))"
   ]
  },
  {
   "cell_type": "markdown",
   "id": "956dabe5",
   "metadata": {},
   "source": [
    "# Step 2: Wikidata Results"
   ]
  },
  {
   "cell_type": "code",
   "execution_count": 1,
   "id": "0af05714",
   "metadata": {},
   "outputs": [],
   "source": [
    "# SPARQL query: \n",
    "# SELECT DISTINCT ?companyLabel ?industryLabel \n",
    "# WHERE\n",
    "# { \n",
    "#   ?company wdt:P31/wdt:P279*  wd:Q783794 ;\n",
    "#            wdt:P452  ?industry . \n",
    "#   SERVICE wikibase:label { bd:serviceParam wikibase:language \"en\". } \n",
    "# } \n",
    "# where `P106` means \"occupation\", `Q82955` means \"politician\", `P26` means \"spouse\";"
   ]
  },
  {
   "cell_type": "code",
   "execution_count": 25,
   "id": "5dbc7fd8",
   "metadata": {},
   "outputs": [
    {
     "name": "stdout",
     "output_type": "stream",
     "text": [
      "node1\tlabel\tnode2\r\n",
      "Q1000076\tP452\t'manufacturing'@en\r\n",
      "Q1000428\tP452\t'software industry'@en\r\n",
      "Q1000752\tP452\t'public transport'@en\r\n",
      "Q1001167\tP452\t'automotive industry'@en\r\n",
      "Q1001321\tP452\t'automotive industry'@en\r\n",
      "Q1001330\tP452\t'publisher'@en\r\n",
      "Q1001380\tP452\t'video game industry'@en\r\n",
      "Q1001516\tP452\t'drugstore'@en\r\n",
      "Q1001516\tP452\t'retail'@en\r\n",
      "Q1001883\tP452\t'automotive industry'@en\r\n"
     ]
    }
   ],
   "source": [
    "!kgtk query -i $CLAIMS -i $P31 -i $P279STAR -i $LABELS \\\n",
    "            --match 'P31: (company)-[]->(class), P279star: (class)-[]->(:Q783794), claims: (company)-[p:P452]->(industry), labels: (industry)-[]->(industry_label)' \\\n",
    "            --return 'company as node1, \"P452\" as label, industry_label as node2' \\\n",
    "            --limit 10"
   ]
  },
  {
   "cell_type": "code",
   "execution_count": 26,
   "id": "722fc75a",
   "metadata": {},
   "outputs": [],
   "source": [
    "!kgtk query -i $CLAIMS -i $P31 -i $P279STAR \\\n",
    "            --match 'P31: (company)-[]->(class), P279star: (class)-[]->(:Q783794), claims: (company)-[p:P452]->(industry)' \\\n",
    "            --return 'company as node1, \"P452\" as label, industry as node2' \\\n",
    "            -o $RESULTS"
   ]
  },
  {
   "cell_type": "markdown",
   "id": "9f5e372b",
   "metadata": {},
   "source": [
    "Check head of the results:"
   ]
  },
  {
   "cell_type": "code",
   "execution_count": 27,
   "id": "3352c157",
   "metadata": {},
   "outputs": [
    {
     "name": "stdout",
     "output_type": "stream",
     "text": [
      "node1     label  node2\r\n",
      "Q1000076  P452   Q187939\r\n",
      "Q1000428  P452   Q880371\r\n",
      "Q1000752  P452   Q178512\r\n",
      "Q1001167  P452   Q190117\r\n",
      "Q1001321  P452   Q190117\r\n",
      "Q1001330  P452   Q2085381\r\n",
      "Q1001380  P452   Q941594\r\n",
      "Q1001516  P452   Q1260046\r\n",
      "Q1001516  P452   Q126793\r\n"
     ]
    }
   ],
   "source": [
    "!head $RESULTS | column -ts $'\\t'"
   ]
  },
  {
   "cell_type": "markdown",
   "id": "af0a3ad4",
   "metadata": {},
   "source": [
    "### Count known results in Wikidata database:"
   ]
  },
  {
   "cell_type": "markdown",
   "id": "10814a7c",
   "metadata": {},
   "source": [
    "Count entity-value pairs / **rows** (result should -1 which is the header):"
   ]
  },
  {
   "cell_type": "code",
   "execution_count": 8,
   "id": "cefd481c",
   "metadata": {
    "scrolled": true
   },
   "outputs": [
    {
     "name": "stdout",
     "output_type": "stream",
     "text": [
      "19282 /nas/home/bohuizha/KG/hunger-for-knowledge/output/industry_of_company.tsv\r\n"
     ]
    }
   ],
   "source": [
    "!wc -l $RESULTS"
   ]
  },
  {
   "cell_type": "markdown",
   "id": "b9bae014",
   "metadata": {},
   "source": [
    "Count how many **unique entities** have property in Wikidata:"
   ]
  },
  {
   "cell_type": "code",
   "execution_count": 9,
   "id": "8b899374",
   "metadata": {},
   "outputs": [
    {
     "name": "stdout",
     "output_type": "stream",
     "text": [
      "N\r\n",
      "16056\r\n"
     ]
    }
   ],
   "source": [
    "!kgtk query -i $RESULTS \\\n",
    "            --match '(p)-[]->()' \\\n",
    "            --return 'count(distinct p) as N'"
   ]
  },
  {
   "cell_type": "markdown",
   "id": "b22f3eaa",
   "metadata": {},
   "source": [
    "### Find unknow results in Wikidata database:\n",
    "- Find all entities"
   ]
  },
  {
   "cell_type": "code",
   "execution_count": 11,
   "id": "42864fd2",
   "metadata": {},
   "outputs": [],
   "source": [
    "!kgtk query -i $P31 -i $P279STAR \\\n",
    "            --match 'P31: (entity)-[]->(class), P279star: (class)-[]->(:Q783794)' \\\n",
    "            --return 'entity as node1, \"P31\" as label, \"Q783794\" as node2' \\\n",
    "            -o $ENTITY"
   ]
  },
  {
   "cell_type": "markdown",
   "id": "40dcc0bd",
   "metadata": {},
   "source": [
    "- Eliminate entities who have property / properties"
   ]
  },
  {
   "cell_type": "code",
   "execution_count": 12,
   "id": "bd71221f",
   "metadata": {},
   "outputs": [],
   "source": [
    "!kgtk ifnotexists -i $ENTITY \\\n",
    "                  --filter-on $RESULTS \\\n",
    "                  --input-keys node1 \\\n",
    "                  --filter-keys node1 \\\n",
    "                  -o $QUERY_FILE"
   ]
  },
  {
   "cell_type": "markdown",
   "id": "7628acfd",
   "metadata": {},
   "source": [
    "### Count unknown results in Wikidata database:"
   ]
  },
  {
   "cell_type": "code",
   "execution_count": 13,
   "id": "8f8d2bca",
   "metadata": {},
   "outputs": [
    {
     "name": "stdout",
     "output_type": "stream",
     "text": [
      "N\r\n",
      "265805\r\n"
     ]
    }
   ],
   "source": [
    "!kgtk query -i $QUERY_FILE \\\n",
    "            --match '(p)-[]->()' \\\n",
    "            --return 'count(distinct p) as N'"
   ]
  },
  {
   "cell_type": "markdown",
   "id": "juvenile-element",
   "metadata": {},
   "source": [
    "# Step 3 Selection of Additional KG(s)\n",
    "- DBpedia\n",
    "- Getty\n",
    "- Freebase\n",
    "- Company KGs"
   ]
  },
  {
   "cell_type": "markdown",
   "id": "7912bf6c",
   "metadata": {},
   "source": [
    "# Step 4 Schema Alignment\n",
    "## Entity resolution"
   ]
  },
  {
   "cell_type": "markdown",
   "id": "94ef1eac",
   "metadata": {},
   "source": [
    "Use query results from Wikidata database to infer properties in Wikidata infobox and return the most frequent property."
   ]
  },
  {
   "cell_type": "code",
   "execution_count": 33,
   "id": "forbidden-neighbor",
   "metadata": {},
   "outputs": [],
   "source": [
    "!kgtk query -i $RESULTS -i $WIKI_INFO \\\n",
    "            --match 'c: (entity)-[]->(v), w: (entity)-[p]->(v)' \\\n",
    "            --return 'entity, p.label, v as node2' \\\n",
    "            -o $DIRECT_INFER"
   ]
  },
  {
   "cell_type": "markdown",
   "id": "ea02d7c3",
   "metadata": {},
   "source": [
    "Infer from structured literals (since there is no string structured value in Wikidata infobox)."
   ]
  },
  {
   "cell_type": "code",
   "execution_count": 42,
   "id": "c38faf74",
   "metadata": {},
   "outputs": [],
   "source": [
    "!kgtk query -i $RESULTS -i $WIKI_INFO -i $LABELS \\\n",
    "            --match 'c: (entity)-[]->(v1), l: (v1)-[]->(v1_label), w: (entity)-[p]->(s)-[sv]->(v2)' \\\n",
    "            --where 'sv.label = \"dbpedia:structured_value\" AND kgtk_lqstring_text(v1_label) = kgtk_lqstring_text(v2)' \\\n",
    "            --return 'entity, p.label, v2 as node2' \\\n",
    "            -o $INDIRECT_INFER"
   ]
  },
  {
   "cell_type": "code",
   "execution_count": 44,
   "id": "cecb4451",
   "metadata": {},
   "outputs": [],
   "source": [
    "!kgtk cat -i $DIRECT_INFER $INDIRECT_INFER -o $INFERS"
   ]
  },
  {
   "cell_type": "markdown",
   "id": "ed9a373c",
   "metadata": {},
   "source": [
    "## Property mapping"
   ]
  },
  {
   "cell_type": "code",
   "execution_count": 48,
   "id": "a13c31ff",
   "metadata": {},
   "outputs": [
    {
     "name": "stdout",
     "output_type": "stream",
     "text": [
      "label\tN\r\n",
      "property:industry\t4608\r\n"
     ]
    }
   ],
   "source": [
    "!kgtk query -i $INFERS \\\n",
    "            --match '(q)-[p]->(v)' \\\n",
    "            --return 'p.label, count(v) as N' \\\n",
    "            --order-by 'N desc' \\\n",
    "            --limit 1"
   ]
  },
  {
   "cell_type": "markdown",
   "id": "distant-norway",
   "metadata": {},
   "source": [
    "# Step 5 Results from other KG(s)"
   ]
  },
  {
   "cell_type": "markdown",
   "id": "parliamentary-station",
   "metadata": {},
   "source": [
    "For those entities don't have property value, query in Wikidata infobox:"
   ]
  },
  {
   "cell_type": "code",
   "execution_count": 49,
   "id": "proved-extension",
   "metadata": {},
   "outputs": [],
   "source": [
    "!kgtk query -i $QUERY_FILE -i $WIKI_INFO \\\n",
    "            --match 'p: (entity)-[]->(), w: (entity)-[property]->(value)' \\\n",
    "            --where 'property.label = \"property:industry\"' \\\n",
    "            --return 'entity, property.label, value' \\\n",
    "            -o $NEW_RESULTS"
   ]
  },
  {
   "cell_type": "markdown",
   "id": "31fc5cec",
   "metadata": {},
   "source": [
    "- Count rows of new findings:"
   ]
  },
  {
   "cell_type": "code",
   "execution_count": 50,
   "id": "b8f80588",
   "metadata": {},
   "outputs": [
    {
     "data": {
      "text/plain": [
       "4264"
      ]
     },
     "execution_count": 50,
     "metadata": {},
     "output_type": "execute_result"
    }
   ],
   "source": [
    "new_results_line = !wc -l < $NEW_RESULTS\n",
    "new_results_line = int(new_results_line[0]) - 1\n",
    "# new_results_line"
   ]
  },
  {
   "cell_type": "markdown",
   "id": "e6dcef7a",
   "metadata": {},
   "source": [
    "- Count unique politicians of new findings:"
   ]
  },
  {
   "cell_type": "code",
   "execution_count": 51,
   "id": "fbba6416",
   "metadata": {},
   "outputs": [
    {
     "data": {
      "text/plain": [
       "3499"
      ]
     },
     "execution_count": 51,
     "metadata": {},
     "output_type": "execute_result"
    }
   ],
   "source": [
    "new_results_distinct = !kgtk query \\\n",
    "    -i $NEW_RESULTS \\\n",
    "    --match 'n: (p)-[]->()' \\\n",
    "    --return 'count(distinct p) as N'\n",
    "new_results_distinct = int(new_results_distinct[1])\n",
    "# new_results_distinct"
   ]
  },
  {
   "cell_type": "markdown",
   "id": "56b8c84c",
   "metadata": {},
   "source": [
    "# Step 6 Datatype Filtering"
   ]
  },
  {
   "cell_type": "markdown",
   "id": "8422f099",
   "metadata": {},
   "source": [
    "### 1. Filter Structured literals:"
   ]
  },
  {
   "cell_type": "code",
   "execution_count": 35,
   "id": "8d05ad37",
   "metadata": {},
   "outputs": [],
   "source": [
    "!kgtk query -i $NEW_RESULTS -i $WIKI_INFO \\\n",
    "            --match 'n: (q)-[p]->(s), w: (s)-[sv]->(v)' \\\n",
    "            --where 'NOT kgtk_lqstring(s) AND NOT kgtk_number(s) AND sv.label = \"dbpedia:structured_value\"' \\\n",
    "            --return 'q, p.label, s' \\\n",
    "            -o $STRUCTURED_LITERALS"
   ]
  },
  {
   "cell_type": "markdown",
   "id": "2373f397",
   "metadata": {},
   "source": [
    "- Check if data type is useful:"
   ]
  },
  {
   "cell_type": "code",
   "execution_count": 36,
   "id": "886173dd",
   "metadata": {},
   "outputs": [
    {
     "name": "stdout",
     "output_type": "stream",
     "text": [
      "node1      label              node2\r\n",
      "Q25348727  property:industry  nodemxZbyK2VRrGoaxfdLmyLxw-4089958\r\n"
     ]
    }
   ],
   "source": [
    "!head $STRUCTURED_LITERALS | column -ts $'\\t'"
   ]
  },
  {
   "cell_type": "markdown",
   "id": "8a7cce72",
   "metadata": {},
   "source": [
    "### 2. Filter Qnodes"
   ]
  },
  {
   "cell_type": "code",
   "execution_count": 37,
   "id": "0328daad",
   "metadata": {},
   "outputs": [],
   "source": [
    "!kgtk query -i $NEW_RESULTS \\\n",
    "            --match 'n:()-[]->(q)' \\\n",
    "            --where 'NOT kgtk_lqstring(q) AND NOT kgtk_number(q)' \\\n",
    "            -o $NODES\n",
    "\n",
    "!kgtk ifnotexists -i $NODES \\\n",
    "                  --filter-on $STRUCTURED_LITERALS \\\n",
    "                  -o $QNODES"
   ]
  },
  {
   "cell_type": "markdown",
   "id": "baf1e6dc",
   "metadata": {},
   "source": [
    "- Check if the data type is useful:"
   ]
  },
  {
   "cell_type": "code",
   "execution_count": 40,
   "id": "43fbcdf2",
   "metadata": {},
   "outputs": [
    {
     "name": "stdout",
     "output_type": "stream",
     "text": [
      "node1      label              node2\r\n",
      "Q1023161   property:industry  Q269415\r\n",
      "Q1024380   property:industry  Q5501371\r\n",
      "Q1044059   property:industry  Q815825\r\n",
      "Q1044059   property:industry  Q49389\r\n",
      "Q1060363   property:industry  Q899383\r\n",
      "Q1060363   property:industry  Q831882\r\n",
      "Q1060363   property:industry  Q1020768\r\n",
      "Q1073564   property:industry  Q778575\r\n",
      "Q10831597  property:industry  Q778575\r\n"
     ]
    }
   ],
   "source": [
    "!head $QNODES | column -ts $'\\t'"
   ]
  },
  {
   "cell_type": "code",
   "execution_count": 41,
   "id": "87d62403",
   "metadata": {},
   "outputs": [
    {
     "name": "stdout",
     "output_type": "stream",
     "text": [
      "1871\r\n"
     ]
    }
   ],
   "source": [
    "!wc -l < $QNODES"
   ]
  },
  {
   "cell_type": "markdown",
   "id": "b1a2b170",
   "metadata": {},
   "source": [
    "# Step 7 Quality Checking"
   ]
  },
  {
   "cell_type": "markdown",
   "id": "0347a297",
   "metadata": {},
   "source": [
    "Problem: no `nodeProp.id`;"
   ]
  },
  {
   "cell_type": "code",
   "execution_count": 42,
   "id": "7209af51",
   "metadata": {},
   "outputs": [
    {
     "name": "stdout",
     "output_type": "stream",
     "text": [
      "[2021-08-26 05:32:48 sqlstore]: DROP graph data table graph_65 from /nas/home/bohuizha/KG/hunger-for-knowledge/output/qnodes.tsv\n",
      "[2021-08-26 05:32:48 sqlstore]: IMPORT graph directly into table graph_65 from /nas/home/bohuizha/KG/hunger-for-knowledge/output/qnodes.tsv ...\n",
      "[2021-08-26 05:32:48 query]: SQL Translation:\n",
      "---------------------------------------------\n",
      "  SELECT graph_65_c1.\"node1\" \"_aLias.node1\", graph_65_c1.\"label\" \"_aLias.label\", graph_65_c1.\"node2\" \"_aLias.node2\"\n",
      "     FROM graph_56 AS graph_56_c2\n",
      "     INNER JOIN graph_57 AS graph_57_c3, graph_65 AS graph_65_c1\n",
      "     ON graph_56_c2.\"node2\" = graph_57_c3.\"node1\"\n",
      "        AND graph_65_c1.\"node2\" = graph_56_c2.\"node1\"\n",
      "        AND (graph_57_c3.\"node2\" IN (?, ?, ?, ?, ?))\n",
      "  PARAS: ['Q8148', 'Q268592', 'Q8187769', 'Q3958441', 'Q121359']\n",
      "---------------------------------------------\n",
      "[2021-08-26 05:32:48 sqlstore]: CREATE INDEX on table graph_65 column node2 ...\n",
      "[2021-08-26 05:32:48 sqlstore]: ANALYZE INDEX on table graph_65 column node2 ...\n"
     ]
    }
   ],
   "source": [
    "!kgtk --debug query -i $QNODES $P31 $P279STAR \\\n",
    "--match 'n: (node1)-[nodeProp]->(node2), P31: (node2)-[]->(nodex), P279star: (nodex)-[]->(par)' \\\n",
    "--where 'par in [\"Q8148\", \"Q268592\", \"Q8187769\", \"Q3958441\", \"Q121359\"] ' \\\n",
    "--return 'node1 as `node1`, nodeProp.label as `label`, node2 as `node2`' \\\n",
    "-o $CORRECT_TEMP_1"
   ]
  },
  {
   "cell_type": "code",
   "execution_count": 43,
   "id": "c9faf305",
   "metadata": {},
   "outputs": [
    {
     "name": "stdout",
     "output_type": "stream",
     "text": [
      "node1      label              node2\r\n",
      "Q1044059   property:industry  Q49389\r\n",
      "Q11617252  property:industry  Q8274\r\n",
      "Q11813614  property:industry  Q418\r\n",
      "Q11998559  property:industry  Q75\r\n",
      "Q11998559  property:industry  Q75\r\n",
      "Q12315533  property:industry  Q3972943\r\n",
      "Q12315533  property:industry  Q3972943\r\n",
      "Q1236521   property:industry  Q49389\r\n",
      "Q12430250  property:industry  Q507443\r\n"
     ]
    }
   ],
   "source": [
    "!head $CORRECT_TEMP_1 | column -ts $'\\t'"
   ]
  },
  {
   "cell_type": "code",
   "execution_count": 44,
   "id": "66c10c80",
   "metadata": {},
   "outputs": [],
   "source": [
    "!kgtk --debug ifnotexists -i $QNODES \\\n",
    "--filter-on $CORRECT_TEMP_1 \\\n",
    "-o $INCORRECT_TEMP"
   ]
  },
  {
   "cell_type": "code",
   "execution_count": 45,
   "id": "b9504f56",
   "metadata": {},
   "outputs": [
    {
     "name": "stdout",
     "output_type": "stream",
     "text": [
      "node1      label              node2\r\n",
      "Q1023161   property:industry  Q269415\r\n",
      "Q1024380   property:industry  Q5501371\r\n",
      "Q1044059   property:industry  Q815825\r\n",
      "Q1060363   property:industry  Q899383\r\n",
      "Q1060363   property:industry  Q831882\r\n",
      "Q1060363   property:industry  Q1020768\r\n",
      "Q1073564   property:industry  Q778575\r\n",
      "Q10831597  property:industry  Q778575\r\n",
      "Q1085796   property:industry  Q291\r\n"
     ]
    }
   ],
   "source": [
    "!head $INCORRECT_TEMP | column -ts $'\\t'"
   ]
  },
  {
   "cell_type": "code",
   "execution_count": 46,
   "id": "75bb94f7",
   "metadata": {},
   "outputs": [
    {
     "name": "stdout",
     "output_type": "stream",
     "text": [
      "[2021-08-26 05:33:20 sqlstore]: DROP graph data table graph_74 from /nas/home/bohuizha/KG/hunger-for-knowledge/output/industry.type-constraints.instanceOf.incorrect_temp.tsv\n",
      "[2021-08-26 05:33:20 sqlstore]: IMPORT graph directly into table graph_74 from /nas/home/bohuizha/KG/hunger-for-knowledge/output/industry.type-constraints.instanceOf.incorrect_temp.tsv ...\n",
      "[2021-08-26 05:33:20 query]: SQL Translation:\n",
      "---------------------------------------------\n",
      "  SELECT graph_74_c1.\"node1\" \"_aLias.node1\", graph_74_c1.\"label\" \"_aLias.label\", graph_74_c1.\"node2\" \"_aLias.node2\"\n",
      "     FROM graph_56 AS graph_56_c2\n",
      "     INNER JOIN graph_74 AS graph_74_c1\n",
      "     ON graph_74_c1.\"node2\" = graph_56_c2.\"node1\"\n",
      "        AND (graph_56_c2.\"node2\" IN (?, ?, ?, ?, ?))\n",
      "  PARAS: ['Q8148', 'Q268592', 'Q8187769', 'Q3958441', 'Q121359']\n",
      "---------------------------------------------\n",
      "[2021-08-26 05:33:20 sqlstore]: CREATE INDEX on table graph_74 column node2 ...\n",
      "[2021-08-26 05:33:20 sqlstore]: ANALYZE INDEX on table graph_74 column node2 ...\n"
     ]
    }
   ],
   "source": [
    "!kgtk --debug query -i $INCORRECT_TEMP $P31 \\\n",
    "--match 'i: (node1)-[nodeProp]->(node2), P31: (node2)-[]->(par)' \\\n",
    "--where 'par in [\"Q8148\", \"Q268592\", \"Q8187769\", \"Q3958441\", \"Q121359\"] ' \\\n",
    "--return 'node1 as `node1`, nodeProp.label as `label`, node2 as `node2`' \\\n",
    "-o $CORRECT_TEMP_2"
   ]
  },
  {
   "cell_type": "code",
   "execution_count": 47,
   "id": "55b37ff4",
   "metadata": {},
   "outputs": [
    {
     "name": "stdout",
     "output_type": "stream",
     "text": [
      "node1  label  node2\r\n"
     ]
    }
   ],
   "source": [
    "!head $CORRECT_TEMP_2 | column -ts $'\\t'"
   ]
  },
  {
   "cell_type": "code",
   "execution_count": 14,
   "id": "4518c36b",
   "metadata": {},
   "outputs": [
    {
     "name": "stdout",
     "output_type": "stream",
     "text": [
      "Traceback (most recent call last):\r\n",
      "  File \"/nas/home/bohuizha/.conda/envs/kgtk-env/lib/python3.7/site-packages/kgtk-0.7.1-py3.7.egg/kgtk/cli/ifnotexists.py\", line 257, in run\r\n",
      "    ie.process()\r\n",
      "  File \"/nas/home/bohuizha/.conda/envs/kgtk-env/lib/python3.7/site-packages/kgtk-0.7.1-py3.7.egg/kgtk/iff/kgtkifexists.py\", line 943, in process\r\n",
      "    join_shuffle_list=join_shuffle_list)\r\n",
      "  File \"/nas/home/bohuizha/.conda/envs/kgtk-env/lib/python3.7/site-packages/kgtk-0.7.1-py3.7.egg/kgtk/iff/kgtkifexists.py\", line 222, in process_cacheing_filter\r\n",
      "    input_key = self.build_key(row, input_key_columns)\r\n",
      "  File \"/nas/home/bohuizha/.conda/envs/kgtk-env/lib/python3.7/site-packages/kgtk-0.7.1-py3.7.egg/kgtk/iff/kgtkifexists.py\", line 155, in build_key\r\n",
      "    key += row[idx]\r\n",
      "IndexError: list index out of range\r\n",
      "\r\n",
      "During handling of the above exception, another exception occurred:\r\n",
      "\r\n",
      "Traceback (most recent call last):\r\n",
      "  File \"/nas/home/bohuizha/.conda/envs/kgtk-env/lib/python3.7/site-packages/kgtk-0.7.1-py3.7.egg/kgtk/exceptions.py\", line 46, in __call__\r\n",
      "    return_code = func(*args, **kwargs) or 0\r\n",
      "  File \"/nas/home/bohuizha/.conda/envs/kgtk-env/lib/python3.7/site-packages/kgtk-0.7.1-py3.7.egg/kgtk/cli/ifnotexists.py\", line 264, in run\r\n",
      "    raise KGTKException(str(e))\r\n",
      "kgtk.exceptions.KGTKException: list index out of range\r\n",
      "list index out of range\r\n"
     ]
    }
   ],
   "source": [
    "!kgtk --debug ifnotexists -i $INCORRECT_TEMP \\\n",
    "--filter-on $CORRECT_TEMP_2 \\\n",
    "-o $INCORRECT"
   ]
  },
  {
   "cell_type": "markdown",
   "id": "9b78962b",
   "metadata": {},
   "source": [
    "It seems like if `$CORRECT_TEMP_2` is empty, then there is no need to filter again."
   ]
  },
  {
   "cell_type": "code",
   "execution_count": 48,
   "id": "1e04509f",
   "metadata": {},
   "outputs": [],
   "source": [
    "!kgtk --debug cat -i $CORRECT_TEMP_1 $CORRECT_TEMP_2 \\\n",
    "-o $CORRECT"
   ]
  },
  {
   "cell_type": "code",
   "execution_count": 49,
   "id": "8a1cef1c",
   "metadata": {},
   "outputs": [
    {
     "name": "stdout",
     "output_type": "stream",
     "text": [
      "node1      label              node2\r\n",
      "Q1044059   property:industry  Q49389\r\n",
      "Q11617252  property:industry  Q8274\r\n",
      "Q11813614  property:industry  Q418\r\n",
      "Q11998559  property:industry  Q75\r\n",
      "Q11998559  property:industry  Q75\r\n",
      "Q12315533  property:industry  Q3972943\r\n",
      "Q12315533  property:industry  Q3972943\r\n",
      "Q1236521   property:industry  Q49389\r\n",
      "Q12430250  property:industry  Q507443\r\n"
     ]
    }
   ],
   "source": [
    "!head $CORRECT | column -ts $'\\t'"
   ]
  },
  {
   "cell_type": "code",
   "execution_count": 50,
   "id": "c257491e",
   "metadata": {},
   "outputs": [
    {
     "name": "stdout",
     "output_type": "stream",
     "text": [
      "425\r\n"
     ]
    }
   ],
   "source": [
    "!wc -l < $CORRECT"
   ]
  },
  {
   "cell_type": "code",
   "execution_count": 51,
   "id": "066950a0",
   "metadata": {},
   "outputs": [
    {
     "name": "stdout",
     "output_type": "stream",
     "text": [
      "1568\r\n"
     ]
    }
   ],
   "source": [
    "!wc -l < $INCORRECT_TEMP"
   ]
  },
  {
   "cell_type": "code",
   "execution_count": 52,
   "id": "6a1758f6",
   "metadata": {},
   "outputs": [
    {
     "name": "stdout",
     "output_type": "stream",
     "text": [
      "1871\r\n"
     ]
    }
   ],
   "source": [
    "!wc -l < $QNODES"
   ]
  },
  {
   "cell_type": "markdown",
   "id": "f0db9bc9",
   "metadata": {},
   "source": [
    "It is weird that 425 + 1568 - 1 = 1992 > 1871. (+121)"
   ]
  },
  {
   "cell_type": "code",
   "execution_count": 53,
   "id": "8669caac",
   "metadata": {},
   "outputs": [
    {
     "name": "stdout",
     "output_type": "stream",
     "text": [
      "node1\tlabel\tnode2\r\n"
     ]
    }
   ],
   "source": [
    "!kgtk --debug ifexists -i $CORRECT \\\n",
    "--filter-on $INCORRECT_TEMP"
   ]
  },
  {
   "cell_type": "code",
   "execution_count": null,
   "id": "c2b9e001",
   "metadata": {},
   "outputs": [],
   "source": []
  }
 ],
 "metadata": {
  "kernelspec": {
   "display_name": "Python 3",
   "language": "python",
   "name": "python3"
  },
  "language_info": {
   "codemirror_mode": {
    "name": "ipython",
    "version": 3
   },
   "file_extension": ".py",
   "mimetype": "text/x-python",
   "name": "python",
   "nbconvert_exporter": "python",
   "pygments_lexer": "ipython3",
   "version": "3.7.10"
  }
 },
 "nbformat": 4,
 "nbformat_minor": 5
}
