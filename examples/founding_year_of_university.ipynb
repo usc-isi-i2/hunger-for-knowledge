{
 "cells": [
  {
   "cell_type": "markdown",
   "id": "5590c730",
   "metadata": {},
   "source": [
    "# Step 0 Set up `kgtk`\n",
    "Check in `spouse_of_politician.ipynb`"
   ]
  },
  {
   "cell_type": "markdown",
   "id": "4777a93a",
   "metadata": {},
   "source": [
    "# Step 1 Send a SPARQL query use `kgtk`"
   ]
  },
  {
   "cell_type": "markdown",
   "id": "d8f93141",
   "metadata": {},
   "source": [
    "Example 1: Find founding years of universities: "
   ]
  },
  {
   "cell_type": "code",
   "execution_count": 1,
   "id": "978df805",
   "metadata": {},
   "outputs": [],
   "source": [
    "import os"
   ]
  },
  {
   "cell_type": "markdown",
   "id": "38b7999d",
   "metadata": {},
   "source": [
    "### Define alias and variables"
   ]
  },
  {
   "cell_type": "code",
   "execution_count": 15,
   "id": "effb5aec",
   "metadata": {},
   "outputs": [
    {
     "name": "stdout",
     "output_type": "stream",
     "text": [
      "DATABASE: \"/nas/home/bohuizha/KG/hunger-for-knowledge/data/\"\n",
      "CLAIMS: \"/nas/home/bohuizha/KG/hunger-for-knowledge/data/claims.tsv\"\n",
      "ITEM: \"/nas/home/bohuizha/KG/hunger-for-knowledge/data/claims.wikibase-item.tsv.gz\"\n",
      "WIKI_INFO: \"/nas/home/bohuizha/KG/hunger-for-knowledge/data/wikidata_infobox.tsv\"\n",
      "P31: \"/nas/home/bohuizha/KG/hunger-for-knowledge/data/P31.tsv\"\n",
      "P279STAR: \"/nas/home/bohuizha/KG/hunger-for-knowledge/data/P279star.tsv\"\n",
      "OUTPUT: \"/nas/home/bohuizha/KG/hunger-for-knowledge/output/\"\n",
      "RESULTS: \"/nas/home/bohuizha/KG/hunger-for-knowledge/output/founding_year_of_university.tsv\"\n",
      "NEW_RESULTS: \"/nas/home/bohuizha/KG/hunger-for-knowledge/output/new_founding_year_of_university.tsv\"\n",
      "UNIVERSITY: \"/nas/home/bohuizha/KG/hunger-for-knowledge/output/university.tsv\"\n",
      "QUERY_FILE: \"/nas/home/bohuizha/KG/hunger-for-knowledge/output/university_wo_founding_year.tsv\"\n",
      "NUMBERS: \"/nas/home/bohuizha/KG/hunger-for-knowledge/output/numbers.tsv\"\n",
      "STRINGS: \"/nas/home/bohuizha/KG/hunger-for-knowledge/output/strings.tsv\"\n",
      "EMPTY_STRINGS: \"/nas/home/bohuizha/KG/hunger-for-knowledge/output/empty_strings.tsv\"\n",
      "PURE_EMPTY: \"/nas/home/bohuizha/KG/hunger-for-knowledge/output/pure_empty.tsv\"\n",
      "STRUCTURED_LITERALS: \"/nas/home/bohuizha/KG/hunger-for-knowledge/output/structured_literals.tsv\"\n",
      "NODES: \"/nas/home/bohuizha/KG/hunger-for-knowledge/output/nodes.tsv\"\n",
      "QNODES: \"/nas/home/bohuizha/KG/hunger-for-knowledge/output/qnodes.tsv\"\n",
      "STORE: \"/nas/home/bohuizha/KG/hunger-for-knowledge/kypher/wikidata.sqlite3.db\"\n",
      "kypher: \"kgtk query --graph-cache /nas/home/bohuizha/KG/hunger-for-knowledge/kypher/wikidata.sqlite3.db\"\n"
     ]
    }
   ],
   "source": [
    "# Parameters\n",
    "\n",
    "# Folder where database files store\n",
    "data_path = \"/nas/home/bohuizha/KG/hunger-for-knowledge/data/\"\n",
    "\n",
    "# Folder on local machine where to create the output and temporary folders\n",
    "output_path = \"/nas/home/bohuizha/KG/hunger-for-knowledge/output/\"\n",
    "\n",
    "# Location of the cache database for kypher\n",
    "cache_path = \"/nas/home/bohuizha/KG/hunger-for-knowledge/kypher\"\n",
    "# Whether to delete the cache database\n",
    "delete_database = False\n",
    "\n",
    "# The names of files in the KGTK Wikidata distirbution that we will use in this notebook.\n",
    "data_file_names = {\n",
    "    \"claims\": \"claims.tsv\",\n",
    "    \"item\": \"claims.wikibase-item.tsv.gz\",\n",
    "    \"wiki_info\": \"wikidata_infobox.tsv\",\n",
    "    \"p31\": \"P31.tsv\",\n",
    "    \"p279star\": \"P279star.tsv\"\n",
    "}\n",
    "\n",
    "# We will define environment variables to hold the full paths to the files as we will use them in the shell commands\n",
    "kgtk_environment_variables = []\n",
    "\n",
    "os.environ['DATABASE'] = data_path\n",
    "kgtk_environment_variables.append('DATABASE')\n",
    "\n",
    "for key, value in data_file_names.items():\n",
    "    variable = key.upper()\n",
    "    os.environ[variable] = data_path + value\n",
    "    kgtk_environment_variables.append(variable)\n",
    "\n",
    "output_file_names = {\n",
    "    \"results\": \"founding_year_of_university.tsv\",\n",
    "    \"new_results\": \"new_founding_year_of_university.tsv\",\n",
    "    \"university\": \"university.tsv\",\n",
    "    \"query_file\": \"university_wo_founding_year.tsv\",\n",
    "    \"numbers\": \"numbers.tsv\",\n",
    "    \"strings\": \"strings.tsv\",\n",
    "    \"empty_strings\": \"empty_strings.tsv\",\n",
    "    \"pure_empty\": \"pure_empty.tsv\",\n",
    "    \"structured_literals\": \"structured_literals.tsv\",\n",
    "    \"nodes\": \"nodes.tsv\",\n",
    "    \"qnodes\": \"qnodes.tsv\"\n",
    "}\n",
    "\n",
    "os.environ['OUTPUT'] = output_path\n",
    "kgtk_environment_variables.append('OUTPUT')\n",
    "\n",
    "for key, value in output_file_names.items():\n",
    "    variable = key.upper()\n",
    "    os.environ[variable] = output_path + value\n",
    "    kgtk_environment_variables.append(variable)\n",
    "\n",
    "# KGTK creates a SQLite database to index the knowledge graph.\n",
    "if cache_path:\n",
    "    os.environ['STORE'] = \"{}/wikidata.sqlite3.db\".format(cache_path)\n",
    "else:\n",
    "    os.environ['STORE'] = \"{}/{}/wikidata.sqlite3.db\".format(output_path, temp_folder)\n",
    "kgtk_environment_variables.append('STORE')\n",
    "    \n",
    "# Envronment variables with shortcuts to the commands we use often\n",
    "# os.environ['kgtk'] = \"kgtk\"\n",
    "# Use for debugging, but careful as it causes import to dataframes to break\n",
    "# os.environ['kypher'] = \"time kgtk --debug query --graph-cache \" + os.environ['STORE']\n",
    "os.environ['kypher'] = \"kgtk query --graph-cache \" + os.environ['STORE']\n",
    "# kgtk_environment_variables.append('kgtk')\n",
    "kgtk_environment_variables.append('kypher')\n",
    "    \n",
    "# kgtk_environment_variables.sort()\n",
    "for variable in kgtk_environment_variables:\n",
    "    print(\"{}: \\\"{}\\\"\".format(variable, os.environ[variable]))"
   ]
  },
  {
   "cell_type": "code",
   "execution_count": 13,
   "id": "98e35698",
   "metadata": {},
   "outputs": [
    {
     "name": "stdout",
     "output_type": "stream",
     "text": [
      "id\tnode1\tlabel\tnode2\r\n",
      "P10-P1629-Q34508-bcc39400-0\tP10\tP1629\tQ34508\r\n",
      "P10-P1855-Q15075950-7eff6d65-0\tP10\tP1855\tQ15075950\r\n",
      "P10-P1855-Q69063653-c8cdb04c-0\tP10\tP1855\tQ69063653\r\n",
      "P10-P1855-Q7378-555592a4-0\tP10\tP1855\tQ7378\r\n",
      "P10-P2302-Q21502404-d012aef4-0\tP10\tP2302\tQ21502404\r\n",
      "P10-P2302-Q21510851-5224fe0b-0\tP10\tP2302\tQ21510851\r\n",
      "P10-P2302-Q21510852-dde2f0ce-0\tP10\tP2302\tQ21510852\r\n",
      "P10-P31-Q18610173-85ef4d24-0\tP10\tP31\tQ18610173\r\n",
      "P1000-P1629-Q1241356-d5c10f50-0\tP1000\tP1629\tQ1241356\r\n",
      "P1000-P1855-Q1742-2566356a-0\tP1000\tP1855\tQ1742\r\n"
     ]
    }
   ],
   "source": [
    "# !$kypher \\\n",
    "# -i \"$ITEM\" --as items \\\n",
    "# -i \"$WIKI_INFO\" --as wiki \\\n",
    "# -i \"$P31\" --as p31 \\\n",
    "# -i \"$P279STAR\" --as p279star \\\n",
    "# --limit 10"
   ]
  },
  {
   "cell_type": "markdown",
   "id": "6251ebdb",
   "metadata": {},
   "source": [
    "### Main `kgtk` query:"
   ]
  },
  {
   "cell_type": "code",
   "execution_count": 1,
   "id": "3d712416",
   "metadata": {},
   "outputs": [],
   "source": [
    "# SPARQL query: \n",
    "# SELECT DISTINCT ?universityLabel (YEAR(?inception) AS ?foundingYear) \n",
    "# WHERE \n",
    "# { \n",
    "#   ?university wdt:P31/wdt:P279* wd:Q3918 ; \n",
    "#               wdt:P571 ?inception . \n",
    "#   SERVICE wikibase:label { bd:serviceParam wikibase:language \"en\". } \n",
    "# } \n",
    "# where `P31` means \"instance of\" and `P279` means \"subclass of\";"
   ]
  },
  {
   "cell_type": "code",
   "execution_count": null,
   "id": "5b0e8024",
   "metadata": {},
   "outputs": [],
   "source": [
    "# all universities (show 10 of them)\n",
    "!$kypher -i p31 -i p279star \\\n",
    "--match 'p31: (university)-[]->(class), p279star: (class)-[]->(:Q3918)' \\\n",
    "--return 'distinct university' \\\n",
    "--limit 10"
   ]
  },
  {
   "cell_type": "markdown",
   "id": "160bc67a",
   "metadata": {},
   "source": [
    "**Type 1:** return full date information:"
   ]
  },
  {
   "cell_type": "code",
   "execution_count": null,
   "id": "e8ca34e9",
   "metadata": {},
   "outputs": [],
   "source": [
    "!kgtk query -i $CLAIMS -i $P31 -i $P279STAR \\\n",
    "--match 'P31: (university)-[]->(class), P279star: (class)-[]->(:Q3918), claims: (university)-[p:P571]->(d)' \\\n",
    "--return 'university, p.label, d' \\\n",
    "-o $RESULTS"
   ]
  },
  {
   "cell_type": "markdown",
   "id": "c8362172",
   "metadata": {},
   "source": [
    "**Type 2:** return only `kgtk_date_date`:"
   ]
  },
  {
   "cell_type": "code",
   "execution_count": null,
   "id": "aef6c6db",
   "metadata": {},
   "outputs": [],
   "source": [
    "!kgtk query -i $CLAIMS -i $P31 -i $P279STAR \\\n",
    "--match 'P31: (university)-[]->(class), P279star: (class)-[]->(:Q3918), claims: (university)-[p:P571]->(d)' \\\n",
    "--return 'university, p.label, kgtk_date_date(d)'"
   ]
  },
  {
   "cell_type": "markdown",
   "id": "ef4232c8",
   "metadata": {},
   "source": [
    "**Type 3:** return only `kgtk_date_year`:"
   ]
  },
  {
   "cell_type": "code",
   "execution_count": 6,
   "id": "90f07bfa",
   "metadata": {},
   "outputs": [],
   "source": [
    "!kgtk query -i $CLAIMS -i $P31 -i $P279STAR \\\n",
    "--match 'P31: (university)-[]->(class), P279star: (class)-[]->(:Q3918), claims: (university)-[p:P571]->(d)' \\\n",
    "--return 'university, p.label, kgtk_date_year(d)'"
   ]
  },
  {
   "cell_type": "markdown",
   "id": "e79be3cc",
   "metadata": {},
   "source": [
    "For the convinient of property inference, we use **type 2**."
   ]
  },
  {
   "cell_type": "markdown",
   "id": "2042dc70",
   "metadata": {},
   "source": [
    "### Count known results in Wikidata database:"
   ]
  },
  {
   "cell_type": "markdown",
   "id": "2121edfe",
   "metadata": {},
   "source": [
    "Count university-founding_year pairs / **rows** (result should -1 which is the header):"
   ]
  },
  {
   "cell_type": "code",
   "execution_count": 32,
   "id": "e9ba7ef9",
   "metadata": {},
   "outputs": [
    {
     "name": "stdout",
     "output_type": "stream",
     "text": [
      "14150 /nas/home/bohuizha/KG/hunger-for-knowledge/output/founding_year_of_university.tsv\r\n"
     ]
    }
   ],
   "source": [
    "!wc -l $RESULTS"
   ]
  },
  {
   "cell_type": "markdown",
   "id": "3fd3bb9c",
   "metadata": {},
   "source": [
    "Count how many **unique politicians** have spouse in Wikidata:"
   ]
  },
  {
   "cell_type": "code",
   "execution_count": 33,
   "id": "fb81e8c7",
   "metadata": {},
   "outputs": [
    {
     "name": "stdout",
     "output_type": "stream",
     "text": [
      "N\r\n",
      "13385\r\n"
     ]
    }
   ],
   "source": [
    "!kgtk query -i $RESULTS \\\n",
    "--match '(p)-[]->()' \\\n",
    "--return 'count(distinct p) as N'"
   ]
  },
  {
   "cell_type": "markdown",
   "id": "d1cf2970",
   "metadata": {},
   "source": [
    "Duplicates:"
   ]
  },
  {
   "cell_type": "code",
   "execution_count": null,
   "id": "e4f10626",
   "metadata": {},
   "outputs": [],
   "source": [
    "!kgtk query -i $RESULTS \\\n",
    "--match '(p)-[]->(s)' \\\n",
    "--return 'p, count(s) as N' \\\n",
    "--order-by 'N desc'"
   ]
  },
  {
   "cell_type": "markdown",
   "id": "44d9b6ac",
   "metadata": {},
   "source": [
    "### Find unknow results in Wikidata database:\n",
    "- Find all universities (already completed)"
   ]
  },
  {
   "cell_type": "code",
   "execution_count": 35,
   "id": "b054272e",
   "metadata": {},
   "outputs": [],
   "source": [
    "!kgtk query -i $P31 -i $P279STAR \\\n",
    "--match 'P31: (university)-[]->(class), P279star: (class)-[]->(:Q3918)' \\\n",
    "--return 'university as node1, \"P31/P279*\" as label, \"Q3918\" as node2' \\\n",
    "-o $UNIVERSITY"
   ]
  },
  {
   "cell_type": "markdown",
   "id": "1cb4d4d2",
   "metadata": {},
   "source": [
    "- Eliminate universities which have the founding year"
   ]
  },
  {
   "cell_type": "code",
   "execution_count": 36,
   "id": "80feafd2",
   "metadata": {},
   "outputs": [],
   "source": [
    "!kgtk ifnotexists -i $UNIVERSITY \\\n",
    "                  --filter-on $RESULTS \\\n",
    "                  --input-keys node1 \\\n",
    "                  --filter-keys node1 \\\n",
    "                  -o $QUERY_FILE"
   ]
  },
  {
   "cell_type": "code",
   "execution_count": 37,
   "id": "d1779be9",
   "metadata": {},
   "outputs": [
    {
     "name": "stdout",
     "output_type": "stream",
     "text": [
      "2328 /nas/home/bohuizha/KG/hunger-for-knowledge/output/university_wo_founding_year.tsv\r\n"
     ]
    }
   ],
   "source": [
    "!wc -l $QUERY_FILE"
   ]
  },
  {
   "cell_type": "markdown",
   "id": "980f4545",
   "metadata": {},
   "source": [
    "### Count unknown results in Wikidata database:"
   ]
  },
  {
   "cell_type": "code",
   "execution_count": 38,
   "id": "e3ec515b",
   "metadata": {},
   "outputs": [
    {
     "name": "stdout",
     "output_type": "stream",
     "text": [
      "N\r\n",
      "2317\r\n"
     ]
    }
   ],
   "source": [
    "!kgtk query -i $QUERY_FILE \\\n",
    "            --match '(p)-[]->()' \\\n",
    "            --return 'count(distinct p) as N'"
   ]
  },
  {
   "cell_type": "markdown",
   "id": "f6b323a1",
   "metadata": {},
   "source": [
    "# Step 2 Infer properties"
   ]
  },
  {
   "cell_type": "markdown",
   "id": "0fe72819",
   "metadata": {},
   "source": [
    "Use query results from Wikidata database to infer properties in Wikidata infobox and return the most frequent property."
   ]
  },
  {
   "cell_type": "code",
   "execution_count": 39,
   "id": "23ed59d9",
   "metadata": {},
   "outputs": [
    {
     "name": "stdout",
     "output_type": "stream",
     "text": [
      "label\tN\r\n",
      "property:established\t5419\r\n"
     ]
    }
   ],
   "source": [
    "!kgtk query -i $RESULTS -i $WIKI_INFO \\\n",
    "            --match 'f: (q)-[]->(y), w: (q)-[p]->(v)' \\\n",
    "            --where 'kgtk_date_year(y) = \"^\" + kgtk_unstringify(v)' \\\n",
    "            --return 'p.label, count(v) as N' \\\n",
    "            --order-by 'N desc' \\\n",
    "            --limit 1"
   ]
  },
  {
   "cell_type": "markdown",
   "id": "c337f051",
   "metadata": {},
   "source": [
    "# Step 3 Run query in Wikidata infobox "
   ]
  },
  {
   "cell_type": "markdown",
   "id": "72cd567d",
   "metadata": {},
   "source": [
    "For those don't have founding year, query in Wikidata infobox:"
   ]
  },
  {
   "cell_type": "code",
   "execution_count": 40,
   "id": "858a9a91",
   "metadata": {},
   "outputs": [],
   "source": [
    "!kgtk query -i $QUERY_FILE -i $WIKI_INFO \\\n",
    "            --match 'u: (q)-[]->(), w: (q)-[p]->(v)' \\\n",
    "            --where 'p.label = \"property:established\"' \\\n",
    "            --return 'distinct q, p.label, v' \\\n",
    "            -o $NEW_RESULTS"
   ]
  },
  {
   "cell_type": "markdown",
   "id": "91588b3f",
   "metadata": {},
   "source": [
    "One can directly output results:"
   ]
  },
  {
   "cell_type": "markdown",
   "id": "7cccefe0",
   "metadata": {},
   "source": [
    "- Count rows of new findings:"
   ]
  },
  {
   "cell_type": "code",
   "execution_count": 41,
   "id": "1dfc3a34",
   "metadata": {},
   "outputs": [
    {
     "name": "stdout",
     "output_type": "stream",
     "text": [
      "54 /nas/home/bohuizha/KG/hunger-for-knowledge/output/new_founding_year_of_university.tsv\r\n"
     ]
    }
   ],
   "source": [
    "!wc -l $NEW_RESULTS"
   ]
  },
  {
   "cell_type": "markdown",
   "id": "e6db8cc9",
   "metadata": {},
   "source": [
    "- Count unique politicians of new findings:"
   ]
  },
  {
   "cell_type": "code",
   "execution_count": 42,
   "id": "b0222456",
   "metadata": {},
   "outputs": [
    {
     "name": "stdout",
     "output_type": "stream",
     "text": [
      "N\r\n",
      "50\r\n"
     ]
    }
   ],
   "source": [
    "!kgtk query -i $NEW_RESULTS \\\n",
    "            --match 'n: (p)-[]->()' \\\n",
    "            --return 'count(distinct p) as N'"
   ]
  },
  {
   "cell_type": "markdown",
   "id": "9efae737",
   "metadata": {},
   "source": [
    "# Step 4 Datatype distribution of new findings"
   ]
  },
  {
   "cell_type": "markdown",
   "id": "d0e24332",
   "metadata": {},
   "source": [
    "Collect lines' number and distinct entities' number:"
   ]
  },
  {
   "cell_type": "code",
   "execution_count": 3,
   "id": "8f3f5bd1",
   "metadata": {},
   "outputs": [],
   "source": [
    "lines = [\"Lines\"]\n",
    "entities = [\"Entities\"]"
   ]
  },
  {
   "cell_type": "markdown",
   "id": "6fcc123a",
   "metadata": {},
   "source": [
    "### 1. Numbers:"
   ]
  },
  {
   "cell_type": "markdown",
   "id": "22f4c922",
   "metadata": {},
   "source": [
    "- Rows:"
   ]
  },
  {
   "cell_type": "code",
   "execution_count": 4,
   "id": "1c72020c",
   "metadata": {},
   "outputs": [
    {
     "data": {
      "text/plain": [
       "18"
      ]
     },
     "execution_count": 4,
     "metadata": {},
     "output_type": "execute_result"
    }
   ],
   "source": [
    "!kgtk query -i $NEW_RESULTS \\\n",
    "            --match 'n: (p)-[]->(s)' \\\n",
    "            --where 'kgtk_number(s)' \\\n",
    "            -o $NUMBERS\n",
    "\n",
    "numbers_line = !wc -l < $NUMBERS\n",
    "numbers_line = int(numbers_line[0]) - 1\n",
    "lines.append(numbers_line)\n",
    "# numbers_line"
   ]
  },
  {
   "cell_type": "markdown",
   "id": "22127864",
   "metadata": {},
   "source": [
    "- Unique universities:"
   ]
  },
  {
   "cell_type": "code",
   "execution_count": 5,
   "id": "79334cac",
   "metadata": {},
   "outputs": [
    {
     "data": {
      "text/plain": [
       "18"
      ]
     },
     "execution_count": 5,
     "metadata": {},
     "output_type": "execute_result"
    }
   ],
   "source": [
    "numbers_distinct = !kgtk query -i $NUMBERS \\\n",
    "    --match '(p)-[]->()' \\\n",
    "    --return 'count(distinct p) as N'\n",
    "\n",
    "numbers_distinct = int(numbers_distinct[1])\n",
    "entities.append(numbers_distinct)\n",
    "# numbers_distinct"
   ]
  },
  {
   "cell_type": "markdown",
   "id": "b4893a58",
   "metadata": {},
   "source": [
    "- Check if the data type is useful:"
   ]
  },
  {
   "cell_type": "code",
   "execution_count": 6,
   "id": "0c822c07",
   "metadata": {},
   "outputs": [
    {
     "name": "stdout",
     "output_type": "stream",
     "text": [
      "node1      label                 node2\r\n",
      "Q15402055  property:established  1968\r\n",
      "Q16884982  property:established  2004\r\n",
      "Q16939054  property:established  2007\r\n",
      "Q18844652  property:established  1996\r\n",
      "Q2974561   property:established  1985\r\n",
      "Q3445987   property:established  1880\r\n",
      "Q4783794   property:established  1988\r\n",
      "Q4783795   property:established  1987\r\n",
      "Q5508786   property:established  2009\r\n"
     ]
    }
   ],
   "source": [
    "!head $NUMBERS | column -ts $'\\t'"
   ]
  },
  {
   "cell_type": "markdown",
   "id": "77d0d3a5",
   "metadata": {},
   "source": [
    "Useful!"
   ]
  },
  {
   "cell_type": "markdown",
   "id": "6050c150",
   "metadata": {},
   "source": [
    "- Duplicates (universities that have multiple founding years):"
   ]
  },
  {
   "cell_type": "code",
   "execution_count": null,
   "id": "ca27b378",
   "metadata": {},
   "outputs": [],
   "source": [
    "!kgtk query -i $NUMBERS \\\n",
    "            --match '(p)-[]->(s)' \\\n",
    "            --return 'p, count(s) as N' \\\n",
    "            --order-by 'N desc'"
   ]
  },
  {
   "cell_type": "markdown",
   "id": "0f53ae0b",
   "metadata": {},
   "source": [
    "### 2. Structured literals:"
   ]
  },
  {
   "cell_type": "markdown",
   "id": "24e7ce55",
   "metadata": {},
   "source": [
    "- Rows:"
   ]
  },
  {
   "cell_type": "code",
   "execution_count": 7,
   "id": "492be002",
   "metadata": {},
   "outputs": [
    {
     "data": {
      "text/plain": [
       "25"
      ]
     },
     "execution_count": 7,
     "metadata": {},
     "output_type": "execute_result"
    }
   ],
   "source": [
    "!kgtk query -i $NEW_RESULTS -i $WIKI_INFO \\\n",
    "            --match 'n: (q)-[p]->(s), w: (s)-[sv]->(v)' \\\n",
    "            --where 'NOT kgtk_lqstring(s) AND NOT kgtk_number(s) AND sv.label = \"dbpedia:structured_value\" AND \"^\" + kgtk_unstringify(v) != 0' \\\n",
    "            --return 'q, p.label, \"^\" + kgtk_unstringify(v) as node2' \\\n",
    "            -o $STRUCTURED_LITERALS\n",
    "\n",
    "structured_literals_line = !wc -l < $STRUCTURED_LITERALS\n",
    "structured_literals_line = int(structured_literals_line[0]) - 1\n",
    "lines.append(structured_literals_line)\n",
    "# structured_literals_line"
   ]
  },
  {
   "cell_type": "markdown",
   "id": "88e74673",
   "metadata": {},
   "source": [
    "- Unique universities:"
   ]
  },
  {
   "cell_type": "code",
   "execution_count": 8,
   "id": "23145c23",
   "metadata": {},
   "outputs": [
    {
     "data": {
      "text/plain": [
       "25"
      ]
     },
     "execution_count": 8,
     "metadata": {},
     "output_type": "execute_result"
    }
   ],
   "source": [
    "structured_literals_distinct = !kgtk query -i $STRUCTURED_LITERALS \\\n",
    "    --match '(p)-[]->()' \\\n",
    "    --return 'count(distinct p) as N'\n",
    "\n",
    "structured_literals_distinct = int(structured_literals_distinct[1])\n",
    "entities.append(structured_literals_distinct)\n",
    "# structured_literals_distinct"
   ]
  },
  {
   "cell_type": "markdown",
   "id": "422533aa",
   "metadata": {},
   "source": [
    "- Check if the data type is useful:"
   ]
  },
  {
   "cell_type": "code",
   "execution_count": 9,
   "id": "9664fd70",
   "metadata": {},
   "outputs": [
    {
     "name": "stdout",
     "output_type": "stream",
     "text": [
      "node1      label                 node2\r\n",
      "Q12002144  property:established  1956\r\n",
      "Q14432001  property:established  1785\r\n",
      "Q17006626  property:established  2013\r\n",
      "Q17058724  property:established  1917\r\n",
      "Q18354913  property:established  1979\r\n",
      "Q19599762  property:established  2006\r\n",
      "Q26910836  property:established  2009\r\n",
      "Q28172529  property:established  2015\r\n",
      "Q4736101   property:established  1985\r\n"
     ]
    }
   ],
   "source": [
    "!head $STRUCTURED_LITERALS | column -ts $'\\t'"
   ]
  },
  {
   "cell_type": "markdown",
   "id": "296a7e7c",
   "metadata": {},
   "source": [
    "- Duplicates:"
   ]
  },
  {
   "cell_type": "code",
   "execution_count": 11,
   "id": "859e7486",
   "metadata": {},
   "outputs": [
    {
     "name": "stdout",
     "output_type": "stream",
     "text": [
      "node1\tN\r\n",
      "Q8053355\t1\r\n",
      "Q7899980\t1\r\n",
      "Q7688746\t1\r\n",
      "Q7553485\t1\r\n",
      "Q7402054\t1\r\n"
     ]
    }
   ],
   "source": [
    "!kgtk query -i $STRUCTURED_LITERALS \\\n",
    "            --match '(p)-[]->(s)' \\\n",
    "            --return 'p, count(s) as N' \\\n",
    "            --order-by 'N desc' \\\n",
    "            --limit 5"
   ]
  },
  {
   "cell_type": "markdown",
   "id": "d87e525a",
   "metadata": {},
   "source": [
    "### 3. Strings:"
   ]
  },
  {
   "cell_type": "markdown",
   "id": "0a9de3ce",
   "metadata": {},
   "source": [
    "#### All:"
   ]
  },
  {
   "cell_type": "markdown",
   "id": "d1cae22a",
   "metadata": {},
   "source": [
    "- Rows:"
   ]
  },
  {
   "cell_type": "code",
   "execution_count": 12,
   "id": "2c758a34",
   "metadata": {},
   "outputs": [
    {
     "data": {
      "text/plain": [
       "7"
      ]
     },
     "execution_count": 12,
     "metadata": {},
     "output_type": "execute_result"
    }
   ],
   "source": [
    "!kgtk query -i $NEW_RESULTS \\\n",
    "            --match 'n: (p)-[]->(s)' \\\n",
    "            --where 'kgtk_lqstring(s)' \\\n",
    "            -o $STRINGS\n",
    "\n",
    "strings_line = !wc -l < $STRINGS\n",
    "strings_line = int(strings_line[0]) - 1\n",
    "lines.append(strings_line)\n",
    "# strings_line"
   ]
  },
  {
   "cell_type": "markdown",
   "id": "5231fb8c",
   "metadata": {},
   "source": [
    "- Unique universities:"
   ]
  },
  {
   "cell_type": "code",
   "execution_count": 13,
   "id": "f2dae079",
   "metadata": {},
   "outputs": [
    {
     "data": {
      "text/plain": [
       "7"
      ]
     },
     "execution_count": 13,
     "metadata": {},
     "output_type": "execute_result"
    }
   ],
   "source": [
    "strings_distinct = !kgtk query -i $STRINGS \\\n",
    "    --match '(p)-[]->()' \\\n",
    "    --return 'count(distinct p) as N'\n",
    "\n",
    "strings_distinct = int(strings_distinct[1])\n",
    "entities.append(strings_distinct)\n",
    "# strings_distinct"
   ]
  },
  {
   "cell_type": "markdown",
   "id": "4477dacb",
   "metadata": {},
   "source": [
    "- Check if the data type is useful:"
   ]
  },
  {
   "cell_type": "code",
   "execution_count": 14,
   "id": "86ed64df",
   "metadata": {},
   "outputs": [
    {
     "name": "stdout",
     "output_type": "stream",
     "text": [
      "node1      label                 node2\r\n",
      "Q29015031  property:established  'Announced'@en\r\n",
      "Q3550203   property:established  ''@en\r\n",
      "Q3579379   property:established  '*'@en\r\n",
      "Q4997932   property:established  ''@en\r\n",
      "Q5261745   property:established  'in Smyrna, Asia Minor'@en\r\n",
      "Q7895186   property:established  'TBD'@en\r\n",
      "Q7896577   property:established  'Future'@en\r\n"
     ]
    }
   ],
   "source": [
    "!head $STRINGS | column -ts $'\\t'"
   ]
  },
  {
   "cell_type": "markdown",
   "id": "61b1e20b",
   "metadata": {},
   "source": [
    "**Not** useful!"
   ]
  },
  {
   "cell_type": "markdown",
   "id": "0484b83e",
   "metadata": {},
   "source": [
    "- Duplicates:"
   ]
  },
  {
   "cell_type": "code",
   "execution_count": null,
   "id": "bf20c418",
   "metadata": {},
   "outputs": [],
   "source": [
    "!kgtk query -i $STRINGS \\\n",
    "            --match '(p)-[]->(s)' \\\n",
    "            --return 'p, count(s) as N' \\\n",
    "            --order-by 'N desc'"
   ]
  },
  {
   "cell_type": "markdown",
   "id": "3724b905",
   "metadata": {},
   "source": [
    "### 4. Qnodes"
   ]
  },
  {
   "cell_type": "markdown",
   "id": "d8324982",
   "metadata": {},
   "source": [
    "- Rows:"
   ]
  },
  {
   "cell_type": "code",
   "execution_count": 17,
   "id": "6e4b2ddd",
   "metadata": {},
   "outputs": [
    {
     "data": {
      "text/plain": [
       "3"
      ]
     },
     "execution_count": 17,
     "metadata": {},
     "output_type": "execute_result"
    }
   ],
   "source": [
    "!kgtk query -i $NEW_RESULTS \\\n",
    "            --match 'n:()-[]->(q)' \\\n",
    "            --where 'NOT kgtk_lqstring(q) AND NOT kgtk_number(q)' \\\n",
    "            -o $NODES\n",
    "\n",
    "!kgtk ifnotexists -i $NODES \\\n",
    "                  --filter-on $STRUCTURED_LITERALS \\\n",
    "                  --input-keys node1 \\\n",
    "                  --filter-keys node1 \\\n",
    "                  -o $QNODES \n",
    "\n",
    "qnodes_line = !wc -l < $QNODES\n",
    "qnodes_line = int(qnodes_line[0]) - 1\n",
    "lines.append(qnodes_line)\n",
    "# qnodes_line"
   ]
  },
  {
   "cell_type": "markdown",
   "id": "206bbd74",
   "metadata": {},
   "source": [
    "- Unique universities:"
   ]
  },
  {
   "cell_type": "code",
   "execution_count": 19,
   "id": "6c39ff00",
   "metadata": {},
   "outputs": [
    {
     "data": {
      "text/plain": [
       "2"
      ]
     },
     "execution_count": 19,
     "metadata": {},
     "output_type": "execute_result"
    }
   ],
   "source": [
    "qnodes_distinct = !kgtk query -i $QNODES \\\n",
    "    --match '(p)-[]->()' \\\n",
    "    --return 'count(distinct p) as N'\n",
    "\n",
    "qnodes_distinct = int(qnodes_distinct[1])\n",
    "entities.append(qnodes_distinct)\n",
    "# qnodes_distinct"
   ]
  },
  {
   "cell_type": "markdown",
   "id": "a3747564",
   "metadata": {},
   "source": [
    "- Check if the data type is useful:"
   ]
  },
  {
   "cell_type": "code",
   "execution_count": 27,
   "id": "0e39ddfd",
   "metadata": {},
   "outputs": [
    {
     "name": "stdout",
     "output_type": "stream",
     "text": [
      "node1      label                 node2\r\n",
      "Q3550203   property:established  nodemxZbyK2VRrGoaxfdLmyLxw-7539726\r\n",
      "Q3550203   property:established  nodemxZbyK2VRrGoaxfdLmyLxw-7539727\r\n",
      "Q55391746  property:established  nodemxZbyK2VRrGoaxfdLmyLxw-5561996\r\n"
     ]
    }
   ],
   "source": [
    "!head $QNODES | column -ts $'\\t'"
   ]
  },
  {
   "cell_type": "code",
   "execution_count": 29,
   "id": "3db517c4",
   "metadata": {},
   "outputs": [
    {
     "name": "stdout",
     "output_type": "stream",
     "text": [
      "node1\tlabel\tnode2\r\n",
      "nodemxZbyK2VRrGoaxfdLmyLxw-7539726\tdbpedia:structured_value\t\"--02-20\"\r\n",
      "nodemxZbyK2VRrGoaxfdLmyLxw-7539726\tdbpedia:structured_uri\txml-schema-type:gMonthDay\r\n"
     ]
    }
   ],
   "source": [
    "!kgtk query -i $WIKI_INFO \\\n",
    "            --match '(q)-[p]->(v)' \\\n",
    "            --where 'q = \"nodemxZbyK2VRrGoaxfdLmyLxw-7539726\"' \\\n",
    "            --return 'q, p.label, v'"
   ]
  },
  {
   "cell_type": "markdown",
   "id": "5c5ac28f",
   "metadata": {},
   "source": [
    "Actually these are the filtered structured literals, so **not** useful!"
   ]
  },
  {
   "cell_type": "markdown",
   "id": "ec78f375",
   "metadata": {},
   "source": [
    "- Duplicates:"
   ]
  },
  {
   "cell_type": "code",
   "execution_count": null,
   "id": "4434bfcb",
   "metadata": {},
   "outputs": [],
   "source": [
    "!kgtk query -i $QNODES \\\n",
    "            --match '(p)-[]->(s)' \\\n",
    "            --return 'p, count(s) as N'"
   ]
  },
  {
   "cell_type": "markdown",
   "id": "1648d7b0",
   "metadata": {},
   "source": [
    "### 5. Summary"
   ]
  },
  {
   "cell_type": "code",
   "execution_count": 20,
   "id": "643698bc",
   "metadata": {},
   "outputs": [],
   "source": [
    "from prettytable import PrettyTable"
   ]
  },
  {
   "cell_type": "code",
   "execution_count": 26,
   "id": "73b13427",
   "metadata": {},
   "outputs": [
    {
     "name": "stdout",
     "output_type": "stream",
     "text": [
      "+-----------+---------+---------+---------------------+--------+\n",
      "| Data type | Numbers | Strings | Structured literals | Qnodes |\n",
      "+-----------+---------+---------+---------------------+--------+\n",
      "|   Lines   |    18   |    25   |          7          |   3    |\n",
      "|  Entities |    18   |    25   |          7          |   2    |\n",
      "+-----------+---------+---------+---------------------+--------+\n"
     ]
    }
   ],
   "source": [
    "x = PrettyTable()\n",
    "\n",
    "x.field_names = [\"Data type\", \"Numbers\", \"Strings\", \"Structured literals\", \"Qnodes\"]\n",
    "\n",
    "x.add_row(lines)\n",
    "x.add_row(entities)\n",
    "\n",
    "print(x)"
   ]
  },
  {
   "cell_type": "code",
   "execution_count": null,
   "id": "7b2b1f9f",
   "metadata": {},
   "outputs": [],
   "source": []
  }
 ],
 "metadata": {
  "kernelspec": {
   "display_name": "Python 3",
   "language": "python",
   "name": "python3"
  },
  "language_info": {
   "codemirror_mode": {
    "name": "ipython",
    "version": 3
   },
   "file_extension": ".py",
   "mimetype": "text/x-python",
   "name": "python",
   "nbconvert_exporter": "python",
   "pygments_lexer": "ipython3",
   "version": "3.7.10"
  }
 },
 "nbformat": 4,
 "nbformat_minor": 5
}
