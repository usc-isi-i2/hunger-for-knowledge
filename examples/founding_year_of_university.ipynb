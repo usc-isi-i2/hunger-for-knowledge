{
 "cells": [
  {
   "cell_type": "markdown",
   "id": "5590c730",
   "metadata": {},
   "source": [
    "# Step 0 Set up `kgtk`\n",
    "Check in `spouse_of_politician.ipynb`"
   ]
  },
  {
   "cell_type": "markdown",
   "id": "4777a93a",
   "metadata": {},
   "source": [
    "# Step 1 Send a SPARQL query use `kgtk`"
   ]
  },
  {
   "cell_type": "markdown",
   "id": "d8f93141",
   "metadata": {},
   "source": [
    "Example 1: Find founding years of universities: "
   ]
  },
  {
   "cell_type": "markdown",
   "id": "38b7999d",
   "metadata": {},
   "source": [
    "### Define alias and variables"
   ]
  },
  {
   "cell_type": "code",
   "execution_count": null,
   "id": "effb5aec",
   "metadata": {},
   "outputs": [],
   "source": [
    "%%bash\n",
    "# Database\n",
    "CLAIMS=../data/claims.tsv.gz\n",
    "WIKI_INFO=../data/wikidata_infobox.tsv\n",
    "# Results\n",
    "RESULTS=../data/founding_year_of_university.tsv\n",
    "NEW_RESULTS=../data/new_founding_year_of_university.tsv\n",
    "# Datatypes\n",
    "NUMBERS=../data/numbers.tsv\n",
    "STRINGS=../data/strings.tsv\n",
    "STRUCTURED_LITERALS=../data/structured_literals.tsv\n",
    "QNODES=../data/qnodes.tsv"
   ]
  },
  {
   "cell_type": "markdown",
   "id": "6251ebdb",
   "metadata": {},
   "source": [
    "### Main `kgtk` query:"
   ]
  },
  {
   "cell_type": "code",
   "execution_count": 1,
   "id": "3d712416",
   "metadata": {},
   "outputs": [],
   "source": [
    "# SPARQL query: \n",
    "# SELECT DISTINCT ?universityLabel (YEAR(?inception) AS ?foundingYear) \n",
    "# WHERE \n",
    "# { \n",
    "#   ?university wdt:P31/wdt:P279* wd:Q3918 ; \n",
    "#               wdt:P571 ?inception . \n",
    "#   SERVICE wikibase:label { bd:serviceParam wikibase:language \"en\". } \n",
    "# } \n",
    "# where `P31` means \"instance of\" and `P279` means \"subclass of\";"
   ]
  },
  {
   "cell_type": "code",
   "execution_count": 3,
   "id": "1190419e",
   "metadata": {},
   "outputs": [],
   "source": [
    "%%bash\n",
    "kgtk query -i ../data/claims.tsv.gz \\\n",
    "           --match 'c: (q)-[p:P279]->(v:Q3918)' \\\n",
    "           --return 'q, p.label, v' \\\n",
    "           -o ../data/subclass_of_university.tsv"
   ]
  },
  {
   "cell_type": "code",
   "execution_count": null,
   "id": "24c661c0",
   "metadata": {},
   "outputs": [],
   "source": [
    "%%bash\n",
    "kgtk query -i ../data/claims.tsv.gz \\\n",
    "           --match 'c: (q)-[p:P279]->()-[:P279]->(v:Q3918)' \\\n",
    "           --return 'q, p.label, v'"
   ]
  },
  {
   "cell_type": "markdown",
   "id": "160bc67a",
   "metadata": {},
   "source": [
    "**Type 1:** return full date information:"
   ]
  },
  {
   "cell_type": "code",
   "execution_count": 29,
   "id": "8428a920",
   "metadata": {},
   "outputs": [],
   "source": [
    "%%bash\n",
    "kgtk query -i ../data/claims.tsv.gz -i ../data/subclass_of_university.tsv \\\n",
    "           --match 'c: (u)<-[:P31]-(q)-[p:P571]->(d), s: (u)-[]->()' \\\n",
    "           --return 'distinct q, p.label, d' \\\n",
    "           -o ../data/founding_year_of_university.tsv"
   ]
  },
  {
   "cell_type": "markdown",
   "id": "c8362172",
   "metadata": {},
   "source": [
    "**Type 2:** return only `kgtk_date_date`:"
   ]
  },
  {
   "cell_type": "code",
   "execution_count": null,
   "id": "aef6c6db",
   "metadata": {},
   "outputs": [],
   "source": [
    "%%bash\n",
    "# head ../data/founding_year_of_university.tsv\n",
    "kgtk query -i ../data/founding_year_of_university.tsv \\\n",
    "           --match '(q)-[p]->(v)' \\\n",
    "           --return 'q, p.label, kgtk_date_date(v) as node2' \\\n",
    "           -o ../data/founding_year_of_university.tsv"
   ]
  },
  {
   "cell_type": "markdown",
   "id": "ef4232c8",
   "metadata": {},
   "source": [
    "**Type 3:** return only `kgtk_date_year`:"
   ]
  },
  {
   "cell_type": "code",
   "execution_count": 6,
   "id": "90f07bfa",
   "metadata": {},
   "outputs": [],
   "source": [
    "%%bash\n",
    "kgtk query -i ../data/claims.tsv.gz -i ../data/subclass_of_university.tsv \\\n",
    "           --match 'c: (u)<-[:P31]-(q)-[p:P571]->(d), s: (u)-[]->()' \\\n",
    "           --return 'distinct q, p.label, kgtk_date_year(d) as node2' \\\n",
    "           -o ../data/founding_year_of_university.tsv"
   ]
  },
  {
   "cell_type": "markdown",
   "id": "e79be3cc",
   "metadata": {},
   "source": [
    "For the convinient of property inference, we use **type 2**."
   ]
  },
  {
   "cell_type": "markdown",
   "id": "2042dc70",
   "metadata": {},
   "source": [
    "### Count known results in Wikidata database:"
   ]
  },
  {
   "cell_type": "markdown",
   "id": "2121edfe",
   "metadata": {},
   "source": [
    "Count university-founding_year pairs / **rows** (result should -1 which is the header):"
   ]
  },
  {
   "cell_type": "code",
   "execution_count": 7,
   "id": "e9ba7ef9",
   "metadata": {},
   "outputs": [
    {
     "name": "stdout",
     "output_type": "stream",
     "text": [
      "2340 ../data/founding_year_of_university.tsv\n"
     ]
    }
   ],
   "source": [
    "%%bash\n",
    "wc -l ../data/founding_year_of_university.tsv"
   ]
  },
  {
   "cell_type": "markdown",
   "id": "3fd3bb9c",
   "metadata": {},
   "source": [
    "Count how many **unique politicians** have spouse in Wikidata:"
   ]
  },
  {
   "cell_type": "code",
   "execution_count": 8,
   "id": "fb81e8c7",
   "metadata": {},
   "outputs": [
    {
     "name": "stdout",
     "output_type": "stream",
     "text": [
      "N\n",
      "2292\n"
     ]
    }
   ],
   "source": [
    "%%bash\n",
    "kgtk query -i ../data/founding_year_of_university.tsv \\\n",
    "           --match '(p)-[]->()' \\\n",
    "           --return 'count(distinct p) as N'"
   ]
  },
  {
   "cell_type": "markdown",
   "id": "d1cf2970",
   "metadata": {},
   "source": [
    "Duplicates:"
   ]
  },
  {
   "cell_type": "code",
   "execution_count": null,
   "id": "e4f10626",
   "metadata": {},
   "outputs": [],
   "source": [
    "%%bash\n",
    "RESULTS=../data/founding_year_of_university.tsv\n",
    "\n",
    "kgtk query -i $RESULTS \\\n",
    "           --match '(p)-[]->(s)' \\\n",
    "           --return 'p, count(s) as N' \\\n",
    "           --order-by 'N desc'"
   ]
  },
  {
   "cell_type": "markdown",
   "id": "44d9b6ac",
   "metadata": {},
   "source": [
    "### Find unknow results in Wikidata database:\n",
    "- Find all universities (already completed)"
   ]
  },
  {
   "cell_type": "code",
   "execution_count": 10,
   "id": "b054272e",
   "metadata": {},
   "outputs": [],
   "source": [
    "%%bash\n",
    "kgtk query -i ../data/claims.tsv.gz -i ../data/subclass_of_university.tsv \\\n",
    "           --match 'c: (u)<-[p:P31]-(q), s: (u)-[]->()' \\\n",
    "           --return 'q, p.label, u' \\\n",
    "           -o ../data/university.tsv"
   ]
  },
  {
   "cell_type": "markdown",
   "id": "1cb4d4d2",
   "metadata": {},
   "source": [
    "- Eliminate universities which have the founding year"
   ]
  },
  {
   "cell_type": "code",
   "execution_count": 11,
   "id": "80feafd2",
   "metadata": {},
   "outputs": [],
   "source": [
    "%%bash\n",
    "kgtk ifnotexists -i ../data/university.tsv \\\n",
    "                 --filter-on ../data/founding_year_of_university.tsv \\\n",
    "                 --input-keys node1 \\\n",
    "                 --filter-keys node1 \\\n",
    "                 -o ../data/university_wo_founding_year.tsv"
   ]
  },
  {
   "cell_type": "code",
   "execution_count": 12,
   "id": "d1779be9",
   "metadata": {},
   "outputs": [
    {
     "name": "stdout",
     "output_type": "stream",
     "text": [
      "397 ../data/university_wo_founding_year.tsv\n"
     ]
    }
   ],
   "source": [
    "%%bash\n",
    "wc -l ../data/university_wo_founding_year.tsv"
   ]
  },
  {
   "cell_type": "markdown",
   "id": "980f4545",
   "metadata": {},
   "source": [
    "### Count unknown results in Wikidata database:"
   ]
  },
  {
   "cell_type": "code",
   "execution_count": 13,
   "id": "e3ec515b",
   "metadata": {},
   "outputs": [
    {
     "name": "stdout",
     "output_type": "stream",
     "text": [
      "N\n",
      "395\n"
     ]
    }
   ],
   "source": [
    "%%bash\n",
    "kgtk query -i ../data/university_wo_founding_year.tsv \\\n",
    "           --match '(p)-[]->()' \\\n",
    "           --return 'count(distinct p) as N'"
   ]
  },
  {
   "cell_type": "markdown",
   "id": "f6b323a1",
   "metadata": {},
   "source": [
    "# Step 2 Infer properties"
   ]
  },
  {
   "cell_type": "markdown",
   "id": "0fe72819",
   "metadata": {},
   "source": [
    "Use query results from Wikidata database to infer properties in Wikidata infobox and return the most frequent property."
   ]
  },
  {
   "cell_type": "code",
   "execution_count": 38,
   "id": "23ed59d9",
   "metadata": {},
   "outputs": [
    {
     "name": "stdout",
     "output_type": "stream",
     "text": [
      "label\tN\n",
      "property:established\t686\n"
     ]
    }
   ],
   "source": [
    "%%bash\n",
    "RESULTS=../data/founding_year_of_university.tsv\n",
    "WIKI_INFO=../data/wikidata_infobox.tsv\n",
    "\n",
    "kgtk query -i $RESULTS -i $WIKI_INFO \\\n",
    "           --match 'f: (q)-[]->(y), w: (q)-[p]->(v)' \\\n",
    "           --where 'kgtk_date_year(y) = \"^\" + kgtk_unstringify(v)' \\\n",
    "           --return 'p.label, count(v) as N' \\\n",
    "           --order-by 'N desc' \\\n",
    "           --limit 1"
   ]
  },
  {
   "cell_type": "markdown",
   "id": "c337f051",
   "metadata": {},
   "source": [
    "# Step 3 Run query in Wikidata infobox "
   ]
  },
  {
   "cell_type": "markdown",
   "id": "72cd567d",
   "metadata": {},
   "source": [
    "For those don't have founding year, query in Wikidata infobox:"
   ]
  },
  {
   "cell_type": "code",
   "execution_count": 40,
   "id": "858a9a91",
   "metadata": {},
   "outputs": [],
   "source": [
    "%%bash\n",
    "WIKI_INFO=../data/wikidata_infobox.tsv\n",
    "QUERY_FILE=../data/university_wo_founding_year.tsv\n",
    "NEW_RESULTS=../data/new_founding_year_of_university.tsv\n",
    "\n",
    "kgtk query -i $QUERY_FILE -i $WIKI_INFO \\\n",
    "           --match 'u: (q)-[]->(), w: (q)-[p]->(v)' \\\n",
    "           --where 'p.label = \"property:established\"' \\\n",
    "           --return 'distinct q, p.label, v' \\\n",
    "           -o $NEW_RESULTS"
   ]
  },
  {
   "cell_type": "markdown",
   "id": "91588b3f",
   "metadata": {},
   "source": [
    "One can directly output results:"
   ]
  },
  {
   "cell_type": "code",
   "execution_count": 50,
   "id": "c0875b16",
   "metadata": {},
   "outputs": [
    {
     "name": "stdout",
     "output_type": "stream",
     "text": [
      "node1\tlabel\tnode2\n",
      "Q26910836\tproperty:established\tnodemxZbyK2VRrGoaxfdLmyLxw-7539514\n",
      "Q3550203\tproperty:established\t''@en\n",
      "Q3550203\tproperty:established\tnodemxZbyK2VRrGoaxfdLmyLxw-7539726\n",
      "Q3550203\tproperty:established\tnodemxZbyK2VRrGoaxfdLmyLxw-7539727\n",
      "Q5443327\tproperty:established\tnodemxZbyK2VRrGoaxfdLmyLxw-3383155\n",
      "Q55393546\tproperty:established\tnodemxZbyK2VRrGoaxfdLmyLxw-2045292\n"
     ]
    }
   ],
   "source": [
    "%%bash\n",
    "WIKI_INFO=../data/wikidata_infobox.tsv\n",
    "# QUERY_FILE=../data/university.tsv\n",
    "QUERY_FILE=../data/university_wo_founding_year.tsv\n",
    "NEW_RESULTS=../data/new_founding_year_of_university.tsv\n",
    "\n",
    "kgtk query -i $QUERY_FILE -i $WIKI_INFO \\\n",
    "           --match 'u: (q)-[]->(), w: (q)-[p]->(v)' \\\n",
    "           --where 'p.label = \"property:established\"' \\\n",
    "           --return 'distinct q, p.label, v'"
   ]
  },
  {
   "cell_type": "markdown",
   "id": "7cccefe0",
   "metadata": {},
   "source": [
    "- Count rows of new findings:"
   ]
  },
  {
   "cell_type": "code",
   "execution_count": 41,
   "id": "1dfc3a34",
   "metadata": {},
   "outputs": [
    {
     "name": "stdout",
     "output_type": "stream",
     "text": [
      "7 ../data/new_founding_year_of_university.tsv\n"
     ]
    }
   ],
   "source": [
    "%%bash\n",
    "wc -l ../data/new_founding_year_of_university.tsv"
   ]
  },
  {
   "cell_type": "markdown",
   "id": "e6db8cc9",
   "metadata": {},
   "source": [
    "- Count unique politicians of new findings:"
   ]
  },
  {
   "cell_type": "code",
   "execution_count": 42,
   "id": "b0222456",
   "metadata": {},
   "outputs": [
    {
     "name": "stdout",
     "output_type": "stream",
     "text": [
      "N\n",
      "4\n"
     ]
    }
   ],
   "source": [
    "%%bash\n",
    "kgtk query -i ../data/new_founding_year_of_university.tsv \\\n",
    "           --match 'n: (p)-[]->()' \\\n",
    "           --return 'count(distinct p) as N'"
   ]
  },
  {
   "cell_type": "markdown",
   "id": "9efae737",
   "metadata": {},
   "source": [
    "# Step 4 Datatype distribution of new findings"
   ]
  },
  {
   "cell_type": "markdown",
   "id": "6fcc123a",
   "metadata": {},
   "source": [
    "### 1. Numbers:"
   ]
  },
  {
   "cell_type": "markdown",
   "id": "22f4c922",
   "metadata": {},
   "source": [
    "- Rows:"
   ]
  },
  {
   "cell_type": "code",
   "execution_count": 43,
   "id": "1c72020c",
   "metadata": {},
   "outputs": [
    {
     "name": "stdout",
     "output_type": "stream",
     "text": [
      "1 ../data/numbers.tsv\n"
     ]
    }
   ],
   "source": [
    "%%bash\n",
    "kgtk query -i ../data/new_founding_year_of_university.tsv \\\n",
    "           --match 'n: (p)-[]->(s)' \\\n",
    "           --where 'kgtk_number(s)' \\\n",
    "           -o ../data/numbers.tsv\n",
    "\n",
    "wc -l ../data/numbers.tsv"
   ]
  },
  {
   "cell_type": "markdown",
   "id": "22127864",
   "metadata": {},
   "source": [
    "- Unique universities:"
   ]
  },
  {
   "cell_type": "code",
   "execution_count": 44,
   "id": "79334cac",
   "metadata": {},
   "outputs": [
    {
     "name": "stdout",
     "output_type": "stream",
     "text": [
      "N\n",
      "0\n"
     ]
    }
   ],
   "source": [
    "%%bash\n",
    "kgtk query -i ../data/numbers.tsv \\\n",
    "           --match '(p)-[]->()' \\\n",
    "           --return 'count(distinct p) as N'"
   ]
  },
  {
   "cell_type": "markdown",
   "id": "6050c150",
   "metadata": {},
   "source": [
    "- Duplicates (movies that have multiple numbers):"
   ]
  },
  {
   "cell_type": "code",
   "execution_count": null,
   "id": "ca27b378",
   "metadata": {},
   "outputs": [],
   "source": [
    "%%bash\n",
    "kgtk query -i ../data/numbers.tsv \\\n",
    "           --match '(p)-[]->(s)' \\\n",
    "           --return 'p, count(s) as N' \\\n",
    "           --order-by 'N desc'"
   ]
  },
  {
   "cell_type": "markdown",
   "id": "0f53ae0b",
   "metadata": {},
   "source": [
    "### 2. Structured literals:"
   ]
  },
  {
   "cell_type": "markdown",
   "id": "24e7ce55",
   "metadata": {},
   "source": [
    "- Rows:"
   ]
  },
  {
   "cell_type": "code",
   "execution_count": 45,
   "id": "492be002",
   "metadata": {},
   "outputs": [
    {
     "name": "stdout",
     "output_type": "stream",
     "text": [
      "6 ../data/structured_literals.tsv\n"
     ]
    }
   ],
   "source": [
    "%%bash\n",
    "NEW_RESULTS=../data/new_founding_year_of_university.tsv\n",
    "WIKI_INFO=../data/wikidata_infobox.tsv\n",
    "\n",
    "kgtk query -i $NEW_RESULTS -i $WIKI_INFO \\\n",
    "           --match 'n: (q)-[p]->(s), w: (s)-[sv]->(v)' \\\n",
    "           --where 'NOT kgtk_lqstring(s) AND NOT kgtk_number(s) AND sv.label = \"dbpedia:structured_value\"' \\\n",
    "           --return 'q, p.label, v' \\\n",
    "           -o ../data/structured_literals.tsv\n",
    "\n",
    "wc -l ../data/structured_literals.tsv"
   ]
  },
  {
   "cell_type": "code",
   "execution_count": 46,
   "id": "9664fd70",
   "metadata": {},
   "outputs": [
    {
     "name": "stdout",
     "output_type": "stream",
     "text": [
      "node1\tlabel\tnode2\n",
      "Q26910836\tproperty:established\t\"2009-06-07\"\n",
      "Q3550203\tproperty:established\t\"--02-20\"\n",
      "Q3550203\tproperty:established\t\"--03-22\"\n",
      "Q5443327\tproperty:established\t\"2016-03-17\"\n",
      "Q55393546\tproperty:established\t\"2017-08-18\"\n"
     ]
    }
   ],
   "source": [
    "%%bash\n",
    "head ../data/structured_literals.tsv"
   ]
  },
  {
   "cell_type": "markdown",
   "id": "88e74673",
   "metadata": {},
   "source": [
    "- Unique universities:"
   ]
  },
  {
   "cell_type": "code",
   "execution_count": 47,
   "id": "23145c23",
   "metadata": {},
   "outputs": [
    {
     "name": "stdout",
     "output_type": "stream",
     "text": [
      "N\n",
      "4\n"
     ]
    }
   ],
   "source": [
    "%%bash\n",
    "kgtk query -i ../data/structured_literals.tsv \\\n",
    "           --match '(p)-[]->()' \\\n",
    "           --return 'count(distinct p) as N'"
   ]
  },
  {
   "cell_type": "markdown",
   "id": "296a7e7c",
   "metadata": {},
   "source": [
    "- Duplicates:"
   ]
  },
  {
   "cell_type": "code",
   "execution_count": 52,
   "id": "859e7486",
   "metadata": {},
   "outputs": [
    {
     "name": "stdout",
     "output_type": "stream",
     "text": [
      "node1\tN\n",
      "Q3550203\t2\n",
      "Q55393546\t1\n",
      "Q5443327\t1\n",
      "Q26910836\t1\n"
     ]
    }
   ],
   "source": [
    "%%bash\n",
    "kgtk query -i ../data/structured_literals.tsv \\\n",
    "           --match '(p)-[]->(s)' \\\n",
    "           --return 'p, count(s) as N' \\\n",
    "           --order-by 'N desc'"
   ]
  },
  {
   "cell_type": "markdown",
   "id": "d87e525a",
   "metadata": {},
   "source": [
    "### 3. Strings:"
   ]
  },
  {
   "cell_type": "markdown",
   "id": "0a9de3ce",
   "metadata": {},
   "source": [
    "#### All:"
   ]
  },
  {
   "cell_type": "markdown",
   "id": "d1cae22a",
   "metadata": {},
   "source": [
    "- Rows:"
   ]
  },
  {
   "cell_type": "code",
   "execution_count": 53,
   "id": "2c758a34",
   "metadata": {},
   "outputs": [
    {
     "name": "stdout",
     "output_type": "stream",
     "text": [
      "2 ../data/strings.tsv\n"
     ]
    }
   ],
   "source": [
    "%%bash\n",
    "NEW_RESULTS=../data/new_founding_year_of_university.tsv\n",
    "\n",
    "kgtk query -i $NEW_RESULTS \\\n",
    "           --match 'n: (p)-[]->(s)' \\\n",
    "           --where 'kgtk_lqstring(s)' \\\n",
    "           -o ../data/strings.tsv\n",
    "\n",
    "wc -l ../data/strings.tsv"
   ]
  },
  {
   "cell_type": "markdown",
   "id": "5231fb8c",
   "metadata": {},
   "source": [
    "- Unique universities:"
   ]
  },
  {
   "cell_type": "code",
   "execution_count": 54,
   "id": "f2dae079",
   "metadata": {},
   "outputs": [
    {
     "name": "stdout",
     "output_type": "stream",
     "text": [
      "N\n",
      "1\n"
     ]
    }
   ],
   "source": [
    "%%bash\n",
    "kgtk query -i ../data/strings.tsv \\\n",
    "           --match '(p)-[]->()' \\\n",
    "           --return 'count(distinct p) as N'"
   ]
  },
  {
   "cell_type": "markdown",
   "id": "0484b83e",
   "metadata": {},
   "source": [
    "- Duplicates:"
   ]
  },
  {
   "cell_type": "code",
   "execution_count": 55,
   "id": "bf20c418",
   "metadata": {},
   "outputs": [
    {
     "name": "stdout",
     "output_type": "stream",
     "text": [
      "node1\tN\n",
      "Q3550203\t1\n"
     ]
    }
   ],
   "source": [
    "%%bash\n",
    "kgtk query -i ../data/strings.tsv \\\n",
    "           --match '(p)-[]->(s)' \\\n",
    "           --return 'p, count(s) as N' \\\n",
    "           --order-by 'N desc'"
   ]
  },
  {
   "cell_type": "markdown",
   "id": "1540d551",
   "metadata": {},
   "source": [
    "#### Empty:"
   ]
  },
  {
   "cell_type": "markdown",
   "id": "bcac99d2",
   "metadata": {},
   "source": [
    "- Rows:"
   ]
  },
  {
   "cell_type": "code",
   "execution_count": 56,
   "id": "6c303dc9",
   "metadata": {},
   "outputs": [
    {
     "name": "stdout",
     "output_type": "stream",
     "text": [
      "2 ../data/empty_strings.tsv\n"
     ]
    }
   ],
   "source": [
    "%%bash\n",
    "NEW_RESULTS=../data/new_founding_year_of_university.tsv\n",
    "\n",
    "kgtk query -i $NEW_RESULTS \\\n",
    "           --match 'n: (p)-[]->(s)' \\\n",
    "           --where 'kgtk_lqstring_text(s) = \"\"' \\\n",
    "           -o ../data/empty_strings.tsv\n",
    "\n",
    "wc -l ../data/empty_strings.tsv"
   ]
  },
  {
   "cell_type": "markdown",
   "id": "79a36412",
   "metadata": {},
   "source": [
    "- Unique universities:"
   ]
  },
  {
   "cell_type": "code",
   "execution_count": 57,
   "id": "417d4c06",
   "metadata": {},
   "outputs": [
    {
     "name": "stdout",
     "output_type": "stream",
     "text": [
      "N\n",
      "1\n"
     ]
    }
   ],
   "source": [
    "%%bash\n",
    "kgtk query -i ../data/empty_strings.tsv \\\n",
    "           --match 'n: (p)-[]->()' \\\n",
    "           --return 'count(distinct p) as N'"
   ]
  },
  {
   "cell_type": "markdown",
   "id": "da0420fd",
   "metadata": {},
   "source": [
    "#### Further check empty strings:"
   ]
  },
  {
   "cell_type": "markdown",
   "id": "e784e2be",
   "metadata": {},
   "source": [
    "First we filter out all non-empty strings:"
   ]
  },
  {
   "cell_type": "code",
   "execution_count": 58,
   "id": "de81bdf5",
   "metadata": {},
   "outputs": [],
   "source": [
    "%%bash\n",
    "kgtk query -i ../data/new_founding_year_of_university.tsv \\\n",
    "           --match 'n: (p)-[]->(s)' \\\n",
    "           --where 'NOT kgtk_lqstring(s) OR kgtk_lqstring_text(s) != \"\"' \\\n",
    "           -o ../data/non_empty_strings.tsv"
   ]
  },
  {
   "cell_type": "markdown",
   "id": "2ab07372",
   "metadata": {},
   "source": [
    "Then we filter those in empty but also have founding year in non-empty ones, then we can count how many \"pure\" empty:"
   ]
  },
  {
   "cell_type": "code",
   "execution_count": 59,
   "id": "c9b02572",
   "metadata": {},
   "outputs": [
    {
     "name": "stdout",
     "output_type": "stream",
     "text": [
      "1 ../data/pure_empty.tsv\n"
     ]
    }
   ],
   "source": [
    "%%bash\n",
    "kgtk ifnotexists -i ../data/empty_strings.tsv \\\n",
    "                 --filter-on ../data/non_empty_strings.tsv \\\n",
    "                 --input-keys node1 \\\n",
    "                 --filter-keys node1 \\\n",
    "                 -o ../data/pure_empty.tsv \n",
    "\n",
    "wc -l ../data/pure_empty.tsv"
   ]
  },
  {
   "cell_type": "code",
   "execution_count": 60,
   "id": "1def8bd4",
   "metadata": {},
   "outputs": [
    {
     "name": "stdout",
     "output_type": "stream",
     "text": [
      "N\n",
      "0\n"
     ]
    }
   ],
   "source": [
    "%%bash\n",
    "kgtk query -i ../data/pure_empty.tsv \\\n",
    "           --match 'p: (q)-[]->()' \\\n",
    "           --return 'count(distinct q) as N'"
   ]
  },
  {
   "cell_type": "markdown",
   "id": "3724b905",
   "metadata": {},
   "source": [
    "### 4. Qnodes"
   ]
  },
  {
   "cell_type": "markdown",
   "id": "d8324982",
   "metadata": {},
   "source": [
    "- Rows:"
   ]
  },
  {
   "cell_type": "code",
   "execution_count": 61,
   "id": "6e4b2ddd",
   "metadata": {},
   "outputs": [
    {
     "name": "stdout",
     "output_type": "stream",
     "text": [
      "1 ../data/qnodes.tsv\n"
     ]
    }
   ],
   "source": [
    "%%bash\n",
    "NEW_RESULTS=../data/new_founding_year_of_university.tsv\n",
    "\n",
    "kgtk query -i $NEW_RESULTS \\\n",
    "           --match 'n:()-[]->(q)' \\\n",
    "           --where 'NOT kgtk_lqstring(q) AND NOT kgtk_number(q)' \\\n",
    "           -o ../data/nodes.tsv\n",
    "\n",
    "kgtk ifnotexists -i ../data/nodes.tsv \\\n",
    "                 --filter-on ../data/structured_literals.tsv \\\n",
    "                 --input-keys node1 \\\n",
    "                 --filter-keys node1 \\\n",
    "                 -o ../data/qnodes.tsv \n",
    "\n",
    "wc -l ../data/qnodes.tsv"
   ]
  },
  {
   "cell_type": "markdown",
   "id": "206bbd74",
   "metadata": {},
   "source": [
    "- Unique movies:"
   ]
  },
  {
   "cell_type": "code",
   "execution_count": 62,
   "id": "6c39ff00",
   "metadata": {},
   "outputs": [
    {
     "name": "stdout",
     "output_type": "stream",
     "text": [
      "N\n",
      "0\n"
     ]
    }
   ],
   "source": [
    "%%bash\n",
    "kgtk query -i ../data/qnodes.tsv \\\n",
    "           --match '(p)-[]->()' \\\n",
    "           --return 'count(distinct p) as N'"
   ]
  },
  {
   "cell_type": "markdown",
   "id": "ec78f375",
   "metadata": {},
   "source": [
    "- Duplicates:"
   ]
  },
  {
   "cell_type": "code",
   "execution_count": null,
   "id": "4434bfcb",
   "metadata": {},
   "outputs": [],
   "source": [
    "%%bash\n",
    "kgtk query -i ../data/qnodes.tsv \\\n",
    "           --match '(p)-[]->(s)' \\\n",
    "           --return 'p, count(s) as N'"
   ]
  },
  {
   "cell_type": "code",
   "execution_count": null,
   "id": "407140e8",
   "metadata": {},
   "outputs": [],
   "source": []
  }
 ],
 "metadata": {
  "kernelspec": {
   "display_name": "Python 3",
   "language": "python",
   "name": "python3"
  },
  "language_info": {
   "codemirror_mode": {
    "name": "ipython",
    "version": 3
   },
   "file_extension": ".py",
   "mimetype": "text/x-python",
   "name": "python",
   "nbconvert_exporter": "python",
   "pygments_lexer": "ipython3",
   "version": "3.7.10"
  }
 },
 "nbformat": 4,
 "nbformat_minor": 5
}
