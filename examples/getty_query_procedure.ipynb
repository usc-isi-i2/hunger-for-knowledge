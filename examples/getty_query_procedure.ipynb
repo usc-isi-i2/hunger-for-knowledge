{
 "cells": [
  {
   "cell_type": "code",
   "execution_count": 1,
   "id": "ad7e2663",
   "metadata": {},
   "outputs": [],
   "source": [
    "import os\n",
    "import re\n",
    "import time\n",
    "import json\n",
    "import subprocess"
   ]
  },
  {
   "cell_type": "markdown",
   "id": "0d135d32",
   "metadata": {},
   "source": [
    "# Set up environment path"
   ]
  },
  {
   "cell_type": "markdown",
   "id": "424eddf6",
   "metadata": {},
   "source": [
    "Set by group:"
   ]
  },
  {
   "cell_type": "code",
   "execution_count": 86,
   "id": "9551c3bf",
   "metadata": {},
   "outputs": [
    {
     "name": "stdout",
     "output_type": "stream",
     "text": [
      "DATABASE: \"/nas/home/bohuizha/KG/hunger-for-knowledge/data/gvp\"\n",
      "ULAN: \"/nas/home/bohuizha/KG/hunger-for-knowledge/data/gvp/ULAN\"\n",
      "TGN: \"/nas/home/bohuizha/KG/hunger-for-knowledge/data/gvp/TGN\"\n",
      "ULAN_SUBJECTS_NT: \"/nas/home/bohuizha/KG/hunger-for-knowledge/data/gvp/ULAN/ULANOut_1Subjects.nt\"\n",
      "ULAN_TERMS_NT: \"/nas/home/bohuizha/KG/hunger-for-knowledge/data/gvp/ULAN/ULANOut_2Terms.nt\"\n",
      "ULAN_AGENTMAP_NT: \"/nas/home/bohuizha/KG/hunger-for-knowledge/data/gvp/ULAN/ULANOut_AgentMap.nt\"\n",
      "ULAN_AGENTTYPES_NT: \"/nas/home/bohuizha/KG/hunger-for-knowledge/data/gvp/ULAN/ULANOut_AgentTypes.nt\"\n",
      "ULAN_BIOGRAPHIES_NT: \"/nas/home/bohuizha/KG/hunger-for-knowledge/data/gvp/ULAN/ULANOut_Biographies.nt\"\n",
      "ULAN_EVENT_NT: \"/nas/home/bohuizha/KG/hunger-for-knowledge/data/gvp/ULAN/ULANOut_Event.nt\"\n",
      "ULAN_NATIONALITY_NT: \"/nas/home/bohuizha/KG/hunger-for-knowledge/data/gvp/ULAN/ULANOut_Nationality.nt\"\n",
      "ULAN_SCOPENOTES_NT: \"/nas/home/bohuizha/KG/hunger-for-knowledge/data/gvp/ULAN/ULANOut_ScopeNotes.nt\"\n",
      "ULAN_SUBJECTS: \"/nas/home/bohuizha/KG/hunger-for-knowledge/data/gvp/ULAN/Subjects.tsv\"\n",
      "ULAN_TERMS: \"/nas/home/bohuizha/KG/hunger-for-knowledge/data/gvp/ULAN/Terms.tsv\"\n",
      "ULAN_AGENTMAP: \"/nas/home/bohuizha/KG/hunger-for-knowledge/data/gvp/ULAN/AgentMap.tsv\"\n",
      "ULAN_AGENTTYPES: \"/nas/home/bohuizha/KG/hunger-for-knowledge/data/gvp/ULAN/AgentTypes.tsv\"\n",
      "ULAN_BIOGRAPHIES: \"/nas/home/bohuizha/KG/hunger-for-knowledge/data/gvp/ULAN/Biographies.tsv\"\n",
      "ULAN_EVENT: \"/nas/home/bohuizha/KG/hunger-for-knowledge/data/gvp/ULAN/Event.tsv\"\n",
      "ULAN_NATIONALITY: \"/nas/home/bohuizha/KG/hunger-for-knowledge/data/gvp/ULAN/Nationality.tsv\"\n",
      "ULAN_SCOPENOTES: \"/nas/home/bohuizha/KG/hunger-for-knowledge/data/gvp/ULAN/ScopeNotes.tsv\"\n",
      "TGN_SUBJECTS_NT: \"/nas/home/bohuizha/KG/hunger-for-knowledge/data/gvp/TGN/TGNOut_1Subjects.nt\"\n",
      "TGN_TERMS_NT: \"/nas/home/bohuizha/KG/hunger-for-knowledge/data/gvp/TGN/TGNOut_2Terms.nt\"\n",
      "TGN_PLACEMAP_NT: \"/nas/home/bohuizha/KG/hunger-for-knowledge/data/gvp/TGN/TGNOut_PlaceMap.nt\"\n",
      "TGN_PLACETYPES_NT: \"/nas/home/bohuizha/KG/hunger-for-knowledge/data/gvp/TGN/TGNOut_PlaceTypes.nt\"\n",
      "TGN_COORDINATES_NT: \"/nas/home/bohuizha/KG/hunger-for-knowledge/data/gvp/TGN/TGNOut_Coordinates.nt\"\n",
      "TGN_SCOPENOTES_NT: \"/nas/home/bohuizha/KG/hunger-for-knowledge/data/gvp/TGN/TGNOut_ScopeNotes.nt\"\n",
      "TGN_SUBJECTS: \"/nas/home/bohuizha/KG/hunger-for-knowledge/data/gvp/TGN/Subjects.tsv\"\n",
      "TGN_TERMS: \"/nas/home/bohuizha/KG/hunger-for-knowledge/data/gvp/TGN/Terms.tsv\"\n",
      "TGN_PLACEMAP: \"/nas/home/bohuizha/KG/hunger-for-knowledge/data/gvp/TGN/PlaceMap.tsv\"\n",
      "TGN_PLACETYPES: \"/nas/home/bohuizha/KG/hunger-for-knowledge/data/gvp/TGN/PlaceTypes.tsv\"\n",
      "TGN_COORDINATES: \"/nas/home/bohuizha/KG/hunger-for-knowledge/data/gvp/TGN/Coordinates.tsv\"\n",
      "TGN_SCOPENOTES: \"/nas/home/bohuizha/KG/hunger-for-knowledge/data/gvp/TGN/ScopeNotes.tsv\"\n",
      "OUTPUT: \"/nas/home/bohuizha/KG/hunger-for-knowledge/data/gvp/output\"\n",
      "WIKI_BIRTHDATE: \"/nas/home/bohuizha/KG/hunger-for-knowledge/data/gvp/output/wiki.birthdate.tsv\"\n",
      "WIKI_BIRTHPLACE: \"/nas/home/bohuizha/KG/hunger-for-knowledge/data/gvp/output/wiki.birthplace.tsv\"\n",
      "WIKI_DEATHDATE: \"/nas/home/bohuizha/KG/hunger-for-knowledge/data/gvp/output/wiki.deathdate.tsv\"\n",
      "WIKI_RESULTS: \"/nas/home/bohuizha/KG/hunger-for-knowledge/data/gvp/output/wiki.results.tsv\"\n",
      "UNKNOWN: \"/nas/home/bohuizha/KG/hunger-for-knowledge/data/gvp/output/unknown.tsv\"\n",
      "BIRTHYEAR: \"/nas/home/bohuizha/KG/hunger-for-knowledge/data/gvp/output/birthyear.tsv\"\n",
      "BIRTHPLACE_TEMP: \"/nas/home/bohuizha/KG/hunger-for-knowledge/data/gvp/output/temp.birthplace.tsv\"\n",
      "BIRTHPLACE: \"/nas/home/bohuizha/KG/hunger-for-knowledge/data/gvp/output/birthplace.tsv\"\n",
      "DEATHYEAR: \"/nas/home/bohuizha/KG/hunger-for-knowledge/data/gvp/output/deathyear.tsv\"\n",
      "GETTY_RESULTS: \"/nas/home/bohuizha/KG/hunger-for-knowledge/data/gvp/output/getty.results.tsv\"\n",
      "MATCH_BIRTHYEAR: \"/nas/home/bohuizha/KG/hunger-for-knowledge/data/gvp/output/match.birthyear.tsv\"\n",
      "MATCH_DEATHYEAR: \"/nas/home/bohuizha/KG/hunger-for-knowledge/data/gvp/output/match.deathyear.tsv\"\n",
      "MATCH_BIRTHPLACE: \"/nas/home/bohuizha/KG/hunger-for-knowledge/data/gvp/output/match.birthplace.tsv\"\n",
      "NEW_BIRTHYEAR: \"/nas/home/bohuizha/KG/hunger-for-knowledge/data/gvp/output/new.birthyear.tsv\"\n",
      "NEW_DEATHYEAR: \"/nas/home/bohuizha/KG/hunger-for-knowledge/data/gvp/output/new.deathyear.tsv\"\n",
      "NEW_BIRTHPLACE: \"/nas/home/bohuizha/KG/hunger-for-knowledge/data/gvp/output/new.birthplace.tsv\"\n",
      "NEW_RESULTS: \"/nas/home/bohuizha/KG/hunger-for-knowledge/data/gvp/output/new.results.tsv\"\n"
     ]
    }
   ],
   "source": [
    "# Parameters\n",
    "\n",
    "# We will define environment variables to hold the full paths to the files as we will use them in the shell commands\n",
    "kgtk_environment_variables = []\n",
    "\n",
    "# Folder where database files store\n",
    "data_path = \"/nas/home/bohuizha/KG/hunger-for-knowledge/data/gvp\"\n",
    "os.environ['DATABASE'] = data_path\n",
    "kgtk_environment_variables.append('DATABASE')\n",
    "\n",
    "# Folder of ULAN\n",
    "ulan_path = \"/nas/home/bohuizha/KG/hunger-for-knowledge/data/gvp/ULAN\"\n",
    "os.environ['ULAN'] = ulan_path\n",
    "kgtk_environment_variables.append('ULAN')\n",
    "\n",
    "# Folder of TGN\n",
    "tgn_path = \"/nas/home/bohuizha/KG/hunger-for-knowledge/data/gvp/TGN\"\n",
    "os.environ['TGN'] = tgn_path\n",
    "kgtk_environment_variables.append('TGN')\n",
    "\n",
    "# The original ntriple & import data\n",
    "# ULAN\n",
    "original_ulan_names = {\n",
    "    \"ulan_subjects_nt\": \"ULANOut_1Subjects.nt\",\n",
    "    \"ulan_terms_nt\": \"ULANOut_2Terms.nt\",\n",
    "    \"ulan_agentmap_nt\": \"ULANOut_AgentMap.nt\",\n",
    "    \"ulan_agenttypes_nt\": \"ULANOut_AgentTypes.nt\",\n",
    "    # \"ulan_associativerels_nt\": \"ULANOut_AssociativeRels.nt\",\n",
    "    \"ulan_biographies_nt\": \"ULANOut_Biographies.nt\",\n",
    "    # \"ulan_contribrels_nt\": \"ULANOut_ContribRels.nt\",\n",
    "    # \"ulan_contribs_nt\": \"ULANOut_Contribs.nt\",\n",
    "    \"ulan_event_nt\": \"ULANOut_Event.nt\",\n",
    "    # \"ulan_hierarchicalrels_nt\": \"ULANOut_HierarchicalRels.nt\",\n",
    "    \"ulan_nationality_nt\": \"ULANOut_Nationality.nt\",\n",
    "    \"ulan_scopenotes_nt\": \"ULANOut_ScopeNotes.nt\"\n",
    "}\n",
    "\n",
    "for key, value in original_ulan_names.items():\n",
    "    variable = key.upper()\n",
    "    os.environ[variable] = os.path.join(ulan_path, value)\n",
    "    kgtk_environment_variables.append(variable)\n",
    "    \n",
    "imported_ulan_names = {\n",
    "    \"ulan_subjects\": \"Subjects.tsv\",\n",
    "    \"ulan_terms\": \"Terms.tsv\",\n",
    "    \"ulan_agentmap\": \"AgentMap.tsv\",\n",
    "    \"ulan_agenttypes\": \"AgentTypes.tsv\",\n",
    "    # \"ulan_associativerels\": \"AssociativeRels.tsv\",\n",
    "    \"ulan_biographies\": \"Biographies.tsv\",\n",
    "    # \"ulan_contribrels\": \"ContribRels.tsv\",\n",
    "    # \"ulan_contribs\": \"Contribs.tsv\",\n",
    "    \"ulan_event\": \"Event.tsv\",\n",
    "    # \"ulan_hierarchicalrels\": \"HierarchicalRels.tsv\",\n",
    "    \"ulan_nationality\": \"Nationality.tsv\",\n",
    "    \"ulan_scopenotes\": \"ScopeNotes.tsv\"\n",
    "}\n",
    "\n",
    "for key, value in imported_ulan_names.items():\n",
    "    variable = key.upper()\n",
    "    os.environ[variable] = os.path.join(ulan_path, value)\n",
    "    kgtk_environment_variables.append(variable)\n",
    "    \n",
    "# TGN\n",
    "original_tgn_names = {\n",
    "    \"tgn_subjects_nt\": \"TGNOut_1Subjects.nt\",\n",
    "    \"tgn_terms_nt\": \"TGNOut_2Terms.nt\",\n",
    "    \"tgn_placemap_nt\": \"TGNOut_PlaceMap.nt\",\n",
    "    \"tgn_placetypes_nt\": \"TGNOut_PlaceTypes.nt\",\n",
    "    # \"tgn_associativerels_nt\": \"TGNOut_AssociativeRels.nt\",\n",
    "    \"tgn_coordinates_nt\": \"TGNOut_Coordinates.nt\",\n",
    "    # \"tgn_contribrels_nt\": \"TGNOut_ContribRels.nt\",\n",
    "    # \"tgn_contribs_nt\": \"TGNOut_Contribs.nt\",\n",
    "    # \"tgn_hierarchicalrels_nt\": \"TGNOut_HierarchicalRels.nt\",\n",
    "    \"tgn_scopenotes_nt\": \"TGNOut_ScopeNotes.nt\"\n",
    "}\n",
    "\n",
    "for key, value in original_tgn_names.items():\n",
    "    variable = key.upper()\n",
    "    os.environ[variable] = os.path.join(tgn_path, value)\n",
    "    kgtk_environment_variables.append(variable)\n",
    "    \n",
    "imported_tgn_names = {\n",
    "    \"tgn_subjects\": \"Subjects.tsv\",\n",
    "    \"tgn_terms\": \"Terms.tsv\",\n",
    "    \"tgn_placemap\": \"PlaceMap.tsv\",\n",
    "    \"tgn_placetypes\": \"PlaceTypes.tsv\",\n",
    "    # \"tgn_associativerels\": \"AssociativeRels.tsv\",\n",
    "    \"tgn_coordinates\": \"Coordinates.tsv\",\n",
    "    # \"tgn_contribrels\": \"ContribRels.tsv\",\n",
    "    # \"tgn_contribs\": \"Contribs.tsv\",\n",
    "    # \"tgn_hierarchicalrels\": \"HierarchicalRels.tsv\",\n",
    "    \"tgn_scopenotes\": \"ScopeNotes.tsv\"\n",
    "}\n",
    "\n",
    "for key, value in imported_tgn_names.items():\n",
    "    variable = key.upper()\n",
    "    os.environ[variable] = os.path.join(tgn_path, value)\n",
    "    kgtk_environment_variables.append(variable)\n",
    "    \n",
    "# Output\n",
    "output_path = \"/nas/home/bohuizha/KG/hunger-for-knowledge/data/gvp/output\"\n",
    "os.environ['OUTPUT'] = output_path\n",
    "kgtk_environment_variables.append('OUTPUT')\n",
    "\n",
    "output_names = {\n",
    "    \"wiki_birthdate\": \"wiki.birthdate.tsv\",\n",
    "    \"wiki_birthplace\": \"wiki.birthplace.tsv\",\n",
    "    \"wiki_deathdate\": \"wiki.deathdate.tsv\",\n",
    "    \"wiki_results\": \"wiki.results.tsv\",\n",
    "    \"unknown\": \"unknown.tsv\",\n",
    "    \"birthyear\": \"birthyear.tsv\",\n",
    "    \"birthplace_temp\": \"temp.birthplace.tsv\",\n",
    "    \"birthplace\": \"birthplace.tsv\",\n",
    "    \"deathyear\": \"deathyear.tsv\",\n",
    "    \"getty_results\": \"getty.results.tsv\",\n",
    "    \"match_birthyear\": \"match.birthyear.tsv\",\n",
    "    \"match_deathyear\": \"match.deathyear.tsv\",\n",
    "    \"match_birthplace\": \"match.birthplace.tsv\",\n",
    "    \"new_birthyear\": \"new.birthyear.tsv\",\n",
    "    \"new_deathyear\": \"new.deathyear.tsv\",\n",
    "    \"new_birthplace\": \"new.birthplace.tsv\",\n",
    "    \"new_results\": \"new.results.tsv\"\n",
    "}\n",
    "\n",
    "for key, value in output_names.items():\n",
    "    variable = key.upper()\n",
    "    os.environ[variable] = os.path.join(output_path, value)\n",
    "    kgtk_environment_variables.append(variable)\n",
    "\n",
    "for variable in kgtk_environment_variables:\n",
    "    print(\"{}: \\\"{}\\\"\".format(variable, os.environ[variable]))"
   ]
  },
  {
   "cell_type": "markdown",
   "id": "20160788",
   "metadata": {},
   "source": [
    "Set for singles:"
   ]
  },
  {
   "cell_type": "code",
   "execution_count": 3,
   "id": "69d205a0",
   "metadata": {},
   "outputs": [],
   "source": [
    "namespaces_path = '/nas/home/bohuizha/KG/hunger-for-knowledge/data/gvp/namespaces.tsv'\n",
    "os.environ['NAMESPACES'] = namespaces_path\n",
    "kgtk_environment_variables.append('NAMESPACES')\n",
    "\n",
    "wikidata_path = '/nas/home/bohuizha/KG/hunger-for-knowledge/data/claims.tsv'\n",
    "os.environ['CLAIMS'] = wikidata_path\n",
    "kgtk_environment_variables.append('CLAIMS')\n",
    "\n",
    "ulan_qnodes_path = '/nas/home/bohuizha/KG/hunger-for-knowledge/data/gvp/ulan-qnodes.tsv'\n",
    "os.environ['ULAN_QNODES'] = ulan_qnodes_path\n",
    "kgtk_environment_variables.append('ULAN_QNODES')\n",
    "\n",
    "samples_path = '/nas/home/bohuizha/KG/hunger-for-knowledge/data/gvp/samples.tsv'\n",
    "os.environ['SAMPLES'] = samples_path\n",
    "kgtk_environment_variables.append('SAMPLES')\n",
    "\n",
    "p245_path=\"/nas/home/bohuizha/KG/hunger-for-knowledge/batch_output/results/results.P245.tsv\"\n",
    "os.environ['P245'] = p245_path\n",
    "kgtk_environment_variables.append('P245')\n",
    "\n",
    "p1667_path=\"/nas/home/bohuizha/KG/hunger-for-knowledge/batch_output/results/results.P1667.tsv\"\n",
    "os.environ['P1667'] = p1667_path\n",
    "kgtk_environment_variables.append('P1667')\n",
    "\n",
    "ulan_wikialign_path = \"/nas/home/bohuizha/KG/hunger-for-knowledge/data/gvp/ULAN/WikiAlign.tsv\"\n",
    "os.environ['ULANALIGN'] = ulan_wikialign_path\n",
    "kgtk_environment_variables.append('ULANALIGN')\n",
    "\n",
    "tgn_wikialign_path = \"/nas/home/bohuizha/KG/hunger-for-knowledge/data/gvp/TGN/WikiAlign.tsv\"\n",
    "os.environ['TGNALIGN'] = tgn_wikialign_path\n",
    "kgtk_environment_variables.append('TGNALIGN')\n",
    "\n",
    "arnold_path = \"/nas/home/bohuizha/KG/hunger-for-knowledge/data/arnold.all.tsv\"\n",
    "os.environ['ARNOLD'] = arnold_path\n",
    "kgtk_environment_variables.append('ARNOLD')"
   ]
  },
  {
   "cell_type": "markdown",
   "id": "fde64419",
   "metadata": {},
   "source": [
    "# Query for Wikidata"
   ]
  },
  {
   "cell_type": "code",
   "execution_count": 87,
   "id": "fac641f2",
   "metadata": {},
   "outputs": [
    {
     "name": "stdout",
     "output_type": "stream",
     "text": [
      "count(DISTINCT graph_576_c1.\"node1\")\tcount(DISTINCT graph_576_c1.\"node2\")\r\n",
      "431\t433\r\n"
     ]
    }
   ],
   "source": [
    "!kgtk query -i $ULAN_QNODES \\\n",
    "    --match '(qnode)-[]->(ulanid)' \\\n",
    "    --return 'count(distinct qnode), count(distinct ulanid)'"
   ]
  },
  {
   "cell_type": "markdown",
   "id": "3ab30c8a",
   "metadata": {},
   "source": [
    "Query for date of birth:"
   ]
  },
  {
   "cell_type": "code",
   "execution_count": null,
   "id": "6b0a1f41",
   "metadata": {},
   "outputs": [],
   "source": [
    "!kgtk query -i $SAMPLES $CLAIMS \\\n",
    "    --match 's: (ulanid)-[]->(qnode), \\\n",
    "             c: (qnode)-[p:P569]->(birthdate)' \\\n",
    "    --return 'ulanid as node1, p.label as label, birthdate as node2' \\\n",
    "    -o $WIKI_BIRTHDATE"
   ]
  },
  {
   "cell_type": "code",
   "execution_count": 13,
   "id": "b56692c5",
   "metadata": {},
   "outputs": [
    {
     "name": "stdout",
     "output_type": "stream",
     "text": [
      "271 /nas/home/bohuizha/KG/hunger-for-knowledge/data/gvp/output/wiki.birthdate.tsv\r\n"
     ]
    }
   ],
   "source": [
    "!wc -l $WIKI_BIRTHDATE"
   ]
  },
  {
   "cell_type": "markdown",
   "id": "62ba66fe",
   "metadata": {},
   "source": [
    "Query for date of death:"
   ]
  },
  {
   "cell_type": "code",
   "execution_count": 11,
   "id": "073d9fe0",
   "metadata": {},
   "outputs": [],
   "source": [
    "!kgtk query -i $SAMPLES $CLAIMS \\\n",
    "    --match 's: (ulanid)-[]->(qnode), \\\n",
    "             c: (qnode)-[p:P570]->(deathdate)' \\\n",
    "    --return 'ulanid as node1, p.label as label, deathdate as node2' \\\n",
    "    -o $WIKI_DEATHDATE"
   ]
  },
  {
   "cell_type": "code",
   "execution_count": 14,
   "id": "92d9da97",
   "metadata": {},
   "outputs": [
    {
     "name": "stdout",
     "output_type": "stream",
     "text": [
      "220 /nas/home/bohuizha/KG/hunger-for-knowledge/data/gvp/output/wiki.deathdate.tsv\r\n"
     ]
    }
   ],
   "source": [
    "!wc -l $WIKI_DEATHDATE"
   ]
  },
  {
   "cell_type": "markdown",
   "id": "31a1d6e8",
   "metadata": {},
   "source": [
    "Query for place of birth:"
   ]
  },
  {
   "cell_type": "code",
   "execution_count": 15,
   "id": "614918c0",
   "metadata": {},
   "outputs": [],
   "source": [
    "!kgtk query -i $SAMPLES $CLAIMS \\\n",
    "    --match 's: (ulanid)-[]->(qnode), \\\n",
    "             c: (qnode)-[p:P19]->(birthplace)' \\\n",
    "    --return 'ulanid as node1, p.label as label, birthplace as node2' \\\n",
    "    -o $WIKI_BIRTHPLACE"
   ]
  },
  {
   "cell_type": "code",
   "execution_count": 16,
   "id": "9b6f0f98",
   "metadata": {},
   "outputs": [
    {
     "name": "stdout",
     "output_type": "stream",
     "text": [
      "255 /nas/home/bohuizha/KG/hunger-for-knowledge/data/gvp/output/wiki.birthplace.tsv\r\n"
     ]
    }
   ],
   "source": [
    "!wc -l $WIKI_BIRTHPLACE"
   ]
  },
  {
   "cell_type": "markdown",
   "id": "73922d73",
   "metadata": {},
   "source": [
    "Query for all three properties:"
   ]
  },
  {
   "cell_type": "code",
   "execution_count": 25,
   "id": "49dd60a3",
   "metadata": {},
   "outputs": [],
   "source": [
    "!kgtk query -i $SAMPLES $CLAIMS \\\n",
    "    --match 's: (ulanid)-[]->(qnode), \\\n",
    "             c: (qnode)-[p1:P569]->(birthdate), \\\n",
    "             c: (qnode)-[p2:P570]->(deathdate), \\\n",
    "             c: (qnode)-[p3:P19]->(birthplace)' \\\n",
    "    --return 'ulanid as node1, \"skos:exactMatch\" as label, qnode as node2, birthdate as birthdate, deathdate as deathdate, birthplace as birthplace' \\\n",
    "    -o $WIKI_RESULTS"
   ]
  },
  {
   "cell_type": "code",
   "execution_count": 26,
   "id": "929e1ab2",
   "metadata": {},
   "outputs": [
    {
     "name": "stdout",
     "output_type": "stream",
     "text": [
      "271 /nas/home/bohuizha/KG/hunger-for-knowledge/data/gvp/output/wiki.results.tsv\r\n"
     ]
    }
   ],
   "source": [
    "!wc -l $WIKI_RESULTS"
   ]
  },
  {
   "cell_type": "code",
   "execution_count": 63,
   "id": "7a2ed2c3",
   "metadata": {},
   "outputs": [
    {
     "name": "stdout",
     "output_type": "stream",
     "text": [
      "node1           label            node2     birthdate                 deathdate                 birthplace\r\n",
      "ulan:500224955  skos:exactMatch  Q100948   ^1907-05-27T00:00:00Z/11  ^1964-04-14T00:00:00Z/11  Q7279187\r\n",
      "ulan:500281177  skos:exactMatch  Q101771   ^1929-06-21T00:00:00Z/11  ^2003-11-24T00:00:00Z/11  Q1449\r\n",
      "ulan:500281177  skos:exactMatch  Q101771   ^1929-06-21T00:00:00Z/11  ^2003-01-01T00:00:00Z/9   Q1449\r\n",
      "ulan:500001235  skos:exactMatch  Q101791   ^1908-03-09T00:00:00Z/11  ^1982-07-29T00:00:00Z/11  Q1726\r\n",
      "ulan:500114625  skos:exactMatch  Q102711   ^1936-05-17T00:00:00Z/11  ^2010-05-29T00:00:00Z/11  Q647127\r\n",
      "ulan:500355461  skos:exactMatch  Q103876   ^1932-08-02T00:00:00Z/11  ^2013-12-14T00:00:00Z/11  Q39121\r\n",
      "ulan:500021877  skos:exactMatch  Q1066442  ^1925-10-31T00:00:00Z/11  ^1993-12-16T00:00:00Z/11  Q818338\r\n",
      "ulan:500346511  skos:exactMatch  Q106775   ^1930-10-02T00:00:00Z/11  ^2002-10-25T00:00:00Z/11  Q133315\r\n",
      "ulan:500346511  skos:exactMatch  Q106775   ^1930-10-01T00:00:00Z/11  ^2002-10-25T00:00:00Z/11  Q133315\r\n"
     ]
    }
   ],
   "source": [
    "!head $WIKI_RESULTS | column -ts $'\\t'"
   ]
  },
  {
   "cell_type": "markdown",
   "id": "7311b6e9",
   "metadata": {},
   "source": [
    "# Filter out unknowns\n",
    "Filter out those we don't know at least one of the birth place, birth year, and death year."
   ]
  },
  {
   "cell_type": "code",
   "execution_count": 27,
   "id": "f1b670ac",
   "metadata": {},
   "outputs": [],
   "source": [
    "!kgtk ifnotexists -i $SAMPLES \\\n",
    "    --filter-on $WIKI_RESULTS \\\n",
    "    --input-keys node1 \\\n",
    "    --filter-keys node1 \\\n",
    "    -o $UNKNOWN"
   ]
  },
  {
   "cell_type": "code",
   "execution_count": 28,
   "id": "52c2a358",
   "metadata": {},
   "outputs": [
    {
     "name": "stdout",
     "output_type": "stream",
     "text": [
      "239 /nas/home/bohuizha/KG/hunger-for-knowledge/data/gvp/output/unknown.tsv\r\n"
     ]
    }
   ],
   "source": [
    "!wc -l $UNKNOWN"
   ]
  },
  {
   "cell_type": "markdown",
   "id": "0923ad59",
   "metadata": {},
   "source": [
    "# Import TGN & ULAN into `kgtk` graphs"
   ]
  },
  {
   "cell_type": "code",
   "execution_count": 22,
   "id": "9f5a8625",
   "metadata": {},
   "outputs": [
    {
     "data": {
      "text/plain": [
       "[('ulan_subjects_nt', 'ulan_subjects'),\n",
       " ('ulan_terms_nt', 'ulan_terms'),\n",
       " ('ulan_agentmap_nt', 'ulan_agentmap'),\n",
       " ('ulan_agenttypes_nt', 'ulan_agenttypes'),\n",
       " ('ulan_biographies_nt', 'ulan_biographies'),\n",
       " ('ulan_event_nt', 'ulan_event'),\n",
       " ('ulan_nationality_nt', 'ulan_nationality'),\n",
       " ('ulan_scopenotes_nt', 'ulan_scopenotes'),\n",
       " ('tgn_subjects_nt', 'tgn_subjects'),\n",
       " ('tgn_terms_nt', 'tgn_terms'),\n",
       " ('tgn_placemap_nt', 'tgn_placemap'),\n",
       " ('tgn_placetypes_nt', 'tgn_placetypes'),\n",
       " ('tgn_coordinates_nt', 'tgn_coordinates'),\n",
       " ('tgn_scopenotes_nt', 'tgn_scopenotes')]"
      ]
     },
     "execution_count": 22,
     "metadata": {},
     "output_type": "execute_result"
    }
   ],
   "source": [
    "input_list = list(original_ulan_names.keys()) + list(original_tgn_names.keys())\n",
    "output_list = list(imported_ulan_names.keys()) + list(imported_tgn_names.keys())\n",
    "assert list(map(lambda x: x[:-3], input_list)) == output_list, \"Mapping error.\"\n",
    "import_map = list(zip(input_list, output_list))\n",
    "import_map"
   ]
  },
  {
   "cell_type": "code",
   "execution_count": 15,
   "id": "c83fd8a4",
   "metadata": {},
   "outputs": [
    {
     "name": "stdout",
     "output_type": "stream",
     "text": [
      "kgtk import-ntriples         -i $ULAN_SUBJECTS_NT         -o $ULAN_SUBJECTS         --namespace-file $NAMESPACES         --namespace-id-use-uuid True         --build-new-namespaces False         --output-only-used-namespaces True         --structured-value-label gvp:structured_value         --structured-uri-label gvp:structured_uri         --newnode-prefix node         --newnode-use-uuid True\n",
      "kgtk import-ntriples         -i $ULAN_TERMS_NT         -o $ULAN_TERMS         --namespace-file $NAMESPACES         --namespace-id-use-uuid True         --build-new-namespaces False         --output-only-used-namespaces True         --structured-value-label gvp:structured_value         --structured-uri-label gvp:structured_uri         --newnode-prefix node         --newnode-use-uuid True\n",
      "kgtk import-ntriples         -i $ULAN_AGENTMAP_NT         -o $ULAN_AGENTMAP         --namespace-file $NAMESPACES         --namespace-id-use-uuid True         --build-new-namespaces False         --output-only-used-namespaces True         --structured-value-label gvp:structured_value         --structured-uri-label gvp:structured_uri         --newnode-prefix node         --newnode-use-uuid True\n",
      "kgtk import-ntriples         -i $ULAN_AGENTTYPES_NT         -o $ULAN_AGENTTYPES         --namespace-file $NAMESPACES         --namespace-id-use-uuid True         --build-new-namespaces False         --output-only-used-namespaces True         --structured-value-label gvp:structured_value         --structured-uri-label gvp:structured_uri         --newnode-prefix node         --newnode-use-uuid True\n",
      "kgtk import-ntriples         -i $ULAN_BIOGRAPHIES_NT         -o $ULAN_BIOGRAPHIES         --namespace-file $NAMESPACES         --namespace-id-use-uuid True         --build-new-namespaces False         --output-only-used-namespaces True         --structured-value-label gvp:structured_value         --structured-uri-label gvp:structured_uri         --newnode-prefix node         --newnode-use-uuid True\n",
      "kgtk import-ntriples         -i $ULAN_EVENT_NT         -o $ULAN_EVENT         --namespace-file $NAMESPACES         --namespace-id-use-uuid True         --build-new-namespaces False         --output-only-used-namespaces True         --structured-value-label gvp:structured_value         --structured-uri-label gvp:structured_uri         --newnode-prefix node         --newnode-use-uuid True\n",
      "kgtk import-ntriples         -i $ULAN_NATIONALITY_NT         -o $ULAN_NATIONALITY         --namespace-file $NAMESPACES         --namespace-id-use-uuid True         --build-new-namespaces False         --output-only-used-namespaces True         --structured-value-label gvp:structured_value         --structured-uri-label gvp:structured_uri         --newnode-prefix node         --newnode-use-uuid True\n",
      "kgtk import-ntriples         -i $ULAN_SCOPENOTES_NT         -o $ULAN_SCOPENOTES         --namespace-file $NAMESPACES         --namespace-id-use-uuid True         --build-new-namespaces False         --output-only-used-namespaces True         --structured-value-label gvp:structured_value         --structured-uri-label gvp:structured_uri         --newnode-prefix node         --newnode-use-uuid True\n"
     ]
    }
   ],
   "source": [
    "for input_path, output_path in import_map:\n",
    "    command = 'kgtk import-ntriples \\\n",
    "        -i $%s \\\n",
    "        -o $%s \\\n",
    "        --namespace-file $NAMESPACES \\\n",
    "        --namespace-id-use-uuid True \\\n",
    "        --build-new-namespaces False \\\n",
    "        --output-only-used-namespaces True \\\n",
    "        --structured-value-label gvp:structured_value \\\n",
    "        --structured-uri-label gvp:structured_uri \\\n",
    "        --newnode-prefix node \\\n",
    "        --newnode-use-uuid True' % (input_path.upper(), output_path.upper())\n",
    "    print(command)\n",
    "    start = time.time()\n",
    "    code = os.system(command)\n",
    "    runtime = time.time() - start\n",
    "    print(f\"Code: {code}, Runtime: {runtime:.2f}\")"
   ]
  },
  {
   "cell_type": "markdown",
   "id": "817021c3",
   "metadata": {},
   "source": [
    "Here we built our own alignment file instead of using WikidataAlignment provided by ULAN. According to our testing, the WikidataAlignment contains much less useful pairs than our own alignment file."
   ]
  },
  {
   "cell_type": "code",
   "execution_count": null,
   "id": "4a3fdca2",
   "metadata": {},
   "outputs": [],
   "source": [
    "!kgtk query -i $P245 $ULAN_SUBJECTS \\\n",
    "    --match 'r: (qnode)-[]->(identifier), s: (ulanid)-[p]->(identifier)' \\\n",
    "    --where 'p.label = \"dc:identifier\"' \\\n",
    "    --return 'ulanid as node1, \"skos:exactMatch\" as label, qnode as node2' \\\n",
    "    -o $ALIGN"
   ]
  },
  {
   "cell_type": "markdown",
   "id": "496a9ad1",
   "metadata": {},
   "source": [
    "# Query unknown qnodes in ULAN & TGN"
   ]
  },
  {
   "cell_type": "markdown",
   "id": "d6648807",
   "metadata": {},
   "source": [
    "Convert ULAN identifier string into ULAN node:"
   ]
  },
  {
   "cell_type": "code",
   "execution_count": 73,
   "id": "8e6996a0",
   "metadata": {},
   "outputs": [],
   "source": [
    "!kgtk query -i $ULAN_QNODES $ULAN_SUBJECTS \\\n",
    "    --match 'ulan: (qnode)-[]->(identifier), \\\n",
    "             Subjects: (ulanid)-[p]->(identifier)' \\\n",
    "    --where 'p.label = \"dc:identifier\"' \\\n",
    "    --return 'ulanid as node1, \"skos:exactMatch\" as label, qnode as node2' \\\n",
    "    -o $SAMPLES"
   ]
  },
  {
   "cell_type": "code",
   "execution_count": 75,
   "id": "5e2e7b05",
   "metadata": {},
   "outputs": [
    {
     "name": "stdout",
     "output_type": "stream",
     "text": [
      "count(DISTINCT graph_588_c1.\"node1\")\tcount(DISTINCT graph_588_c1.\"node2\")\r\n",
      "432\t430\r\n"
     ]
    }
   ],
   "source": [
    "!kgtk query -i $SAMPLES \\\n",
    "    --match '(qnode)-[]->(ulanid)' \\\n",
    "    --return 'count(distinct qnode), count(distinct ulanid)'"
   ]
  },
  {
   "cell_type": "markdown",
   "id": "e72005d5",
   "metadata": {},
   "source": [
    "There is a node in ulan_qnodes.tsv that its ULAN identifer could not be found on ULAN."
   ]
  },
  {
   "cell_type": "code",
   "execution_count": 78,
   "id": "11b1a331",
   "metadata": {},
   "outputs": [
    {
     "name": "stdout",
     "output_type": "stream",
     "text": [
      "node1\tlabel\tnode2\r\n",
      "Q335112\tP245\t\"500316131\"\r\n"
     ]
    }
   ],
   "source": [
    "!kgtk ifnotexists -i $ULAN_QNODES \\\n",
    "    --filter-on $SAMPLES \\\n",
    "    --input-keys node1 \\\n",
    "    --filter-keys node2"
   ]
  },
  {
   "cell_type": "markdown",
   "id": "593ce536",
   "metadata": {},
   "source": [
    "Check again, not exists."
   ]
  },
  {
   "cell_type": "code",
   "execution_count": 80,
   "id": "60ef9a00",
   "metadata": {},
   "outputs": [
    {
     "name": "stdout",
     "output_type": "stream",
     "text": [
      "node1\tlabel\tnode2\r\n"
     ]
    }
   ],
   "source": [
    "!kgtk query -i $ULAN_SUBJECTS \\\n",
    "    --match '(ulanid)-[]->()' \\\n",
    "    --where 'ulanid = \"ulan:500316131\"'"
   ]
  },
  {
   "cell_type": "markdown",
   "id": "5e1dcbb8",
   "metadata": {},
   "source": [
    "## Step 1: Query for birth year"
   ]
  },
  {
   "cell_type": "code",
   "execution_count": 71,
   "id": "265a5ca7",
   "metadata": {},
   "outputs": [],
   "source": [
    "!kgtk query -i $SAMPLES $ULAN_AGENTMAP $ULAN_BIOGRAPHIES \\\n",
    "    --match 'samples: (ulanid)-[]->(qnode), \\\n",
    "             AgentMap: (ulanid)-[p0]->(ulanagent), \\\n",
    "             Biographies: (ulanagent)-[p1]->()-[p2]->()-[p3]->(datevalue)' \\\n",
    "    --where 'p0.label = \"foaf:focus\" AND p1.label = \"gvp:biographyPreferred\" AND p2.label = \"gvp:estStart\" AND p3.label = \"gvp:structured_value\"' \\\n",
    "    --return 'distinct ulanid as node1, p2.label as label, printf(\"^%s-01-01T00:00:00Z/9\", kgtk_unstringify(datevalue)) as node2' \\\n",
    "    -o $BIRTHYEAR"
   ]
  },
  {
   "cell_type": "markdown",
   "id": "fbccd7ca",
   "metadata": {},
   "source": [
    "Perform validation:"
   ]
  },
  {
   "cell_type": "code",
   "execution_count": 72,
   "id": "04a4ef5b",
   "metadata": {},
   "outputs": [
    {
     "name": "stdout",
     "output_type": "stream",
     "text": [
      "Data line 2:\n",
      "ulan:500003458\tgvp:estStart\t^-0580-01-01T00:00:00Z/9\n",
      "col 2 (node2) value '^-0580-01-01T00:00:00Z/9' is an Invalid Date and Times\n",
      "Data line 7:\n",
      "ulan:500010803\tgvp:estStart\t^-0515-01-01T00:00:00Z/9\n",
      "col 2 (node2) value '^-0515-01-01T00:00:00Z/9' is an Invalid Date and Times\n",
      "Data line 23:\n",
      "ulan:500022200\tgvp:estStart\t^0076-01-01T00:00:00Z/9\n",
      "col 2 (node2) value '^0076-01-01T00:00:00Z/9' is an Invalid Date and Times\n",
      "Data line 30:\n",
      "ulan:500029448\tgvp:estStart\t^-0370-01-01T00:00:00Z/9\n",
      "col 2 (node2) value '^-0370-01-01T00:00:00Z/9' is an Invalid Date and Times\n",
      "Data line 40:\n",
      "ulan:500058949\tgvp:estStart\t^-0063-01-01T00:00:00Z/9\n",
      "col 2 (node2) value '^-0063-01-01T00:00:00Z/9' is an Invalid Date and Times\n",
      "Data line 64:\n",
      "ulan:500103049\tgvp:estStart\t^-0470-01-01T00:00:00Z/9\n",
      "col 2 (node2) value '^-0470-01-01T00:00:00Z/9' is an Invalid Date and Times\n",
      "Data line 65:\n",
      "ulan:500104317\tgvp:estStart\t^0354-01-01T00:00:00Z/9\n",
      "col 2 (node2) value '^0354-01-01T00:00:00Z/9' is an Invalid Date and Times\n",
      "Data line 73:\n",
      "ulan:500115701\tgvp:estStart\t^0121-01-01T00:00:00Z/9\n",
      "col 2 (node2) value '^0121-01-01T00:00:00Z/9' is an Invalid Date and Times\n",
      "Data line 77:\n",
      "ulan:500118650\tgvp:estStart\t^1561-01-01T00:00:00Z/9\n",
      "col 2 (node2) value '^1561-01-01T00:00:00Z/9' is an Invalid Date and Times\n",
      "Data line 83:\n",
      "ulan:500122326\tgvp:estStart\t^1573-01-01T00:00:00Z/9\n",
      "col 2 (node2) value '^1573-01-01T00:00:00Z/9' is an Invalid Date and Times\n",
      "Data line 123:\n",
      "ulan:500225098\tgvp:estStart\t^1577-01-01T00:00:00Z/9\n",
      "col 2 (node2) value '^1577-01-01T00:00:00Z/9' is an Invalid Date and Times\n",
      "Data line 134:\n",
      "ulan:500237956\tgvp:estStart\t^1451-01-01T00:00:00Z/9\n",
      "col 2 (node2) value '^1451-01-01T00:00:00Z/9' is an Invalid Date and Times\n",
      "Data line 141:\n",
      "ulan:500241849\tgvp:estStart\t^0300-01-01T00:00:00Z/9\n",
      "col 2 (node2) value '^0300-01-01T00:00:00Z/9' is an Invalid Date and Times\n",
      "Data line 156:\n",
      "ulan:500253117\tgvp:estStart\t^1527-01-01T00:00:00Z/9\n",
      "col 2 (node2) value '^1527-01-01T00:00:00Z/9' is an Invalid Date and Times\n",
      "Data line 171:\n",
      "ulan:500257721\tgvp:estStart\t^-0490-01-01T00:00:00Z/9\n",
      "col 2 (node2) value '^-0490-01-01T00:00:00Z/9' is an Invalid Date and Times\n",
      "Data line 200:\n",
      "ulan:500285185\tgvp:estStart\t^0339-01-01T00:00:00Z/9\n",
      "col 2 (node2) value '^0339-01-01T00:00:00Z/9' is an Invalid Date and Times\n",
      "Data line 203:\n",
      "ulan:500288125\tgvp:estStart\t^-0460-01-01T00:00:00Z/9\n",
      "col 2 (node2) value '^-0460-01-01T00:00:00Z/9' is an Invalid Date and Times\n",
      "Data line 343:\n",
      "ulan:500314846\tgvp:estStart\t^1380-01-01T00:00:00Z/9\n",
      "col 2 (node2) value '^1380-01-01T00:00:00Z/9' is an Invalid Date and Times\n",
      "Data line 350:\n",
      "ulan:500321727\tgvp:estStart\t^0100-01-01T00:00:00Z/9\n",
      "col 2 (node2) value '^0100-01-01T00:00:00Z/9' is an Invalid Date and Times\n",
      "Data line 366:\n",
      "ulan:500337680\tgvp:estStart\t^1500-01-01T00:00:00Z/9\n",
      "col 2 (node2) value '^1500-01-01T00:00:00Z/9' is an Invalid Date and Times\n",
      "Data line 378:\n",
      "ulan:500349636\tgvp:estStart\t^1181-01-01T00:00:00Z/9\n",
      "col 2 (node2) value '^1181-01-01T00:00:00Z/9' is an Invalid Date and Times\n",
      "Data line 385:\n",
      "ulan:500353757\tgvp:estStart\t^1491-01-01T00:00:00Z/9\n",
      "col 2 (node2) value '^1491-01-01T00:00:00Z/9' is an Invalid Date and Times\n",
      "Data line 387:\n",
      "ulan:500353939\tgvp:estStart\t^1542-01-01T00:00:00Z/9\n",
      "col 2 (node2) value '^1542-01-01T00:00:00Z/9' is an Invalid Date and Times\n",
      "Data line 388:\n",
      "ulan:500353940\tgvp:estStart\t^1550-01-01T00:00:00Z/9\n",
      "col 2 (node2) value '^1550-01-01T00:00:00Z/9' is an Invalid Date and Times\n",
      "Data line 390:\n",
      "ulan:500354195\tgvp:estStart\t^1480-01-01T00:00:00Z/9\n",
      "col 2 (node2) value '^1480-01-01T00:00:00Z/9' is an Invalid Date and Times\n",
      "Data line 395:\n",
      "ulan:500354818\tgvp:estStart\t^-0640-01-01T00:00:00Z/9\n",
      "col 2 (node2) value '^-0640-01-01T00:00:00Z/9' is an Invalid Date and Times\n",
      "Data line 396:\n",
      "ulan:500354832\tgvp:estStart\t^1170-01-01T00:00:00Z/9\n",
      "col 2 (node2) value '^1170-01-01T00:00:00Z/9' is an Invalid Date and Times\n",
      "Data line 398:\n",
      "ulan:500355339\tgvp:estStart\t^1515-01-01T00:00:00Z/9\n",
      "col 2 (node2) value '^1515-01-01T00:00:00Z/9' is an Invalid Date and Times\n",
      "Data line 403:\n",
      "ulan:500355670\tgvp:estStart\t^0161-01-01T00:00:00Z/9\n",
      "col 2 (node2) value '^0161-01-01T00:00:00Z/9' is an Invalid Date and Times\n",
      "Data line 404:\n",
      "ulan:500355697\tgvp:estStart\t^1415-01-01T00:00:00Z/9\n",
      "col 2 (node2) value '^1415-01-01T00:00:00Z/9' is an Invalid Date and Times\n",
      "Data line 405:\n",
      "ulan:500355715\tgvp:estStart\t^0359-01-01T00:00:00Z/9\n",
      "col 2 (node2) value '^0359-01-01T00:00:00Z/9' is an Invalid Date and Times\n",
      "Data line 407:\n",
      "ulan:500356588\tgvp:estStart\t^-0362-01-01T00:00:00Z/9\n",
      "col 2 (node2) value '^-0362-01-01T00:00:00Z/9' is an Invalid Date and Times\n",
      "Data line 411:\n",
      "ulan:500372058\tgvp:estStart\t^1347-01-01T00:00:00Z/9\n",
      "col 2 (node2) value '^1347-01-01T00:00:00Z/9' is an Invalid Date and Times\n",
      "Data line 419:\n",
      "ulan:500404078\tgvp:estStart\t^1157-01-01T00:00:00Z/9\n",
      "col 2 (node2) value '^1157-01-01T00:00:00Z/9' is an Invalid Date and Times\n",
      "Data line 420:\n",
      "ulan:500404165\tgvp:estStart\t^-0064-01-01T00:00:00Z/9\n",
      "col 2 (node2) value '^-0064-01-01T00:00:00Z/9' is an Invalid Date and Times\n",
      "\n",
      "====================================================\n",
      "Data lines read: 432\n",
      "Data lines passed: 397\n",
      "Data lines excluded due to invalid values: 35\n",
      "Data errors reported: 35\n",
      "Errors detected\n"
     ]
    }
   ],
   "source": [
    "!kgtk validate -i $BIRTHYEAR"
   ]
  },
  {
   "cell_type": "markdown",
   "id": "aaa72e96",
   "metadata": {},
   "source": [
    "Count:"
   ]
  },
  {
   "cell_type": "code",
   "execution_count": 50,
   "id": "3dd3448e",
   "metadata": {},
   "outputs": [
    {
     "name": "stdout",
     "output_type": "stream",
     "text": [
      "433 /nas/home/bohuizha/KG/hunger-for-knowledge/data/gvp/output/birthyear.tsv\r\n"
     ]
    }
   ],
   "source": [
    "!wc -l $BIRTHYEAR"
   ]
  },
  {
   "cell_type": "code",
   "execution_count": 51,
   "id": "7199e4a8",
   "metadata": {},
   "outputs": [
    {
     "name": "stdout",
     "output_type": "stream",
     "text": [
      "count(DISTINCT graph_596_c1.\"node1\")\r\n",
      "432\r\n"
     ]
    }
   ],
   "source": [
    "!kgtk query -i $BIRTHYEAR \\\n",
    "    --match '(ulanid)-[]->()' \\\n",
    "    --return 'count(distinct ulanid)'"
   ]
  },
  {
   "cell_type": "markdown",
   "id": "c6b9ea99",
   "metadata": {},
   "source": [
    "Here we count for how many new date of birth we found in Getty:"
   ]
  },
  {
   "cell_type": "code",
   "execution_count": 78,
   "id": "93b9ba52",
   "metadata": {},
   "outputs": [],
   "source": [
    "!kgtk ifnotexists -i $BIRTHYEAR \\\n",
    "    --filter-on $WIKI_BIRTHDATE \\\n",
    "    --input-keys node1 \\\n",
    "    --filter-keys node1 \\\n",
    "    -o $NEW_BIRTHYEAR"
   ]
  },
  {
   "cell_type": "code",
   "execution_count": 81,
   "id": "f624e3fe",
   "metadata": {
    "scrolled": true
   },
   "outputs": [
    {
     "name": "stdout",
     "output_type": "stream",
     "text": [
      "count(DISTINCT graph_610_c1.\"node1\")\r\n",
      "192\r\n"
     ]
    }
   ],
   "source": [
    "!kgtk query -i $NEW_BIRTHYEAR \\\n",
    "    --match '(ulanid)-[]->()' \\\n",
    "    --return 'count(distinct ulanid)'"
   ]
  },
  {
   "cell_type": "code",
   "execution_count": 25,
   "id": "3fcc8138",
   "metadata": {},
   "outputs": [
    {
     "name": "stdout",
     "output_type": "stream",
     "text": [
      "node1           label         node2\r\n",
      "ulan:500003458  gvp:estStart  \"-0580\"\r\n",
      "ulan:500010803  gvp:estStart  \"-0515\"\r\n",
      "ulan:500029448  gvp:estStart  \"-0370\"\r\n",
      "ulan:500058949  gvp:estStart  \"-0063\"\r\n",
      "ulan:500103049  gvp:estStart  \"-0470\"\r\n",
      "ulan:500115631  gvp:estStart  \"1648\"\r\n",
      "ulan:500115983  gvp:estStart  \"1937\"\r\n",
      "ulan:500125157  gvp:estStart  \"1870\"\r\n",
      "ulan:500210203  gvp:estStart  \"1850\"\r\n"
     ]
    }
   ],
   "source": [
    "!head $NEW_BIRTHYEAR | column -ts $'\\t'"
   ]
  },
  {
   "cell_type": "markdown",
   "id": "545d28fd",
   "metadata": {},
   "source": [
    "Check if the founded results are matched:"
   ]
  },
  {
   "cell_type": "code",
   "execution_count": 84,
   "id": "51cffaea",
   "metadata": {},
   "outputs": [],
   "source": [
    "!kgtk ifexists -i $BIRTHYEAR \\\n",
    "    --filter-on $WIKI_BIRTHDATE \\\n",
    "    --input-keys node1 \\\n",
    "    --filter-keys node1 \\\n",
    "    -o $MATCH_BIRTHYEAR"
   ]
  },
  {
   "cell_type": "code",
   "execution_count": 85,
   "id": "f30751ee",
   "metadata": {},
   "outputs": [
    {
     "name": "stdout",
     "output_type": "stream",
     "text": [
      "count(DISTINCT graph_618_c1.\"node1\")\r\n",
      "240\r\n"
     ]
    }
   ],
   "source": [
    "!kgtk query -i $MATCH_BIRTHYEAR \\\n",
    "    --match '(ulanid)-[]->()' \\\n",
    "    --return 'count(distinct ulanid)'"
   ]
  },
  {
   "cell_type": "code",
   "execution_count": 78,
   "id": "be60dfe3",
   "metadata": {},
   "outputs": [
    {
     "name": "stdout",
     "output_type": "stream",
     "text": [
      "count(DISTINCT graph_596_c1.\"node1\")\r\n",
      "224\r\n"
     ]
    }
   ],
   "source": [
    "!kgtk query -i $BIRTHYEAR $WIKI_BIRTHDATE \\\n",
    "    --match 'b: (ulanid)-[p]->(v1), w: (ulanid)-[]->(v2)' \\\n",
    "    --where 'kgtk_date_year(v1) = kgtk_date_year(v2)' \\\n",
    "    --return 'count(distinct ulanid)'"
   ]
  },
  {
   "cell_type": "markdown",
   "id": "2ee3ad3e",
   "metadata": {},
   "source": [
    "Most of the results with the same ULAN ids are matched."
   ]
  },
  {
   "cell_type": "markdown",
   "id": "b87b5230",
   "metadata": {},
   "source": [
    "## Step 2: Query for death year\n",
    "There are some value of date of death is later than current time, we need to filter those items out."
   ]
  },
  {
   "cell_type": "code",
   "execution_count": 92,
   "id": "9f9c5d21",
   "metadata": {},
   "outputs": [],
   "source": [
    "!kgtk query -i $SAMPLES $ULAN_AGENTMAP $ULAN_BIOGRAPHIES \\\n",
    "    --match 'samples: (ulanid)-[]->(qnode), \\\n",
    "             AgentMap: (ulanid)-[p0]->(ulanagent), \\\n",
    "             Biographies: (ulanagent)-[p1]->()-[p2]->()-[p3]->(datevalue)' \\\n",
    "    --where 'p0.label = \"foaf:focus\" AND p1.label = \"gvp:biographyPreferred\" AND p2.label = \"gvp:estEnd\" AND p3.label = \"gvp:structured_value\" AND cast(kgtk_unstringify(datevalue), int) <= 2021' \\\n",
    "    --return 'distinct ulanid as node1, p2.label as label, printf(\"^%s-01-01T00:00:00Z/9\", kgtk_unstringify(datevalue)) as node2' \\\n",
    "    -o $DEATHYEAR"
   ]
  },
  {
   "cell_type": "code",
   "execution_count": 93,
   "id": "caf75dd9",
   "metadata": {},
   "outputs": [
    {
     "name": "stdout",
     "output_type": "stream",
     "text": [
      "195 /nas/home/bohuizha/KG/hunger-for-knowledge/data/gvp/output/deathyear.tsv\r\n"
     ]
    }
   ],
   "source": [
    "!wc -l $DEATHYEAR"
   ]
  },
  {
   "cell_type": "code",
   "execution_count": 94,
   "id": "ca43fc52",
   "metadata": {},
   "outputs": [
    {
     "name": "stdout",
     "output_type": "stream",
     "text": [
      "count(DISTINCT graph_597_c1.\"node1\")\r\n",
      "194\r\n"
     ]
    }
   ],
   "source": [
    "!kgtk query -i $DEATHYEAR \\\n",
    "    --match '(ulanid)-[]->()' \\\n",
    "    --return 'count(distinct ulanid)'"
   ]
  },
  {
   "cell_type": "markdown",
   "id": "eeecea87",
   "metadata": {},
   "source": [
    "Here we count for how many new date of death we found in Getty:"
   ]
  },
  {
   "cell_type": "code",
   "execution_count": 95,
   "id": "1fdf1f7e",
   "metadata": {
    "scrolled": true
   },
   "outputs": [],
   "source": [
    "!kgtk ifnotexists -i $DEATHYEAR \\\n",
    "    --filter-on $WIKI_DEATHDATE \\\n",
    "    --input-keys node1 \\\n",
    "    --filter-keys node1 \\\n",
    "    -o $NEW_DEATHYEAR"
   ]
  },
  {
   "cell_type": "code",
   "execution_count": 96,
   "id": "c43aa330",
   "metadata": {},
   "outputs": [
    {
     "name": "stdout",
     "output_type": "stream",
     "text": [
      "count(DISTINCT graph_611_c1.\"node1\")\r\n",
      "10\r\n"
     ]
    }
   ],
   "source": [
    "!kgtk query -i $NEW_DEATHYEAR \\\n",
    "    --match '(ulanid)-[]->()' \\\n",
    "    --return 'count(distinct ulanid)'"
   ]
  },
  {
   "cell_type": "code",
   "execution_count": 97,
   "id": "9e214e8c",
   "metadata": {},
   "outputs": [
    {
     "name": "stdout",
     "output_type": "stream",
     "text": [
      "node1           label       node2\r\n",
      "ulan:500003458  gvp:estEnd  ^-0480-01-01T00:00:00Z/9\r\n",
      "ulan:500010803  gvp:estEnd  ^-0420-01-01T00:00:00Z/9\r\n",
      "ulan:500029448  gvp:estEnd  ^-0300-01-01T00:00:00Z/9\r\n",
      "ulan:500103049  gvp:estEnd  ^-0370-01-01T00:00:00Z/9\r\n",
      "ulan:500115631  gvp:estEnd  ^1793-01-01T00:00:00Z/9\r\n",
      "ulan:500257721  gvp:estEnd  ^-0420-01-01T00:00:00Z/9\r\n",
      "ulan:500288125  gvp:estEnd  ^-0375-01-01T00:00:00Z/9\r\n",
      "ulan:500354818  gvp:estEnd  ^-0550-01-01T00:00:00Z/9\r\n",
      "ulan:500356588  gvp:estEnd  ^-0288-01-01T00:00:00Z/9\r\n"
     ]
    }
   ],
   "source": [
    "!head $NEW_DEATHYEAR | column -ts $'\\t'"
   ]
  },
  {
   "cell_type": "markdown",
   "id": "2ccfa859",
   "metadata": {},
   "source": [
    "Check if the founded results are matched:"
   ]
  },
  {
   "cell_type": "code",
   "execution_count": 98,
   "id": "71723434",
   "metadata": {},
   "outputs": [],
   "source": [
    "!kgtk ifexists -i $DEATHYEAR \\\n",
    "    --filter-on $WIKI_DEATHDATE \\\n",
    "    --input-keys node1 \\\n",
    "    --filter-keys node1 \\\n",
    "    -o $MATCH_DEATHYEAR"
   ]
  },
  {
   "cell_type": "code",
   "execution_count": 99,
   "id": "9d92efbb",
   "metadata": {},
   "outputs": [
    {
     "name": "stdout",
     "output_type": "stream",
     "text": [
      "count(DISTINCT graph_619_c1.\"node1\")\r\n",
      "184\r\n"
     ]
    }
   ],
   "source": [
    "!kgtk query -i $MATCH_DEATHYEAR \\\n",
    "    --match '(ulanid)-[]->()' \\\n",
    "    --return 'count(distinct ulanid)'"
   ]
  },
  {
   "cell_type": "code",
   "execution_count": 100,
   "id": "adc222f2",
   "metadata": {},
   "outputs": [
    {
     "name": "stdout",
     "output_type": "stream",
     "text": [
      "count(DISTINCT graph_597_c1.\"node1\")\r\n",
      "177\r\n"
     ]
    }
   ],
   "source": [
    "!kgtk query -i $DEATHYEAR $WIKI_DEATHDATE \\\n",
    "    --match 'd: (ulanid)-[p]->(v1), w: (ulanid)-[]->(v2)' \\\n",
    "    --where 'kgtk_date_year(v1) = kgtk_date_year(v2)' \\\n",
    "    --return 'count(distinct ulanid)'"
   ]
  },
  {
   "cell_type": "markdown",
   "id": "fbe0c7f1",
   "metadata": {},
   "source": [
    "## Step 3: Query for birth place"
   ]
  },
  {
   "cell_type": "code",
   "execution_count": 41,
   "id": "e63856fa",
   "metadata": {},
   "outputs": [],
   "source": [
    "!kgtk query -i $SAMPLES $ULAN_AGENTMAP $ULAN_BIOGRAPHIES \\\n",
    "    --match 'samples: (ulanid)-[]->(qnode), \\\n",
    "             AgentMap: (ulanid)-[p0]->(ulanagent), \\\n",
    "             Biographies: (ulanagent)-[p1]->(ulanbio)-[p2]->(tgnplace)' \\\n",
    "    --where 'p0.label = \"foaf:focus\" AND p1.label = \"gvp:biographyPreferred\" \\\n",
    "             AND p2.label = \"schema:birthPlace\"' \\\n",
    "    --return 'distinct ulanid as node1, p2.label as label, tgnplace as node2' \\\n",
    "    -o $BIRTHPLACE_TEMP"
   ]
  },
  {
   "cell_type": "code",
   "execution_count": 42,
   "id": "2eb9a6f9",
   "metadata": {},
   "outputs": [
    {
     "name": "stdout",
     "output_type": "stream",
     "text": [
      "134 /nas/home/bohuizha/KG/hunger-for-knowledge/data/gvp/output/temp.birthplace.tsv\r\n"
     ]
    }
   ],
   "source": [
    "!wc -l $BIRTHPLACE_TEMP"
   ]
  },
  {
   "cell_type": "code",
   "execution_count": 43,
   "id": "904c9ce9",
   "metadata": {},
   "outputs": [
    {
     "name": "stdout",
     "output_type": "stream",
     "text": [
      "count(DISTINCT graph_594_c1.\"node1\")\r\n",
      "133\r\n"
     ]
    }
   ],
   "source": [
    "!kgtk query -i $BIRTHPLACE_TEMP \\\n",
    "    --match '(ulanid)-[]->()' \\\n",
    "    --return 'count(distinct ulanid)'"
   ]
  },
  {
   "cell_type": "markdown",
   "id": "d7945d4f",
   "metadata": {},
   "source": [
    "### Map the birth place Getty nodes to Qnodes by using TGN identifiers\n",
    "Map relations:\n",
    "- P1667: `(Q1234567) - [P1667] -> (\"1234567\")`\n",
    "- TGN Subjects: `(tgn:1234567) - [dc:identifier] -> (\"1234567\")`\n",
    "- TGN PlaceMap: `(tgn:1234567) -[foaf:focus] -> (tgn:1234567-place)`\n",
    "\n",
    "We can build a alignment file that directly map TGN place (e.g. `tgn:1234567-place`) to Qndoes."
   ]
  },
  {
   "cell_type": "code",
   "execution_count": null,
   "id": "c5233e5e",
   "metadata": {},
   "outputs": [],
   "source": [
    "!kgtk query -i $P1667 $TGN_SUBJECTS $TGN_PLACEMAP \\\n",
    "    --match 'r: (qnode)-[]->(identifier), s: (tgnid)-[p1]->(identifier), p: (tgnid)-[p2]->(tgnplace)' \\\n",
    "    --where 'p1.label = \"dc:identifier\" AND p2.label = \"foaf:focus\"' \\\n",
    "    --return 'tgnplace as node1, \"skos:exactMatch\" as label, qnode as node2' \\\n",
    "    -o $TGNALIGN"
   ]
  },
  {
   "cell_type": "code",
   "execution_count": 46,
   "id": "a8ab372a",
   "metadata": {},
   "outputs": [],
   "source": [
    "!kgtk query -i $BIRTHPLACE_TEMP $TGNALIGN \\\n",
    "    --match 'b: (ulanid)-[p]->(tgnplace), WikiAlign: (tgnplace)-[]->(qnode)' \\\n",
    "    --return 'ulanid as node1, p.label as label, qnode as node2' \\\n",
    "    -o $BIRTHPLACE"
   ]
  },
  {
   "cell_type": "code",
   "execution_count": 47,
   "id": "92ac1493",
   "metadata": {},
   "outputs": [
    {
     "name": "stdout",
     "output_type": "stream",
     "text": [
      "71 /nas/home/bohuizha/KG/hunger-for-knowledge/data/gvp/output/birthplace.tsv\r\n"
     ]
    }
   ],
   "source": [
    "!wc -l $BIRTHPLACE"
   ]
  },
  {
   "cell_type": "code",
   "execution_count": 48,
   "id": "17041ecc",
   "metadata": {},
   "outputs": [
    {
     "name": "stdout",
     "output_type": "stream",
     "text": [
      "count(DISTINCT graph_595_c1.\"node1\")\r\n",
      "70\r\n"
     ]
    }
   ],
   "source": [
    "!kgtk query -i $BIRTHPLACE \\\n",
    "    --match '(ulanid)-[]->()' \\\n",
    "    --return 'count(distinct ulanid)'"
   ]
  },
  {
   "cell_type": "markdown",
   "id": "58b980ae",
   "metadata": {},
   "source": [
    "Here we count for how many new birthplace we found in Getty:"
   ]
  },
  {
   "cell_type": "code",
   "execution_count": 83,
   "id": "c5b9a527",
   "metadata": {},
   "outputs": [],
   "source": [
    "!kgtk ifnotexists -i $BIRTHPLACE \\\n",
    "    --filter-on $WIKI_BIRTHPLACE \\\n",
    "    --input-keys node1 \\\n",
    "    --filter-keys node1 \\\n",
    "    -o $NEW_BIRTHPLACE"
   ]
  },
  {
   "cell_type": "code",
   "execution_count": 86,
   "id": "703b68a3",
   "metadata": {},
   "outputs": [
    {
     "name": "stdout",
     "output_type": "stream",
     "text": [
      "count(DISTINCT graph_612_c1.\"node1\")\r\n",
      "0\r\n"
     ]
    }
   ],
   "source": [
    "!kgtk query -i $NEW_BIRTHPLACE \\\n",
    "    --match '(ulanid)-[]->()' \\\n",
    "    --return 'count(distinct ulanid)'"
   ]
  },
  {
   "cell_type": "markdown",
   "id": "da536b5d",
   "metadata": {},
   "source": [
    "Check if the founded results are matched:"
   ]
  },
  {
   "cell_type": "code",
   "execution_count": 101,
   "id": "dce0f6e6",
   "metadata": {},
   "outputs": [],
   "source": [
    "!kgtk ifexists -i $BIRTHPLACE \\\n",
    "    --filter-on $WIKI_BIRTHPLACE \\\n",
    "    --input-keys node1 \\\n",
    "    --filter-keys node1 \\\n",
    "    -o $MATCH_BIRTHPLACE"
   ]
  },
  {
   "cell_type": "code",
   "execution_count": 102,
   "id": "634e2227",
   "metadata": {},
   "outputs": [
    {
     "name": "stdout",
     "output_type": "stream",
     "text": [
      "count(DISTINCT graph_621_c1.\"node1\")\r\n",
      "70\r\n"
     ]
    }
   ],
   "source": [
    "!kgtk query -i $MATCH_BIRTHPLACE \\\n",
    "    --match '(ulanid)-[]->()' \\\n",
    "    --return 'count(distinct ulanid)'"
   ]
  },
  {
   "cell_type": "code",
   "execution_count": 106,
   "id": "607fb8d3",
   "metadata": {},
   "outputs": [
    {
     "name": "stdout",
     "output_type": "stream",
     "text": [
      "count(DISTINCT graph_595_c1.\"node1\")\r\n",
      "53\r\n"
     ]
    }
   ],
   "source": [
    "!kgtk query -i $BIRTHPLACE $WIKI_BIRTHPLACE \\\n",
    "    --match 'b: (ulanid)-[p]->(v), w: (ulanid)-[]->(v)' \\\n",
    "    --return 'count(distinct ulanid)'"
   ]
  },
  {
   "cell_type": "markdown",
   "id": "1e6f302c",
   "metadata": {},
   "source": [
    "# Step 4: Combination"
   ]
  },
  {
   "cell_type": "code",
   "execution_count": 29,
   "id": "21a4a7ca",
   "metadata": {},
   "outputs": [],
   "source": [
    "!kgtk query -i $SAMPLES $BIRTHYEAR $DEATHYEAR $BIRTHPLACE \\\n",
    "    --match 'samples: (ulanid)-[]->(qnode), \\\n",
    "             birthyear: (ulanid)-[]->(birthdate), \\\n",
    "             deathyear: (ulanid)-[]->(deathdate), \\\n",
    "             birthplace: (ulanid)-[]->(birthplace)' \\\n",
    "    --return 'distinct ulanid as node1, \"skos:exactMatch\" as label, qnode as node2, birthdate as birthdate, deathdate as deathdate, birthplace as birthplace' \\\n",
    "    -o $GETTY_RESULTS"
   ]
  },
  {
   "cell_type": "code",
   "execution_count": 30,
   "id": "5bb54c97",
   "metadata": {},
   "outputs": [
    {
     "name": "stdout",
     "output_type": "stream",
     "text": [
      "60 /nas/home/bohuizha/KG/hunger-for-knowledge/data/gvp/output/getty.results.tsv\r\n"
     ]
    }
   ],
   "source": [
    "!wc -l $GETTY_RESULTS"
   ]
  },
  {
   "cell_type": "code",
   "execution_count": 31,
   "id": "c1f7bbbb",
   "metadata": {},
   "outputs": [
    {
     "name": "stdout",
     "output_type": "stream",
     "text": [
      "node1           label            node2      birthdate  deathdate  birthplace\r\n",
      "ulan:500001235  skos:exactMatch  Q101791    \"1908\"     \"1982\"     Q1726\r\n",
      "ulan:500007492  skos:exactMatch  Q16750458  \"1903\"     \"1968\"     Q90\r\n",
      "ulan:500011421  skos:exactMatch  Q37693     \"1848\"     \"1903\"     Q90\r\n",
      "ulan:500013500  skos:exactMatch  Q690169    \"1885\"     \"1933\"     Q70\r\n",
      "ulan:500014698  skos:exactMatch  Q1351247   \"1886\"     \"1981\"     Q60\r\n",
      "ulan:500015029  skos:exactMatch  Q191789    \"1731\"     \"1802\"     Q337270\r\n",
      "ulan:500019359  skos:exactMatch  Q40213     \"1865\"     \"1939\"     Q1761\r\n",
      "ulan:500025598  skos:exactMatch  Q8704      \"1901\"     \"1966\"     Q1297\r\n",
      "ulan:500026210  skos:exactMatch  Q268732    \"1924\"     \"2009\"     Q24639\r\n"
     ]
    }
   ],
   "source": [
    "!head $GETTY_RESULTS | column -ts $'\\t'"
   ]
  },
  {
   "cell_type": "markdown",
   "id": "304612d9",
   "metadata": {},
   "source": [
    "Filter how many we newly found:"
   ]
  },
  {
   "cell_type": "code",
   "execution_count": 32,
   "id": "db6ca38d",
   "metadata": {},
   "outputs": [],
   "source": [
    "!kgtk ifnotexists -i $GETTY_RESULTS \\\n",
    "    --filter-on $WIKI_RESULTS \\\n",
    "    --input-keys node1 \\\n",
    "    --filter-keys node1 \\\n",
    "    -o $NEW_RESULTS"
   ]
  },
  {
   "cell_type": "code",
   "execution_count": 33,
   "id": "ac0208ee",
   "metadata": {},
   "outputs": [
    {
     "name": "stdout",
     "output_type": "stream",
     "text": [
      "3 /nas/home/bohuizha/KG/hunger-for-knowledge/data/gvp/output/new.results.tsv\r\n"
     ]
    }
   ],
   "source": [
    "!wc -l $NEW_RESULTS"
   ]
  },
  {
   "cell_type": "code",
   "execution_count": 34,
   "id": "8c1bfdf6",
   "metadata": {},
   "outputs": [
    {
     "name": "stdout",
     "output_type": "stream",
     "text": [
      "node1           label            node2  birthdate  deathdate  birthplace\r\n",
      "ulan:500058949  skos:exactMatch  Q1405  \"-0063\"    \"0014\"     Q220\r\n",
      "ulan:500404165  skos:exactMatch  Q2039  \"-0064\"    \"0017\"     Q617\r\n"
     ]
    }
   ],
   "source": [
    "!head $NEW_RESULTS | column -ts $'\\t'"
   ]
  },
  {
   "cell_type": "markdown",
   "id": "7f00dc6a",
   "metadata": {},
   "source": [
    "# Append the newly found years and places to the Arnold graph\n",
    "Questions:\n",
    "- How to convert year string to kgtk date / year?"
   ]
  },
  {
   "cell_type": "code",
   "execution_count": null,
   "id": "9d7915ce",
   "metadata": {},
   "outputs": [],
   "source": []
  }
 ],
 "metadata": {
  "kernelspec": {
   "display_name": "Python 3",
   "language": "python",
   "name": "python3"
  },
  "language_info": {
   "codemirror_mode": {
    "name": "ipython",
    "version": 3
   },
   "file_extension": ".py",
   "mimetype": "text/x-python",
   "name": "python",
   "nbconvert_exporter": "python",
   "pygments_lexer": "ipython3",
   "version": "3.7.10"
  }
 },
 "nbformat": 4,
 "nbformat_minor": 5
}
