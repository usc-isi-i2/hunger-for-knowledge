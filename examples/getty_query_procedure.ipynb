{
 "cells": [
  {
   "cell_type": "markdown",
   "id": "d34e89ca",
   "metadata": {},
   "source": [
    "# Wikidata Enrichment Tutorial\n",
    "This notebook aims to prove that external graphs like Getty Vocabulary can be used to enrich Wikidata by using `kgtk` methods. We will perform our query on a sample with 432 records which are people that both in Wikidata (with Qnode) and Getty Vocabulary (with ULAN ID). We will mainly focus on three facts of them: date of birth, date of death and place of birth, and see whether Getty Vocabulary could make up for Wikidata in these three fields."
   ]
  },
  {
   "cell_type": "code",
   "execution_count": 1,
   "id": "ad7e2663",
   "metadata": {},
   "outputs": [],
   "source": [
    "import os\n",
    "import re\n",
    "import time\n",
    "import json\n",
    "import subprocess\n",
    "\n",
    "from kgtk.functions import kgtk, kypher"
   ]
  },
  {
   "cell_type": "markdown",
   "id": "0d135d32",
   "metadata": {},
   "source": [
    "## Set up environment path\n",
    "Here we set up environment variables that will be used in the following sections, including folders, files like basic databases, query output and so on."
   ]
  },
  {
   "cell_type": "code",
   "execution_count": 2,
   "id": "9551c3bf",
   "metadata": {},
   "outputs": [
    {
     "name": "stdout",
     "output_type": "stream",
     "text": [
      "DATABASE: \"/nas/home/bohuizha/KG/hunger-for-knowledge/data/gvp\"\n",
      "ULAN: \"/nas/home/bohuizha/KG/hunger-for-knowledge/data/gvp/ULAN\"\n",
      "ULAN_FULL_NT: \"/nas/home/bohuizha/KG/hunger-for-knowledge/data/gvp/ULAN/ULANOut_Full.nt\"\n",
      "ULAN_FULL: \"/nas/home/bohuizha/KG/hunger-for-knowledge/data/gvp/ULAN/full.tsv\"\n",
      "ULAN_ALIGN: \"/nas/home/bohuizha/KG/hunger-for-knowledge/data/gvp/ULAN/wiki.align.tsv\"\n",
      "TGN: \"/nas/home/bohuizha/KG/hunger-for-knowledge/data/gvp/TGN\"\n",
      "TGN_FULL_NT: \"/nas/home/bohuizha/KG/hunger-for-knowledge/data/gvp/TGN/TGNOut_Full.nt\"\n",
      "TGN_FULL: \"/nas/home/bohuizha/KG/hunger-for-knowledge/data/gvp/TGN/full.tsv\"\n",
      "TGN_ALIGN: \"/nas/home/bohuizha/KG/hunger-for-knowledge/data/gvp/TGN/wiki.align.tsv\"\n",
      "NAMESPACES: \"/nas/home/bohuizha/KG/hunger-for-knowledge/data/gvp/namespaces.tsv\"\n",
      "WIKIDATA: \"/nas/home/bohuizha/KG/hunger-for-knowledge/data/gvp/all.tsv\"\n",
      "NEW_WIKIDATA: \"/nas/home/bohuizha/KG/hunger-for-knowledge/data/new.all.tsv\"\n",
      "KGTK_LABEL_FILE: \"/nas/home/bohuizha/KG/hunger-for-knowledge/data/gvp/labels.en.tsv\"\n",
      "ULAN_QNODES: \"/nas/home/bohuizha/KG/hunger-for-knowledge/data/gvp/ulan-qnodes.tsv\"\n",
      "SAMPLES: \"/nas/home/bohuizha/KG/hunger-for-knowledge/data/gvp/samples.tsv\"\n",
      "OUTPUT: \"/nas/home/bohuizha/KG/hunger-for-knowledge/data/gvp/output\"\n",
      "WIKI_BIRTHDATE: \"/nas/home/bohuizha/KG/hunger-for-knowledge/data/gvp/output/wiki.birthdate.tsv\"\n",
      "WIKI_BIRTHPLACE: \"/nas/home/bohuizha/KG/hunger-for-knowledge/data/gvp/output/wiki.birthplace.tsv\"\n",
      "WIKI_DEATHDATE: \"/nas/home/bohuizha/KG/hunger-for-knowledge/data/gvp/output/wiki.deathdate.tsv\"\n",
      "WIKI_RESULTS: \"/nas/home/bohuizha/KG/hunger-for-knowledge/data/gvp/output/wiki.results.tsv\"\n",
      "UNKNOWN: \"/nas/home/bohuizha/KG/hunger-for-knowledge/data/gvp/output/unknown.tsv\"\n",
      "BIRTHYEAR: \"/nas/home/bohuizha/KG/hunger-for-knowledge/data/gvp/output/birthyear.tsv\"\n",
      "BIRTHPLACE: \"/nas/home/bohuizha/KG/hunger-for-knowledge/data/gvp/output/birthplace.tsv\"\n",
      "DEATHYEAR: \"/nas/home/bohuizha/KG/hunger-for-knowledge/data/gvp/output/deathyear.tsv\"\n",
      "GETTY_RESULTS: \"/nas/home/bohuizha/KG/hunger-for-knowledge/data/gvp/output/getty.results.tsv\"\n",
      "MATCH_BIRTHYEAR: \"/nas/home/bohuizha/KG/hunger-for-knowledge/data/gvp/output/match.birthyear.tsv\"\n",
      "MATCH_DEATHYEAR: \"/nas/home/bohuizha/KG/hunger-for-knowledge/data/gvp/output/match.deathyear.tsv\"\n",
      "MATCH_BIRTHPLACE: \"/nas/home/bohuizha/KG/hunger-for-knowledge/data/gvp/output/match.birthplace.tsv\"\n",
      "NEW_BIRTHYEAR: \"/nas/home/bohuizha/KG/hunger-for-knowledge/data/gvp/output/new.birthyear.tsv\"\n",
      "NEW_DEATHYEAR: \"/nas/home/bohuizha/KG/hunger-for-knowledge/data/gvp/output/new.deathyear.tsv\"\n",
      "NEW_BIRTHPLACE: \"/nas/home/bohuizha/KG/hunger-for-knowledge/data/gvp/output/new.birthplace.tsv\"\n",
      "NEW_RESULTS: \"/nas/home/bohuizha/KG/hunger-for-knowledge/data/gvp/output/new.results.tsv\"\n",
      "BIRTHYEAR_WITHID: \"/nas/home/bohuizha/KG/hunger-for-knowledge/data/gvp/output/withid.birthyear.tsv\"\n",
      "DEATHYEAR_WITHID: \"/nas/home/bohuizha/KG/hunger-for-knowledge/data/gvp/output/withid.deathyear.tsv\"\n",
      "BIRTHPLACE_WITHID: \"/nas/home/bohuizha/KG/hunger-for-knowledge/data/gvp/output/withid.birthplace.tsv\"\n"
     ]
    }
   ],
   "source": [
    "# Parameters\n",
    "\n",
    "# We will define environment variables to hold the full paths to the files as we will use them in the shell commands\n",
    "kgtk_environment_variables = []\n",
    "\n",
    "# Folder where database files store\n",
    "data_path = \"/nas/home/bohuizha/KG/hunger-for-knowledge/data/gvp\"\n",
    "os.environ['DATABASE'] = data_path\n",
    "kgtk_environment_variables.append('DATABASE')\n",
    "\n",
    "# Folder of ULAN\n",
    "ulan_path = \"/nas/home/bohuizha/KG/hunger-for-knowledge/data/gvp/ULAN\"\n",
    "os.environ['ULAN'] = ulan_path\n",
    "kgtk_environment_variables.append('ULAN')\n",
    "\n",
    "ulan_full_nt_path = \"/nas/home/bohuizha/KG/hunger-for-knowledge/data/gvp/ULAN/ULANOut_Full.nt\"\n",
    "os.environ['ULAN_FULL_NT'] = ulan_full_nt_path\n",
    "kgtk_environment_variables.append('ULAN_FULL_NT')\n",
    "\n",
    "ulan_full_path = \"/nas/home/bohuizha/KG/hunger-for-knowledge/data/gvp/ULAN/full.tsv\"\n",
    "os.environ['ULAN_FULL'] = ulan_full_path\n",
    "kgtk_environment_variables.append('ULAN_FULL')\n",
    "\n",
    "ulan_wikialign_path = \"/nas/home/bohuizha/KG/hunger-for-knowledge/data/gvp/ULAN/wiki.align.tsv\"\n",
    "os.environ['ULAN_ALIGN'] = ulan_wikialign_path\n",
    "kgtk_environment_variables.append('ULAN_ALIGN')\n",
    "\n",
    "# Folder of TGN\n",
    "tgn_path = \"/nas/home/bohuizha/KG/hunger-for-knowledge/data/gvp/TGN\"\n",
    "os.environ['TGN'] = tgn_path\n",
    "kgtk_environment_variables.append('TGN')\n",
    "\n",
    "tgn_full_nt_path = \"/nas/home/bohuizha/KG/hunger-for-knowledge/data/gvp/TGN/TGNOut_Full.nt\"\n",
    "os.environ['TGN_FULL_NT'] = tgn_full_nt_path\n",
    "kgtk_environment_variables.append('TGN_FULL_NT')\n",
    "\n",
    "tgn_full_path = \"/nas/home/bohuizha/KG/hunger-for-knowledge/data/gvp/TGN/full.tsv\"\n",
    "os.environ['TGN_FULL'] = tgn_full_path\n",
    "kgtk_environment_variables.append('TGN_FULL')\n",
    "\n",
    "tgn_wikialign_path = \"/nas/home/bohuizha/KG/hunger-for-knowledge/data/gvp/TGN/wiki.align.tsv\"\n",
    "os.environ['TGN_ALIGN'] = tgn_wikialign_path\n",
    "kgtk_environment_variables.append('TGN_ALIGN')\n",
    "\n",
    "# namespaces\n",
    "namespaces_path = '/nas/home/bohuizha/KG/hunger-for-knowledge/data/gvp/namespaces.tsv'\n",
    "os.environ['NAMESPACES'] = namespaces_path\n",
    "kgtk_environment_variables.append('NAMESPACES')\n",
    "\n",
    "# Wikidata\n",
    "wikidata_path = '/nas/home/bohuizha/KG/hunger-for-knowledge/data/gvp/all.tsv'\n",
    "os.environ['WIKIDATA'] = wikidata_path\n",
    "kgtk_environment_variables.append('WIKIDATA')\n",
    "\n",
    "new_wikidata_path = \"/nas/home/bohuizha/KG/hunger-for-knowledge/data/new.all.tsv\"\n",
    "os.environ['NEW_WIKIDATA'] = new_wikidata_path\n",
    "kgtk_environment_variables.append('NEW_WIKIDATA')\n",
    "\n",
    "label_path = '/nas/home/bohuizha/KG/hunger-for-knowledge/data/gvp/labels.en.tsv'\n",
    "os.environ['KGTK_LABEL_FILE'] = label_path\n",
    "kgtk_environment_variables.append('KGTK_LABEL_FILE')\n",
    "\n",
    "# sample\n",
    "ulan_qnodes_path = '/nas/home/bohuizha/KG/hunger-for-knowledge/data/gvp/ulan-qnodes.tsv'\n",
    "os.environ['ULAN_QNODES'] = ulan_qnodes_path\n",
    "kgtk_environment_variables.append('ULAN_QNODES')\n",
    "\n",
    "samples_path = '/nas/home/bohuizha/KG/hunger-for-knowledge/data/gvp/samples.tsv'\n",
    "os.environ['SAMPLES'] = samples_path\n",
    "kgtk_environment_variables.append('SAMPLES')\n",
    "\n",
    "# Output\n",
    "output_path = \"/nas/home/bohuizha/KG/hunger-for-knowledge/data/gvp/output\"\n",
    "os.environ['OUTPUT'] = output_path\n",
    "kgtk_environment_variables.append('OUTPUT')\n",
    "\n",
    "output_names = {\n",
    "    \"wiki_birthdate\": \"wiki.birthdate.tsv\",\n",
    "    \"wiki_birthplace\": \"wiki.birthplace.tsv\",\n",
    "    \"wiki_deathdate\": \"wiki.deathdate.tsv\",\n",
    "    \"wiki_results\": \"wiki.results.tsv\",\n",
    "    \"unknown\": \"unknown.tsv\",\n",
    "    \"birthyear\": \"birthyear.tsv\",\n",
    "    \"birthplace\": \"birthplace.tsv\",\n",
    "    \"deathyear\": \"deathyear.tsv\",\n",
    "    \"getty_results\": \"getty.results.tsv\",\n",
    "    \"match_birthyear\": \"match.birthyear.tsv\",\n",
    "    \"match_deathyear\": \"match.deathyear.tsv\",\n",
    "    \"match_birthplace\": \"match.birthplace.tsv\",\n",
    "    \"new_birthyear\": \"new.birthyear.tsv\",\n",
    "    \"new_deathyear\": \"new.deathyear.tsv\",\n",
    "    \"new_birthplace\": \"new.birthplace.tsv\",\n",
    "    \"new_results\": \"new.results.tsv\",\n",
    "    \"birthyear_withid\": \"withid.birthyear.tsv\",\n",
    "    \"deathyear_withid\": \"withid.deathyear.tsv\",\n",
    "    \"birthplace_withid\": \"withid.birthplace.tsv\"\n",
    "}\n",
    "\n",
    "for key, value in output_names.items():\n",
    "    variable = key.upper()\n",
    "    os.environ[variable] = os.path.join(output_path, value)\n",
    "    kgtk_environment_variables.append(variable)\n",
    "\n",
    "for variable in kgtk_environment_variables:\n",
    "    print(\"{}: \\\"{}\\\"\".format(variable, os.environ[variable]))"
   ]
  },
  {
   "cell_type": "markdown",
   "id": "0923ad59",
   "metadata": {},
   "source": [
    "## Import TGN & ULAN into `kgtk` graphs"
   ]
  },
  {
   "cell_type": "markdown",
   "id": "2c08d3f1",
   "metadata": {},
   "source": [
    "Import ULAN"
   ]
  },
  {
   "cell_type": "code",
   "execution_count": 8,
   "id": "bb458fc6",
   "metadata": {},
   "outputs": [
    {
     "name": "stdout",
     "output_type": "stream",
     "text": [
      "kgtk import-ntriples     -i $ULAN_FULL_NT     -o $ULAN_FULL     --namespace-file $NAMESPACES     --namespace-id-use-uuid True     --build-new-namespaces False     --output-only-used-namespaces True     --structured-value-label gvp:structured_value     --structured-uri-label gvp:structured_uri     --newnode-prefix node     --newnode-use-uuid True\n",
      "Code: 0, Runtime: 1251.43\n"
     ]
    }
   ],
   "source": [
    "%%time\n",
    "kgtk(\"\"\"\n",
    "    import-ntriples \n",
    "        -i $ULAN_FULL_NT \n",
    "        -o $ULAN_FULL \n",
    "        --namespace-file $NAMESPACES \n",
    "        --namespace-id-use-uuid True \n",
    "        --build-new-namespaces False \n",
    "        --output-only-used-namespaces True \n",
    "        --structured-value-label gvp:structured_value \n",
    "        --structured-uri-label gvp:structured_uri \n",
    "        --newnode-prefix node \n",
    "        --newnode-use-uuid True\n",
    "    \"\"\")"
   ]
  },
  {
   "cell_type": "markdown",
   "id": "44f9b2d7",
   "metadata": {},
   "source": [
    "Import TGN"
   ]
  },
  {
   "cell_type": "code",
   "execution_count": 9,
   "id": "bcd33982",
   "metadata": {},
   "outputs": [
    {
     "name": "stdout",
     "output_type": "stream",
     "text": [
      "kgtk import-ntriples     -i $TGN_FULL_NT     -o $TGN_FULL     --namespace-file $NAMESPACES     --namespace-id-use-uuid True     --build-new-namespaces False     --output-only-used-namespaces True     --structured-value-label gvp:structured_value     --structured-uri-label gvp:structured_uri     --newnode-prefix node     --newnode-use-uuid True\n",
      "Code: 0, Runtime: 5784.43\n"
     ]
    }
   ],
   "source": [
    "%%time\n",
    "kgtk(\"\"\"\n",
    "    import-ntriples \n",
    "        -i $TGN_FULL_NT \n",
    "        -o $TGN_FULL \n",
    "        --namespace-file $NAMESPACES \n",
    "        --namespace-id-use-uuid True \n",
    "        --build-new-namespaces False \n",
    "        --output-only-used-namespaces True \n",
    "        --structured-value-label gvp:structured_value \n",
    "        --structured-uri-label gvp:structured_uri \n",
    "        --newnode-prefix node \n",
    "        --newnode-use-uuid True\n",
    "    \"\"\")"
   ]
  },
  {
   "cell_type": "markdown",
   "id": "caae378c",
   "metadata": {},
   "source": [
    "## Build Getty-Wikidata Alignment\n",
    "Here we built our own alignment file instead of using WikidataAlignment provided by Getty. According to our testing, the WikidataAlignment contains much less useful pairs than our own alignment file. The alignment file links ULAN IDs / TGN IDs with Wikidata Qnodes."
   ]
  },
  {
   "cell_type": "markdown",
   "id": "7dd3db2d",
   "metadata": {},
   "source": [
    "### 1. ULAN"
   ]
  },
  {
   "cell_type": "code",
   "execution_count": 3,
   "id": "69cf5f27",
   "metadata": {},
   "outputs": [
    {
     "name": "stdout",
     "output_type": "stream",
     "text": [
      "CPU times: user 14.5 ms, sys: 27.3 ms, total: 41.8 ms\n",
      "Wall time: 6.2 s\n"
     ]
    },
    {
     "data": {
      "text/html": [
       "<div>\n",
       "<style scoped>\n",
       "    .dataframe tbody tr th:only-of-type {\n",
       "        vertical-align: middle;\n",
       "    }\n",
       "\n",
       "    .dataframe tbody tr th {\n",
       "        vertical-align: top;\n",
       "    }\n",
       "\n",
       "    .dataframe thead th {\n",
       "        text-align: right;\n",
       "    }\n",
       "</style>\n",
       "<table border=\"1\" class=\"dataframe\">\n",
       "  <thead>\n",
       "    <tr style=\"text-align: right;\">\n",
       "      <th></th>\n",
       "      <th>node1</th>\n",
       "      <th>label</th>\n",
       "      <th>node2</th>\n",
       "      <th>node2;label</th>\n",
       "    </tr>\n",
       "  </thead>\n",
       "  <tbody>\n",
       "    <tr>\n",
       "      <th>0</th>\n",
       "      <td>ulan:500224955</td>\n",
       "      <td>skos:exactMatch</td>\n",
       "      <td>Q100948</td>\n",
       "      <td>'Rachel Carson'@en</td>\n",
       "    </tr>\n",
       "    <tr>\n",
       "      <th>1</th>\n",
       "      <td>ulan:500281177</td>\n",
       "      <td>skos:exactMatch</td>\n",
       "      <td>Q101771</td>\n",
       "      <td>'Gottfried Gruben'@en</td>\n",
       "    </tr>\n",
       "    <tr>\n",
       "      <th>2</th>\n",
       "      <td>ulan:500001235</td>\n",
       "      <td>skos:exactMatch</td>\n",
       "      <td>Q101791</td>\n",
       "      <td>'Sep Ruf'@en</td>\n",
       "    </tr>\n",
       "    <tr>\n",
       "      <th>3</th>\n",
       "      <td>ulan:500256782</td>\n",
       "      <td>skos:exactMatch</td>\n",
       "      <td>Q102139</td>\n",
       "      <td>'Margrethe II of Denmark'@en</td>\n",
       "    </tr>\n",
       "    <tr>\n",
       "      <th>4</th>\n",
       "      <td>ulan:500302331</td>\n",
       "      <td>skos:exactMatch</td>\n",
       "      <td>Q1024362</td>\n",
       "      <td>'Spanish National Research Council'@en</td>\n",
       "    </tr>\n",
       "    <tr>\n",
       "      <th>5</th>\n",
       "      <td>ulan:500286871</td>\n",
       "      <td>skos:exactMatch</td>\n",
       "      <td>Q1024426</td>\n",
       "      <td>'University of South Carolina'@en</td>\n",
       "    </tr>\n",
       "    <tr>\n",
       "      <th>6</th>\n",
       "      <td>ulan:500114625</td>\n",
       "      <td>skos:exactMatch</td>\n",
       "      <td>Q102711</td>\n",
       "      <td>'Dennis Hopper'@en</td>\n",
       "    </tr>\n",
       "    <tr>\n",
       "      <th>7</th>\n",
       "      <td>ulan:500304375</td>\n",
       "      <td>skos:exactMatch</td>\n",
       "      <td>Q10288082</td>\n",
       "      <td>'Wildenstein &amp; Company'@en</td>\n",
       "    </tr>\n",
       "    <tr>\n",
       "      <th>8</th>\n",
       "      <td>ulan:500355461</td>\n",
       "      <td>skos:exactMatch</td>\n",
       "      <td>Q103876</td>\n",
       "      <td>'Peter O\\'Toole'@en</td>\n",
       "    </tr>\n",
       "    <tr>\n",
       "      <th>9</th>\n",
       "      <td>ulan:500221924</td>\n",
       "      <td>skos:exactMatch</td>\n",
       "      <td>Q1049334</td>\n",
       "      <td>'United States Army Corps of Engineers'@en</td>\n",
       "    </tr>\n",
       "  </tbody>\n",
       "</table>\n",
       "</div>"
      ],
      "text/plain": [
       "            node1            label      node2  \\\n",
       "0  ulan:500224955  skos:exactMatch    Q100948   \n",
       "1  ulan:500281177  skos:exactMatch    Q101771   \n",
       "2  ulan:500001235  skos:exactMatch    Q101791   \n",
       "3  ulan:500256782  skos:exactMatch    Q102139   \n",
       "4  ulan:500302331  skos:exactMatch   Q1024362   \n",
       "5  ulan:500286871  skos:exactMatch   Q1024426   \n",
       "6  ulan:500114625  skos:exactMatch    Q102711   \n",
       "7  ulan:500304375  skos:exactMatch  Q10288082   \n",
       "8  ulan:500355461  skos:exactMatch    Q103876   \n",
       "9  ulan:500221924  skos:exactMatch   Q1049334   \n",
       "\n",
       "                                  node2;label  \n",
       "0                          'Rachel Carson'@en  \n",
       "1                       'Gottfried Gruben'@en  \n",
       "2                                'Sep Ruf'@en  \n",
       "3                'Margrethe II of Denmark'@en  \n",
       "4      'Spanish National Research Council'@en  \n",
       "5           'University of South Carolina'@en  \n",
       "6                          'Dennis Hopper'@en  \n",
       "7                  'Wildenstein & Company'@en  \n",
       "8                         'Peter O\\'Toole'@en  \n",
       "9  'United States Army Corps of Engineers'@en  "
      ]
     },
     "execution_count": 3,
     "metadata": {},
     "output_type": "execute_result"
    }
   ],
   "source": [
    "%%time\n",
    "kgtk(\"\"\"\n",
    "    query -i $WIKIDATA $ULAN_FULL \n",
    "        --match 'a: (qnode)-[:P245]->(identifier), f: (ulanid)-[p]->(identifier)' \n",
    "        --where 'p.label = \"dc:identifier\"' \n",
    "        --return 'distinct ulanid as node1, \"skos:exactMatch\" as label, qnode as node2' \n",
    "        --limit 10\n",
    "    / add-labels\n",
    "    \"\"\")"
   ]
  },
  {
   "cell_type": "code",
   "execution_count": 4,
   "id": "4a3fdca2",
   "metadata": {},
   "outputs": [
    {
     "name": "stdout",
     "output_type": "stream",
     "text": [
      "CPU times: user 3.46 ms, sys: 11.2 ms, total: 14.6 ms\n",
      "Wall time: 2.32 s\n"
     ]
    }
   ],
   "source": [
    "%%time\n",
    "kgtk(\"\"\"\n",
    "    query -i $WIKIDATA $ULAN_FULL \n",
    "        --match 'a: (qnode)-[:P245]->(identifier), f: (ulanid)-[p]->(identifier)' \n",
    "        --where 'p.label = \"dc:identifier\"' \n",
    "        --return 'distinct ulanid as node1, \"skos:exactMatch\" as label, qnode as node2' \n",
    "        -o $ULAN_ALIGN\n",
    "    \"\"\")"
   ]
  },
  {
   "cell_type": "markdown",
   "id": "bd156588",
   "metadata": {},
   "source": [
    "Similarily, here we can convert `ulan-qnodes.tsv` in the form of `(qnode)-[P245]->(identifier)` into `sample.tsv` in the form of `(ulanid)-[skos:exactMatch]->(qnode)` for better using it in the following sections."
   ]
  },
  {
   "cell_type": "code",
   "execution_count": 5,
   "id": "8e6996a0",
   "metadata": {},
   "outputs": [
    {
     "name": "stdout",
     "output_type": "stream",
     "text": [
      "CPU times: user 4.83 ms, sys: 9.56 ms, total: 14.4 ms\n",
      "Wall time: 1.85 s\n"
     ]
    }
   ],
   "source": [
    "%%time\n",
    "kgtk(\"\"\"\n",
    "    query -i $ULAN_QNODES $ULAN_FULL \n",
    "        --match 'u: (qnode)-[]->(identifier), \n",
    "                 f: (ulanid)-[p]->(identifier)' \n",
    "        --where 'p.label = \"dc:identifier\"' \n",
    "        --return 'distinct ulanid as node1, \"skos:exactMatch\" as label, qnode as node2' \n",
    "        -o $SAMPLES\n",
    "    \"\"\")"
   ]
  },
  {
   "cell_type": "code",
   "execution_count": 6,
   "id": "5e2e7b05",
   "metadata": {},
   "outputs": [
    {
     "data": {
      "text/html": [
       "<div>\n",
       "<style scoped>\n",
       "    .dataframe tbody tr th:only-of-type {\n",
       "        vertical-align: middle;\n",
       "    }\n",
       "\n",
       "    .dataframe tbody tr th {\n",
       "        vertical-align: top;\n",
       "    }\n",
       "\n",
       "    .dataframe thead th {\n",
       "        text-align: right;\n",
       "    }\n",
       "</style>\n",
       "<table border=\"1\" class=\"dataframe\">\n",
       "  <thead>\n",
       "    <tr style=\"text-align: right;\">\n",
       "      <th></th>\n",
       "      <th>count(DISTINCT graph_588_c1.\"node1\")</th>\n",
       "      <th>count(DISTINCT graph_588_c1.\"node2\")</th>\n",
       "    </tr>\n",
       "  </thead>\n",
       "  <tbody>\n",
       "    <tr>\n",
       "      <th>0</th>\n",
       "      <td>432</td>\n",
       "      <td>430</td>\n",
       "    </tr>\n",
       "  </tbody>\n",
       "</table>\n",
       "</div>"
      ],
      "text/plain": [
       "   count(DISTINCT graph_588_c1.\"node1\")  count(DISTINCT graph_588_c1.\"node2\")\n",
       "0                                   432                                   430"
      ]
     },
     "execution_count": 6,
     "metadata": {},
     "output_type": "execute_result"
    }
   ],
   "source": [
    "kgtk(\"\"\"\n",
    "    query -i $SAMPLES \n",
    "        --match '(qnode)-[]->(ulanid)' \n",
    "        --return 'count(distinct qnode), count(distinct ulanid)'\n",
    "    \"\"\")"
   ]
  },
  {
   "cell_type": "markdown",
   "id": "494b651d",
   "metadata": {},
   "source": [
    "After manually checking we found that ULAN ID \"500316131\" from `ulan-qnodes.tsv` is not in Getty."
   ]
  },
  {
   "cell_type": "markdown",
   "id": "e177c464",
   "metadata": {},
   "source": [
    "### 2. TGN\n",
    "Since places in Getty are all TGN place, we need to map the Getty TGN place nodes to Qnodes by using TGN identifiers. Here is the mapping relationship:\n",
    "\n",
    "- Wikidata: `(Q1234567) - [P1667] -> (\"1234567\")`\n",
    "- TGN full: `(tgn:1234567) - [dc:identifier] -> (\"1234567\")`\n",
    "- TGN full: `(tgn:1234567) - [foaf:focus] -> (tgn:1234567-place)`"
   ]
  },
  {
   "cell_type": "code",
   "execution_count": 7,
   "id": "3a65d6a7",
   "metadata": {},
   "outputs": [
    {
     "name": "stdout",
     "output_type": "stream",
     "text": [
      "CPU times: user 10.3 ms, sys: 11.8 ms, total: 22.2 ms\n",
      "Wall time: 4.2 s\n"
     ]
    },
    {
     "data": {
      "text/html": [
       "<div>\n",
       "<style scoped>\n",
       "    .dataframe tbody tr th:only-of-type {\n",
       "        vertical-align: middle;\n",
       "    }\n",
       "\n",
       "    .dataframe tbody tr th {\n",
       "        vertical-align: top;\n",
       "    }\n",
       "\n",
       "    .dataframe thead th {\n",
       "        text-align: right;\n",
       "    }\n",
       "</style>\n",
       "<table border=\"1\" class=\"dataframe\">\n",
       "  <thead>\n",
       "    <tr style=\"text-align: right;\">\n",
       "      <th></th>\n",
       "      <th>node1</th>\n",
       "      <th>label</th>\n",
       "      <th>node2</th>\n",
       "      <th>node2;label</th>\n",
       "    </tr>\n",
       "  </thead>\n",
       "  <tbody>\n",
       "    <tr>\n",
       "      <th>0</th>\n",
       "      <td>tgn:7013445-place</td>\n",
       "      <td>skos:exactMatch</td>\n",
       "      <td>Q100</td>\n",
       "      <td>'Boston'@en</td>\n",
       "    </tr>\n",
       "    <tr>\n",
       "      <th>1</th>\n",
       "      <td>tgn:1000164-place</td>\n",
       "      <td>skos:exactMatch</td>\n",
       "      <td>Q1000</td>\n",
       "      <td>'Gabon'@en</td>\n",
       "    </tr>\n",
       "    <tr>\n",
       "      <th>2</th>\n",
       "      <td>tgn:2116540-place</td>\n",
       "      <td>skos:exactMatch</td>\n",
       "      <td>Q1001828</td>\n",
       "      <td>'Port Townsend'@en</td>\n",
       "    </tr>\n",
       "    <tr>\n",
       "      <th>3</th>\n",
       "      <td>tgn:1000165-place</td>\n",
       "      <td>skos:exactMatch</td>\n",
       "      <td>Q1005</td>\n",
       "      <td>'The Gambia'@en</td>\n",
       "    </tr>\n",
       "    <tr>\n",
       "      <th>4</th>\n",
       "      <td>tgn:1000167-place</td>\n",
       "      <td>skos:exactMatch</td>\n",
       "      <td>Q1006</td>\n",
       "      <td>'Guinea'@en</td>\n",
       "    </tr>\n",
       "    <tr>\n",
       "      <th>5</th>\n",
       "      <td>tgn:1000183-place</td>\n",
       "      <td>skos:exactMatch</td>\n",
       "      <td>Q1007</td>\n",
       "      <td>'Guinea-Bissau'@en</td>\n",
       "    </tr>\n",
       "    <tr>\n",
       "      <th>6</th>\n",
       "      <td>tgn:1000168-place</td>\n",
       "      <td>skos:exactMatch</td>\n",
       "      <td>Q1008</td>\n",
       "      <td>'Ivory Coast'@en</td>\n",
       "    </tr>\n",
       "    <tr>\n",
       "      <th>7</th>\n",
       "      <td>tgn:1000153-place</td>\n",
       "      <td>skos:exactMatch</td>\n",
       "      <td>Q1009</td>\n",
       "      <td>'Cameroon'@en</td>\n",
       "    </tr>\n",
       "    <tr>\n",
       "      <th>8</th>\n",
       "      <td>tgn:7001632-place</td>\n",
       "      <td>skos:exactMatch</td>\n",
       "      <td>Q1011</td>\n",
       "      <td>'Cape Verde'@en</td>\n",
       "    </tr>\n",
       "    <tr>\n",
       "      <th>9</th>\n",
       "      <td>tgn:7001660-place</td>\n",
       "      <td>skos:exactMatch</td>\n",
       "      <td>Q1013</td>\n",
       "      <td>'Lesotho'@en</td>\n",
       "    </tr>\n",
       "  </tbody>\n",
       "</table>\n",
       "</div>"
      ],
      "text/plain": [
       "               node1            label     node2         node2;label\n",
       "0  tgn:7013445-place  skos:exactMatch      Q100         'Boston'@en\n",
       "1  tgn:1000164-place  skos:exactMatch     Q1000          'Gabon'@en\n",
       "2  tgn:2116540-place  skos:exactMatch  Q1001828  'Port Townsend'@en\n",
       "3  tgn:1000165-place  skos:exactMatch     Q1005     'The Gambia'@en\n",
       "4  tgn:1000167-place  skos:exactMatch     Q1006         'Guinea'@en\n",
       "5  tgn:1000183-place  skos:exactMatch     Q1007  'Guinea-Bissau'@en\n",
       "6  tgn:1000168-place  skos:exactMatch     Q1008    'Ivory Coast'@en\n",
       "7  tgn:1000153-place  skos:exactMatch     Q1009       'Cameroon'@en\n",
       "8  tgn:7001632-place  skos:exactMatch     Q1011     'Cape Verde'@en\n",
       "9  tgn:7001660-place  skos:exactMatch     Q1013        'Lesotho'@en"
      ]
     },
     "execution_count": 7,
     "metadata": {},
     "output_type": "execute_result"
    }
   ],
   "source": [
    "%%time\n",
    "kgtk(\"\"\"\n",
    "    query -i $WIKIDATA $TGN_FULL\n",
    "        --match 'a: (qnode)-[:P1667]->(identifier), \n",
    "                 f: (tgnid)-[p1]->(identifier), \n",
    "                 f: (tgnid)-[p2]->(tgnplace)' \n",
    "        --where 'p1.label = \"dc:identifier\" AND p2.label = \"foaf:focus\"' \n",
    "        --return 'tgnplace as node1, \"skos:exactMatch\" as label, qnode as node2' \n",
    "        --limit 10\n",
    "    / add-labels\n",
    "    \"\"\")"
   ]
  },
  {
   "cell_type": "code",
   "execution_count": 8,
   "id": "c5233e5e",
   "metadata": {},
   "outputs": [
    {
     "name": "stdout",
     "output_type": "stream",
     "text": [
      "CPU times: user 4.37 ms, sys: 10.2 ms, total: 14.6 ms\n",
      "Wall time: 2.46 s\n"
     ]
    }
   ],
   "source": [
    "%%time\n",
    "kgtk(\"\"\"\n",
    "    query -i $WIKIDATA $TGN_FULL\n",
    "        --match 'a: (qnode)-[:P1667]->(identifier), \n",
    "                 f: (tgnid)-[p1]->(identifier), \n",
    "                 f: (tgnid)-[p2]->(tgnplace)' \n",
    "        --where 'p1.label = \"dc:identifier\" AND p2.label = \"foaf:focus\"' \n",
    "        --return 'tgnplace as node1, \"skos:exactMatch\" as label, qnode as node2' \n",
    "        -o $TGN_ALIGN\n",
    "    \"\"\")"
   ]
  },
  {
   "cell_type": "markdown",
   "id": "fde64419",
   "metadata": {},
   "source": [
    "## Query for Wikidata\n",
    "We query Wikidata for those sample records about their dates of birth, dates of death and places of birth. For each of the field, we provide first, a glimpse of the query results (about 10 results), then we perform the whole query and last we count the results."
   ]
  },
  {
   "cell_type": "markdown",
   "id": "3ab30c8a",
   "metadata": {},
   "source": [
    "### 1. Date of birth:"
   ]
  },
  {
   "cell_type": "code",
   "execution_count": 9,
   "id": "72b0a8c4",
   "metadata": {},
   "outputs": [
    {
     "name": "stdout",
     "output_type": "stream",
     "text": [
      "CPU times: user 12.5 ms, sys: 13 ms, total: 25.5 ms\n",
      "Wall time: 4.87 s\n"
     ]
    },
    {
     "data": {
      "text/html": [
       "<div>\n",
       "<style scoped>\n",
       "    .dataframe tbody tr th:only-of-type {\n",
       "        vertical-align: middle;\n",
       "    }\n",
       "\n",
       "    .dataframe tbody tr th {\n",
       "        vertical-align: top;\n",
       "    }\n",
       "\n",
       "    .dataframe thead th {\n",
       "        text-align: right;\n",
       "    }\n",
       "</style>\n",
       "<table border=\"1\" class=\"dataframe\">\n",
       "  <thead>\n",
       "    <tr style=\"text-align: right;\">\n",
       "      <th></th>\n",
       "      <th>node1</th>\n",
       "      <th>label</th>\n",
       "      <th>node2</th>\n",
       "      <th>node1;label</th>\n",
       "      <th>label;label</th>\n",
       "    </tr>\n",
       "  </thead>\n",
       "  <tbody>\n",
       "    <tr>\n",
       "      <th>0</th>\n",
       "      <td>Q100948</td>\n",
       "      <td>P569</td>\n",
       "      <td>^1907-05-27T00:00:00Z/11</td>\n",
       "      <td>'Rachel Carson'@en</td>\n",
       "      <td>'date of birth'@en</td>\n",
       "    </tr>\n",
       "    <tr>\n",
       "      <th>1</th>\n",
       "      <td>Q101771</td>\n",
       "      <td>P569</td>\n",
       "      <td>^1929-06-21T00:00:00Z/11</td>\n",
       "      <td>'Gottfried Gruben'@en</td>\n",
       "      <td>'date of birth'@en</td>\n",
       "    </tr>\n",
       "    <tr>\n",
       "      <th>2</th>\n",
       "      <td>Q101791</td>\n",
       "      <td>P569</td>\n",
       "      <td>^1908-03-09T00:00:00Z/11</td>\n",
       "      <td>'Sep Ruf'@en</td>\n",
       "      <td>'date of birth'@en</td>\n",
       "    </tr>\n",
       "    <tr>\n",
       "      <th>3</th>\n",
       "      <td>Q102139</td>\n",
       "      <td>P569</td>\n",
       "      <td>^1940-04-16T00:00:00Z/11</td>\n",
       "      <td>'Margrethe II of Denmark'@en</td>\n",
       "      <td>'date of birth'@en</td>\n",
       "    </tr>\n",
       "    <tr>\n",
       "      <th>4</th>\n",
       "      <td>Q102711</td>\n",
       "      <td>P569</td>\n",
       "      <td>^1936-05-17T00:00:00Z/11</td>\n",
       "      <td>'Dennis Hopper'@en</td>\n",
       "      <td>'date of birth'@en</td>\n",
       "    </tr>\n",
       "    <tr>\n",
       "      <th>5</th>\n",
       "      <td>Q103876</td>\n",
       "      <td>P569</td>\n",
       "      <td>^1932-08-02T00:00:00Z/11</td>\n",
       "      <td>'Peter O\\'Toole'@en</td>\n",
       "      <td>'date of birth'@en</td>\n",
       "    </tr>\n",
       "    <tr>\n",
       "      <th>6</th>\n",
       "      <td>Q1066442</td>\n",
       "      <td>P569</td>\n",
       "      <td>^1925-10-31T00:00:00Z/11</td>\n",
       "      <td>'Charles Moore'@en</td>\n",
       "      <td>'date of birth'@en</td>\n",
       "    </tr>\n",
       "    <tr>\n",
       "      <th>7</th>\n",
       "      <td>Q106775</td>\n",
       "      <td>P569</td>\n",
       "      <td>^1930-10-02T00:00:00Z/11</td>\n",
       "      <td>'Richard Harris'@en</td>\n",
       "      <td>'date of birth'@en</td>\n",
       "    </tr>\n",
       "    <tr>\n",
       "      <th>8</th>\n",
       "      <td>Q106775</td>\n",
       "      <td>P569</td>\n",
       "      <td>^1930-10-01T00:00:00Z/11</td>\n",
       "      <td>'Richard Harris'@en</td>\n",
       "      <td>'date of birth'@en</td>\n",
       "    </tr>\n",
       "    <tr>\n",
       "      <th>9</th>\n",
       "      <td>Q1124</td>\n",
       "      <td>P569</td>\n",
       "      <td>^1946-08-19T00:00:00Z/11</td>\n",
       "      <td>'Bill Clinton'@en</td>\n",
       "      <td>'date of birth'@en</td>\n",
       "    </tr>\n",
       "  </tbody>\n",
       "</table>\n",
       "</div>"
      ],
      "text/plain": [
       "      node1 label                     node2                   node1;label  \\\n",
       "0   Q100948  P569  ^1907-05-27T00:00:00Z/11            'Rachel Carson'@en   \n",
       "1   Q101771  P569  ^1929-06-21T00:00:00Z/11         'Gottfried Gruben'@en   \n",
       "2   Q101791  P569  ^1908-03-09T00:00:00Z/11                  'Sep Ruf'@en   \n",
       "3   Q102139  P569  ^1940-04-16T00:00:00Z/11  'Margrethe II of Denmark'@en   \n",
       "4   Q102711  P569  ^1936-05-17T00:00:00Z/11            'Dennis Hopper'@en   \n",
       "5   Q103876  P569  ^1932-08-02T00:00:00Z/11           'Peter O\\'Toole'@en   \n",
       "6  Q1066442  P569  ^1925-10-31T00:00:00Z/11            'Charles Moore'@en   \n",
       "7   Q106775  P569  ^1930-10-02T00:00:00Z/11           'Richard Harris'@en   \n",
       "8   Q106775  P569  ^1930-10-01T00:00:00Z/11           'Richard Harris'@en   \n",
       "9     Q1124  P569  ^1946-08-19T00:00:00Z/11             'Bill Clinton'@en   \n",
       "\n",
       "          label;label  \n",
       "0  'date of birth'@en  \n",
       "1  'date of birth'@en  \n",
       "2  'date of birth'@en  \n",
       "3  'date of birth'@en  \n",
       "4  'date of birth'@en  \n",
       "5  'date of birth'@en  \n",
       "6  'date of birth'@en  \n",
       "7  'date of birth'@en  \n",
       "8  'date of birth'@en  \n",
       "9  'date of birth'@en  "
      ]
     },
     "execution_count": 9,
     "metadata": {},
     "output_type": "execute_result"
    }
   ],
   "source": [
    "%%time\n",
    "kgtk(\"\"\"\n",
    "    query -i $SAMPLES $WIKIDATA \n",
    "        --match 's: (ulanid)-[]->(qnode), \n",
    "                 a: (qnode)-[p:P569]->(birthdate)' \n",
    "        --return 'qnode as node1, p.label as label, birthdate as node2' \n",
    "        --limit 10\n",
    "    / add-labels\n",
    "    \"\"\")"
   ]
  },
  {
   "cell_type": "code",
   "execution_count": 10,
   "id": "6b0a1f41",
   "metadata": {},
   "outputs": [
    {
     "name": "stdout",
     "output_type": "stream",
     "text": [
      "CPU times: user 6.05 ms, sys: 11.5 ms, total: 17.6 ms\n",
      "Wall time: 2.18 s\n"
     ]
    }
   ],
   "source": [
    "%%time\n",
    "kgtk(\"\"\"\n",
    "    query -i $SAMPLES $WIKIDATA \n",
    "        --match 's: (ulanid)-[]->(qnode), \n",
    "                 a: (qnode)-[p:P569]->(birthdate)' \n",
    "        --return 'qnode as node1, p.label as label, birthdate as node2' \n",
    "        -o $WIKI_BIRTHDATE\n",
    "    \"\"\")"
   ]
  },
  {
   "cell_type": "code",
   "execution_count": 11,
   "id": "b56692c5",
   "metadata": {},
   "outputs": [
    {
     "data": {
      "text/html": [
       "<div>\n",
       "<style scoped>\n",
       "    .dataframe tbody tr th:only-of-type {\n",
       "        vertical-align: middle;\n",
       "    }\n",
       "\n",
       "    .dataframe tbody tr th {\n",
       "        vertical-align: top;\n",
       "    }\n",
       "\n",
       "    .dataframe thead th {\n",
       "        text-align: right;\n",
       "    }\n",
       "</style>\n",
       "<table border=\"1\" class=\"dataframe\">\n",
       "  <thead>\n",
       "    <tr style=\"text-align: right;\">\n",
       "      <th></th>\n",
       "      <th>count(DISTINCT graph_617_c1.\"node1\")</th>\n",
       "    </tr>\n",
       "  </thead>\n",
       "  <tbody>\n",
       "    <tr>\n",
       "      <th>0</th>\n",
       "      <td>239</td>\n",
       "    </tr>\n",
       "  </tbody>\n",
       "</table>\n",
       "</div>"
      ],
      "text/plain": [
       "   count(DISTINCT graph_617_c1.\"node1\")\n",
       "0                                   239"
      ]
     },
     "execution_count": 11,
     "metadata": {},
     "output_type": "execute_result"
    }
   ],
   "source": [
    "kgtk(\"\"\"\n",
    "    query -i $WIKI_BIRTHDATE\n",
    "        --match '(qnode)-[]->()' \n",
    "        --return 'count(distinct qnode)'\n",
    "    \"\"\")"
   ]
  },
  {
   "cell_type": "markdown",
   "id": "62ba66fe",
   "metadata": {},
   "source": [
    "### 2. Date of death:"
   ]
  },
  {
   "cell_type": "code",
   "execution_count": 12,
   "id": "96ac7152",
   "metadata": {},
   "outputs": [
    {
     "name": "stdout",
     "output_type": "stream",
     "text": [
      "CPU times: user 9.01 ms, sys: 14.3 ms, total: 23.4 ms\n",
      "Wall time: 4.67 s\n"
     ]
    },
    {
     "data": {
      "text/html": [
       "<div>\n",
       "<style scoped>\n",
       "    .dataframe tbody tr th:only-of-type {\n",
       "        vertical-align: middle;\n",
       "    }\n",
       "\n",
       "    .dataframe tbody tr th {\n",
       "        vertical-align: top;\n",
       "    }\n",
       "\n",
       "    .dataframe thead th {\n",
       "        text-align: right;\n",
       "    }\n",
       "</style>\n",
       "<table border=\"1\" class=\"dataframe\">\n",
       "  <thead>\n",
       "    <tr style=\"text-align: right;\">\n",
       "      <th></th>\n",
       "      <th>node1</th>\n",
       "      <th>label</th>\n",
       "      <th>node2</th>\n",
       "      <th>node1;label</th>\n",
       "      <th>label;label</th>\n",
       "    </tr>\n",
       "  </thead>\n",
       "  <tbody>\n",
       "    <tr>\n",
       "      <th>0</th>\n",
       "      <td>Q100948</td>\n",
       "      <td>P570</td>\n",
       "      <td>^1964-04-14T00:00:00Z/11</td>\n",
       "      <td>'Rachel Carson'@en</td>\n",
       "      <td>'date of death'@en</td>\n",
       "    </tr>\n",
       "    <tr>\n",
       "      <th>1</th>\n",
       "      <td>Q101771</td>\n",
       "      <td>P570</td>\n",
       "      <td>^2003-11-24T00:00:00Z/11</td>\n",
       "      <td>'Gottfried Gruben'@en</td>\n",
       "      <td>'date of death'@en</td>\n",
       "    </tr>\n",
       "    <tr>\n",
       "      <th>2</th>\n",
       "      <td>Q101771</td>\n",
       "      <td>P570</td>\n",
       "      <td>^2003-01-01T00:00:00Z/9</td>\n",
       "      <td>'Gottfried Gruben'@en</td>\n",
       "      <td>'date of death'@en</td>\n",
       "    </tr>\n",
       "    <tr>\n",
       "      <th>3</th>\n",
       "      <td>Q101791</td>\n",
       "      <td>P570</td>\n",
       "      <td>^1982-07-29T00:00:00Z/11</td>\n",
       "      <td>'Sep Ruf'@en</td>\n",
       "      <td>'date of death'@en</td>\n",
       "    </tr>\n",
       "    <tr>\n",
       "      <th>4</th>\n",
       "      <td>Q102711</td>\n",
       "      <td>P570</td>\n",
       "      <td>^2010-05-29T00:00:00Z/11</td>\n",
       "      <td>'Dennis Hopper'@en</td>\n",
       "      <td>'date of death'@en</td>\n",
       "    </tr>\n",
       "    <tr>\n",
       "      <th>5</th>\n",
       "      <td>Q103876</td>\n",
       "      <td>P570</td>\n",
       "      <td>^2013-12-14T00:00:00Z/11</td>\n",
       "      <td>'Peter O\\'Toole'@en</td>\n",
       "      <td>'date of death'@en</td>\n",
       "    </tr>\n",
       "    <tr>\n",
       "      <th>6</th>\n",
       "      <td>Q1066442</td>\n",
       "      <td>P570</td>\n",
       "      <td>^1993-12-16T00:00:00Z/11</td>\n",
       "      <td>'Charles Moore'@en</td>\n",
       "      <td>'date of death'@en</td>\n",
       "    </tr>\n",
       "    <tr>\n",
       "      <th>7</th>\n",
       "      <td>Q106775</td>\n",
       "      <td>P570</td>\n",
       "      <td>^2002-10-25T00:00:00Z/11</td>\n",
       "      <td>'Richard Harris'@en</td>\n",
       "      <td>'date of death'@en</td>\n",
       "    </tr>\n",
       "    <tr>\n",
       "      <th>8</th>\n",
       "      <td>Q1132047</td>\n",
       "      <td>P570</td>\n",
       "      <td>^1854-04-07T00:00:00Z/11</td>\n",
       "      <td>'William Strickland'@en</td>\n",
       "      <td>'date of death'@en</td>\n",
       "    </tr>\n",
       "    <tr>\n",
       "      <th>9</th>\n",
       "      <td>Q1132047</td>\n",
       "      <td>P570</td>\n",
       "      <td>^1854-01-01T00:00:00Z/9</td>\n",
       "      <td>'William Strickland'@en</td>\n",
       "      <td>'date of death'@en</td>\n",
       "    </tr>\n",
       "  </tbody>\n",
       "</table>\n",
       "</div>"
      ],
      "text/plain": [
       "      node1 label                     node2              node1;label  \\\n",
       "0   Q100948  P570  ^1964-04-14T00:00:00Z/11       'Rachel Carson'@en   \n",
       "1   Q101771  P570  ^2003-11-24T00:00:00Z/11    'Gottfried Gruben'@en   \n",
       "2   Q101771  P570   ^2003-01-01T00:00:00Z/9    'Gottfried Gruben'@en   \n",
       "3   Q101791  P570  ^1982-07-29T00:00:00Z/11             'Sep Ruf'@en   \n",
       "4   Q102711  P570  ^2010-05-29T00:00:00Z/11       'Dennis Hopper'@en   \n",
       "5   Q103876  P570  ^2013-12-14T00:00:00Z/11      'Peter O\\'Toole'@en   \n",
       "6  Q1066442  P570  ^1993-12-16T00:00:00Z/11       'Charles Moore'@en   \n",
       "7   Q106775  P570  ^2002-10-25T00:00:00Z/11      'Richard Harris'@en   \n",
       "8  Q1132047  P570  ^1854-04-07T00:00:00Z/11  'William Strickland'@en   \n",
       "9  Q1132047  P570   ^1854-01-01T00:00:00Z/9  'William Strickland'@en   \n",
       "\n",
       "          label;label  \n",
       "0  'date of death'@en  \n",
       "1  'date of death'@en  \n",
       "2  'date of death'@en  \n",
       "3  'date of death'@en  \n",
       "4  'date of death'@en  \n",
       "5  'date of death'@en  \n",
       "6  'date of death'@en  \n",
       "7  'date of death'@en  \n",
       "8  'date of death'@en  \n",
       "9  'date of death'@en  "
      ]
     },
     "execution_count": 12,
     "metadata": {},
     "output_type": "execute_result"
    }
   ],
   "source": [
    "%%time\n",
    "kgtk(\"\"\"\n",
    "    query -i $SAMPLES $WIKIDATA \n",
    "        --match 's: (ulanid)-[]->(qnode), \n",
    "                 a: (qnode)-[p:P570]->(deathdate)' \n",
    "        --return 'qnode as node1, p.label as label, deathdate as node2' \n",
    "        --limit 10\n",
    "    / add-labels\n",
    "    \"\"\")"
   ]
  },
  {
   "cell_type": "code",
   "execution_count": 13,
   "id": "073d9fe0",
   "metadata": {},
   "outputs": [
    {
     "name": "stdout",
     "output_type": "stream",
     "text": [
      "CPU times: user 3.77 ms, sys: 12.8 ms, total: 16.6 ms\n",
      "Wall time: 2.08 s\n"
     ]
    }
   ],
   "source": [
    "%%time\n",
    "kgtk(\"\"\"\n",
    "    query -i $SAMPLES $WIKIDATA \n",
    "        --match 's: (ulanid)-[]->(qnode), \n",
    "                 a: (qnode)-[p:P570]->(deathdate)' \n",
    "        --return 'qnode as node1, p.label as label, deathdate as node2' \n",
    "        -o $WIKI_DEATHDATE\n",
    "    \"\"\")"
   ]
  },
  {
   "cell_type": "code",
   "execution_count": 14,
   "id": "92d9da97",
   "metadata": {},
   "outputs": [
    {
     "data": {
      "text/html": [
       "<div>\n",
       "<style scoped>\n",
       "    .dataframe tbody tr th:only-of-type {\n",
       "        vertical-align: middle;\n",
       "    }\n",
       "\n",
       "    .dataframe tbody tr th {\n",
       "        vertical-align: top;\n",
       "    }\n",
       "\n",
       "    .dataframe thead th {\n",
       "        text-align: right;\n",
       "    }\n",
       "</style>\n",
       "<table border=\"1\" class=\"dataframe\">\n",
       "  <thead>\n",
       "    <tr style=\"text-align: right;\">\n",
       "      <th></th>\n",
       "      <th>count(DISTINCT graph_620_c1.\"node1\")</th>\n",
       "    </tr>\n",
       "  </thead>\n",
       "  <tbody>\n",
       "    <tr>\n",
       "      <th>0</th>\n",
       "      <td>198</td>\n",
       "    </tr>\n",
       "  </tbody>\n",
       "</table>\n",
       "</div>"
      ],
      "text/plain": [
       "   count(DISTINCT graph_620_c1.\"node1\")\n",
       "0                                   198"
      ]
     },
     "execution_count": 14,
     "metadata": {},
     "output_type": "execute_result"
    }
   ],
   "source": [
    "kgtk(\"\"\"\n",
    "    query -i $WIKI_DEATHDATE\n",
    "        --match '(qnode)-[]->()' \n",
    "        --return 'count(distinct qnode)'\n",
    "    \"\"\")"
   ]
  },
  {
   "cell_type": "markdown",
   "id": "31a1d6e8",
   "metadata": {},
   "source": [
    "### 3. Place of birth:"
   ]
  },
  {
   "cell_type": "code",
   "execution_count": 16,
   "id": "5e8d0a16",
   "metadata": {},
   "outputs": [
    {
     "name": "stdout",
     "output_type": "stream",
     "text": [
      "CPU times: user 11.5 ms, sys: 13.4 ms, total: 24.9 ms\n",
      "Wall time: 4.35 s\n"
     ]
    },
    {
     "data": {
      "text/html": [
       "<div>\n",
       "<style scoped>\n",
       "    .dataframe tbody tr th:only-of-type {\n",
       "        vertical-align: middle;\n",
       "    }\n",
       "\n",
       "    .dataframe tbody tr th {\n",
       "        vertical-align: top;\n",
       "    }\n",
       "\n",
       "    .dataframe thead th {\n",
       "        text-align: right;\n",
       "    }\n",
       "</style>\n",
       "<table border=\"1\" class=\"dataframe\">\n",
       "  <thead>\n",
       "    <tr style=\"text-align: right;\">\n",
       "      <th></th>\n",
       "      <th>node1</th>\n",
       "      <th>label</th>\n",
       "      <th>node2</th>\n",
       "      <th>node1;label</th>\n",
       "      <th>label;label</th>\n",
       "      <th>node2;label</th>\n",
       "    </tr>\n",
       "  </thead>\n",
       "  <tbody>\n",
       "    <tr>\n",
       "      <th>0</th>\n",
       "      <td>Q101771</td>\n",
       "      <td>P19</td>\n",
       "      <td>Q1449</td>\n",
       "      <td>'Gottfried Gruben'@en</td>\n",
       "      <td>'place of birth'@en</td>\n",
       "      <td>'Genoa'@en</td>\n",
       "    </tr>\n",
       "    <tr>\n",
       "      <th>1</th>\n",
       "      <td>Q101791</td>\n",
       "      <td>P19</td>\n",
       "      <td>Q1726</td>\n",
       "      <td>'Sep Ruf'@en</td>\n",
       "      <td>'place of birth'@en</td>\n",
       "      <td>'Munich'@en</td>\n",
       "    </tr>\n",
       "    <tr>\n",
       "      <th>2</th>\n",
       "      <td>Q103876</td>\n",
       "      <td>P19</td>\n",
       "      <td>Q39121</td>\n",
       "      <td>'Peter O\\'Toole'@en</td>\n",
       "      <td>'place of birth'@en</td>\n",
       "      <td>'Leeds'@en</td>\n",
       "    </tr>\n",
       "    <tr>\n",
       "      <th>3</th>\n",
       "      <td>Q106775</td>\n",
       "      <td>P19</td>\n",
       "      <td>Q133315</td>\n",
       "      <td>'Richard Harris'@en</td>\n",
       "      <td>'place of birth'@en</td>\n",
       "      <td>'Limerick'@en</td>\n",
       "    </tr>\n",
       "    <tr>\n",
       "      <th>4</th>\n",
       "      <td>Q1124</td>\n",
       "      <td>P19</td>\n",
       "      <td>Q80008</td>\n",
       "      <td>'Bill Clinton'@en</td>\n",
       "      <td>'place of birth'@en</td>\n",
       "      <td>'Hope'@en</td>\n",
       "    </tr>\n",
       "    <tr>\n",
       "      <th>5</th>\n",
       "      <td>Q11613</td>\n",
       "      <td>P19</td>\n",
       "      <td>Q572172</td>\n",
       "      <td>'Harry S. Truman'@en</td>\n",
       "      <td>'place of birth'@en</td>\n",
       "      <td>'Lamar'@en</td>\n",
       "    </tr>\n",
       "    <tr>\n",
       "      <th>6</th>\n",
       "      <td>Q11673</td>\n",
       "      <td>P19</td>\n",
       "      <td>Q18424</td>\n",
       "      <td>'Andrew Cuomo'@en</td>\n",
       "      <td>'place of birth'@en</td>\n",
       "      <td>'Queens'@en</td>\n",
       "    </tr>\n",
       "    <tr>\n",
       "      <th>7</th>\n",
       "      <td>Q11806</td>\n",
       "      <td>P19</td>\n",
       "      <td>Q16101</td>\n",
       "      <td>'John Adams'@en</td>\n",
       "      <td>'place of birth'@en</td>\n",
       "      <td>'Braintree'@en</td>\n",
       "    </tr>\n",
       "    <tr>\n",
       "      <th>8</th>\n",
       "      <td>Q11812</td>\n",
       "      <td>P19</td>\n",
       "      <td>Q4179352</td>\n",
       "      <td>'Thomas Jefferson'@en</td>\n",
       "      <td>'place of birth'@en</td>\n",
       "      <td>'Shadwell'@en</td>\n",
       "    </tr>\n",
       "    <tr>\n",
       "      <th>9</th>\n",
       "      <td>Q11816</td>\n",
       "      <td>P19</td>\n",
       "      <td>Q16101</td>\n",
       "      <td>'John Quincy Adams'@en</td>\n",
       "      <td>'place of birth'@en</td>\n",
       "      <td>'Braintree'@en</td>\n",
       "    </tr>\n",
       "  </tbody>\n",
       "</table>\n",
       "</div>"
      ],
      "text/plain": [
       "     node1 label     node2             node1;label          label;label  \\\n",
       "0  Q101771   P19     Q1449   'Gottfried Gruben'@en  'place of birth'@en   \n",
       "1  Q101791   P19     Q1726            'Sep Ruf'@en  'place of birth'@en   \n",
       "2  Q103876   P19    Q39121     'Peter O\\'Toole'@en  'place of birth'@en   \n",
       "3  Q106775   P19   Q133315     'Richard Harris'@en  'place of birth'@en   \n",
       "4    Q1124   P19    Q80008       'Bill Clinton'@en  'place of birth'@en   \n",
       "5   Q11613   P19   Q572172    'Harry S. Truman'@en  'place of birth'@en   \n",
       "6   Q11673   P19    Q18424       'Andrew Cuomo'@en  'place of birth'@en   \n",
       "7   Q11806   P19    Q16101         'John Adams'@en  'place of birth'@en   \n",
       "8   Q11812   P19  Q4179352   'Thomas Jefferson'@en  'place of birth'@en   \n",
       "9   Q11816   P19    Q16101  'John Quincy Adams'@en  'place of birth'@en   \n",
       "\n",
       "      node2;label  \n",
       "0      'Genoa'@en  \n",
       "1     'Munich'@en  \n",
       "2      'Leeds'@en  \n",
       "3   'Limerick'@en  \n",
       "4       'Hope'@en  \n",
       "5      'Lamar'@en  \n",
       "6     'Queens'@en  \n",
       "7  'Braintree'@en  \n",
       "8   'Shadwell'@en  \n",
       "9  'Braintree'@en  "
      ]
     },
     "execution_count": 16,
     "metadata": {},
     "output_type": "execute_result"
    }
   ],
   "source": [
    "%%time\n",
    "kgtk(\"\"\"\n",
    "    query -i $SAMPLES $WIKIDATA \n",
    "        --match 's: (ulanid)-[]->(qnode), \n",
    "                 a: (qnode)-[p:P19]->(birthplace)' \n",
    "        --return 'qnode as node1, p.label as label, birthplace as node2' \n",
    "        --limit 10 \n",
    "    / add-labels\n",
    "    \"\"\")"
   ]
  },
  {
   "cell_type": "code",
   "execution_count": 17,
   "id": "614918c0",
   "metadata": {},
   "outputs": [
    {
     "name": "stdout",
     "output_type": "stream",
     "text": [
      "CPU times: user 3.98 ms, sys: 10.2 ms, total: 14.2 ms\n",
      "Wall time: 2.14 s\n"
     ]
    }
   ],
   "source": [
    "%%time\n",
    "kgtk(\"\"\"\n",
    "    query -i $SAMPLES $WIKIDATA \n",
    "        --match 's: (ulanid)-[]->(qnode), \n",
    "                 a: (qnode)-[p:P19]->(birthplace)' \n",
    "        --return 'qnode as node1, p.label as label, birthplace as node2' \n",
    "        -o $WIKI_BIRTHPLACE\n",
    "    \"\"\")"
   ]
  },
  {
   "cell_type": "code",
   "execution_count": 18,
   "id": "9b6f0f98",
   "metadata": {},
   "outputs": [
    {
     "data": {
      "text/html": [
       "<div>\n",
       "<style scoped>\n",
       "    .dataframe tbody tr th:only-of-type {\n",
       "        vertical-align: middle;\n",
       "    }\n",
       "\n",
       "    .dataframe tbody tr th {\n",
       "        vertical-align: top;\n",
       "    }\n",
       "\n",
       "    .dataframe thead th {\n",
       "        text-align: right;\n",
       "    }\n",
       "</style>\n",
       "<table border=\"1\" class=\"dataframe\">\n",
       "  <thead>\n",
       "    <tr style=\"text-align: right;\">\n",
       "      <th></th>\n",
       "      <th>count(DISTINCT graph_622_c1.\"node1\")</th>\n",
       "    </tr>\n",
       "  </thead>\n",
       "  <tbody>\n",
       "    <tr>\n",
       "      <th>0</th>\n",
       "      <td>142</td>\n",
       "    </tr>\n",
       "  </tbody>\n",
       "</table>\n",
       "</div>"
      ],
      "text/plain": [
       "   count(DISTINCT graph_622_c1.\"node1\")\n",
       "0                                   142"
      ]
     },
     "execution_count": 18,
     "metadata": {},
     "output_type": "execute_result"
    }
   ],
   "source": [
    "kgtk(\"\"\"\n",
    "    query -i $WIKI_BIRTHPLACE\n",
    "        --match '(qnode)-[]->()' \n",
    "        --return 'count(distinct qnode)'\n",
    "    \"\"\")"
   ]
  },
  {
   "cell_type": "markdown",
   "id": "496a9ad1",
   "metadata": {},
   "source": [
    "## Query for Getty"
   ]
  },
  {
   "cell_type": "markdown",
   "id": "5e1dcbb8",
   "metadata": {},
   "source": [
    "### 1: Date of birth\n",
    "Since dates of birth in Getty are all just years, so we are actually querying years of birth then convert them into date format. This is the same for dates of death."
   ]
  },
  {
   "cell_type": "code",
   "execution_count": 19,
   "id": "1879b0d5",
   "metadata": {},
   "outputs": [
    {
     "name": "stdout",
     "output_type": "stream",
     "text": [
      "CPU times: user 11 ms, sys: 12.1 ms, total: 23 ms\n",
      "Wall time: 4.15 s\n"
     ]
    },
    {
     "data": {
      "text/html": [
       "<div>\n",
       "<style scoped>\n",
       "    .dataframe tbody tr th:only-of-type {\n",
       "        vertical-align: middle;\n",
       "    }\n",
       "\n",
       "    .dataframe tbody tr th {\n",
       "        vertical-align: top;\n",
       "    }\n",
       "\n",
       "    .dataframe thead th {\n",
       "        text-align: right;\n",
       "    }\n",
       "</style>\n",
       "<table border=\"1\" class=\"dataframe\">\n",
       "  <thead>\n",
       "    <tr style=\"text-align: right;\">\n",
       "      <th></th>\n",
       "      <th>node1</th>\n",
       "      <th>label</th>\n",
       "      <th>node2</th>\n",
       "      <th>node1;label</th>\n",
       "      <th>label;label</th>\n",
       "    </tr>\n",
       "  </thead>\n",
       "  <tbody>\n",
       "    <tr>\n",
       "      <th>0</th>\n",
       "      <td>Q100948</td>\n",
       "      <td>P569</td>\n",
       "      <td>^1907-01-01T00:00:00Z/9</td>\n",
       "      <td>'Rachel Carson'@en</td>\n",
       "      <td>'date of birth'@en</td>\n",
       "    </tr>\n",
       "    <tr>\n",
       "      <th>1</th>\n",
       "      <td>Q101771</td>\n",
       "      <td>P569</td>\n",
       "      <td>^1929-01-01T00:00:00Z/9</td>\n",
       "      <td>'Gottfried Gruben'@en</td>\n",
       "      <td>'date of birth'@en</td>\n",
       "    </tr>\n",
       "    <tr>\n",
       "      <th>2</th>\n",
       "      <td>Q101791</td>\n",
       "      <td>P569</td>\n",
       "      <td>^1908-01-01T00:00:00Z/9</td>\n",
       "      <td>'Sep Ruf'@en</td>\n",
       "      <td>'date of birth'@en</td>\n",
       "    </tr>\n",
       "    <tr>\n",
       "      <th>3</th>\n",
       "      <td>Q102139</td>\n",
       "      <td>P569</td>\n",
       "      <td>^1940-01-01T00:00:00Z/9</td>\n",
       "      <td>'Margrethe II of Denmark'@en</td>\n",
       "      <td>'date of birth'@en</td>\n",
       "    </tr>\n",
       "    <tr>\n",
       "      <th>4</th>\n",
       "      <td>Q1024362</td>\n",
       "      <td>P569</td>\n",
       "      <td>^1800-01-01T00:00:00Z/9</td>\n",
       "      <td>'Spanish National Research Council'@en</td>\n",
       "      <td>'date of birth'@en</td>\n",
       "    </tr>\n",
       "    <tr>\n",
       "      <th>5</th>\n",
       "      <td>Q1024426</td>\n",
       "      <td>P569</td>\n",
       "      <td>^1850-01-01T00:00:00Z/9</td>\n",
       "      <td>'University of South Carolina'@en</td>\n",
       "      <td>'date of birth'@en</td>\n",
       "    </tr>\n",
       "    <tr>\n",
       "      <th>6</th>\n",
       "      <td>Q102711</td>\n",
       "      <td>P569</td>\n",
       "      <td>^1936-01-01T00:00:00Z/9</td>\n",
       "      <td>'Dennis Hopper'@en</td>\n",
       "      <td>'date of birth'@en</td>\n",
       "    </tr>\n",
       "    <tr>\n",
       "      <th>7</th>\n",
       "      <td>Q10288082</td>\n",
       "      <td>P569</td>\n",
       "      <td>^1875-01-01T00:00:00Z/9</td>\n",
       "      <td>'Wildenstein &amp; Company'@en</td>\n",
       "      <td>'date of birth'@en</td>\n",
       "    </tr>\n",
       "    <tr>\n",
       "      <th>8</th>\n",
       "      <td>Q103876</td>\n",
       "      <td>P569</td>\n",
       "      <td>^1932-01-01T00:00:00Z/9</td>\n",
       "      <td>'Peter O\\'Toole'@en</td>\n",
       "      <td>'date of birth'@en</td>\n",
       "    </tr>\n",
       "    <tr>\n",
       "      <th>9</th>\n",
       "      <td>Q1065</td>\n",
       "      <td>P569</td>\n",
       "      <td>^1945-01-01T00:00:00Z/9</td>\n",
       "      <td>'United Nations'@en</td>\n",
       "      <td>'date of birth'@en</td>\n",
       "    </tr>\n",
       "  </tbody>\n",
       "</table>\n",
       "</div>"
      ],
      "text/plain": [
       "       node1 label                    node2  \\\n",
       "0    Q100948  P569  ^1907-01-01T00:00:00Z/9   \n",
       "1    Q101771  P569  ^1929-01-01T00:00:00Z/9   \n",
       "2    Q101791  P569  ^1908-01-01T00:00:00Z/9   \n",
       "3    Q102139  P569  ^1940-01-01T00:00:00Z/9   \n",
       "4   Q1024362  P569  ^1800-01-01T00:00:00Z/9   \n",
       "5   Q1024426  P569  ^1850-01-01T00:00:00Z/9   \n",
       "6    Q102711  P569  ^1936-01-01T00:00:00Z/9   \n",
       "7  Q10288082  P569  ^1875-01-01T00:00:00Z/9   \n",
       "8    Q103876  P569  ^1932-01-01T00:00:00Z/9   \n",
       "9      Q1065  P569  ^1945-01-01T00:00:00Z/9   \n",
       "\n",
       "                              node1;label         label;label  \n",
       "0                      'Rachel Carson'@en  'date of birth'@en  \n",
       "1                   'Gottfried Gruben'@en  'date of birth'@en  \n",
       "2                            'Sep Ruf'@en  'date of birth'@en  \n",
       "3            'Margrethe II of Denmark'@en  'date of birth'@en  \n",
       "4  'Spanish National Research Council'@en  'date of birth'@en  \n",
       "5       'University of South Carolina'@en  'date of birth'@en  \n",
       "6                      'Dennis Hopper'@en  'date of birth'@en  \n",
       "7              'Wildenstein & Company'@en  'date of birth'@en  \n",
       "8                     'Peter O\\'Toole'@en  'date of birth'@en  \n",
       "9                     'United Nations'@en  'date of birth'@en  "
      ]
     },
     "execution_count": 19,
     "metadata": {},
     "output_type": "execute_result"
    }
   ],
   "source": [
    "%%time\n",
    "kgtk(\"\"\"\n",
    "    query -i $SAMPLES $ULAN_FULL\n",
    "        --match 's: (ulanid)-[]->(qnode), \n",
    "                 f: (ulanid)-[p0]->(ulanagent), \n",
    "                 f: (ulanagent)-[p1]->()-[p2]->()-[p3]->(datevalue)' \n",
    "        --where 'p0.label = \"foaf:focus\" AND p1.label = \"gvp:biographyPreferred\" AND p2.label = \"gvp:estStart\" AND p3.label = \"gvp:structured_value\"' \n",
    "        --return 'distinct qnode as node1, \"P569\" as label, printf(\"^%s-01-01T00:00:00Z/9\", kgtk_unstringify(datevalue)) as node2' \n",
    "        --limit 10\n",
    "    / add-labels\n",
    "    \"\"\")"
   ]
  },
  {
   "cell_type": "code",
   "execution_count": 20,
   "id": "265a5ca7",
   "metadata": {},
   "outputs": [
    {
     "name": "stdout",
     "output_type": "stream",
     "text": [
      "CPU times: user 4.43 ms, sys: 12 ms, total: 16.4 ms\n",
      "Wall time: 2 s\n"
     ]
    }
   ],
   "source": [
    "%%time\n",
    "kgtk(\"\"\"\n",
    "    query -i $SAMPLES $ULAN_FULL\n",
    "        --match 's: (ulanid)-[]->(qnode), \n",
    "                 f: (ulanid)-[p0]->(ulanagent), \n",
    "                 f: (ulanagent)-[p1]->()-[p2]->()-[p3]->(datevalue)' \n",
    "        --where 'p0.label = \"foaf:focus\" AND p1.label = \"gvp:biographyPreferred\" AND p2.label = \"gvp:estStart\" AND p3.label = \"gvp:structured_value\"' \n",
    "        --return 'distinct qnode as node1, \"P569\" as label, printf(\"^%s-01-01T00:00:00Z/9\", kgtk_unstringify(datevalue)) as node2' \n",
    "        -o $BIRTHYEAR\n",
    "    \"\"\")"
   ]
  },
  {
   "cell_type": "markdown",
   "id": "1e247a96",
   "metadata": {},
   "source": [
    "Perform validation for results in Getty:"
   ]
  },
  {
   "cell_type": "code",
   "execution_count": 21,
   "id": "2297fa66",
   "metadata": {},
   "outputs": [
    {
     "name": "stdout",
     "output_type": "stream",
     "text": [
      "\r\n",
      "====================================================\r\n",
      "Data lines read: 432\r\n",
      "Data lines passed: 432\r\n"
     ]
    }
   ],
   "source": [
    "!kgtk validate -i $BIRTHYEAR --ignore-minimum-year"
   ]
  },
  {
   "cell_type": "markdown",
   "id": "ba953da9",
   "metadata": {},
   "source": [
    "Count the results:"
   ]
  },
  {
   "cell_type": "code",
   "execution_count": 22,
   "id": "7199e4a8",
   "metadata": {},
   "outputs": [
    {
     "data": {
      "text/html": [
       "<div>\n",
       "<style scoped>\n",
       "    .dataframe tbody tr th:only-of-type {\n",
       "        vertical-align: middle;\n",
       "    }\n",
       "\n",
       "    .dataframe tbody tr th {\n",
       "        vertical-align: top;\n",
       "    }\n",
       "\n",
       "    .dataframe thead th {\n",
       "        text-align: right;\n",
       "    }\n",
       "</style>\n",
       "<table border=\"1\" class=\"dataframe\">\n",
       "  <thead>\n",
       "    <tr style=\"text-align: right;\">\n",
       "      <th></th>\n",
       "      <th>count(DISTINCT graph_596_c1.\"node1\")</th>\n",
       "    </tr>\n",
       "  </thead>\n",
       "  <tbody>\n",
       "    <tr>\n",
       "      <th>0</th>\n",
       "      <td>430</td>\n",
       "    </tr>\n",
       "  </tbody>\n",
       "</table>\n",
       "</div>"
      ],
      "text/plain": [
       "   count(DISTINCT graph_596_c1.\"node1\")\n",
       "0                                   430"
      ]
     },
     "execution_count": 22,
     "metadata": {},
     "output_type": "execute_result"
    }
   ],
   "source": [
    "kgtk(\"\"\"\n",
    "    query -i $BIRTHYEAR \n",
    "        --match '(qnode)-[]->()' \n",
    "        --return 'count(distinct qnode)'\n",
    "    \"\"\")"
   ]
  },
  {
   "cell_type": "markdown",
   "id": "c6b9ea99",
   "metadata": {},
   "source": [
    "Here we count for how many new date of birth we found in Getty:"
   ]
  },
  {
   "cell_type": "code",
   "execution_count": 23,
   "id": "93b9ba52",
   "metadata": {},
   "outputs": [
    {
     "name": "stdout",
     "output_type": "stream",
     "text": [
      "CPU times: user 5.21 ms, sys: 11.5 ms, total: 16.7 ms\n",
      "Wall time: 2.16 s\n"
     ]
    }
   ],
   "source": [
    "%%time\n",
    "kgtk(\"\"\"\n",
    "    ifnotexists -i $BIRTHYEAR \n",
    "        --filter-on $WIKI_BIRTHDATE \n",
    "        --input-keys node1 \n",
    "        --filter-keys node1 \n",
    "        -o $NEW_BIRTHYEAR\n",
    "    \"\"\")"
   ]
  },
  {
   "cell_type": "code",
   "execution_count": 24,
   "id": "f624e3fe",
   "metadata": {
    "scrolled": true
   },
   "outputs": [
    {
     "data": {
      "text/html": [
       "<div>\n",
       "<style scoped>\n",
       "    .dataframe tbody tr th:only-of-type {\n",
       "        vertical-align: middle;\n",
       "    }\n",
       "\n",
       "    .dataframe tbody tr th {\n",
       "        vertical-align: top;\n",
       "    }\n",
       "\n",
       "    .dataframe thead th {\n",
       "        text-align: right;\n",
       "    }\n",
       "</style>\n",
       "<table border=\"1\" class=\"dataframe\">\n",
       "  <thead>\n",
       "    <tr style=\"text-align: right;\">\n",
       "      <th></th>\n",
       "      <th>count(DISTINCT graph_610_c1.\"node1\")</th>\n",
       "    </tr>\n",
       "  </thead>\n",
       "  <tbody>\n",
       "    <tr>\n",
       "      <th>0</th>\n",
       "      <td>191</td>\n",
       "    </tr>\n",
       "  </tbody>\n",
       "</table>\n",
       "</div>"
      ],
      "text/plain": [
       "   count(DISTINCT graph_610_c1.\"node1\")\n",
       "0                                   191"
      ]
     },
     "execution_count": 24,
     "metadata": {},
     "output_type": "execute_result"
    }
   ],
   "source": [
    "kgtk(\"\"\"\n",
    "    query -i $NEW_BIRTHYEAR \n",
    "        --match '(qnode)-[]->()' \n",
    "        --return 'count(distinct qnode)'\n",
    "    \"\"\")"
   ]
  },
  {
   "cell_type": "markdown",
   "id": "38902371",
   "metadata": {},
   "source": [
    "**There are 191 newly found dates of birth in Getty!**"
   ]
  },
  {
   "cell_type": "markdown",
   "id": "771e3669",
   "metadata": {},
   "source": [
    "Check if the founded results are matched with those in Wikidata:"
   ]
  },
  {
   "cell_type": "code",
   "execution_count": 25,
   "id": "0c413e48",
   "metadata": {},
   "outputs": [
    {
     "name": "stdout",
     "output_type": "stream",
     "text": [
      "CPU times: user 3.95 ms, sys: 13.1 ms, total: 17 ms\n",
      "Wall time: 2.11 s\n"
     ]
    }
   ],
   "source": [
    "%%time\n",
    "kgtk(\"\"\"\n",
    "    ifexists -i $BIRTHYEAR \n",
    "        --filter-on $WIKI_BIRTHDATE \n",
    "        --input-keys node1 \n",
    "        --filter-keys node1 \n",
    "        -o $MATCH_BIRTHYEAR\n",
    "    \"\"\")"
   ]
  },
  {
   "cell_type": "code",
   "execution_count": 26,
   "id": "3194a6af",
   "metadata": {},
   "outputs": [
    {
     "data": {
      "text/html": [
       "<div>\n",
       "<style scoped>\n",
       "    .dataframe tbody tr th:only-of-type {\n",
       "        vertical-align: middle;\n",
       "    }\n",
       "\n",
       "    .dataframe tbody tr th {\n",
       "        vertical-align: top;\n",
       "    }\n",
       "\n",
       "    .dataframe thead th {\n",
       "        text-align: right;\n",
       "    }\n",
       "</style>\n",
       "<table border=\"1\" class=\"dataframe\">\n",
       "  <thead>\n",
       "    <tr style=\"text-align: right;\">\n",
       "      <th></th>\n",
       "      <th>count(DISTINCT graph_618_c1.\"node1\")</th>\n",
       "    </tr>\n",
       "  </thead>\n",
       "  <tbody>\n",
       "    <tr>\n",
       "      <th>0</th>\n",
       "      <td>239</td>\n",
       "    </tr>\n",
       "  </tbody>\n",
       "</table>\n",
       "</div>"
      ],
      "text/plain": [
       "   count(DISTINCT graph_618_c1.\"node1\")\n",
       "0                                   239"
      ]
     },
     "execution_count": 26,
     "metadata": {},
     "output_type": "execute_result"
    }
   ],
   "source": [
    "kgtk(\"\"\"\n",
    "    query -i $MATCH_BIRTHYEAR \n",
    "        --match '(qnode)-[]->()' \n",
    "        --return 'count(distinct qnode)'\n",
    "    \"\"\")"
   ]
  },
  {
   "cell_type": "code",
   "execution_count": 27,
   "id": "7d3574ad",
   "metadata": {},
   "outputs": [
    {
     "data": {
      "text/html": [
       "<div>\n",
       "<style scoped>\n",
       "    .dataframe tbody tr th:only-of-type {\n",
       "        vertical-align: middle;\n",
       "    }\n",
       "\n",
       "    .dataframe tbody tr th {\n",
       "        vertical-align: top;\n",
       "    }\n",
       "\n",
       "    .dataframe thead th {\n",
       "        text-align: right;\n",
       "    }\n",
       "</style>\n",
       "<table border=\"1\" class=\"dataframe\">\n",
       "  <thead>\n",
       "    <tr style=\"text-align: right;\">\n",
       "      <th></th>\n",
       "      <th>count(DISTINCT graph_596_c1.\"node1\")</th>\n",
       "    </tr>\n",
       "  </thead>\n",
       "  <tbody>\n",
       "    <tr>\n",
       "      <th>0</th>\n",
       "      <td>224</td>\n",
       "    </tr>\n",
       "  </tbody>\n",
       "</table>\n",
       "</div>"
      ],
      "text/plain": [
       "   count(DISTINCT graph_596_c1.\"node1\")\n",
       "0                                   224"
      ]
     },
     "execution_count": 27,
     "metadata": {},
     "output_type": "execute_result"
    }
   ],
   "source": [
    "kgtk(\"\"\"\n",
    "    query -i $BIRTHYEAR $WIKI_BIRTHDATE \n",
    "        --match 'b: (qnode)-[p]->(v1), w: (qnode)-[]->(v2)' \n",
    "        --where 'kgtk_date_year(v1) = kgtk_date_year(v2)' \n",
    "        --return 'count(distinct qnode)'\n",
    "    \"\"\")"
   ]
  },
  {
   "cell_type": "markdown",
   "id": "487ed9da",
   "metadata": {},
   "source": [
    "224 of the 239 ULAN ids have the matched dates of birth in Wikidata and Getty."
   ]
  },
  {
   "cell_type": "markdown",
   "id": "b87b5230",
   "metadata": {},
   "source": [
    "### 2: Date of death\n",
    "There are some value of date of death later than current time, we need to filter those items out."
   ]
  },
  {
   "cell_type": "code",
   "execution_count": 28,
   "id": "c433864b",
   "metadata": {},
   "outputs": [
    {
     "name": "stdout",
     "output_type": "stream",
     "text": [
      "CPU times: user 12.2 ms, sys: 12.4 ms, total: 24.6 ms\n",
      "Wall time: 4.63 s\n"
     ]
    },
    {
     "data": {
      "text/html": [
       "<div>\n",
       "<style scoped>\n",
       "    .dataframe tbody tr th:only-of-type {\n",
       "        vertical-align: middle;\n",
       "    }\n",
       "\n",
       "    .dataframe tbody tr th {\n",
       "        vertical-align: top;\n",
       "    }\n",
       "\n",
       "    .dataframe thead th {\n",
       "        text-align: right;\n",
       "    }\n",
       "</style>\n",
       "<table border=\"1\" class=\"dataframe\">\n",
       "  <thead>\n",
       "    <tr style=\"text-align: right;\">\n",
       "      <th></th>\n",
       "      <th>node1</th>\n",
       "      <th>label</th>\n",
       "      <th>node2</th>\n",
       "      <th>node1;label</th>\n",
       "      <th>label;label</th>\n",
       "    </tr>\n",
       "  </thead>\n",
       "  <tbody>\n",
       "    <tr>\n",
       "      <th>0</th>\n",
       "      <td>Q100948</td>\n",
       "      <td>P570</td>\n",
       "      <td>^1964-01-01T00:00:00Z/9</td>\n",
       "      <td>'Rachel Carson'@en</td>\n",
       "      <td>'date of death'@en</td>\n",
       "    </tr>\n",
       "    <tr>\n",
       "      <th>1</th>\n",
       "      <td>Q101771</td>\n",
       "      <td>P570</td>\n",
       "      <td>^2003-01-01T00:00:00Z/9</td>\n",
       "      <td>'Gottfried Gruben'@en</td>\n",
       "      <td>'date of death'@en</td>\n",
       "    </tr>\n",
       "    <tr>\n",
       "      <th>2</th>\n",
       "      <td>Q101791</td>\n",
       "      <td>P570</td>\n",
       "      <td>^1982-01-01T00:00:00Z/9</td>\n",
       "      <td>'Sep Ruf'@en</td>\n",
       "      <td>'date of death'@en</td>\n",
       "    </tr>\n",
       "    <tr>\n",
       "      <th>3</th>\n",
       "      <td>Q1066442</td>\n",
       "      <td>P570</td>\n",
       "      <td>^1993-01-01T00:00:00Z/9</td>\n",
       "      <td>'Charles Moore'@en</td>\n",
       "      <td>'date of death'@en</td>\n",
       "    </tr>\n",
       "    <tr>\n",
       "      <th>4</th>\n",
       "      <td>Q1132047</td>\n",
       "      <td>P570</td>\n",
       "      <td>^1854-01-01T00:00:00Z/9</td>\n",
       "      <td>'William Strickland'@en</td>\n",
       "      <td>'date of death'@en</td>\n",
       "    </tr>\n",
       "    <tr>\n",
       "      <th>5</th>\n",
       "      <td>Q11613</td>\n",
       "      <td>P570</td>\n",
       "      <td>^1972-01-01T00:00:00Z/9</td>\n",
       "      <td>'Harry S. Truman'@en</td>\n",
       "      <td>'date of death'@en</td>\n",
       "    </tr>\n",
       "    <tr>\n",
       "      <th>6</th>\n",
       "      <td>Q11806</td>\n",
       "      <td>P570</td>\n",
       "      <td>^1826-01-01T00:00:00Z/9</td>\n",
       "      <td>'John Adams'@en</td>\n",
       "      <td>'date of death'@en</td>\n",
       "    </tr>\n",
       "    <tr>\n",
       "      <th>7</th>\n",
       "      <td>Q11812</td>\n",
       "      <td>P570</td>\n",
       "      <td>^1826-01-01T00:00:00Z/9</td>\n",
       "      <td>'Thomas Jefferson'@en</td>\n",
       "      <td>'date of death'@en</td>\n",
       "    </tr>\n",
       "    <tr>\n",
       "      <th>8</th>\n",
       "      <td>Q11816</td>\n",
       "      <td>P570</td>\n",
       "      <td>^1848-01-01T00:00:00Z/9</td>\n",
       "      <td>'John Quincy Adams'@en</td>\n",
       "      <td>'date of death'@en</td>\n",
       "    </tr>\n",
       "    <tr>\n",
       "      <th>9</th>\n",
       "      <td>Q11817</td>\n",
       "      <td>P570</td>\n",
       "      <td>^1845-01-01T00:00:00Z/9</td>\n",
       "      <td>'Andrew Jackson'@en</td>\n",
       "      <td>'date of death'@en</td>\n",
       "    </tr>\n",
       "  </tbody>\n",
       "</table>\n",
       "</div>"
      ],
      "text/plain": [
       "      node1 label                    node2              node1;label  \\\n",
       "0   Q100948  P570  ^1964-01-01T00:00:00Z/9       'Rachel Carson'@en   \n",
       "1   Q101771  P570  ^2003-01-01T00:00:00Z/9    'Gottfried Gruben'@en   \n",
       "2   Q101791  P570  ^1982-01-01T00:00:00Z/9             'Sep Ruf'@en   \n",
       "3  Q1066442  P570  ^1993-01-01T00:00:00Z/9       'Charles Moore'@en   \n",
       "4  Q1132047  P570  ^1854-01-01T00:00:00Z/9  'William Strickland'@en   \n",
       "5    Q11613  P570  ^1972-01-01T00:00:00Z/9     'Harry S. Truman'@en   \n",
       "6    Q11806  P570  ^1826-01-01T00:00:00Z/9          'John Adams'@en   \n",
       "7    Q11812  P570  ^1826-01-01T00:00:00Z/9    'Thomas Jefferson'@en   \n",
       "8    Q11816  P570  ^1848-01-01T00:00:00Z/9   'John Quincy Adams'@en   \n",
       "9    Q11817  P570  ^1845-01-01T00:00:00Z/9      'Andrew Jackson'@en   \n",
       "\n",
       "          label;label  \n",
       "0  'date of death'@en  \n",
       "1  'date of death'@en  \n",
       "2  'date of death'@en  \n",
       "3  'date of death'@en  \n",
       "4  'date of death'@en  \n",
       "5  'date of death'@en  \n",
       "6  'date of death'@en  \n",
       "7  'date of death'@en  \n",
       "8  'date of death'@en  \n",
       "9  'date of death'@en  "
      ]
     },
     "execution_count": 28,
     "metadata": {},
     "output_type": "execute_result"
    }
   ],
   "source": [
    "%%time\n",
    "kgtk(\"\"\"\n",
    "    query -i $SAMPLES $ULAN_FULL \n",
    "        --match 's: (ulanid)-[]->(qnode), \n",
    "                 f: (ulanid)-[p0]->(ulanagent), \n",
    "                 f: (ulanagent)-[p1]->()-[p2]->()-[p3]->(datevalue)' \n",
    "        --where 'p0.label = \"foaf:focus\" AND p1.label = \"gvp:biographyPreferred\" AND p2.label = \"gvp:estEnd\" AND p3.label = \"gvp:structured_value\" AND cast(kgtk_unstringify(datevalue), int) <= 2021' \n",
    "        --return 'distinct qnode as node1, \"P570\" as label, printf(\"^%s-01-01T00:00:00Z/9\", kgtk_unstringify(datevalue)) as node2' \n",
    "        --limit 10\n",
    "    / add-labels\n",
    "    \"\"\")"
   ]
  },
  {
   "cell_type": "code",
   "execution_count": 29,
   "id": "9f9c5d21",
   "metadata": {},
   "outputs": [
    {
     "name": "stdout",
     "output_type": "stream",
     "text": [
      "CPU times: user 5.59 ms, sys: 9.21 ms, total: 14.8 ms\n",
      "Wall time: 2.37 s\n"
     ]
    }
   ],
   "source": [
    "%%time\n",
    "kgtk(\"\"\"\n",
    "    query -i $SAMPLES $ULAN_FULL \n",
    "        --match 's: (ulanid)-[]->(qnode), \n",
    "                 f: (ulanid)-[p0]->(ulanagent), \n",
    "                 f: (ulanagent)-[p1]->()-[p2]->()-[p3]->(datevalue)' \n",
    "        --where 'p0.label = \"foaf:focus\" AND p1.label = \"gvp:biographyPreferred\" AND p2.label = \"gvp:estEnd\" AND p3.label = \"gvp:structured_value\" AND cast(kgtk_unstringify(datevalue), int) <= 2021' \n",
    "        --return 'distinct qnode as node1, \"P570\" as label, printf(\"^%s-01-01T00:00:00Z/9\", kgtk_unstringify(datevalue)) as node2' \n",
    "        -o $DEATHYEAR\n",
    "    \"\"\")"
   ]
  },
  {
   "cell_type": "markdown",
   "id": "2e8263b4",
   "metadata": {},
   "source": [
    "Perform validation:"
   ]
  },
  {
   "cell_type": "code",
   "execution_count": 30,
   "id": "ba5f450b",
   "metadata": {},
   "outputs": [
    {
     "name": "stdout",
     "output_type": "stream",
     "text": [
      "\r\n",
      "====================================================\r\n",
      "Data lines read: 193\r\n",
      "Data lines passed: 193\r\n"
     ]
    }
   ],
   "source": [
    "!kgtk validate -i $DEATHYEAR --ignore-minimum-year"
   ]
  },
  {
   "cell_type": "markdown",
   "id": "7d8256e5",
   "metadata": {},
   "source": [
    "Count:"
   ]
  },
  {
   "cell_type": "code",
   "execution_count": 31,
   "id": "ca43fc52",
   "metadata": {},
   "outputs": [
    {
     "data": {
      "text/html": [
       "<div>\n",
       "<style scoped>\n",
       "    .dataframe tbody tr th:only-of-type {\n",
       "        vertical-align: middle;\n",
       "    }\n",
       "\n",
       "    .dataframe tbody tr th {\n",
       "        vertical-align: top;\n",
       "    }\n",
       "\n",
       "    .dataframe thead th {\n",
       "        text-align: right;\n",
       "    }\n",
       "</style>\n",
       "<table border=\"1\" class=\"dataframe\">\n",
       "  <thead>\n",
       "    <tr style=\"text-align: right;\">\n",
       "      <th></th>\n",
       "      <th>count(DISTINCT graph_597_c1.\"node1\")</th>\n",
       "    </tr>\n",
       "  </thead>\n",
       "  <tbody>\n",
       "    <tr>\n",
       "      <th>0</th>\n",
       "      <td>193</td>\n",
       "    </tr>\n",
       "  </tbody>\n",
       "</table>\n",
       "</div>"
      ],
      "text/plain": [
       "   count(DISTINCT graph_597_c1.\"node1\")\n",
       "0                                   193"
      ]
     },
     "execution_count": 31,
     "metadata": {},
     "output_type": "execute_result"
    }
   ],
   "source": [
    "kgtk(\"\"\"\n",
    "    query -i $DEATHYEAR \n",
    "        --match '(qnode)-[]->()' \n",
    "        --return 'count(distinct qnode)'\n",
    "    \"\"\")"
   ]
  },
  {
   "cell_type": "markdown",
   "id": "eeecea87",
   "metadata": {},
   "source": [
    "Here we count for how many new date of death we found in Getty:"
   ]
  },
  {
   "cell_type": "code",
   "execution_count": 32,
   "id": "1fdf1f7e",
   "metadata": {
    "scrolled": true
   },
   "outputs": [
    {
     "name": "stdout",
     "output_type": "stream",
     "text": [
      "CPU times: user 7.61 ms, sys: 10.2 ms, total: 17.8 ms\n",
      "Wall time: 2.45 s\n"
     ]
    }
   ],
   "source": [
    "%%time\n",
    "kgtk(\"\"\" \n",
    "    ifnotexists -i $DEATHYEAR \n",
    "        --filter-on $WIKI_DEATHDATE \n",
    "        --input-keys node1 \n",
    "        --filter-keys node1 \n",
    "        -o $NEW_DEATHYEAR\n",
    "    \"\"\")"
   ]
  },
  {
   "cell_type": "code",
   "execution_count": 33,
   "id": "c43aa330",
   "metadata": {},
   "outputs": [
    {
     "data": {
      "text/html": [
       "<div>\n",
       "<style scoped>\n",
       "    .dataframe tbody tr th:only-of-type {\n",
       "        vertical-align: middle;\n",
       "    }\n",
       "\n",
       "    .dataframe tbody tr th {\n",
       "        vertical-align: top;\n",
       "    }\n",
       "\n",
       "    .dataframe thead th {\n",
       "        text-align: right;\n",
       "    }\n",
       "</style>\n",
       "<table border=\"1\" class=\"dataframe\">\n",
       "  <thead>\n",
       "    <tr style=\"text-align: right;\">\n",
       "      <th></th>\n",
       "      <th>count(DISTINCT graph_611_c1.\"node1\")</th>\n",
       "    </tr>\n",
       "  </thead>\n",
       "  <tbody>\n",
       "    <tr>\n",
       "      <th>0</th>\n",
       "      <td>10</td>\n",
       "    </tr>\n",
       "  </tbody>\n",
       "</table>\n",
       "</div>"
      ],
      "text/plain": [
       "   count(DISTINCT graph_611_c1.\"node1\")\n",
       "0                                    10"
      ]
     },
     "execution_count": 33,
     "metadata": {},
     "output_type": "execute_result"
    }
   ],
   "source": [
    "kgtk(\"\"\"\n",
    "    query -i $NEW_DEATHYEAR \n",
    "        --match '(qnode)-[]->()' \n",
    "        --return 'count(distinct qnode)'\n",
    "    \"\"\")"
   ]
  },
  {
   "cell_type": "markdown",
   "id": "f9c0dbe8",
   "metadata": {},
   "source": [
    "**There are 10 newly found dates of death in Getty!**"
   ]
  },
  {
   "cell_type": "markdown",
   "id": "516debb1",
   "metadata": {},
   "source": [
    "Check if the founded results are matched:"
   ]
  },
  {
   "cell_type": "code",
   "execution_count": 34,
   "id": "ddfbe818",
   "metadata": {},
   "outputs": [],
   "source": [
    "kgtk(\"\"\" \n",
    "    ifexists -i $DEATHYEAR \n",
    "        --filter-on $WIKI_DEATHDATE \n",
    "        --input-keys node1 \n",
    "        --filter-keys node1 \n",
    "        -o $MATCH_DEATHYEAR\n",
    "    \"\"\")"
   ]
  },
  {
   "cell_type": "code",
   "execution_count": 35,
   "id": "bc6ccab1",
   "metadata": {},
   "outputs": [
    {
     "data": {
      "text/html": [
       "<div>\n",
       "<style scoped>\n",
       "    .dataframe tbody tr th:only-of-type {\n",
       "        vertical-align: middle;\n",
       "    }\n",
       "\n",
       "    .dataframe tbody tr th {\n",
       "        vertical-align: top;\n",
       "    }\n",
       "\n",
       "    .dataframe thead th {\n",
       "        text-align: right;\n",
       "    }\n",
       "</style>\n",
       "<table border=\"1\" class=\"dataframe\">\n",
       "  <thead>\n",
       "    <tr style=\"text-align: right;\">\n",
       "      <th></th>\n",
       "      <th>count(DISTINCT graph_619_c1.\"node1\")</th>\n",
       "    </tr>\n",
       "  </thead>\n",
       "  <tbody>\n",
       "    <tr>\n",
       "      <th>0</th>\n",
       "      <td>183</td>\n",
       "    </tr>\n",
       "  </tbody>\n",
       "</table>\n",
       "</div>"
      ],
      "text/plain": [
       "   count(DISTINCT graph_619_c1.\"node1\")\n",
       "0                                   183"
      ]
     },
     "execution_count": 35,
     "metadata": {},
     "output_type": "execute_result"
    }
   ],
   "source": [
    "kgtk(\"\"\"\n",
    "    query -i $MATCH_DEATHYEAR \n",
    "        --match '(qnode)-[]->()' \n",
    "        --return 'count(distinct qnode)'\n",
    "    \"\"\")"
   ]
  },
  {
   "cell_type": "code",
   "execution_count": 36,
   "id": "56c05acc",
   "metadata": {},
   "outputs": [
    {
     "data": {
      "text/html": [
       "<div>\n",
       "<style scoped>\n",
       "    .dataframe tbody tr th:only-of-type {\n",
       "        vertical-align: middle;\n",
       "    }\n",
       "\n",
       "    .dataframe tbody tr th {\n",
       "        vertical-align: top;\n",
       "    }\n",
       "\n",
       "    .dataframe thead th {\n",
       "        text-align: right;\n",
       "    }\n",
       "</style>\n",
       "<table border=\"1\" class=\"dataframe\">\n",
       "  <thead>\n",
       "    <tr style=\"text-align: right;\">\n",
       "      <th></th>\n",
       "      <th>count(DISTINCT graph_597_c1.\"node1\")</th>\n",
       "    </tr>\n",
       "  </thead>\n",
       "  <tbody>\n",
       "    <tr>\n",
       "      <th>0</th>\n",
       "      <td>176</td>\n",
       "    </tr>\n",
       "  </tbody>\n",
       "</table>\n",
       "</div>"
      ],
      "text/plain": [
       "   count(DISTINCT graph_597_c1.\"node1\")\n",
       "0                                   176"
      ]
     },
     "execution_count": 36,
     "metadata": {},
     "output_type": "execute_result"
    }
   ],
   "source": [
    "kgtk(\"\"\"\n",
    "    query -i $DEATHYEAR $WIKI_DEATHDATE \n",
    "        --match 'd: (qnode)-[p]->(v1), w: (qnode)-[]->(v2)' \n",
    "        --where 'kgtk_date_year(v1) = kgtk_date_year(v2)' \n",
    "        --return 'count(distinct qnode)'\n",
    "    \"\"\")"
   ]
  },
  {
   "cell_type": "markdown",
   "id": "b1978178",
   "metadata": {},
   "source": [
    "176 of the 183 ULAN ids have the matched dates of death in Wikidata and Getty."
   ]
  },
  {
   "cell_type": "markdown",
   "id": "fbe0c7f1",
   "metadata": {},
   "source": [
    "### 3: Place of birth"
   ]
  },
  {
   "cell_type": "code",
   "execution_count": 37,
   "id": "67c7bc4f",
   "metadata": {},
   "outputs": [
    {
     "name": "stdout",
     "output_type": "stream",
     "text": [
      "CPU times: user 14.4 ms, sys: 11.5 ms, total: 25.8 ms\n",
      "Wall time: 4.77 s\n"
     ]
    },
    {
     "data": {
      "text/html": [
       "<div>\n",
       "<style scoped>\n",
       "    .dataframe tbody tr th:only-of-type {\n",
       "        vertical-align: middle;\n",
       "    }\n",
       "\n",
       "    .dataframe tbody tr th {\n",
       "        vertical-align: top;\n",
       "    }\n",
       "\n",
       "    .dataframe thead th {\n",
       "        text-align: right;\n",
       "    }\n",
       "</style>\n",
       "<table border=\"1\" class=\"dataframe\">\n",
       "  <thead>\n",
       "    <tr style=\"text-align: right;\">\n",
       "      <th></th>\n",
       "      <th>node1</th>\n",
       "      <th>label</th>\n",
       "      <th>node2</th>\n",
       "      <th>node1;label</th>\n",
       "      <th>label;label</th>\n",
       "      <th>node2;label</th>\n",
       "    </tr>\n",
       "  </thead>\n",
       "  <tbody>\n",
       "    <tr>\n",
       "      <th>0</th>\n",
       "      <td>Q101791</td>\n",
       "      <td>P19</td>\n",
       "      <td>Q1726</td>\n",
       "      <td>'Sep Ruf'@en</td>\n",
       "      <td>'place of birth'@en</td>\n",
       "      <td>'Munich'@en</td>\n",
       "    </tr>\n",
       "    <tr>\n",
       "      <th>1</th>\n",
       "      <td>Q102139</td>\n",
       "      <td>P19</td>\n",
       "      <td>Q1748</td>\n",
       "      <td>'Margrethe II of Denmark'@en</td>\n",
       "      <td>'place of birth'@en</td>\n",
       "      <td>'Copenhagen'@en</td>\n",
       "    </tr>\n",
       "    <tr>\n",
       "      <th>2</th>\n",
       "      <td>Q122553</td>\n",
       "      <td>P19</td>\n",
       "      <td>Q84</td>\n",
       "      <td>'Charles II of England'@en</td>\n",
       "      <td>'place of birth'@en</td>\n",
       "      <td>'London'@en</td>\n",
       "    </tr>\n",
       "    <tr>\n",
       "      <th>3</th>\n",
       "      <td>Q1273122</td>\n",
       "      <td>P19</td>\n",
       "      <td>Q84</td>\n",
       "      <td>'Sam Taylor-Johnson'@en</td>\n",
       "      <td>'place of birth'@en</td>\n",
       "      <td>'London'@en</td>\n",
       "    </tr>\n",
       "    <tr>\n",
       "      <th>4</th>\n",
       "      <td>Q12976</td>\n",
       "      <td>P19</td>\n",
       "      <td>Q239</td>\n",
       "      <td>'Baudouin I of Belgium'@en</td>\n",
       "      <td>'place of birth'@en</td>\n",
       "      <td>'Brussels'@en</td>\n",
       "    </tr>\n",
       "    <tr>\n",
       "      <th>5</th>\n",
       "      <td>Q1351247</td>\n",
       "      <td>P19</td>\n",
       "      <td>Q60</td>\n",
       "      <td>'Karl Struss'@en</td>\n",
       "      <td>'place of birth'@en</td>\n",
       "      <td>'New York City'@en</td>\n",
       "    </tr>\n",
       "    <tr>\n",
       "      <th>6</th>\n",
       "      <td>Q1370307</td>\n",
       "      <td>P19</td>\n",
       "      <td>Q1297</td>\n",
       "      <td>'Sam Wanamaker'@en</td>\n",
       "      <td>'place of birth'@en</td>\n",
       "      <td>'Chicago'@en</td>\n",
       "    </tr>\n",
       "    <tr>\n",
       "      <th>7</th>\n",
       "      <td>Q1405</td>\n",
       "      <td>P19</td>\n",
       "      <td>Q220</td>\n",
       "      <td>'Augustus'@en</td>\n",
       "      <td>'place of birth'@en</td>\n",
       "      <td>'Rome'@en</td>\n",
       "    </tr>\n",
       "    <tr>\n",
       "      <th>8</th>\n",
       "      <td>Q1430</td>\n",
       "      <td>P19</td>\n",
       "      <td>Q220</td>\n",
       "      <td>'Marcus Aurelius'@en</td>\n",
       "      <td>'place of birth'@en</td>\n",
       "      <td>'Rome'@en</td>\n",
       "    </tr>\n",
       "    <tr>\n",
       "      <th>9</th>\n",
       "      <td>Q150966</td>\n",
       "      <td>P19</td>\n",
       "      <td>Q1735</td>\n",
       "      <td>'Frederick III, Holy Roman Emperor'@en</td>\n",
       "      <td>'place of birth'@en</td>\n",
       "      <td>'Innsbruck'@en</td>\n",
       "    </tr>\n",
       "  </tbody>\n",
       "</table>\n",
       "</div>"
      ],
      "text/plain": [
       "      node1 label  node2                             node1;label  \\\n",
       "0   Q101791   P19  Q1726                            'Sep Ruf'@en   \n",
       "1   Q102139   P19  Q1748            'Margrethe II of Denmark'@en   \n",
       "2   Q122553   P19    Q84              'Charles II of England'@en   \n",
       "3  Q1273122   P19    Q84                 'Sam Taylor-Johnson'@en   \n",
       "4    Q12976   P19   Q239              'Baudouin I of Belgium'@en   \n",
       "5  Q1351247   P19    Q60                        'Karl Struss'@en   \n",
       "6  Q1370307   P19  Q1297                      'Sam Wanamaker'@en   \n",
       "7     Q1405   P19   Q220                           'Augustus'@en   \n",
       "8     Q1430   P19   Q220                    'Marcus Aurelius'@en   \n",
       "9   Q150966   P19  Q1735  'Frederick III, Holy Roman Emperor'@en   \n",
       "\n",
       "           label;label         node2;label  \n",
       "0  'place of birth'@en         'Munich'@en  \n",
       "1  'place of birth'@en     'Copenhagen'@en  \n",
       "2  'place of birth'@en         'London'@en  \n",
       "3  'place of birth'@en         'London'@en  \n",
       "4  'place of birth'@en       'Brussels'@en  \n",
       "5  'place of birth'@en  'New York City'@en  \n",
       "6  'place of birth'@en        'Chicago'@en  \n",
       "7  'place of birth'@en           'Rome'@en  \n",
       "8  'place of birth'@en           'Rome'@en  \n",
       "9  'place of birth'@en      'Innsbruck'@en  "
      ]
     },
     "execution_count": 37,
     "metadata": {},
     "output_type": "execute_result"
    }
   ],
   "source": [
    "%%time\n",
    "kgtk(\"\"\"\n",
    "    query -i $SAMPLES $ULAN_FULL $TGN_ALIGN \n",
    "        --match 's: (ulanid)-[]->(qnode), \n",
    "                 f: (ulanid)-[p0]->(ulanagent), \n",
    "                 f: (ulanagent)-[p1]->(ulanbio)-[p2]->(tgnplace), \n",
    "                 w: (tgnplace)-[]->(tgnqnode)'\n",
    "        --where 'p0.label = \"foaf:focus\" AND p1.label = \"gvp:biographyPreferred\" \n",
    "                 AND p2.label = \"schema:birthPlace\"' \n",
    "        --return 'distinct qnode as node1, \"P19\" as label, tgnqnode as node2' \n",
    "        --limit 10\n",
    "    / add-labels\n",
    "    \"\"\")"
   ]
  },
  {
   "cell_type": "code",
   "execution_count": 38,
   "id": "e63856fa",
   "metadata": {},
   "outputs": [
    {
     "name": "stdout",
     "output_type": "stream",
     "text": [
      "CPU times: user 5.92 ms, sys: 8.81 ms, total: 14.7 ms\n",
      "Wall time: 1.9 s\n"
     ]
    }
   ],
   "source": [
    "%%time\n",
    "kgtk(\"\"\"\n",
    "    query -i $SAMPLES $ULAN_FULL $TGN_ALIGN \n",
    "        --match 's: (ulanid)-[]->(qnode), \n",
    "                 f: (ulanid)-[p0]->(ulanagent), \n",
    "                 f: (ulanagent)-[p1]->(ulanbio)-[p2]->(tgnplace), \n",
    "                 w: (tgnplace)-[]->(tgnqnode)'\n",
    "        --where 'p0.label = \"foaf:focus\" AND p1.label = \"gvp:biographyPreferred\" \n",
    "                 AND p2.label = \"schema:birthPlace\"' \n",
    "        --return 'distinct qnode as node1, \"P19\" as label, tgnqnode as node2' \n",
    "        -o $BIRTHPLACE\n",
    "    \"\"\")"
   ]
  },
  {
   "cell_type": "markdown",
   "id": "da35eaeb",
   "metadata": {},
   "source": [
    "Count:"
   ]
  },
  {
   "cell_type": "code",
   "execution_count": 39,
   "id": "17041ecc",
   "metadata": {},
   "outputs": [
    {
     "data": {
      "text/html": [
       "<div>\n",
       "<style scoped>\n",
       "    .dataframe tbody tr th:only-of-type {\n",
       "        vertical-align: middle;\n",
       "    }\n",
       "\n",
       "    .dataframe tbody tr th {\n",
       "        vertical-align: top;\n",
       "    }\n",
       "\n",
       "    .dataframe thead th {\n",
       "        text-align: right;\n",
       "    }\n",
       "</style>\n",
       "<table border=\"1\" class=\"dataframe\">\n",
       "  <thead>\n",
       "    <tr style=\"text-align: right;\">\n",
       "      <th></th>\n",
       "      <th>count(DISTINCT graph_595_c1.\"node1\")</th>\n",
       "    </tr>\n",
       "  </thead>\n",
       "  <tbody>\n",
       "    <tr>\n",
       "      <th>0</th>\n",
       "      <td>63</td>\n",
       "    </tr>\n",
       "  </tbody>\n",
       "</table>\n",
       "</div>"
      ],
      "text/plain": [
       "   count(DISTINCT graph_595_c1.\"node1\")\n",
       "0                                    63"
      ]
     },
     "execution_count": 39,
     "metadata": {},
     "output_type": "execute_result"
    }
   ],
   "source": [
    "kgtk(\"\"\"\n",
    "    query -i $BIRTHPLACE \n",
    "        --match '(qnode)-[]->()' \n",
    "        --return 'count(distinct qnode)'\n",
    "    \"\"\")"
   ]
  },
  {
   "cell_type": "markdown",
   "id": "58b980ae",
   "metadata": {},
   "source": [
    "Here we count for how many new birthplace we found in Getty:"
   ]
  },
  {
   "cell_type": "code",
   "execution_count": 40,
   "id": "c5b9a527",
   "metadata": {},
   "outputs": [
    {
     "name": "stdout",
     "output_type": "stream",
     "text": [
      "CPU times: user 4.52 ms, sys: 11.1 ms, total: 15.6 ms\n",
      "Wall time: 2.32 s\n"
     ]
    }
   ],
   "source": [
    "%%time\n",
    "kgtk(\"\"\"\n",
    "    ifnotexists -i $BIRTHPLACE \n",
    "        --filter-on $WIKI_BIRTHPLACE \n",
    "        --input-keys node1 \n",
    "        --filter-keys node1 \n",
    "        -o $NEW_BIRTHPLACE\n",
    "    \"\"\")"
   ]
  },
  {
   "cell_type": "code",
   "execution_count": 41,
   "id": "703b68a3",
   "metadata": {},
   "outputs": [
    {
     "data": {
      "text/html": [
       "<div>\n",
       "<style scoped>\n",
       "    .dataframe tbody tr th:only-of-type {\n",
       "        vertical-align: middle;\n",
       "    }\n",
       "\n",
       "    .dataframe tbody tr th {\n",
       "        vertical-align: top;\n",
       "    }\n",
       "\n",
       "    .dataframe thead th {\n",
       "        text-align: right;\n",
       "    }\n",
       "</style>\n",
       "<table border=\"1\" class=\"dataframe\">\n",
       "  <thead>\n",
       "    <tr style=\"text-align: right;\">\n",
       "      <th></th>\n",
       "      <th>count(DISTINCT graph_612_c1.\"node1\")</th>\n",
       "    </tr>\n",
       "  </thead>\n",
       "  <tbody>\n",
       "    <tr>\n",
       "      <th>0</th>\n",
       "      <td>14</td>\n",
       "    </tr>\n",
       "  </tbody>\n",
       "</table>\n",
       "</div>"
      ],
      "text/plain": [
       "   count(DISTINCT graph_612_c1.\"node1\")\n",
       "0                                    14"
      ]
     },
     "execution_count": 41,
     "metadata": {},
     "output_type": "execute_result"
    }
   ],
   "source": [
    "kgtk(\"\"\"\n",
    "    query -i $NEW_BIRTHPLACE \n",
    "        --match '(qnode)-[]->()' \n",
    "        --return 'count(distinct qnode)'\n",
    "    \"\"\")"
   ]
  },
  {
   "cell_type": "markdown",
   "id": "02d084c8",
   "metadata": {},
   "source": [
    "**There are 14 newly found places of birth in Getty!**"
   ]
  },
  {
   "cell_type": "markdown",
   "id": "7c768221",
   "metadata": {},
   "source": [
    "Check if the founded results are matched:"
   ]
  },
  {
   "cell_type": "code",
   "execution_count": 45,
   "id": "918bc160",
   "metadata": {},
   "outputs": [
    {
     "name": "stdout",
     "output_type": "stream",
     "text": [
      "CPU times: user 9.35 ms, sys: 7.63 ms, total: 17 ms\n",
      "Wall time: 2.31 s\n"
     ]
    }
   ],
   "source": [
    "%%time\n",
    "kgtk(\"\"\"\n",
    "    ifexists -i $BIRTHPLACE \n",
    "        --filter-on $WIKI_BIRTHPLACE \n",
    "        --input-keys node1 \n",
    "        --filter-keys node1 \n",
    "        -o $MATCH_BIRTHPLACE\n",
    "    \"\"\")"
   ]
  },
  {
   "cell_type": "code",
   "execution_count": 46,
   "id": "8c060a1d",
   "metadata": {},
   "outputs": [
    {
     "data": {
      "text/html": [
       "<div>\n",
       "<style scoped>\n",
       "    .dataframe tbody tr th:only-of-type {\n",
       "        vertical-align: middle;\n",
       "    }\n",
       "\n",
       "    .dataframe tbody tr th {\n",
       "        vertical-align: top;\n",
       "    }\n",
       "\n",
       "    .dataframe thead th {\n",
       "        text-align: right;\n",
       "    }\n",
       "</style>\n",
       "<table border=\"1\" class=\"dataframe\">\n",
       "  <thead>\n",
       "    <tr style=\"text-align: right;\">\n",
       "      <th></th>\n",
       "      <th>count(DISTINCT graph_621_c1.\"node1\")</th>\n",
       "    </tr>\n",
       "  </thead>\n",
       "  <tbody>\n",
       "    <tr>\n",
       "      <th>0</th>\n",
       "      <td>49</td>\n",
       "    </tr>\n",
       "  </tbody>\n",
       "</table>\n",
       "</div>"
      ],
      "text/plain": [
       "   count(DISTINCT graph_621_c1.\"node1\")\n",
       "0                                    49"
      ]
     },
     "execution_count": 46,
     "metadata": {},
     "output_type": "execute_result"
    }
   ],
   "source": [
    "kgtk(\"\"\"\n",
    "    query -i $MATCH_BIRTHPLACE \n",
    "        --match '(qnode)-[]->()' \n",
    "        --return 'count(distinct qnode)'\n",
    "    \"\"\")"
   ]
  },
  {
   "cell_type": "code",
   "execution_count": 48,
   "id": "23d3483d",
   "metadata": {},
   "outputs": [
    {
     "data": {
      "text/html": [
       "<div>\n",
       "<style scoped>\n",
       "    .dataframe tbody tr th:only-of-type {\n",
       "        vertical-align: middle;\n",
       "    }\n",
       "\n",
       "    .dataframe tbody tr th {\n",
       "        vertical-align: top;\n",
       "    }\n",
       "\n",
       "    .dataframe thead th {\n",
       "        text-align: right;\n",
       "    }\n",
       "</style>\n",
       "<table border=\"1\" class=\"dataframe\">\n",
       "  <thead>\n",
       "    <tr style=\"text-align: right;\">\n",
       "      <th></th>\n",
       "      <th>count(DISTINCT graph_595_c1.\"node1\")</th>\n",
       "    </tr>\n",
       "  </thead>\n",
       "  <tbody>\n",
       "    <tr>\n",
       "      <th>0</th>\n",
       "      <td>47</td>\n",
       "    </tr>\n",
       "  </tbody>\n",
       "</table>\n",
       "</div>"
      ],
      "text/plain": [
       "   count(DISTINCT graph_595_c1.\"node1\")\n",
       "0                                    47"
      ]
     },
     "execution_count": 48,
     "metadata": {},
     "output_type": "execute_result"
    }
   ],
   "source": [
    "kgtk(\"\"\"\n",
    "    query -i $BIRTHPLACE $WIKI_BIRTHPLACE \n",
    "        --match 'b: (qnode)-[p]->(v), w: (qnode)-[]->(v)' \n",
    "        --return 'count(distinct qnode)'\n",
    "    \"\"\")"
   ]
  },
  {
   "cell_type": "markdown",
   "id": "4148dea5",
   "metadata": {},
   "source": [
    "47 of the 49 ULAN ids have the matched places of birth in Wikidata and Getty."
   ]
  },
  {
   "cell_type": "markdown",
   "id": "7f00dc6a",
   "metadata": {},
   "source": [
    "# Append the newly found years and places to the Arnold graph"
   ]
  },
  {
   "cell_type": "markdown",
   "id": "88a66808",
   "metadata": {},
   "source": [
    "Add id:"
   ]
  },
  {
   "cell_type": "code",
   "execution_count": 49,
   "id": "c1ea1318",
   "metadata": {},
   "outputs": [],
   "source": [
    "%%time\n",
    "kgtk(\"\"\"add-id -i $NEW_BIRTHYEAR --id-style wikidata -o $BIRTHYEAR_WITHID\"\"\")"
   ]
  },
  {
   "cell_type": "code",
   "execution_count": 55,
   "id": "21235fce",
   "metadata": {},
   "outputs": [],
   "source": [
    "%%time\n",
    "kgtk(\"\"\"add-id -i $NEW_DEATHYEAR --id-style wikidata -o $DEATHYEAR_WITHID\"\"\")"
   ]
  },
  {
   "cell_type": "code",
   "execution_count": 56,
   "id": "0be60a31",
   "metadata": {},
   "outputs": [],
   "source": [
    "%%time\n",
    "kgtk(\"\"\"add-id -i $NEW_BIRTHPLACE --id-style wikidata -o $BIRTHPLACE_WITHID\"\"\")"
   ]
  },
  {
   "cell_type": "markdown",
   "id": "4c927fcd",
   "metadata": {},
   "source": [
    "Concatenate to Arnold graph:"
   ]
  },
  {
   "cell_type": "code",
   "execution_count": 57,
   "id": "9643994d",
   "metadata": {},
   "outputs": [],
   "source": [
    "%%time\n",
    "kgtk(\"\"\"cat -i $ARNOLD $BIRTHYEAR_WITHID $DEATHYEAR_WITHID $BIRTHPLACE_WITHID -o $NEW_ARNOLD\"\"\")"
   ]
  },
  {
   "cell_type": "code",
   "execution_count": null,
   "id": "f8fb07fb",
   "metadata": {},
   "outputs": [],
   "source": []
  }
 ],
 "metadata": {
  "kernelspec": {
   "display_name": "Python 3",
   "language": "python",
   "name": "python3"
  },
  "language_info": {
   "codemirror_mode": {
    "name": "ipython",
    "version": 3
   },
   "file_extension": ".py",
   "mimetype": "text/x-python",
   "name": "python",
   "nbconvert_exporter": "python",
   "pygments_lexer": "ipython3",
   "version": "3.7.10"
  }
 },
 "nbformat": 4,
 "nbformat_minor": 5
}
