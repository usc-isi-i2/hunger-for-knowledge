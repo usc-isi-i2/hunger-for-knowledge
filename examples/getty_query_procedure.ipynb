{
 "cells": [
  {
   "cell_type": "code",
   "execution_count": 1,
   "id": "ad7e2663",
   "metadata": {},
   "outputs": [],
   "source": [
    "import os\n",
    "import re\n",
    "import time\n",
    "import json\n",
    "import subprocess"
   ]
  },
  {
   "cell_type": "markdown",
   "id": "0d135d32",
   "metadata": {},
   "source": [
    "# Set up environment path"
   ]
  },
  {
   "cell_type": "markdown",
   "id": "424eddf6",
   "metadata": {},
   "source": [
    "Set by group:"
   ]
  },
  {
   "cell_type": "code",
   "execution_count": 2,
   "id": "9551c3bf",
   "metadata": {},
   "outputs": [
    {
     "name": "stdout",
     "output_type": "stream",
     "text": [
      "DATABASE: \"/nas/home/bohuizha/KG/hunger-for-knowledge/data/gvp\"\n",
      "ULAN: \"/nas/home/bohuizha/KG/hunger-for-knowledge/data/gvp/ULAN\"\n",
      "TGN: \"/nas/home/bohuizha/KG/hunger-for-knowledge/data/gvp/TGN\"\n",
      "ULAN_SUBJECTS_NT: \"/nas/home/bohuizha/KG/hunger-for-knowledge/data/gvp/ULAN/ULANOut_1Subjects.nt\"\n",
      "ULAN_TERMS_NT: \"/nas/home/bohuizha/KG/hunger-for-knowledge/data/gvp/ULAN/ULANOut_2Terms.nt\"\n",
      "ULAN_AGENTMAP_NT: \"/nas/home/bohuizha/KG/hunger-for-knowledge/data/gvp/ULAN/ULANOut_AgentMap.nt\"\n",
      "ULAN_AGENTTYPES_NT: \"/nas/home/bohuizha/KG/hunger-for-knowledge/data/gvp/ULAN/ULANOut_AgentTypes.nt\"\n",
      "ULAN_BIOGRAPHIES_NT: \"/nas/home/bohuizha/KG/hunger-for-knowledge/data/gvp/ULAN/ULANOut_Biographies.nt\"\n",
      "ULAN_EVENT_NT: \"/nas/home/bohuizha/KG/hunger-for-knowledge/data/gvp/ULAN/ULANOut_Event.nt\"\n",
      "ULAN_NATIONALITY_NT: \"/nas/home/bohuizha/KG/hunger-for-knowledge/data/gvp/ULAN/ULANOut_Nationality.nt\"\n",
      "ULAN_SCOPENOTES_NT: \"/nas/home/bohuizha/KG/hunger-for-knowledge/data/gvp/ULAN/ULANOut_ScopeNotes.nt\"\n",
      "ULAN_SUBJECTS: \"/nas/home/bohuizha/KG/hunger-for-knowledge/data/gvp/ULAN/Subjects.tsv\"\n",
      "ULAN_TERMS: \"/nas/home/bohuizha/KG/hunger-for-knowledge/data/gvp/ULAN/Terms.tsv\"\n",
      "ULAN_AGENTMAP: \"/nas/home/bohuizha/KG/hunger-for-knowledge/data/gvp/ULAN/AgentMap.tsv\"\n",
      "ULAN_AGENTTYPES: \"/nas/home/bohuizha/KG/hunger-for-knowledge/data/gvp/ULAN/AgentTypes.tsv\"\n",
      "ULAN_BIOGRAPHIES: \"/nas/home/bohuizha/KG/hunger-for-knowledge/data/gvp/ULAN/Biographies.tsv\"\n",
      "ULAN_EVENT: \"/nas/home/bohuizha/KG/hunger-for-knowledge/data/gvp/ULAN/Event.tsv\"\n",
      "ULAN_NATIONALITY: \"/nas/home/bohuizha/KG/hunger-for-knowledge/data/gvp/ULAN/Nationality.tsv\"\n",
      "ULAN_SCOPENOTES: \"/nas/home/bohuizha/KG/hunger-for-knowledge/data/gvp/ULAN/ScopeNotes.tsv\"\n",
      "TGN_SUBJECTS_NT: \"/nas/home/bohuizha/KG/hunger-for-knowledge/data/gvp/TGN/TGNOut_1Subjects.nt\"\n",
      "TGN_TERMS_NT: \"/nas/home/bohuizha/KG/hunger-for-knowledge/data/gvp/TGN/TGNOut_2Terms.nt\"\n",
      "TGN_PLACEMAP_NT: \"/nas/home/bohuizha/KG/hunger-for-knowledge/data/gvp/TGN/TGNOut_PlaceMap.nt\"\n",
      "TGN_PLACETYPES_NT: \"/nas/home/bohuizha/KG/hunger-for-knowledge/data/gvp/TGN/TGNOut_PlaceTypes.nt\"\n",
      "TGN_COORDINATES_NT: \"/nas/home/bohuizha/KG/hunger-for-knowledge/data/gvp/TGN/TGNOut_Coordinates.nt\"\n",
      "TGN_SCOPENOTES_NT: \"/nas/home/bohuizha/KG/hunger-for-knowledge/data/gvp/TGN/TGNOut_ScopeNotes.nt\"\n",
      "TGN_SUBJECTS: \"/nas/home/bohuizha/KG/hunger-for-knowledge/data/gvp/TGN/Subjects.tsv\"\n",
      "TGN_TERMS: \"/nas/home/bohuizha/KG/hunger-for-knowledge/data/gvp/TGN/Terms.tsv\"\n",
      "TGN_PLACEMAP: \"/nas/home/bohuizha/KG/hunger-for-knowledge/data/gvp/TGN/PlaceMap.tsv\"\n",
      "TGN_PLACETYPES: \"/nas/home/bohuizha/KG/hunger-for-knowledge/data/gvp/TGN/PlaceTypes.tsv\"\n",
      "TGN_COORDINATES: \"/nas/home/bohuizha/KG/hunger-for-knowledge/data/gvp/TGN/Coordinates.tsv\"\n",
      "TGN_SCOPENOTES: \"/nas/home/bohuizha/KG/hunger-for-knowledge/data/gvp/TGN/ScopeNotes.tsv\"\n",
      "OUTPUT: \"/nas/home/bohuizha/KG/hunger-for-knowledge/data/gvp/output\"\n",
      "WIKI_BIRTHDATE: \"/nas/home/bohuizha/KG/hunger-for-knowledge/data/gvp/output/wiki.birthdate.tsv\"\n",
      "WIKI_BIRTHPLACE: \"/nas/home/bohuizha/KG/hunger-for-knowledge/data/gvp/output/wiki.birthplace.tsv\"\n",
      "WIKI_DEATHDATE: \"/nas/home/bohuizha/KG/hunger-for-knowledge/data/gvp/output/wiki.deathdate.tsv\"\n",
      "WIKI_RESULTS: \"/nas/home/bohuizha/KG/hunger-for-knowledge/data/gvp/output/wiki.results.tsv\"\n",
      "UNKNOWN: \"/nas/home/bohuizha/KG/hunger-for-knowledge/data/gvp/output/unknown.tsv\"\n",
      "BIRTHYEAR: \"/nas/home/bohuizha/KG/hunger-for-knowledge/data/gvp/output/birthyear.tsv\"\n",
      "BIRTHPLACE_TEMP: \"/nas/home/bohuizha/KG/hunger-for-knowledge/data/gvp/output/temp.birthplace.tsv\"\n",
      "BIRTHPLACE: \"/nas/home/bohuizha/KG/hunger-for-knowledge/data/gvp/output/birthplace.tsv\"\n",
      "DEATHYEAR: \"/nas/home/bohuizha/KG/hunger-for-knowledge/data/gvp/output/deathyear.tsv\"\n",
      "GETTY_RESULTS: \"/nas/home/bohuizha/KG/hunger-for-knowledge/data/gvp/output/getty.results.tsv\"\n",
      "MATCH_BIRTHYEAR: \"/nas/home/bohuizha/KG/hunger-for-knowledge/data/gvp/output/match.birthyear.tsv\"\n",
      "MATCH_DEATHYEAR: \"/nas/home/bohuizha/KG/hunger-for-knowledge/data/gvp/output/match.deathyear.tsv\"\n",
      "MATCH_BIRTHPLACE: \"/nas/home/bohuizha/KG/hunger-for-knowledge/data/gvp/output/match.birthplace.tsv\"\n",
      "NEW_BIRTHYEAR: \"/nas/home/bohuizha/KG/hunger-for-knowledge/data/gvp/output/new.birthyear.tsv\"\n",
      "NEW_DEATHYEAR: \"/nas/home/bohuizha/KG/hunger-for-knowledge/data/gvp/output/new.deathyear.tsv\"\n",
      "NEW_BIRTHPLACE: \"/nas/home/bohuizha/KG/hunger-for-knowledge/data/gvp/output/new.birthplace.tsv\"\n",
      "NEW_RESULTS: \"/nas/home/bohuizha/KG/hunger-for-knowledge/data/gvp/output/new.results.tsv\"\n",
      "BIRTHYEAR_WITHID: \"/nas/home/bohuizha/KG/hunger-for-knowledge/data/gvp/output/withid.birthyear.tsv\"\n",
      "DEATHYEAR_WITHID: \"/nas/home/bohuizha/KG/hunger-for-knowledge/data/gvp/output/withid.deathyear.tsv\"\n",
      "BIRTHPLACE_WITHID: \"/nas/home/bohuizha/KG/hunger-for-knowledge/data/gvp/output/withid.birthplace.tsv\"\n"
     ]
    }
   ],
   "source": [
    "# Parameters\n",
    "\n",
    "# We will define environment variables to hold the full paths to the files as we will use them in the shell commands\n",
    "kgtk_environment_variables = []\n",
    "\n",
    "# Folder where database files store\n",
    "data_path = \"/nas/home/bohuizha/KG/hunger-for-knowledge/data/gvp\"\n",
    "os.environ['DATABASE'] = data_path\n",
    "kgtk_environment_variables.append('DATABASE')\n",
    "\n",
    "# Folder of ULAN\n",
    "ulan_path = \"/nas/home/bohuizha/KG/hunger-for-knowledge/data/gvp/ULAN\"\n",
    "os.environ['ULAN'] = ulan_path\n",
    "kgtk_environment_variables.append('ULAN')\n",
    "\n",
    "# Folder of TGN\n",
    "tgn_path = \"/nas/home/bohuizha/KG/hunger-for-knowledge/data/gvp/TGN\"\n",
    "os.environ['TGN'] = tgn_path\n",
    "kgtk_environment_variables.append('TGN')\n",
    "\n",
    "# The original ntriple & import data\n",
    "# ULAN\n",
    "original_ulan_names = {\n",
    "    \"ulan_subjects_nt\": \"ULANOut_1Subjects.nt\",\n",
    "    \"ulan_terms_nt\": \"ULANOut_2Terms.nt\",\n",
    "    \"ulan_agentmap_nt\": \"ULANOut_AgentMap.nt\",\n",
    "    \"ulan_agenttypes_nt\": \"ULANOut_AgentTypes.nt\",\n",
    "    # \"ulan_associativerels_nt\": \"ULANOut_AssociativeRels.nt\",\n",
    "    \"ulan_biographies_nt\": \"ULANOut_Biographies.nt\",\n",
    "    # \"ulan_contribrels_nt\": \"ULANOut_ContribRels.nt\",\n",
    "    # \"ulan_contribs_nt\": \"ULANOut_Contribs.nt\",\n",
    "    \"ulan_event_nt\": \"ULANOut_Event.nt\",\n",
    "    # \"ulan_hierarchicalrels_nt\": \"ULANOut_HierarchicalRels.nt\",\n",
    "    \"ulan_nationality_nt\": \"ULANOut_Nationality.nt\",\n",
    "    \"ulan_scopenotes_nt\": \"ULANOut_ScopeNotes.nt\"\n",
    "}\n",
    "\n",
    "for key, value in original_ulan_names.items():\n",
    "    variable = key.upper()\n",
    "    os.environ[variable] = os.path.join(ulan_path, value)\n",
    "    kgtk_environment_variables.append(variable)\n",
    "    \n",
    "imported_ulan_names = {\n",
    "    \"ulan_subjects\": \"Subjects.tsv\",\n",
    "    \"ulan_terms\": \"Terms.tsv\",\n",
    "    \"ulan_agentmap\": \"AgentMap.tsv\",\n",
    "    \"ulan_agenttypes\": \"AgentTypes.tsv\",\n",
    "    # \"ulan_associativerels\": \"AssociativeRels.tsv\",\n",
    "    \"ulan_biographies\": \"Biographies.tsv\",\n",
    "    # \"ulan_contribrels\": \"ContribRels.tsv\",\n",
    "    # \"ulan_contribs\": \"Contribs.tsv\",\n",
    "    \"ulan_event\": \"Event.tsv\",\n",
    "    # \"ulan_hierarchicalrels\": \"HierarchicalRels.tsv\",\n",
    "    \"ulan_nationality\": \"Nationality.tsv\",\n",
    "    \"ulan_scopenotes\": \"ScopeNotes.tsv\"\n",
    "}\n",
    "\n",
    "for key, value in imported_ulan_names.items():\n",
    "    variable = key.upper()\n",
    "    os.environ[variable] = os.path.join(ulan_path, value)\n",
    "    kgtk_environment_variables.append(variable)\n",
    "    \n",
    "# TGN\n",
    "original_tgn_names = {\n",
    "    \"tgn_subjects_nt\": \"TGNOut_1Subjects.nt\",\n",
    "    \"tgn_terms_nt\": \"TGNOut_2Terms.nt\",\n",
    "    \"tgn_placemap_nt\": \"TGNOut_PlaceMap.nt\",\n",
    "    \"tgn_placetypes_nt\": \"TGNOut_PlaceTypes.nt\",\n",
    "    # \"tgn_associativerels_nt\": \"TGNOut_AssociativeRels.nt\",\n",
    "    \"tgn_coordinates_nt\": \"TGNOut_Coordinates.nt\",\n",
    "    # \"tgn_contribrels_nt\": \"TGNOut_ContribRels.nt\",\n",
    "    # \"tgn_contribs_nt\": \"TGNOut_Contribs.nt\",\n",
    "    # \"tgn_hierarchicalrels_nt\": \"TGNOut_HierarchicalRels.nt\",\n",
    "    \"tgn_scopenotes_nt\": \"TGNOut_ScopeNotes.nt\"\n",
    "}\n",
    "\n",
    "for key, value in original_tgn_names.items():\n",
    "    variable = key.upper()\n",
    "    os.environ[variable] = os.path.join(tgn_path, value)\n",
    "    kgtk_environment_variables.append(variable)\n",
    "    \n",
    "imported_tgn_names = {\n",
    "    \"tgn_subjects\": \"Subjects.tsv\",\n",
    "    \"tgn_terms\": \"Terms.tsv\",\n",
    "    \"tgn_placemap\": \"PlaceMap.tsv\",\n",
    "    \"tgn_placetypes\": \"PlaceTypes.tsv\",\n",
    "    # \"tgn_associativerels\": \"AssociativeRels.tsv\",\n",
    "    \"tgn_coordinates\": \"Coordinates.tsv\",\n",
    "    # \"tgn_contribrels\": \"ContribRels.tsv\",\n",
    "    # \"tgn_contribs\": \"Contribs.tsv\",\n",
    "    # \"tgn_hierarchicalrels\": \"HierarchicalRels.tsv\",\n",
    "    \"tgn_scopenotes\": \"ScopeNotes.tsv\"\n",
    "}\n",
    "\n",
    "for key, value in imported_tgn_names.items():\n",
    "    variable = key.upper()\n",
    "    os.environ[variable] = os.path.join(tgn_path, value)\n",
    "    kgtk_environment_variables.append(variable)\n",
    "    \n",
    "# Output\n",
    "output_path = \"/nas/home/bohuizha/KG/hunger-for-knowledge/data/gvp/output\"\n",
    "os.environ['OUTPUT'] = output_path\n",
    "kgtk_environment_variables.append('OUTPUT')\n",
    "\n",
    "output_names = {\n",
    "    \"wiki_birthdate\": \"wiki.birthdate.tsv\",\n",
    "    \"wiki_birthplace\": \"wiki.birthplace.tsv\",\n",
    "    \"wiki_deathdate\": \"wiki.deathdate.tsv\",\n",
    "    \"wiki_results\": \"wiki.results.tsv\",\n",
    "    \"unknown\": \"unknown.tsv\",\n",
    "    \"birthyear\": \"birthyear.tsv\",\n",
    "    \"birthplace_temp\": \"temp.birthplace.tsv\",\n",
    "    \"birthplace\": \"birthplace.tsv\",\n",
    "    \"deathyear\": \"deathyear.tsv\",\n",
    "    \"getty_results\": \"getty.results.tsv\",\n",
    "    \"match_birthyear\": \"match.birthyear.tsv\",\n",
    "    \"match_deathyear\": \"match.deathyear.tsv\",\n",
    "    \"match_birthplace\": \"match.birthplace.tsv\",\n",
    "    \"new_birthyear\": \"new.birthyear.tsv\",\n",
    "    \"new_deathyear\": \"new.deathyear.tsv\",\n",
    "    \"new_birthplace\": \"new.birthplace.tsv\",\n",
    "    \"new_results\": \"new.results.tsv\",\n",
    "    \"birthyear_withid\": \"withid.birthyear.tsv\",\n",
    "    \"deathyear_withid\": \"withid.deathyear.tsv\",\n",
    "    \"birthplace_withid\": \"withid.birthplace.tsv\"\n",
    "}\n",
    "\n",
    "for key, value in output_names.items():\n",
    "    variable = key.upper()\n",
    "    os.environ[variable] = os.path.join(output_path, value)\n",
    "    kgtk_environment_variables.append(variable)\n",
    "\n",
    "for variable in kgtk_environment_variables:\n",
    "    print(\"{}: \\\"{}\\\"\".format(variable, os.environ[variable]))"
   ]
  },
  {
   "cell_type": "markdown",
   "id": "20160788",
   "metadata": {},
   "source": [
    "Set for singles:"
   ]
  },
  {
   "cell_type": "code",
   "execution_count": 3,
   "id": "69d205a0",
   "metadata": {},
   "outputs": [],
   "source": [
    "namespaces_path = '/nas/home/bohuizha/KG/hunger-for-knowledge/data/gvp/namespaces.tsv'\n",
    "os.environ['NAMESPACES'] = namespaces_path\n",
    "kgtk_environment_variables.append('NAMESPACES')\n",
    "\n",
    "wikidata_path = '/nas/home/bohuizha/KG/hunger-for-knowledge/data/claims.tsv'\n",
    "os.environ['CLAIMS'] = wikidata_path\n",
    "kgtk_environment_variables.append('CLAIMS')\n",
    "\n",
    "ulan_qnodes_path = '/nas/home/bohuizha/KG/hunger-for-knowledge/data/gvp/ulan-qnodes.tsv'\n",
    "os.environ['ULAN_QNODES'] = ulan_qnodes_path\n",
    "kgtk_environment_variables.append('ULAN_QNODES')\n",
    "\n",
    "samples_path = '/nas/home/bohuizha/KG/hunger-for-knowledge/data/gvp/samples.tsv'\n",
    "os.environ['SAMPLES'] = samples_path\n",
    "kgtk_environment_variables.append('SAMPLES')\n",
    "\n",
    "p245_path=\"/nas/home/bohuizha/KG/hunger-for-knowledge/batch_output/results/results.P245.tsv\"\n",
    "os.environ['P245'] = p245_path\n",
    "kgtk_environment_variables.append('P245')\n",
    "\n",
    "p1667_path=\"/nas/home/bohuizha/KG/hunger-for-knowledge/batch_output/results/results.P1667.tsv\"\n",
    "os.environ['P1667'] = p1667_path\n",
    "kgtk_environment_variables.append('P1667')\n",
    "\n",
    "ulan_wikialign_path = \"/nas/home/bohuizha/KG/hunger-for-knowledge/data/gvp/ULAN/WikiAlign.tsv\"\n",
    "os.environ['ULAN_ALIGN'] = ulan_wikialign_path\n",
    "kgtk_environment_variables.append('ULAN_ALIGN')\n",
    "\n",
    "tgn_wikialign_path = \"/nas/home/bohuizha/KG/hunger-for-knowledge/data/gvp/TGN/WikiAlign.tsv\"\n",
    "os.environ['TGN_ALIGN'] = tgn_wikialign_path\n",
    "kgtk_environment_variables.append('TGN_ALIGN')\n",
    "\n",
    "arnold_path = \"/nas/home/bohuizha/KG/hunger-for-knowledge/data/arnold.all.tsv\"\n",
    "os.environ['ARNOLD'] = arnold_path\n",
    "kgtk_environment_variables.append('ARNOLD')\n",
    "\n",
    "new_arnold_path = \"/nas/home/bohuizha/KG/hunger-for-knowledge/data/arnold.new.tsv\"\n",
    "os.environ['NEW_ARNOLD'] = new_arnold_path\n",
    "kgtk_environment_variables.append('NEW_ARNOLD')"
   ]
  },
  {
   "cell_type": "markdown",
   "id": "fde64419",
   "metadata": {},
   "source": [
    "# Query for Wikidata"
   ]
  },
  {
   "cell_type": "code",
   "execution_count": 4,
   "id": "fac641f2",
   "metadata": {},
   "outputs": [
    {
     "name": "stdout",
     "output_type": "stream",
     "text": [
      "count(DISTINCT graph_576_c1.\"node1\")\tcount(DISTINCT graph_576_c1.\"node2\")\r\n",
      "431\t433\r\n"
     ]
    }
   ],
   "source": [
    "!kgtk query -i $ULAN_QNODES \\\n",
    "    --match '(qnode)-[]->(ulanid)' \\\n",
    "    --return 'count(distinct qnode), count(distinct ulanid)'"
   ]
  },
  {
   "cell_type": "markdown",
   "id": "3ab30c8a",
   "metadata": {},
   "source": [
    "Query for date of birth:"
   ]
  },
  {
   "cell_type": "code",
   "execution_count": 5,
   "id": "6b0a1f41",
   "metadata": {},
   "outputs": [],
   "source": [
    "!kgtk query -i $SAMPLES $CLAIMS \\\n",
    "    --match 's: (ulanid)-[]->(qnode), \\\n",
    "             c: (qnode)-[p:P569]->(birthdate)' \\\n",
    "    --return 'qnode as node1, p.label as label, birthdate as node2' \\\n",
    "    -o $WIKI_BIRTHDATE"
   ]
  },
  {
   "cell_type": "code",
   "execution_count": 6,
   "id": "b56692c5",
   "metadata": {},
   "outputs": [
    {
     "name": "stdout",
     "output_type": "stream",
     "text": [
      "271 /nas/home/bohuizha/KG/hunger-for-knowledge/data/gvp/output/wiki.birthdate.tsv\r\n"
     ]
    }
   ],
   "source": [
    "!wc -l $WIKI_BIRTHDATE"
   ]
  },
  {
   "cell_type": "markdown",
   "id": "62ba66fe",
   "metadata": {},
   "source": [
    "Query for date of death:"
   ]
  },
  {
   "cell_type": "code",
   "execution_count": 7,
   "id": "073d9fe0",
   "metadata": {},
   "outputs": [],
   "source": [
    "!kgtk query -i $SAMPLES $CLAIMS \\\n",
    "    --match 's: (ulanid)-[]->(qnode), \\\n",
    "             c: (qnode)-[p:P570]->(deathdate)' \\\n",
    "    --return 'qnode as node1, p.label as label, deathdate as node2' \\\n",
    "    -o $WIKI_DEATHDATE"
   ]
  },
  {
   "cell_type": "code",
   "execution_count": 8,
   "id": "92d9da97",
   "metadata": {},
   "outputs": [
    {
     "name": "stdout",
     "output_type": "stream",
     "text": [
      "220 /nas/home/bohuizha/KG/hunger-for-knowledge/data/gvp/output/wiki.deathdate.tsv\r\n"
     ]
    }
   ],
   "source": [
    "!wc -l $WIKI_DEATHDATE"
   ]
  },
  {
   "cell_type": "markdown",
   "id": "31a1d6e8",
   "metadata": {},
   "source": [
    "Query for place of birth:"
   ]
  },
  {
   "cell_type": "code",
   "execution_count": 9,
   "id": "614918c0",
   "metadata": {},
   "outputs": [],
   "source": [
    "!kgtk query -i $SAMPLES $CLAIMS \\\n",
    "    --match 's: (ulanid)-[]->(qnode), \\\n",
    "             c: (qnode)-[p:P19]->(birthplace)' \\\n",
    "    --return 'qnode as node1, p.label as label, birthplace as node2' \\\n",
    "    -o $WIKI_BIRTHPLACE"
   ]
  },
  {
   "cell_type": "code",
   "execution_count": 10,
   "id": "9b6f0f98",
   "metadata": {},
   "outputs": [
    {
     "name": "stdout",
     "output_type": "stream",
     "text": [
      "255 /nas/home/bohuizha/KG/hunger-for-knowledge/data/gvp/output/wiki.birthplace.tsv\r\n"
     ]
    }
   ],
   "source": [
    "!wc -l $WIKI_BIRTHPLACE"
   ]
  },
  {
   "cell_type": "markdown",
   "id": "7311b6e9",
   "metadata": {},
   "source": [
    "# Filter out unknowns\n",
    "Filter out those we don't know at least one of the birth place, birth year, and death year."
   ]
  },
  {
   "cell_type": "code",
   "execution_count": 11,
   "id": "f1b670ac",
   "metadata": {},
   "outputs": [],
   "source": [
    "!kgtk ifnotexists -i $SAMPLES \\\n",
    "    --filter-on $WIKI_RESULTS \\\n",
    "    --input-keys node1 \\\n",
    "    --filter-keys node1 \\\n",
    "    -o $UNKNOWN"
   ]
  },
  {
   "cell_type": "code",
   "execution_count": 12,
   "id": "52c2a358",
   "metadata": {},
   "outputs": [
    {
     "name": "stdout",
     "output_type": "stream",
     "text": [
      "433 /nas/home/bohuizha/KG/hunger-for-knowledge/data/gvp/output/unknown.tsv\r\n"
     ]
    }
   ],
   "source": [
    "!wc -l $UNKNOWN"
   ]
  },
  {
   "cell_type": "markdown",
   "id": "0923ad59",
   "metadata": {},
   "source": [
    "# Import TGN & ULAN into `kgtk` graphs"
   ]
  },
  {
   "cell_type": "code",
   "execution_count": 13,
   "id": "9f5a8625",
   "metadata": {},
   "outputs": [
    {
     "data": {
      "text/plain": [
       "[('ulan_subjects_nt', 'ulan_subjects'),\n",
       " ('ulan_terms_nt', 'ulan_terms'),\n",
       " ('ulan_agentmap_nt', 'ulan_agentmap'),\n",
       " ('ulan_agenttypes_nt', 'ulan_agenttypes'),\n",
       " ('ulan_biographies_nt', 'ulan_biographies'),\n",
       " ('ulan_event_nt', 'ulan_event'),\n",
       " ('ulan_nationality_nt', 'ulan_nationality'),\n",
       " ('ulan_scopenotes_nt', 'ulan_scopenotes'),\n",
       " ('tgn_subjects_nt', 'tgn_subjects'),\n",
       " ('tgn_terms_nt', 'tgn_terms'),\n",
       " ('tgn_placemap_nt', 'tgn_placemap'),\n",
       " ('tgn_placetypes_nt', 'tgn_placetypes'),\n",
       " ('tgn_coordinates_nt', 'tgn_coordinates'),\n",
       " ('tgn_scopenotes_nt', 'tgn_scopenotes')]"
      ]
     },
     "execution_count": 13,
     "metadata": {},
     "output_type": "execute_result"
    }
   ],
   "source": [
    "input_list = list(original_ulan_names.keys()) + list(original_tgn_names.keys())\n",
    "output_list = list(imported_ulan_names.keys()) + list(imported_tgn_names.keys())\n",
    "assert list(map(lambda x: x[:-3], input_list)) == output_list, \"Mapping error.\"\n",
    "import_map = list(zip(input_list, output_list))\n",
    "import_map"
   ]
  },
  {
   "cell_type": "code",
   "execution_count": 14,
   "id": "c83fd8a4",
   "metadata": {},
   "outputs": [
    {
     "name": "stdout",
     "output_type": "stream",
     "text": [
      "kgtk import-ntriples         -i $ULAN_SUBJECTS_NT         -o $ULAN_SUBJECTS         --namespace-file $NAMESPACES         --namespace-id-use-uuid True         --build-new-namespaces False         --output-only-used-namespaces True         --structured-value-label gvp:structured_value         --structured-uri-label gvp:structured_uri         --newnode-prefix node         --newnode-use-uuid True\n",
      "Code: 0, Runtime: 57.91\n",
      "kgtk import-ntriples         -i $ULAN_TERMS_NT         -o $ULAN_TERMS         --namespace-file $NAMESPACES         --namespace-id-use-uuid True         --build-new-namespaces False         --output-only-used-namespaces True         --structured-value-label gvp:structured_value         --structured-uri-label gvp:structured_uri         --newnode-prefix node         --newnode-use-uuid True\n",
      "Code: 0, Runtime: 156.59\n",
      "kgtk import-ntriples         -i $ULAN_AGENTMAP_NT         -o $ULAN_AGENTMAP         --namespace-file $NAMESPACES         --namespace-id-use-uuid True         --build-new-namespaces False         --output-only-used-namespaces True         --structured-value-label gvp:structured_value         --structured-uri-label gvp:structured_uri         --newnode-prefix node         --newnode-use-uuid True\n",
      "Code: 0, Runtime: 26.67\n",
      "kgtk import-ntriples         -i $ULAN_AGENTTYPES_NT         -o $ULAN_AGENTTYPES         --namespace-file $NAMESPACES         --namespace-id-use-uuid True         --build-new-namespaces False         --output-only-used-namespaces True         --structured-value-label gvp:structured_value         --structured-uri-label gvp:structured_uri         --newnode-prefix node         --newnode-use-uuid True\n",
      "Code: 0, Runtime: 66.21\n",
      "kgtk import-ntriples         -i $ULAN_BIOGRAPHIES_NT         -o $ULAN_BIOGRAPHIES         --namespace-file $NAMESPACES         --namespace-id-use-uuid True         --build-new-namespaces False         --output-only-used-namespaces True         --structured-value-label gvp:structured_value         --structured-uri-label gvp:structured_uri         --newnode-prefix node         --newnode-use-uuid True\n",
      "Code: 0, Runtime: 116.71\n",
      "kgtk import-ntriples         -i $ULAN_EVENT_NT         -o $ULAN_EVENT         --namespace-file $NAMESPACES         --namespace-id-use-uuid True         --build-new-namespaces False         --output-only-used-namespaces True         --structured-value-label gvp:structured_value         --structured-uri-label gvp:structured_uri         --newnode-prefix node         --newnode-use-uuid True\n",
      "Code: 0, Runtime: 12.28\n",
      "kgtk import-ntriples         -i $ULAN_NATIONALITY_NT         -o $ULAN_NATIONALITY         --namespace-file $NAMESPACES         --namespace-id-use-uuid True         --build-new-namespaces False         --output-only-used-namespaces True         --structured-value-label gvp:structured_value         --structured-uri-label gvp:structured_uri         --newnode-prefix node         --newnode-use-uuid True\n",
      "Code: 0, Runtime: 16.28\n",
      "kgtk import-ntriples         -i $ULAN_SCOPENOTES_NT         -o $ULAN_SCOPENOTES         --namespace-file $NAMESPACES         --namespace-id-use-uuid True         --build-new-namespaces False         --output-only-used-namespaces True         --structured-value-label gvp:structured_value         --structured-uri-label gvp:structured_uri         --newnode-prefix node         --newnode-use-uuid True\n",
      "Code: 0, Runtime: 13.46\n",
      "kgtk import-ntriples         -i $TGN_SUBJECTS_NT         -o $TGN_SUBJECTS         --namespace-file $NAMESPACES         --namespace-id-use-uuid True         --build-new-namespaces False         --output-only-used-namespaces True         --structured-value-label gvp:structured_value         --structured-uri-label gvp:structured_uri         --newnode-prefix node         --newnode-use-uuid True\n",
      "Code: 0, Runtime: 460.93\n",
      "kgtk import-ntriples         -i $TGN_TERMS_NT         -o $TGN_TERMS         --namespace-file $NAMESPACES         --namespace-id-use-uuid True         --build-new-namespaces False         --output-only-used-namespaces True         --structured-value-label gvp:structured_value         --structured-uri-label gvp:structured_uri         --newnode-prefix node         --newnode-use-uuid True\n",
      "Code: 0, Runtime: 734.35\n",
      "kgtk import-ntriples         -i $TGN_PLACEMAP_NT         -o $TGN_PLACEMAP         --namespace-file $NAMESPACES         --namespace-id-use-uuid True         --build-new-namespaces False         --output-only-used-namespaces True         --structured-value-label gvp:structured_value         --structured-uri-label gvp:structured_uri         --newnode-prefix node         --newnode-use-uuid True\n",
      "Code: 0, Runtime: 226.71\n",
      "kgtk import-ntriples         -i $TGN_PLACETYPES_NT         -o $TGN_PLACETYPES         --namespace-file $NAMESPACES         --namespace-id-use-uuid True         --build-new-namespaces False         --output-only-used-namespaces True         --structured-value-label gvp:structured_value         --structured-uri-label gvp:structured_uri         --newnode-prefix node         --newnode-use-uuid True\n",
      "Code: 0, Runtime: 258.30\n",
      "kgtk import-ntriples         -i $TGN_COORDINATES_NT         -o $TGN_COORDINATES         --namespace-file $NAMESPACES         --namespace-id-use-uuid True         --build-new-namespaces False         --output-only-used-namespaces True         --structured-value-label gvp:structured_value         --structured-uri-label gvp:structured_uri         --newnode-prefix node         --newnode-use-uuid True\n",
      "Code: 0, Runtime: 257.93\n",
      "kgtk import-ntriples         -i $TGN_SCOPENOTES_NT         -o $TGN_SCOPENOTES         --namespace-file $NAMESPACES         --namespace-id-use-uuid True         --build-new-namespaces False         --output-only-used-namespaces True         --structured-value-label gvp:structured_value         --structured-uri-label gvp:structured_uri         --newnode-prefix node         --newnode-use-uuid True\n",
      "Code: 0, Runtime: 6.01\n"
     ]
    }
   ],
   "source": [
    "for input_path, output_path in import_map:\n",
    "    command = 'kgtk import-ntriples \\\n",
    "        -i $%s \\\n",
    "        -o $%s \\\n",
    "        --namespace-file $NAMESPACES \\\n",
    "        --namespace-id-use-uuid True \\\n",
    "        --build-new-namespaces False \\\n",
    "        --output-only-used-namespaces True \\\n",
    "        --structured-value-label gvp:structured_value \\\n",
    "        --structured-uri-label gvp:structured_uri \\\n",
    "        --newnode-prefix node \\\n",
    "        --newnode-use-uuid True' % (input_path.upper(), output_path.upper())\n",
    "    print(command)\n",
    "    start = time.time()\n",
    "    code = os.system(command)\n",
    "    runtime = time.time() - start\n",
    "    print(f\"Code: {code}, Runtime: {runtime:.2f}\")"
   ]
  },
  {
   "cell_type": "markdown",
   "id": "817021c3",
   "metadata": {},
   "source": [
    "Here we built our own alignment file instead of using WikidataAlignment provided by ULAN. According to our testing, the WikidataAlignment contains much less useful pairs than our own alignment file."
   ]
  },
  {
   "cell_type": "code",
   "execution_count": 15,
   "id": "4a3fdca2",
   "metadata": {},
   "outputs": [],
   "source": [
    "!kgtk query -i $P245 $ULAN_SUBJECTS \\\n",
    "    --match 'r: (qnode)-[]->(identifier), s: (ulanid)-[p]->(identifier)' \\\n",
    "    --where 'p.label = \"dc:identifier\"' \\\n",
    "    --return 'ulanid as node1, \"skos:exactMatch\" as label, qnode as node2' \\\n",
    "    -o $ULAN_ALIGN"
   ]
  },
  {
   "cell_type": "markdown",
   "id": "496a9ad1",
   "metadata": {},
   "source": [
    "# Query unknown qnodes in ULAN & TGN"
   ]
  },
  {
   "cell_type": "markdown",
   "id": "d6648807",
   "metadata": {},
   "source": [
    "Convert ULAN identifier string into ULAN node:"
   ]
  },
  {
   "cell_type": "code",
   "execution_count": 16,
   "id": "8e6996a0",
   "metadata": {},
   "outputs": [],
   "source": [
    "!kgtk query -i $ULAN_QNODES $ULAN_SUBJECTS \\\n",
    "    --match 'ulan: (qnode)-[]->(identifier), \\\n",
    "             Subjects: (ulanid)-[p]->(identifier)' \\\n",
    "    --where 'p.label = \"dc:identifier\"' \\\n",
    "    --return 'ulanid as node1, \"skos:exactMatch\" as label, qnode as node2' \\\n",
    "    -o $SAMPLES"
   ]
  },
  {
   "cell_type": "code",
   "execution_count": 17,
   "id": "5e2e7b05",
   "metadata": {},
   "outputs": [
    {
     "name": "stdout",
     "output_type": "stream",
     "text": [
      "count(DISTINCT graph_588_c1.\"node1\")\tcount(DISTINCT graph_588_c1.\"node2\")\r\n",
      "432\t430\r\n"
     ]
    }
   ],
   "source": [
    "!kgtk query -i $SAMPLES \\\n",
    "    --match '(qnode)-[]->(ulanid)' \\\n",
    "    --return 'count(distinct qnode), count(distinct ulanid)'"
   ]
  },
  {
   "cell_type": "markdown",
   "id": "e72005d5",
   "metadata": {},
   "source": [
    "There is a node in ulan_qnodes.tsv that its ULAN identifer could not be found on ULAN."
   ]
  },
  {
   "cell_type": "code",
   "execution_count": 18,
   "id": "11b1a331",
   "metadata": {},
   "outputs": [
    {
     "name": "stdout",
     "output_type": "stream",
     "text": [
      "node1\tlabel\tnode2\r\n",
      "Q335112\tP245\t\"500316131\"\r\n"
     ]
    }
   ],
   "source": [
    "!kgtk ifnotexists -i $ULAN_QNODES \\\n",
    "    --filter-on $SAMPLES \\\n",
    "    --input-keys node1 \\\n",
    "    --filter-keys node2"
   ]
  },
  {
   "cell_type": "markdown",
   "id": "593ce536",
   "metadata": {},
   "source": [
    "Check again, not exists."
   ]
  },
  {
   "cell_type": "code",
   "execution_count": 19,
   "id": "60ef9a00",
   "metadata": {},
   "outputs": [
    {
     "name": "stdout",
     "output_type": "stream",
     "text": [
      "node1\tlabel\tnode2\r\n"
     ]
    }
   ],
   "source": [
    "!kgtk query -i $ULAN_SUBJECTS \\\n",
    "    --match '(ulanid)-[]->()' \\\n",
    "    --where 'ulanid = \"ulan:500316131\"'"
   ]
  },
  {
   "cell_type": "markdown",
   "id": "5e1dcbb8",
   "metadata": {},
   "source": [
    "## Step 1: Query for birth year"
   ]
  },
  {
   "cell_type": "code",
   "execution_count": 20,
   "id": "265a5ca7",
   "metadata": {},
   "outputs": [],
   "source": [
    "!kgtk query -i $SAMPLES $ULAN_AGENTMAP $ULAN_BIOGRAPHIES \\\n",
    "    --match 'samples: (ulanid)-[]->(qnode), \\\n",
    "             AgentMap: (ulanid)-[p0]->(ulanagent), \\\n",
    "             Biographies: (ulanagent)-[p1]->()-[p2]->()-[p3]->(datevalue)' \\\n",
    "    --where 'p0.label = \"foaf:focus\" AND p1.label = \"gvp:biographyPreferred\" AND p2.label = \"gvp:estStart\" AND p3.label = \"gvp:structured_value\"' \\\n",
    "    --return 'distinct qnode as node1, \"P569\" as label, printf(\"^%s-01-01T00:00:00Z/9\", kgtk_unstringify(datevalue)) as node2' \\\n",
    "    -o $BIRTHYEAR"
   ]
  },
  {
   "cell_type": "markdown",
   "id": "1e247a96",
   "metadata": {},
   "source": [
    "Perform validation:"
   ]
  },
  {
   "cell_type": "code",
   "execution_count": 21,
   "id": "2297fa66",
   "metadata": {},
   "outputs": [
    {
     "name": "stdout",
     "output_type": "stream",
     "text": [
      "\r\n",
      "====================================================\r\n",
      "Data lines read: 432\r\n",
      "Data lines passed: 432\r\n"
     ]
    }
   ],
   "source": [
    "!kgtk validate -i $BIRTHYEAR --ignore-minimum-year"
   ]
  },
  {
   "cell_type": "markdown",
   "id": "ba953da9",
   "metadata": {},
   "source": [
    "Count:"
   ]
  },
  {
   "cell_type": "code",
   "execution_count": 22,
   "id": "3dd3448e",
   "metadata": {},
   "outputs": [
    {
     "name": "stdout",
     "output_type": "stream",
     "text": [
      "433 /nas/home/bohuizha/KG/hunger-for-knowledge/data/gvp/output/birthyear.tsv\r\n"
     ]
    }
   ],
   "source": [
    "!wc -l $BIRTHYEAR"
   ]
  },
  {
   "cell_type": "code",
   "execution_count": 23,
   "id": "7199e4a8",
   "metadata": {},
   "outputs": [
    {
     "name": "stdout",
     "output_type": "stream",
     "text": [
      "count(DISTINCT graph_596_c1.\"node1\")\r\n",
      "430\r\n"
     ]
    }
   ],
   "source": [
    "!kgtk query -i $BIRTHYEAR \\\n",
    "    --match '(qnode)-[]->()' \\\n",
    "    --return 'count(distinct qnode)'"
   ]
  },
  {
   "cell_type": "markdown",
   "id": "c6b9ea99",
   "metadata": {},
   "source": [
    "Here we count for how many new date of birth we found in Getty:"
   ]
  },
  {
   "cell_type": "code",
   "execution_count": 24,
   "id": "93b9ba52",
   "metadata": {},
   "outputs": [],
   "source": [
    "!kgtk ifnotexists -i $BIRTHYEAR \\\n",
    "    --filter-on $WIKI_BIRTHDATE \\\n",
    "    --input-keys node1 \\\n",
    "    --filter-keys node1 \\\n",
    "    -o $NEW_BIRTHYEAR"
   ]
  },
  {
   "cell_type": "code",
   "execution_count": 25,
   "id": "f624e3fe",
   "metadata": {
    "scrolled": true
   },
   "outputs": [
    {
     "name": "stdout",
     "output_type": "stream",
     "text": [
      "count(DISTINCT graph_610_c1.\"node1\")\r\n",
      "191\r\n"
     ]
    }
   ],
   "source": [
    "!kgtk query -i $NEW_BIRTHYEAR \\\n",
    "    --match '(qnode)-[]->()' \\\n",
    "    --return 'count(distinct qnode)'"
   ]
  },
  {
   "cell_type": "code",
   "execution_count": 26,
   "id": "258b283b",
   "metadata": {},
   "outputs": [
    {
     "name": "stdout",
     "output_type": "stream",
     "text": [
      "node1      label  node2\r\n",
      "Q1024362   P569   ^1800-01-01T00:00:00Z/9\r\n",
      "Q1024426   P569   ^1850-01-01T00:00:00Z/9\r\n",
      "Q10288082  P569   ^1875-01-01T00:00:00Z/9\r\n",
      "Q1065      P569   ^1945-01-01T00:00:00Z/9\r\n",
      "Q1065414   P569   ^1800-01-01T00:00:00Z/9\r\n",
      "Q1068072   P569   ^1800-01-01T00:00:00Z/9\r\n",
      "Q1068752   P569   ^1800-01-01T00:00:00Z/9\r\n",
      "Q11209     P569   ^1850-01-01T00:00:00Z/9\r\n",
      "Q11277     P569   ^1800-01-01T00:00:00Z/9\r\n"
     ]
    }
   ],
   "source": [
    "!head $NEW_BIRTHYEAR | column -ts $'\\t'"
   ]
  },
  {
   "cell_type": "markdown",
   "id": "771e3669",
   "metadata": {},
   "source": [
    "Check if the founded results are matched:"
   ]
  },
  {
   "cell_type": "code",
   "execution_count": 27,
   "id": "0c413e48",
   "metadata": {},
   "outputs": [],
   "source": [
    "!kgtk ifexists -i $BIRTHYEAR \\\n",
    "    --filter-on $WIKI_BIRTHDATE \\\n",
    "    --input-keys node1 \\\n",
    "    --filter-keys node1 \\\n",
    "    -o $MATCH_BIRTHYEAR"
   ]
  },
  {
   "cell_type": "code",
   "execution_count": 28,
   "id": "3194a6af",
   "metadata": {},
   "outputs": [
    {
     "name": "stdout",
     "output_type": "stream",
     "text": [
      "count(DISTINCT graph_618_c1.\"node1\")\r\n",
      "239\r\n"
     ]
    }
   ],
   "source": [
    "!kgtk query -i $MATCH_BIRTHYEAR \\\n",
    "    --match '(qnode)-[]->()' \\\n",
    "    --return 'count(distinct qnode)'"
   ]
  },
  {
   "cell_type": "code",
   "execution_count": 29,
   "id": "7d3574ad",
   "metadata": {},
   "outputs": [
    {
     "name": "stdout",
     "output_type": "stream",
     "text": [
      "count(DISTINCT graph_596_c1.\"node1\")\r\n",
      "224\r\n"
     ]
    }
   ],
   "source": [
    "!kgtk query -i $BIRTHYEAR $WIKI_BIRTHDATE \\\n",
    "    --match 'b: (qnode)-[p]->(v1), w: (qnode)-[]->(v2)' \\\n",
    "    --where 'kgtk_date_year(v1) = kgtk_date_year(v2)' \\\n",
    "    --return 'count(distinct qnode)'"
   ]
  },
  {
   "cell_type": "markdown",
   "id": "487ed9da",
   "metadata": {},
   "source": [
    "Most of the results with the same ULAN ids are matched."
   ]
  },
  {
   "cell_type": "markdown",
   "id": "b87b5230",
   "metadata": {},
   "source": [
    "## Step 2: Query for death year\n",
    "There are some value of date of death is later than current time, we need to filter those items out."
   ]
  },
  {
   "cell_type": "code",
   "execution_count": 30,
   "id": "9f9c5d21",
   "metadata": {},
   "outputs": [],
   "source": [
    "!kgtk query -i $SAMPLES $ULAN_AGENTMAP $ULAN_BIOGRAPHIES \\\n",
    "    --match 'samples: (ulanid)-[]->(qnode), \\\n",
    "             AgentMap: (ulanid)-[p0]->(ulanagent), \\\n",
    "             Biographies: (ulanagent)-[p1]->()-[p2]->()-[p3]->(datevalue)' \\\n",
    "    --where 'p0.label = \"foaf:focus\" AND p1.label = \"gvp:biographyPreferred\" AND p2.label = \"gvp:estEnd\" AND p3.label = \"gvp:structured_value\" AND cast(kgtk_unstringify(datevalue), int) <= 2021' \\\n",
    "    --return 'distinct qnode as node1, \"P570\" as label, printf(\"^%s-01-01T00:00:00Z/9\", kgtk_unstringify(datevalue)) as node2' \\\n",
    "    -o $DEATHYEAR"
   ]
  },
  {
   "cell_type": "markdown",
   "id": "2e8263b4",
   "metadata": {},
   "source": [
    "Perform validation:"
   ]
  },
  {
   "cell_type": "code",
   "execution_count": 31,
   "id": "ba5f450b",
   "metadata": {},
   "outputs": [
    {
     "name": "stdout",
     "output_type": "stream",
     "text": [
      "\r\n",
      "====================================================\r\n",
      "Data lines read: 193\r\n",
      "Data lines passed: 193\r\n"
     ]
    }
   ],
   "source": [
    "!kgtk validate -i $DEATHYEAR --ignore-minimum-year"
   ]
  },
  {
   "cell_type": "markdown",
   "id": "7d8256e5",
   "metadata": {},
   "source": [
    "Count:"
   ]
  },
  {
   "cell_type": "code",
   "execution_count": 32,
   "id": "caf75dd9",
   "metadata": {},
   "outputs": [
    {
     "name": "stdout",
     "output_type": "stream",
     "text": [
      "194 /nas/home/bohuizha/KG/hunger-for-knowledge/data/gvp/output/deathyear.tsv\r\n"
     ]
    }
   ],
   "source": [
    "!wc -l $DEATHYEAR"
   ]
  },
  {
   "cell_type": "code",
   "execution_count": 33,
   "id": "ca43fc52",
   "metadata": {},
   "outputs": [
    {
     "name": "stdout",
     "output_type": "stream",
     "text": [
      "count(DISTINCT graph_597_c1.\"node1\")\r\n",
      "193\r\n"
     ]
    }
   ],
   "source": [
    "!kgtk query -i $DEATHYEAR \\\n",
    "    --match '(qnode)-[]->()' \\\n",
    "    --return 'count(distinct qnode)'"
   ]
  },
  {
   "cell_type": "markdown",
   "id": "eeecea87",
   "metadata": {},
   "source": [
    "Here we count for how many new date of death we found in Getty:"
   ]
  },
  {
   "cell_type": "code",
   "execution_count": 34,
   "id": "1fdf1f7e",
   "metadata": {
    "scrolled": true
   },
   "outputs": [],
   "source": [
    "!kgtk ifnotexists -i $DEATHYEAR \\\n",
    "    --filter-on $WIKI_DEATHDATE \\\n",
    "    --input-keys node1 \\\n",
    "    --filter-keys node1 \\\n",
    "    -o $NEW_DEATHYEAR"
   ]
  },
  {
   "cell_type": "code",
   "execution_count": 35,
   "id": "c43aa330",
   "metadata": {},
   "outputs": [
    {
     "name": "stdout",
     "output_type": "stream",
     "text": [
      "count(DISTINCT graph_611_c1.\"node1\")\r\n",
      "10\r\n"
     ]
    }
   ],
   "source": [
    "!kgtk query -i $NEW_DEATHYEAR \\\n",
    "    --match '(qnode)-[]->()' \\\n",
    "    --return 'count(distinct qnode)'"
   ]
  },
  {
   "cell_type": "code",
   "execution_count": 36,
   "id": "138c4570",
   "metadata": {},
   "outputs": [
    {
     "name": "stdout",
     "output_type": "stream",
     "text": [
      "node1     label  node2\r\n",
      "Q1280275  P570   ^-0420-01-01T00:00:00Z/9\r\n",
      "Q1299     P570   ^1970-01-01T00:00:00Z/9\r\n",
      "Q133337   P570   ^-0550-01-01T00:00:00Z/9\r\n",
      "Q168261   P570   ^-0288-01-01T00:00:00Z/9\r\n",
      "Q26825    P570   ^-0420-01-01T00:00:00Z/9\r\n",
      "Q337579   P570   ^1793-01-01T00:00:00Z/9\r\n",
      "Q43353    P570   ^-0375-01-01T00:00:00Z/9\r\n",
      "Q5264     P570   ^-0370-01-01T00:00:00Z/9\r\n",
      "Q577906   P570   ^-0480-01-01T00:00:00Z/9\r\n"
     ]
    }
   ],
   "source": [
    "!head $NEW_DEATHYEAR | column -ts $'\\t'"
   ]
  },
  {
   "cell_type": "markdown",
   "id": "516debb1",
   "metadata": {},
   "source": [
    "Check if the founded results are matched:"
   ]
  },
  {
   "cell_type": "code",
   "execution_count": 37,
   "id": "ddfbe818",
   "metadata": {},
   "outputs": [],
   "source": [
    "!kgtk ifexists -i $DEATHYEAR \\\n",
    "    --filter-on $WIKI_DEATHDATE \\\n",
    "    --input-keys node1 \\\n",
    "    --filter-keys node1 \\\n",
    "    -o $MATCH_DEATHYEAR"
   ]
  },
  {
   "cell_type": "code",
   "execution_count": 38,
   "id": "bc6ccab1",
   "metadata": {},
   "outputs": [
    {
     "name": "stdout",
     "output_type": "stream",
     "text": [
      "count(DISTINCT graph_619_c1.\"node1\")\r\n",
      "183\r\n"
     ]
    }
   ],
   "source": [
    "!kgtk query -i $MATCH_DEATHYEAR \\\n",
    "    --match '(qnode)-[]->()' \\\n",
    "    --return 'count(distinct qnode)'"
   ]
  },
  {
   "cell_type": "code",
   "execution_count": 39,
   "id": "56c05acc",
   "metadata": {},
   "outputs": [
    {
     "name": "stdout",
     "output_type": "stream",
     "text": [
      "count(DISTINCT graph_597_c1.\"node1\")\r\n",
      "176\r\n"
     ]
    }
   ],
   "source": [
    "!kgtk query -i $DEATHYEAR $WIKI_DEATHDATE \\\n",
    "    --match 'd: (qnode)-[p]->(v1), w: (qnode)-[]->(v2)' \\\n",
    "    --where 'kgtk_date_year(v1) = kgtk_date_year(v2)' \\\n",
    "    --return 'count(distinct qnode)'"
   ]
  },
  {
   "cell_type": "markdown",
   "id": "fbe0c7f1",
   "metadata": {},
   "source": [
    "## Step 3: Query for birth place"
   ]
  },
  {
   "cell_type": "code",
   "execution_count": 40,
   "id": "e63856fa",
   "metadata": {},
   "outputs": [],
   "source": [
    "!kgtk query -i $SAMPLES $ULAN_AGENTMAP $ULAN_BIOGRAPHIES \\\n",
    "    --match 'samples: (ulanid)-[]->(qnode), \\\n",
    "             AgentMap: (ulanid)-[p0]->(ulanagent), \\\n",
    "             Biographies: (ulanagent)-[p1]->(ulanbio)-[p2]->(tgnplace)' \\\n",
    "    --where 'p0.label = \"foaf:focus\" AND p1.label = \"gvp:biographyPreferred\" \\\n",
    "             AND p2.label = \"schema:birthPlace\"' \\\n",
    "    --return 'distinct qnode as node1, \"P19\" as label, tgnplace as node2' \\\n",
    "    -o $BIRTHPLACE_TEMP"
   ]
  },
  {
   "cell_type": "code",
   "execution_count": 41,
   "id": "2eb9a6f9",
   "metadata": {},
   "outputs": [
    {
     "name": "stdout",
     "output_type": "stream",
     "text": [
      "134 /nas/home/bohuizha/KG/hunger-for-knowledge/data/gvp/output/temp.birthplace.tsv\r\n"
     ]
    }
   ],
   "source": [
    "!wc -l $BIRTHPLACE_TEMP"
   ]
  },
  {
   "cell_type": "code",
   "execution_count": 42,
   "id": "904c9ce9",
   "metadata": {},
   "outputs": [
    {
     "name": "stdout",
     "output_type": "stream",
     "text": [
      "count(DISTINCT graph_594_c1.\"node1\")\r\n",
      "133\r\n"
     ]
    }
   ],
   "source": [
    "!kgtk query -i $BIRTHPLACE_TEMP \\\n",
    "    --match '(ulanid)-[]->()' \\\n",
    "    --return 'count(distinct ulanid)'"
   ]
  },
  {
   "cell_type": "markdown",
   "id": "d7945d4f",
   "metadata": {},
   "source": [
    "### Map the birth place Getty nodes to Qnodes by using TGN identifiers\n",
    "Map relations:\n",
    "- P1667: `(Q1234567) - [P1667] -> (\"1234567\")`\n",
    "- TGN Subjects: `(tgn:1234567) - [dc:identifier] -> (\"1234567\")`\n",
    "- TGN PlaceMap: `(tgn:1234567) -[foaf:focus] -> (tgn:1234567-place)`\n",
    "\n",
    "We can build a alignment file that directly map TGN place (e.g. `tgn:1234567-place`) to Qndoes."
   ]
  },
  {
   "cell_type": "code",
   "execution_count": 44,
   "id": "c5233e5e",
   "metadata": {},
   "outputs": [],
   "source": [
    "!kgtk query -i $P1667 $TGN_SUBJECTS $TGN_PLACEMAP \\\n",
    "    --match 'r: (qnode)-[]->(identifier), s: (tgnid)-[p1]->(identifier), p: (tgnid)-[p2]->(tgnplace)' \\\n",
    "    --where 'p1.label = \"dc:identifier\" AND p2.label = \"foaf:focus\"' \\\n",
    "    --return 'tgnplace as node1, \"skos:exactMatch\" as label, qnode as node2' \\\n",
    "    -o $TGN_ALIGN"
   ]
  },
  {
   "cell_type": "code",
   "execution_count": 46,
   "id": "a8ab372a",
   "metadata": {},
   "outputs": [],
   "source": [
    "!kgtk query -i $BIRTHPLACE_TEMP $TGN_ALIGN \\\n",
    "    --match 'b: (qnode)-[p]->(tgnplace), WikiAlign: (tgnplace)-[]->(tgnqnode)' \\\n",
    "    --return 'qnode as node1, p.label as label, tgnqnode as node2' \\\n",
    "    -o $BIRTHPLACE"
   ]
  },
  {
   "cell_type": "code",
   "execution_count": 47,
   "id": "92ac1493",
   "metadata": {},
   "outputs": [
    {
     "name": "stdout",
     "output_type": "stream",
     "text": [
      "71 /nas/home/bohuizha/KG/hunger-for-knowledge/data/gvp/output/birthplace.tsv\r\n"
     ]
    }
   ],
   "source": [
    "!wc -l $BIRTHPLACE"
   ]
  },
  {
   "cell_type": "code",
   "execution_count": 48,
   "id": "17041ecc",
   "metadata": {},
   "outputs": [
    {
     "name": "stdout",
     "output_type": "stream",
     "text": [
      "count(DISTINCT graph_595_c1.\"node1\")\r\n",
      "70\r\n"
     ]
    }
   ],
   "source": [
    "!kgtk query -i $BIRTHPLACE \\\n",
    "    --match '(ulanid)-[]->()' \\\n",
    "    --return 'count(distinct ulanid)'"
   ]
  },
  {
   "cell_type": "markdown",
   "id": "58b980ae",
   "metadata": {},
   "source": [
    "Here we count for how many new birthplace we found in Getty:"
   ]
  },
  {
   "cell_type": "code",
   "execution_count": 49,
   "id": "c5b9a527",
   "metadata": {},
   "outputs": [],
   "source": [
    "!kgtk ifnotexists -i $BIRTHPLACE \\\n",
    "    --filter-on $WIKI_BIRTHPLACE \\\n",
    "    --input-keys node1 \\\n",
    "    --filter-keys node1 \\\n",
    "    -o $NEW_BIRTHPLACE"
   ]
  },
  {
   "cell_type": "code",
   "execution_count": 50,
   "id": "703b68a3",
   "metadata": {},
   "outputs": [
    {
     "name": "stdout",
     "output_type": "stream",
     "text": [
      "count(DISTINCT graph_612_c1.\"node1\")\r\n",
      "0\r\n"
     ]
    }
   ],
   "source": [
    "!kgtk query -i $NEW_BIRTHPLACE \\\n",
    "    --match '(qnode)-[]->()' \\\n",
    "    --return 'count(distinct qnode)'"
   ]
  },
  {
   "cell_type": "markdown",
   "id": "7c768221",
   "metadata": {},
   "source": [
    "Check if the founded results are matched:"
   ]
  },
  {
   "cell_type": "code",
   "execution_count": 51,
   "id": "918bc160",
   "metadata": {},
   "outputs": [],
   "source": [
    "!kgtk ifexists -i $BIRTHPLACE \\\n",
    "    --filter-on $WIKI_BIRTHPLACE \\\n",
    "    --input-keys node1 \\\n",
    "    --filter-keys node1 \\\n",
    "    -o $MATCH_BIRTHPLACE"
   ]
  },
  {
   "cell_type": "code",
   "execution_count": 52,
   "id": "8c060a1d",
   "metadata": {},
   "outputs": [
    {
     "name": "stdout",
     "output_type": "stream",
     "text": [
      "count(DISTINCT graph_621_c1.\"node1\")\r\n",
      "70\r\n"
     ]
    }
   ],
   "source": [
    "!kgtk query -i $MATCH_BIRTHPLACE \\\n",
    "    --match '(qnode)-[]->()' \\\n",
    "    --return 'count(distinct qnode)'"
   ]
  },
  {
   "cell_type": "code",
   "execution_count": 53,
   "id": "23d3483d",
   "metadata": {},
   "outputs": [
    {
     "name": "stdout",
     "output_type": "stream",
     "text": [
      "count(DISTINCT graph_595_c1.\"node1\")\r\n",
      "62\r\n"
     ]
    }
   ],
   "source": [
    "!kgtk query -i $BIRTHPLACE $WIKI_BIRTHPLACE \\\n",
    "    --match 'b: (qnode)-[p]->(v), w: (ulanid)-[]->(v)' \\\n",
    "    --return 'count(distinct qnode)'"
   ]
  },
  {
   "cell_type": "markdown",
   "id": "7f00dc6a",
   "metadata": {},
   "source": [
    "# Append the newly found years and places to the Arnold graph"
   ]
  },
  {
   "cell_type": "markdown",
   "id": "88a66808",
   "metadata": {},
   "source": [
    "Add id:"
   ]
  },
  {
   "cell_type": "code",
   "execution_count": 54,
   "id": "c1ea1318",
   "metadata": {},
   "outputs": [],
   "source": [
    "!kgtk add-id -i $NEW_BIRTHYEAR --id-style wikidata -o $BIRTHYEAR_WITHID"
   ]
  },
  {
   "cell_type": "code",
   "execution_count": 55,
   "id": "21235fce",
   "metadata": {},
   "outputs": [],
   "source": [
    "!kgtk add-id -i $NEW_DEATHYEAR --id-style wikidata -o $DEATHYEAR_WITHID"
   ]
  },
  {
   "cell_type": "code",
   "execution_count": 56,
   "id": "0be60a31",
   "metadata": {},
   "outputs": [],
   "source": [
    "!kgtk add-id -i $NEW_BIRTHPLACE --id-style wikidata -o $BIRTHPLACE_WITHID"
   ]
  },
  {
   "cell_type": "markdown",
   "id": "4c927fcd",
   "metadata": {},
   "source": [
    "Concatenate to Arnold graph:"
   ]
  },
  {
   "cell_type": "code",
   "execution_count": 57,
   "id": "9643994d",
   "metadata": {},
   "outputs": [],
   "source": [
    "!kgtk cat -i $ARNOLD $BIRTHYEAR_WITHID $DEATHYEAR_WITHID $BIRTHPLACE_WITHID -o $NEW_ARNOLD"
   ]
  },
  {
   "cell_type": "code",
   "execution_count": null,
   "id": "f8fb07fb",
   "metadata": {},
   "outputs": [],
   "source": []
  }
 ],
 "metadata": {
  "kernelspec": {
   "display_name": "Python 3",
   "language": "python",
   "name": "python3"
  },
  "language_info": {
   "codemirror_mode": {
    "name": "ipython",
    "version": 3
   },
   "file_extension": ".py",
   "mimetype": "text/x-python",
   "name": "python",
   "nbconvert_exporter": "python",
   "pygments_lexer": "ipython3",
   "version": "3.7.10"
  }
 },
 "nbformat": 4,
 "nbformat_minor": 5
}
