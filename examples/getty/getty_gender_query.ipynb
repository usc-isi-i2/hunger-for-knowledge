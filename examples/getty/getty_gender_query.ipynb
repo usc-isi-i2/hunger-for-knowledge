{
 "cells": [
  {
   "cell_type": "markdown",
   "id": "f316fb0e",
   "metadata": {},
   "source": [
    "# Getty Query Tutorial (Gender)\n",
    "In this notebook, we perform the similar hunger-for-knowledge procedure for gender in Wikidata and Getty Vocabulary. The main difference is that we generalize the query for single property to the property chain, this is, the path in kgtk."
   ]
  },
  {
   "cell_type": "code",
   "execution_count": 1,
   "id": "028e20b0",
   "metadata": {},
   "outputs": [],
   "source": [
    "import os\n",
    "import json\n",
    "import pandas as pd\n",
    "\n",
    "from kgtk.functions import kgtk, kypher"
   ]
  },
  {
   "cell_type": "markdown",
   "id": "fea94837",
   "metadata": {},
   "source": [
    "## Step 0: Set up environment paths\n",
    "Here we set needed Graph files and desired output files to environment paths."
   ]
  },
  {
   "cell_type": "code",
   "execution_count": 2,
   "id": "3ba1c188",
   "metadata": {
    "scrolled": false
   },
   "outputs": [
    {
     "name": "stdout",
     "output_type": "stream",
     "text": [
      "DATABASE: \"/nas/home/bohuizha/KG/hunger-for-knowledge/data/\"\n",
      "WIKIDATA: \"/nas/home/bohuizha/KG/hunger-for-knowledge/data/claims.tsv\"\n",
      "KGTK_LABEL_FILE: \"/nas/home/bohuizha/KG/hunger-for-knowledge/data/labels.en.tsv\"\n",
      "P31: \"/nas/home/bohuizha/KG/hunger-for-knowledge/data/P31.tsv\"\n",
      "P279STAR: \"/nas/home/bohuizha/KG/hunger-for-knowledge/data/P279star.tsv\"\n",
      "ULAN: \"/nas/home/bohuizha/KG/hunger-for-knowledge/data/gvp/ULAN/\"\n",
      "ULAN_GENDER_CONCAT_ID: \"/nas/home/bohuizha/KG/hunger-for-knowledge/data/gvp/ULAN/ulan.gender.concat.id.tsv\"\n",
      "ULAN_ALIGN: \"/nas/home/bohuizha/KG/hunger-for-knowledge/data/gvp/ULAN/wiki.align.tsv\"\n",
      "OUTPUT: \"/nas/home/bohuizha/KG/hunger-for-knowledge/data/gvp/gender_output/\"\n",
      "WIKI_GENDER: \"/nas/home/bohuizha/KG/hunger-for-knowledge/data/gvp/gender_output/wiki.gender.tsv\"\n",
      "WIKI_UNKNOWN: \"/nas/home/bohuizha/KG/hunger-for-knowledge/data/gvp/gender_output/wiki.unknown.tsv\"\n",
      "PAIRS: \"/nas/home/bohuizha/KG/hunger-for-knowledge/data/gvp/gender_output/pairs.tsv\"\n",
      "PATHS: \"/nas/home/bohuizha/KG/hunger-for-knowledge/data/gvp/gender_output/paths.tsv\"\n",
      "PATHS_LABEL: \"/nas/home/bohuizha/KG/hunger-for-knowledge/data/gvp/gender_output/paths.label.tsv\"\n",
      "GETTY_GENDER: \"/nas/home/bohuizha/KG/hunger-for-knowledge/data/gvp/gender_output/getty.gender.tsv\"\n",
      "GETTY_MAPPED: \"/nas/home/bohuizha/KG/hunger-for-knowledge/data/gvp/gender_output/getty.mapped.tsv\"\n",
      "GETTY_AGREE: \"/nas/home/bohuizha/KG/hunger-for-knowledge/data/gvp/gender_output/getty.agree.tsv\"\n",
      "CORRECT_TEMP_1: \"/nas/home/bohuizha/KG/hunger-for-knowledge/data/gvp/gender_output/correct.temp.1.tsv\"\n",
      "CORRECT_TEMP_2: \"/nas/home/bohuizha/KG/hunger-for-knowledge/data/gvp/gender_output/correct.temp.2.tsv\"\n",
      "INCORRECT_TEMP: \"/nas/home/bohuizha/KG/hunger-for-knowledge/data/gvp/gender_output/incorrect.temp.tsv\"\n",
      "CORRECT: \"/nas/home/bohuizha/KG/hunger-for-knowledge/data/gvp/gender_output/correct.tsv\"\n",
      "INCORRECT: \"/nas/home/bohuizha/KG/hunger-for-knowledge/data/gvp/gender_output/incorrect.tsv\"\n",
      "UNKNOWN: \"/nas/home/bohuizha/KG/hunger-for-knowledge/data/gvp/gender_output/unknown.tsv\"\n"
     ]
    }
   ],
   "source": [
    "# We will define environment variables to hold the full paths to the files as we will use them in the shell commands\n",
    "kgtk_environment_variables = []\n",
    "\n",
    "# Folder where database files store\n",
    "data_path = \"/nas/home/bohuizha/KG/hunger-for-knowledge/data/\"\n",
    "os.environ['DATABASE'] = data_path\n",
    "kgtk_environment_variables.append('DATABASE')\n",
    "\n",
    "# Wikidata (all is much less than claims)\n",
    "os.environ['WIKIDATA'] = data_path + \"claims.tsv\"\n",
    "kgtk_environment_variables.append('WIKIDATA')\n",
    "\n",
    "# Label file of Wikidata\n",
    "os.environ['KGTK_LABEL_FILE'] = data_path + \"labels.en.tsv\"\n",
    "kgtk_environment_variables.append('KGTK_LABEL_FILE')\n",
    "\n",
    "# P31\n",
    "os.environ['P31'] = data_path + \"P31.tsv\"\n",
    "kgtk_environment_variables.append('P31')\n",
    "\n",
    "# P279star\n",
    "os.environ['P279STAR'] = data_path + \"P279star.tsv\"\n",
    "kgtk_environment_variables.append('P279STAR')\n",
    "\n",
    "# Folder of ULAN\n",
    "ulan_path = data_path + \"gvp/ULAN/\"\n",
    "os.environ['ULAN'] = ulan_path\n",
    "kgtk_environment_variables.append('ULAN')\n",
    "\n",
    "# File concatenated by used explicit files: ULAN Subjects, AgentMap, Biographies, AAT-Wikidata Alignment\n",
    "# The suffix ID means we performed add-id operation to the graph to meet the requirement of paths command.\n",
    "ulan_concat_path = ulan_path + \"ulan.gender.concat.id.tsv\"\n",
    "os.environ['ULAN_GENDER_CONCAT_ID'] = ulan_concat_path\n",
    "kgtk_environment_variables.append('ULAN_GENDER_CONCAT_ID')\n",
    "\n",
    "# ULAN-Wikidata alignment file, maps ULAN ID to Wikidata Qnode\n",
    "ulan_wikialign_path = ulan_path + \"wiki.align.tsv\"\n",
    "os.environ['ULAN_ALIGN'] = ulan_wikialign_path\n",
    "kgtk_environment_variables.append('ULAN_ALIGN')\n",
    "\n",
    "# Output\n",
    "output_path = data_path + \"gvp/gender_output/\"\n",
    "if not os.path.exists(output_path):\n",
    "    os.mkdir(output_path)\n",
    "os.environ['OUTPUT'] = output_path\n",
    "kgtk_environment_variables.append('OUTPUT')\n",
    "\n",
    "# Each file will be explained later in the procedure\n",
    "output_names = {\n",
    "    \"wiki_gender\": \"wiki.gender.tsv\",\n",
    "    \"wiki_unknown\": \"wiki.unknown.tsv\",\n",
    "    \"pairs\": \"pairs.tsv\",\n",
    "    \"paths\": \"paths.tsv\",\n",
    "    \"paths_label\": \"paths.label.tsv\",\n",
    "    \"getty_gender\": \"getty.gender.tsv\",\n",
    "    \"getty_mapped\": \"getty.mapped.tsv\",\n",
    "    \"getty_agree\": \"getty.agree.tsv\",\n",
    "    \"correct_temp_1\": \"correct.temp.1.tsv\",\n",
    "    \"correct_temp_2\": \"correct.temp.2.tsv\",\n",
    "    \"incorrect_temp\": \"incorrect.temp.tsv\",\n",
    "    \"correct\": \"correct.tsv\",\n",
    "    \"incorrect\": \"incorrect.tsv\",\n",
    "    \"unknown\": \"unknown.tsv\"\n",
    "}\n",
    "\n",
    "for key, value in output_names.items():\n",
    "    variable = key.upper()\n",
    "    os.environ[variable] = os.path.join(output_path, value)\n",
    "    kgtk_environment_variables.append(variable)\n",
    "\n",
    "for variable in kgtk_environment_variables:\n",
    "    print(\"{}: \\\"{}\\\"\".format(variable, os.environ[variable]))"
   ]
  },
  {
   "cell_type": "markdown",
   "id": "46481af9",
   "metadata": {},
   "source": [
    "## Step 1: Query Wikidata\n",
    "Query Wikidata for PoB for people that have an ULAN ID (92k people)"
   ]
  },
  {
   "cell_type": "code",
   "execution_count": 3,
   "id": "eff39793",
   "metadata": {},
   "outputs": [
    {
     "data": {
      "text/html": [
       "<div>\n",
       "<style scoped>\n",
       "    .dataframe tbody tr th:only-of-type {\n",
       "        vertical-align: middle;\n",
       "    }\n",
       "\n",
       "    .dataframe tbody tr th {\n",
       "        vertical-align: top;\n",
       "    }\n",
       "\n",
       "    .dataframe thead th {\n",
       "        text-align: right;\n",
       "    }\n",
       "</style>\n",
       "<table border=\"1\" class=\"dataframe\">\n",
       "  <thead>\n",
       "    <tr style=\"text-align: right;\">\n",
       "      <th></th>\n",
       "      <th>count(DISTINCT graph_627_c1.\"node1\")</th>\n",
       "    </tr>\n",
       "  </thead>\n",
       "  <tbody>\n",
       "    <tr>\n",
       "      <th>0</th>\n",
       "      <td>92353</td>\n",
       "    </tr>\n",
       "  </tbody>\n",
       "</table>\n",
       "</div>"
      ],
      "text/plain": [
       "   count(DISTINCT graph_627_c1.\"node1\")\n",
       "0                                 92353"
      ]
     },
     "execution_count": 3,
     "metadata": {},
     "output_type": "execute_result"
    }
   ],
   "source": [
    "# count total people \n",
    "# ULAN ID\n",
    "kgtk(\"\"\"\n",
    "    query -i $ULAN_ALIGN \n",
    "        --match '(ulanid)-[]->(qnode)'\n",
    "        --return 'count(distinct ulanid)'\n",
    "    \"\"\")"
   ]
  },
  {
   "cell_type": "code",
   "execution_count": 4,
   "id": "e2612748",
   "metadata": {},
   "outputs": [
    {
     "data": {
      "text/html": [
       "<div>\n",
       "<style scoped>\n",
       "    .dataframe tbody tr th:only-of-type {\n",
       "        vertical-align: middle;\n",
       "    }\n",
       "\n",
       "    .dataframe tbody tr th {\n",
       "        vertical-align: top;\n",
       "    }\n",
       "\n",
       "    .dataframe thead th {\n",
       "        text-align: right;\n",
       "    }\n",
       "</style>\n",
       "<table border=\"1\" class=\"dataframe\">\n",
       "  <thead>\n",
       "    <tr style=\"text-align: right;\">\n",
       "      <th></th>\n",
       "      <th>count(DISTINCT graph_627_c1.\"node2\")</th>\n",
       "    </tr>\n",
       "  </thead>\n",
       "  <tbody>\n",
       "    <tr>\n",
       "      <th>0</th>\n",
       "      <td>92210</td>\n",
       "    </tr>\n",
       "  </tbody>\n",
       "</table>\n",
       "</div>"
      ],
      "text/plain": [
       "   count(DISTINCT graph_627_c1.\"node2\")\n",
       "0                                 92210"
      ]
     },
     "execution_count": 4,
     "metadata": {},
     "output_type": "execute_result"
    }
   ],
   "source": [
    "# Qnode\n",
    "kgtk(\"\"\"\n",
    "    query -i $ULAN_ALIGN \n",
    "        --match '(ulanid)-[]->(qnode)'\n",
    "        --return 'count(distinct qnode)'\n",
    "    \"\"\")"
   ]
  },
  {
   "cell_type": "code",
   "execution_count": 4,
   "id": "55f19c3e",
   "metadata": {},
   "outputs": [
    {
     "name": "stdout",
     "output_type": "stream",
     "text": [
      "CPU times: user 44.6 ms, sys: 26.7 ms, total: 71.3 ms\n",
      "Wall time: 1min 23s\n"
     ]
    },
    {
     "data": {
      "text/html": [
       "<div>\n",
       "<style scoped>\n",
       "    .dataframe tbody tr th:only-of-type {\n",
       "        vertical-align: middle;\n",
       "    }\n",
       "\n",
       "    .dataframe tbody tr th {\n",
       "        vertical-align: top;\n",
       "    }\n",
       "\n",
       "    .dataframe thead th {\n",
       "        text-align: right;\n",
       "    }\n",
       "</style>\n",
       "<table border=\"1\" class=\"dataframe\">\n",
       "  <thead>\n",
       "    <tr style=\"text-align: right;\">\n",
       "      <th></th>\n",
       "      <th>node1</th>\n",
       "      <th>label</th>\n",
       "      <th>node2</th>\n",
       "      <th>label;label</th>\n",
       "      <th>node2;label</th>\n",
       "    </tr>\n",
       "  </thead>\n",
       "  <tbody>\n",
       "    <tr>\n",
       "      <th>0</th>\n",
       "      <td>ulan:500023949</td>\n",
       "      <td>P21</td>\n",
       "      <td>Q6581097</td>\n",
       "      <td>'sex or gender'@en</td>\n",
       "      <td>'male'@en</td>\n",
       "    </tr>\n",
       "    <tr>\n",
       "      <th>1</th>\n",
       "      <td>ulan:500123827</td>\n",
       "      <td>P21</td>\n",
       "      <td>Q6581097</td>\n",
       "      <td>'sex or gender'@en</td>\n",
       "      <td>'male'@en</td>\n",
       "    </tr>\n",
       "    <tr>\n",
       "      <th>2</th>\n",
       "      <td>ulan:500223082</td>\n",
       "      <td>P21</td>\n",
       "      <td>Q6581097</td>\n",
       "      <td>'sex or gender'@en</td>\n",
       "      <td>'male'@en</td>\n",
       "    </tr>\n",
       "    <tr>\n",
       "      <th>3</th>\n",
       "      <td>ulan:500108173</td>\n",
       "      <td>P21</td>\n",
       "      <td>Q6581097</td>\n",
       "      <td>'sex or gender'@en</td>\n",
       "      <td>'male'@en</td>\n",
       "    </tr>\n",
       "    <tr>\n",
       "      <th>4</th>\n",
       "      <td>ulan:500072302</td>\n",
       "      <td>P21</td>\n",
       "      <td>Q6581072</td>\n",
       "      <td>'sex or gender'@en</td>\n",
       "      <td>'female'@en</td>\n",
       "    </tr>\n",
       "    <tr>\n",
       "      <th>5</th>\n",
       "      <td>ulan:500091345</td>\n",
       "      <td>P21</td>\n",
       "      <td>Q6581097</td>\n",
       "      <td>'sex or gender'@en</td>\n",
       "      <td>'male'@en</td>\n",
       "    </tr>\n",
       "    <tr>\n",
       "      <th>6</th>\n",
       "      <td>ulan:500059872</td>\n",
       "      <td>P21</td>\n",
       "      <td>Q6581097</td>\n",
       "      <td>'sex or gender'@en</td>\n",
       "      <td>'male'@en</td>\n",
       "    </tr>\n",
       "    <tr>\n",
       "      <th>7</th>\n",
       "      <td>ulan:500020713</td>\n",
       "      <td>P21</td>\n",
       "      <td>Q6581097</td>\n",
       "      <td>'sex or gender'@en</td>\n",
       "      <td>'male'@en</td>\n",
       "    </tr>\n",
       "    <tr>\n",
       "      <th>8</th>\n",
       "      <td>ulan:500160869</td>\n",
       "      <td>P21</td>\n",
       "      <td>Q6581097</td>\n",
       "      <td>'sex or gender'@en</td>\n",
       "      <td>'male'@en</td>\n",
       "    </tr>\n",
       "    <tr>\n",
       "      <th>9</th>\n",
       "      <td>ulan:500108146</td>\n",
       "      <td>P21</td>\n",
       "      <td>Q6581097</td>\n",
       "      <td>'sex or gender'@en</td>\n",
       "      <td>'male'@en</td>\n",
       "    </tr>\n",
       "  </tbody>\n",
       "</table>\n",
       "</div>"
      ],
      "text/plain": [
       "            node1 label     node2         label;label  node2;label\n",
       "0  ulan:500023949   P21  Q6581097  'sex or gender'@en    'male'@en\n",
       "1  ulan:500123827   P21  Q6581097  'sex or gender'@en    'male'@en\n",
       "2  ulan:500223082   P21  Q6581097  'sex or gender'@en    'male'@en\n",
       "3  ulan:500108173   P21  Q6581097  'sex or gender'@en    'male'@en\n",
       "4  ulan:500072302   P21  Q6581072  'sex or gender'@en  'female'@en\n",
       "5  ulan:500091345   P21  Q6581097  'sex or gender'@en    'male'@en\n",
       "6  ulan:500059872   P21  Q6581097  'sex or gender'@en    'male'@en\n",
       "7  ulan:500020713   P21  Q6581097  'sex or gender'@en    'male'@en\n",
       "8  ulan:500160869   P21  Q6581097  'sex or gender'@en    'male'@en\n",
       "9  ulan:500108146   P21  Q6581097  'sex or gender'@en    'male'@en"
      ]
     },
     "execution_count": 4,
     "metadata": {},
     "output_type": "execute_result"
    }
   ],
   "source": [
    "%%time\n",
    "kgtk(\"\"\"\n",
    "    query -i $ULAN_ALIGN $WIKIDATA\n",
    "        --match 'w: (ulanid)-[]->(qnode), \n",
    "                 a: (qnode)-[:P21]->(gender)' \n",
    "        --return 'distinct ulanid as node1, \"P21\" as label, gender as node2'\n",
    "        --limit 10\n",
    "    / add-labels\n",
    "    \"\"\")"
   ]
  },
  {
   "cell_type": "code",
   "execution_count": 5,
   "id": "d9a508af",
   "metadata": {},
   "outputs": [
    {
     "name": "stdout",
     "output_type": "stream",
     "text": [
      "CPU times: user 21.1 ms, sys: 16.2 ms, total: 37.3 ms\n",
      "Wall time: 35.7 s\n"
     ]
    }
   ],
   "source": [
    "%%time\n",
    "kgtk(\"\"\"\n",
    "    query -i $ULAN_ALIGN $WIKIDATA\n",
    "        --match 'w: (ulanid)-[]->(qnode), \n",
    "                 a: (qnode)-[:P21]->(gender)' \n",
    "        --return 'distinct ulanid as node1, \"P21\" as label, gender as node2'\n",
    "        -o $WIKI_GENDER\n",
    "    \"\"\")"
   ]
  },
  {
   "cell_type": "markdown",
   "id": "5b4e542c",
   "metadata": {},
   "source": [
    "## Step 2: Record Known and Unknown"
   ]
  },
  {
   "cell_type": "code",
   "execution_count": 6,
   "id": "a1bfe0b0",
   "metadata": {},
   "outputs": [
    {
     "data": {
      "text/html": [
       "<div>\n",
       "<style scoped>\n",
       "    .dataframe tbody tr th:only-of-type {\n",
       "        vertical-align: middle;\n",
       "    }\n",
       "\n",
       "    .dataframe tbody tr th {\n",
       "        vertical-align: top;\n",
       "    }\n",
       "\n",
       "    .dataframe thead th {\n",
       "        text-align: right;\n",
       "    }\n",
       "</style>\n",
       "<table border=\"1\" class=\"dataframe\">\n",
       "  <thead>\n",
       "    <tr style=\"text-align: right;\">\n",
       "      <th></th>\n",
       "      <th>count(DISTINCT graph_654_c1.\"node1\")</th>\n",
       "    </tr>\n",
       "  </thead>\n",
       "  <tbody>\n",
       "    <tr>\n",
       "      <th>0</th>\n",
       "      <td>89307</td>\n",
       "    </tr>\n",
       "  </tbody>\n",
       "</table>\n",
       "</div>"
      ],
      "text/plain": [
       "   count(DISTINCT graph_654_c1.\"node1\")\n",
       "0                                 89307"
      ]
     },
     "execution_count": 6,
     "metadata": {},
     "output_type": "execute_result"
    }
   ],
   "source": [
    "# count known ULAN IDs\n",
    "kgtk(\"\"\"\n",
    "    query -i $WIKI_GENDER\n",
    "        --match '(ulanid)-[]->(gender)' \n",
    "        --return 'count(distinct ulanid)'\n",
    "    \"\"\")"
   ]
  },
  {
   "cell_type": "code",
   "execution_count": 5,
   "id": "00eba3bc",
   "metadata": {},
   "outputs": [
    {
     "data": {
      "text/html": [
       "<div>\n",
       "<style scoped>\n",
       "    .dataframe tbody tr th:only-of-type {\n",
       "        vertical-align: middle;\n",
       "    }\n",
       "\n",
       "    .dataframe tbody tr th {\n",
       "        vertical-align: top;\n",
       "    }\n",
       "\n",
       "    .dataframe thead th {\n",
       "        text-align: right;\n",
       "    }\n",
       "</style>\n",
       "<table border=\"1\" class=\"dataframe\">\n",
       "  <thead>\n",
       "    <tr style=\"text-align: right;\">\n",
       "      <th></th>\n",
       "      <th>count(DISTINCT graph_627_c2.\"node2\")</th>\n",
       "    </tr>\n",
       "  </thead>\n",
       "  <tbody>\n",
       "    <tr>\n",
       "      <th>0</th>\n",
       "      <td>89188</td>\n",
       "    </tr>\n",
       "  </tbody>\n",
       "</table>\n",
       "</div>"
      ],
      "text/plain": [
       "   count(DISTINCT graph_627_c2.\"node2\")\n",
       "0                                 89188"
      ]
     },
     "execution_count": 5,
     "metadata": {},
     "output_type": "execute_result"
    }
   ],
   "source": [
    "# count known Qnodes\n",
    "kgtk(\"\"\"\n",
    "    query -i $WIKI_GENDER $ULAN_ALIGN\n",
    "        --match 'g: (ulanid)-[]->(nation), a: (ulanid)-[]->(qnode)' \n",
    "        --return 'count(distinct qnode)'\n",
    "    \"\"\")"
   ]
  },
  {
   "cell_type": "markdown",
   "id": "10d5c560",
   "metadata": {},
   "source": [
    "Filter unknow in ULAN-Wikidata alignment"
   ]
  },
  {
   "cell_type": "code",
   "execution_count": 7,
   "id": "e9e30b0a",
   "metadata": {},
   "outputs": [
    {
     "name": "stdout",
     "output_type": "stream",
     "text": [
      "CPU times: user 6.02 ms, sys: 8.92 ms, total: 14.9 ms\n",
      "Wall time: 4.78 s\n"
     ]
    }
   ],
   "source": [
    "%%time\n",
    "kgtk(\"\"\"\n",
    "    ifnotexists -i $ULAN_ALIGN \n",
    "        --filter-on $WIKI_GENDER \n",
    "        --input-keys node1 \n",
    "        --filter-keys node1 \n",
    "        -o $WIKI_UNKNOWN\n",
    "    \"\"\")"
   ]
  },
  {
   "cell_type": "code",
   "execution_count": 8,
   "id": "a2635315",
   "metadata": {},
   "outputs": [
    {
     "data": {
      "text/html": [
       "<div>\n",
       "<style scoped>\n",
       "    .dataframe tbody tr th:only-of-type {\n",
       "        vertical-align: middle;\n",
       "    }\n",
       "\n",
       "    .dataframe tbody tr th {\n",
       "        vertical-align: top;\n",
       "    }\n",
       "\n",
       "    .dataframe thead th {\n",
       "        text-align: right;\n",
       "    }\n",
       "</style>\n",
       "<table border=\"1\" class=\"dataframe\">\n",
       "  <thead>\n",
       "    <tr style=\"text-align: right;\">\n",
       "      <th></th>\n",
       "      <th>count(DISTINCT graph_655_c1.\"node1\")</th>\n",
       "    </tr>\n",
       "  </thead>\n",
       "  <tbody>\n",
       "    <tr>\n",
       "      <th>0</th>\n",
       "      <td>3046</td>\n",
       "    </tr>\n",
       "  </tbody>\n",
       "</table>\n",
       "</div>"
      ],
      "text/plain": [
       "   count(DISTINCT graph_655_c1.\"node1\")\n",
       "0                                  3046"
      ]
     },
     "execution_count": 8,
     "metadata": {},
     "output_type": "execute_result"
    }
   ],
   "source": [
    "# count unknown ULAN IDs\n",
    "kgtk(\"\"\"\n",
    "    query -i $WIKI_UNKNOWN\n",
    "        --match '(ulanid)-[]->(qnode)'\n",
    "        --return 'count(distinct ulanid)'\n",
    "    \"\"\")"
   ]
  },
  {
   "cell_type": "code",
   "execution_count": 6,
   "id": "936fc904",
   "metadata": {},
   "outputs": [
    {
     "data": {
      "text/html": [
       "<div>\n",
       "<style scoped>\n",
       "    .dataframe tbody tr th:only-of-type {\n",
       "        vertical-align: middle;\n",
       "    }\n",
       "\n",
       "    .dataframe tbody tr th {\n",
       "        vertical-align: top;\n",
       "    }\n",
       "\n",
       "    .dataframe thead th {\n",
       "        text-align: right;\n",
       "    }\n",
       "</style>\n",
       "<table border=\"1\" class=\"dataframe\">\n",
       "  <thead>\n",
       "    <tr style=\"text-align: right;\">\n",
       "      <th></th>\n",
       "      <th>count(DISTINCT graph_655_c1.\"node2\")</th>\n",
       "    </tr>\n",
       "  </thead>\n",
       "  <tbody>\n",
       "    <tr>\n",
       "      <th>0</th>\n",
       "      <td>3022</td>\n",
       "    </tr>\n",
       "  </tbody>\n",
       "</table>\n",
       "</div>"
      ],
      "text/plain": [
       "   count(DISTINCT graph_655_c1.\"node2\")\n",
       "0                                  3022"
      ]
     },
     "execution_count": 6,
     "metadata": {},
     "output_type": "execute_result"
    }
   ],
   "source": [
    "# count unknown Qnodes\n",
    "kgtk(\"\"\"\n",
    "    query -i $WIKI_UNKNOWN\n",
    "        --match '(ulanid)-[]->(qnode)'\n",
    "        --return 'count(distinct qnode)'\n",
    "    \"\"\")"
   ]
  },
  {
   "cell_type": "markdown",
   "id": "c3abc39d",
   "metadata": {},
   "source": [
    "## Step 3: Query Getty\n",
    "Based on the known PoB for people, query Getty. Before we perform single property query (we can consider it as 1 hop paths query), this time, we generalize to paths between known pairs (Subjects, Objects). Similarily we will compute the distributions of found paths and pick the top 1 path (property chain). "
   ]
  },
  {
   "cell_type": "markdown",
   "id": "eba6279c",
   "metadata": {},
   "source": [
    "### 3-1: Build Pairs from Wikidata Results \n",
    "Pairs file is needed for performing kgtk paths operation as the query objects."
   ]
  },
  {
   "cell_type": "code",
   "execution_count": 26,
   "id": "9667a958",
   "metadata": {},
   "outputs": [
    {
     "name": "stdout",
     "output_type": "stream",
     "text": [
      "CPU times: user 14.6 ms, sys: 20.2 ms, total: 34.8 ms\n",
      "Wall time: 6.19 s\n"
     ]
    }
   ],
   "source": [
    "%%time\n",
    "kgtk(\"\"\"\n",
    "    query -i $WIKI_GENDER\n",
    "        --match '(ulanid)-[]->(gender)'\n",
    "        --return 'distinct ulanid as source, gender as target'\n",
    "        --limit 100\n",
    "        -o $PAIRS\n",
    "    \"\"\")"
   ]
  },
  {
   "cell_type": "code",
   "execution_count": 27,
   "id": "be793da3",
   "metadata": {},
   "outputs": [
    {
     "name": "stdout",
     "output_type": "stream",
     "text": [
      "source          target\r\n",
      "ulan:500023949  Q6581097\r\n",
      "ulan:500123827  Q6581097\r\n",
      "ulan:500223082  Q6581097\r\n",
      "ulan:500108173  Q6581097\r\n",
      "ulan:500072302  Q6581072\r\n",
      "ulan:500091345  Q6581097\r\n",
      "ulan:500059872  Q6581097\r\n",
      "ulan:500020713  Q6581097\r\n",
      "ulan:500160869  Q6581097\r\n"
     ]
    }
   ],
   "source": [
    "!head $PAIRS | column -ts $'\\t'"
   ]
  },
  {
   "cell_type": "markdown",
   "id": "a6f6bf9e",
   "metadata": {},
   "source": [
    "### 3-2: Perform Paths Mapping\n",
    "This step is the core step of this query and it is also the bottleneck of running this procedure."
   ]
  },
  {
   "cell_type": "code",
   "execution_count": 28,
   "id": "9cecdbb4",
   "metadata": {},
   "outputs": [
    {
     "name": "stdout",
     "output_type": "stream",
     "text": [
      "CPU times: user 354 ms, sys: 211 ms, total: 565 ms\n",
      "Wall time: 2min 47s\n"
     ]
    }
   ],
   "source": [
    "%%time\n",
    "kgtk(\"\"\"\n",
    "    paths --max_hops 4\n",
    "        --path-file $PAIRS\n",
    "        --path-mode NONE \n",
    "        --path-source source\n",
    "        --path-target target\n",
    "        -i $ULAN_GENDER_CONCAT_ID\n",
    "        --statistics-only\n",
    "        -o $PATHS\n",
    "    \"\"\")"
   ]
  },
  {
   "cell_type": "code",
   "execution_count": 29,
   "id": "7759b550",
   "metadata": {},
   "outputs": [
    {
     "name": "stdout",
     "output_type": "stream",
     "text": [
      "node1\tlabel\tnode2\tid\r\n",
      "p0\t0\tulan:500072302:foaf:focus:ulan:500072302-agent\tp0-0-0\r\n",
      "p0\t1\tulan:500072302-agent:gvp:biographyPreferred:ulan_bio:4000127583\tp0-1-1\r\n",
      "p0\t2\tulan_bio:4000127583:schema:gender:aat:300189557\tp0-2-2\r\n",
      "p0\t3\taat:300189557:skos:exactMatch:Q6581072\tp0-3-3\r\n",
      "p1\t0\tulan:500072302:foaf:focus:ulan:500072302-agent\tp1-0-4\r\n",
      "p1\t1\tulan:500072302-agent:gvp:biographyNonPreferred:ulan_bio:4000798933\tp1-1-5\r\n",
      "p1\t2\tulan_bio:4000798933:schema:gender:aat:300189557\tp1-2-6\r\n",
      "p1\t3\taat:300189557:skos:exactMatch:Q6581072\tp1-3-7\r\n",
      "p2\t0\tulan:500099612:foaf:focus:ulan:500099612-agent\tp2-0-8\r\n"
     ]
    }
   ],
   "source": [
    "!head $PATHS"
   ]
  },
  {
   "cell_type": "markdown",
   "id": "f6a31f6a",
   "metadata": {},
   "source": [
    "### 3-3: Select the Top 1 Property Chain\n",
    "Here we use Pandas to sort the top 1 property chain. "
   ]
  },
  {
   "cell_type": "code",
   "execution_count": 30,
   "id": "7b2d4d2d",
   "metadata": {},
   "outputs": [
    {
     "data": {
      "text/plain": [
       "node2                                                             \n",
       "foaf:focus gvp:biographyPreferred schema:gender skos:exactMatch       27\n",
       "foaf:focus gvp:biographyNonPreferred schema:gender skos:exactMatch    15\n",
       "dtype: int64"
      ]
     },
     "execution_count": 30,
     "metadata": {},
     "output_type": "execute_result"
    }
   ],
   "source": [
    "# load paths.tsv file\n",
    "paths = pd.read_csv(os.environ['PATHS'], sep='\\t')\n",
    "# process property: since paths command generate id as node2, we need to further extract property from it\n",
    "paths.node2 = paths.node2.apply(lambda x: ':'.join(x.split(':')[2:4]))\n",
    "# save processed property\n",
    "paths.to_csv(os.environ['PATHS_LABEL'], sep='\\t', index=False)\n",
    "# join property chain for each found path\n",
    "paths_concat = paths.groupby(paths['node1']).agg({'node2': lambda x: ' '.join(list(x))})\n",
    "# sort the top \n",
    "paths_concat.value_counts()#.head(1)"
   ]
  },
  {
   "cell_type": "markdown",
   "id": "6635cd58",
   "metadata": {},
   "source": [
    "### 3-4: Query Getty Using the Property Chain\n",
    "Query Getty for the values of the unknown people, with the found property chain: `(ulanid)-[foaf:focus]->()-[gvp:biographyPreferred]->()-[schema:gender]->()-[skos:exactMatch]->(Qnode of Gender)`"
   ]
  },
  {
   "cell_type": "code",
   "execution_count": 31,
   "id": "8e883c65",
   "metadata": {},
   "outputs": [
    {
     "name": "stdout",
     "output_type": "stream",
     "text": [
      "CPU times: user 339 ms, sys: 162 ms, total: 501 ms\n",
      "Wall time: 2min 27s\n"
     ]
    },
    {
     "data": {
      "text/html": [
       "<div>\n",
       "<style scoped>\n",
       "    .dataframe tbody tr th:only-of-type {\n",
       "        vertical-align: middle;\n",
       "    }\n",
       "\n",
       "    .dataframe tbody tr th {\n",
       "        vertical-align: top;\n",
       "    }\n",
       "\n",
       "    .dataframe thead th {\n",
       "        text-align: right;\n",
       "    }\n",
       "</style>\n",
       "<table border=\"1\" class=\"dataframe\">\n",
       "  <thead>\n",
       "    <tr style=\"text-align: right;\">\n",
       "      <th></th>\n",
       "      <th>node1</th>\n",
       "      <th>label</th>\n",
       "      <th>node2</th>\n",
       "      <th>label;label</th>\n",
       "      <th>node2;label</th>\n",
       "    </tr>\n",
       "  </thead>\n",
       "  <tbody>\n",
       "    <tr>\n",
       "      <th>0</th>\n",
       "      <td>ulan:500000767</td>\n",
       "      <td>P21</td>\n",
       "      <td>Q44148</td>\n",
       "      <td>'sex or gender'@en</td>\n",
       "      <td>'male organism'@en</td>\n",
       "    </tr>\n",
       "    <tr>\n",
       "      <th>1</th>\n",
       "      <td>ulan:500001474</td>\n",
       "      <td>P21</td>\n",
       "      <td>Q43445</td>\n",
       "      <td>'sex or gender'@en</td>\n",
       "      <td>'female organism'@en</td>\n",
       "    </tr>\n",
       "    <tr>\n",
       "      <th>2</th>\n",
       "      <td>ulan:500001474</td>\n",
       "      <td>P21</td>\n",
       "      <td>Q6581072</td>\n",
       "      <td>'sex or gender'@en</td>\n",
       "      <td>'female'@en</td>\n",
       "    </tr>\n",
       "    <tr>\n",
       "      <th>3</th>\n",
       "      <td>ulan:500001678</td>\n",
       "      <td>P21</td>\n",
       "      <td>Q44148</td>\n",
       "      <td>'sex or gender'@en</td>\n",
       "      <td>'male organism'@en</td>\n",
       "    </tr>\n",
       "    <tr>\n",
       "      <th>4</th>\n",
       "      <td>ulan:500002563</td>\n",
       "      <td>P21</td>\n",
       "      <td>Q44148</td>\n",
       "      <td>'sex or gender'@en</td>\n",
       "      <td>'male organism'@en</td>\n",
       "    </tr>\n",
       "    <tr>\n",
       "      <th>5</th>\n",
       "      <td>ulan:500003826</td>\n",
       "      <td>P21</td>\n",
       "      <td>Q44148</td>\n",
       "      <td>'sex or gender'@en</td>\n",
       "      <td>'male organism'@en</td>\n",
       "    </tr>\n",
       "    <tr>\n",
       "      <th>6</th>\n",
       "      <td>ulan:500003921</td>\n",
       "      <td>P21</td>\n",
       "      <td>Q44148</td>\n",
       "      <td>'sex or gender'@en</td>\n",
       "      <td>'male organism'@en</td>\n",
       "    </tr>\n",
       "    <tr>\n",
       "      <th>7</th>\n",
       "      <td>ulan:500004056</td>\n",
       "      <td>P21</td>\n",
       "      <td>Q44148</td>\n",
       "      <td>'sex or gender'@en</td>\n",
       "      <td>'male organism'@en</td>\n",
       "    </tr>\n",
       "    <tr>\n",
       "      <th>8</th>\n",
       "      <td>ulan:500005174</td>\n",
       "      <td>P21</td>\n",
       "      <td>Q44148</td>\n",
       "      <td>'sex or gender'@en</td>\n",
       "      <td>'male organism'@en</td>\n",
       "    </tr>\n",
       "    <tr>\n",
       "      <th>9</th>\n",
       "      <td>ulan:500005840</td>\n",
       "      <td>P21</td>\n",
       "      <td>Q44148</td>\n",
       "      <td>'sex or gender'@en</td>\n",
       "      <td>'male organism'@en</td>\n",
       "    </tr>\n",
       "  </tbody>\n",
       "</table>\n",
       "</div>"
      ],
      "text/plain": [
       "            node1 label     node2         label;label           node2;label\n",
       "0  ulan:500000767   P21    Q44148  'sex or gender'@en    'male organism'@en\n",
       "1  ulan:500001474   P21    Q43445  'sex or gender'@en  'female organism'@en\n",
       "2  ulan:500001474   P21  Q6581072  'sex or gender'@en           'female'@en\n",
       "3  ulan:500001678   P21    Q44148  'sex or gender'@en    'male organism'@en\n",
       "4  ulan:500002563   P21    Q44148  'sex or gender'@en    'male organism'@en\n",
       "5  ulan:500003826   P21    Q44148  'sex or gender'@en    'male organism'@en\n",
       "6  ulan:500003921   P21    Q44148  'sex or gender'@en    'male organism'@en\n",
       "7  ulan:500004056   P21    Q44148  'sex or gender'@en    'male organism'@en\n",
       "8  ulan:500005174   P21    Q44148  'sex or gender'@en    'male organism'@en\n",
       "9  ulan:500005840   P21    Q44148  'sex or gender'@en    'male organism'@en"
      ]
     },
     "execution_count": 31,
     "metadata": {},
     "output_type": "execute_result"
    }
   ],
   "source": [
    "%%time\n",
    "kgtk(\"\"\"\n",
    "    query -i $WIKI_UNKNOWN $ULAN_GENDER_CONCAT_ID\n",
    "        --match 'unknown: (ulanid)-[]->(), \n",
    "                 ulan: (ulanid)-[p0]->()-[p1]->()-[p2]->()-[p3]->(gender)'\n",
    "        --where 'p0.label = \"foaf:focus\" AND\n",
    "                 p1.label = \"gvp:biographyPreferred\" AND \n",
    "                 p2.label = \"schema:gender\" AND\n",
    "                 p3.label = \"skos:exactMatch\"'\n",
    "        --return 'distinct ulanid as node1, \"P21\" as label, gender as node2'\n",
    "        --limit 10\n",
    "    / add-labels\n",
    "    \"\"\")"
   ]
  },
  {
   "cell_type": "code",
   "execution_count": 34,
   "id": "26010909",
   "metadata": {},
   "outputs": [
    {
     "name": "stdout",
     "output_type": "stream",
     "text": [
      "CPU times: user 9.15 ms, sys: 14.3 ms, total: 23.5 ms\n",
      "Wall time: 4.47 s\n"
     ]
    }
   ],
   "source": [
    "%%time\n",
    "kgtk(\"\"\"\n",
    "    query -i $WIKI_UNKNOWN $ULAN_GENDER_CONCAT_ID\n",
    "        --match 'unknown: (ulanid)-[]->(), \n",
    "                 ulan: (ulanid)-[p0]->()-[p1]->()-[p2]->()-[p3]->(gender)'\n",
    "        --where 'p0.label = \"foaf:focus\" AND\n",
    "                 p1.label = \"gvp:biographyPreferred\" AND \n",
    "                 p2.label = \"schema:gender\" AND\n",
    "                 p3.label = \"skos:exactMatch\"'\n",
    "        --return 'distinct ulanid as node1, \"P21\" as label, gender as node2'\n",
    "        -o $GETTY_GENDER\n",
    "    \"\"\")"
   ]
  },
  {
   "cell_type": "markdown",
   "id": "68dd2283",
   "metadata": {},
   "source": [
    "Count how many new results (count in ULAN ID) we found:"
   ]
  },
  {
   "cell_type": "code",
   "execution_count": 35,
   "id": "4d86e544",
   "metadata": {},
   "outputs": [
    {
     "data": {
      "text/html": [
       "<div>\n",
       "<style scoped>\n",
       "    .dataframe tbody tr th:only-of-type {\n",
       "        vertical-align: middle;\n",
       "    }\n",
       "\n",
       "    .dataframe tbody tr th {\n",
       "        vertical-align: top;\n",
       "    }\n",
       "\n",
       "    .dataframe thead th {\n",
       "        text-align: right;\n",
       "    }\n",
       "</style>\n",
       "<table border=\"1\" class=\"dataframe\">\n",
       "  <thead>\n",
       "    <tr style=\"text-align: right;\">\n",
       "      <th></th>\n",
       "      <th>count(DISTINCT graph_657_c1.\"node1\")</th>\n",
       "    </tr>\n",
       "  </thead>\n",
       "  <tbody>\n",
       "    <tr>\n",
       "      <th>0</th>\n",
       "      <td>496</td>\n",
       "    </tr>\n",
       "  </tbody>\n",
       "</table>\n",
       "</div>"
      ],
      "text/plain": [
       "   count(DISTINCT graph_657_c1.\"node1\")\n",
       "0                                   496"
      ]
     },
     "execution_count": 35,
     "metadata": {},
     "output_type": "execute_result"
    }
   ],
   "source": [
    "kgtk(\"\"\"\n",
    "    query -i $GETTY_GENDER\n",
    "        --match '(ulanid)-[]->(gender)'\n",
    "        --return 'count(distinct ulanid)'\n",
    "    \"\"\")"
   ]
  },
  {
   "cell_type": "markdown",
   "id": "ddf10c85",
   "metadata": {},
   "source": [
    "## Step 4: Record New Results"
   ]
  },
  {
   "cell_type": "markdown",
   "id": "45b486cc",
   "metadata": {},
   "source": [
    "Map back to Wikidata"
   ]
  },
  {
   "cell_type": "code",
   "execution_count": 36,
   "id": "bbf37240",
   "metadata": {},
   "outputs": [
    {
     "name": "stdout",
     "output_type": "stream",
     "text": [
      "CPU times: user 18 ms, sys: 11.2 ms, total: 29.2 ms\n",
      "Wall time: 4.23 s\n"
     ]
    }
   ],
   "source": [
    "%%time\n",
    "kgtk(\"\"\"\n",
    "    query -i $GETTY_GENDER $ULAN_ALIGN\n",
    "        --match 'g: (ulanid)-[p]->(gender), \n",
    "                 w: (ulanid)-[]->(qnode)'\n",
    "        --return 'distinct qnode as node1, p.label as label, gender as node2'\n",
    "        -o $GETTY_MAPPED\n",
    "    \"\"\")"
   ]
  },
  {
   "cell_type": "markdown",
   "id": "f9e0bf3e",
   "metadata": {},
   "source": [
    "Count how many new results (count in Qnode) we found"
   ]
  },
  {
   "cell_type": "code",
   "execution_count": 37,
   "id": "9597db09",
   "metadata": {},
   "outputs": [
    {
     "data": {
      "text/html": [
       "<div>\n",
       "<style scoped>\n",
       "    .dataframe tbody tr th:only-of-type {\n",
       "        vertical-align: middle;\n",
       "    }\n",
       "\n",
       "    .dataframe tbody tr th {\n",
       "        vertical-align: top;\n",
       "    }\n",
       "\n",
       "    .dataframe thead th {\n",
       "        text-align: right;\n",
       "    }\n",
       "</style>\n",
       "<table border=\"1\" class=\"dataframe\">\n",
       "  <thead>\n",
       "    <tr style=\"text-align: right;\">\n",
       "      <th></th>\n",
       "      <th>count(DISTINCT graph_658_c1.\"node1\")</th>\n",
       "    </tr>\n",
       "  </thead>\n",
       "  <tbody>\n",
       "    <tr>\n",
       "      <th>0</th>\n",
       "      <td>495</td>\n",
       "    </tr>\n",
       "  </tbody>\n",
       "</table>\n",
       "</div>"
      ],
      "text/plain": [
       "   count(DISTINCT graph_658_c1.\"node1\")\n",
       "0                                   495"
      ]
     },
     "execution_count": 37,
     "metadata": {},
     "output_type": "execute_result"
    }
   ],
   "source": [
    "kgtk(\"\"\"\n",
    "    query -i $GETTY_MAPPED\n",
    "        --match '(qnode)-[]->(gender)'\n",
    "        --return 'count(distinct qnode)'\n",
    "    \"\"\")"
   ]
  },
  {
   "cell_type": "markdown",
   "id": "e4facf84",
   "metadata": {},
   "source": [
    "## Step 5: Validate with Wikidata Constraints\n",
    "Property `P21` doesn't have value-type constraints. Here since the range of sex or gender is not that wide, we can check the distinct values appear in our results."
   ]
  },
  {
   "cell_type": "code",
   "execution_count": 43,
   "id": "d46ec353",
   "metadata": {},
   "outputs": [
    {
     "data": {
      "text/html": [
       "<div>\n",
       "<style scoped>\n",
       "    .dataframe tbody tr th:only-of-type {\n",
       "        vertical-align: middle;\n",
       "    }\n",
       "\n",
       "    .dataframe tbody tr th {\n",
       "        vertical-align: top;\n",
       "    }\n",
       "\n",
       "    .dataframe thead th {\n",
       "        text-align: right;\n",
       "    }\n",
       "</style>\n",
       "<table border=\"1\" class=\"dataframe\">\n",
       "  <thead>\n",
       "    <tr style=\"text-align: right;\">\n",
       "      <th></th>\n",
       "      <th>node2</th>\n",
       "      <th>node2;label</th>\n",
       "    </tr>\n",
       "  </thead>\n",
       "  <tbody>\n",
       "    <tr>\n",
       "      <th>0</th>\n",
       "      <td>Q44148</td>\n",
       "      <td>'male organism'@en</td>\n",
       "    </tr>\n",
       "    <tr>\n",
       "      <th>1</th>\n",
       "      <td>Q43445</td>\n",
       "      <td>'female organism'@en</td>\n",
       "    </tr>\n",
       "    <tr>\n",
       "      <th>2</th>\n",
       "      <td>Q6581072</td>\n",
       "      <td>'female'@en</td>\n",
       "    </tr>\n",
       "  </tbody>\n",
       "</table>\n",
       "</div>"
      ],
      "text/plain": [
       "      node2           node2;label\n",
       "0    Q44148    'male organism'@en\n",
       "1    Q43445  'female organism'@en\n",
       "2  Q6581072           'female'@en"
      ]
     },
     "execution_count": 43,
     "metadata": {},
     "output_type": "execute_result"
    }
   ],
   "source": [
    "kgtk(\"\"\"\n",
    "    query -i $GETTY_MAPPED\n",
    "        --match '(qnode)-[]->(gender)'\n",
    "        --return 'distinct gender'\n",
    "    / add-labels\n",
    "    \"\"\")"
   ]
  },
  {
   "cell_type": "markdown",
   "id": "55523e76",
   "metadata": {},
   "source": [
    "## Step 6: Record Unknown after Query\n",
    "We record unknowns after query Getty."
   ]
  },
  {
   "cell_type": "code",
   "execution_count": 39,
   "id": "02a65275",
   "metadata": {},
   "outputs": [],
   "source": [
    "kgtk(\"\"\"\n",
    "    ifnotexists -i $WIKI_UNKNOWN \n",
    "        --filter-on $GETTY_GENDER \n",
    "        --input-keys node1 \n",
    "        --filter-keys node1\n",
    "        -o $UNKNOWN\n",
    "    \"\"\")"
   ]
  },
  {
   "cell_type": "code",
   "execution_count": 40,
   "id": "fad03804",
   "metadata": {},
   "outputs": [
    {
     "data": {
      "text/html": [
       "<div>\n",
       "<style scoped>\n",
       "    .dataframe tbody tr th:only-of-type {\n",
       "        vertical-align: middle;\n",
       "    }\n",
       "\n",
       "    .dataframe tbody tr th {\n",
       "        vertical-align: top;\n",
       "    }\n",
       "\n",
       "    .dataframe thead th {\n",
       "        text-align: right;\n",
       "    }\n",
       "</style>\n",
       "<table border=\"1\" class=\"dataframe\">\n",
       "  <thead>\n",
       "    <tr style=\"text-align: right;\">\n",
       "      <th></th>\n",
       "      <th>count(DISTINCT graph_659_c1.\"node1\")</th>\n",
       "    </tr>\n",
       "  </thead>\n",
       "  <tbody>\n",
       "    <tr>\n",
       "      <th>0</th>\n",
       "      <td>2550</td>\n",
       "    </tr>\n",
       "  </tbody>\n",
       "</table>\n",
       "</div>"
      ],
      "text/plain": [
       "   count(DISTINCT graph_659_c1.\"node1\")\n",
       "0                                  2550"
      ]
     },
     "execution_count": 40,
     "metadata": {},
     "output_type": "execute_result"
    }
   ],
   "source": [
    "# count in ULAN IDs\n",
    "kgtk(\"\"\"\n",
    "    query -i $UNKNOWN\n",
    "        --match '(ulanid)-[]->(qnode)'\n",
    "        --return 'count(distinct ulanid)'\n",
    "    \"\"\")"
   ]
  },
  {
   "cell_type": "code",
   "execution_count": 7,
   "id": "7fa001be",
   "metadata": {},
   "outputs": [
    {
     "data": {
      "text/html": [
       "<div>\n",
       "<style scoped>\n",
       "    .dataframe tbody tr th:only-of-type {\n",
       "        vertical-align: middle;\n",
       "    }\n",
       "\n",
       "    .dataframe tbody tr th {\n",
       "        vertical-align: top;\n",
       "    }\n",
       "\n",
       "    .dataframe thead th {\n",
       "        text-align: right;\n",
       "    }\n",
       "</style>\n",
       "<table border=\"1\" class=\"dataframe\">\n",
       "  <thead>\n",
       "    <tr style=\"text-align: right;\">\n",
       "      <th></th>\n",
       "      <th>count(DISTINCT graph_659_c1.\"node2\")</th>\n",
       "    </tr>\n",
       "  </thead>\n",
       "  <tbody>\n",
       "    <tr>\n",
       "      <th>0</th>\n",
       "      <td>2528</td>\n",
       "    </tr>\n",
       "  </tbody>\n",
       "</table>\n",
       "</div>"
      ],
      "text/plain": [
       "   count(DISTINCT graph_659_c1.\"node2\")\n",
       "0                                  2528"
      ]
     },
     "execution_count": 7,
     "metadata": {},
     "output_type": "execute_result"
    }
   ],
   "source": [
    "# count in Qnodes\n",
    "kgtk(\"\"\"\n",
    "    query -i $UNKNOWN\n",
    "        --match '(ulanid)-[]->(qnode)'\n",
    "        --return 'count(distinct qnode)'\n",
    "    \"\"\")"
   ]
  },
  {
   "cell_type": "markdown",
   "id": "916388fa",
   "metadata": {},
   "source": [
    "# Step 7: Comparison of the Known Values\n",
    "How often do the results from two knowledge graphs agree"
   ]
  },
  {
   "cell_type": "code",
   "execution_count": 4,
   "id": "3b447bf7",
   "metadata": {},
   "outputs": [
    {
     "name": "stdout",
     "output_type": "stream",
     "text": [
      "CPU times: user 5.75 ms, sys: 12.4 ms, total: 18.1 ms\n",
      "Wall time: 7.07 s\n"
     ]
    }
   ],
   "source": [
    "%%time\n",
    "kgtk(\"\"\"\n",
    "    query -i $ULAN_ALIGN $ULAN_GENDER_CONCAT_ID\n",
    "        --match 'w: (ulanid)-[]->(), \n",
    "                 u: (ulanid)-[p0]->()-[p1]->()-[p2]->()-[p3]->(gender)'\n",
    "        --where 'p0.label = \"foaf:focus\" AND\n",
    "                 p1.label = \"gvp:biographyPreferred\" AND \n",
    "                 p2.label = \"schema:gender\" AND\n",
    "                 p3.label = \"skos:exactMatch\"'\n",
    "        --return 'distinct ulanid as node1, \"P21\" as label, gender as node2'\n",
    "        -o $GETTY_AGREE\n",
    "    \"\"\")"
   ]
  },
  {
   "cell_type": "markdown",
   "id": "b67f8668",
   "metadata": {},
   "source": [
    "Count agree in Qnode:"
   ]
  },
  {
   "cell_type": "code",
   "execution_count": 26,
   "id": "d1385e15",
   "metadata": {},
   "outputs": [
    {
     "name": "stdout",
     "output_type": "stream",
     "text": [
      "CPU times: user 10.4 ms, sys: 12.5 ms, total: 22.9 ms\n",
      "Wall time: 6.2 s\n"
     ]
    },
    {
     "data": {
      "text/html": [
       "<div>\n",
       "<style scoped>\n",
       "    .dataframe tbody tr th:only-of-type {\n",
       "        vertical-align: middle;\n",
       "    }\n",
       "\n",
       "    .dataframe tbody tr th {\n",
       "        vertical-align: top;\n",
       "    }\n",
       "\n",
       "    .dataframe thead th {\n",
       "        text-align: right;\n",
       "    }\n",
       "</style>\n",
       "<table border=\"1\" class=\"dataframe\">\n",
       "  <thead>\n",
       "    <tr style=\"text-align: right;\">\n",
       "      <th></th>\n",
       "      <th>count(DISTINCT graph_627_c3.\"node2\")</th>\n",
       "    </tr>\n",
       "  </thead>\n",
       "  <tbody>\n",
       "    <tr>\n",
       "      <th>0</th>\n",
       "      <td>8814</td>\n",
       "    </tr>\n",
       "  </tbody>\n",
       "</table>\n",
       "</div>"
      ],
      "text/plain": [
       "   count(DISTINCT graph_627_c3.\"node2\")\n",
       "0                                  8814"
      ]
     },
     "execution_count": 26,
     "metadata": {},
     "output_type": "execute_result"
    }
   ],
   "source": [
    "%%time\n",
    "kgtk(\"\"\"\n",
    "    query -i $WIKI_GENDER $GETTY_AGREE $ULAN_ALIGN\n",
    "        --match 'w: (ulanid)-[]->(gender), g: (ulanid)-[]->(gender), a: (ulanid)-[]->(qnode)'\n",
    "        --return 'count(distinct qnode)'\n",
    "    \"\"\")"
   ]
  },
  {
   "cell_type": "markdown",
   "id": "7f3dec46",
   "metadata": {},
   "source": [
    "Count value per node:"
   ]
  },
  {
   "cell_type": "code",
   "execution_count": 22,
   "id": "6e9fcbed",
   "metadata": {},
   "outputs": [
    {
     "data": {
      "text/html": [
       "<div>\n",
       "<style scoped>\n",
       "    .dataframe tbody tr th:only-of-type {\n",
       "        vertical-align: middle;\n",
       "    }\n",
       "\n",
       "    .dataframe tbody tr th {\n",
       "        vertical-align: top;\n",
       "    }\n",
       "\n",
       "    .dataframe thead th {\n",
       "        text-align: right;\n",
       "    }\n",
       "</style>\n",
       "<table border=\"1\" class=\"dataframe\">\n",
       "  <thead>\n",
       "    <tr style=\"text-align: right;\">\n",
       "      <th></th>\n",
       "      <th>node</th>\n",
       "    </tr>\n",
       "  </thead>\n",
       "  <tbody>\n",
       "    <tr>\n",
       "      <th>0</th>\n",
       "      <td>85248</td>\n",
       "    </tr>\n",
       "  </tbody>\n",
       "</table>\n",
       "</div>"
      ],
      "text/plain": [
       "    node\n",
       "0  85248"
      ]
     },
     "execution_count": 22,
     "metadata": {},
     "output_type": "execute_result"
    }
   ],
   "source": [
    "nodes = kgtk(\"\"\"\n",
    "    query -i $GETTY_AGREE $ULAN_ALIGN \n",
    "        --match 'g: (ulanid)-[]->(), w: (ulanid)-[]->(qnode)'\n",
    "        --return 'count(distinct qnode) as node'\n",
    "    \"\"\")\n",
    "nodes"
   ]
  },
  {
   "cell_type": "code",
   "execution_count": 23,
   "id": "ec69e8b6",
   "metadata": {},
   "outputs": [],
   "source": [
    "import subprocess\n",
    "\n",
    "values = subprocess.check_output(\"wc -l < $GETTY_AGREE\", shell=True)\n",
    "values = values.decode(\"utf-8\").strip()\n",
    "values = int(values) - 1"
   ]
  },
  {
   "cell_type": "code",
   "execution_count": 24,
   "id": "4a0f791f",
   "metadata": {},
   "outputs": [
    {
     "data": {
      "text/plain": [
       "1.1068177552552552"
      ]
     },
     "execution_count": 24,
     "metadata": {},
     "output_type": "execute_result"
    }
   ],
   "source": [
    "values / nodes.iloc[0]['node']"
   ]
  },
  {
   "cell_type": "code",
   "execution_count": null,
   "id": "50eb2505",
   "metadata": {},
   "outputs": [],
   "source": []
  }
 ],
 "metadata": {
  "kernelspec": {
   "display_name": "Python 3",
   "language": "python",
   "name": "python3"
  },
  "language_info": {
   "codemirror_mode": {
    "name": "ipython",
    "version": 3
   },
   "file_extension": ".py",
   "mimetype": "text/x-python",
   "name": "python",
   "nbconvert_exporter": "python",
   "pygments_lexer": "ipython3",
   "version": "3.7.10"
  }
 },
 "nbformat": 4,
 "nbformat_minor": 5
}
