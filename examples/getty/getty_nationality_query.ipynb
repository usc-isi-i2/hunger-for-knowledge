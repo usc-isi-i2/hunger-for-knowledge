{
 "cells": [
  {
   "cell_type": "markdown",
   "id": "ba2f2777",
   "metadata": {},
   "source": [
    "# Getty Query Tutorial (Nationality)\n",
    "In this notebook, we perform the similar hunger-for-knowledge procedure for nationality in Wikidata and Getty Vocabulary. The main difference is that we generalize the query for single property to the property chain, this is, the path in kgtk."
   ]
  },
  {
   "cell_type": "code",
   "execution_count": 1,
   "id": "028e20b0",
   "metadata": {},
   "outputs": [],
   "source": [
    "import os\n",
    "import json\n",
    "import pandas as pd\n",
    "\n",
    "from kgtk.functions import kgtk, kypher"
   ]
  },
  {
   "cell_type": "markdown",
   "id": "fea94837",
   "metadata": {},
   "source": [
    "## Step 0: Set up environment paths\n",
    "Here we set needed Graph files and desired output files to environment paths."
   ]
  },
  {
   "cell_type": "code",
   "execution_count": 3,
   "id": "3ba1c188",
   "metadata": {
    "scrolled": false
   },
   "outputs": [
    {
     "name": "stdout",
     "output_type": "stream",
     "text": [
      "DATABASE: \"/nas/home/bohuizha/KG/hunger-for-knowledge/data/\"\n",
      "WIKIDATA: \"/nas/home/bohuizha/KG/hunger-for-knowledge/data/claims.tsv\"\n",
      "KGTK_LABEL_FILE: \"/nas/home/bohuizha/KG/hunger-for-knowledge/data/labels.en.tsv\"\n",
      "P31: \"/nas/home/bohuizha/KG/hunger-for-knowledge/data/P31.tsv\"\n",
      "P279STAR: \"/nas/home/bohuizha/KG/hunger-for-knowledge/data/P279star.tsv\"\n",
      "ULAN: \"/nas/home/bohuizha/KG/hunger-for-knowledge/data/gvp/ULAN/\"\n",
      "ULAN_NATION_CONCAT_ID: \"/nas/home/bohuizha/KG/hunger-for-knowledge/data/gvp/ULAN/ulan.nation.concat.id.tsv\"\n",
      "ULAN_ALIGN: \"/nas/home/bohuizha/KG/hunger-for-knowledge/data/gvp/ULAN/wiki.align.tsv\"\n",
      "OUTPUT: \"/nas/home/bohuizha/KG/hunger-for-knowledge/data/gvp/nation_output/\"\n",
      "WIKI_NATION: \"/nas/home/bohuizha/KG/hunger-for-knowledge/data/gvp/nation_output/wiki.nation.tsv\"\n",
      "WIKI_UNKNOWN: \"/nas/home/bohuizha/KG/hunger-for-knowledge/data/gvp/nation_output/wiki.unknown.tsv\"\n",
      "PAIRS: \"/nas/home/bohuizha/KG/hunger-for-knowledge/data/gvp/nation_output/pairs.tsv\"\n",
      "PATHS: \"/nas/home/bohuizha/KG/hunger-for-knowledge/data/gvp/nation_output/paths.tsv\"\n",
      "PATHS_LABEL: \"/nas/home/bohuizha/KG/hunger-for-knowledge/data/gvp/nation_output/paths.label.tsv\"\n",
      "GETTY_NATION: \"/nas/home/bohuizha/KG/hunger-for-knowledge/data/gvp/nation_output/getty.nation.tsv\"\n",
      "GETTY_MAPPED: \"/nas/home/bohuizha/KG/hunger-for-knowledge/data/gvp/nation_output/getty.mapped.tsv\"\n",
      "GETTY_AGREE: \"/nas/home/bohuizha/KG/hunger-for-knowledge/data/gvp/nation_output/getty.agree.tsv\"\n",
      "CORRECT_TEMP_1: \"/nas/home/bohuizha/KG/hunger-for-knowledge/data/gvp/nation_output/correct.temp.1.tsv\"\n",
      "CORRECT_TEMP_2: \"/nas/home/bohuizha/KG/hunger-for-knowledge/data/gvp/nation_output/correct.temp.2.tsv\"\n",
      "INCORRECT_TEMP: \"/nas/home/bohuizha/KG/hunger-for-knowledge/data/gvp/nation_output/incorrect.temp.tsv\"\n",
      "CORRECT: \"/nas/home/bohuizha/KG/hunger-for-knowledge/data/gvp/nation_output/correct.tsv\"\n",
      "INCORRECT: \"/nas/home/bohuizha/KG/hunger-for-knowledge/data/gvp/nation_output/incorrect.tsv\"\n",
      "UNKNOWN: \"/nas/home/bohuizha/KG/hunger-for-knowledge/data/gvp/nation_output/unknown.tsv\"\n"
     ]
    }
   ],
   "source": [
    "# We will define environment variables to hold the full paths to the files as we will use them in the shell commands\n",
    "kgtk_environment_variables = []\n",
    "\n",
    "# Folder where database files store\n",
    "data_path = \"/nas/home/bohuizha/KG/hunger-for-knowledge/data/\"\n",
    "os.environ['DATABASE'] = data_path\n",
    "kgtk_environment_variables.append('DATABASE')\n",
    "\n",
    "# Wikidata (all is much less than claims)\n",
    "os.environ['WIKIDATA'] = data_path + \"claims.tsv\"\n",
    "kgtk_environment_variables.append('WIKIDATA')\n",
    "\n",
    "# Label file of Wikidata\n",
    "os.environ['KGTK_LABEL_FILE'] = data_path + \"labels.en.tsv\"\n",
    "kgtk_environment_variables.append('KGTK_LABEL_FILE')\n",
    "\n",
    "# P31\n",
    "os.environ['P31'] = data_path + \"P31.tsv\"\n",
    "kgtk_environment_variables.append('P31')\n",
    "\n",
    "# P279star\n",
    "os.environ['P279STAR'] = data_path + \"P279star.tsv\"\n",
    "kgtk_environment_variables.append('P279STAR')\n",
    "\n",
    "# Folder of ULAN\n",
    "ulan_path = data_path + \"gvp/ULAN/\"\n",
    "os.environ['ULAN'] = ulan_path\n",
    "kgtk_environment_variables.append('ULAN')\n",
    "\n",
    "# File concatenated by used explicit files: ULAN Subjects, AgentMap, Nationality, AAT-Wikidata Alignment\n",
    "# The suffix ID means we performed add-id operation to the graph to meet the requirement of paths command.\n",
    "ulan_concat_path = ulan_path + \"ulan.nation.concat.id.tsv\"\n",
    "os.environ['ULAN_NATION_CONCAT_ID'] = ulan_concat_path\n",
    "kgtk_environment_variables.append('ULAN_NATION_CONCAT_ID')\n",
    "\n",
    "# ULAN-Wikidata alignment file, maps ULAN ID to Wikidata Qnode\n",
    "ulan_wikialign_path = ulan_path + \"wiki.align.tsv\"\n",
    "os.environ['ULAN_ALIGN'] = ulan_wikialign_path\n",
    "kgtk_environment_variables.append('ULAN_ALIGN')\n",
    "\n",
    "# Output\n",
    "output_path = data_path + \"gvp/nation_output/\"\n",
    "if not os.path.exists(output_path):\n",
    "    os.mkdir(output_path)\n",
    "os.environ['OUTPUT'] = output_path\n",
    "kgtk_environment_variables.append('OUTPUT')\n",
    "\n",
    "# Each file will be explained later in the procedure\n",
    "output_names = {\n",
    "    \"wiki_nation\": \"wiki.nation.tsv\",\n",
    "    \"wiki_unknown\": \"wiki.unknown.tsv\",\n",
    "    \"pairs\": \"pairs.tsv\",\n",
    "    \"paths\": \"paths.tsv\",\n",
    "    \"paths_label\": \"paths.label.tsv\",\n",
    "    \"getty_nation\": \"getty.nation.tsv\",\n",
    "    \"getty_mapped\": \"getty.mapped.tsv\",\n",
    "    \"getty_agree\": \"getty.agree.tsv\",\n",
    "    \"correct_temp_1\": \"correct.temp.1.tsv\",\n",
    "    \"correct_temp_2\": \"correct.temp.2.tsv\",\n",
    "    \"incorrect_temp\": \"incorrect.temp.tsv\",\n",
    "    \"correct\": \"correct.tsv\",\n",
    "    \"incorrect\": \"incorrect.tsv\",\n",
    "    \"unknown\": \"unknown.tsv\"\n",
    "}\n",
    "\n",
    "for key, value in output_names.items():\n",
    "    variable = key.upper()\n",
    "    os.environ[variable] = os.path.join(output_path, value)\n",
    "    kgtk_environment_variables.append(variable)\n",
    "\n",
    "for variable in kgtk_environment_variables:\n",
    "    print(\"{}: \\\"{}\\\"\".format(variable, os.environ[variable]))"
   ]
  },
  {
   "cell_type": "markdown",
   "id": "46481af9",
   "metadata": {},
   "source": [
    "## Step 1: Query Wikidata\n",
    "Query Wikidata for nationality for people that have an ULAN ID (92k people)"
   ]
  },
  {
   "cell_type": "code",
   "execution_count": 6,
   "id": "eff39793",
   "metadata": {},
   "outputs": [
    {
     "data": {
      "text/html": [
       "<div>\n",
       "<style scoped>\n",
       "    .dataframe tbody tr th:only-of-type {\n",
       "        vertical-align: middle;\n",
       "    }\n",
       "\n",
       "    .dataframe tbody tr th {\n",
       "        vertical-align: top;\n",
       "    }\n",
       "\n",
       "    .dataframe thead th {\n",
       "        text-align: right;\n",
       "    }\n",
       "</style>\n",
       "<table border=\"1\" class=\"dataframe\">\n",
       "  <thead>\n",
       "    <tr style=\"text-align: right;\">\n",
       "      <th></th>\n",
       "      <th>count(DISTINCT graph_627_c1.\"node1\")</th>\n",
       "    </tr>\n",
       "  </thead>\n",
       "  <tbody>\n",
       "    <tr>\n",
       "      <th>0</th>\n",
       "      <td>92353</td>\n",
       "    </tr>\n",
       "  </tbody>\n",
       "</table>\n",
       "</div>"
      ],
      "text/plain": [
       "   count(DISTINCT graph_627_c1.\"node1\")\n",
       "0                                 92353"
      ]
     },
     "execution_count": 6,
     "metadata": {},
     "output_type": "execute_result"
    }
   ],
   "source": [
    "# count total poeple\n",
    "# ULAN ID\n",
    "kgtk(\"\"\"\n",
    "    query -i $ULAN_ALIGN \n",
    "        --match '(ulanid)-[]->(qnode)'\n",
    "        --return 'count(distinct ulanid)'\n",
    "    \"\"\")"
   ]
  },
  {
   "cell_type": "code",
   "execution_count": 7,
   "id": "1c8caff1",
   "metadata": {},
   "outputs": [
    {
     "data": {
      "text/html": [
       "<div>\n",
       "<style scoped>\n",
       "    .dataframe tbody tr th:only-of-type {\n",
       "        vertical-align: middle;\n",
       "    }\n",
       "\n",
       "    .dataframe tbody tr th {\n",
       "        vertical-align: top;\n",
       "    }\n",
       "\n",
       "    .dataframe thead th {\n",
       "        text-align: right;\n",
       "    }\n",
       "</style>\n",
       "<table border=\"1\" class=\"dataframe\">\n",
       "  <thead>\n",
       "    <tr style=\"text-align: right;\">\n",
       "      <th></th>\n",
       "      <th>count(DISTINCT graph_627_c1.\"node2\")</th>\n",
       "    </tr>\n",
       "  </thead>\n",
       "  <tbody>\n",
       "    <tr>\n",
       "      <th>0</th>\n",
       "      <td>92210</td>\n",
       "    </tr>\n",
       "  </tbody>\n",
       "</table>\n",
       "</div>"
      ],
      "text/plain": [
       "   count(DISTINCT graph_627_c1.\"node2\")\n",
       "0                                 92210"
      ]
     },
     "execution_count": 7,
     "metadata": {},
     "output_type": "execute_result"
    }
   ],
   "source": [
    "# Qnode\n",
    "kgtk(\"\"\"\n",
    "    query -i $ULAN_ALIGN \n",
    "        --match '(ulanid)-[]->(qnode)'\n",
    "        --return 'count(distinct qnode)'\n",
    "    \"\"\")"
   ]
  },
  {
   "cell_type": "code",
   "execution_count": 6,
   "id": "55f19c3e",
   "metadata": {},
   "outputs": [
    {
     "name": "stdout",
     "output_type": "stream",
     "text": [
      "CPU times: user 37.8 ms, sys: 31.3 ms, total: 69.1 ms\n",
      "Wall time: 1min 26s\n"
     ]
    },
    {
     "data": {
      "text/html": [
       "<div>\n",
       "<style scoped>\n",
       "    .dataframe tbody tr th:only-of-type {\n",
       "        vertical-align: middle;\n",
       "    }\n",
       "\n",
       "    .dataframe tbody tr th {\n",
       "        vertical-align: top;\n",
       "    }\n",
       "\n",
       "    .dataframe thead th {\n",
       "        text-align: right;\n",
       "    }\n",
       "</style>\n",
       "<table border=\"1\" class=\"dataframe\">\n",
       "  <thead>\n",
       "    <tr style=\"text-align: right;\">\n",
       "      <th></th>\n",
       "      <th>node1</th>\n",
       "      <th>label</th>\n",
       "      <th>node2</th>\n",
       "      <th>label;label</th>\n",
       "      <th>node2;label</th>\n",
       "    </tr>\n",
       "  </thead>\n",
       "  <tbody>\n",
       "    <tr>\n",
       "      <th>0</th>\n",
       "      <td>ulan:500023949</td>\n",
       "      <td>P27</td>\n",
       "      <td>Q142</td>\n",
       "      <td>'country of citizenship'@en</td>\n",
       "      <td>'France'@en</td>\n",
       "    </tr>\n",
       "    <tr>\n",
       "      <th>1</th>\n",
       "      <td>ulan:500123827</td>\n",
       "      <td>P27</td>\n",
       "      <td>Q30</td>\n",
       "      <td>'country of citizenship'@en</td>\n",
       "      <td>'United States of America'@en</td>\n",
       "    </tr>\n",
       "    <tr>\n",
       "      <th>2</th>\n",
       "      <td>ulan:500223082</td>\n",
       "      <td>P27</td>\n",
       "      <td>Q28</td>\n",
       "      <td>'country of citizenship'@en</td>\n",
       "      <td>'Hungary'@en</td>\n",
       "    </tr>\n",
       "    <tr>\n",
       "      <th>3</th>\n",
       "      <td>ulan:500108173</td>\n",
       "      <td>P27</td>\n",
       "      <td>Q28</td>\n",
       "      <td>'country of citizenship'@en</td>\n",
       "      <td>'Hungary'@en</td>\n",
       "    </tr>\n",
       "    <tr>\n",
       "      <th>4</th>\n",
       "      <td>ulan:500072302</td>\n",
       "      <td>P27</td>\n",
       "      <td>Q28513</td>\n",
       "      <td>'country of citizenship'@en</td>\n",
       "      <td>'Austria-Hungary'@en</td>\n",
       "    </tr>\n",
       "    <tr>\n",
       "      <th>5</th>\n",
       "      <td>ulan:500091345</td>\n",
       "      <td>P27</td>\n",
       "      <td>Q28</td>\n",
       "      <td>'country of citizenship'@en</td>\n",
       "      <td>'Hungary'@en</td>\n",
       "    </tr>\n",
       "    <tr>\n",
       "      <th>6</th>\n",
       "      <td>ulan:500059872</td>\n",
       "      <td>P27</td>\n",
       "      <td>Q28</td>\n",
       "      <td>'country of citizenship'@en</td>\n",
       "      <td>'Hungary'@en</td>\n",
       "    </tr>\n",
       "    <tr>\n",
       "      <th>7</th>\n",
       "      <td>ulan:500020713</td>\n",
       "      <td>P27</td>\n",
       "      <td>Q183</td>\n",
       "      <td>'country of citizenship'@en</td>\n",
       "      <td>'Germany'@en</td>\n",
       "    </tr>\n",
       "    <tr>\n",
       "      <th>8</th>\n",
       "      <td>ulan:500160869</td>\n",
       "      <td>P27</td>\n",
       "      <td>Q183</td>\n",
       "      <td>'country of citizenship'@en</td>\n",
       "      <td>'Germany'@en</td>\n",
       "    </tr>\n",
       "    <tr>\n",
       "      <th>9</th>\n",
       "      <td>ulan:500113074</td>\n",
       "      <td>P27</td>\n",
       "      <td>Q28</td>\n",
       "      <td>'country of citizenship'@en</td>\n",
       "      <td>'Hungary'@en</td>\n",
       "    </tr>\n",
       "  </tbody>\n",
       "</table>\n",
       "</div>"
      ],
      "text/plain": [
       "            node1 label   node2                  label;label  \\\n",
       "0  ulan:500023949   P27    Q142  'country of citizenship'@en   \n",
       "1  ulan:500123827   P27     Q30  'country of citizenship'@en   \n",
       "2  ulan:500223082   P27     Q28  'country of citizenship'@en   \n",
       "3  ulan:500108173   P27     Q28  'country of citizenship'@en   \n",
       "4  ulan:500072302   P27  Q28513  'country of citizenship'@en   \n",
       "5  ulan:500091345   P27     Q28  'country of citizenship'@en   \n",
       "6  ulan:500059872   P27     Q28  'country of citizenship'@en   \n",
       "7  ulan:500020713   P27    Q183  'country of citizenship'@en   \n",
       "8  ulan:500160869   P27    Q183  'country of citizenship'@en   \n",
       "9  ulan:500113074   P27     Q28  'country of citizenship'@en   \n",
       "\n",
       "                     node2;label  \n",
       "0                    'France'@en  \n",
       "1  'United States of America'@en  \n",
       "2                   'Hungary'@en  \n",
       "3                   'Hungary'@en  \n",
       "4           'Austria-Hungary'@en  \n",
       "5                   'Hungary'@en  \n",
       "6                   'Hungary'@en  \n",
       "7                   'Germany'@en  \n",
       "8                   'Germany'@en  \n",
       "9                   'Hungary'@en  "
      ]
     },
     "execution_count": 6,
     "metadata": {},
     "output_type": "execute_result"
    }
   ],
   "source": [
    "%%time\n",
    "kgtk(\"\"\"\n",
    "    query -i $ULAN_ALIGN $WIKIDATA\n",
    "        --match 'w: (ulanid)-[]->(qnode), \n",
    "                 a: (qnode)-[:P27]->(nation)' \n",
    "        --return 'distinct ulanid as node1, \"P27\" as label, nation as node2'\n",
    "        --limit 10\n",
    "    / add-labels\n",
    "    \"\"\")"
   ]
  },
  {
   "cell_type": "code",
   "execution_count": 7,
   "id": "d9a508af",
   "metadata": {},
   "outputs": [
    {
     "name": "stdout",
     "output_type": "stream",
     "text": [
      "CPU times: user 55.2 ms, sys: 34.7 ms, total: 89.9 ms\n",
      "Wall time: 1min 44s\n"
     ]
    }
   ],
   "source": [
    "%%time\n",
    "kgtk(\"\"\"\n",
    "    query -i $ULAN_ALIGN $WIKIDATA\n",
    "        --match 'w: (ulanid)-[]->(qnode), \n",
    "                 a: (qnode)-[:P27]->(nation)' \n",
    "        --return 'distinct ulanid as node1, \"P27\" as label, nation as node2'\n",
    "        -o $WIKI_NATION\n",
    "    \"\"\")"
   ]
  },
  {
   "cell_type": "markdown",
   "id": "5b4e542c",
   "metadata": {},
   "source": [
    "## Step 2: Record Known and Unknown"
   ]
  },
  {
   "cell_type": "code",
   "execution_count": 8,
   "id": "a1bfe0b0",
   "metadata": {},
   "outputs": [
    {
     "data": {
      "text/html": [
       "<div>\n",
       "<style scoped>\n",
       "    .dataframe tbody tr th:only-of-type {\n",
       "        vertical-align: middle;\n",
       "    }\n",
       "\n",
       "    .dataframe tbody tr th {\n",
       "        vertical-align: top;\n",
       "    }\n",
       "\n",
       "    .dataframe thead th {\n",
       "        text-align: right;\n",
       "    }\n",
       "</style>\n",
       "<table border=\"1\" class=\"dataframe\">\n",
       "  <thead>\n",
       "    <tr style=\"text-align: right;\">\n",
       "      <th></th>\n",
       "      <th>count(DISTINCT graph_643_c1.\"node1\")</th>\n",
       "    </tr>\n",
       "  </thead>\n",
       "  <tbody>\n",
       "    <tr>\n",
       "      <th>0</th>\n",
       "      <td>69387</td>\n",
       "    </tr>\n",
       "  </tbody>\n",
       "</table>\n",
       "</div>"
      ],
      "text/plain": [
       "   count(DISTINCT graph_643_c1.\"node1\")\n",
       "0                                 69387"
      ]
     },
     "execution_count": 8,
     "metadata": {},
     "output_type": "execute_result"
    }
   ],
   "source": [
    "# count known ULAN IDs\n",
    "kgtk(\"\"\"\n",
    "    query -i $WIKI_NATION\n",
    "        --match '(ulanid)-[]->(nation)' \n",
    "        --return 'count(distinct ulanid)'\n",
    "    \"\"\")"
   ]
  },
  {
   "cell_type": "code",
   "execution_count": 8,
   "id": "0bf958e3",
   "metadata": {},
   "outputs": [
    {
     "data": {
      "text/html": [
       "<div>\n",
       "<style scoped>\n",
       "    .dataframe tbody tr th:only-of-type {\n",
       "        vertical-align: middle;\n",
       "    }\n",
       "\n",
       "    .dataframe tbody tr th {\n",
       "        vertical-align: top;\n",
       "    }\n",
       "\n",
       "    .dataframe thead th {\n",
       "        text-align: right;\n",
       "    }\n",
       "</style>\n",
       "<table border=\"1\" class=\"dataframe\">\n",
       "  <thead>\n",
       "    <tr style=\"text-align: right;\">\n",
       "      <th></th>\n",
       "      <th>count(DISTINCT graph_627_c2.\"node2\")</th>\n",
       "    </tr>\n",
       "  </thead>\n",
       "  <tbody>\n",
       "    <tr>\n",
       "      <th>0</th>\n",
       "      <td>69291</td>\n",
       "    </tr>\n",
       "  </tbody>\n",
       "</table>\n",
       "</div>"
      ],
      "text/plain": [
       "   count(DISTINCT graph_627_c2.\"node2\")\n",
       "0                                 69291"
      ]
     },
     "execution_count": 8,
     "metadata": {},
     "output_type": "execute_result"
    }
   ],
   "source": [
    "# count known Qnodes\n",
    "kgtk(\"\"\"\n",
    "    query -i $WIKI_NATION $ULAN_ALIGN\n",
    "        --match 'n: (ulanid)-[]->(nation), a: (ulanid)-[]->(qnode)' \n",
    "        --return 'count(distinct qnode)'\n",
    "    \"\"\")"
   ]
  },
  {
   "cell_type": "markdown",
   "id": "10d5c560",
   "metadata": {},
   "source": [
    "Filter unknow in ULAN-Wikidata alignment"
   ]
  },
  {
   "cell_type": "code",
   "execution_count": 9,
   "id": "e9e30b0a",
   "metadata": {},
   "outputs": [
    {
     "name": "stdout",
     "output_type": "stream",
     "text": [
      "CPU times: user 4.89 ms, sys: 9.79 ms, total: 14.7 ms\n",
      "Wall time: 2.35 s\n"
     ]
    }
   ],
   "source": [
    "%%time\n",
    "kgtk(\"\"\"\n",
    "    ifnotexists -i $ULAN_ALIGN \n",
    "        --filter-on $WIKI_NATION \n",
    "        --input-keys node1 \n",
    "        --filter-keys node1 \n",
    "        -o $WIKI_UNKNOWN\n",
    "    \"\"\")"
   ]
  },
  {
   "cell_type": "code",
   "execution_count": 10,
   "id": "a2635315",
   "metadata": {},
   "outputs": [
    {
     "data": {
      "text/html": [
       "<div>\n",
       "<style scoped>\n",
       "    .dataframe tbody tr th:only-of-type {\n",
       "        vertical-align: middle;\n",
       "    }\n",
       "\n",
       "    .dataframe tbody tr th {\n",
       "        vertical-align: top;\n",
       "    }\n",
       "\n",
       "    .dataframe thead th {\n",
       "        text-align: right;\n",
       "    }\n",
       "</style>\n",
       "<table border=\"1\" class=\"dataframe\">\n",
       "  <thead>\n",
       "    <tr style=\"text-align: right;\">\n",
       "      <th></th>\n",
       "      <th>count(DISTINCT graph_644_c1.\"node1\")</th>\n",
       "    </tr>\n",
       "  </thead>\n",
       "  <tbody>\n",
       "    <tr>\n",
       "      <th>0</th>\n",
       "      <td>22966</td>\n",
       "    </tr>\n",
       "  </tbody>\n",
       "</table>\n",
       "</div>"
      ],
      "text/plain": [
       "   count(DISTINCT graph_644_c1.\"node1\")\n",
       "0                                 22966"
      ]
     },
     "execution_count": 10,
     "metadata": {},
     "output_type": "execute_result"
    }
   ],
   "source": [
    "# count unknown ULAN IDs\n",
    "kgtk(\"\"\"\n",
    "    query -i $WIKI_UNKNOWN\n",
    "        --match '(ulanid)-[]->(qnode)'\n",
    "        --return 'count(distinct ulanid)'\n",
    "    \"\"\")"
   ]
  },
  {
   "cell_type": "code",
   "execution_count": 9,
   "id": "2707f2c0",
   "metadata": {},
   "outputs": [
    {
     "data": {
      "text/html": [
       "<div>\n",
       "<style scoped>\n",
       "    .dataframe tbody tr th:only-of-type {\n",
       "        vertical-align: middle;\n",
       "    }\n",
       "\n",
       "    .dataframe tbody tr th {\n",
       "        vertical-align: top;\n",
       "    }\n",
       "\n",
       "    .dataframe thead th {\n",
       "        text-align: right;\n",
       "    }\n",
       "</style>\n",
       "<table border=\"1\" class=\"dataframe\">\n",
       "  <thead>\n",
       "    <tr style=\"text-align: right;\">\n",
       "      <th></th>\n",
       "      <th>count(DISTINCT graph_644_c1.\"node2\")</th>\n",
       "    </tr>\n",
       "  </thead>\n",
       "  <tbody>\n",
       "    <tr>\n",
       "      <th>0</th>\n",
       "      <td>22919</td>\n",
       "    </tr>\n",
       "  </tbody>\n",
       "</table>\n",
       "</div>"
      ],
      "text/plain": [
       "   count(DISTINCT graph_644_c1.\"node2\")\n",
       "0                                 22919"
      ]
     },
     "execution_count": 9,
     "metadata": {},
     "output_type": "execute_result"
    }
   ],
   "source": [
    "# count unknown Qnodes\n",
    "kgtk(\"\"\"\n",
    "    query -i $WIKI_UNKNOWN\n",
    "        --match '(ulanid)-[]->(qnode)'\n",
    "        --return 'count(distinct qnode)'\n",
    "    \"\"\")"
   ]
  },
  {
   "cell_type": "markdown",
   "id": "c3abc39d",
   "metadata": {},
   "source": [
    "## Step 3: Query Getty\n",
    "Based on the known nationality for people, query Getty. Before we perform single property query (we can consider it as 1 hop paths query), this time, we generalize to paths between known pairs (Subjects, Objects). Similarily we will compute the distributions of found paths and pick the top 1 path (property chain). "
   ]
  },
  {
   "cell_type": "markdown",
   "id": "eba6279c",
   "metadata": {},
   "source": [
    "### 3-1: Build Pairs from Wikidata Results \n",
    "Pairs file is needed for performing kgtk paths operation as the query objects."
   ]
  },
  {
   "cell_type": "code",
   "execution_count": 64,
   "id": "9667a958",
   "metadata": {},
   "outputs": [
    {
     "name": "stdout",
     "output_type": "stream",
     "text": [
      "CPU times: user 8.16 ms, sys: 10.2 ms, total: 18.3 ms\n",
      "Wall time: 6.03 s\n"
     ]
    }
   ],
   "source": [
    "%%time\n",
    "kgtk(\"\"\"\n",
    "    query -i $WIKI_NATION\n",
    "        --match '(ulanid)-[]->(nation)'\n",
    "        --return 'distinct ulanid as source, nation as target'\n",
    "        --skip 52000\n",
    "        --limit 10000\n",
    "        -o $PAIRS\n",
    "    \"\"\")"
   ]
  },
  {
   "cell_type": "code",
   "execution_count": 65,
   "id": "be793da3",
   "metadata": {},
   "outputs": [
    {
     "name": "stdout",
     "output_type": "stream",
     "text": [
      "source          target\r\n",
      "ulan:500016167  Q174193\r\n",
      "ulan:500043595  Q145\r\n",
      "ulan:500063257  Q145\r\n",
      "ulan:500028477  Q15180\r\n",
      "ulan:500028477  Q212\r\n",
      "ulan:500176055  Q183\r\n",
      "ulan:500012823  Q40\r\n",
      "ulan:500200032  Q15180\r\n",
      "ulan:500200032  Q159\r\n"
     ]
    }
   ],
   "source": [
    "!head $PAIRS | column -ts $'\\t'"
   ]
  },
  {
   "cell_type": "markdown",
   "id": "a6f6bf9e",
   "metadata": {},
   "source": [
    "### 3-2: Perform Paths Mapping\n",
    "This step is the core step of this query and it is also the bottleneck of running this procedure."
   ]
  },
  {
   "cell_type": "code",
   "execution_count": 66,
   "id": "9cecdbb4",
   "metadata": {},
   "outputs": [
    {
     "name": "stdout",
     "output_type": "stream",
     "text": [
      "CPU times: user 548 ms, sys: 304 ms, total: 852 ms\n",
      "Wall time: 15min 33s\n"
     ]
    }
   ],
   "source": [
    "%%time\n",
    "kgtk(\"\"\"\n",
    "    paths --max_hops 4\n",
    "        --path-file $PAIRS\n",
    "        --path-mode NONE \n",
    "        --path-source source\n",
    "        --path-target target\n",
    "        -i $ULAN_NATION_CONCAT_ID\n",
    "        --statistics-only\n",
    "        -o $PATHS\n",
    "    \"\"\")"
   ]
  },
  {
   "cell_type": "code",
   "execution_count": 67,
   "id": "7759b550",
   "metadata": {},
   "outputs": [
    {
     "name": "stdout",
     "output_type": "stream",
     "text": [
      "node1\tlabel\tnode2\tid\r\n",
      "p0\t0\tulan:500086261:foaf:focus:ulan:500086261-agent\tp0-0-0\r\n",
      "p0\t1\tulan:500086261-agent:gvp:nationalityPreferred:aat:300021959\tp0-1-1\r\n",
      "p0\t2\taat:300021959:skos:exactMatch:Q664\tp0-2-2\r\n",
      "p1\t0\tulan:500292325:foaf:focus:ulan:500292325-agent\tp1-0-3\r\n",
      "p1\t1\tulan:500292325-agent:gvp:nationalityPreferred:aat:300020669\tp1-1-4\r\n",
      "p1\t2\taat:300020669:skos:exactMatch:Q12544\tp1-2-5\r\n",
      "p2\t0\tulan:500123916:foaf:focus:ulan:500123916-agent\tp2-0-6\r\n",
      "p2\t1\tulan:500123916-agent:gvp:nationalityPreferred:aat:300021959\tp2-1-7\r\n",
      "p2\t2\taat:300021959:skos:exactMatch:Q664\tp2-2-8\r\n"
     ]
    }
   ],
   "source": [
    "!head $PATHS"
   ]
  },
  {
   "cell_type": "markdown",
   "id": "f6a31f6a",
   "metadata": {},
   "source": [
    "### 3-3: Select the Top 1 Property Chain\n",
    "Here we use Pandas to sort the top 1 property chain. "
   ]
  },
  {
   "cell_type": "code",
   "execution_count": 68,
   "id": "7b2d4d2d",
   "metadata": {},
   "outputs": [
    {
     "data": {
      "text/plain": [
       "node2                                                 \n",
       "foaf:focus gvp:nationalityPreferred skos:exactMatch       67\n",
       "foaf:focus gvp:nationalityNonPreferred skos:exactMatch    10\n",
       "dtype: int64"
      ]
     },
     "execution_count": 68,
     "metadata": {},
     "output_type": "execute_result"
    }
   ],
   "source": [
    "# load paths.tsv file\n",
    "paths = pd.read_csv(os.environ['PATHS'], sep='\\t')\n",
    "# process property: since paths command generate id as node2, we need to further extract property from it\n",
    "paths.node2 = paths.node2.apply(lambda x: ':'.join(x.split(':')[2:4]))\n",
    "# save processed property\n",
    "paths.to_csv(os.environ['PATHS_LABEL'], sep='\\t', index=False)\n",
    "# join property chain for each found path\n",
    "paths_concat = paths.groupby(paths['node1']).agg({'node2': lambda x: ' '.join(list(x))})\n",
    "# sort the top \n",
    "paths_concat.value_counts()#.head(1)"
   ]
  },
  {
   "cell_type": "markdown",
   "id": "6635cd58",
   "metadata": {},
   "source": [
    "### 3-4: Query Getty Using the Property Chain\n",
    "Query Getty for the values of the unknown people, with the found property chain: `(ulanid)-[foaf:focus]->()-[gvp:nationalityPreferred]->()-[skos:exactMatch]->(Qnode of Nationality)`"
   ]
  },
  {
   "cell_type": "code",
   "execution_count": 69,
   "id": "8e883c65",
   "metadata": {},
   "outputs": [
    {
     "name": "stdout",
     "output_type": "stream",
     "text": [
      "CPU times: user 37.1 ms, sys: 37.2 ms, total: 74.4 ms\n",
      "Wall time: 1min 46s\n"
     ]
    },
    {
     "data": {
      "text/html": [
       "<div>\n",
       "<style scoped>\n",
       "    .dataframe tbody tr th:only-of-type {\n",
       "        vertical-align: middle;\n",
       "    }\n",
       "\n",
       "    .dataframe tbody tr th {\n",
       "        vertical-align: top;\n",
       "    }\n",
       "\n",
       "    .dataframe thead th {\n",
       "        text-align: right;\n",
       "    }\n",
       "</style>\n",
       "<table border=\"1\" class=\"dataframe\">\n",
       "  <thead>\n",
       "    <tr style=\"text-align: right;\">\n",
       "      <th></th>\n",
       "      <th>node1</th>\n",
       "      <th>label</th>\n",
       "      <th>node2</th>\n",
       "      <th>label;label</th>\n",
       "      <th>node2;label</th>\n",
       "    </tr>\n",
       "  </thead>\n",
       "  <tbody>\n",
       "    <tr>\n",
       "      <th>0</th>\n",
       "      <td>ulan:500000007</td>\n",
       "      <td>P27</td>\n",
       "      <td>Q1979615</td>\n",
       "      <td>'country of citizenship'@en</td>\n",
       "      <td>'culture of Germany'@en</td>\n",
       "    </tr>\n",
       "    <tr>\n",
       "      <th>1</th>\n",
       "      <td>ulan:500000016</td>\n",
       "      <td>P27</td>\n",
       "      <td>Q1985804</td>\n",
       "      <td>'country of citizenship'@en</td>\n",
       "      <td>'culture of France'@en</td>\n",
       "    </tr>\n",
       "    <tr>\n",
       "      <th>2</th>\n",
       "      <td>ulan:500000020</td>\n",
       "      <td>P27</td>\n",
       "      <td>Q242485</td>\n",
       "      <td>'country of citizenship'@en</td>\n",
       "      <td>'Flemings'@en</td>\n",
       "    </tr>\n",
       "    <tr>\n",
       "      <th>3</th>\n",
       "      <td>ulan:500000031</td>\n",
       "      <td>P27</td>\n",
       "      <td>Q1979615</td>\n",
       "      <td>'country of citizenship'@en</td>\n",
       "      <td>'culture of Germany'@en</td>\n",
       "    </tr>\n",
       "    <tr>\n",
       "      <th>4</th>\n",
       "      <td>ulan:500000034</td>\n",
       "      <td>P27</td>\n",
       "      <td>Q1979615</td>\n",
       "      <td>'country of citizenship'@en</td>\n",
       "      <td>'culture of Germany'@en</td>\n",
       "    </tr>\n",
       "    <tr>\n",
       "      <th>5</th>\n",
       "      <td>ulan:500000091</td>\n",
       "      <td>P27</td>\n",
       "      <td>Q1985804</td>\n",
       "      <td>'country of citizenship'@en</td>\n",
       "      <td>'culture of France'@en</td>\n",
       "    </tr>\n",
       "    <tr>\n",
       "      <th>6</th>\n",
       "      <td>ulan:500000123</td>\n",
       "      <td>P27</td>\n",
       "      <td>Q1979615</td>\n",
       "      <td>'country of citizenship'@en</td>\n",
       "      <td>'culture of Germany'@en</td>\n",
       "    </tr>\n",
       "    <tr>\n",
       "      <th>7</th>\n",
       "      <td>ulan:500000178</td>\n",
       "      <td>P27</td>\n",
       "      <td>Q1985804</td>\n",
       "      <td>'country of citizenship'@en</td>\n",
       "      <td>'culture of France'@en</td>\n",
       "    </tr>\n",
       "    <tr>\n",
       "      <th>8</th>\n",
       "      <td>ulan:500000205</td>\n",
       "      <td>P27</td>\n",
       "      <td>Q1979615</td>\n",
       "      <td>'country of citizenship'@en</td>\n",
       "      <td>'culture of Germany'@en</td>\n",
       "    </tr>\n",
       "    <tr>\n",
       "      <th>9</th>\n",
       "      <td>ulan:500000215</td>\n",
       "      <td>P27</td>\n",
       "      <td>Q1985804</td>\n",
       "      <td>'country of citizenship'@en</td>\n",
       "      <td>'culture of France'@en</td>\n",
       "    </tr>\n",
       "  </tbody>\n",
       "</table>\n",
       "</div>"
      ],
      "text/plain": [
       "            node1 label     node2                  label;label  \\\n",
       "0  ulan:500000007   P27  Q1979615  'country of citizenship'@en   \n",
       "1  ulan:500000016   P27  Q1985804  'country of citizenship'@en   \n",
       "2  ulan:500000020   P27   Q242485  'country of citizenship'@en   \n",
       "3  ulan:500000031   P27  Q1979615  'country of citizenship'@en   \n",
       "4  ulan:500000034   P27  Q1979615  'country of citizenship'@en   \n",
       "5  ulan:500000091   P27  Q1985804  'country of citizenship'@en   \n",
       "6  ulan:500000123   P27  Q1979615  'country of citizenship'@en   \n",
       "7  ulan:500000178   P27  Q1985804  'country of citizenship'@en   \n",
       "8  ulan:500000205   P27  Q1979615  'country of citizenship'@en   \n",
       "9  ulan:500000215   P27  Q1985804  'country of citizenship'@en   \n",
       "\n",
       "               node2;label  \n",
       "0  'culture of Germany'@en  \n",
       "1   'culture of France'@en  \n",
       "2            'Flemings'@en  \n",
       "3  'culture of Germany'@en  \n",
       "4  'culture of Germany'@en  \n",
       "5   'culture of France'@en  \n",
       "6  'culture of Germany'@en  \n",
       "7   'culture of France'@en  \n",
       "8  'culture of Germany'@en  \n",
       "9   'culture of France'@en  "
      ]
     },
     "execution_count": 69,
     "metadata": {},
     "output_type": "execute_result"
    }
   ],
   "source": [
    "%%time\n",
    "kgtk(\"\"\"\n",
    "    query -i $WIKI_UNKNOWN $ULAN_NATION_CONCAT_ID\n",
    "        --match 'unknown: (ulanid)-[]->(), \n",
    "                 ulan: (ulanid)-[p0]->()-[p1]->()-[p2]->(gender)'\n",
    "        --where 'p0.label = \"foaf:focus\" AND\n",
    "                 p1.label = \"gvp:nationalityPreferred\" AND\n",
    "                 p2.label = \"skos:exactMatch\"'\n",
    "        --return 'distinct ulanid as node1, \"P27\" as label, gender as node2'\n",
    "        --limit 10\n",
    "    / add-labels\n",
    "    \"\"\")"
   ]
  },
  {
   "cell_type": "code",
   "execution_count": 72,
   "id": "26010909",
   "metadata": {},
   "outputs": [
    {
     "name": "stdout",
     "output_type": "stream",
     "text": [
      "CPU times: user 4.97 ms, sys: 13.3 ms, total: 18.2 ms\n",
      "Wall time: 5.17 s\n"
     ]
    }
   ],
   "source": [
    "%%time\n",
    "kgtk(\"\"\"\n",
    "    query -i $WIKI_UNKNOWN $ULAN_NATION_CONCAT_ID\n",
    "        --match 'unknown: (ulanid)-[]->(), \n",
    "                 ulan: (ulanid)-[p0]->()-[p1]->()-[p2]->(nation)'\n",
    "        --where 'p0.label = \"foaf:focus\" AND\n",
    "                 p1.label = \"gvp:nationalityPreferred\" AND\n",
    "                 p2.label = \"skos:exactMatch\"'\n",
    "        --return 'distinct ulanid as node1, \"P27\" as label, nation as node2'\n",
    "        -o $GETTY_NATION\n",
    "    \"\"\")"
   ]
  },
  {
   "cell_type": "markdown",
   "id": "68dd2283",
   "metadata": {},
   "source": [
    "Count how many new results (in ULAN ID) we found"
   ]
  },
  {
   "cell_type": "code",
   "execution_count": 73,
   "id": "4d86e544",
   "metadata": {},
   "outputs": [
    {
     "data": {
      "text/html": [
       "<div>\n",
       "<style scoped>\n",
       "    .dataframe tbody tr th:only-of-type {\n",
       "        vertical-align: middle;\n",
       "    }\n",
       "\n",
       "    .dataframe tbody tr th {\n",
       "        vertical-align: top;\n",
       "    }\n",
       "\n",
       "    .dataframe thead th {\n",
       "        text-align: right;\n",
       "    }\n",
       "</style>\n",
       "<table border=\"1\" class=\"dataframe\">\n",
       "  <thead>\n",
       "    <tr style=\"text-align: right;\">\n",
       "      <th></th>\n",
       "      <th>count(DISTINCT graph_648_c1.\"node1\")</th>\n",
       "    </tr>\n",
       "  </thead>\n",
       "  <tbody>\n",
       "    <tr>\n",
       "      <th>0</th>\n",
       "      <td>5022</td>\n",
       "    </tr>\n",
       "  </tbody>\n",
       "</table>\n",
       "</div>"
      ],
      "text/plain": [
       "   count(DISTINCT graph_648_c1.\"node1\")\n",
       "0                                  5022"
      ]
     },
     "execution_count": 73,
     "metadata": {},
     "output_type": "execute_result"
    }
   ],
   "source": [
    "kgtk(\"\"\"\n",
    "    query -i $GETTY_NATION\n",
    "        --match '(ulanid)-[]->(gender)'\n",
    "        --return 'count(distinct ulanid)'\n",
    "    \"\"\")"
   ]
  },
  {
   "cell_type": "markdown",
   "id": "ddf10c85",
   "metadata": {},
   "source": [
    "## Step 4: Record New Results"
   ]
  },
  {
   "cell_type": "markdown",
   "id": "45b486cc",
   "metadata": {},
   "source": [
    "Map back to Wikidata"
   ]
  },
  {
   "cell_type": "code",
   "execution_count": 74,
   "id": "bbf37240",
   "metadata": {
    "scrolled": true
   },
   "outputs": [
    {
     "name": "stdout",
     "output_type": "stream",
     "text": [
      "CPU times: user 9.41 ms, sys: 8.4 ms, total: 17.8 ms\n",
      "Wall time: 5.56 s\n"
     ]
    }
   ],
   "source": [
    "%%time\n",
    "kgtk(\"\"\"\n",
    "    query -i $GETTY_NATION $ULAN_ALIGN\n",
    "        --match 'g: (ulanid)-[p]->(gender), \n",
    "                 w: (ulanid)-[]->(qnode)'\n",
    "        --return 'distinct qnode as node1, p.label as label, gender as node2'\n",
    "        -o $GETTY_MAPPED\n",
    "    \"\"\")"
   ]
  },
  {
   "cell_type": "markdown",
   "id": "f9e0bf3e",
   "metadata": {},
   "source": [
    "Count how many new results (in Qnode) we found"
   ]
  },
  {
   "cell_type": "code",
   "execution_count": 75,
   "id": "9597db09",
   "metadata": {},
   "outputs": [
    {
     "data": {
      "text/html": [
       "<div>\n",
       "<style scoped>\n",
       "    .dataframe tbody tr th:only-of-type {\n",
       "        vertical-align: middle;\n",
       "    }\n",
       "\n",
       "    .dataframe tbody tr th {\n",
       "        vertical-align: top;\n",
       "    }\n",
       "\n",
       "    .dataframe thead th {\n",
       "        text-align: right;\n",
       "    }\n",
       "</style>\n",
       "<table border=\"1\" class=\"dataframe\">\n",
       "  <thead>\n",
       "    <tr style=\"text-align: right;\">\n",
       "      <th></th>\n",
       "      <th>count(DISTINCT graph_649_c1.\"node1\")</th>\n",
       "    </tr>\n",
       "  </thead>\n",
       "  <tbody>\n",
       "    <tr>\n",
       "      <th>0</th>\n",
       "      <td>5019</td>\n",
       "    </tr>\n",
       "  </tbody>\n",
       "</table>\n",
       "</div>"
      ],
      "text/plain": [
       "   count(DISTINCT graph_649_c1.\"node1\")\n",
       "0                                  5019"
      ]
     },
     "execution_count": 75,
     "metadata": {},
     "output_type": "execute_result"
    }
   ],
   "source": [
    "kgtk(\"\"\"\n",
    "    query -i $GETTY_MAPPED\n",
    "        --match '(qnode)-[]->(gender)'\n",
    "        --return 'count(distinct qnode)'\n",
    "    \"\"\")"
   ]
  },
  {
   "cell_type": "markdown",
   "id": "e4facf84",
   "metadata": {},
   "source": [
    "## Step 5: Validate with Wikidata Constraints"
   ]
  },
  {
   "cell_type": "markdown",
   "id": "4ee909ad",
   "metadata": {},
   "source": [
    "Count how many new results we found (Qnodes)"
   ]
  },
  {
   "cell_type": "code",
   "execution_count": 81,
   "id": "f889d4b4",
   "metadata": {},
   "outputs": [
    {
     "name": "stdout",
     "output_type": "stream",
     "text": [
      "CPU times: user 7.48 ms, sys: 11.6 ms, total: 19.1 ms\n",
      "Wall time: 6.37 s\n"
     ]
    }
   ],
   "source": [
    "%%time\n",
    "kgtk(\"\"\"\n",
    "    query -i $GETTY_MAPPED $P31 $P279STAR \\\n",
    "        --match 'g: (node1)-[nodeProp]->(node2), P31: (node2)-[]->(nodex), P279star: (nodex)-[]->(par)' \\\n",
    "        --where 'par in [\"Q7275\", \"Q57662985\", \"Q6266\", \"Q161243\", \"Q148837\", \"Q2775969\", \"Q231002\", \"Q170156\", \"Q6256\", \"Q3024240\", \"Q15239622\", \"Q1145276\", \"Q133442\", \"Q1048835\"]' \\\n",
    "        --return 'distinct node1 as `node1`, nodeProp.label as `label`, node2 as `node2`' \\\n",
    "        -o $CORRECT_TEMP_1\n",
    "    \"\"\")"
   ]
  },
  {
   "cell_type": "code",
   "execution_count": 82,
   "id": "1dde5378",
   "metadata": {},
   "outputs": [
    {
     "name": "stdout",
     "output_type": "stream",
     "text": [
      "CPU times: user 7.15 ms, sys: 9.23 ms, total: 16.4 ms\n",
      "Wall time: 4.53 s\n"
     ]
    }
   ],
   "source": [
    "%%time\n",
    "kgtk(\"\"\"\n",
    "    ifnotexists -i $GETTY_MAPPED \\\n",
    "        --filter-on $CORRECT_TEMP_1 \\\n",
    "        --input-keys node1 node2 \\\n",
    "        --filter-keys node1 node2 \\\n",
    "        -o $INCORRECT_TEMP\n",
    "    \"\"\")"
   ]
  },
  {
   "cell_type": "code",
   "execution_count": 83,
   "id": "d7d87e65",
   "metadata": {},
   "outputs": [
    {
     "name": "stdout",
     "output_type": "stream",
     "text": [
      "CPU times: user 6.42 ms, sys: 11.6 ms, total: 18 ms\n",
      "Wall time: 5.77 s\n"
     ]
    }
   ],
   "source": [
    "%%time\n",
    "kgtk(\"\"\"\n",
    "    query -i $INCORRECT_TEMP $P279STAR \\\n",
    "        --match 'i: (node1)-[nodeProp]->(node2), P279star: (node2)-[]->(par)' \\\n",
    "        --where 'par in [\"Q7275\", \"Q57662985\", \"Q6266\", \"Q161243\", \"Q148837\", \"Q2775969\", \"Q231002\", \"Q170156\", \"Q6256\", \"Q3024240\", \"Q15239622\", \"Q1145276\", \"Q133442\", \"Q1048835\"]' \\\n",
    "        --return 'distinct node1 as `node1`, nodeProp.label as `label`, node2 as `node2`' \\\n",
    "        -o $CORRECT_TEMP_2\n",
    "    \"\"\")"
   ]
  },
  {
   "cell_type": "code",
   "execution_count": 84,
   "id": "f1a8e81a",
   "metadata": {},
   "outputs": [
    {
     "name": "stdout",
     "output_type": "stream",
     "text": [
      "CPU times: user 8.6 ms, sys: 8.6 ms, total: 17.2 ms\n",
      "Wall time: 4.51 s\n"
     ]
    }
   ],
   "source": [
    "%%time\n",
    "kgtk(\"\"\"\n",
    "    ifnotexists -i $INCORRECT_TEMP \\\n",
    "        --filter-on $CORRECT_TEMP_2 \\\n",
    "        --input-keys node1 node2 \\\n",
    "        --filter-keys node1 node2 \\\n",
    "        -o $INCORRECT\n",
    "    \"\"\")"
   ]
  },
  {
   "cell_type": "code",
   "execution_count": 85,
   "id": "6830b5b5",
   "metadata": {},
   "outputs": [
    {
     "name": "stdout",
     "output_type": "stream",
     "text": [
      "CPU times: user 7.55 ms, sys: 9.62 ms, total: 17.2 ms\n",
      "Wall time: 5.93 s\n"
     ]
    }
   ],
   "source": [
    "%%time\n",
    "kgtk(\"\"\"\n",
    "    cat -i $CORRECT_TEMP_1 $CORRECT_TEMP_2 -o $CORRECT\n",
    "    \"\"\")"
   ]
  },
  {
   "cell_type": "markdown",
   "id": "9cde0105",
   "metadata": {},
   "source": [
    "Count (in ULAN ID) how many correct new results:"
   ]
  },
  {
   "cell_type": "code",
   "execution_count": 100,
   "id": "44d43f51",
   "metadata": {},
   "outputs": [
    {
     "data": {
      "text/html": [
       "<div>\n",
       "<style scoped>\n",
       "    .dataframe tbody tr th:only-of-type {\n",
       "        vertical-align: middle;\n",
       "    }\n",
       "\n",
       "    .dataframe tbody tr th {\n",
       "        vertical-align: top;\n",
       "    }\n",
       "\n",
       "    .dataframe thead th {\n",
       "        text-align: right;\n",
       "    }\n",
       "</style>\n",
       "<table border=\"1\" class=\"dataframe\">\n",
       "  <thead>\n",
       "    <tr style=\"text-align: right;\">\n",
       "      <th></th>\n",
       "      <th>count(DISTINCT graph_627_c2.\"node1\")</th>\n",
       "    </tr>\n",
       "  </thead>\n",
       "  <tbody>\n",
       "    <tr>\n",
       "      <th>0</th>\n",
       "      <td>269</td>\n",
       "    </tr>\n",
       "  </tbody>\n",
       "</table>\n",
       "</div>"
      ],
      "text/plain": [
       "   count(DISTINCT graph_627_c2.\"node1\")\n",
       "0                                   269"
      ]
     },
     "execution_count": 100,
     "metadata": {},
     "output_type": "execute_result"
    }
   ],
   "source": [
    "kgtk(\"\"\"\n",
    "    query -i $CORRECT $ULAN_ALIGN\n",
    "        --match 'c: (qnode)-[]->(), w: (ulanid)-[]->(qnode)'\n",
    "        --return 'count(distinct ulanid)'\n",
    "    \"\"\")"
   ]
  },
  {
   "cell_type": "code",
   "execution_count": 3,
   "id": "46713104",
   "metadata": {},
   "outputs": [
    {
     "data": {
      "text/html": [
       "<div>\n",
       "<style scoped>\n",
       "    .dataframe tbody tr th:only-of-type {\n",
       "        vertical-align: middle;\n",
       "    }\n",
       "\n",
       "    .dataframe tbody tr th {\n",
       "        vertical-align: top;\n",
       "    }\n",
       "\n",
       "    .dataframe thead th {\n",
       "        text-align: right;\n",
       "    }\n",
       "</style>\n",
       "<table border=\"1\" class=\"dataframe\">\n",
       "  <thead>\n",
       "    <tr style=\"text-align: right;\">\n",
       "      <th></th>\n",
       "      <th>count(DISTINCT graph_627_c2.\"node1\")</th>\n",
       "    </tr>\n",
       "  </thead>\n",
       "  <tbody>\n",
       "    <tr>\n",
       "      <th>0</th>\n",
       "      <td>4765</td>\n",
       "    </tr>\n",
       "  </tbody>\n",
       "</table>\n",
       "</div>"
      ],
      "text/plain": [
       "   count(DISTINCT graph_627_c2.\"node1\")\n",
       "0                                  4765"
      ]
     },
     "execution_count": 3,
     "metadata": {},
     "output_type": "execute_result"
    }
   ],
   "source": [
    "kgtk(\"\"\"\n",
    "    query -i $INCORRECT $ULAN_ALIGN\n",
    "        --match 'c: (qnode)-[]->(), w: (ulanid)-[]->(qnode)'\n",
    "        --return 'count(distinct ulanid)'\n",
    "    \"\"\")"
   ]
  },
  {
   "cell_type": "markdown",
   "id": "c8a73ce4",
   "metadata": {},
   "source": [
    "Count (in Qnode) how many correct new results:"
   ]
  },
  {
   "cell_type": "code",
   "execution_count": 10,
   "id": "8ebdaed8",
   "metadata": {},
   "outputs": [
    {
     "data": {
      "text/html": [
       "<div>\n",
       "<style scoped>\n",
       "    .dataframe tbody tr th:only-of-type {\n",
       "        vertical-align: middle;\n",
       "    }\n",
       "\n",
       "    .dataframe tbody tr th {\n",
       "        vertical-align: top;\n",
       "    }\n",
       "\n",
       "    .dataframe thead th {\n",
       "        text-align: right;\n",
       "    }\n",
       "</style>\n",
       "<table border=\"1\" class=\"dataframe\">\n",
       "  <thead>\n",
       "    <tr style=\"text-align: right;\">\n",
       "      <th></th>\n",
       "      <th>count(DISTINCT graph_651_c1.\"node1\")</th>\n",
       "    </tr>\n",
       "  </thead>\n",
       "  <tbody>\n",
       "    <tr>\n",
       "      <th>0</th>\n",
       "      <td>271</td>\n",
       "    </tr>\n",
       "  </tbody>\n",
       "</table>\n",
       "</div>"
      ],
      "text/plain": [
       "   count(DISTINCT graph_651_c1.\"node1\")\n",
       "0                                   271"
      ]
     },
     "execution_count": 10,
     "metadata": {},
     "output_type": "execute_result"
    }
   ],
   "source": [
    "kgtk(\"\"\"\n",
    "    query -i $CORRECT $ULAN_ALIGN\n",
    "        --match 'c: (qnode)-[]->(), w: (ulanid)-[]->(qnode)'\n",
    "        --return 'count(distinct qnode)'\n",
    "    \"\"\")"
   ]
  },
  {
   "cell_type": "markdown",
   "id": "89de79ac",
   "metadata": {},
   "source": [
    "Count (in Qnode) how many incorrect new results:"
   ]
  },
  {
   "cell_type": "code",
   "execution_count": 12,
   "id": "674e657f",
   "metadata": {},
   "outputs": [
    {
     "data": {
      "text/html": [
       "<div>\n",
       "<style scoped>\n",
       "    .dataframe tbody tr th:only-of-type {\n",
       "        vertical-align: middle;\n",
       "    }\n",
       "\n",
       "    .dataframe tbody tr th {\n",
       "        vertical-align: top;\n",
       "    }\n",
       "\n",
       "    .dataframe thead th {\n",
       "        text-align: right;\n",
       "    }\n",
       "</style>\n",
       "<table border=\"1\" class=\"dataframe\">\n",
       "  <thead>\n",
       "    <tr style=\"text-align: right;\">\n",
       "      <th></th>\n",
       "      <th>count(DISTINCT graph_652_c1.\"node1\")</th>\n",
       "    </tr>\n",
       "  </thead>\n",
       "  <tbody>\n",
       "    <tr>\n",
       "      <th>0</th>\n",
       "      <td>4752</td>\n",
       "    </tr>\n",
       "  </tbody>\n",
       "</table>\n",
       "</div>"
      ],
      "text/plain": [
       "   count(DISTINCT graph_652_c1.\"node1\")\n",
       "0                                  4752"
      ]
     },
     "execution_count": 12,
     "metadata": {},
     "output_type": "execute_result"
    }
   ],
   "source": [
    "kgtk(\"\"\"\n",
    "    query -i $INCORRECT $ULAN_ALIGN\n",
    "        --match 'c: (qnode)-[]->(), w: (ulanid)-[]->(qnode)'\n",
    "        --return 'count(distinct qnode)'\n",
    "    \"\"\")"
   ]
  },
  {
   "cell_type": "markdown",
   "id": "55523e76",
   "metadata": {},
   "source": [
    "## Step 6: Record Unknown after Query\n",
    "We record unknowns after query Getty, including those uncorrect results."
   ]
  },
  {
   "cell_type": "code",
   "execution_count": 96,
   "id": "02a65275",
   "metadata": {},
   "outputs": [],
   "source": [
    "kgtk(\"\"\"\n",
    "    ifnotexists -i $WIKI_UNKNOWN \n",
    "        --filter-on $CORRECT \n",
    "        --input-keys node2 \n",
    "        --filter-keys node1\n",
    "        -o $UNKNOWN\n",
    "    \"\"\")"
   ]
  },
  {
   "cell_type": "code",
   "execution_count": 97,
   "id": "fad03804",
   "metadata": {},
   "outputs": [
    {
     "data": {
      "text/html": [
       "<div>\n",
       "<style scoped>\n",
       "    .dataframe tbody tr th:only-of-type {\n",
       "        vertical-align: middle;\n",
       "    }\n",
       "\n",
       "    .dataframe tbody tr th {\n",
       "        vertical-align: top;\n",
       "    }\n",
       "\n",
       "    .dataframe thead th {\n",
       "        text-align: right;\n",
       "    }\n",
       "</style>\n",
       "<table border=\"1\" class=\"dataframe\">\n",
       "  <thead>\n",
       "    <tr style=\"text-align: right;\">\n",
       "      <th></th>\n",
       "      <th>count(DISTINCT graph_653_c1.\"node1\")</th>\n",
       "    </tr>\n",
       "  </thead>\n",
       "  <tbody>\n",
       "    <tr>\n",
       "      <th>0</th>\n",
       "      <td>22697</td>\n",
       "    </tr>\n",
       "  </tbody>\n",
       "</table>\n",
       "</div>"
      ],
      "text/plain": [
       "   count(DISTINCT graph_653_c1.\"node1\")\n",
       "0                                 22697"
      ]
     },
     "execution_count": 97,
     "metadata": {},
     "output_type": "execute_result"
    }
   ],
   "source": [
    "# count in ULAN IDs\n",
    "kgtk(\"\"\"\n",
    "    query -i $UNKNOWN\n",
    "        --match '(ulanid)-[]->(qnode)'\n",
    "        --return 'count(distinct ulanid)'\n",
    "    \"\"\")"
   ]
  },
  {
   "cell_type": "code",
   "execution_count": 13,
   "id": "9b8627b1",
   "metadata": {},
   "outputs": [
    {
     "data": {
      "text/html": [
       "<div>\n",
       "<style scoped>\n",
       "    .dataframe tbody tr th:only-of-type {\n",
       "        vertical-align: middle;\n",
       "    }\n",
       "\n",
       "    .dataframe tbody tr th {\n",
       "        vertical-align: top;\n",
       "    }\n",
       "\n",
       "    .dataframe thead th {\n",
       "        text-align: right;\n",
       "    }\n",
       "</style>\n",
       "<table border=\"1\" class=\"dataframe\">\n",
       "  <thead>\n",
       "    <tr style=\"text-align: right;\">\n",
       "      <th></th>\n",
       "      <th>count(DISTINCT graph_653_c1.\"node2\")</th>\n",
       "    </tr>\n",
       "  </thead>\n",
       "  <tbody>\n",
       "    <tr>\n",
       "      <th>0</th>\n",
       "      <td>22648</td>\n",
       "    </tr>\n",
       "  </tbody>\n",
       "</table>\n",
       "</div>"
      ],
      "text/plain": [
       "   count(DISTINCT graph_653_c1.\"node2\")\n",
       "0                                 22648"
      ]
     },
     "execution_count": 13,
     "metadata": {},
     "output_type": "execute_result"
    }
   ],
   "source": [
    "# count in Qnodes\n",
    "kgtk(\"\"\"\n",
    "    query -i $UNKNOWN\n",
    "        --match '(ulanid)-[]->(qnode)'\n",
    "        --return 'count(distinct qnode)'\n",
    "    \"\"\")"
   ]
  },
  {
   "cell_type": "markdown",
   "id": "8594fd4e",
   "metadata": {},
   "source": [
    "# Step 7: Comparison of the Known Values¶\n",
    "How often do the results from two knowledge graphs agree"
   ]
  },
  {
   "cell_type": "code",
   "execution_count": 4,
   "id": "9b2ba07c",
   "metadata": {},
   "outputs": [
    {
     "name": "stdout",
     "output_type": "stream",
     "text": [
      "CPU times: user 11.4 ms, sys: 17 ms, total: 28.4 ms\n",
      "Wall time: 6.46 s\n"
     ]
    }
   ],
   "source": [
    "%%time\n",
    "kgtk(\"\"\"\n",
    "    query -i $ULAN_ALIGN $ULAN_NATION_CONCAT_ID\n",
    "        --match 'w: (ulanid)-[]->(), \n",
    "                 u: (ulanid)-[p0]->()-[p1]->()-[p2]->(nation)'\n",
    "        --where 'p0.label = \"foaf:focus\" AND\n",
    "                 p1.label = \"gvp:nationalityPreferred\" AND\n",
    "                 p2.label = \"skos:exactMatch\"'\n",
    "        --return 'distinct ulanid as node1, \"P27\" as label, nation as node2'\n",
    "        -o $GETTY_AGREE\n",
    "    \"\"\")"
   ]
  },
  {
   "cell_type": "code",
   "execution_count": 21,
   "id": "ebd0e86f",
   "metadata": {},
   "outputs": [
    {
     "data": {
      "text/html": [
       "<div>\n",
       "<style scoped>\n",
       "    .dataframe tbody tr th:only-of-type {\n",
       "        vertical-align: middle;\n",
       "    }\n",
       "\n",
       "    .dataframe tbody tr th {\n",
       "        vertical-align: top;\n",
       "    }\n",
       "\n",
       "    .dataframe thead th {\n",
       "        text-align: right;\n",
       "    }\n",
       "</style>\n",
       "<table border=\"1\" class=\"dataframe\">\n",
       "  <thead>\n",
       "    <tr style=\"text-align: right;\">\n",
       "      <th></th>\n",
       "      <th>count(graph_894_c1.\"node2\")</th>\n",
       "    </tr>\n",
       "  </thead>\n",
       "  <tbody>\n",
       "    <tr>\n",
       "      <th>0</th>\n",
       "      <td>27788</td>\n",
       "    </tr>\n",
       "  </tbody>\n",
       "</table>\n",
       "</div>"
      ],
      "text/plain": [
       "   count(graph_894_c1.\"node2\")\n",
       "0                        27788"
      ]
     },
     "execution_count": 21,
     "metadata": {},
     "output_type": "execute_result"
    }
   ],
   "source": [
    "kgtk(\"\"\"\n",
    "    query -i $GETTY_AGREE $P31\n",
    "        --match 'g: ()-[]->(nation), P: (nation)-[]->(class)'\n",
    "        --return 'count(nation)'\n",
    "    \"\"\")"
   ]
  },
  {
   "cell_type": "code",
   "execution_count": 22,
   "id": "1f210585",
   "metadata": {},
   "outputs": [
    {
     "data": {
      "text/html": [
       "<div>\n",
       "<style scoped>\n",
       "    .dataframe tbody tr th:only-of-type {\n",
       "        vertical-align: middle;\n",
       "    }\n",
       "\n",
       "    .dataframe tbody tr th {\n",
       "        vertical-align: top;\n",
       "    }\n",
       "\n",
       "    .dataframe thead th {\n",
       "        text-align: right;\n",
       "    }\n",
       "</style>\n",
       "<table border=\"1\" class=\"dataframe\">\n",
       "  <thead>\n",
       "    <tr style=\"text-align: right;\">\n",
       "      <th></th>\n",
       "      <th>node2</th>\n",
       "      <th>N</th>\n",
       "    </tr>\n",
       "  </thead>\n",
       "  <tbody>\n",
       "    <tr>\n",
       "      <th>0</th>\n",
       "      <td>Q19958368</td>\n",
       "      <td>22582</td>\n",
       "    </tr>\n",
       "    <tr>\n",
       "      <th>1</th>\n",
       "      <td>Q41710</td>\n",
       "      <td>1647</td>\n",
       "    </tr>\n",
       "    <tr>\n",
       "      <th>2</th>\n",
       "      <td>Q3624078</td>\n",
       "      <td>400</td>\n",
       "    </tr>\n",
       "    <tr>\n",
       "      <th>3</th>\n",
       "      <td>Q6256</td>\n",
       "      <td>306</td>\n",
       "    </tr>\n",
       "    <tr>\n",
       "      <th>4</th>\n",
       "      <td>Q223832</td>\n",
       "      <td>305</td>\n",
       "    </tr>\n",
       "    <tr>\n",
       "      <th>5</th>\n",
       "      <td>Q202686</td>\n",
       "      <td>305</td>\n",
       "    </tr>\n",
       "    <tr>\n",
       "      <th>6</th>\n",
       "      <td>Q1351282</td>\n",
       "      <td>305</td>\n",
       "    </tr>\n",
       "    <tr>\n",
       "      <th>7</th>\n",
       "      <td>Q112099</td>\n",
       "      <td>305</td>\n",
       "    </tr>\n",
       "    <tr>\n",
       "      <th>8</th>\n",
       "      <td>Q28171280</td>\n",
       "      <td>186</td>\n",
       "    </tr>\n",
       "    <tr>\n",
       "      <th>9</th>\n",
       "      <td>Q11042</td>\n",
       "      <td>164</td>\n",
       "    </tr>\n",
       "    <tr>\n",
       "      <th>10</th>\n",
       "      <td>Q3502482</td>\n",
       "      <td>160</td>\n",
       "    </tr>\n",
       "    <tr>\n",
       "      <th>11</th>\n",
       "      <td>Q43702</td>\n",
       "      <td>159</td>\n",
       "    </tr>\n",
       "    <tr>\n",
       "      <th>12</th>\n",
       "      <td>Q19953632</td>\n",
       "      <td>159</td>\n",
       "    </tr>\n",
       "    <tr>\n",
       "      <th>13</th>\n",
       "      <td>Q1620908</td>\n",
       "      <td>159</td>\n",
       "    </tr>\n",
       "    <tr>\n",
       "      <th>14</th>\n",
       "      <td>Q2472587</td>\n",
       "      <td>79</td>\n",
       "    </tr>\n",
       "    <tr>\n",
       "      <th>15</th>\n",
       "      <td>Q12104193</td>\n",
       "      <td>79</td>\n",
       "    </tr>\n",
       "    <tr>\n",
       "      <th>16</th>\n",
       "      <td>Q3024240</td>\n",
       "      <td>68</td>\n",
       "    </tr>\n",
       "    <tr>\n",
       "      <th>17</th>\n",
       "      <td>Q7270</td>\n",
       "      <td>61</td>\n",
       "    </tr>\n",
       "    <tr>\n",
       "      <th>18</th>\n",
       "      <td>Q123480</td>\n",
       "      <td>61</td>\n",
       "    </tr>\n",
       "    <tr>\n",
       "      <th>19</th>\n",
       "      <td>Q34770</td>\n",
       "      <td>42</td>\n",
       "    </tr>\n",
       "    <tr>\n",
       "      <th>20</th>\n",
       "      <td>Q33742</td>\n",
       "      <td>42</td>\n",
       "    </tr>\n",
       "    <tr>\n",
       "      <th>21</th>\n",
       "      <td>Q152559</td>\n",
       "      <td>42</td>\n",
       "    </tr>\n",
       "    <tr>\n",
       "      <th>22</th>\n",
       "      <td>Q1288568</td>\n",
       "      <td>42</td>\n",
       "    </tr>\n",
       "    <tr>\n",
       "      <th>23</th>\n",
       "      <td>Q48349</td>\n",
       "      <td>28</td>\n",
       "    </tr>\n",
       "    <tr>\n",
       "      <th>24</th>\n",
       "      <td>Q8432</td>\n",
       "      <td>12</td>\n",
       "    </tr>\n",
       "    <tr>\n",
       "      <th>25</th>\n",
       "      <td>Q217438</td>\n",
       "      <td>12</td>\n",
       "    </tr>\n",
       "    <tr>\n",
       "      <th>26</th>\n",
       "      <td>Q2531956</td>\n",
       "      <td>9</td>\n",
       "    </tr>\n",
       "    <tr>\n",
       "      <th>27</th>\n",
       "      <td>Q851990</td>\n",
       "      <td>7</td>\n",
       "    </tr>\n",
       "    <tr>\n",
       "      <th>28</th>\n",
       "      <td>Q231002</td>\n",
       "      <td>7</td>\n",
       "    </tr>\n",
       "    <tr>\n",
       "      <th>29</th>\n",
       "      <td>Q33829</td>\n",
       "      <td>6</td>\n",
       "    </tr>\n",
       "    <tr>\n",
       "      <th>30</th>\n",
       "      <td>Q22947</td>\n",
       "      <td>6</td>\n",
       "    </tr>\n",
       "    <tr>\n",
       "      <th>31</th>\n",
       "      <td>Q1093720</td>\n",
       "      <td>5</td>\n",
       "    </tr>\n",
       "    <tr>\n",
       "      <th>32</th>\n",
       "      <td>Q968159</td>\n",
       "      <td>3</td>\n",
       "    </tr>\n",
       "    <tr>\n",
       "      <th>33</th>\n",
       "      <td>Q879146</td>\n",
       "      <td>3</td>\n",
       "    </tr>\n",
       "    <tr>\n",
       "      <th>34</th>\n",
       "      <td>Q82794</td>\n",
       "      <td>3</td>\n",
       "    </tr>\n",
       "    <tr>\n",
       "      <th>35</th>\n",
       "      <td>Q28790362</td>\n",
       "      <td>3</td>\n",
       "    </tr>\n",
       "    <tr>\n",
       "      <th>36</th>\n",
       "      <td>Q2250943</td>\n",
       "      <td>3</td>\n",
       "    </tr>\n",
       "    <tr>\n",
       "      <th>37</th>\n",
       "      <td>Q20746389</td>\n",
       "      <td>3</td>\n",
       "    </tr>\n",
       "    <tr>\n",
       "      <th>38</th>\n",
       "      <td>Q9174</td>\n",
       "      <td>1</td>\n",
       "    </tr>\n",
       "    <tr>\n",
       "      <th>39</th>\n",
       "      <td>Q61129413</td>\n",
       "      <td>1</td>\n",
       "    </tr>\n",
       "    <tr>\n",
       "      <th>40</th>\n",
       "      <td>Q47280</td>\n",
       "      <td>1</td>\n",
       "    </tr>\n",
       "    <tr>\n",
       "      <th>41</th>\n",
       "      <td>Q4445055</td>\n",
       "      <td>1</td>\n",
       "    </tr>\n",
       "    <tr>\n",
       "      <th>42</th>\n",
       "      <td>Q436240</td>\n",
       "      <td>1</td>\n",
       "    </tr>\n",
       "    <tr>\n",
       "      <th>43</th>\n",
       "      <td>Q3355750</td>\n",
       "      <td>1</td>\n",
       "    </tr>\n",
       "    <tr>\n",
       "      <th>44</th>\n",
       "      <td>Q33384</td>\n",
       "      <td>1</td>\n",
       "    </tr>\n",
       "    <tr>\n",
       "      <th>45</th>\n",
       "      <td>Q32880</td>\n",
       "      <td>1</td>\n",
       "    </tr>\n",
       "    <tr>\n",
       "      <th>46</th>\n",
       "      <td>Q3181749</td>\n",
       "      <td>1</td>\n",
       "    </tr>\n",
       "    <tr>\n",
       "      <th>47</th>\n",
       "      <td>Q2914565</td>\n",
       "      <td>1</td>\n",
       "    </tr>\n",
       "    <tr>\n",
       "      <th>48</th>\n",
       "      <td>Q26934845</td>\n",
       "      <td>1</td>\n",
       "    </tr>\n",
       "    <tr>\n",
       "      <th>49</th>\n",
       "      <td>Q23540</td>\n",
       "      <td>1</td>\n",
       "    </tr>\n",
       "    <tr>\n",
       "      <th>50</th>\n",
       "      <td>Q19842652</td>\n",
       "      <td>1</td>\n",
       "    </tr>\n",
       "    <tr>\n",
       "      <th>51</th>\n",
       "      <td>Q181970</td>\n",
       "      <td>1</td>\n",
       "    </tr>\n",
       "    <tr>\n",
       "      <th>52</th>\n",
       "      <td>Q1792644</td>\n",
       "      <td>1</td>\n",
       "    </tr>\n",
       "    <tr>\n",
       "      <th>53</th>\n",
       "      <td>Q179023</td>\n",
       "      <td>1</td>\n",
       "    </tr>\n",
       "    <tr>\n",
       "      <th>54</th>\n",
       "      <td>Q13414953</td>\n",
       "      <td>1</td>\n",
       "    </tr>\n",
       "    <tr>\n",
       "      <th>55</th>\n",
       "      <td>Q1323642</td>\n",
       "      <td>1</td>\n",
       "    </tr>\n",
       "    <tr>\n",
       "      <th>56</th>\n",
       "      <td>Q1189816</td>\n",
       "      <td>1</td>\n",
       "    </tr>\n",
       "    <tr>\n",
       "      <th>57</th>\n",
       "      <td>Q11197007</td>\n",
       "      <td>1</td>\n",
       "    </tr>\n",
       "  </tbody>\n",
       "</table>\n",
       "</div>"
      ],
      "text/plain": [
       "        node2      N\n",
       "0   Q19958368  22582\n",
       "1      Q41710   1647\n",
       "2    Q3624078    400\n",
       "3       Q6256    306\n",
       "4     Q223832    305\n",
       "5     Q202686    305\n",
       "6    Q1351282    305\n",
       "7     Q112099    305\n",
       "8   Q28171280    186\n",
       "9      Q11042    164\n",
       "10   Q3502482    160\n",
       "11     Q43702    159\n",
       "12  Q19953632    159\n",
       "13   Q1620908    159\n",
       "14   Q2472587     79\n",
       "15  Q12104193     79\n",
       "16   Q3024240     68\n",
       "17      Q7270     61\n",
       "18    Q123480     61\n",
       "19     Q34770     42\n",
       "20     Q33742     42\n",
       "21    Q152559     42\n",
       "22   Q1288568     42\n",
       "23     Q48349     28\n",
       "24      Q8432     12\n",
       "25    Q217438     12\n",
       "26   Q2531956      9\n",
       "27    Q851990      7\n",
       "28    Q231002      7\n",
       "29     Q33829      6\n",
       "30     Q22947      6\n",
       "31   Q1093720      5\n",
       "32    Q968159      3\n",
       "33    Q879146      3\n",
       "34     Q82794      3\n",
       "35  Q28790362      3\n",
       "36   Q2250943      3\n",
       "37  Q20746389      3\n",
       "38      Q9174      1\n",
       "39  Q61129413      1\n",
       "40     Q47280      1\n",
       "41   Q4445055      1\n",
       "42    Q436240      1\n",
       "43   Q3355750      1\n",
       "44     Q33384      1\n",
       "45     Q32880      1\n",
       "46   Q3181749      1\n",
       "47   Q2914565      1\n",
       "48  Q26934845      1\n",
       "49     Q23540      1\n",
       "50  Q19842652      1\n",
       "51    Q181970      1\n",
       "52   Q1792644      1\n",
       "53    Q179023      1\n",
       "54  Q13414953      1\n",
       "55   Q1323642      1\n",
       "56   Q1189816      1\n",
       "57  Q11197007      1"
      ]
     },
     "execution_count": 22,
     "metadata": {},
     "output_type": "execute_result"
    }
   ],
   "source": [
    "kgtk(\"\"\"\n",
    "    query -i $GETTY_AGREE $P31\n",
    "        --match 'g: ()-[]->(nation), P: (nation)-[]->(class)'\n",
    "        --return 'distinct class, count(nation) as N'\n",
    "        --order-by 'N desc'\n",
    "    \"\"\")"
   ]
  },
  {
   "cell_type": "markdown",
   "id": "1f8131a4",
   "metadata": {},
   "source": [
    "Count agree in Qnode:"
   ]
  },
  {
   "cell_type": "code",
   "execution_count": 6,
   "id": "69648c55",
   "metadata": {},
   "outputs": [
    {
     "name": "stdout",
     "output_type": "stream",
     "text": [
      "CPU times: user 11.5 ms, sys: 12.1 ms, total: 23.7 ms\n",
      "Wall time: 4.32 s\n"
     ]
    },
    {
     "data": {
      "text/html": [
       "<div>\n",
       "<style scoped>\n",
       "    .dataframe tbody tr th:only-of-type {\n",
       "        vertical-align: middle;\n",
       "    }\n",
       "\n",
       "    .dataframe tbody tr th {\n",
       "        vertical-align: top;\n",
       "    }\n",
       "\n",
       "    .dataframe thead th {\n",
       "        text-align: right;\n",
       "    }\n",
       "</style>\n",
       "<table border=\"1\" class=\"dataframe\">\n",
       "  <thead>\n",
       "    <tr style=\"text-align: right;\">\n",
       "      <th></th>\n",
       "      <th>count(DISTINCT graph_627_c3.\"node2\")</th>\n",
       "    </tr>\n",
       "  </thead>\n",
       "  <tbody>\n",
       "    <tr>\n",
       "      <th>0</th>\n",
       "      <td>325</td>\n",
       "    </tr>\n",
       "  </tbody>\n",
       "</table>\n",
       "</div>"
      ],
      "text/plain": [
       "   count(DISTINCT graph_627_c3.\"node2\")\n",
       "0                                   325"
      ]
     },
     "execution_count": 6,
     "metadata": {},
     "output_type": "execute_result"
    }
   ],
   "source": [
    "%%time\n",
    "kgtk(\"\"\"\n",
    "    query -i $WIKI_NATION $GETTY_AGREE $ULAN_ALIGN\n",
    "        --match 'n: (ulanid)-[]->(nation), g: (ulanid)-[]->(nation), a: (ulanid)-[]->(qnode)'\n",
    "        --return 'count(distinct qnode)'\n",
    "    \"\"\")"
   ]
  },
  {
   "cell_type": "markdown",
   "id": "0a128656",
   "metadata": {},
   "source": [
    "Count value per node:"
   ]
  },
  {
   "cell_type": "code",
   "execution_count": 9,
   "id": "9f07461a",
   "metadata": {},
   "outputs": [],
   "source": [
    "nodes = kgtk(\"\"\"\n",
    "    query -i $GETTY_AGREE $ULAN_ALIGN \n",
    "        --match 'g: (ulanid)-[]->(), w: (ulanid)-[]->(qnode)'\n",
    "        --return 'count(distinct qnode) as node'\n",
    "    \"\"\")"
   ]
  },
  {
   "cell_type": "code",
   "execution_count": 10,
   "id": "5d034d01",
   "metadata": {},
   "outputs": [],
   "source": [
    "import subprocess\n",
    "\n",
    "values = subprocess.check_output(\"wc -l < $GETTY_AGREE\", shell=True)\n",
    "values = values.decode(\"utf-8\").strip()\n",
    "values = int(values) - 1"
   ]
  },
  {
   "cell_type": "code",
   "execution_count": 11,
   "id": "9ae4d5d1",
   "metadata": {},
   "outputs": [
    {
     "data": {
      "text/plain": [
       "1.0027797081306462"
      ]
     },
     "execution_count": 11,
     "metadata": {},
     "output_type": "execute_result"
    }
   ],
   "source": [
    "values / nodes.iloc[0]['node']"
   ]
  },
  {
   "cell_type": "code",
   "execution_count": null,
   "id": "64bd0b95",
   "metadata": {},
   "outputs": [],
   "source": []
  }
 ],
 "metadata": {
  "kernelspec": {
   "display_name": "Python 3",
   "language": "python",
   "name": "python3"
  },
  "language_info": {
   "codemirror_mode": {
    "name": "ipython",
    "version": 3
   },
   "file_extension": ".py",
   "mimetype": "text/x-python",
   "name": "python",
   "nbconvert_exporter": "python",
   "pygments_lexer": "ipython3",
   "version": "3.7.10"
  }
 },
 "nbformat": 4,
 "nbformat_minor": 5
}
