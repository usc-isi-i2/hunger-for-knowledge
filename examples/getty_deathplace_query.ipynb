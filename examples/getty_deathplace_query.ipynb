{
 "cells": [
  {
   "cell_type": "markdown",
   "id": "ba2f2777",
   "metadata": {},
   "source": [
    "# Getty Query Tutorial (Place of Death)\n",
    "In this notebook, we perform the similar hunger-for-knowledge procedure for place of death in Wikidata and Getty Vocabulary. The main difference is that we generalize the query for single property to the property chain, this is, the path in kgtk."
   ]
  },
  {
   "cell_type": "code",
   "execution_count": 1,
   "id": "028e20b0",
   "metadata": {},
   "outputs": [],
   "source": [
    "import os\n",
    "import json\n",
    "import pandas as pd\n",
    "\n",
    "from kgtk.functions import kgtk, kypher"
   ]
  },
  {
   "cell_type": "markdown",
   "id": "fea94837",
   "metadata": {},
   "source": [
    "## Step 0: Set up environment paths\n",
    "Here we set needed Graph files and desired output files to environment paths."
   ]
  },
  {
   "cell_type": "code",
   "execution_count": 3,
   "id": "3ba1c188",
   "metadata": {
    "scrolled": false
   },
   "outputs": [
    {
     "name": "stdout",
     "output_type": "stream",
     "text": [
      "DATABASE: \"/nas/home/bohuizha/KG/hunger-for-knowledge/data/\"\n",
      "WIKIDATA: \"/nas/home/bohuizha/KG/hunger-for-knowledge/data/claims.tsv\"\n",
      "KGTK_LABEL_FILE: \"/nas/home/bohuizha/KG/hunger-for-knowledge/data/labels.en.tsv\"\n",
      "P31: \"/nas/home/bohuizha/KG/hunger-for-knowledge/data/P31.tsv\"\n",
      "P279STAR: \"/nas/home/bohuizha/KG/hunger-for-knowledge/data/P279star.tsv\"\n",
      "ULAN: \"/nas/home/bohuizha/KG/hunger-for-knowledge/data/gvp/ULAN/\"\n",
      "ULAN_CONCAT_ID: \"/nas/home/bohuizha/KG/hunger-for-knowledge/data/gvp/ULAN/ulan.concat.id.tsv\"\n",
      "ULAN_ALIGN: \"/nas/home/bohuizha/KG/hunger-for-knowledge/data/gvp/ULAN/wiki.align.tsv\"\n",
      "OUTPUT: \"/nas/home/bohuizha/KG/hunger-for-knowledge/data/gvp/pod_output/\"\n",
      "WIKI_POD: \"/nas/home/bohuizha/KG/hunger-for-knowledge/data/gvp/pod_output/wiki.pod.tsv\"\n",
      "WIKI_UNKNOWN: \"/nas/home/bohuizha/KG/hunger-for-knowledge/data/gvp/pod_output/wiki.unknown.tsv\"\n",
      "PAIRS: \"/nas/home/bohuizha/KG/hunger-for-knowledge/data/gvp/pod_output/pairs.tsv\"\n",
      "PATHS: \"/nas/home/bohuizha/KG/hunger-for-knowledge/data/gvp/pod_output/paths.tsv\"\n",
      "PATHS_LABEL: \"/nas/home/bohuizha/KG/hunger-for-knowledge/data/gvp/pod_output/paths.label.tsv\"\n",
      "GETTY_POD: \"/nas/home/bohuizha/KG/hunger-for-knowledge/data/gvp/pod_output/getty.pod.tsv\"\n",
      "GETTY_MAPPED: \"/nas/home/bohuizha/KG/hunger-for-knowledge/data/gvp/pod_output/getty.mapped.tsv\"\n",
      "GETTY_AGREE: \"/nas/home/bohuizha/KG/hunger-for-knowledge/data/gvp/pod_output/getty.agree.tsv\"\n",
      "CORRECT: \"/nas/home/bohuizha/KG/hunger-for-knowledge/data/gvp/pod_output/correct.tsv\"\n",
      "UNKNOWN: \"/nas/home/bohuizha/KG/hunger-for-knowledge/data/gvp/pod_output/unknown.tsv\"\n"
     ]
    }
   ],
   "source": [
    "# We will define environment variables to hold the full paths to the files as we will use them in the shell commands\n",
    "kgtk_environment_variables = []\n",
    "\n",
    "# Folder where database files store\n",
    "data_path = \"/nas/home/bohuizha/KG/hunger-for-knowledge/data/\"\n",
    "os.environ['DATABASE'] = data_path\n",
    "kgtk_environment_variables.append('DATABASE')\n",
    "\n",
    "# Wikidata (all is much less than claims)\n",
    "os.environ['WIKIDATA'] = data_path + \"claims.tsv\"\n",
    "kgtk_environment_variables.append('WIKIDATA')\n",
    "\n",
    "# Label file of Wikidata\n",
    "os.environ['KGTK_LABEL_FILE'] = data_path + \"labels.en.tsv\"\n",
    "kgtk_environment_variables.append('KGTK_LABEL_FILE')\n",
    "\n",
    "# P31\n",
    "os.environ['P31'] = data_path + \"P31.tsv\"\n",
    "kgtk_environment_variables.append('P31')\n",
    "\n",
    "# P279star\n",
    "os.environ['P279STAR'] = data_path + \"P279star.tsv\"\n",
    "kgtk_environment_variables.append('P279STAR')\n",
    "\n",
    "# Folder of ULAN\n",
    "ulan_path = data_path + \"gvp/ULAN/\"\n",
    "os.environ['ULAN'] = ulan_path\n",
    "kgtk_environment_variables.append('ULAN')\n",
    "\n",
    "# Full file provided by Getty \n",
    "# Full file is much truncated in this process thus we will use concat files below instead.\n",
    "# os.environ['ULAN_FULL'] = ulan_path + \"full.tsv\"\n",
    "# kgtk_environment_variables.append('ULAN_FULL')\n",
    "\n",
    "# File concatenated by used explicit files: ULAN Subjects, AgentMap, Biographies, TGN-Wikidata Align\n",
    "# The suffix ID means we performed add-id operation to the graph to meet the requirement of paths command.\n",
    "ulan_concat_path = ulan_path + \"ulan.concat.id.tsv\"\n",
    "os.environ['ULAN_CONCAT_ID'] = ulan_concat_path\n",
    "kgtk_environment_variables.append('ULAN_CONCAT_ID')\n",
    "\n",
    "# ULAN-Wikidata alignment file, maps ULAN ID to Wikidata Qnode\n",
    "ulan_wikialign_path = ulan_path + \"wiki.align.tsv\"\n",
    "os.environ['ULAN_ALIGN'] = ulan_wikialign_path\n",
    "kgtk_environment_variables.append('ULAN_ALIGN')\n",
    "\n",
    "# Output\n",
    "output_path = data_path + \"gvp/pod_output/\"\n",
    "if not os.path.exists(output_path):\n",
    "    os.mkdir(output_path)\n",
    "os.environ['OUTPUT'] = output_path\n",
    "kgtk_environment_variables.append('OUTPUT')\n",
    "\n",
    "# Each file will be explained later in the procedure\n",
    "output_names = {\n",
    "    \"wiki_pod\": \"wiki.pod.tsv\",\n",
    "    \"wiki_unknown\": \"wiki.unknown.tsv\",\n",
    "    \"pairs\": \"pairs.tsv\",\n",
    "    \"paths\": \"paths.tsv\",\n",
    "    \"paths_label\": \"paths.label.tsv\",\n",
    "    \"getty_pod\": \"getty.pod.tsv\",\n",
    "    \"getty_mapped\": \"getty.mapped.tsv\",\n",
    "    \"getty_agree\": \"getty.agree.tsv\",\n",
    "    \"correct\": \"correct.tsv\",\n",
    "    \"unknown\": \"unknown.tsv\"\n",
    "}\n",
    "\n",
    "for key, value in output_names.items():\n",
    "    variable = key.upper()\n",
    "    os.environ[variable] = os.path.join(output_path, value)\n",
    "    kgtk_environment_variables.append(variable)\n",
    "\n",
    "for variable in kgtk_environment_variables:\n",
    "    print(\"{}: \\\"{}\\\"\".format(variable, os.environ[variable]))"
   ]
  },
  {
   "cell_type": "markdown",
   "id": "46481af9",
   "metadata": {},
   "source": [
    "## Step 1: Query Wikidata\n",
    "Query Wikidata for PoD for people that have an ULAN ID (92k people)"
   ]
  },
  {
   "cell_type": "code",
   "execution_count": 3,
   "id": "eff39793",
   "metadata": {},
   "outputs": [
    {
     "data": {
      "text/html": [
       "<div>\n",
       "<style scoped>\n",
       "    .dataframe tbody tr th:only-of-type {\n",
       "        vertical-align: middle;\n",
       "    }\n",
       "\n",
       "    .dataframe tbody tr th {\n",
       "        vertical-align: top;\n",
       "    }\n",
       "\n",
       "    .dataframe thead th {\n",
       "        text-align: right;\n",
       "    }\n",
       "</style>\n",
       "<table border=\"1\" class=\"dataframe\">\n",
       "  <thead>\n",
       "    <tr style=\"text-align: right;\">\n",
       "      <th></th>\n",
       "      <th>count(DISTINCT graph_627_c1.\"node1\")</th>\n",
       "    </tr>\n",
       "  </thead>\n",
       "  <tbody>\n",
       "    <tr>\n",
       "      <th>0</th>\n",
       "      <td>92353</td>\n",
       "    </tr>\n",
       "  </tbody>\n",
       "</table>\n",
       "</div>"
      ],
      "text/plain": [
       "   count(DISTINCT graph_627_c1.\"node1\")\n",
       "0                                 92353"
      ]
     },
     "execution_count": 3,
     "metadata": {},
     "output_type": "execute_result"
    }
   ],
   "source": [
    "# count total poeple\n",
    "# ULAN ID\n",
    "kgtk(\"\"\"\n",
    "    query -i $ULAN_ALIGN \n",
    "        --match '(ulanid)-[]->(qnode)'\n",
    "        --return 'count(distinct ulanid)'\n",
    "    \"\"\")"
   ]
  },
  {
   "cell_type": "code",
   "execution_count": 4,
   "id": "8670f387",
   "metadata": {},
   "outputs": [
    {
     "data": {
      "text/html": [
       "<div>\n",
       "<style scoped>\n",
       "    .dataframe tbody tr th:only-of-type {\n",
       "        vertical-align: middle;\n",
       "    }\n",
       "\n",
       "    .dataframe tbody tr th {\n",
       "        vertical-align: top;\n",
       "    }\n",
       "\n",
       "    .dataframe thead th {\n",
       "        text-align: right;\n",
       "    }\n",
       "</style>\n",
       "<table border=\"1\" class=\"dataframe\">\n",
       "  <thead>\n",
       "    <tr style=\"text-align: right;\">\n",
       "      <th></th>\n",
       "      <th>count(DISTINCT graph_627_c1.\"node2\")</th>\n",
       "    </tr>\n",
       "  </thead>\n",
       "  <tbody>\n",
       "    <tr>\n",
       "      <th>0</th>\n",
       "      <td>92210</td>\n",
       "    </tr>\n",
       "  </tbody>\n",
       "</table>\n",
       "</div>"
      ],
      "text/plain": [
       "   count(DISTINCT graph_627_c1.\"node2\")\n",
       "0                                 92210"
      ]
     },
     "execution_count": 4,
     "metadata": {},
     "output_type": "execute_result"
    }
   ],
   "source": [
    "# Qnode\n",
    "kgtk(\"\"\"\n",
    "    query -i $ULAN_ALIGN \n",
    "        --match '(ulanid)-[]->(qnode)'\n",
    "        --return 'count(distinct qnode)'\n",
    "    \"\"\")"
   ]
  },
  {
   "cell_type": "code",
   "execution_count": null,
   "id": "24f69c06",
   "metadata": {},
   "outputs": [],
   "source": [
    "## %%time\n",
    "kgtk(\"\"\"\n",
    "    query -i $ULAN_ALIGN $WIKIDATA\n",
    "        --match 'w: (ulanid)-[]->(qnode), \n",
    "                 a: (qnode)-[:P20]->(pod)' \n",
    "        --return 'distinct ulanid as node1, \"P20\" as label, pod as node2'\n",
    "        --limit 10\n",
    "    / add-labels\n",
    "    \"\"\")"
   ]
  },
  {
   "cell_type": "code",
   "execution_count": 6,
   "id": "d9a508af",
   "metadata": {},
   "outputs": [
    {
     "name": "stdout",
     "output_type": "stream",
     "text": [
      "CPU times: user 8.24 ms, sys: 12.5 ms, total: 20.7 ms\n",
      "Wall time: 12.1 s\n"
     ]
    }
   ],
   "source": [
    "%%time\n",
    "kgtk(\"\"\"\n",
    "    query -i $ULAN_ALIGN $WIKIDATA\n",
    "        --match 'w: (ulanid)-[]->(qnode), \n",
    "                 a: (qnode)-[:P20]->(pod)' \n",
    "        --return 'distinct ulanid as node1, \"P20\" as label, pod as node2'\n",
    "        -o $WIKI_POD\n",
    "    \"\"\")"
   ]
  },
  {
   "cell_type": "markdown",
   "id": "5b4e542c",
   "metadata": {},
   "source": [
    "## Step 2: Record Known and Unknown"
   ]
  },
  {
   "cell_type": "code",
   "execution_count": 7,
   "id": "a1bfe0b0",
   "metadata": {},
   "outputs": [
    {
     "data": {
      "text/html": [
       "<div>\n",
       "<style scoped>\n",
       "    .dataframe tbody tr th:only-of-type {\n",
       "        vertical-align: middle;\n",
       "    }\n",
       "\n",
       "    .dataframe tbody tr th {\n",
       "        vertical-align: top;\n",
       "    }\n",
       "\n",
       "    .dataframe thead th {\n",
       "        text-align: right;\n",
       "    }\n",
       "</style>\n",
       "<table border=\"1\" class=\"dataframe\">\n",
       "  <thead>\n",
       "    <tr style=\"text-align: right;\">\n",
       "      <th></th>\n",
       "      <th>count(DISTINCT graph_671_c1.\"node1\")</th>\n",
       "    </tr>\n",
       "  </thead>\n",
       "  <tbody>\n",
       "    <tr>\n",
       "      <th>0</th>\n",
       "      <td>49851</td>\n",
       "    </tr>\n",
       "  </tbody>\n",
       "</table>\n",
       "</div>"
      ],
      "text/plain": [
       "   count(DISTINCT graph_671_c1.\"node1\")\n",
       "0                                 49851"
      ]
     },
     "execution_count": 7,
     "metadata": {},
     "output_type": "execute_result"
    }
   ],
   "source": [
    "# count known ULAN IDs\n",
    "kgtk(\"\"\"\n",
    "    query -i $WIKI_POD\n",
    "        --match '(ulanid)-[]->(pod)' \n",
    "        --return 'count(distinct ulanid)'\n",
    "    \"\"\")"
   ]
  },
  {
   "cell_type": "code",
   "execution_count": 4,
   "id": "14965a2f",
   "metadata": {},
   "outputs": [
    {
     "data": {
      "text/html": [
       "<div>\n",
       "<style scoped>\n",
       "    .dataframe tbody tr th:only-of-type {\n",
       "        vertical-align: middle;\n",
       "    }\n",
       "\n",
       "    .dataframe tbody tr th {\n",
       "        vertical-align: top;\n",
       "    }\n",
       "\n",
       "    .dataframe thead th {\n",
       "        text-align: right;\n",
       "    }\n",
       "</style>\n",
       "<table border=\"1\" class=\"dataframe\">\n",
       "  <thead>\n",
       "    <tr style=\"text-align: right;\">\n",
       "      <th></th>\n",
       "      <th>count(DISTINCT graph_627_c2.\"node2\")</th>\n",
       "    </tr>\n",
       "  </thead>\n",
       "  <tbody>\n",
       "    <tr>\n",
       "      <th>0</th>\n",
       "      <td>49757</td>\n",
       "    </tr>\n",
       "  </tbody>\n",
       "</table>\n",
       "</div>"
      ],
      "text/plain": [
       "   count(DISTINCT graph_627_c2.\"node2\")\n",
       "0                                 49757"
      ]
     },
     "execution_count": 4,
     "metadata": {},
     "output_type": "execute_result"
    }
   ],
   "source": [
    "# count known Qnodes\n",
    "kgtk(\"\"\"\n",
    "    query -i $WIKI_POD $ULAN_ALIGN\n",
    "        --match 'p: (ulanid)-[]->(nation), a: (ulanid)-[]->(qnode)' \n",
    "        --return 'count(distinct qnode)'\n",
    "    \"\"\")"
   ]
  },
  {
   "cell_type": "markdown",
   "id": "10d5c560",
   "metadata": {},
   "source": [
    "Filter unknow in ULAN-Wikidata alignment"
   ]
  },
  {
   "cell_type": "code",
   "execution_count": 8,
   "id": "e9e30b0a",
   "metadata": {},
   "outputs": [
    {
     "name": "stdout",
     "output_type": "stream",
     "text": [
      "CPU times: user 4.71 ms, sys: 9.69 ms, total: 14.4 ms\n",
      "Wall time: 4.45 s\n"
     ]
    }
   ],
   "source": [
    "%%time\n",
    "kgtk(\"\"\"\n",
    "    ifnotexists -i $ULAN_ALIGN \n",
    "        --filter-on $WIKI_POD \n",
    "        --input-keys node1 \n",
    "        --filter-keys node1 \n",
    "        -o $WIKI_UNKNOWN\n",
    "    \"\"\")"
   ]
  },
  {
   "cell_type": "code",
   "execution_count": 9,
   "id": "a2635315",
   "metadata": {},
   "outputs": [
    {
     "data": {
      "text/html": [
       "<div>\n",
       "<style scoped>\n",
       "    .dataframe tbody tr th:only-of-type {\n",
       "        vertical-align: middle;\n",
       "    }\n",
       "\n",
       "    .dataframe tbody tr th {\n",
       "        vertical-align: top;\n",
       "    }\n",
       "\n",
       "    .dataframe thead th {\n",
       "        text-align: right;\n",
       "    }\n",
       "</style>\n",
       "<table border=\"1\" class=\"dataframe\">\n",
       "  <thead>\n",
       "    <tr style=\"text-align: right;\">\n",
       "      <th></th>\n",
       "      <th>count(DISTINCT graph_672_c1.\"node1\")</th>\n",
       "    </tr>\n",
       "  </thead>\n",
       "  <tbody>\n",
       "    <tr>\n",
       "      <th>0</th>\n",
       "      <td>42502</td>\n",
       "    </tr>\n",
       "  </tbody>\n",
       "</table>\n",
       "</div>"
      ],
      "text/plain": [
       "   count(DISTINCT graph_672_c1.\"node1\")\n",
       "0                                 42502"
      ]
     },
     "execution_count": 9,
     "metadata": {},
     "output_type": "execute_result"
    }
   ],
   "source": [
    "# count unknown ULAN IDs\n",
    "kgtk(\"\"\"\n",
    "    query -i $WIKI_UNKNOWN\n",
    "        --match '(ulanid)-[]->(qnode)'\n",
    "        --return 'count(distinct ulanid)'\n",
    "    \"\"\")"
   ]
  },
  {
   "cell_type": "code",
   "execution_count": 5,
   "id": "42322423",
   "metadata": {},
   "outputs": [
    {
     "data": {
      "text/html": [
       "<div>\n",
       "<style scoped>\n",
       "    .dataframe tbody tr th:only-of-type {\n",
       "        vertical-align: middle;\n",
       "    }\n",
       "\n",
       "    .dataframe tbody tr th {\n",
       "        vertical-align: top;\n",
       "    }\n",
       "\n",
       "    .dataframe thead th {\n",
       "        text-align: right;\n",
       "    }\n",
       "</style>\n",
       "<table border=\"1\" class=\"dataframe\">\n",
       "  <thead>\n",
       "    <tr style=\"text-align: right;\">\n",
       "      <th></th>\n",
       "      <th>count(DISTINCT graph_672_c1.\"node2\")</th>\n",
       "    </tr>\n",
       "  </thead>\n",
       "  <tbody>\n",
       "    <tr>\n",
       "      <th>0</th>\n",
       "      <td>42453</td>\n",
       "    </tr>\n",
       "  </tbody>\n",
       "</table>\n",
       "</div>"
      ],
      "text/plain": [
       "   count(DISTINCT graph_672_c1.\"node2\")\n",
       "0                                 42453"
      ]
     },
     "execution_count": 5,
     "metadata": {},
     "output_type": "execute_result"
    }
   ],
   "source": [
    "# count unknown Qnodes\n",
    "kgtk(\"\"\"\n",
    "    query -i $WIKI_UNKNOWN\n",
    "        --match '(ulanid)-[]->(qnode)'\n",
    "        --return 'count(distinct qnode)'\n",
    "    \"\"\")"
   ]
  },
  {
   "cell_type": "markdown",
   "id": "c3abc39d",
   "metadata": {},
   "source": [
    "## Step 3: Query Getty\n",
    "Based on the known PoB for people, query Getty. Before we perform single property query (we can consider it as 1 hop paths query), this time, we generalize to paths between known pairs (Subjects, Objects). Similarily we will compute the distributions of found paths and pick the top 1 path (property chain). "
   ]
  },
  {
   "cell_type": "markdown",
   "id": "eba6279c",
   "metadata": {},
   "source": [
    "### 3-1: Build Pairs from Wikidata Results \n",
    "Pairs file is needed for performing kgtk paths operation as the query objects."
   ]
  },
  {
   "cell_type": "code",
   "execution_count": 10,
   "id": "9667a958",
   "metadata": {},
   "outputs": [
    {
     "name": "stdout",
     "output_type": "stream",
     "text": [
      "CPU times: user 6.85 ms, sys: 8.73 ms, total: 15.6 ms\n",
      "Wall time: 4.76 s\n"
     ]
    }
   ],
   "source": [
    "%%time\n",
    "kgtk(\"\"\"\n",
    "    query -i $WIKI_POD\n",
    "        --match '(ulanid)-[]->(pod)'\n",
    "        --return 'distinct ulanid as source, pod as target'\n",
    "        --limit 200\n",
    "        -o $PAIRS\n",
    "    \"\"\")"
   ]
  },
  {
   "cell_type": "code",
   "execution_count": 11,
   "id": "be793da3",
   "metadata": {},
   "outputs": [
    {
     "name": "stdout",
     "output_type": "stream",
     "text": [
      "source          target\r\n",
      "ulan:500023949  Q90\r\n",
      "ulan:500123827  Q60\r\n",
      "ulan:500072302  Q1781\r\n",
      "ulan:500091345  Q1781\r\n",
      "ulan:500020713  Q269174\r\n",
      "ulan:500020713  Q3798\r\n",
      "ulan:500020713  Q64\r\n",
      "ulan:500160869  Q504255\r\n",
      "ulan:500113074  Q1781\r\n"
     ]
    }
   ],
   "source": [
    "!head $PAIRS | column -ts $'\\t'"
   ]
  },
  {
   "cell_type": "markdown",
   "id": "a6f6bf9e",
   "metadata": {},
   "source": [
    "### 3-2: Perform Paths Mapping\n",
    "This step is the core step of this query and it is also the bottleneck of running this procedure."
   ]
  },
  {
   "cell_type": "code",
   "execution_count": 12,
   "id": "9cecdbb4",
   "metadata": {},
   "outputs": [
    {
     "name": "stdout",
     "output_type": "stream",
     "text": [
      "CPU times: user 134 ms, sys: 72.4 ms, total: 206 ms\n",
      "Wall time: 3min 41s\n"
     ]
    }
   ],
   "source": [
    "%%time\n",
    "kgtk(\"\"\"\n",
    "    paths --max_hops 4\n",
    "        --path-file $PAIRS\n",
    "        --path-mode NONE \n",
    "        --path-source source\n",
    "        --path-target target\n",
    "        -i $ULAN_CONCAT_ID\n",
    "        --statistics-only\n",
    "        -o $PATHS\n",
    "    \"\"\")"
   ]
  },
  {
   "cell_type": "code",
   "execution_count": 13,
   "id": "7759b550",
   "metadata": {},
   "outputs": [
    {
     "name": "stdout",
     "output_type": "stream",
     "text": [
      "node1\tlabel\tnode2\tid\r\n",
      "p0\t0\tulan:500023949:foaf:focus:ulan:500023949-agent\tp0-0-0\r\n",
      "p0\t1\tulan:500023949-agent:gvp:biographyPreferred:ulan_bio:4000061264\tp0-1-1\r\n",
      "p0\t2\tulan_bio:4000061264:schema:birthPlace:tgn:7008038-place\tp0-2-2\r\n",
      "p0\t3\ttgn:7008038-place:skos:exactMatch:Q90\tp0-3-3\r\n",
      "p1\t0\tulan:500023949:foaf:focus:ulan:500023949-agent\tp1-0-4\r\n",
      "p1\t1\tulan:500023949-agent:gvp:biographyNonPreferred:ulan_bio:4000174196\tp1-1-5\r\n",
      "p1\t2\tulan_bio:4000174196:schema:deathPlace:tgn:7008038-place\tp1-2-6\r\n",
      "p1\t3\ttgn:7008038-place:skos:exactMatch:Q90\tp1-3-7\r\n",
      "p2\t0\tulan:500023949:foaf:focus:ulan:500023949-agent\tp2-0-8\r\n"
     ]
    }
   ],
   "source": [
    "!head $PATHS"
   ]
  },
  {
   "cell_type": "markdown",
   "id": "f6a31f6a",
   "metadata": {},
   "source": [
    "### 3-3: Select the Top 1 Property Chain\n",
    "Here we use Pandas to sort the top 1 property chain. "
   ]
  },
  {
   "cell_type": "code",
   "execution_count": 14,
   "id": "7b2d4d2d",
   "metadata": {},
   "outputs": [
    {
     "data": {
      "text/plain": [
       "node2                                                                 \n",
       "foaf:focus gvp:biographyPreferred schema:deathPlace skos:exactMatch       52\n",
       "foaf:focus gvp:biographyPreferred schema:birthPlace skos:exactMatch       19\n",
       "foaf:focus gvp:biographyNonPreferred schema:deathPlace skos:exactMatch     7\n",
       "foaf:focus gvp:biographyNonPreferred schema:birthPlace skos:exactMatch     4\n",
       "dtype: int64"
      ]
     },
     "execution_count": 14,
     "metadata": {},
     "output_type": "execute_result"
    }
   ],
   "source": [
    "# load paths.tsv file\n",
    "paths = pd.read_csv(os.environ['PATHS'], sep='\\t')\n",
    "# process property: since paths command generate id as node2, we need to further extract property from it\n",
    "paths.node2 = paths.node2.apply(lambda x: ':'.join(x.split(':')[2:4]))\n",
    "# save processed property\n",
    "paths.to_csv(os.environ['PATHS_LABEL'], sep='\\t', index=False)\n",
    "# join property chain for each found path\n",
    "paths_concat = paths.groupby(paths['node1']).agg({'node2': lambda x: ' '.join(list(x))})\n",
    "# sort the top \n",
    "paths_concat.value_counts()#.head(1)"
   ]
  },
  {
   "cell_type": "markdown",
   "id": "6635cd58",
   "metadata": {},
   "source": [
    "### 3-4: Query Getty Using the Property Chain\n",
    "Query Getty for the values of the unknown people, with the found property chain: `(ulanid)-[foaf:focus]->()-[gvp:biographyPreferred]->()-[schema:deathPlace]->()-[skos:exactMatch]->(Qnode of PoD)`"
   ]
  },
  {
   "cell_type": "code",
   "execution_count": 15,
   "id": "8e883c65",
   "metadata": {},
   "outputs": [
    {
     "name": "stdout",
     "output_type": "stream",
     "text": [
      "CPU times: user 40.2 ms, sys: 25 ms, total: 65.2 ms\n",
      "Wall time: 1min 25s\n"
     ]
    },
    {
     "data": {
      "text/html": [
       "<div>\n",
       "<style scoped>\n",
       "    .dataframe tbody tr th:only-of-type {\n",
       "        vertical-align: middle;\n",
       "    }\n",
       "\n",
       "    .dataframe tbody tr th {\n",
       "        vertical-align: top;\n",
       "    }\n",
       "\n",
       "    .dataframe thead th {\n",
       "        text-align: right;\n",
       "    }\n",
       "</style>\n",
       "<table border=\"1\" class=\"dataframe\">\n",
       "  <thead>\n",
       "    <tr style=\"text-align: right;\">\n",
       "      <th></th>\n",
       "      <th>node1</th>\n",
       "      <th>label</th>\n",
       "      <th>node2</th>\n",
       "      <th>label;label</th>\n",
       "      <th>node2;label</th>\n",
       "    </tr>\n",
       "  </thead>\n",
       "  <tbody>\n",
       "    <tr>\n",
       "      <th>0</th>\n",
       "      <td>ulan:500000011</td>\n",
       "      <td>P20</td>\n",
       "      <td>Q84</td>\n",
       "      <td>'place of death'@en</td>\n",
       "      <td>'London'@en</td>\n",
       "    </tr>\n",
       "    <tr>\n",
       "      <th>1</th>\n",
       "      <td>ulan:500000037</td>\n",
       "      <td>P20</td>\n",
       "      <td>Q90</td>\n",
       "      <td>'place of death'@en</td>\n",
       "      <td>'Paris'@en</td>\n",
       "    </tr>\n",
       "    <tr>\n",
       "      <th>2</th>\n",
       "      <td>ulan:500000057</td>\n",
       "      <td>P20</td>\n",
       "      <td>Q1164</td>\n",
       "      <td>'place of death'@en</td>\n",
       "      <td>'Assam'@en</td>\n",
       "    </tr>\n",
       "    <tr>\n",
       "      <th>3</th>\n",
       "      <td>ulan:500000092</td>\n",
       "      <td>P20</td>\n",
       "      <td>Q62</td>\n",
       "      <td>'place of death'@en</td>\n",
       "      <td>'San Francisco'@en</td>\n",
       "    </tr>\n",
       "    <tr>\n",
       "      <th>4</th>\n",
       "      <td>ulan:500000114</td>\n",
       "      <td>P20</td>\n",
       "      <td>Q2044</td>\n",
       "      <td>'place of death'@en</td>\n",
       "      <td>'Florence'@en</td>\n",
       "    </tr>\n",
       "    <tr>\n",
       "      <th>5</th>\n",
       "      <td>ulan:500000159</td>\n",
       "      <td>P20</td>\n",
       "      <td>Q16554</td>\n",
       "      <td>'place of death'@en</td>\n",
       "      <td>'Denver'@en</td>\n",
       "    </tr>\n",
       "    <tr>\n",
       "      <th>6</th>\n",
       "      <td>ulan:500000164</td>\n",
       "      <td>P20</td>\n",
       "      <td>Q40435</td>\n",
       "      <td>'place of death'@en</td>\n",
       "      <td>'Buffalo'@en</td>\n",
       "    </tr>\n",
       "    <tr>\n",
       "      <th>7</th>\n",
       "      <td>ulan:500000320</td>\n",
       "      <td>P20</td>\n",
       "      <td>Q90</td>\n",
       "      <td>'place of death'@en</td>\n",
       "      <td>'Paris'@en</td>\n",
       "    </tr>\n",
       "    <tr>\n",
       "      <th>8</th>\n",
       "      <td>ulan:500000387</td>\n",
       "      <td>P20</td>\n",
       "      <td>Q84</td>\n",
       "      <td>'place of death'@en</td>\n",
       "      <td>'London'@en</td>\n",
       "    </tr>\n",
       "    <tr>\n",
       "      <th>9</th>\n",
       "      <td>ulan:500000424</td>\n",
       "      <td>P20</td>\n",
       "      <td>Q1384</td>\n",
       "      <td>'place of death'@en</td>\n",
       "      <td>'New York'@en</td>\n",
       "    </tr>\n",
       "  </tbody>\n",
       "</table>\n",
       "</div>"
      ],
      "text/plain": [
       "            node1 label   node2          label;label         node2;label\n",
       "0  ulan:500000011   P20     Q84  'place of death'@en         'London'@en\n",
       "1  ulan:500000037   P20     Q90  'place of death'@en          'Paris'@en\n",
       "2  ulan:500000057   P20   Q1164  'place of death'@en          'Assam'@en\n",
       "3  ulan:500000092   P20     Q62  'place of death'@en  'San Francisco'@en\n",
       "4  ulan:500000114   P20   Q2044  'place of death'@en       'Florence'@en\n",
       "5  ulan:500000159   P20  Q16554  'place of death'@en         'Denver'@en\n",
       "6  ulan:500000164   P20  Q40435  'place of death'@en        'Buffalo'@en\n",
       "7  ulan:500000320   P20     Q90  'place of death'@en          'Paris'@en\n",
       "8  ulan:500000387   P20     Q84  'place of death'@en         'London'@en\n",
       "9  ulan:500000424   P20   Q1384  'place of death'@en       'New York'@en"
      ]
     },
     "execution_count": 15,
     "metadata": {},
     "output_type": "execute_result"
    }
   ],
   "source": [
    "%%time\n",
    "kgtk(\"\"\"\n",
    "    query -i $WIKI_UNKNOWN $ULAN_CONCAT_ID\n",
    "        --match 'unknown: (ulanid)-[]->(), \n",
    "                 ulan: (ulanid)-[p0]->()-[p1]->()-[p2]->()-[p3]->(pod)'\n",
    "        --where 'p0.label = \"foaf:focus\" AND\n",
    "                 p1.label = \"gvp:biographyPreferred\" AND \n",
    "                 p2.label = \"schema:deathPlace\" AND\n",
    "                 p3.label = \"skos:exactMatch\"'\n",
    "        --return 'distinct ulanid as node1, \"P20\" as label, pod as node2'\n",
    "        --limit 10\n",
    "    / add-labels\n",
    "    \"\"\")"
   ]
  },
  {
   "cell_type": "code",
   "execution_count": 16,
   "id": "26010909",
   "metadata": {},
   "outputs": [
    {
     "name": "stdout",
     "output_type": "stream",
     "text": [
      "CPU times: user 10.3 ms, sys: 13.7 ms, total: 23.9 ms\n",
      "Wall time: 17.2 s\n"
     ]
    }
   ],
   "source": [
    "%%time\n",
    "kgtk(\"\"\"\n",
    "    query -i $WIKI_UNKNOWN $ULAN_CONCAT_ID\n",
    "        --match 'unknown: (ulanid)-[]->(), \n",
    "                 ulan: (ulanid)-[p0]->()-[p1]->()-[p2]->()-[p3]->(pod)'\n",
    "        --where 'p0.label = \"foaf:focus\" AND\n",
    "                 p1.label = \"gvp:biographyPreferred\" AND \n",
    "                 p2.label = \"schema:deathPlace\" AND\n",
    "                 p3.label = \"skos:exactMatch\"'\n",
    "        --return 'distinct ulanid as node1, \"P20\" as label, pod as node2'\n",
    "        -o $GETTY_POD\n",
    "    \"\"\")"
   ]
  },
  {
   "cell_type": "markdown",
   "id": "68dd2283",
   "metadata": {},
   "source": [
    "Count how many new results (count in ULAN ID) we found"
   ]
  },
  {
   "cell_type": "code",
   "execution_count": 17,
   "id": "4d86e544",
   "metadata": {},
   "outputs": [
    {
     "data": {
      "text/html": [
       "<div>\n",
       "<style scoped>\n",
       "    .dataframe tbody tr th:only-of-type {\n",
       "        vertical-align: middle;\n",
       "    }\n",
       "\n",
       "    .dataframe tbody tr th {\n",
       "        vertical-align: top;\n",
       "    }\n",
       "\n",
       "    .dataframe thead th {\n",
       "        text-align: right;\n",
       "    }\n",
       "</style>\n",
       "<table border=\"1\" class=\"dataframe\">\n",
       "  <thead>\n",
       "    <tr style=\"text-align: right;\">\n",
       "      <th></th>\n",
       "      <th>count(DISTINCT graph_673_c1.\"node1\")</th>\n",
       "    </tr>\n",
       "  </thead>\n",
       "  <tbody>\n",
       "    <tr>\n",
       "      <th>0</th>\n",
       "      <td>2554</td>\n",
       "    </tr>\n",
       "  </tbody>\n",
       "</table>\n",
       "</div>"
      ],
      "text/plain": [
       "   count(DISTINCT graph_673_c1.\"node1\")\n",
       "0                                  2554"
      ]
     },
     "execution_count": 17,
     "metadata": {},
     "output_type": "execute_result"
    }
   ],
   "source": [
    "kgtk(\"\"\"\n",
    "    query -i $GETTY_POD\n",
    "        --match '(ulanid)-[]->(pod)'\n",
    "        --return 'count(distinct ulanid)'\n",
    "    \"\"\")"
   ]
  },
  {
   "cell_type": "markdown",
   "id": "ddf10c85",
   "metadata": {},
   "source": [
    "## Step 4: Record New Results"
   ]
  },
  {
   "cell_type": "markdown",
   "id": "45b486cc",
   "metadata": {},
   "source": [
    "Map back to Wikidata"
   ]
  },
  {
   "cell_type": "code",
   "execution_count": 18,
   "id": "bbf37240",
   "metadata": {},
   "outputs": [
    {
     "name": "stdout",
     "output_type": "stream",
     "text": [
      "CPU times: user 8.34 ms, sys: 8.72 ms, total: 17.1 ms\n",
      "Wall time: 4.86 s\n"
     ]
    }
   ],
   "source": [
    "%%time\n",
    "kgtk(\"\"\"\n",
    "    query -i $GETTY_POD $ULAN_ALIGN\n",
    "        --match 'g: (ulanid)-[p]->(pod), \n",
    "                 w: (ulanid)-[]->(qnode)'\n",
    "        --return 'distinct qnode as node1, p.label as label, pod as node2'\n",
    "        -o $GETTY_MAPPED\n",
    "    \"\"\")"
   ]
  },
  {
   "cell_type": "markdown",
   "id": "f9e0bf3e",
   "metadata": {},
   "source": [
    "Count how many new results (count in Qnode) we found"
   ]
  },
  {
   "cell_type": "code",
   "execution_count": 19,
   "id": "9597db09",
   "metadata": {},
   "outputs": [
    {
     "data": {
      "text/html": [
       "<div>\n",
       "<style scoped>\n",
       "    .dataframe tbody tr th:only-of-type {\n",
       "        vertical-align: middle;\n",
       "    }\n",
       "\n",
       "    .dataframe tbody tr th {\n",
       "        vertical-align: top;\n",
       "    }\n",
       "\n",
       "    .dataframe thead th {\n",
       "        text-align: right;\n",
       "    }\n",
       "</style>\n",
       "<table border=\"1\" class=\"dataframe\">\n",
       "  <thead>\n",
       "    <tr style=\"text-align: right;\">\n",
       "      <th></th>\n",
       "      <th>count(DISTINCT graph_674_c1.\"node1\")</th>\n",
       "    </tr>\n",
       "  </thead>\n",
       "  <tbody>\n",
       "    <tr>\n",
       "      <th>0</th>\n",
       "      <td>2556</td>\n",
       "    </tr>\n",
       "  </tbody>\n",
       "</table>\n",
       "</div>"
      ],
      "text/plain": [
       "   count(DISTINCT graph_674_c1.\"node1\")\n",
       "0                                  2556"
      ]
     },
     "execution_count": 19,
     "metadata": {},
     "output_type": "execute_result"
    }
   ],
   "source": [
    "kgtk(\"\"\"\n",
    "    query -i $GETTY_MAPPED\n",
    "        --match '(qnode)-[]->(pod)'\n",
    "        --return 'count(distinct qnode)'\n",
    "    \"\"\")"
   ]
  },
  {
   "cell_type": "markdown",
   "id": "e4facf84",
   "metadata": {},
   "source": [
    "## Step 5: Validate with Wikidata Constraints"
   ]
  },
  {
   "cell_type": "markdown",
   "id": "4ee909ad",
   "metadata": {},
   "source": [
    "Count how many new results we found (Qnodes)"
   ]
  },
  {
   "cell_type": "code",
   "execution_count": 21,
   "id": "f889d4b4",
   "metadata": {},
   "outputs": [
    {
     "name": "stdout",
     "output_type": "stream",
     "text": [
      "CPU times: user 7.73 ms, sys: 8.32 ms, total: 16.1 ms\n",
      "Wall time: 4.41 s\n"
     ]
    }
   ],
   "source": [
    "%%time\n",
    "kgtk(\"\"\"\n",
    "    query -i $GETTY_MAPPED $P31 $P279STAR \\\n",
    "        --match 'g: (node1)-[nodeProp]->(node2), P31: (node2)-[]->(nodex), P279star: (nodex)-[]->(par)' \\\n",
    "        --where 'par in [\"Q3895768\", \"Q24334893\", \"Q2221906\", \"Q102496\", \"Q27096213\", \"Q16917\", \"Q2945655\", \"Q3591565\", \"Q837142\", \"Q608152\", \"Q2385804\"]' \\\n",
    "        --return 'distinct node1 as `node1`, nodeProp.label as `label`, node2 as `node2`' \\\n",
    "        -o $CORRECT\n",
    "    \"\"\")"
   ]
  },
  {
   "cell_type": "code",
   "execution_count": 22,
   "id": "1dde5378",
   "metadata": {},
   "outputs": [
    {
     "name": "stdout",
     "output_type": "stream",
     "text": [
      "CPU times: user 10.6 ms, sys: 14.2 ms, total: 24.8 ms\n",
      "Wall time: 4.39 s\n"
     ]
    },
    {
     "data": {
      "text/html": [
       "<div>\n",
       "<style scoped>\n",
       "    .dataframe tbody tr th:only-of-type {\n",
       "        vertical-align: middle;\n",
       "    }\n",
       "\n",
       "    .dataframe tbody tr th {\n",
       "        vertical-align: top;\n",
       "    }\n",
       "\n",
       "    .dataframe thead th {\n",
       "        text-align: right;\n",
       "    }\n",
       "</style>\n",
       "<table border=\"1\" class=\"dataframe\">\n",
       "  <thead>\n",
       "    <tr style=\"text-align: right;\">\n",
       "      <th></th>\n",
       "      <th>node1</th>\n",
       "      <th>label</th>\n",
       "      <th>node2</th>\n",
       "    </tr>\n",
       "  </thead>\n",
       "  <tbody>\n",
       "  </tbody>\n",
       "</table>\n",
       "</div>"
      ],
      "text/plain": [
       "Empty DataFrame\n",
       "Columns: [node1, label, node2]\n",
       "Index: []"
      ]
     },
     "execution_count": 22,
     "metadata": {},
     "output_type": "execute_result"
    }
   ],
   "source": [
    "%%time\n",
    "kgtk(\"\"\"\n",
    "    ifnotexists -i $GETTY_MAPPED \\\n",
    "        --filter-on $CORRECT \\\n",
    "        --input-keys node1 node2 \\\n",
    "        --filter-keys node1 node2\n",
    "    \"\"\")"
   ]
  },
  {
   "cell_type": "markdown",
   "id": "55523e76",
   "metadata": {},
   "source": [
    "## Step 6: Record Unknown after Query\n",
    "We record unknowns after query Getty."
   ]
  },
  {
   "cell_type": "code",
   "execution_count": 23,
   "id": "02a65275",
   "metadata": {},
   "outputs": [],
   "source": [
    "kgtk(\"\"\"\n",
    "    ifnotexists -i $WIKI_UNKNOWN \\\n",
    "        --filter-on $GETTY_POD \\\n",
    "        --input-keys node1 \\\n",
    "        --filter-keys node1\n",
    "        -o $UNKNOWN\n",
    "    \"\"\")"
   ]
  },
  {
   "cell_type": "code",
   "execution_count": 24,
   "id": "fad03804",
   "metadata": {},
   "outputs": [
    {
     "data": {
      "text/html": [
       "<div>\n",
       "<style scoped>\n",
       "    .dataframe tbody tr th:only-of-type {\n",
       "        vertical-align: middle;\n",
       "    }\n",
       "\n",
       "    .dataframe tbody tr th {\n",
       "        vertical-align: top;\n",
       "    }\n",
       "\n",
       "    .dataframe thead th {\n",
       "        text-align: right;\n",
       "    }\n",
       "</style>\n",
       "<table border=\"1\" class=\"dataframe\">\n",
       "  <thead>\n",
       "    <tr style=\"text-align: right;\">\n",
       "      <th></th>\n",
       "      <th>count(DISTINCT graph_675_c1.\"node1\")</th>\n",
       "    </tr>\n",
       "  </thead>\n",
       "  <tbody>\n",
       "    <tr>\n",
       "      <th>0</th>\n",
       "      <td>39948</td>\n",
       "    </tr>\n",
       "  </tbody>\n",
       "</table>\n",
       "</div>"
      ],
      "text/plain": [
       "   count(DISTINCT graph_675_c1.\"node1\")\n",
       "0                                 39948"
      ]
     },
     "execution_count": 24,
     "metadata": {},
     "output_type": "execute_result"
    }
   ],
   "source": [
    "# count in ULAN IDs\n",
    "kgtk(\"\"\"\n",
    "    query -i $UNKNOWN\n",
    "        --match '(ulanid)-[]->(qnode)'\n",
    "        --return 'count(distinct ulanid)'\n",
    "    \"\"\")"
   ]
  },
  {
   "cell_type": "code",
   "execution_count": 6,
   "id": "4fd17b8f",
   "metadata": {},
   "outputs": [
    {
     "data": {
      "text/html": [
       "<div>\n",
       "<style scoped>\n",
       "    .dataframe tbody tr th:only-of-type {\n",
       "        vertical-align: middle;\n",
       "    }\n",
       "\n",
       "    .dataframe tbody tr th {\n",
       "        vertical-align: top;\n",
       "    }\n",
       "\n",
       "    .dataframe thead th {\n",
       "        text-align: right;\n",
       "    }\n",
       "</style>\n",
       "<table border=\"1\" class=\"dataframe\">\n",
       "  <thead>\n",
       "    <tr style=\"text-align: right;\">\n",
       "      <th></th>\n",
       "      <th>count(DISTINCT graph_675_c1.\"node2\")</th>\n",
       "    </tr>\n",
       "  </thead>\n",
       "  <tbody>\n",
       "    <tr>\n",
       "      <th>0</th>\n",
       "      <td>39906</td>\n",
       "    </tr>\n",
       "  </tbody>\n",
       "</table>\n",
       "</div>"
      ],
      "text/plain": [
       "   count(DISTINCT graph_675_c1.\"node2\")\n",
       "0                                 39906"
      ]
     },
     "execution_count": 6,
     "metadata": {},
     "output_type": "execute_result"
    }
   ],
   "source": [
    "# count in Qnodes\n",
    "kgtk(\"\"\"\n",
    "    query -i $UNKNOWN\n",
    "        --match '(ulanid)-[]->(qnode)'\n",
    "        --return 'count(distinct qnode)'\n",
    "    \"\"\")"
   ]
  },
  {
   "cell_type": "markdown",
   "id": "24302ca4",
   "metadata": {},
   "source": [
    "# Step 7: Comparison of the Known Values\n",
    "How often do the results from two knowledge graphs agree"
   ]
  },
  {
   "cell_type": "code",
   "execution_count": 4,
   "id": "1643b157",
   "metadata": {},
   "outputs": [
    {
     "name": "stdout",
     "output_type": "stream",
     "text": [
      "CPU times: user 9.97 ms, sys: 17.2 ms, total: 27.1 ms\n",
      "Wall time: 8.87 s\n"
     ]
    }
   ],
   "source": [
    "%%time\n",
    "kgtk(\"\"\"\n",
    "    query -i $ULAN_ALIGN $ULAN_CONCAT_ID\n",
    "        --match 'w: (ulanid)-[]->(), \n",
    "                 u: (ulanid)-[p0]->()-[p1]->()-[p2]->()-[p3]->(pod)'\n",
    "        --where 'p0.label = \"foaf:focus\" AND\n",
    "                 p1.label = \"gvp:biographyPreferred\" AND \n",
    "                 p2.label = \"schema:deathPlace\" AND\n",
    "                 p3.label = \"skos:exactMatch\"'\n",
    "        --return 'distinct ulanid as node1, \"P20\" as label, pod as node2'\n",
    "        -o $GETTY_AGREE\n",
    "    \"\"\")"
   ]
  },
  {
   "cell_type": "markdown",
   "id": "bbb0fd40",
   "metadata": {},
   "source": [
    "Count agree in Qnode:"
   ]
  },
  {
   "cell_type": "code",
   "execution_count": 5,
   "id": "646a3584",
   "metadata": {},
   "outputs": [
    {
     "name": "stdout",
     "output_type": "stream",
     "text": [
      "CPU times: user 9.71 ms, sys: 11.2 ms, total: 20.9 ms\n",
      "Wall time: 4.65 s\n"
     ]
    },
    {
     "data": {
      "text/html": [
       "<div>\n",
       "<style scoped>\n",
       "    .dataframe tbody tr th:only-of-type {\n",
       "        vertical-align: middle;\n",
       "    }\n",
       "\n",
       "    .dataframe tbody tr th {\n",
       "        vertical-align: top;\n",
       "    }\n",
       "\n",
       "    .dataframe thead th {\n",
       "        text-align: right;\n",
       "    }\n",
       "</style>\n",
       "<table border=\"1\" class=\"dataframe\">\n",
       "  <thead>\n",
       "    <tr style=\"text-align: right;\">\n",
       "      <th></th>\n",
       "      <th>count(DISTINCT graph_627_c3.\"node2\")</th>\n",
       "    </tr>\n",
       "  </thead>\n",
       "  <tbody>\n",
       "    <tr>\n",
       "      <th>0</th>\n",
       "      <td>12597</td>\n",
       "    </tr>\n",
       "  </tbody>\n",
       "</table>\n",
       "</div>"
      ],
      "text/plain": [
       "   count(DISTINCT graph_627_c3.\"node2\")\n",
       "0                                 12597"
      ]
     },
     "execution_count": 5,
     "metadata": {},
     "output_type": "execute_result"
    }
   ],
   "source": [
    "%%time\n",
    "kgtk(\"\"\"\n",
    "    query -i $WIKI_POD $GETTY_AGREE $ULAN_ALIGN\n",
    "        --match 'd: (ulanid)-[]->(pod), g: (ulanid)-[]->(pod), a: (ulanid)-[]->(qnode)'\n",
    "        --return 'count(distinct qnode)'\n",
    "    \"\"\")"
   ]
  },
  {
   "cell_type": "markdown",
   "id": "75a31d16",
   "metadata": {},
   "source": [
    "Count value per node:"
   ]
  },
  {
   "cell_type": "code",
   "execution_count": 6,
   "id": "9e8691c0",
   "metadata": {},
   "outputs": [],
   "source": [
    "nodes = kgtk(\"\"\"\n",
    "    query -i $GETTY_AGREE $ULAN_ALIGN \n",
    "        --match 'g: (ulanid)-[]->(), w: (ulanid)-[]->(qnode)'\n",
    "        --return 'count(distinct qnode) as node'\n",
    "    \"\"\")"
   ]
  },
  {
   "cell_type": "code",
   "execution_count": 7,
   "id": "7b31f9e9",
   "metadata": {},
   "outputs": [],
   "source": [
    "import subprocess\n",
    "\n",
    "values = subprocess.check_output(\"wc -l < $GETTY_AGREE\", shell=True)\n",
    "values = values.decode(\"utf-8\").strip()\n",
    "values = int(values) - 1"
   ]
  },
  {
   "cell_type": "code",
   "execution_count": 8,
   "id": "b565e11d",
   "metadata": {},
   "outputs": [
    {
     "data": {
      "text/plain": [
       "1.0000585069038146"
      ]
     },
     "execution_count": 8,
     "metadata": {},
     "output_type": "execute_result"
    }
   ],
   "source": [
    "values / nodes.iloc[0]['node']"
   ]
  },
  {
   "cell_type": "code",
   "execution_count": null,
   "id": "8e7409eb",
   "metadata": {},
   "outputs": [],
   "source": []
  }
 ],
 "metadata": {
  "kernelspec": {
   "display_name": "Python 3",
   "language": "python",
   "name": "python3"
  },
  "language_info": {
   "codemirror_mode": {
    "name": "ipython",
    "version": 3
   },
   "file_extension": ".py",
   "mimetype": "text/x-python",
   "name": "python",
   "nbconvert_exporter": "python",
   "pygments_lexer": "ipython3",
   "version": "3.7.10"
  }
 },
 "nbformat": 4,
 "nbformat_minor": 5
}
