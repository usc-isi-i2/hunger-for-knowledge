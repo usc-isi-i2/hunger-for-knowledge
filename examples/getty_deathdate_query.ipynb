{
 "cells": [
  {
   "cell_type": "markdown",
   "id": "ba2f2777",
   "metadata": {},
   "source": [
    "# Getty Query Tutorial (Date of Death)\n",
    "In this notebook, we perform the similar hunger-for-knowledge procedure for date of death in Wikidata and Getty Vocabulary. The main difference is that we generalize the query for single property to the property chain, this is, the path in kgtk."
   ]
  },
  {
   "cell_type": "code",
   "execution_count": 1,
   "id": "028e20b0",
   "metadata": {},
   "outputs": [],
   "source": [
    "import os\n",
    "import json\n",
    "import pandas as pd\n",
    "\n",
    "from kgtk.functions import kgtk, kypher"
   ]
  },
  {
   "cell_type": "markdown",
   "id": "fea94837",
   "metadata": {},
   "source": [
    "## Step 0: Set up environment paths\n",
    "Here we set needed Graph files and desired output files to environment paths."
   ]
  },
  {
   "cell_type": "code",
   "execution_count": 2,
   "id": "3ba1c188",
   "metadata": {
    "scrolled": false
   },
   "outputs": [
    {
     "name": "stdout",
     "output_type": "stream",
     "text": [
      "DATABASE: \"/nas/home/bohuizha/KG/hunger-for-knowledge/data/\"\n",
      "WIKIDATA: \"/nas/home/bohuizha/KG/hunger-for-knowledge/data/claims.tsv\"\n",
      "KGTK_LABEL_FILE: \"/nas/home/bohuizha/KG/hunger-for-knowledge/data/labels.en.tsv\"\n",
      "P31: \"/nas/home/bohuizha/KG/hunger-for-knowledge/data/P31.tsv\"\n",
      "P279STAR: \"/nas/home/bohuizha/KG/hunger-for-knowledge/data/P279star.tsv\"\n",
      "ULAN: \"/nas/home/bohuizha/KG/hunger-for-knowledge/data/gvp/ULAN/\"\n",
      "ULAN_BIO_CONCAT_ID: \"/nas/home/bohuizha/KG/hunger-for-knowledge/data/gvp/ULAN/ulan.bio.concat.id.tsv\"\n",
      "ULAN_ALIGN: \"/nas/home/bohuizha/KG/hunger-for-knowledge/data/gvp/ULAN/wiki.align.tsv\"\n",
      "OUTPUT: \"/nas/home/bohuizha/KG/hunger-for-knowledge/data/gvp/dod_output/\"\n",
      "WIKI_DOD: \"/nas/home/bohuizha/KG/hunger-for-knowledge/data/gvp/dod_output/wiki.dod.tsv\"\n",
      "WIKI_UNKNOWN: \"/nas/home/bohuizha/KG/hunger-for-knowledge/data/gvp/dod_output/wiki.unknown.tsv\"\n",
      "PAIRS: \"/nas/home/bohuizha/KG/hunger-for-knowledge/data/gvp/dod_output/pairs.tsv\"\n",
      "PATHS: \"/nas/home/bohuizha/KG/hunger-for-knowledge/data/gvp/dod_output/paths.tsv\"\n",
      "PATHS_LABEL: \"/nas/home/bohuizha/KG/hunger-for-knowledge/data/gvp/dod_output/paths.label.tsv\"\n",
      "GETTY_DOD: \"/nas/home/bohuizha/KG/hunger-for-knowledge/data/gvp/dod_output/getty.dod.tsv\"\n",
      "GETTY_ERROR: \"/nas/home/bohuizha/KG/hunger-for-knowledge/data/gvp/dod_output/getty.error.tsv\"\n",
      "GETTY_MAPPED: \"/nas/home/bohuizha/KG/hunger-for-knowledge/data/gvp/dod_output/getty.mapped.tsv\"\n",
      "GETTY_AGREE: \"/nas/home/bohuizha/KG/hunger-for-knowledge/data/gvp/dod_output/getty.agree.tsv\"\n",
      "CORRECT: \"/nas/home/bohuizha/KG/hunger-for-knowledge/data/gvp/dod_output/correct.tsv\"\n",
      "UNKNOWN: \"/nas/home/bohuizha/KG/hunger-for-knowledge/data/gvp/dod_output/unknown.tsv\"\n"
     ]
    }
   ],
   "source": [
    "# We will define environment variables to hold the full paths to the files as we will use them in the shell commands\n",
    "kgtk_environment_variables = []\n",
    "\n",
    "# Folder where database files store\n",
    "data_path = \"/nas/home/bohuizha/KG/hunger-for-knowledge/data/\"\n",
    "os.environ['DATABASE'] = data_path\n",
    "kgtk_environment_variables.append('DATABASE')\n",
    "\n",
    "# Wikidata (all is much less than claims)\n",
    "os.environ['WIKIDATA'] = data_path + \"claims.tsv\"\n",
    "kgtk_environment_variables.append('WIKIDATA')\n",
    "\n",
    "# Label file of Wikidata\n",
    "os.environ['KGTK_LABEL_FILE'] = data_path + \"labels.en.tsv\"\n",
    "kgtk_environment_variables.append('KGTK_LABEL_FILE')\n",
    "\n",
    "# P31\n",
    "os.environ['P31'] = data_path + \"P31.tsv\"\n",
    "kgtk_environment_variables.append('P31')\n",
    "\n",
    "# P279star\n",
    "os.environ['P279STAR'] = data_path + \"P279star.tsv\"\n",
    "kgtk_environment_variables.append('P279STAR')\n",
    "\n",
    "# Folder of ULAN\n",
    "ulan_path = data_path + \"gvp/ULAN/\"\n",
    "os.environ['ULAN'] = ulan_path\n",
    "kgtk_environment_variables.append('ULAN')\n",
    "\n",
    "# Full file provided by Getty \n",
    "# Full file is much truncated in this process thus we will use concat files below instead.\n",
    "# os.environ['ULAN_FULL'] = ulan_path + \"full.tsv\"\n",
    "# kgtk_environment_variables.append('ULAN_FULL')\n",
    "\n",
    "# File concatenated by used explicit files: ULAN Subjects, AgentMap, Biographies\n",
    "# The suffix ID means we performed add-id operation to the graph to meet the requirement of paths command.\n",
    "ulan_concat_path = ulan_path + \"ulan.bio.concat.id.tsv\"\n",
    "os.environ['ULAN_BIO_CONCAT_ID'] = ulan_concat_path\n",
    "kgtk_environment_variables.append('ULAN_BIO_CONCAT_ID')\n",
    "\n",
    "# ULAN-Wikidata alignment file, maps ULAN ID to Wikidata Qnode\n",
    "ulan_wikialign_path = ulan_path + \"wiki.align.tsv\"\n",
    "os.environ['ULAN_ALIGN'] = ulan_wikialign_path\n",
    "kgtk_environment_variables.append('ULAN_ALIGN')\n",
    "\n",
    "# Output\n",
    "output_path = data_path + \"gvp/dod_output/\"\n",
    "if not os.path.exists(output_path):\n",
    "    os.mkdir(output_path)\n",
    "os.environ['OUTPUT'] = output_path\n",
    "kgtk_environment_variables.append('OUTPUT')\n",
    "\n",
    "# Each file will be explained later in the procedure\n",
    "output_names = {\n",
    "    \"wiki_dod\": \"wiki.dod.tsv\",\n",
    "    \"wiki_unknown\": \"wiki.unknown.tsv\",\n",
    "    \"pairs\": \"pairs.tsv\",\n",
    "    \"paths\": \"paths.tsv\",\n",
    "    \"paths_label\": \"paths.label.tsv\",\n",
    "    \"getty_dod\": \"getty.dod.tsv\",\n",
    "    \"getty_error\": \"getty.error.tsv\",\n",
    "    \"getty_mapped\": \"getty.mapped.tsv\",\n",
    "    \"getty_agree\": \"getty.agree.tsv\",\n",
    "    \"correct\": \"correct.tsv\",\n",
    "    \"unknown\": \"unknown.tsv\"\n",
    "}\n",
    "\n",
    "for key, value in output_names.items():\n",
    "    variable = key.upper()\n",
    "    os.environ[variable] = os.path.join(output_path, value)\n",
    "    kgtk_environment_variables.append(variable)\n",
    "\n",
    "for variable in kgtk_environment_variables:\n",
    "    print(\"{}: \\\"{}\\\"\".format(variable, os.environ[variable]))"
   ]
  },
  {
   "cell_type": "markdown",
   "id": "46481af9",
   "metadata": {},
   "source": [
    "## Step 1: Query Wikidata\n",
    "Query Wikidata for PoB for people that have an ULAN ID (92k people)"
   ]
  },
  {
   "cell_type": "code",
   "execution_count": 3,
   "id": "eff39793",
   "metadata": {},
   "outputs": [
    {
     "data": {
      "text/html": [
       "<div>\n",
       "<style scoped>\n",
       "    .dataframe tbody tr th:only-of-type {\n",
       "        vertical-align: middle;\n",
       "    }\n",
       "\n",
       "    .dataframe tbody tr th {\n",
       "        vertical-align: top;\n",
       "    }\n",
       "\n",
       "    .dataframe thead th {\n",
       "        text-align: right;\n",
       "    }\n",
       "</style>\n",
       "<table border=\"1\" class=\"dataframe\">\n",
       "  <thead>\n",
       "    <tr style=\"text-align: right;\">\n",
       "      <th></th>\n",
       "      <th>count(DISTINCT graph_627_c1.\"node1\")</th>\n",
       "    </tr>\n",
       "  </thead>\n",
       "  <tbody>\n",
       "    <tr>\n",
       "      <th>0</th>\n",
       "      <td>92353</td>\n",
       "    </tr>\n",
       "  </tbody>\n",
       "</table>\n",
       "</div>"
      ],
      "text/plain": [
       "   count(DISTINCT graph_627_c1.\"node1\")\n",
       "0                                 92353"
      ]
     },
     "execution_count": 3,
     "metadata": {},
     "output_type": "execute_result"
    }
   ],
   "source": [
    "# count total poeple\n",
    "# ULAN ID\n",
    "kgtk(\"\"\"\n",
    "    query -i $ULAN_ALIGN \n",
    "        --match '(ulanid)-[]->(qnode)'\n",
    "        --return 'count(distinct ulanid)'\n",
    "    \"\"\")"
   ]
  },
  {
   "cell_type": "code",
   "execution_count": 4,
   "id": "c92b98b7",
   "metadata": {},
   "outputs": [
    {
     "data": {
      "text/html": [
       "<div>\n",
       "<style scoped>\n",
       "    .dataframe tbody tr th:only-of-type {\n",
       "        vertical-align: middle;\n",
       "    }\n",
       "\n",
       "    .dataframe tbody tr th {\n",
       "        vertical-align: top;\n",
       "    }\n",
       "\n",
       "    .dataframe thead th {\n",
       "        text-align: right;\n",
       "    }\n",
       "</style>\n",
       "<table border=\"1\" class=\"dataframe\">\n",
       "  <thead>\n",
       "    <tr style=\"text-align: right;\">\n",
       "      <th></th>\n",
       "      <th>count(DISTINCT graph_627_c1.\"node2\")</th>\n",
       "    </tr>\n",
       "  </thead>\n",
       "  <tbody>\n",
       "    <tr>\n",
       "      <th>0</th>\n",
       "      <td>92210</td>\n",
       "    </tr>\n",
       "  </tbody>\n",
       "</table>\n",
       "</div>"
      ],
      "text/plain": [
       "   count(DISTINCT graph_627_c1.\"node2\")\n",
       "0                                 92210"
      ]
     },
     "execution_count": 4,
     "metadata": {},
     "output_type": "execute_result"
    }
   ],
   "source": [
    "# Qnode\n",
    "kgtk(\"\"\"\n",
    "    query -i $ULAN_ALIGN \n",
    "        --match '(ulanid)-[]->(qnode)'\n",
    "        --return 'count(distinct qnode)'\n",
    "    \"\"\")"
   ]
  },
  {
   "cell_type": "code",
   "execution_count": 3,
   "id": "55f19c3e",
   "metadata": {},
   "outputs": [
    {
     "name": "stdout",
     "output_type": "stream",
     "text": [
      "CPU times: user 40 ms, sys: 42.9 ms, total: 82.9 ms\n",
      "Wall time: 1min 31s\n"
     ]
    },
    {
     "data": {
      "text/html": [
       "<div>\n",
       "<style scoped>\n",
       "    .dataframe tbody tr th:only-of-type {\n",
       "        vertical-align: middle;\n",
       "    }\n",
       "\n",
       "    .dataframe tbody tr th {\n",
       "        vertical-align: top;\n",
       "    }\n",
       "\n",
       "    .dataframe thead th {\n",
       "        text-align: right;\n",
       "    }\n",
       "</style>\n",
       "<table border=\"1\" class=\"dataframe\">\n",
       "  <thead>\n",
       "    <tr style=\"text-align: right;\">\n",
       "      <th></th>\n",
       "      <th>node1</th>\n",
       "      <th>label</th>\n",
       "      <th>node2</th>\n",
       "      <th>label;label</th>\n",
       "    </tr>\n",
       "  </thead>\n",
       "  <tbody>\n",
       "    <tr>\n",
       "      <th>0</th>\n",
       "      <td>ulan:500023949</td>\n",
       "      <td>P570</td>\n",
       "      <td>^1945-02-08T00:00:00Z/11</td>\n",
       "      <td>'date of death'@en</td>\n",
       "    </tr>\n",
       "    <tr>\n",
       "      <th>1</th>\n",
       "      <td>ulan:500123827</td>\n",
       "      <td>P570</td>\n",
       "      <td>^1954-09-07T00:00:00Z/11</td>\n",
       "      <td>'date of death'@en</td>\n",
       "    </tr>\n",
       "    <tr>\n",
       "      <th>2</th>\n",
       "      <td>ulan:500072302</td>\n",
       "      <td>P570</td>\n",
       "      <td>^1957-12-20T00:00:00Z/11</td>\n",
       "      <td>'date of death'@en</td>\n",
       "    </tr>\n",
       "    <tr>\n",
       "      <th>3</th>\n",
       "      <td>ulan:500091345</td>\n",
       "      <td>P570</td>\n",
       "      <td>^1954-12-23T00:00:00Z/11</td>\n",
       "      <td>'date of death'@en</td>\n",
       "    </tr>\n",
       "    <tr>\n",
       "      <th>4</th>\n",
       "      <td>ulan:500020713</td>\n",
       "      <td>P570</td>\n",
       "      <td>^1935-05-30T00:00:00Z/11</td>\n",
       "      <td>'date of death'@en</td>\n",
       "    </tr>\n",
       "    <tr>\n",
       "      <th>5</th>\n",
       "      <td>ulan:500160869</td>\n",
       "      <td>P570</td>\n",
       "      <td>^1981-08-22T00:00:00Z/11</td>\n",
       "      <td>'date of death'@en</td>\n",
       "    </tr>\n",
       "    <tr>\n",
       "      <th>6</th>\n",
       "      <td>ulan:500108146</td>\n",
       "      <td>P570</td>\n",
       "      <td>^1588-01-01T00:00:00Z/9</td>\n",
       "      <td>'date of death'@en</td>\n",
       "    </tr>\n",
       "    <tr>\n",
       "      <th>7</th>\n",
       "      <td>ulan:500108146</td>\n",
       "      <td>P570</td>\n",
       "      <td>^1586-01-01T00:00:00Z/9</td>\n",
       "      <td>'date of death'@en</td>\n",
       "    </tr>\n",
       "    <tr>\n",
       "      <th>8</th>\n",
       "      <td>ulan:500113074</td>\n",
       "      <td>P570</td>\n",
       "      <td>^1884-07-27T00:00:00Z/11</td>\n",
       "      <td>'date of death'@en</td>\n",
       "    </tr>\n",
       "    <tr>\n",
       "      <th>9</th>\n",
       "      <td>ulan:500094949</td>\n",
       "      <td>P570</td>\n",
       "      <td>^2013-05-03T00:00:00Z/11</td>\n",
       "      <td>'date of death'@en</td>\n",
       "    </tr>\n",
       "  </tbody>\n",
       "</table>\n",
       "</div>"
      ],
      "text/plain": [
       "            node1 label                     node2         label;label\n",
       "0  ulan:500023949  P570  ^1945-02-08T00:00:00Z/11  'date of death'@en\n",
       "1  ulan:500123827  P570  ^1954-09-07T00:00:00Z/11  'date of death'@en\n",
       "2  ulan:500072302  P570  ^1957-12-20T00:00:00Z/11  'date of death'@en\n",
       "3  ulan:500091345  P570  ^1954-12-23T00:00:00Z/11  'date of death'@en\n",
       "4  ulan:500020713  P570  ^1935-05-30T00:00:00Z/11  'date of death'@en\n",
       "5  ulan:500160869  P570  ^1981-08-22T00:00:00Z/11  'date of death'@en\n",
       "6  ulan:500108146  P570   ^1588-01-01T00:00:00Z/9  'date of death'@en\n",
       "7  ulan:500108146  P570   ^1586-01-01T00:00:00Z/9  'date of death'@en\n",
       "8  ulan:500113074  P570  ^1884-07-27T00:00:00Z/11  'date of death'@en\n",
       "9  ulan:500094949  P570  ^2013-05-03T00:00:00Z/11  'date of death'@en"
      ]
     },
     "execution_count": 3,
     "metadata": {},
     "output_type": "execute_result"
    }
   ],
   "source": [
    "%%time\n",
    "kgtk(\"\"\"\n",
    "    query -i $ULAN_ALIGN $WIKIDATA\n",
    "        --match 'w: (ulanid)-[]->(qnode), \n",
    "                 a: (qnode)-[:P570]->(dod)' \n",
    "        --return 'distinct ulanid as node1, \"P570\" as label, dod as node2'\n",
    "        --limit 10\n",
    "    / add-labels\n",
    "    \"\"\")"
   ]
  },
  {
   "cell_type": "code",
   "execution_count": 4,
   "id": "d9a508af",
   "metadata": {},
   "outputs": [
    {
     "name": "stdout",
     "output_type": "stream",
     "text": [
      "CPU times: user 13.8 ms, sys: 13.8 ms, total: 27.6 ms\n",
      "Wall time: 17.1 s\n"
     ]
    }
   ],
   "source": [
    "%%time\n",
    "kgtk(\"\"\"\n",
    "    query -i $ULAN_ALIGN $WIKIDATA\n",
    "        --match 'w: (ulanid)-[]->(qnode), \n",
    "                 a: (qnode)-[:P570]->(dod)' \n",
    "        --return 'distinct ulanid as node1, \"P570\" as label, dod as node2'\n",
    "        -o $WIKI_DOD\n",
    "    \"\"\")"
   ]
  },
  {
   "cell_type": "markdown",
   "id": "5b4e542c",
   "metadata": {},
   "source": [
    "## Step 2: Record Known and Unknown"
   ]
  },
  {
   "cell_type": "code",
   "execution_count": 5,
   "id": "a1bfe0b0",
   "metadata": {},
   "outputs": [
    {
     "data": {
      "text/html": [
       "<div>\n",
       "<style scoped>\n",
       "    .dataframe tbody tr th:only-of-type {\n",
       "        vertical-align: middle;\n",
       "    }\n",
       "\n",
       "    .dataframe tbody tr th {\n",
       "        vertical-align: top;\n",
       "    }\n",
       "\n",
       "    .dataframe thead th {\n",
       "        text-align: right;\n",
       "    }\n",
       "</style>\n",
       "<table border=\"1\" class=\"dataframe\">\n",
       "  <thead>\n",
       "    <tr style=\"text-align: right;\">\n",
       "      <th></th>\n",
       "      <th>count(DISTINCT graph_666_c1.\"node1\")</th>\n",
       "    </tr>\n",
       "  </thead>\n",
       "  <tbody>\n",
       "    <tr>\n",
       "      <th>0</th>\n",
       "      <td>70938</td>\n",
       "    </tr>\n",
       "  </tbody>\n",
       "</table>\n",
       "</div>"
      ],
      "text/plain": [
       "   count(DISTINCT graph_666_c1.\"node1\")\n",
       "0                                 70938"
      ]
     },
     "execution_count": 5,
     "metadata": {},
     "output_type": "execute_result"
    }
   ],
   "source": [
    "# count known ULAN IDs\n",
    "kgtk(\"\"\"\n",
    "    query -i $WIKI_DOD\n",
    "        --match '(ulanid)-[]->(dod)' \n",
    "        --return 'count(distinct ulanid)'\n",
    "    \"\"\")"
   ]
  },
  {
   "cell_type": "code",
   "execution_count": 4,
   "id": "daae75b3",
   "metadata": {},
   "outputs": [
    {
     "data": {
      "text/html": [
       "<div>\n",
       "<style scoped>\n",
       "    .dataframe tbody tr th:only-of-type {\n",
       "        vertical-align: middle;\n",
       "    }\n",
       "\n",
       "    .dataframe tbody tr th {\n",
       "        vertical-align: top;\n",
       "    }\n",
       "\n",
       "    .dataframe thead th {\n",
       "        text-align: right;\n",
       "    }\n",
       "</style>\n",
       "<table border=\"1\" class=\"dataframe\">\n",
       "  <thead>\n",
       "    <tr style=\"text-align: right;\">\n",
       "      <th></th>\n",
       "      <th>count(DISTINCT graph_627_c2.\"node2\")</th>\n",
       "    </tr>\n",
       "  </thead>\n",
       "  <tbody>\n",
       "    <tr>\n",
       "      <th>0</th>\n",
       "      <td>70837</td>\n",
       "    </tr>\n",
       "  </tbody>\n",
       "</table>\n",
       "</div>"
      ],
      "text/plain": [
       "   count(DISTINCT graph_627_c2.\"node2\")\n",
       "0                                 70837"
      ]
     },
     "execution_count": 4,
     "metadata": {},
     "output_type": "execute_result"
    }
   ],
   "source": [
    "# count known Qnodes\n",
    "kgtk(\"\"\"\n",
    "    query -i $WIKI_DOD $ULAN_ALIGN\n",
    "        --match 'd: (ulanid)-[]->(nation), a: (ulanid)-[]->(qnode)' \n",
    "        --return 'count(distinct qnode)'\n",
    "    \"\"\")"
   ]
  },
  {
   "cell_type": "markdown",
   "id": "10d5c560",
   "metadata": {},
   "source": [
    "Filter unknow in ULAN-Wikidata alignment"
   ]
  },
  {
   "cell_type": "code",
   "execution_count": 6,
   "id": "e9e30b0a",
   "metadata": {},
   "outputs": [
    {
     "name": "stdout",
     "output_type": "stream",
     "text": [
      "CPU times: user 6.23 ms, sys: 8.93 ms, total: 15.2 ms\n",
      "Wall time: 4.59 s\n"
     ]
    }
   ],
   "source": [
    "%%time\n",
    "kgtk(\"\"\"\n",
    "    ifnotexists -i $ULAN_ALIGN \n",
    "        --filter-on $WIKI_DOD \n",
    "        --input-keys node1 \n",
    "        --filter-keys node1 \n",
    "        -o $WIKI_UNKNOWN\n",
    "    \"\"\")"
   ]
  },
  {
   "cell_type": "code",
   "execution_count": 7,
   "id": "a2635315",
   "metadata": {},
   "outputs": [
    {
     "data": {
      "text/html": [
       "<div>\n",
       "<style scoped>\n",
       "    .dataframe tbody tr th:only-of-type {\n",
       "        vertical-align: middle;\n",
       "    }\n",
       "\n",
       "    .dataframe tbody tr th {\n",
       "        vertical-align: top;\n",
       "    }\n",
       "\n",
       "    .dataframe thead th {\n",
       "        text-align: right;\n",
       "    }\n",
       "</style>\n",
       "<table border=\"1\" class=\"dataframe\">\n",
       "  <thead>\n",
       "    <tr style=\"text-align: right;\">\n",
       "      <th></th>\n",
       "      <th>count(DISTINCT graph_667_c1.\"node1\")</th>\n",
       "    </tr>\n",
       "  </thead>\n",
       "  <tbody>\n",
       "    <tr>\n",
       "      <th>0</th>\n",
       "      <td>21415</td>\n",
       "    </tr>\n",
       "  </tbody>\n",
       "</table>\n",
       "</div>"
      ],
      "text/plain": [
       "   count(DISTINCT graph_667_c1.\"node1\")\n",
       "0                                 21415"
      ]
     },
     "execution_count": 7,
     "metadata": {},
     "output_type": "execute_result"
    }
   ],
   "source": [
    "# count unknown ULAN IDs\n",
    "kgtk(\"\"\"\n",
    "    query -i $WIKI_UNKNOWN\n",
    "        --match '(ulanid)-[]->(qnode)'\n",
    "        --return 'count(distinct ulanid)'\n",
    "    \"\"\")"
   ]
  },
  {
   "cell_type": "code",
   "execution_count": 3,
   "id": "d2473383",
   "metadata": {},
   "outputs": [
    {
     "data": {
      "text/html": [
       "<div>\n",
       "<style scoped>\n",
       "    .dataframe tbody tr th:only-of-type {\n",
       "        vertical-align: middle;\n",
       "    }\n",
       "\n",
       "    .dataframe tbody tr th {\n",
       "        vertical-align: top;\n",
       "    }\n",
       "\n",
       "    .dataframe thead th {\n",
       "        text-align: right;\n",
       "    }\n",
       "</style>\n",
       "<table border=\"1\" class=\"dataframe\">\n",
       "  <thead>\n",
       "    <tr style=\"text-align: right;\">\n",
       "      <th></th>\n",
       "      <th>count(DISTINCT graph_667_c1.\"node2\")</th>\n",
       "    </tr>\n",
       "  </thead>\n",
       "  <tbody>\n",
       "    <tr>\n",
       "      <th>0</th>\n",
       "      <td>21373</td>\n",
       "    </tr>\n",
       "  </tbody>\n",
       "</table>\n",
       "</div>"
      ],
      "text/plain": [
       "   count(DISTINCT graph_667_c1.\"node2\")\n",
       "0                                 21373"
      ]
     },
     "execution_count": 3,
     "metadata": {},
     "output_type": "execute_result"
    }
   ],
   "source": [
    "# count unknown Qnodes\n",
    "kgtk(\"\"\"\n",
    "    query -i $WIKI_UNKNOWN\n",
    "        --match '(ulanid)-[]->(qnode)'\n",
    "        --return 'count(distinct qnode)'\n",
    "    \"\"\")"
   ]
  },
  {
   "cell_type": "markdown",
   "id": "c3abc39d",
   "metadata": {},
   "source": [
    "## Step 3: Query Getty\n",
    "Based on the known PoB for people, query Getty. Before we perform single property query (we can consider it as 1 hop paths query), this time, we generalize to paths between known pairs (Subjects, Objects). Similarily we will compute the distributions of found paths and pick the top 1 path (property chain). "
   ]
  },
  {
   "cell_type": "markdown",
   "id": "eba6279c",
   "metadata": {},
   "source": [
    "### 3-1: Build Pairs from Wikidata Results \n",
    "Pairs file is needed for performing kgtk paths operation as the query objects."
   ]
  },
  {
   "cell_type": "code",
   "execution_count": 8,
   "id": "9667a958",
   "metadata": {},
   "outputs": [
    {
     "name": "stdout",
     "output_type": "stream",
     "text": [
      "CPU times: user 6.82 ms, sys: 10.5 ms, total: 17.4 ms\n",
      "Wall time: 4.54 s\n"
     ]
    }
   ],
   "source": [
    "%%time\n",
    "kgtk(\"\"\"\n",
    "    query -i $WIKI_DOD\n",
    "        --match '(ulanid)-[]->(dod)'\n",
    "        --return 'distinct ulanid as source, kgtk_stringify(kgtk_date_year(dod)) as target'\n",
    "        --limit 200\n",
    "        -o $PAIRS\n",
    "    \"\"\")"
   ]
  },
  {
   "cell_type": "code",
   "execution_count": 9,
   "id": "be793da3",
   "metadata": {},
   "outputs": [
    {
     "name": "stdout",
     "output_type": "stream",
     "text": [
      "source          target\r\n",
      "ulan:500023949  \"1945\"\r\n",
      "ulan:500123827  \"1954\"\r\n",
      "ulan:500072302  \"1957\"\r\n",
      "ulan:500091345  \"1954\"\r\n",
      "ulan:500020713  \"1935\"\r\n",
      "ulan:500160869  \"1981\"\r\n",
      "ulan:500108146  \"1588\"\r\n",
      "ulan:500108146  \"1586\"\r\n",
      "ulan:500113074  \"1884\"\r\n"
     ]
    }
   ],
   "source": [
    "!head $PAIRS | column -ts $'\\t'"
   ]
  },
  {
   "cell_type": "markdown",
   "id": "a6f6bf9e",
   "metadata": {},
   "source": [
    "### 3-2: Perform Paths Mapping\n",
    "This step is the core step of this query and it is also the bottleneck of running this procedure."
   ]
  },
  {
   "cell_type": "code",
   "execution_count": 10,
   "id": "9cecdbb4",
   "metadata": {},
   "outputs": [
    {
     "name": "stdout",
     "output_type": "stream",
     "text": [
      "CPU times: user 136 ms, sys: 58.4 ms, total: 195 ms\n",
      "Wall time: 3min 28s\n"
     ]
    }
   ],
   "source": [
    "%%time\n",
    "kgtk(\"\"\"\n",
    "    paths --max_hops 5\n",
    "        --path-file $PAIRS\n",
    "        --path-mode NONE \n",
    "        --path-source source\n",
    "        --path-target target\n",
    "        -i $ULAN_BIO_CONCAT_ID\n",
    "        --statistics-only\n",
    "        -o $PATHS\n",
    "    \"\"\")"
   ]
  },
  {
   "cell_type": "code",
   "execution_count": 11,
   "id": "7759b550",
   "metadata": {},
   "outputs": [
    {
     "name": "stdout",
     "output_type": "stream",
     "text": [
      "node1\tlabel\tnode2\tid\r\n",
      "p0\t0\tulan:500023949:foaf:focus:ulan:500023949-agent\tp0-0-0\r\n",
      "p0\t1\tulan:500023949-agent:gvp:biographyNonPreferred:ulan_bio:4000061262\tp0-1-1\r\n",
      "p0\t2\tulan_bio:4000061262:gvp:estEnd:nodeBKhLqNtUciRjAx7zs7VoBJ-236988\tp0-2-2\r\n",
      "p0\t3\tnodeBKhLqNtUciRjAx7zs7VoBJ-236988:gvp:structured_value:\"1945\"\tp0-3-3\r\n",
      "p1\t0\tulan:500023949:foaf:focus:ulan:500023949-agent\tp1-0-4\r\n",
      "p1\t1\tulan:500023949-agent:gvp:biographyNonPreferred:ulan_bio:4000061263\tp1-1-5\r\n",
      "p1\t2\tulan_bio:4000061263:gvp:estEnd:nodeBKhLqNtUciRjAx7zs7VoBJ-236990\tp1-2-6\r\n",
      "p1\t3\tnodeBKhLqNtUciRjAx7zs7VoBJ-236990:gvp:structured_value:\"1945\"\tp1-3-7\r\n",
      "p2\t0\tulan:500023949:foaf:focus:ulan:500023949-agent\tp2-0-8\r\n"
     ]
    }
   ],
   "source": [
    "!head $PATHS"
   ]
  },
  {
   "cell_type": "markdown",
   "id": "f6a31f6a",
   "metadata": {},
   "source": [
    "### 3-3: Select the Top 1 Property Chain\n",
    "Here we use Pandas to sort the top 1 property chain. "
   ]
  },
  {
   "cell_type": "code",
   "execution_count": 12,
   "id": "7b2d4d2d",
   "metadata": {},
   "outputs": [
    {
     "data": {
      "text/plain": [
       "node2                                                               \n",
       "foaf:focus gvp:biographyNonPreferred gvp:estEnd gvp:structured_value    203\n",
       "foaf:focus gvp:biographyPreferred gvp:estEnd gvp:structured_value       145\n",
       "dtype: int64"
      ]
     },
     "execution_count": 12,
     "metadata": {},
     "output_type": "execute_result"
    }
   ],
   "source": [
    "# load paths.tsv file\n",
    "paths = pd.read_csv(os.environ['PATHS'], sep='\\t')\n",
    "# process property: since paths command generate id as node2, we need to further extract property from it\n",
    "paths.node2 = paths.node2.apply(lambda x: ':'.join(x.split(':')[2:4]) if len(x.split(':')) > 4 else ':'.join(x.split(':')[1:3]))\n",
    "# save processed property\n",
    "paths.to_csv(os.environ['PATHS_LABEL'], sep='\\t', index=False)\n",
    "# join property chain for each found path\n",
    "paths_concat = paths.groupby(paths['node1']).agg({'node2': lambda x: ' '.join(list(x))})\n",
    "# sort the top \n",
    "paths_concat.value_counts()#.head(1)"
   ]
  },
  {
   "cell_type": "markdown",
   "id": "6635cd58",
   "metadata": {},
   "source": [
    "### 3-4: Query Getty Using the Property Chain\n",
    "Query Getty for the values of the unknown people, with the found property chain: `(ulanid)-[foaf:focus]->()-[gvp:biographyNonPreferred]->()-[gvp:estEnd]->()-[gvp:structured_value]->(String of Birth Year)`"
   ]
  },
  {
   "cell_type": "code",
   "execution_count": 3,
   "id": "8e883c65",
   "metadata": {},
   "outputs": [
    {
     "name": "stdout",
     "output_type": "stream",
     "text": [
      "CPU times: user 48.6 ms, sys: 38.3 ms, total: 87 ms\n",
      "Wall time: 1min 24s\n"
     ]
    },
    {
     "data": {
      "text/html": [
       "<div>\n",
       "<style scoped>\n",
       "    .dataframe tbody tr th:only-of-type {\n",
       "        vertical-align: middle;\n",
       "    }\n",
       "\n",
       "    .dataframe tbody tr th {\n",
       "        vertical-align: top;\n",
       "    }\n",
       "\n",
       "    .dataframe thead th {\n",
       "        text-align: right;\n",
       "    }\n",
       "</style>\n",
       "<table border=\"1\" class=\"dataframe\">\n",
       "  <thead>\n",
       "    <tr style=\"text-align: right;\">\n",
       "      <th></th>\n",
       "      <th>node1</th>\n",
       "      <th>label</th>\n",
       "      <th>node2</th>\n",
       "      <th>label;label</th>\n",
       "    </tr>\n",
       "  </thead>\n",
       "  <tbody>\n",
       "    <tr>\n",
       "      <th>0</th>\n",
       "      <td>ulan:500000007</td>\n",
       "      <td>P570</td>\n",
       "      <td>^1616-01-01T00:00:00Z/9</td>\n",
       "      <td>'date of death'@en</td>\n",
       "    </tr>\n",
       "    <tr>\n",
       "      <th>1</th>\n",
       "      <td>ulan:500000009</td>\n",
       "      <td>P570</td>\n",
       "      <td>^1630-01-01T00:00:00Z/9</td>\n",
       "      <td>'date of death'@en</td>\n",
       "    </tr>\n",
       "    <tr>\n",
       "      <th>2</th>\n",
       "      <td>ulan:500000012</td>\n",
       "      <td>P570</td>\n",
       "      <td>^2049-01-01T00:00:00Z/9</td>\n",
       "      <td>'date of death'@en</td>\n",
       "    </tr>\n",
       "    <tr>\n",
       "      <th>3</th>\n",
       "      <td>ulan:500000015</td>\n",
       "      <td>P570</td>\n",
       "      <td>^1829-01-01T00:00:00Z/9</td>\n",
       "      <td>'date of death'@en</td>\n",
       "    </tr>\n",
       "    <tr>\n",
       "      <th>4</th>\n",
       "      <td>ulan:500000019</td>\n",
       "      <td>P570</td>\n",
       "      <td>^1520-01-01T00:00:00Z/9</td>\n",
       "      <td>'date of death'@en</td>\n",
       "    </tr>\n",
       "    <tr>\n",
       "      <th>5</th>\n",
       "      <td>ulan:500000024</td>\n",
       "      <td>P570</td>\n",
       "      <td>^1546-01-01T00:00:00Z/9</td>\n",
       "      <td>'date of death'@en</td>\n",
       "    </tr>\n",
       "    <tr>\n",
       "      <th>6</th>\n",
       "      <td>ulan:500000031</td>\n",
       "      <td>P570</td>\n",
       "      <td>^1530-01-01T00:00:00Z/9</td>\n",
       "      <td>'date of death'@en</td>\n",
       "    </tr>\n",
       "    <tr>\n",
       "      <th>7</th>\n",
       "      <td>ulan:500000039</td>\n",
       "      <td>P570</td>\n",
       "      <td>^2069-01-01T00:00:00Z/9</td>\n",
       "      <td>'date of death'@en</td>\n",
       "    </tr>\n",
       "    <tr>\n",
       "      <th>8</th>\n",
       "      <td>ulan:500000042</td>\n",
       "      <td>P570</td>\n",
       "      <td>^0140-01-01T00:00:00Z/9</td>\n",
       "      <td>'date of death'@en</td>\n",
       "    </tr>\n",
       "    <tr>\n",
       "      <th>9</th>\n",
       "      <td>ulan:500000048</td>\n",
       "      <td>P570</td>\n",
       "      <td>^1859-01-01T00:00:00Z/9</td>\n",
       "      <td>'date of death'@en</td>\n",
       "    </tr>\n",
       "  </tbody>\n",
       "</table>\n",
       "</div>"
      ],
      "text/plain": [
       "            node1 label                    node2         label;label\n",
       "0  ulan:500000007  P570  ^1616-01-01T00:00:00Z/9  'date of death'@en\n",
       "1  ulan:500000009  P570  ^1630-01-01T00:00:00Z/9  'date of death'@en\n",
       "2  ulan:500000012  P570  ^2049-01-01T00:00:00Z/9  'date of death'@en\n",
       "3  ulan:500000015  P570  ^1829-01-01T00:00:00Z/9  'date of death'@en\n",
       "4  ulan:500000019  P570  ^1520-01-01T00:00:00Z/9  'date of death'@en\n",
       "5  ulan:500000024  P570  ^1546-01-01T00:00:00Z/9  'date of death'@en\n",
       "6  ulan:500000031  P570  ^1530-01-01T00:00:00Z/9  'date of death'@en\n",
       "7  ulan:500000039  P570  ^2069-01-01T00:00:00Z/9  'date of death'@en\n",
       "8  ulan:500000042  P570  ^0140-01-01T00:00:00Z/9  'date of death'@en\n",
       "9  ulan:500000048  P570  ^1859-01-01T00:00:00Z/9  'date of death'@en"
      ]
     },
     "execution_count": 3,
     "metadata": {},
     "output_type": "execute_result"
    }
   ],
   "source": [
    "%%time\n",
    "kgtk(\"\"\"\n",
    "    query -i $WIKI_UNKNOWN $ULAN_BIO_CONCAT_ID\n",
    "        --match 'unknown: (ulanid)-[]->(), \n",
    "                 ulan: (ulanid)-[p0]->()-[p1]->()-[p2]->()-[p3]->(dod)'\n",
    "        --where 'p0.label = \"foaf:focus\" AND\n",
    "                 p1.label = \"gvp:biographyPreferred\" AND \n",
    "                 p2.label = \"gvp:estEnd\" AND\n",
    "                 p3.label = \"gvp:structured_value\"'\n",
    "        --return 'distinct ulanid as node1, \"P570\" as label, printf(\"^%s-01-01T00:00:00Z/9\", kgtk_unstringify(dod)) as node2'\n",
    "        --limit 10\n",
    "    / add-labels\n",
    "    \"\"\")"
   ]
  },
  {
   "cell_type": "code",
   "execution_count": 4,
   "id": "26010909",
   "metadata": {},
   "outputs": [
    {
     "name": "stdout",
     "output_type": "stream",
     "text": [
      "CPU times: user 8.2 ms, sys: 13.4 ms, total: 21.6 ms\n",
      "Wall time: 14.8 s\n"
     ]
    }
   ],
   "source": [
    "%%time\n",
    "kgtk(\"\"\"\n",
    "    query -i $WIKI_UNKNOWN $ULAN_BIO_CONCAT_ID\n",
    "        --match 'unknown: (ulanid)-[]->(), \n",
    "                 ulan: (ulanid)-[p0]->()-[p1]->()-[p2]->()-[p3]->(dod)'\n",
    "        --where 'p0.label = \"foaf:focus\" AND\n",
    "                 p1.label = \"gvp:biographyPreferred\" AND \n",
    "                 p2.label = \"gvp:estEnd\" AND\n",
    "                 p3.label = \"gvp:structured_value\"'\n",
    "        --return 'distinct ulanid as node1, \"P570\" as label, dod as node2'\n",
    "        -o $GETTY_DOD\n",
    "    \"\"\")"
   ]
  },
  {
   "cell_type": "markdown",
   "id": "68dd2283",
   "metadata": {},
   "source": [
    "Count how many new results (count in ULAN ID) we found"
   ]
  },
  {
   "cell_type": "code",
   "execution_count": 5,
   "id": "4d86e544",
   "metadata": {},
   "outputs": [
    {
     "data": {
      "text/html": [
       "<div>\n",
       "<style scoped>\n",
       "    .dataframe tbody tr th:only-of-type {\n",
       "        vertical-align: middle;\n",
       "    }\n",
       "\n",
       "    .dataframe tbody tr th {\n",
       "        vertical-align: top;\n",
       "    }\n",
       "\n",
       "    .dataframe thead th {\n",
       "        text-align: right;\n",
       "    }\n",
       "</style>\n",
       "<table border=\"1\" class=\"dataframe\">\n",
       "  <thead>\n",
       "    <tr style=\"text-align: right;\">\n",
       "      <th></th>\n",
       "      <th>count(DISTINCT graph_7163_c1.\"node1\")</th>\n",
       "    </tr>\n",
       "  </thead>\n",
       "  <tbody>\n",
       "    <tr>\n",
       "      <th>0</th>\n",
       "      <td>19674</td>\n",
       "    </tr>\n",
       "  </tbody>\n",
       "</table>\n",
       "</div>"
      ],
      "text/plain": [
       "   count(DISTINCT graph_7163_c1.\"node1\")\n",
       "0                                  19674"
      ]
     },
     "execution_count": 5,
     "metadata": {},
     "output_type": "execute_result"
    }
   ],
   "source": [
    "kgtk(\"\"\"\n",
    "    query -i $GETTY_DOD\n",
    "        --match '(ulanid)-[]->(dod)'\n",
    "        --return 'count(distinct ulanid)'\n",
    "    \"\"\")"
   ]
  },
  {
   "cell_type": "markdown",
   "id": "ddf10c85",
   "metadata": {},
   "source": [
    "## Step 4: Record New Results"
   ]
  },
  {
   "cell_type": "markdown",
   "id": "45b486cc",
   "metadata": {},
   "source": [
    "Map back to Wikidata"
   ]
  },
  {
   "cell_type": "code",
   "execution_count": 6,
   "id": "bbf37240",
   "metadata": {},
   "outputs": [
    {
     "name": "stdout",
     "output_type": "stream",
     "text": [
      "CPU times: user 4.71 ms, sys: 11.5 ms, total: 16.2 ms\n",
      "Wall time: 4.43 s\n"
     ]
    }
   ],
   "source": [
    "%%time\n",
    "kgtk(\"\"\"\n",
    "    query -i $GETTY_DOD $ULAN_ALIGN\n",
    "        --match 'g: (ulanid)-[p]->(dod), \n",
    "                 w: (ulanid)-[]->(qnode)'\n",
    "        --return 'distinct qnode as node1, p.label as label, dod as node2'\n",
    "        -o $GETTY_MAPPED\n",
    "    \"\"\")"
   ]
  },
  {
   "cell_type": "markdown",
   "id": "f9e0bf3e",
   "metadata": {},
   "source": [
    "Count how many new results (count in Qnode) we found"
   ]
  },
  {
   "cell_type": "code",
   "execution_count": 7,
   "id": "9597db09",
   "metadata": {},
   "outputs": [
    {
     "data": {
      "text/html": [
       "<div>\n",
       "<style scoped>\n",
       "    .dataframe tbody tr th:only-of-type {\n",
       "        vertical-align: middle;\n",
       "    }\n",
       "\n",
       "    .dataframe tbody tr th {\n",
       "        vertical-align: top;\n",
       "    }\n",
       "\n",
       "    .dataframe thead th {\n",
       "        text-align: right;\n",
       "    }\n",
       "</style>\n",
       "<table border=\"1\" class=\"dataframe\">\n",
       "  <thead>\n",
       "    <tr style=\"text-align: right;\">\n",
       "      <th></th>\n",
       "      <th>count(DISTINCT graph_7164_c1.\"node1\")</th>\n",
       "    </tr>\n",
       "  </thead>\n",
       "  <tbody>\n",
       "    <tr>\n",
       "      <th>0</th>\n",
       "      <td>19654</td>\n",
       "    </tr>\n",
       "  </tbody>\n",
       "</table>\n",
       "</div>"
      ],
      "text/plain": [
       "   count(DISTINCT graph_7164_c1.\"node1\")\n",
       "0                                  19654"
      ]
     },
     "execution_count": 7,
     "metadata": {},
     "output_type": "execute_result"
    }
   ],
   "source": [
    "kgtk(\"\"\"\n",
    "    query -i $GETTY_MAPPED\n",
    "        --match '(qnode)-[]->(dod)'\n",
    "        --return 'count(distinct qnode)'\n",
    "    \"\"\")"
   ]
  },
  {
   "cell_type": "markdown",
   "id": "e4facf84",
   "metadata": {},
   "source": [
    "## Step 5: Validate with Wikidata Constraints\n",
    "Since"
   ]
  },
  {
   "cell_type": "code",
   "execution_count": 8,
   "id": "af716718",
   "metadata": {},
   "outputs": [],
   "source": [
    "dod_df = pd.read_csv(os.environ[\"GETTY_DOD\"], sep='\\t')\n",
    "dod_df['node2'] = dod_df['node2'].astype('int')\n",
    "dod_df = dod_df.loc[(dod_df['node2'] >= -9999) & (dod_df['node2'] <= 2021)]\n",
    "dod_df.to_csv(os.environ[\"CORRECT\"], sep='\\t', index=False)"
   ]
  },
  {
   "cell_type": "markdown",
   "id": "f3b3eac1",
   "metadata": {},
   "source": [
    "Count in Qnode how many correct results we get:"
   ]
  },
  {
   "cell_type": "code",
   "execution_count": 9,
   "id": "289ba33d",
   "metadata": {},
   "outputs": [
    {
     "data": {
      "text/html": [
       "<div>\n",
       "<style scoped>\n",
       "    .dataframe tbody tr th:only-of-type {\n",
       "        vertical-align: middle;\n",
       "    }\n",
       "\n",
       "    .dataframe tbody tr th {\n",
       "        vertical-align: top;\n",
       "    }\n",
       "\n",
       "    .dataframe thead th {\n",
       "        text-align: right;\n",
       "    }\n",
       "</style>\n",
       "<table border=\"1\" class=\"dataframe\">\n",
       "  <thead>\n",
       "    <tr style=\"text-align: right;\">\n",
       "      <th></th>\n",
       "      <th>count(DISTINCT graph_627_c2.\"node2\")</th>\n",
       "    </tr>\n",
       "  </thead>\n",
       "  <tbody>\n",
       "    <tr>\n",
       "      <th>0</th>\n",
       "      <td>5995</td>\n",
       "    </tr>\n",
       "  </tbody>\n",
       "</table>\n",
       "</div>"
      ],
      "text/plain": [
       "   count(DISTINCT graph_627_c2.\"node2\")\n",
       "0                                  5995"
      ]
     },
     "execution_count": 9,
     "metadata": {},
     "output_type": "execute_result"
    }
   ],
   "source": [
    "kgtk(\"\"\"\n",
    "    query -i $CORRECT $ULAN_ALIGN\n",
    "        --match 'c: (ulanid)-[]->(), w: (ulanid)-[]->(qnode)'\n",
    "        --return 'count(distinct qnode)'\n",
    "    \"\"\")"
   ]
  },
  {
   "cell_type": "markdown",
   "id": "55523e76",
   "metadata": {},
   "source": [
    "## Step 6: Record Unknown after Query\n",
    "We record unknowns after query Getty."
   ]
  },
  {
   "cell_type": "code",
   "execution_count": 10,
   "id": "02a65275",
   "metadata": {},
   "outputs": [],
   "source": [
    "kgtk(\"\"\"\n",
    "    ifnotexists -i $WIKI_UNKNOWN \\\n",
    "        --filter-on $CORRECT \\\n",
    "        --input-keys node1 \\\n",
    "        --filter-keys node1\n",
    "        -o $UNKNOWN\n",
    "    \"\"\")"
   ]
  },
  {
   "cell_type": "code",
   "execution_count": 11,
   "id": "fad03804",
   "metadata": {},
   "outputs": [
    {
     "data": {
      "text/html": [
       "<div>\n",
       "<style scoped>\n",
       "    .dataframe tbody tr th:only-of-type {\n",
       "        vertical-align: middle;\n",
       "    }\n",
       "\n",
       "    .dataframe tbody tr th {\n",
       "        vertical-align: top;\n",
       "    }\n",
       "\n",
       "    .dataframe thead th {\n",
       "        text-align: right;\n",
       "    }\n",
       "</style>\n",
       "<table border=\"1\" class=\"dataframe\">\n",
       "  <thead>\n",
       "    <tr style=\"text-align: right;\">\n",
       "      <th></th>\n",
       "      <th>count(DISTINCT graph_7166_c1.\"node1\")</th>\n",
       "    </tr>\n",
       "  </thead>\n",
       "  <tbody>\n",
       "    <tr>\n",
       "      <th>0</th>\n",
       "      <td>15414</td>\n",
       "    </tr>\n",
       "  </tbody>\n",
       "</table>\n",
       "</div>"
      ],
      "text/plain": [
       "   count(DISTINCT graph_7166_c1.\"node1\")\n",
       "0                                  15414"
      ]
     },
     "execution_count": 11,
     "metadata": {},
     "output_type": "execute_result"
    }
   ],
   "source": [
    "# count in ULAN IDs\n",
    "kgtk(\"\"\"\n",
    "    query -i $UNKNOWN\n",
    "        --match '(ulanid)-[]->(qnode)'\n",
    "        --return 'count(distinct ulanid)'\n",
    "    \"\"\")"
   ]
  },
  {
   "cell_type": "code",
   "execution_count": 12,
   "id": "e55a6499",
   "metadata": {},
   "outputs": [
    {
     "data": {
      "text/html": [
       "<div>\n",
       "<style scoped>\n",
       "    .dataframe tbody tr th:only-of-type {\n",
       "        vertical-align: middle;\n",
       "    }\n",
       "\n",
       "    .dataframe tbody tr th {\n",
       "        vertical-align: top;\n",
       "    }\n",
       "\n",
       "    .dataframe thead th {\n",
       "        text-align: right;\n",
       "    }\n",
       "</style>\n",
       "<table border=\"1\" class=\"dataframe\">\n",
       "  <thead>\n",
       "    <tr style=\"text-align: right;\">\n",
       "      <th></th>\n",
       "      <th>count(DISTINCT graph_7166_c1.\"node2\")</th>\n",
       "    </tr>\n",
       "  </thead>\n",
       "  <tbody>\n",
       "    <tr>\n",
       "      <th>0</th>\n",
       "      <td>15379</td>\n",
       "    </tr>\n",
       "  </tbody>\n",
       "</table>\n",
       "</div>"
      ],
      "text/plain": [
       "   count(DISTINCT graph_7166_c1.\"node2\")\n",
       "0                                  15379"
      ]
     },
     "execution_count": 12,
     "metadata": {},
     "output_type": "execute_result"
    }
   ],
   "source": [
    "# count in Qnodes\n",
    "kgtk(\"\"\"\n",
    "    query -i $UNKNOWN\n",
    "        --match '(ulanid)-[]->(qnode)'\n",
    "        --return 'count(distinct qnode)'\n",
    "    \"\"\")"
   ]
  },
  {
   "cell_type": "markdown",
   "id": "5570d311",
   "metadata": {},
   "source": [
    "# Step 7: Comparison of the Known Values\n",
    "How often do the results from two knowledge graphs agree"
   ]
  },
  {
   "cell_type": "code",
   "execution_count": 13,
   "id": "a408fd98",
   "metadata": {},
   "outputs": [
    {
     "name": "stdout",
     "output_type": "stream",
     "text": [
      "CPU times: user 2.16 ms, sys: 16.2 ms, total: 18.3 ms\n",
      "Wall time: 9.26 s\n"
     ]
    }
   ],
   "source": [
    "%%time\n",
    "kgtk(\"\"\"\n",
    "    query -i $ULAN_ALIGN $ULAN_BIO_CONCAT_ID\n",
    "        --match 'w: (ulanid)-[]->(), \n",
    "                 u: (ulanid)-[p0]->()-[p1]->()-[p2]->()-[p3]->(dod)'\n",
    "        --where 'p0.label = \"foaf:focus\" AND\n",
    "                 p1.label = \"gvp:biographyPreferred\" AND \n",
    "                 p2.label = \"gvp:estEnd\" AND\n",
    "                 p3.label = \"gvp:structured_value\"'\n",
    "        --return 'distinct ulanid as node1, \"P570\" as label, dod as node2'\n",
    "        -o $GETTY_AGREE\n",
    "    \"\"\")"
   ]
  },
  {
   "cell_type": "markdown",
   "id": "119081bd",
   "metadata": {},
   "source": [
    "Count agree in Qnode:"
   ]
  },
  {
   "cell_type": "code",
   "execution_count": 14,
   "id": "b653f477",
   "metadata": {},
   "outputs": [
    {
     "name": "stdout",
     "output_type": "stream",
     "text": [
      "CPU times: user 8.29 ms, sys: 11.4 ms, total: 19.7 ms\n",
      "Wall time: 4.47 s\n"
     ]
    },
    {
     "data": {
      "text/html": [
       "<div>\n",
       "<style scoped>\n",
       "    .dataframe tbody tr th:only-of-type {\n",
       "        vertical-align: middle;\n",
       "    }\n",
       "\n",
       "    .dataframe tbody tr th {\n",
       "        vertical-align: top;\n",
       "    }\n",
       "\n",
       "    .dataframe thead th {\n",
       "        text-align: right;\n",
       "    }\n",
       "</style>\n",
       "<table border=\"1\" class=\"dataframe\">\n",
       "  <thead>\n",
       "    <tr style=\"text-align: right;\">\n",
       "      <th></th>\n",
       "      <th>count(DISTINCT graph_627_c3.\"node2\")</th>\n",
       "    </tr>\n",
       "  </thead>\n",
       "  <tbody>\n",
       "    <tr>\n",
       "      <th>0</th>\n",
       "      <td>55588</td>\n",
       "    </tr>\n",
       "  </tbody>\n",
       "</table>\n",
       "</div>"
      ],
      "text/plain": [
       "   count(DISTINCT graph_627_c3.\"node2\")\n",
       "0                                 55588"
      ]
     },
     "execution_count": 14,
     "metadata": {},
     "output_type": "execute_result"
    }
   ],
   "source": [
    "%%time\n",
    "kgtk(\"\"\"\n",
    "    query -i $WIKI_DOD $GETTY_AGREE $ULAN_ALIGN\n",
    "        --match 'd: (ulanid)-[]->(dod), g: (ulanid)-[]->(yod), a: (ulanid)-[]->(qnode)'\n",
    "        --where 'kgtk_stringify(kgtk_date_year(dod)) = yod'\n",
    "        --return 'count(distinct qnode)'\n",
    "    \"\"\")"
   ]
  },
  {
   "cell_type": "markdown",
   "id": "e98f4d53",
   "metadata": {},
   "source": [
    "Count value per node:"
   ]
  },
  {
   "cell_type": "code",
   "execution_count": 15,
   "id": "f4be4f60",
   "metadata": {},
   "outputs": [],
   "source": [
    "nodes = kgtk(\"\"\"\n",
    "    query -i $GETTY_AGREE $ULAN_ALIGN \n",
    "        --match 'g: (ulanid)-[]->(), w: (ulanid)-[]->(qnode)'\n",
    "        --return 'count(distinct qnode) as node'\n",
    "    \"\"\")"
   ]
  },
  {
   "cell_type": "code",
   "execution_count": 16,
   "id": "f0aebe2e",
   "metadata": {},
   "outputs": [],
   "source": [
    "import subprocess\n",
    "\n",
    "values = subprocess.check_output(\"wc -l < $GETTY_AGREE\", shell=True)\n",
    "values = values.decode(\"utf-8\").strip()\n",
    "values = int(values) - 1"
   ]
  },
  {
   "cell_type": "code",
   "execution_count": 17,
   "id": "85a3772e",
   "metadata": {},
   "outputs": [
    {
     "data": {
      "text/plain": [
       "1.0013372825534361"
      ]
     },
     "execution_count": 17,
     "metadata": {},
     "output_type": "execute_result"
    }
   ],
   "source": [
    "values / nodes.iloc[0]['node']"
   ]
  },
  {
   "cell_type": "code",
   "execution_count": null,
   "id": "cd43547c",
   "metadata": {},
   "outputs": [],
   "source": []
  }
 ],
 "metadata": {
  "kernelspec": {
   "display_name": "Python 3",
   "language": "python",
   "name": "python3"
  },
  "language_info": {
   "codemirror_mode": {
    "name": "ipython",
    "version": 3
   },
   "file_extension": ".py",
   "mimetype": "text/x-python",
   "name": "python",
   "nbconvert_exporter": "python",
   "pygments_lexer": "ipython3",
   "version": "3.7.10"
  }
 },
 "nbformat": 4,
 "nbformat_minor": 5
}
