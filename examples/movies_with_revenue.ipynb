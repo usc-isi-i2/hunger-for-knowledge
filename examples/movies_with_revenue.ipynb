{
 "cells": [
  {
   "cell_type": "markdown",
   "id": "5590c730",
   "metadata": {},
   "source": [
    "# Step 0 Set up `kgtk`\n",
    "Check in `spouse_of_politician.ipynb`"
   ]
  },
  {
   "cell_type": "markdown",
   "id": "4777a93a",
   "metadata": {},
   "source": [
    "# Step 1 Send a SPARQL query use `kgtk`"
   ]
  },
  {
   "cell_type": "markdown",
   "id": "d8f93141",
   "metadata": {},
   "source": [
    "Example 1: Find cost of movies: <div>\n",
    "SPARQL query:\n",
    "```\n",
    "SELECT DISTINCT ?movieLabel ?cost\n",
    "WHERE\n",
    "{\n",
    "  ?movie wdt:P31 wd:Q11424 ;\n",
    "         wdt:P577 ?publicationDate ;\n",
    "         wdt:P2130 ?cost .\n",
    "  FILTER(YEAR(?publicationDate) = 2020) .\n",
    "  SERVICE wikibase:label { bd:serviceParam wikibase:language \"en\". }\n",
    "}\n",
    "```\n",
    "where `P2130` is \"cost\" and `P2142` is \"box office\";"
   ]
  },
  {
   "cell_type": "markdown",
   "id": "38b7999d",
   "metadata": {},
   "source": [
    "### Define alias and variables"
   ]
  },
  {
   "cell_type": "code",
   "execution_count": null,
   "id": "effb5aec",
   "metadata": {},
   "outputs": [],
   "source": [
    "%%bash\n",
    "# Database\n",
    "CLAIMS=../data/claims.tsv.gz\n",
    "WIKI_INFO=../data/wikidata_infobox.tsv\n",
    "# Results\n",
    "RESULTS=../data/movie_with_revenue.tsv\n",
    "NEW_RESULTS=../data/new_movie_with_revenue.tsv\n",
    "# Datatypes\n",
    "NUMBERS=../data/numbers.tsv\n",
    "STRINGS=../data/strings.tsv\n",
    "STRUCTURED_LITERALS=../data/structured_literals.tsv\n",
    "QNODES=../data/qnodes.tsv"
   ]
  },
  {
   "cell_type": "markdown",
   "id": "6251ebdb",
   "metadata": {},
   "source": [
    "### Main `kgtk` query:"
   ]
  },
  {
   "cell_type": "code",
   "execution_count": 10,
   "id": "24c661c0",
   "metadata": {},
   "outputs": [],
   "source": [
    "%%bash\n",
    "kgtk query -i ../data/claims.tsv.gz \\\n",
    "           --match 'c: (:Q11424)<-[:P31]-(q)-[p:P577]->(d)' \\\n",
    "           --where 'kgtk_date_year(d) = 2020' \\\n",
    "           --return 'q, p.label, d' \\\n",
    "           -o ../data/movie_in_2020.tsv"
   ]
  },
  {
   "cell_type": "code",
   "execution_count": 14,
   "id": "90f07bfa",
   "metadata": {},
   "outputs": [],
   "source": [
    "%%bash\n",
    "kgtk query -i ../data/claims.tsv.gz \\\n",
    "           --match 'c: (:Q11424)<-[:P31]-(q)-[p:P577]->(d)' \\\n",
    "           --return 'distinct q, p.label, d' \\\n",
    "           -o ../data/movie.tsv"
   ]
  },
  {
   "cell_type": "code",
   "execution_count": 44,
   "id": "22a103c4",
   "metadata": {},
   "outputs": [
    {
     "name": "stdout",
     "output_type": "stream",
     "text": [
      "263671 ../data/movie.tsv\n"
     ]
    }
   ],
   "source": [
    "%%bash\n",
    "wc -l ../data/movie.tsv"
   ]
  },
  {
   "cell_type": "code",
   "execution_count": 49,
   "id": "fd6ee6d2",
   "metadata": {
    "scrolled": true
   },
   "outputs": [],
   "source": [
    "%%bash\n",
    "kgtk query -i ../data/claims.tsv.gz -i ../data/movie.tsv \\\n",
    "           --match 'c: (q)-[p:P2130]->(cost), m: (q)-[]->()' \\\n",
    "           --return 'distinct q, p.label, kgtk_quantity_number_int(cost) as node2' \\\n",
    "           -o ../data/movie_with_revenue.tsv"
   ]
  },
  {
   "cell_type": "markdown",
   "id": "2042dc70",
   "metadata": {},
   "source": [
    "### Count known results in Wikidata database:"
   ]
  },
  {
   "cell_type": "markdown",
   "id": "2121edfe",
   "metadata": {},
   "source": [
    "Count movie-revenue pairs / **rows** (result should -1 which is the header):"
   ]
  },
  {
   "cell_type": "code",
   "execution_count": 47,
   "id": "e9ba7ef9",
   "metadata": {},
   "outputs": [
    {
     "name": "stdout",
     "output_type": "stream",
     "text": [
      "2741 ../data/movie_with_revenue.tsv\n"
     ]
    }
   ],
   "source": [
    "%%bash\n",
    "wc -l ../data/movie_with_revenue.tsv"
   ]
  },
  {
   "cell_type": "markdown",
   "id": "3fd3bb9c",
   "metadata": {},
   "source": [
    "Count how many **unique movies** have spouse in Wikidata:"
   ]
  },
  {
   "cell_type": "code",
   "execution_count": 81,
   "id": "fb81e8c7",
   "metadata": {},
   "outputs": [
    {
     "name": "stdout",
     "output_type": "stream",
     "text": [
      "N\n",
      "2737\n"
     ]
    }
   ],
   "source": [
    "%%bash\n",
    "RESULTS=../data/movie_with_revenue.tsv\n",
    "\n",
    "kgtk query -i $RESULTS \\\n",
    "           --match '(p)-[]->()' \\\n",
    "           --return 'count(distinct p) as N'"
   ]
  },
  {
   "cell_type": "markdown",
   "id": "d1cf2970",
   "metadata": {},
   "source": [
    "Duplicates:"
   ]
  },
  {
   "cell_type": "code",
   "execution_count": null,
   "id": "e4f10626",
   "metadata": {},
   "outputs": [],
   "source": [
    "%%bash\n",
    "RESULTS=../data/movie_with_revenue.tsv\n",
    "\n",
    "kgtk query -i $RESULTS \\\n",
    "           --match '(p)-[]->(s)' \\\n",
    "           --return 'p, count(s) as N' \\\n",
    "           --order-by 'N desc'"
   ]
  },
  {
   "cell_type": "markdown",
   "id": "44d9b6ac",
   "metadata": {},
   "source": [
    "### Find unknow results in Wikidata database:\n",
    "- Find all movies (already completed)\n",
    "- Eliminate movies which have revenue"
   ]
  },
  {
   "cell_type": "code",
   "execution_count": 50,
   "id": "80feafd2",
   "metadata": {},
   "outputs": [],
   "source": [
    "%%bash\n",
    "kgtk ifnotexists -i ../data/movie.tsv \\\n",
    "                 --filter-on ../data/movie_with_revenue.tsv \\\n",
    "                 --input-keys node1 \\\n",
    "                 --filter-keys node1 \\\n",
    "                 -o ../data/movie_wo_revenue.tsv"
   ]
  },
  {
   "cell_type": "code",
   "execution_count": 51,
   "id": "d1779be9",
   "metadata": {},
   "outputs": [
    {
     "name": "stdout",
     "output_type": "stream",
     "text": [
      "258293 ../data/movie_wo_revenue.tsv\n"
     ]
    }
   ],
   "source": [
    "%%bash\n",
    "wc -l ../data/movie_wo_revenue.tsv"
   ]
  },
  {
   "cell_type": "markdown",
   "id": "980f4545",
   "metadata": {},
   "source": [
    "### Count unknown results in Wikidata database:"
   ]
  },
  {
   "cell_type": "code",
   "execution_count": 84,
   "id": "e3ec515b",
   "metadata": {},
   "outputs": [
    {
     "name": "stdout",
     "output_type": "stream",
     "text": [
      "N\n",
      "236590\n"
     ]
    }
   ],
   "source": [
    "%%bash\n",
    "kgtk query -i ../data/movie_wo_revenue.tsv \\\n",
    "           --match '(p)-[]->()' \\\n",
    "           --return 'count(distinct p) as N'"
   ]
  },
  {
   "cell_type": "markdown",
   "id": "f6b323a1",
   "metadata": {},
   "source": [
    "# Step 2 Infer properties"
   ]
  },
  {
   "cell_type": "markdown",
   "id": "0fe72819",
   "metadata": {},
   "source": [
    "Use query results from Wikidata database to infer properties in Wikidata infobox and return the most frequent property."
   ]
  },
  {
   "cell_type": "code",
   "execution_count": 23,
   "id": "23ed59d9",
   "metadata": {},
   "outputs": [
    {
     "name": "stdout",
     "output_type": "stream",
     "text": [
      "label\tN\n",
      "property:budget\t15\n"
     ]
    }
   ],
   "source": [
    "%%bash\n",
    "RESULTS=../data/movie_with_revenue.tsv\n",
    "WIKI_INFO=../data/wikidata_infobox.tsv\n",
    "\n",
    "kgtk query -i $RESULTS -i $WIKI_INFO \\\n",
    "           --match 'm: (q)-[]->(cost), w: (q)-[p]->(v)' \\\n",
    "           --where 'kgtk_quantity_number_int(cost) = kgtk_quantity_number_int(v)' \\\n",
    "           --return 'p.label, count(v) as N' \\\n",
    "           --order-by 'N desc' \\\n",
    "           --limit 1"
   ]
  },
  {
   "cell_type": "code",
   "execution_count": 52,
   "id": "5e42bc39",
   "metadata": {},
   "outputs": [
    {
     "name": "stdout",
     "output_type": "stream",
     "text": [
      "label\tN\n",
      "property:budget\t928\n"
     ]
    }
   ],
   "source": [
    "%%bash\n",
    "RESULTS=../data/movie_with_revenue.tsv\n",
    "WIKI_INFO=../data/wikidata_infobox.tsv\n",
    "\n",
    "kgtk query -i $RESULTS -i $WIKI_INFO \\\n",
    "           --match 'm: (q)-[]->(cost), w: (q)-[p]->(s)-[sv]->(v)' \\\n",
    "           --where 'sv.label = \"dbpedia:structured_value\" AND kgtk_quantity_number_int(cost) = kgtk_quantity_number_int(kgtk_unstringify(v))' \\\n",
    "           --return 'p.label, count(v) as N' \\\n",
    "           --order-by 'N desc' \\\n",
    "           --limit 1"
   ]
  },
  {
   "cell_type": "markdown",
   "id": "c337f051",
   "metadata": {},
   "source": [
    "# Step 3 Run query in Wikidata infobox "
   ]
  },
  {
   "cell_type": "markdown",
   "id": "72cd567d",
   "metadata": {},
   "source": [
    "For those don't have revenue, query in Wikidata infobox:"
   ]
  },
  {
   "cell_type": "code",
   "execution_count": 55,
   "id": "858a9a91",
   "metadata": {},
   "outputs": [],
   "source": [
    "%%bash\n",
    "WIKI_INFO=../data/wikidata_infobox.tsv\n",
    "QUERY_FILE=../data/movie_wo_revenue.tsv\n",
    "NEW_RESULTS=../data/new_movie_with_revenue.tsv\n",
    "\n",
    "kgtk query -i $QUERY_FILE -i $WIKI_INFO \\\n",
    "           --match 'm: (movie)-[]->(), w: (movie)-[p]->(revenue)' \\\n",
    "           --where 'p.label = \"property:budget\"' \\\n",
    "           --return 'distinct movie, p.label, revenue' \\\n",
    "           -o $NEW_RESULTS"
   ]
  },
  {
   "cell_type": "markdown",
   "id": "7cccefe0",
   "metadata": {},
   "source": [
    "- Count rows of new findings:"
   ]
  },
  {
   "cell_type": "code",
   "execution_count": 58,
   "id": "1dfc3a34",
   "metadata": {},
   "outputs": [
    {
     "name": "stdout",
     "output_type": "stream",
     "text": [
      "18512 ../data/new_movie_with_revenue.tsv\n"
     ]
    }
   ],
   "source": [
    "%%bash\n",
    "wc -l ../data/new_movie_with_revenue.tsv"
   ]
  },
  {
   "cell_type": "markdown",
   "id": "e6db8cc9",
   "metadata": {},
   "source": [
    "- Count unique movies of new findings:"
   ]
  },
  {
   "cell_type": "code",
   "execution_count": 59,
   "id": "b0222456",
   "metadata": {},
   "outputs": [
    {
     "name": "stdout",
     "output_type": "stream",
     "text": [
      "N\n",
      "17181\n"
     ]
    }
   ],
   "source": [
    "%%bash\n",
    "kgtk query -i ../data/new_movie_with_revenue.tsv \\\n",
    "           --match 'n: (p)-[]->()' \\\n",
    "           --return 'count(distinct p) as N'"
   ]
  },
  {
   "cell_type": "markdown",
   "id": "9efae737",
   "metadata": {},
   "source": [
    "# Step 4 Datatype distribution of new findings"
   ]
  },
  {
   "cell_type": "markdown",
   "id": "6fcc123a",
   "metadata": {},
   "source": [
    "### 1. Numbers:"
   ]
  },
  {
   "cell_type": "markdown",
   "id": "22f4c922",
   "metadata": {},
   "source": [
    "- Rows:"
   ]
  },
  {
   "cell_type": "code",
   "execution_count": 60,
   "id": "1c72020c",
   "metadata": {},
   "outputs": [
    {
     "name": "stdout",
     "output_type": "stream",
     "text": [
      "1493 ../data/numbers.tsv\n"
     ]
    }
   ],
   "source": [
    "%%bash\n",
    "kgtk query -i ../data/new_movie_with_revenue.tsv \\\n",
    "           --match 'n: (p)-[]->(s)' \\\n",
    "           --where 'kgtk_number(s)' \\\n",
    "           -o ../data/numbers.tsv\n",
    "\n",
    "wc -l ../data/numbers.tsv"
   ]
  },
  {
   "cell_type": "markdown",
   "id": "22127864",
   "metadata": {},
   "source": [
    "- Unique movies:"
   ]
  },
  {
   "cell_type": "code",
   "execution_count": 62,
   "id": "79334cac",
   "metadata": {},
   "outputs": [
    {
     "name": "stdout",
     "output_type": "stream",
     "text": [
      "N\n",
      "1492\n"
     ]
    }
   ],
   "source": [
    "%%bash\n",
    "kgtk query -i ../data/numbers.tsv \\\n",
    "           --match '(p)-[]->()' \\\n",
    "           --return 'count(distinct p) as N'"
   ]
  },
  {
   "cell_type": "markdown",
   "id": "6050c150",
   "metadata": {},
   "source": [
    "- Duplicates (movies that have multiple numbers):"
   ]
  },
  {
   "cell_type": "code",
   "execution_count": null,
   "id": "ca27b378",
   "metadata": {},
   "outputs": [],
   "source": [
    "%%bash\n",
    "kgtk query -i ../data/numbers.tsv \\\n",
    "           --match '(p)-[]->(s)' \\\n",
    "           --return 'p, count(s) as N' \\\n",
    "           --order-by 'N desc'"
   ]
  },
  {
   "cell_type": "markdown",
   "id": "0f53ae0b",
   "metadata": {},
   "source": [
    "### 2. Structured literals:"
   ]
  },
  {
   "cell_type": "markdown",
   "id": "24e7ce55",
   "metadata": {},
   "source": [
    "- Rows:"
   ]
  },
  {
   "cell_type": "code",
   "execution_count": 68,
   "id": "492be002",
   "metadata": {},
   "outputs": [
    {
     "name": "stdout",
     "output_type": "stream",
     "text": [
      "13142 ../data/structured_literals.tsv\n"
     ]
    }
   ],
   "source": [
    "%%bash\n",
    "NEW_RESULTS=../data/new_movie_with_revenue.tsv\n",
    "WIKI_INFO=../data/wikidata_infobox.tsv\n",
    "\n",
    "kgtk query -i $NEW_RESULTS -i $WIKI_INFO \\\n",
    "           --match 'n: (q)-[p]->(s), w: (s)-[sv]->(v)' \\\n",
    "           --where 'NOT kgtk_lqstring(s) AND NOT kgtk_number(s) AND sv.label = \"dbpedia:structured_value\"' \\\n",
    "           --return 'q, p.label, v' \\\n",
    "           -o ../data/structured_literals.tsv\n",
    "\n",
    "wc -l ../data/structured_literals.tsv"
   ]
  },
  {
   "cell_type": "code",
   "execution_count": 69,
   "id": "9664fd70",
   "metadata": {},
   "outputs": [
    {
     "name": "stdout",
     "output_type": "stream",
     "text": [
      "node1\tlabel\tnode2\n",
      "Q1000394\tproperty:budget\t\"361000.0\"\n",
      "Q1001943\tproperty:budget\t\"7100000.0\"\n",
      "Q1002100\tproperty:budget\t\"4.5E7\"\n",
      "Q1002480\tproperty:budget\t\"4500000.0\"\n",
      "Q1004392\tproperty:budget\t\"1.5E7\"\n",
      "Q1004440\tproperty:budget\t\"1.2E7\"\n",
      "Q1004531\tproperty:budget\t\"2.0E7\"\n",
      "Q1004567\tproperty:budget\t\"1.5E7\"\n",
      "Q1004657\tproperty:budget\t\"2100000.0\"\n"
     ]
    }
   ],
   "source": [
    "%%bash\n",
    "head ../data/structured_literals.tsv"
   ]
  },
  {
   "cell_type": "markdown",
   "id": "88e74673",
   "metadata": {},
   "source": [
    "- Unique movies:"
   ]
  },
  {
   "cell_type": "code",
   "execution_count": 71,
   "id": "23145c23",
   "metadata": {},
   "outputs": [
    {
     "name": "stdout",
     "output_type": "stream",
     "text": [
      "N\n",
      "13120\n"
     ]
    }
   ],
   "source": [
    "%%bash\n",
    "kgtk query -i ../data/structured_literals.tsv \\\n",
    "           --match '(p)-[]->()' \\\n",
    "           --return 'count(distinct p) as N'"
   ]
  },
  {
   "cell_type": "markdown",
   "id": "296a7e7c",
   "metadata": {},
   "source": [
    "- Duplicates:"
   ]
  },
  {
   "cell_type": "code",
   "execution_count": null,
   "id": "859e7486",
   "metadata": {},
   "outputs": [],
   "source": [
    "%%bash\n",
    "kgtk query -i ../data/structured_literals.tsv \\\n",
    "           --match '(p)-[]->(s)' \\\n",
    "           --return 'p, count(s) as N' \\\n",
    "           --order-by 'N desc'"
   ]
  },
  {
   "cell_type": "markdown",
   "id": "d87e525a",
   "metadata": {},
   "source": [
    "### 3. Strings:"
   ]
  },
  {
   "cell_type": "markdown",
   "id": "0a9de3ce",
   "metadata": {},
   "source": [
    "#### All:"
   ]
  },
  {
   "cell_type": "markdown",
   "id": "d1cae22a",
   "metadata": {},
   "source": [
    "- Rows:"
   ]
  },
  {
   "cell_type": "code",
   "execution_count": 72,
   "id": "2c758a34",
   "metadata": {},
   "outputs": [
    {
     "name": "stdout",
     "output_type": "stream",
     "text": [
      "3869 ../data/strings.tsv\n"
     ]
    }
   ],
   "source": [
    "%%bash\n",
    "NEW_RESULTS=../data/new_movie_with_revenue.tsv\n",
    "\n",
    "kgtk query -i $NEW_RESULTS \\\n",
    "           --match 'n: (p)-[]->(s)' \\\n",
    "           --where 'kgtk_lqstring(s)' \\\n",
    "           -o ../data/strings.tsv\n",
    "\n",
    "wc -l ../data/strings.tsv"
   ]
  },
  {
   "cell_type": "markdown",
   "id": "5231fb8c",
   "metadata": {},
   "source": [
    "- Unique movies:"
   ]
  },
  {
   "cell_type": "code",
   "execution_count": 73,
   "id": "f2dae079",
   "metadata": {},
   "outputs": [
    {
     "name": "stdout",
     "output_type": "stream",
     "text": [
      "N\n",
      "3657\n"
     ]
    }
   ],
   "source": [
    "%%bash\n",
    "kgtk query -i ../data/strings.tsv \\\n",
    "           --match '(p)-[]->()' \\\n",
    "           --return 'count(distinct p) as N'"
   ]
  },
  {
   "cell_type": "markdown",
   "id": "0484b83e",
   "metadata": {},
   "source": [
    "- Duplicates:"
   ]
  },
  {
   "cell_type": "code",
   "execution_count": null,
   "id": "bf20c418",
   "metadata": {},
   "outputs": [],
   "source": [
    "%%bash\n",
    "kgtk query -i ../data/strings.tsv \\\n",
    "           --match '(p)-[]->(s)' \\\n",
    "           --return 'p, count(s) as N' \\\n",
    "           --order-by 'N desc'"
   ]
  },
  {
   "cell_type": "markdown",
   "id": "1540d551",
   "metadata": {},
   "source": [
    "#### Empty:"
   ]
  },
  {
   "cell_type": "markdown",
   "id": "bcac99d2",
   "metadata": {},
   "source": [
    "- Rows:"
   ]
  },
  {
   "cell_type": "code",
   "execution_count": 76,
   "id": "6c303dc9",
   "metadata": {},
   "outputs": [
    {
     "name": "stdout",
     "output_type": "stream",
     "text": [
      "407 ../data/empty_strings.tsv\n"
     ]
    }
   ],
   "source": [
    "%%bash\n",
    "NEW_RESULTS=../data/new_movie_with_revenue.tsv\n",
    "\n",
    "kgtk query -i $NEW_RESULTS \\\n",
    "           --match 'n: (p)-[]->(s)' \\\n",
    "           --where 'kgtk_lqstring_text(s) = \"\"' \\\n",
    "           -o ../data/empty_strings.tsv\n",
    "\n",
    "wc -l ../data/empty_strings.tsv"
   ]
  },
  {
   "cell_type": "markdown",
   "id": "79a36412",
   "metadata": {},
   "source": [
    "- Unique movies:"
   ]
  },
  {
   "cell_type": "code",
   "execution_count": 77,
   "id": "417d4c06",
   "metadata": {},
   "outputs": [
    {
     "name": "stdout",
     "output_type": "stream",
     "text": [
      "N\n",
      "406\n"
     ]
    }
   ],
   "source": [
    "%%bash\n",
    "kgtk query -i ../data/empty_strings.tsv \\\n",
    "           --match 'n: (p)-[]->()' \\\n",
    "           --return 'count(distinct p) as N'"
   ]
  },
  {
   "cell_type": "markdown",
   "id": "da0420fd",
   "metadata": {},
   "source": [
    "#### Further check empty strings:"
   ]
  },
  {
   "cell_type": "markdown",
   "id": "e784e2be",
   "metadata": {},
   "source": [
    "First we filter out all non-empty strings:"
   ]
  },
  {
   "cell_type": "code",
   "execution_count": 92,
   "id": "de81bdf5",
   "metadata": {},
   "outputs": [],
   "source": [
    "%%bash\n",
    "kgtk query -i ../data/new_movie_with_revenue.tsv \\\n",
    "           --match 'n: (p)-[]->(s)' \\\n",
    "           --where 'NOT kgtk_lqstring(s) OR kgtk_lqstring_text(s) != \"\"' \\\n",
    "           -o ../data/non_empty_strings.tsv"
   ]
  },
  {
   "cell_type": "markdown",
   "id": "2ab07372",
   "metadata": {},
   "source": [
    "Then we filter those in empty but also have spouse in non-empty ones, then we can count how many \"pure\" empty:"
   ]
  },
  {
   "cell_type": "code",
   "execution_count": 93,
   "id": "c9b02572",
   "metadata": {},
   "outputs": [
    {
     "name": "stdout",
     "output_type": "stream",
     "text": [
      "10 ../data/pure_empty.tsv\n"
     ]
    }
   ],
   "source": [
    "%%bash\n",
    "kgtk ifnotexists -i ../data/empty_strings.tsv \\\n",
    "                 --filter-on ../data/non_empty_strings.tsv \\\n",
    "                 --input-keys node1 \\\n",
    "                 --filter-keys node1 \\\n",
    "                 -o ../data/pure_empty.tsv \n",
    "\n",
    "wc -l ../data/pure_empty.tsv"
   ]
  },
  {
   "cell_type": "code",
   "execution_count": 94,
   "id": "1def8bd4",
   "metadata": {},
   "outputs": [
    {
     "name": "stdout",
     "output_type": "stream",
     "text": [
      "N\n",
      "9\n"
     ]
    }
   ],
   "source": [
    "%%bash\n",
    "kgtk query -i ../data/pure_empty.tsv \\\n",
    "           --match 'p: (q)-[]->()' \\\n",
    "           --return 'count(distinct q) as N'"
   ]
  },
  {
   "cell_type": "markdown",
   "id": "f99068ad",
   "metadata": {},
   "source": [
    "Check one of them by hand:"
   ]
  },
  {
   "cell_type": "code",
   "execution_count": 95,
   "id": "1e5ee13c",
   "metadata": {},
   "outputs": [
    {
     "name": "stdout",
     "output_type": "stream",
     "text": [
      "node1\tlabel\tnode2\n",
      "Q16242907\tproperty:budget\t''@en\n"
     ]
    }
   ],
   "source": [
    "%%bash\n",
    "head -n 2 ../data/pure_empty.tsv"
   ]
  },
  {
   "cell_type": "code",
   "execution_count": 96,
   "id": "65da179e",
   "metadata": {},
   "outputs": [
    {
     "name": "stdout",
     "output_type": "stream",
     "text": [
      "node1\tlabel\tnode2\n",
      "Q16242907\tproperty:budget\t''@en\n"
     ]
    }
   ],
   "source": [
    "%%bash\n",
    "kgtk query -i ../data/new_movie_with_revenue.tsv \\\n",
    "           --match '(q:Q16242907)-[p]->(v)' \\\n",
    "           --return 'q, p.label, v'"
   ]
  },
  {
   "cell_type": "markdown",
   "id": "3724b905",
   "metadata": {},
   "source": [
    "### 4. Qnodes"
   ]
  },
  {
   "cell_type": "markdown",
   "id": "d8324982",
   "metadata": {},
   "source": [
    "- Rows:"
   ]
  },
  {
   "cell_type": "code",
   "execution_count": 78,
   "id": "6e4b2ddd",
   "metadata": {},
   "outputs": [
    {
     "name": "stdout",
     "output_type": "stream",
     "text": [
      "11 ../data/qnodes.tsv\n"
     ]
    }
   ],
   "source": [
    "%%bash\n",
    "NEW_RESULTS=../data/new_movie_with_revenue.tsv\n",
    "\n",
    "kgtk query -i $NEW_RESULTS \\\n",
    "           --match 'n:()-[]->(q)' \\\n",
    "           --where 'NOT kgtk_lqstring(q) AND NOT kgtk_number(q)' \\\n",
    "           -o ../data/nodes.tsv\n",
    "\n",
    "kgtk ifnotexists -i ../data/nodes.tsv \\\n",
    "                 --filter-on ../data/structured_literals.tsv \\\n",
    "                 --input-keys node1 \\\n",
    "                 --filter-keys node1 \\\n",
    "                 -o ../data/qnodes.tsv \n",
    "\n",
    "wc -l ../data/qnodes.tsv"
   ]
  },
  {
   "cell_type": "markdown",
   "id": "206bbd74",
   "metadata": {},
   "source": [
    "- Unique movies:"
   ]
  },
  {
   "cell_type": "code",
   "execution_count": 79,
   "id": "6c39ff00",
   "metadata": {},
   "outputs": [
    {
     "name": "stdout",
     "output_type": "stream",
     "text": [
      "N\n",
      "10\n"
     ]
    }
   ],
   "source": [
    "%%bash\n",
    "kgtk query -i ../data/qnodes.tsv \\\n",
    "           --match '(p)-[]->()' \\\n",
    "           --return 'count(distinct p) as N'"
   ]
  },
  {
   "cell_type": "markdown",
   "id": "ec78f375",
   "metadata": {},
   "source": [
    "- Duplicates:"
   ]
  },
  {
   "cell_type": "code",
   "execution_count": 80,
   "id": "4434bfcb",
   "metadata": {},
   "outputs": [
    {
     "name": "stdout",
     "output_type": "stream",
     "text": [
      "node1\tN\n",
      "Q10851237\t1\n",
      "Q21065428\t1\n",
      "Q2706071\t1\n",
      "Q4155584\t1\n",
      "Q4796595\t1\n",
      "Q48671706\t1\n",
      "Q4927579\t1\n",
      "Q5284662\t1\n",
      "Q7278388\t1\n",
      "Q7288987\t1\n"
     ]
    }
   ],
   "source": [
    "%%bash\n",
    "kgtk query -i ../data/qnodes.tsv \\\n",
    "           --match '(p)-[]->(s)' \\\n",
    "           --return 'p, count(s) as N'"
   ]
  },
  {
   "cell_type": "code",
   "execution_count": null,
   "id": "407140e8",
   "metadata": {},
   "outputs": [],
   "source": []
  }
 ],
 "metadata": {
  "kernelspec": {
   "display_name": "Python 3",
   "language": "python",
   "name": "python3"
  },
  "language_info": {
   "codemirror_mode": {
    "name": "ipython",
    "version": 3
   },
   "file_extension": ".py",
   "mimetype": "text/x-python",
   "name": "python",
   "nbconvert_exporter": "python",
   "pygments_lexer": "ipython3",
   "version": "3.7.10"
  }
 },
 "nbformat": 4,
 "nbformat_minor": 5
}
