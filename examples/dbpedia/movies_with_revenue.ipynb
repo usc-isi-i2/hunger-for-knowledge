{
 "cells": [
  {
   "cell_type": "markdown",
   "id": "5590c730",
   "metadata": {},
   "source": [
    "# Step 0 Set up `kgtk`\n",
    "Check in `spouse_of_politician.ipynb`"
   ]
  },
  {
   "cell_type": "markdown",
   "id": "4777a93a",
   "metadata": {},
   "source": [
    "# Step 1 Send a SPARQL query use `kgtk`"
   ]
  },
  {
   "cell_type": "markdown",
   "id": "d8f93141",
   "metadata": {},
   "source": [
    "Example 1: Find cost of movies: "
   ]
  },
  {
   "cell_type": "code",
   "execution_count": 2,
   "id": "ffd9c402",
   "metadata": {},
   "outputs": [],
   "source": [
    "import os"
   ]
  },
  {
   "cell_type": "markdown",
   "id": "38b7999d",
   "metadata": {},
   "source": [
    "### Define alias and variables"
   ]
  },
  {
   "cell_type": "code",
   "execution_count": 3,
   "id": "effb5aec",
   "metadata": {},
   "outputs": [
    {
     "name": "stdout",
     "output_type": "stream",
     "text": [
      "DATABASE: \"/nas/home/bohuizha/KG/hunger-for-knowledge/data/\"\n",
      "CLAIMS: \"/nas/home/bohuizha/KG/hunger-for-knowledge/data/claims.tsv\"\n",
      "WIKI_INFO: \"/nas/home/bohuizha/KG/hunger-for-knowledge/data/wikidata_infobox.tsv\"\n",
      "P31: \"/nas/home/bohuizha/KG/hunger-for-knowledge/data/P31.tsv\"\n",
      "P279STAR: \"/nas/home/bohuizha/KG/hunger-for-knowledge/data/P279star.tsv\"\n",
      "OUTPUT: \"/nas/home/bohuizha/KG/hunger-for-knowledge/output/\"\n",
      "RESULTS: \"/nas/home/bohuizha/KG/hunger-for-knowledge/output/movie_with_revenue.tsv\"\n",
      "NEW_RESULTS: \"/nas/home/bohuizha/KG/hunger-for-knowledge/output/new_movie_with_revenue.tsv\"\n",
      "MOVIE: \"/nas/home/bohuizha/KG/hunger-for-knowledge/output/movie.tsv\"\n",
      "QUERY_FILE: \"/nas/home/bohuizha/KG/hunger-for-knowledge/output/movie_wo_revenue.tsv\"\n",
      "NUMBERS: \"/nas/home/bohuizha/KG/hunger-for-knowledge/output/numbers.tsv\"\n",
      "STRINGS: \"/nas/home/bohuizha/KG/hunger-for-knowledge/output/strings.tsv\"\n",
      "EMPTY_STRINGS: \"/nas/home/bohuizha/KG/hunger-for-knowledge/output/empty_strings.tsv\"\n",
      "PURE_EMPTY: \"/nas/home/bohuizha/KG/hunger-for-knowledge/output/pure_empty.tsv\"\n",
      "NON_EMPTY: \"/nas/home/bohuizha/KG/hunger-for-knowledge/output/non_empty_strings.tsv\"\n",
      "STRUCTURED_LITERALS: \"/nas/home/bohuizha/KG/hunger-for-knowledge/output/structured_literals.tsv\"\n",
      "NODES: \"/nas/home/bohuizha/KG/hunger-for-knowledge/output/nodes.tsv\"\n",
      "QNODES: \"/nas/home/bohuizha/KG/hunger-for-knowledge/output/qnodes.tsv\"\n"
     ]
    }
   ],
   "source": [
    "# Parameters\n",
    "\n",
    "# Folder where database files store\n",
    "data_path = \"/nas/home/bohuizha/KG/hunger-for-knowledge/data/\"\n",
    "\n",
    "# Folder on local machine where to create the output and temporary folders\n",
    "output_path = \"/nas/home/bohuizha/KG/hunger-for-knowledge/output/\"\n",
    "\n",
    "# The names of files in the KGTK Wikidata distirbution that we will use in this notebook.\n",
    "data_file_names = {\n",
    "    \"claims\": \"claims.tsv\",\n",
    "    \"wiki_info\": \"wikidata_infobox.tsv\",\n",
    "    \"p31\": \"P31.tsv\",\n",
    "    \"p279star\": \"P279star.tsv\"\n",
    "}\n",
    "\n",
    "# We will define environment variables to hold the full paths to the files as we will use them in the shell commands\n",
    "kgtk_environment_variables = []\n",
    "\n",
    "os.environ['DATABASE'] = data_path\n",
    "kgtk_environment_variables.append('DATABASE')\n",
    "\n",
    "for key, value in data_file_names.items():\n",
    "    variable = key.upper()\n",
    "    os.environ[variable] = data_path + value\n",
    "    kgtk_environment_variables.append(variable)\n",
    "\n",
    "output_file_names = {\n",
    "    \"results\": \"movie_with_revenue.tsv\",\n",
    "    \"new_results\": \"new_movie_with_revenue.tsv\",\n",
    "    \"movie\": \"movie.tsv\",\n",
    "    \"query_file\": \"movie_wo_revenue.tsv\",\n",
    "    \"numbers\": \"numbers.tsv\",\n",
    "    \"strings\": \"strings.tsv\",\n",
    "    \"empty_strings\": \"empty_strings.tsv\",\n",
    "    \"pure_empty\": \"pure_empty.tsv\",\n",
    "    \"non_empty\": \"non_empty_strings.tsv\",\n",
    "    \"structured_literals\": \"structured_literals.tsv\",\n",
    "    \"nodes\": \"nodes.tsv\",\n",
    "    \"qnodes\": \"qnodes.tsv\"\n",
    "}\n",
    "\n",
    "os.environ['OUTPUT'] = output_path\n",
    "kgtk_environment_variables.append('OUTPUT')\n",
    "\n",
    "for key, value in output_file_names.items():\n",
    "    variable = key.upper()\n",
    "    os.environ[variable] = output_path + value\n",
    "    kgtk_environment_variables.append(variable)\n",
    "    \n",
    "# kgtk_environment_variables.sort()\n",
    "for variable in kgtk_environment_variables:\n",
    "    print(\"{}: \\\"{}\\\"\".format(variable, os.environ[variable]))"
   ]
  },
  {
   "cell_type": "markdown",
   "id": "6251ebdb",
   "metadata": {},
   "source": [
    "### Main `kgtk` query:"
   ]
  },
  {
   "cell_type": "code",
   "execution_count": 1,
   "id": "e86ebce7",
   "metadata": {},
   "outputs": [],
   "source": [
    "# SPARQL query: \n",
    "# SELECT DISTINCT ?movieLabel ?cost \n",
    "# WHERE \n",
    "# { \n",
    "#   ?movie wdt:P31 wd:Q11424 ; \n",
    "#          wdt:P577 ?publicationDate ; \n",
    "#          wdt:P2130 ?cost . \n",
    "#   FILTER(YEAR(?publicationDate) = 2020) . \n",
    "#   SERVICE wikibase:label { bd:serviceParam wikibase:language \"en\". } \n",
    "# } \n",
    "# where `P2130` is \"cost\" and `P2142` is \"box office\";"
   ]
  },
  {
   "cell_type": "code",
   "execution_count": 11,
   "id": "fd6ee6d2",
   "metadata": {
    "scrolled": true
   },
   "outputs": [],
   "source": [
    "!kgtk query -i $CLAIMS -i $P31 -i $P279STAR \\\n",
    "            --match 'P31: (movie)-[]->(class), P279star: (class)-[]->(:Q11424), claims: (movie)-[:P2130]->(cost)' \\\n",
    "            --return 'distinct movie as node1, \"P2130\" as label, kgtk_quantity_number_int(cost) as node2' \\\n",
    "            -o $RESULTS"
   ]
  },
  {
   "cell_type": "code",
   "execution_count": 12,
   "id": "6a37cfd3",
   "metadata": {},
   "outputs": [
    {
     "name": "stdout",
     "output_type": "stream",
     "text": [
      "node1      label  node2\r\n",
      "Q1002251   P2130  4000000\r\n",
      "Q1003845   P2130  31000000\r\n",
      "Q102225    P2130  150000000\r\n",
      "Q102235    P2130  150000000\r\n",
      "Q102244    P2130  100000000\r\n",
      "Q102438    P2130  125000000\r\n",
      "Q102448    P2130  130000000\r\n",
      "Q1027247   P2130  14000000\r\n",
      "Q10298666  P2130  145000000\r\n"
     ]
    }
   ],
   "source": [
    "!head $RESULTS | column -ts $'\\t'"
   ]
  },
  {
   "cell_type": "markdown",
   "id": "2042dc70",
   "metadata": {},
   "source": [
    "### Count known results in Wikidata database:"
   ]
  },
  {
   "cell_type": "markdown",
   "id": "2121edfe",
   "metadata": {},
   "source": [
    "Count movie-revenue pairs / **rows** (result should -1 which is the header):"
   ]
  },
  {
   "cell_type": "code",
   "execution_count": 13,
   "id": "e9ba7ef9",
   "metadata": {},
   "outputs": [
    {
     "name": "stdout",
     "output_type": "stream",
     "text": [
      "3337 /nas/home/bohuizha/KG/hunger-for-knowledge/output/movie_with_revenue.tsv\r\n"
     ]
    }
   ],
   "source": [
    "!wc -l $RESULTS"
   ]
  },
  {
   "cell_type": "markdown",
   "id": "3fd3bb9c",
   "metadata": {},
   "source": [
    "Count how many **unique movies** have spouse in Wikidata:"
   ]
  },
  {
   "cell_type": "code",
   "execution_count": 14,
   "id": "fb81e8c7",
   "metadata": {},
   "outputs": [
    {
     "name": "stdout",
     "output_type": "stream",
     "text": [
      "N\r\n",
      "3330\r\n"
     ]
    }
   ],
   "source": [
    "!kgtk query -i $RESULTS \\\n",
    "            --match '(p)-[]->()' \\\n",
    "            --return 'count(distinct p) as N'"
   ]
  },
  {
   "cell_type": "markdown",
   "id": "d1cf2970",
   "metadata": {},
   "source": [
    "Duplicates:"
   ]
  },
  {
   "cell_type": "code",
   "execution_count": 16,
   "id": "e4f10626",
   "metadata": {},
   "outputs": [
    {
     "name": "stdout",
     "output_type": "stream",
     "text": [
      "node1\tN\r\n",
      "Q6074\t2\r\n",
      "Q316555\t2\r\n",
      "Q255342\t2\r\n",
      "Q20926273\t2\r\n",
      "Q16795448\t2\r\n",
      "Q134430\t2\r\n",
      "Q998377\t1\r\n",
      "Q994209\t1\r\n",
      "Q990840\t1\r\n",
      "Q97930682\t1\r\n"
     ]
    }
   ],
   "source": [
    "!kgtk query -i $RESULTS \\\n",
    "            --match '(p)-[]->(s)' \\\n",
    "            --return 'p, count(s) as N' \\\n",
    "            --order-by 'N desc' \\\n",
    "            --limit 10"
   ]
  },
  {
   "cell_type": "markdown",
   "id": "44d9b6ac",
   "metadata": {},
   "source": [
    "### Find unknow results in Wikidata database:"
   ]
  },
  {
   "cell_type": "markdown",
   "id": "20da34e8",
   "metadata": {},
   "source": [
    "- Find all movies (already completed)"
   ]
  },
  {
   "cell_type": "code",
   "execution_count": 5,
   "id": "90f07bfa",
   "metadata": {},
   "outputs": [
    {
     "name": "stdout",
     "output_type": "stream",
     "text": [
      "255070\r\n"
     ]
    }
   ],
   "source": [
    "# !kgtk query -i $CLAIMS \\\n",
    "#             --match 'c: (movie)-[:P31]->(:Q11424)' \\\n",
    "#             --return 'movie as node1, \"P31\" as lael, \"Q11424\" as node2' \\\n",
    "#             -o $MOVIE\n",
    "\n",
    "# !wc -l < $MOVIE"
   ]
  },
  {
   "cell_type": "code",
   "execution_count": 16,
   "id": "3c850c3b",
   "metadata": {},
   "outputs": [
    {
     "name": "stdout",
     "output_type": "stream",
     "text": [
      "306195\r\n"
     ]
    }
   ],
   "source": [
    "!kgtk query -i $P31 -i $P279STAR \\\n",
    "            --match 'P31: (movie)-[]->(class), P279star: (class)-[]->(:Q11424)' \\\n",
    "            --return 'movie as node1, \"P31\" as label, \"Q11424\" as node2' \\\n",
    "            -o $MOVIE\n",
    "\n",
    "!wc -l < $MOVIE"
   ]
  },
  {
   "cell_type": "markdown",
   "id": "cb5fcdbf",
   "metadata": {},
   "source": [
    "- Eliminate movies which have revenue"
   ]
  },
  {
   "cell_type": "code",
   "execution_count": 17,
   "id": "80feafd2",
   "metadata": {},
   "outputs": [
    {
     "name": "stdout",
     "output_type": "stream",
     "text": [
      "302669\r\n"
     ]
    }
   ],
   "source": [
    "!kgtk ifnotexists -i $MOVIE \\\n",
    "                  --filter-on $RESULTS \\\n",
    "                  --input-keys node1 \\\n",
    "                  --filter-keys node1 \\\n",
    "                  -o $QUERY_FILE\n",
    "\n",
    "!wc -l < $QUERY_FILE"
   ]
  },
  {
   "cell_type": "markdown",
   "id": "980f4545",
   "metadata": {},
   "source": [
    "### Count unknown results in Wikidata database:"
   ]
  },
  {
   "cell_type": "code",
   "execution_count": 20,
   "id": "e3ec515b",
   "metadata": {},
   "outputs": [
    {
     "name": "stdout",
     "output_type": "stream",
     "text": [
      "N\r\n",
      "300208\r\n"
     ]
    }
   ],
   "source": [
    "!kgtk query -i $QUERY_FILE \\\n",
    "            --match '(p)-[]->()' \\\n",
    "            --return 'count(distinct p) as N'"
   ]
  },
  {
   "cell_type": "markdown",
   "id": "f6b323a1",
   "metadata": {},
   "source": [
    "# Step 2 Infer properties"
   ]
  },
  {
   "cell_type": "markdown",
   "id": "0fe72819",
   "metadata": {},
   "source": [
    "Use query results from Wikidata database to infer properties in Wikidata infobox and return the most frequent property."
   ]
  },
  {
   "cell_type": "code",
   "execution_count": 3,
   "id": "23ed59d9",
   "metadata": {},
   "outputs": [
    {
     "name": "stdout",
     "output_type": "stream",
     "text": [
      "label\tN\r\n",
      "property:budget\t17\r\n"
     ]
    }
   ],
   "source": [
    "!kgtk query -i $RESULTS -i $WIKI_INFO \\\n",
    "            --match 'm: (movie)-[]->(cost), w: (movie)-[p]->(v)' \\\n",
    "            --where 'kgtk_quantity_number_int(cost) = kgtk_quantity_number_int(v)' \\\n",
    "            --return 'p.label, count(v) as N' \\\n",
    "            --order-by 'N desc' \\\n",
    "            --limit 1"
   ]
  },
  {
   "cell_type": "code",
   "execution_count": 4,
   "id": "5e42bc39",
   "metadata": {},
   "outputs": [
    {
     "name": "stdout",
     "output_type": "stream",
     "text": [
      "label\tN\r\n",
      "property:budget\t1049\r\n"
     ]
    }
   ],
   "source": [
    "!kgtk query -i $RESULTS -i $WIKI_INFO \\\n",
    "            --match 'm: (movie)-[]->(cost), w: (movie)-[p]->(s)-[sv]->(v)' \\\n",
    "            --where 'sv.label = \"dbpedia:structured_value\" AND kgtk_quantity_number_int(cost) = kgtk_quantity_number_int(kgtk_unstringify(v))' \\\n",
    "            --return 'p.label, count(v) as N' \\\n",
    "            --order-by 'N desc' \\\n",
    "            --limit 1"
   ]
  },
  {
   "cell_type": "markdown",
   "id": "2f1dc309",
   "metadata": {},
   "source": [
    "Try to combine the above two inference:"
   ]
  },
  {
   "cell_type": "code",
   "execution_count": 14,
   "id": "361074eb",
   "metadata": {},
   "outputs": [
    {
     "name": "stdout",
     "output_type": "stream",
     "text": [
      "label\tN\r\n",
      "property:budget\t1049\r\n"
     ]
    }
   ],
   "source": [
    "!kgtk query -i $RESULTS -i $WIKI_INFO --force \\\n",
    "            --match 'm: (movie)-[]->(cost), w: (movie)-[p]->(s)-[sv]->(v)' \\\n",
    "            --where '(kgtk_quantity_number_int(cost) = kgtk_quantity_number_int(kgtk_unstringify(s))) OR (sv.label = \"dbpedia:structured_value\" AND kgtk_quantity_number_int(cost) = kgtk_quantity_number_int(kgtk_unstringify(v)))' \\\n",
    "            --return 'p.label, count(movie) as N' \\\n",
    "            --order-by 'N desc' \\\n",
    "            --limit 1"
   ]
  },
  {
   "cell_type": "code",
   "execution_count": 15,
   "id": "d555dbe2",
   "metadata": {},
   "outputs": [
    {
     "name": "stdout",
     "output_type": "stream",
     "text": [
      "'id'\r\n",
      "\r\n"
     ]
    }
   ],
   "source": [
    "!kgtk query -i $RESULTS -i $WIKI_INFO --force \\\n",
    "            --match 'm: (movie)-[]->(cost), w: (movie1)-[p]->(v1), w: (movie2)-[p]->(s)-[sv]->(v2)' \\\n",
    "            --where 'kgtk_quantity_number_int(cost) = kgtk_quantity_number_int(kgtk_unstringify(v1)) OR (sv.label = \"dbpedia:structured_value\" AND kgtk_quantity_number_int(cost) = kgtk_quantity_number_int(kgtk_unstringify(v2)))' \\\n",
    "            --return 'p.label, count(v1) + count(v2) as N' \\\n",
    "            --order-by 'N desc' \\\n",
    "            --limit 1"
   ]
  },
  {
   "cell_type": "markdown",
   "id": "c337f051",
   "metadata": {},
   "source": [
    "# Step 3 Run query in Wikidata infobox "
   ]
  },
  {
   "cell_type": "markdown",
   "id": "72cd567d",
   "metadata": {},
   "source": [
    "For those don't have revenue, query in Wikidata infobox:"
   ]
  },
  {
   "cell_type": "code",
   "execution_count": 18,
   "id": "858a9a91",
   "metadata": {},
   "outputs": [],
   "source": [
    "!kgtk query -i $QUERY_FILE -i $WIKI_INFO \\\n",
    "            --match 'm: (movie)-[]->(), w: (movie)-[p]->(revenue)' \\\n",
    "            --where 'p.label = \"property:budget\"' \\\n",
    "            --return 'distinct movie, p.label, revenue' \\\n",
    "            -o $NEW_RESULTS"
   ]
  },
  {
   "cell_type": "markdown",
   "id": "7cccefe0",
   "metadata": {},
   "source": [
    "- Count rows of new findings:"
   ]
  },
  {
   "cell_type": "code",
   "execution_count": 19,
   "id": "1dfc3a34",
   "metadata": {},
   "outputs": [
    {
     "name": "stdout",
     "output_type": "stream",
     "text": [
      "19702\r\n"
     ]
    }
   ],
   "source": [
    "!wc -l < $NEW_RESULTS"
   ]
  },
  {
   "cell_type": "markdown",
   "id": "e6db8cc9",
   "metadata": {},
   "source": [
    "- Count unique movies of new findings:"
   ]
  },
  {
   "cell_type": "code",
   "execution_count": 20,
   "id": "b0222456",
   "metadata": {},
   "outputs": [
    {
     "name": "stdout",
     "output_type": "stream",
     "text": [
      "N\r\n",
      "18336\r\n"
     ]
    }
   ],
   "source": [
    "!kgtk query -i $NEW_RESULTS \\\n",
    "            --match 'n: (p)-[]->()' \\\n",
    "            --return 'count(distinct p) as N'"
   ]
  },
  {
   "cell_type": "markdown",
   "id": "9efae737",
   "metadata": {},
   "source": [
    "# Step 4 Datatype distribution of new findings"
   ]
  },
  {
   "cell_type": "markdown",
   "id": "8878f12a",
   "metadata": {},
   "source": [
    "Collect lines' number and distinct entities' number:"
   ]
  },
  {
   "cell_type": "code",
   "execution_count": 5,
   "id": "262bb36e",
   "metadata": {},
   "outputs": [],
   "source": [
    "lines = [\"Lines\"]\n",
    "entities = [\"Entities\"]"
   ]
  },
  {
   "cell_type": "markdown",
   "id": "6fcc123a",
   "metadata": {},
   "source": [
    "### 1. Numbers:"
   ]
  },
  {
   "cell_type": "markdown",
   "id": "22f4c922",
   "metadata": {},
   "source": [
    "- Rows:"
   ]
  },
  {
   "cell_type": "code",
   "execution_count": 6,
   "id": "1c72020c",
   "metadata": {},
   "outputs": [],
   "source": [
    "!kgtk query -i $NEW_RESULTS \\\n",
    "            --match 'n: (p)-[]->(s)' \\\n",
    "            --where 'kgtk_number(s)' \\\n",
    "            -o $NUMBERS\n",
    "\n",
    "numbers_line = !wc -l < $NUMBERS\n",
    "numbers_line = int(numbers_line[0]) - 1\n",
    "lines.append(numbers_line)\n",
    "# numbers_line"
   ]
  },
  {
   "cell_type": "markdown",
   "id": "22127864",
   "metadata": {},
   "source": [
    "- Unique entities:"
   ]
  },
  {
   "cell_type": "code",
   "execution_count": 7,
   "id": "79334cac",
   "metadata": {},
   "outputs": [],
   "source": [
    "numbers_distinct = !kgtk query -i $NUMBERS \\\n",
    "    --match '(p)-[]->()' \\\n",
    "    --return 'count(distinct p) as N'\n",
    "\n",
    "numbers_distinct = int(numbers_distinct[1])\n",
    "entities.append(numbers_distinct)\n",
    "# numbers_distinct"
   ]
  },
  {
   "cell_type": "markdown",
   "id": "fbc0365d",
   "metadata": {},
   "source": [
    "- Check if the data type is useful:"
   ]
  },
  {
   "cell_type": "code",
   "execution_count": 8,
   "id": "4a0ee337",
   "metadata": {},
   "outputs": [
    {
     "name": "stdout",
     "output_type": "stream",
     "text": [
      "node1      label            node2\r\n",
      "Q1015942   property:budget  25000\r\n",
      "Q1033304   property:budget  7.2\r\n",
      "Q1043614   property:budget  120000000\r\n",
      "Q1050105   property:budget  280000000\r\n",
      "Q10551717  property:budget  342\r\n",
      "Q1060164   property:budget  40000000\r\n",
      "Q106819    property:budget  180000000\r\n",
      "Q10716445  property:budget  300\r\n",
      "Q10863988  property:budget  300000000\r\n"
     ]
    }
   ],
   "source": [
    "!head $NUMBERS | column -ts $'\\t'"
   ]
  },
  {
   "cell_type": "markdown",
   "id": "6050c150",
   "metadata": {},
   "source": [
    "- Duplicates (movies that have multiple numbers):"
   ]
  },
  {
   "cell_type": "code",
   "execution_count": null,
   "id": "ca27b378",
   "metadata": {},
   "outputs": [],
   "source": [
    "!kgtk query -i $NUMBERS \\\n",
    "            --match '(p)-[]->(s)' \\\n",
    "            --return 'p, count(s) as N' \\\n",
    "            --order-by 'N desc'"
   ]
  },
  {
   "cell_type": "markdown",
   "id": "0f53ae0b",
   "metadata": {},
   "source": [
    "### 2. Structured literals:"
   ]
  },
  {
   "cell_type": "markdown",
   "id": "24e7ce55",
   "metadata": {},
   "source": [
    "- Rows:"
   ]
  },
  {
   "cell_type": "code",
   "execution_count": 9,
   "id": "492be002",
   "metadata": {},
   "outputs": [],
   "source": [
    "!kgtk query -i $NEW_RESULTS -i $WIKI_INFO \\\n",
    "            --match 'n: (q)-[p]->(s), w: (s)-[sv]->(v)' \\\n",
    "            --where 'NOT kgtk_lqstring(s) AND NOT kgtk_number(s) AND sv.label = \"dbpedia:structured_value\"' \\\n",
    "            --return 'q, p.label, v' \\\n",
    "            -o $STRUCTURED_LITERALS\n",
    "\n",
    "structured_literals_line = !wc -l < $STRUCTURED_LITERALS\n",
    "structured_literals_line = int(structured_literals_line[0]) - 1\n",
    "lines.append(structured_literals_line)\n",
    "# structured_literals_line"
   ]
  },
  {
   "cell_type": "markdown",
   "id": "88e74673",
   "metadata": {},
   "source": [
    "- Unique entities:"
   ]
  },
  {
   "cell_type": "code",
   "execution_count": 10,
   "id": "23145c23",
   "metadata": {},
   "outputs": [],
   "source": [
    "structured_literals_distinct = !kgtk query -i $STRUCTURED_LITERALS \\\n",
    "    --match '(p)-[]->()' \\\n",
    "    --return 'count(distinct p) as N'\n",
    "\n",
    "structured_literals_distinct = int(structured_literals_distinct[1])\n",
    "entities.append(structured_literals_distinct)\n",
    "# structured_literals_distinct"
   ]
  },
  {
   "cell_type": "markdown",
   "id": "8bda416e",
   "metadata": {},
   "source": [
    "- Check if the data type is useful:"
   ]
  },
  {
   "cell_type": "code",
   "execution_count": 11,
   "id": "33895a0f",
   "metadata": {},
   "outputs": [
    {
     "name": "stdout",
     "output_type": "stream",
     "text": [
      "node1     label            node2\r\n",
      "Q1000394  property:budget  \"361000.0\"\r\n",
      "Q1001943  property:budget  \"7100000.0\"\r\n",
      "Q1002100  property:budget  \"4.5E7\"\r\n",
      "Q1002142  property:budget  \"1500000.0\"\r\n",
      "Q1002480  property:budget  \"4500000.0\"\r\n",
      "Q1004392  property:budget  \"1.5E7\"\r\n",
      "Q1004440  property:budget  \"1.2E7\"\r\n",
      "Q1004531  property:budget  \"2.0E7\"\r\n",
      "Q1004567  property:budget  \"1.5E7\"\r\n"
     ]
    }
   ],
   "source": [
    "!head $STRUCTURED_LITERALS | column -ts $'\\t'"
   ]
  },
  {
   "cell_type": "markdown",
   "id": "392a4221",
   "metadata": {},
   "source": [
    "Useful, but need reformat!"
   ]
  },
  {
   "cell_type": "markdown",
   "id": "296a7e7c",
   "metadata": {},
   "source": [
    "- Duplicates:"
   ]
  },
  {
   "cell_type": "code",
   "execution_count": null,
   "id": "859e7486",
   "metadata": {},
   "outputs": [],
   "source": [
    "!kgtk query -i $STRUCTURED_LITERALS \\\n",
    "            --match '(p)-[]->(s)' \\\n",
    "            --return 'p, count(s) as N' \\\n",
    "            --order-by 'N desc'"
   ]
  },
  {
   "cell_type": "markdown",
   "id": "d87e525a",
   "metadata": {},
   "source": [
    "### 3. Strings:"
   ]
  },
  {
   "cell_type": "markdown",
   "id": "1c646484",
   "metadata": {},
   "source": [
    "#### Ver 1: filter the empty strings"
   ]
  },
  {
   "cell_type": "code",
   "execution_count": 12,
   "id": "7972efb1",
   "metadata": {},
   "outputs": [],
   "source": [
    "!kgtk query -i $NEW_RESULTS \\\n",
    "            --match 'n: (p)-[]->(s)' \\\n",
    "            --where 'kgtk_lqstring(s) AND kgtk_lqstring_text(s) != \"\"' \\\n",
    "            -o $STRINGS\n",
    "\n",
    "strings_line = !wc -l < $STRINGS\n",
    "strings_line = int(strings_line[0]) - 1\n",
    "lines.append(strings_line)\n",
    "# strings_line"
   ]
  },
  {
   "cell_type": "code",
   "execution_count": 13,
   "id": "d7b82a28",
   "metadata": {},
   "outputs": [],
   "source": [
    "strings_distinct = !kgtk query -i $STRINGS \\\n",
    "    --match '(p)-[]->()' \\\n",
    "    --return 'count(distinct p) as N'\n",
    "\n",
    "strings_distinct = int(strings_distinct[1])\n",
    "entities.append(strings_distinct)\n",
    "# strings_distinct"
   ]
  },
  {
   "cell_type": "markdown",
   "id": "05aea980",
   "metadata": {},
   "source": [
    "- Check if the data type is useful:"
   ]
  },
  {
   "cell_type": "code",
   "execution_count": 14,
   "id": "326cecc3",
   "metadata": {},
   "outputs": [
    {
     "name": "stdout",
     "output_type": "stream",
     "text": [
      "node1      label            node2\r\n",
      "Q1004410   property:budget  'App. $3,500,000'@en\r\n",
      "Q1008801   property:budget  'INR 26 Crore'@en\r\n",
      "Q10264518  property:budget  'R$ 6 million'@en\r\n",
      "Q10277912  property:budget  'R$4 million'@en\r\n",
      "Q10287994  property:budget  'R$10 million'@en\r\n",
      "Q10294054  property:budget  '$300,000 USD'@en\r\n",
      "Q10296231  property:budget  'CAD$2,000,000'@en\r\n",
      "Q10327416  property:budget  'R$6 million'@en\r\n",
      "Q10328595  property:budget  'R$4.5–5 million'@en\r\n"
     ]
    }
   ],
   "source": [
    "!head $STRINGS | column -ts $'\\t'"
   ]
  },
  {
   "cell_type": "markdown",
   "id": "b3bc3421",
   "metadata": {},
   "source": [
    "Useful, but need more cleaning!"
   ]
  },
  {
   "cell_type": "markdown",
   "id": "0a9de3ce",
   "metadata": {},
   "source": [
    "#### Ver 2: query all and analyze"
   ]
  },
  {
   "cell_type": "markdown",
   "id": "d1cae22a",
   "metadata": {},
   "source": [
    "- Rows:"
   ]
  },
  {
   "cell_type": "code",
   "execution_count": 26,
   "id": "2c758a34",
   "metadata": {},
   "outputs": [
    {
     "name": "stdout",
     "output_type": "stream",
     "text": [
      "4041\r\n"
     ]
    }
   ],
   "source": [
    "!kgtk query -i $NEW_RESULTS \\\n",
    "            --match 'n: (p)-[]->(s)' \\\n",
    "            --where 'kgtk_lqstring(s)' \\\n",
    "            -o $STRINGS\n",
    "\n",
    "!wc -l < $STRINGS"
   ]
  },
  {
   "cell_type": "markdown",
   "id": "5231fb8c",
   "metadata": {},
   "source": [
    "- Unique movies:"
   ]
  },
  {
   "cell_type": "code",
   "execution_count": 27,
   "id": "f2dae079",
   "metadata": {},
   "outputs": [
    {
     "name": "stdout",
     "output_type": "stream",
     "text": [
      "N\r\n",
      "3823\r\n"
     ]
    }
   ],
   "source": [
    "!kgtk query -i $STRINGS \\\n",
    "            --match '(p)-[]->()' \\\n",
    "            --return 'count(distinct p) as N'"
   ]
  },
  {
   "cell_type": "markdown",
   "id": "0484b83e",
   "metadata": {},
   "source": [
    "- Duplicates:"
   ]
  },
  {
   "cell_type": "code",
   "execution_count": null,
   "id": "bf20c418",
   "metadata": {},
   "outputs": [],
   "source": [
    "!kgtk query -i $STRINGS \\\n",
    "            --match '(p)-[]->(s)' \\\n",
    "            --return 'p, count(s) as N' \\\n",
    "            --order-by 'N desc'"
   ]
  },
  {
   "cell_type": "markdown",
   "id": "1540d551",
   "metadata": {},
   "source": [
    "#### Empty:"
   ]
  },
  {
   "cell_type": "markdown",
   "id": "bcac99d2",
   "metadata": {},
   "source": [
    "- Rows:"
   ]
  },
  {
   "cell_type": "code",
   "execution_count": 29,
   "id": "6c303dc9",
   "metadata": {},
   "outputs": [
    {
     "name": "stdout",
     "output_type": "stream",
     "text": [
      "440\r\n"
     ]
    }
   ],
   "source": [
    "!kgtk query -i $NEW_RESULTS \\\n",
    "            --match 'n: (p)-[]->(s)' \\\n",
    "            --where 'kgtk_lqstring_text(s) = \"\"' \\\n",
    "            -o $EMPTY_STRINGS\n",
    "\n",
    "!wc -l < $EMPTY_STRINGS"
   ]
  },
  {
   "cell_type": "markdown",
   "id": "79a36412",
   "metadata": {},
   "source": [
    "- Unique movies:"
   ]
  },
  {
   "cell_type": "code",
   "execution_count": 30,
   "id": "417d4c06",
   "metadata": {},
   "outputs": [
    {
     "name": "stdout",
     "output_type": "stream",
     "text": [
      "N\r\n",
      "439\r\n"
     ]
    }
   ],
   "source": [
    "!kgtk query -i $EMPTY_STRINGS \\\n",
    "            --match 'n: (p)-[]->()' \\\n",
    "            --return 'count(distinct p) as N'"
   ]
  },
  {
   "cell_type": "markdown",
   "id": "da0420fd",
   "metadata": {},
   "source": [
    "#### Further check empty strings:"
   ]
  },
  {
   "cell_type": "markdown",
   "id": "e784e2be",
   "metadata": {},
   "source": [
    "First we filter out all non-empty strings:"
   ]
  },
  {
   "cell_type": "code",
   "execution_count": 31,
   "id": "de81bdf5",
   "metadata": {},
   "outputs": [],
   "source": [
    "!kgtk query -i $NEW_RESULTS \\\n",
    "            --match 'n: (p)-[]->(s)' \\\n",
    "            --where 'NOT kgtk_lqstring(s) OR kgtk_lqstring_text(s) != \"\"' \\\n",
    "            -o $NON_EMPTY"
   ]
  },
  {
   "cell_type": "markdown",
   "id": "2ab07372",
   "metadata": {},
   "source": [
    "Then we filter those in empty but also have spouse in non-empty ones, then we can count how many \"pure\" empty:"
   ]
  },
  {
   "cell_type": "code",
   "execution_count": 32,
   "id": "c9b02572",
   "metadata": {},
   "outputs": [
    {
     "name": "stdout",
     "output_type": "stream",
     "text": [
      "14\r\n"
     ]
    }
   ],
   "source": [
    "!kgtk ifnotexists -i $EMPTY_STRINGS \\\n",
    "                  --filter-on $NON_EMPTY \\\n",
    "                  --input-keys node1 \\\n",
    "                  --filter-keys node1 \\\n",
    "                  -o $PURE_EMPTY \n",
    "\n",
    "!wc -l < $PURE_EMPTY "
   ]
  },
  {
   "cell_type": "code",
   "execution_count": 33,
   "id": "1def8bd4",
   "metadata": {},
   "outputs": [
    {
     "name": "stdout",
     "output_type": "stream",
     "text": [
      "N\r\n",
      "13\r\n"
     ]
    }
   ],
   "source": [
    "!kgtk query -i $PURE_EMPTY  \\\n",
    "            --match 'p: (q)-[]->()' \\\n",
    "            --return 'count(distinct q) as N'"
   ]
  },
  {
   "cell_type": "markdown",
   "id": "f99068ad",
   "metadata": {},
   "source": [
    "Check one of them by hand:"
   ]
  },
  {
   "cell_type": "code",
   "execution_count": 34,
   "id": "1e5ee13c",
   "metadata": {},
   "outputs": [
    {
     "name": "stdout",
     "output_type": "stream",
     "text": [
      "node1      label            node2\r\n",
      "Q155653    property:budget  ''@en\r\n",
      "Q16242907  property:budget  ''@en\r\n",
      "Q186572    property:budget  ''@en\r\n",
      "Q24807309  property:budget  ''@en\r\n",
      "Q255328    property:budget  ''@en\r\n",
      "Q26252639  property:budget  ''@en\r\n",
      "Q27954163  property:budget  ''@en\r\n",
      "Q27959196  property:budget  ''@en\r\n",
      "Q28698824  property:budget  ''@en\r\n"
     ]
    }
   ],
   "source": [
    "!head $PURE_EMPTY | column -ts $'\\t'"
   ]
  },
  {
   "cell_type": "code",
   "execution_count": 35,
   "id": "65da179e",
   "metadata": {},
   "outputs": [
    {
     "name": "stdout",
     "output_type": "stream",
     "text": [
      "node1\tlabel\tnode2\r\n",
      "Q16242907\tproperty:budget\t''@en\r\n"
     ]
    }
   ],
   "source": [
    "!kgtk query -i $NEW_RESULTS \\\n",
    "            --match '(q:Q16242907)-[p]->(v)' \\\n",
    "            --return 'q, p.label, v'"
   ]
  },
  {
   "cell_type": "markdown",
   "id": "3724b905",
   "metadata": {},
   "source": [
    "### 4. Qnodes"
   ]
  },
  {
   "cell_type": "markdown",
   "id": "d8324982",
   "metadata": {},
   "source": [
    "- Rows:"
   ]
  },
  {
   "cell_type": "code",
   "execution_count": 15,
   "id": "6e4b2ddd",
   "metadata": {},
   "outputs": [
    {
     "data": {
      "text/plain": [
       "11"
      ]
     },
     "execution_count": 15,
     "metadata": {},
     "output_type": "execute_result"
    }
   ],
   "source": [
    "!kgtk query -i $NEW_RESULTS \\\n",
    "            --match 'n:()-[]->(q)' \\\n",
    "            --where 'NOT kgtk_lqstring(q) AND NOT kgtk_number(q)' \\\n",
    "            -o $NODES\n",
    "\n",
    "!kgtk ifnotexists -i $NODES \\\n",
    "                  --filter-on $STRUCTURED_LITERALS \\\n",
    "                  --input-keys node1 \\\n",
    "                  --filter-keys node1 \\\n",
    "                  -o $QNODES\n",
    "\n",
    "qnodes_line = !wc -l < $QNODES\n",
    "qnodes_line = int(qnodes_line[0]) - 1\n",
    "lines.append(qnodes_line)\n",
    "# qnodes_line"
   ]
  },
  {
   "cell_type": "markdown",
   "id": "206bbd74",
   "metadata": {},
   "source": [
    "- Unique movies:"
   ]
  },
  {
   "cell_type": "code",
   "execution_count": 16,
   "id": "6c39ff00",
   "metadata": {},
   "outputs": [
    {
     "data": {
      "text/plain": [
       "11"
      ]
     },
     "execution_count": 16,
     "metadata": {},
     "output_type": "execute_result"
    }
   ],
   "source": [
    "qnodes_distinct = !kgtk query -i $QNODES \\\n",
    "    --match '(p)-[]->()' \\\n",
    "    --return 'count(distinct p) as N'\n",
    "\n",
    "qnodes_distinct = int(qnodes_distinct[1])\n",
    "entities.append(qnodes_distinct)\n",
    "# qnodes_distinct"
   ]
  },
  {
   "cell_type": "markdown",
   "id": "32604db2",
   "metadata": {},
   "source": [
    "- Check if the data type is useful:"
   ]
  },
  {
   "cell_type": "code",
   "execution_count": 17,
   "id": "5815c505",
   "metadata": {},
   "outputs": [
    {
     "name": "stdout",
     "output_type": "stream",
     "text": [
      "node1      label            node2\r\n",
      "Q10851237  property:budget  Q208526\r\n",
      "Q15637595  property:budget  Q1104069\r\n",
      "Q21065428  property:budget  Q208526\r\n",
      "Q2706071   property:budget  Q189097\r\n",
      "Q4155584   property:budget  Q158478\r\n",
      "Q4796595   property:budget  Q7346593\r\n",
      "Q48671706  property:budget  Q178843\r\n",
      "Q4927579   property:budget  Q17193\r\n",
      "Q5284662   property:budget  Q178843\r\n"
     ]
    }
   ],
   "source": [
    "!head $QNODES | column -ts $'\\t'"
   ]
  },
  {
   "cell_type": "markdown",
   "id": "b1d4cbc3",
   "metadata": {},
   "source": [
    "**Not** useful, mostly currecy, others are other film information items; "
   ]
  },
  {
   "cell_type": "markdown",
   "id": "ec78f375",
   "metadata": {},
   "source": [
    "- Duplicates:"
   ]
  },
  {
   "cell_type": "code",
   "execution_count": 19,
   "id": "4434bfcb",
   "metadata": {},
   "outputs": [
    {
     "name": "stdout",
     "output_type": "stream",
     "text": [
      "node1\tN\r\n",
      "Q10851237\t1\r\n",
      "Q15637595\t1\r\n",
      "Q21065428\t1\r\n",
      "Q2706071\t1\r\n",
      "Q4155584\t1\r\n",
      "Q4796595\t1\r\n",
      "Q48671706\t1\r\n",
      "Q4927579\t1\r\n",
      "Q5284662\t1\r\n",
      "Q7278388\t1\r\n",
      "Q7288987\t1\r\n"
     ]
    }
   ],
   "source": [
    "!kgtk query -i $QNODES \\\n",
    "            --match '(p)-[]->(s)' \\\n",
    "            --return 'p, count(s) as N'"
   ]
  },
  {
   "cell_type": "markdown",
   "id": "835d1044",
   "metadata": {},
   "source": [
    "### 5. Summary"
   ]
  },
  {
   "cell_type": "code",
   "execution_count": 20,
   "id": "4ef8196b",
   "metadata": {},
   "outputs": [],
   "source": [
    "from prettytable import PrettyTable"
   ]
  },
  {
   "cell_type": "code",
   "execution_count": 21,
   "id": "f18aeb1c",
   "metadata": {},
   "outputs": [
    {
     "name": "stdout",
     "output_type": "stream",
     "text": [
      "+-----------+---------+---------+---------------------+--------+\n",
      "| Data type | Numbers | Strings | Structured literals | Qnodes |\n",
      "+-----------+---------+---------+---------------------+--------+\n",
      "|   Lines   |   1517  |  14133  |         3601        |   11   |\n",
      "|  Entities |   1517  |  14109  |         3589        |   11   |\n",
      "+-----------+---------+---------+---------------------+--------+\n"
     ]
    }
   ],
   "source": [
    "x = PrettyTable()\n",
    "\n",
    "x.field_names = [\"Data type\", \"Numbers\", \"Strings\", \"Structured literals\", \"Qnodes\"]\n",
    "\n",
    "x.add_row(lines)\n",
    "x.add_row(entities)\n",
    "\n",
    "print(x)"
   ]
  },
  {
   "cell_type": "code",
   "execution_count": null,
   "id": "0f42141a",
   "metadata": {},
   "outputs": [],
   "source": []
  }
 ],
 "metadata": {
  "kernelspec": {
   "display_name": "Python 3",
   "language": "python",
   "name": "python3"
  },
  "language_info": {
   "codemirror_mode": {
    "name": "ipython",
    "version": 3
   },
   "file_extension": ".py",
   "mimetype": "text/x-python",
   "name": "python",
   "nbconvert_exporter": "python",
   "pygments_lexer": "ipython3",
   "version": "3.7.10"
  }
 },
 "nbformat": 4,
 "nbformat_minor": 5
}
