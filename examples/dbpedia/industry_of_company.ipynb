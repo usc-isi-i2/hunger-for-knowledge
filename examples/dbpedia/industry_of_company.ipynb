{
 "cells": [
  {
   "cell_type": "markdown",
   "id": "336cd912",
   "metadata": {},
   "source": [
    "# Step 0 Set up `kgtk`\n",
    "Check `kgtk` GitHub with branch `dev`;"
   ]
  },
  {
   "cell_type": "markdown",
   "id": "cross-eating",
   "metadata": {},
   "source": [
    "# Step 1 User Query"
   ]
  },
  {
   "cell_type": "markdown",
   "id": "fbbb6d61",
   "metadata": {},
   "source": [
    "Example description: find industry of companies;"
   ]
  },
  {
   "cell_type": "code",
   "execution_count": 61,
   "id": "574e29c0",
   "metadata": {},
   "outputs": [],
   "source": [
    "import os\n",
    "\n",
    "from kgtk.functions import kgtk"
   ]
  },
  {
   "cell_type": "markdown",
   "id": "b3686ae6",
   "metadata": {},
   "source": [
    "### Define alias and variables"
   ]
  },
  {
   "cell_type": "code",
   "execution_count": 62,
   "id": "04289761",
   "metadata": {},
   "outputs": [
    {
     "name": "stdout",
     "output_type": "stream",
     "text": [
      "DATABASE: \"/nas/home/bohuizha/KG/hunger-for-knowledge/data/\"\n",
      "CLAIMS: \"/nas/home/bohuizha/KG/hunger-for-knowledge/data/claims.tsv\"\n",
      "WIKI_INFO: \"/nas/home/bohuizha/KG/hunger-for-knowledge/data/wikidata_infobox.tsv\"\n",
      "P31: \"/nas/home/bohuizha/KG/hunger-for-knowledge/data/P31.tsv\"\n",
      "P279STAR: \"/nas/home/bohuizha/KG/hunger-for-knowledge/data/P279star.tsv\"\n",
      "LABELS: \"/nas/home/bohuizha/KG/hunger-for-knowledge/data/labels.en.tsv\"\n",
      "OUTPUT: \"/nas/home/bohuizha/KG/hunger-for-knowledge/output/P452/\"\n",
      "RESULTS: \"/nas/home/bohuizha/KG/hunger-for-knowledge/output/P452/industry_of_company.tsv\"\n",
      "NEW_RESULTS: \"/nas/home/bohuizha/KG/hunger-for-knowledge/output/P452/new_industry_of_company.tsv\"\n",
      "INFOBOX_RESULTS: \"/nas/home/bohuizha/KG/hunger-for-knowledge/output/P452/all_industry_of_company.tsv\"\n",
      "ENTITY: \"/nas/home/bohuizha/KG/hunger-for-knowledge/output/P452/company.tsv\"\n",
      "QUERY_FILE: \"/nas/home/bohuizha/KG/hunger-for-knowledge/output/P452/company_wo_industry.tsv\"\n",
      "DIRECT_INFER: \"/nas/home/bohuizha/KG/hunger-for-knowledge/output/P452/direct_infer.tsv\"\n",
      "INDIRECT_INFER: \"/nas/home/bohuizha/KG/hunger-for-knowledge/output/P452/indirect_infer.tsv\"\n",
      "INFERS: \"/nas/home/bohuizha/KG/hunger-for-knowledge/output/P452/infers.tsv\"\n",
      "NUMBERS: \"/nas/home/bohuizha/KG/hunger-for-knowledge/output/P452/numbers.tsv\"\n",
      "STRINGS: \"/nas/home/bohuizha/KG/hunger-for-knowledge/output/P452/strings.tsv\"\n",
      "EMPTY_STRINGS: \"/nas/home/bohuizha/KG/hunger-for-knowledge/output/P452/empty_strings.tsv\"\n",
      "PURE_EMPTY: \"/nas/home/bohuizha/KG/hunger-for-knowledge/output/P452/pure_empty.tsv\"\n",
      "NON_EMPTY: \"/nas/home/bohuizha/KG/hunger-for-knowledge/output/P452/non_empty_strings.tsv\"\n",
      "STRUCTURED_LITERALS: \"/nas/home/bohuizha/KG/hunger-for-knowledge/output/P452/structured_literals.tsv\"\n",
      "NODES: \"/nas/home/bohuizha/KG/hunger-for-knowledge/output/P452/nodes.tsv\"\n",
      "QNODES: \"/nas/home/bohuizha/KG/hunger-for-knowledge/output/P452/qnodes.tsv\"\n",
      "CORRECT_TEMP_1: \"/nas/home/bohuizha/KG/hunger-for-knowledge/output/P452/industry.type-constraints.instanceOf.correct_temp_1.tsv\"\n",
      "CORRECT_TEMP_2: \"/nas/home/bohuizha/KG/hunger-for-knowledge/output/P452/industry.type-constraints.instanceOf.correct_temp_2.tsv\"\n",
      "INCORRECT_TEMP: \"/nas/home/bohuizha/KG/hunger-for-knowledge/output/P452/industry.type-constraints.instanceOf.incorrect_temp.tsv\"\n",
      "QNODES_CORRECT: \"/nas/home/bohuizha/KG/hunger-for-knowledge/output/P452/industry.type-constraints.instanceOf.correct.tsv\"\n",
      "QNODES_INCORRECT: \"/nas/home/bohuizha/KG/hunger-for-knowledge/output/P452/industry.type-constraints.instanceOf.incorrect.tsv\"\n",
      "CORRECT: \"/nas/home/bohuizha/KG/hunger-for-knowledge/output/P452/correct.tsv\"\n",
      "INCORRECT: \"/nas/home/bohuizha/KG/hunger-for-knowledge/output/P452/incorrect.tsv\"\n",
      "STORE: \"/nas/home/bohuizha/KG/hunger-for-knowledge/kypher/wikidata.sqlite3.db\"\n",
      "kypher: \"kgtk query --graph-cache /nas/home/bohuizha/KG/hunger-for-knowledge/kypher/wikidata.sqlite3.db\"\n"
     ]
    }
   ],
   "source": [
    "# Parameters\n",
    "\n",
    "# Folder where database files store\n",
    "data_path = \"/nas/home/bohuizha/KG/hunger-for-knowledge/data/\"\n",
    "\n",
    "# Label file of Wikidata\n",
    "os.environ['KGTK_LABEL_FILE'] = data_path + \"labels.en.tsv\"\n",
    "kgtk_environment_variables.append('KGTK_LABEL_FILE')\n",
    "\n",
    "# Folder on local machine where to create the output and temporary folders\n",
    "output_path = \"/nas/home/bohuizha/KG/hunger-for-knowledge/output/P452/\"\n",
    "if not os.path.exists(output_path):\n",
    "    os.mkdir(output_path)\n",
    "\n",
    "# Location of the cache database for kypher\n",
    "cache_path = \"/nas/home/bohuizha/KG/hunger-for-knowledge/kypher\"\n",
    "# Whether to delete the cache database\n",
    "delete_database = False\n",
    "\n",
    "# The names of files in the KGTK Wikidata distirbution that we will use in this notebook.\n",
    "data_file_names = {\n",
    "    \"claims\": \"claims.tsv\",\n",
    "    \"wiki_info\": \"wikidata_infobox.tsv\",\n",
    "    \"p31\": \"P31.tsv\",\n",
    "    \"p279star\": \"P279star.tsv\",\n",
    "    \"labels\": \"labels.en.tsv\"\n",
    "}\n",
    "\n",
    "# We will define environment variables to hold the full paths to the files as we will use them in the shell commands\n",
    "kgtk_environment_variables = []\n",
    "\n",
    "os.environ['DATABASE'] = data_path\n",
    "kgtk_environment_variables.append('DATABASE')\n",
    "\n",
    "for key, value in data_file_names.items():\n",
    "    variable = key.upper()\n",
    "    os.environ[variable] = data_path + value\n",
    "    kgtk_environment_variables.append(variable)\n",
    "\n",
    "output_file_names = {\n",
    "    \"results\": \"industry_of_company.tsv\",\n",
    "    \"new_results\": \"new_industry_of_company.tsv\",\n",
    "    \"infobox_results\": \"all_industry_of_company.tsv\",\n",
    "    \"entity\": \"company.tsv\",\n",
    "    \"query_file\": \"company_wo_industry.tsv\",\n",
    "    \"direct_infer\": \"direct_infer.tsv\",\n",
    "    \"indirect_infer\": \"indirect_infer.tsv\",\n",
    "    \"infers\": \"infers.tsv\",\n",
    "    \"numbers\": \"numbers.tsv\",\n",
    "    \"strings\": \"strings.tsv\",\n",
    "    \"empty_strings\": \"empty_strings.tsv\",\n",
    "    \"pure_empty\": \"pure_empty.tsv\",\n",
    "    \"non_empty\": \"non_empty_strings.tsv\",\n",
    "    \"structured_literals\": \"structured_literals.tsv\",\n",
    "    \"nodes\": \"nodes.tsv\",\n",
    "    \"qnodes\": \"qnodes.tsv\",\n",
    "    \"correct_temp_1\": \"industry.type-constraints.instanceOf.correct_temp_1.tsv\",\n",
    "    \"correct_temp_2\": \"industry.type-constraints.instanceOf.correct_temp_2.tsv\",\n",
    "    \"incorrect_temp\": \"industry.type-constraints.instanceOf.incorrect_temp.tsv\",\n",
    "    \"qnodes_correct\": \"industry.type-constraints.instanceOf.correct.tsv\",\n",
    "    \"qnodes_incorrect\": \"industry.type-constraints.instanceOf.incorrect.tsv\",\n",
    "    \"correct\": \"correct.tsv\",\n",
    "    \"incorrect\": \"incorrect.tsv\"\n",
    "}\n",
    "\n",
    "os.environ['OUTPUT'] = output_path\n",
    "kgtk_environment_variables.append('OUTPUT')\n",
    "\n",
    "for key, value in output_file_names.items():\n",
    "    variable = key.upper()\n",
    "    os.environ[variable] = output_path + value\n",
    "    kgtk_environment_variables.append(variable)\n",
    "\n",
    "# KGTK creates a SQLite database to index the knowledge graph.\n",
    "if cache_path:\n",
    "    os.environ['STORE'] = \"{}/wikidata.sqlite3.db\".format(cache_path)\n",
    "else:\n",
    "    os.environ['STORE'] = \"{}/{}/wikidata.sqlite3.db\".format(output_path, temp_folder)\n",
    "kgtk_environment_variables.append('STORE')\n",
    "    \n",
    "# Envronment variables with shortcuts to the commands we use often\n",
    "# os.environ['kgtk'] = kgtk\n",
    "# Use for debugging, but careful as it causes import to dataframes to break\n",
    "# os.environ['kypher'] = \"time kgtk --debug query --graph-cache \" + os.environ['STORE']\n",
    "os.environ['kypher'] = \"kgtk query --graph-cache \" + os.environ['STORE']\n",
    "# kgtk_environment_variables.append('kgtk')\n",
    "kgtk_environment_variables.append('kypher')\n",
    "    \n",
    "# kgtk_environment_variables.sort()\n",
    "for variable in kgtk_environment_variables:\n",
    "    print(\"{}: \\\"{}\\\"\".format(variable, os.environ[variable]))"
   ]
  },
  {
   "cell_type": "markdown",
   "id": "956dabe5",
   "metadata": {},
   "source": [
    "# Step 2: Wikidata Results"
   ]
  },
  {
   "cell_type": "code",
   "execution_count": 3,
   "id": "0af05714",
   "metadata": {},
   "outputs": [],
   "source": [
    "# SPARQL query: \n",
    "# SELECT DISTINCT ?companyLabel ?industryLabel \n",
    "# WHERE\n",
    "# { \n",
    "#   ?company wdt:P31/wdt:P279*  wd:Q783794 ;\n",
    "#            wdt:P452  ?industry . \n",
    "#   SERVICE wikibase:label { bd:serviceParam wikibase:language \"en\". } \n",
    "# } \n",
    "# where `P106` means \"occupation\", `Q82955` means \"politician\", `P26` means \"spouse\";"
   ]
  },
  {
   "cell_type": "code",
   "execution_count": 4,
   "id": "5dbc7fd8",
   "metadata": {},
   "outputs": [
    {
     "name": "stdout",
     "output_type": "stream",
     "text": [
      "node1\tlabel\tnode2\r\n",
      "Q1718083\tP452\t'phonographic industry'@en\r\n",
      "Q23777331\tP452\t'media industry'@en\r\n",
      "Q11502827\tP452\t'public transport'@en\r\n",
      "Q11584534\tP452\t'public transport'@en\r\n",
      "Q11589421\tP452\t'public transport'@en\r\n",
      "Q11636491\tP452\t'public transport'@en\r\n",
      "Q11991861\tP452\t'public transport'@en\r\n",
      "Q1433158\tP452\t'public transport'@en\r\n",
      "Q16098651\tP452\t'intercity bus service'@en\r\n",
      "Q16927508\tP452\t'transport'@en\r\n"
     ]
    }
   ],
   "source": [
    "!kgtk query -i $CLAIMS -i $P31 -i $P279STAR -i $LABELS \\\n",
    "            --match 'P31: (company)-[]->(class), P279star: (class)-[]->(:Q783794), claims: (company)-[p:P452]->(industry), labels: (industry)-[]->(industry_label)' \\\n",
    "            --return 'company as node1, \"P452\" as label, industry_label as node2' \\\n",
    "            --limit 10"
   ]
  },
  {
   "cell_type": "code",
   "execution_count": 5,
   "id": "722fc75a",
   "metadata": {},
   "outputs": [],
   "source": [
    "!kgtk query -i $CLAIMS -i $P31 -i $P279STAR \\\n",
    "            --match 'P31: (company)-[]->(class), P279star: (class)-[]->(:Q783794), claims: (company)-[p:P452]->(industry)' \\\n",
    "            --return 'company as node1, \"P452\" as label, industry as node2' \\\n",
    "            -o $RESULTS"
   ]
  },
  {
   "cell_type": "markdown",
   "id": "9f5e372b",
   "metadata": {},
   "source": [
    "Check head of the results:"
   ]
  },
  {
   "cell_type": "code",
   "execution_count": 6,
   "id": "3352c157",
   "metadata": {},
   "outputs": [
    {
     "name": "stdout",
     "output_type": "stream",
     "text": [
      "node1      label  node2\r\n",
      "Q1718083   P452   Q10302058\r\n",
      "Q23777331  P452   Q56611639\r\n",
      "Q11502827  P452   Q178512\r\n",
      "Q11584534  P452   Q178512\r\n",
      "Q11589421  P452   Q178512\r\n",
      "Q11636491  P452   Q178512\r\n",
      "Q11991861  P452   Q178512\r\n",
      "Q1433158   P452   Q178512\r\n",
      "Q16098651  P452   Q493016\r\n"
     ]
    }
   ],
   "source": [
    "!head $RESULTS | column -ts $'\\t'"
   ]
  },
  {
   "cell_type": "markdown",
   "id": "e29052d7",
   "metadata": {},
   "source": [
    "Check if Wikidata results have strings:"
   ]
  },
  {
   "cell_type": "code",
   "execution_count": 7,
   "id": "18c418b0",
   "metadata": {},
   "outputs": [
    {
     "name": "stdout",
     "output_type": "stream",
     "text": [
      "node1\tlabel\tnode2\r\n"
     ]
    }
   ],
   "source": [
    "!kgtk query -i $RESULTS \\\n",
    "    --match '(q)-[p]->(v)' \\\n",
    "    --where 'kgtk_lqstring(v)' \\\n",
    "    --return 'q, p.label, v'"
   ]
  },
  {
   "cell_type": "markdown",
   "id": "af0a3ad4",
   "metadata": {},
   "source": [
    "### Count known results in Wikidata database:"
   ]
  },
  {
   "cell_type": "markdown",
   "id": "10814a7c",
   "metadata": {},
   "source": [
    "Count entity-value pairs / **rows** (result should -1 which is the header):"
   ]
  },
  {
   "cell_type": "code",
   "execution_count": 8,
   "id": "cefd481c",
   "metadata": {
    "scrolled": true
   },
   "outputs": [
    {
     "name": "stdout",
     "output_type": "stream",
     "text": [
      "19342 /nas/home/bohuizha/KG/hunger-for-knowledge/output/P452/industry_of_company.tsv\r\n"
     ]
    }
   ],
   "source": [
    "!wc -l $RESULTS"
   ]
  },
  {
   "cell_type": "markdown",
   "id": "b9bae014",
   "metadata": {},
   "source": [
    "Count how many **unique entities** have property in Wikidata:"
   ]
  },
  {
   "cell_type": "code",
   "execution_count": 9,
   "id": "8b899374",
   "metadata": {},
   "outputs": [
    {
     "name": "stdout",
     "output_type": "stream",
     "text": [
      "N\r\n",
      "16088\r\n"
     ]
    }
   ],
   "source": [
    "!kgtk query -i $RESULTS \\\n",
    "            --match '(p)-[]->()' \\\n",
    "            --return 'count(distinct p) as N'"
   ]
  },
  {
   "cell_type": "markdown",
   "id": "b22f3eaa",
   "metadata": {},
   "source": [
    "### Find unknow results in Wikidata database:\n",
    "- Find all entities"
   ]
  },
  {
   "cell_type": "code",
   "execution_count": 10,
   "id": "42864fd2",
   "metadata": {},
   "outputs": [],
   "source": [
    "!kgtk query -i $P31 -i $P279STAR \\\n",
    "            --match 'P31: (entity)-[]->(class), P279star: (class)-[]->(:Q783794)' \\\n",
    "            --return 'entity as node1, \"P31\" as label, \"Q783794\" as node2' \\\n",
    "            -o $ENTITY"
   ]
  },
  {
   "cell_type": "markdown",
   "id": "40dcc0bd",
   "metadata": {},
   "source": [
    "- Eliminate entities who have property / properties"
   ]
  },
  {
   "cell_type": "code",
   "execution_count": 11,
   "id": "bd71221f",
   "metadata": {},
   "outputs": [],
   "source": [
    "!kgtk ifnotexists -i $ENTITY \\\n",
    "                  --filter-on $RESULTS \\\n",
    "                  --input-keys node1 \\\n",
    "                  --filter-keys node1 \\\n",
    "                  -o $QUERY_FILE"
   ]
  },
  {
   "cell_type": "markdown",
   "id": "7628acfd",
   "metadata": {},
   "source": [
    "### Count unknown results in Wikidata database:"
   ]
  },
  {
   "cell_type": "code",
   "execution_count": 12,
   "id": "8f8d2bca",
   "metadata": {},
   "outputs": [
    {
     "name": "stdout",
     "output_type": "stream",
     "text": [
      "N\r\n",
      "265773\r\n"
     ]
    }
   ],
   "source": [
    "!kgtk query -i $QUERY_FILE \\\n",
    "            --match '(p)-[]->()' \\\n",
    "            --return 'count(distinct p) as N'"
   ]
  },
  {
   "cell_type": "markdown",
   "id": "juvenile-element",
   "metadata": {},
   "source": [
    "# Step 3 Selection of Additional KG(s)\n",
    "- DBpedia\n",
    "- Getty\n",
    "- Freebase\n",
    "- Company KGs"
   ]
  },
  {
   "cell_type": "markdown",
   "id": "7912bf6c",
   "metadata": {},
   "source": [
    "# Step 4 Schema Alignment\n",
    "## Entity resolution"
   ]
  },
  {
   "cell_type": "markdown",
   "id": "94ef1eac",
   "metadata": {},
   "source": [
    "Use query results from Wikidata database to infer properties in Wikidata infobox and return the most frequent property."
   ]
  },
  {
   "cell_type": "code",
   "execution_count": 13,
   "id": "forbidden-neighbor",
   "metadata": {},
   "outputs": [],
   "source": [
    "!kgtk query -i $RESULTS -i $WIKI_INFO \\\n",
    "            --match 'c: (entity)-[]->(v), w: (entity)-[p]->(v)' \\\n",
    "            --return 'entity, p.label, v as node2' \\\n",
    "            -o $DIRECT_INFER"
   ]
  },
  {
   "cell_type": "markdown",
   "id": "ea02d7c3",
   "metadata": {},
   "source": [
    "Infer from structured literals (since there is no string structured value in Wikidata infobox)."
   ]
  },
  {
   "cell_type": "code",
   "execution_count": 14,
   "id": "c38faf74",
   "metadata": {},
   "outputs": [],
   "source": [
    "!kgtk query -i $RESULTS -i $WIKI_INFO -i $LABELS \\\n",
    "            --match 'c: (entity)-[]->(v1), l: (v1)-[]->(v1_label), w: (entity)-[p]->(s)-[sv]->(v2)' \\\n",
    "            --where 'sv.label = \"dbpedia:structured_value\" AND kgtk_lqstring_text(v1_label) = kgtk_lqstring_text(v2)' \\\n",
    "            --return 'entity, p.label, v2 as node2' \\\n",
    "            -o $INDIRECT_INFER"
   ]
  },
  {
   "cell_type": "code",
   "execution_count": 15,
   "id": "cecb4451",
   "metadata": {},
   "outputs": [],
   "source": [
    "!kgtk cat -i $DIRECT_INFER $INDIRECT_INFER -o $INFERS"
   ]
  },
  {
   "cell_type": "markdown",
   "id": "feb532df",
   "metadata": {},
   "source": [
    "## Property mapping"
   ]
  },
  {
   "cell_type": "code",
   "execution_count": 16,
   "id": "a13c31ff",
   "metadata": {},
   "outputs": [
    {
     "name": "stdout",
     "output_type": "stream",
     "text": [
      "label\tN\r\n",
      "property:industry\t4608\r\n"
     ]
    }
   ],
   "source": [
    "!kgtk query -i $INFERS \\\n",
    "            --match '(q)-[p]->(v)' \\\n",
    "            --return 'p.label, count(v) as N' \\\n",
    "            --order-by 'N desc' \\\n",
    "            --limit 1"
   ]
  },
  {
   "cell_type": "markdown",
   "id": "distant-norway",
   "metadata": {},
   "source": [
    "# Step 5 Results from other KG(s)"
   ]
  },
  {
   "cell_type": "markdown",
   "id": "parliamentary-station",
   "metadata": {},
   "source": [
    "For those entities don't have property value, query in Wikidata infobox:"
   ]
  },
  {
   "cell_type": "code",
   "execution_count": 17,
   "id": "proved-extension",
   "metadata": {},
   "outputs": [],
   "source": [
    "!kgtk query -i $QUERY_FILE -i $WIKI_INFO \\\n",
    "            --match 'p: (entity)-[]->(), w: (entity)-[property]->(value)' \\\n",
    "            --where 'property.label = \"property:industry\"' \\\n",
    "            --return 'entity, property.label, value' \\\n",
    "            -o $NEW_RESULTS"
   ]
  },
  {
   "cell_type": "markdown",
   "id": "31fc5cec",
   "metadata": {},
   "source": [
    "- Count rows of new findings:"
   ]
  },
  {
   "cell_type": "code",
   "execution_count": 18,
   "id": "b8f80588",
   "metadata": {},
   "outputs": [
    {
     "data": {
      "text/plain": [
       "4257"
      ]
     },
     "execution_count": 18,
     "metadata": {},
     "output_type": "execute_result"
    }
   ],
   "source": [
    "new_results_line = !wc -l < $NEW_RESULTS\n",
    "new_results_line = int(new_results_line[0]) - 1\n",
    "new_results_line"
   ]
  },
  {
   "cell_type": "markdown",
   "id": "e6dcef7a",
   "metadata": {},
   "source": [
    "- Count unique politicians of new findings:"
   ]
  },
  {
   "cell_type": "code",
   "execution_count": 19,
   "id": "fbba6416",
   "metadata": {},
   "outputs": [
    {
     "data": {
      "text/plain": [
       "3493"
      ]
     },
     "execution_count": 19,
     "metadata": {},
     "output_type": "execute_result"
    }
   ],
   "source": [
    "new_results_distinct = !kgtk query \\\n",
    "    -i $NEW_RESULTS \\\n",
    "    --match 'n: (p)-[]->()' \\\n",
    "    --return 'count(distinct p) as N'\n",
    "new_results_distinct = int(new_results_distinct[1])\n",
    "new_results_distinct"
   ]
  },
  {
   "cell_type": "markdown",
   "id": "33547233",
   "metadata": {},
   "source": [
    "Agree:"
   ]
  },
  {
   "cell_type": "code",
   "execution_count": 20,
   "id": "697905f7",
   "metadata": {},
   "outputs": [],
   "source": [
    "!kgtk query -i $ENTITY $WIKI_INFO \\\n",
    "            --match 'c: (entity)-[]->(), w: (entity)-[property]->(value)' \\\n",
    "            --where 'property.label = \"property:industry\"' \\\n",
    "            --return 'entity, property.label, value' \\\n",
    "            -o $INFOBOX_RESULTS"
   ]
  },
  {
   "cell_type": "code",
   "execution_count": 21,
   "id": "c7180467",
   "metadata": {},
   "outputs": [
    {
     "name": "stdout",
     "output_type": "stream",
     "text": [
      "N\r\n",
      "4281\r\n"
     ]
    }
   ],
   "source": [
    "!kgtk query -i $INFOBOX_RESULTS $RESULTS \\\n",
    "    --match 'n: (q)-[]->(v), r: (q)-[]->(v)' \\\n",
    "    --return 'count(distinct q) as N'"
   ]
  },
  {
   "cell_type": "markdown",
   "id": "56b8c84c",
   "metadata": {},
   "source": [
    "# Step 6 Datatype Filtering"
   ]
  },
  {
   "cell_type": "markdown",
   "id": "96cf81e9",
   "metadata": {},
   "source": [
    "### 1. Numbers:"
   ]
  },
  {
   "cell_type": "code",
   "execution_count": 22,
   "id": "e44c94e6",
   "metadata": {},
   "outputs": [],
   "source": [
    "!kgtk query -i $NEW_RESULTS \\\n",
    "            --match 'n: (p)-[]->(s)' \\\n",
    "            --where 'kgtk_number(s)' \\\n",
    "            -o $NUMBERS"
   ]
  },
  {
   "cell_type": "code",
   "execution_count": 23,
   "id": "e253dde5",
   "metadata": {},
   "outputs": [
    {
     "name": "stdout",
     "output_type": "stream",
     "text": [
      "node1      label              node2\r\n",
      "Q25111888  property:industry  3\r\n",
      "Q5512171   property:industry  5\r\n"
     ]
    }
   ],
   "source": [
    "!head $NUMBERS | column -ts $'\\t'"
   ]
  },
  {
   "cell_type": "code",
   "execution_count": 24,
   "id": "d2921e01",
   "metadata": {},
   "outputs": [
    {
     "name": "stdout",
     "output_type": "stream",
     "text": [
      "N\r\n",
      "2\r\n"
     ]
    }
   ],
   "source": [
    "!kgtk query -i $NUMBERS \\\n",
    "    --match 'n: (p)-[]->()' \\\n",
    "    --return 'count(distinct p) as N'"
   ]
  },
  {
   "cell_type": "markdown",
   "id": "58f8f724",
   "metadata": {},
   "source": [
    "### 2. Strings:"
   ]
  },
  {
   "cell_type": "code",
   "execution_count": 25,
   "id": "08cf9a9e",
   "metadata": {},
   "outputs": [],
   "source": [
    "!kgtk query -i $NEW_RESULTS \\\n",
    "    --match 'n: (p)-[]->(s)' \\\n",
    "    --where 'kgtk_lqstring(s)' \\\n",
    "    -o $STRINGS"
   ]
  },
  {
   "cell_type": "code",
   "execution_count": 26,
   "id": "18c34d08",
   "metadata": {},
   "outputs": [
    {
     "name": "stdout",
     "output_type": "stream",
     "text": [
      "node1      label              node2\r\n",
      "Q1024012   property:industry  'Aerospace components'@en\r\n",
      "Q1024012   property:industry  'Telecommunications'@en\r\n",
      "Q10261135  property:industry  'Publishing house'@en\r\n",
      "Q10263702  property:industry  'Motorcycles and automobiles manufacturing and sales'@en\r\n",
      "Q10304618  property:industry  'Real estate and recurring income'@en\r\n",
      "Q10310717  property:industry  'Film'@en\r\n",
      "Q10342900  property:industry  'Automotive'@en\r\n",
      "Q10344803  property:industry  'Grupo PlayArte'@en\r\n",
      "Q1046186   property:industry  'Banking, Financial services'@en\r\n"
     ]
    }
   ],
   "source": [
    "!head $STRINGS | column -ts $'\\t'"
   ]
  },
  {
   "cell_type": "code",
   "execution_count": 60,
   "id": "2c205776",
   "metadata": {},
   "outputs": [
    {
     "name": "stdout",
     "output_type": "stream",
     "text": [
      "2390 /nas/home/bohuizha/KG/hunger-for-knowledge/output/P452/strings.tsv\r\n"
     ]
    }
   ],
   "source": [
    "!wc -l $STRINGS"
   ]
  },
  {
   "cell_type": "code",
   "execution_count": 27,
   "id": "1becb13a",
   "metadata": {},
   "outputs": [
    {
     "name": "stdout",
     "output_type": "stream",
     "text": [
      "N\r\n",
      "2105\r\n"
     ]
    }
   ],
   "source": [
    "!kgtk query -i $STRINGS \\\n",
    "    --match 'n: (p)-[]->()' \\\n",
    "    --return 'count(distinct p) as N'"
   ]
  },
  {
   "cell_type": "markdown",
   "id": "8422f099",
   "metadata": {},
   "source": [
    "### 1. Filter Structured literals:"
   ]
  },
  {
   "cell_type": "code",
   "execution_count": 28,
   "id": "8d05ad37",
   "metadata": {},
   "outputs": [],
   "source": [
    "!kgtk query -i $NEW_RESULTS -i $WIKI_INFO \\\n",
    "            --match 'n: (q)-[p]->(s), w: (s)-[sv]->(v)' \\\n",
    "            --where 'NOT kgtk_lqstring(s) AND NOT kgtk_number(s) AND sv.label = \"dbpedia:structured_value\"' \\\n",
    "            --return 'q, p.label, s' \\\n",
    "            -o $STRUCTURED_LITERALS"
   ]
  },
  {
   "cell_type": "code",
   "execution_count": 29,
   "id": "886173dd",
   "metadata": {},
   "outputs": [
    {
     "name": "stdout",
     "output_type": "stream",
     "text": [
      "node1      label              node2\r\n",
      "Q25348727  property:industry  nodemxZbyK2VRrGoaxfdLmyLxw-4089958\r\n"
     ]
    }
   ],
   "source": [
    "!head $STRUCTURED_LITERALS | column -ts $'\\t'"
   ]
  },
  {
   "cell_type": "markdown",
   "id": "8a7cce72",
   "metadata": {},
   "source": [
    "### 2. Filter Qnodes"
   ]
  },
  {
   "cell_type": "code",
   "execution_count": 30,
   "id": "0328daad",
   "metadata": {},
   "outputs": [],
   "source": [
    "!kgtk query -i $NEW_RESULTS \\\n",
    "            --match 'n: (q)-[p]->(v)' \\\n",
    "            --where 'NOT kgtk_lqstring(v) AND NOT kgtk_number(v)' \\\n",
    "            --return 'distinct q, p.label, v' \\\n",
    "            -o $NODES\n",
    "\n",
    "!kgtk ifnotexists -i $NODES \\\n",
    "                  --filter-on $STRUCTURED_LITERALS \\\n",
    "                  -o $QNODES"
   ]
  },
  {
   "cell_type": "markdown",
   "id": "baf1e6dc",
   "metadata": {},
   "source": [
    "- Check if the data type is useful:"
   ]
  },
  {
   "cell_type": "code",
   "execution_count": 31,
   "id": "43fbcdf2",
   "metadata": {},
   "outputs": [
    {
     "name": "stdout",
     "output_type": "stream",
     "text": [
      "node1      label              node2\r\n",
      "Q1023161   property:industry  Q269415\r\n",
      "Q1024380   property:industry  Q5501371\r\n",
      "Q1044059   property:industry  Q815825\r\n",
      "Q1044059   property:industry  Q49389\r\n",
      "Q1060363   property:industry  Q899383\r\n",
      "Q1060363   property:industry  Q831882\r\n",
      "Q1060363   property:industry  Q1020768\r\n",
      "Q1073564   property:industry  Q778575\r\n",
      "Q10831597  property:industry  Q778575\r\n"
     ]
    }
   ],
   "source": [
    "!head $QNODES | column -ts $'\\t'"
   ]
  },
  {
   "cell_type": "code",
   "execution_count": 63,
   "id": "c734d18f",
   "metadata": {},
   "outputs": [
    {
     "data": {
      "text/html": [
       "<div>\n",
       "<style scoped>\n",
       "    .dataframe tbody tr th:only-of-type {\n",
       "        vertical-align: middle;\n",
       "    }\n",
       "\n",
       "    .dataframe tbody tr th {\n",
       "        vertical-align: top;\n",
       "    }\n",
       "\n",
       "    .dataframe thead th {\n",
       "        text-align: right;\n",
       "    }\n",
       "</style>\n",
       "<table border=\"1\" class=\"dataframe\">\n",
       "  <thead>\n",
       "    <tr style=\"text-align: right;\">\n",
       "      <th></th>\n",
       "      <th>node1</th>\n",
       "      <th>label</th>\n",
       "      <th>node2</th>\n",
       "      <th>node1;label</th>\n",
       "      <th>node2;label</th>\n",
       "    </tr>\n",
       "  </thead>\n",
       "  <tbody>\n",
       "    <tr>\n",
       "      <th>0</th>\n",
       "      <td>Q1023161</td>\n",
       "      <td>property:industry</td>\n",
       "      <td>Q269415</td>\n",
       "      <td>'CD Baby'@en</td>\n",
       "      <td>'digital distribution'@en</td>\n",
       "    </tr>\n",
       "    <tr>\n",
       "      <th>1</th>\n",
       "      <td>Q1024380</td>\n",
       "      <td>property:industry</td>\n",
       "      <td>Q5501371</td>\n",
       "      <td>'Canada Steamship Lines'@en</td>\n",
       "      <td>'freight company'@en</td>\n",
       "    </tr>\n",
       "    <tr>\n",
       "      <th>2</th>\n",
       "      <td>Q1044059</td>\n",
       "      <td>property:industry</td>\n",
       "      <td>Q815825</td>\n",
       "      <td>'Carnival Corporation &amp; plc'@en</td>\n",
       "      <td>'hospitality'@en</td>\n",
       "    </tr>\n",
       "    <tr>\n",
       "      <th>3</th>\n",
       "      <td>Q1044059</td>\n",
       "      <td>property:industry</td>\n",
       "      <td>Q49389</td>\n",
       "      <td>'Carnival Corporation &amp; plc'@en</td>\n",
       "      <td>'tourism'@en</td>\n",
       "    </tr>\n",
       "    <tr>\n",
       "      <th>4</th>\n",
       "      <td>Q1060363</td>\n",
       "      <td>property:industry</td>\n",
       "      <td>Q899383</td>\n",
       "      <td>'Terrestrial Trunked Radio'@en</td>\n",
       "      <td>'European Telecommunications Standards Institu...</td>\n",
       "    </tr>\n",
       "    <tr>\n",
       "      <th>...</th>\n",
       "      <td>...</td>\n",
       "      <td>...</td>\n",
       "      <td>...</td>\n",
       "      <td>...</td>\n",
       "      <td>...</td>\n",
       "    </tr>\n",
       "    <tr>\n",
       "      <th>1802</th>\n",
       "      <td>Q906522</td>\n",
       "      <td>property:industry</td>\n",
       "      <td>Q291</td>\n",
       "      <td>'Reality Kings'@en</td>\n",
       "      <td>'pornography'@en</td>\n",
       "    </tr>\n",
       "    <tr>\n",
       "      <th>1803</th>\n",
       "      <td>Q910541</td>\n",
       "      <td>property:industry</td>\n",
       "      <td>Q2342494</td>\n",
       "      <td>'Topps'@en</td>\n",
       "      <td>'collectible'@en</td>\n",
       "    </tr>\n",
       "    <tr>\n",
       "      <th>1804</th>\n",
       "      <td>Q910541</td>\n",
       "      <td>property:industry</td>\n",
       "      <td>Q5200157</td>\n",
       "      <td>'Topps'@en</td>\n",
       "      <td>NaN</td>\n",
       "    </tr>\n",
       "    <tr>\n",
       "      <th>1805</th>\n",
       "      <td>Q93856</td>\n",
       "      <td>property:industry</td>\n",
       "      <td>Q187916</td>\n",
       "      <td>'Jockey Club'@en</td>\n",
       "      <td>'horse racing'@en</td>\n",
       "    </tr>\n",
       "    <tr>\n",
       "      <th>1806</th>\n",
       "      <td>Q93856</td>\n",
       "      <td>property:industry</td>\n",
       "      <td>Q180910</td>\n",
       "      <td>'Jockey Club'@en</td>\n",
       "      <td>'leisure'@en</td>\n",
       "    </tr>\n",
       "  </tbody>\n",
       "</table>\n",
       "<p>1807 rows × 5 columns</p>\n",
       "</div>"
      ],
      "text/plain": [
       "         node1              label     node2                      node1;label  \\\n",
       "0     Q1023161  property:industry   Q269415                     'CD Baby'@en   \n",
       "1     Q1024380  property:industry  Q5501371      'Canada Steamship Lines'@en   \n",
       "2     Q1044059  property:industry   Q815825  'Carnival Corporation & plc'@en   \n",
       "3     Q1044059  property:industry    Q49389  'Carnival Corporation & plc'@en   \n",
       "4     Q1060363  property:industry   Q899383   'Terrestrial Trunked Radio'@en   \n",
       "...        ...                ...       ...                              ...   \n",
       "1802   Q906522  property:industry      Q291               'Reality Kings'@en   \n",
       "1803   Q910541  property:industry  Q2342494                       'Topps'@en   \n",
       "1804   Q910541  property:industry  Q5200157                       'Topps'@en   \n",
       "1805    Q93856  property:industry   Q187916                 'Jockey Club'@en   \n",
       "1806    Q93856  property:industry   Q180910                 'Jockey Club'@en   \n",
       "\n",
       "                                            node2;label  \n",
       "0                             'digital distribution'@en  \n",
       "1                                  'freight company'@en  \n",
       "2                                      'hospitality'@en  \n",
       "3                                          'tourism'@en  \n",
       "4     'European Telecommunications Standards Institu...  \n",
       "...                                                 ...  \n",
       "1802                                   'pornography'@en  \n",
       "1803                                   'collectible'@en  \n",
       "1804                                                NaN  \n",
       "1805                                  'horse racing'@en  \n",
       "1806                                       'leisure'@en  \n",
       "\n",
       "[1807 rows x 5 columns]"
      ]
     },
     "execution_count": 63,
     "metadata": {},
     "output_type": "execute_result"
    }
   ],
   "source": [
    "kgtk(\"\"\"\n",
    "    query -i $QNODES\n",
    "        --match '()-[]->()'\n",
    "    / add-labels    \n",
    "    \"\"\")"
   ]
  },
  {
   "cell_type": "code",
   "execution_count": 32,
   "id": "63c13dc8",
   "metadata": {},
   "outputs": [
    {
     "name": "stdout",
     "output_type": "stream",
     "text": [
      "node1\tlabel\tnode2\r\n",
      "Q318672\tproperty:industry\tQ178512\r\n"
     ]
    }
   ],
   "source": [
    "!kgtk query -i $QNODES \\\n",
    "        --match 'q: (n)-[p]->(v)' \\\n",
    "        --where 'n = \"Q318672\"'"
   ]
  },
  {
   "cell_type": "code",
   "execution_count": 33,
   "id": "71186744",
   "metadata": {},
   "outputs": [
    {
     "name": "stdout",
     "output_type": "stream",
     "text": [
      "1808\r\n"
     ]
    }
   ],
   "source": [
    "!wc -l < $QNODES"
   ]
  },
  {
   "cell_type": "code",
   "execution_count": 34,
   "id": "ccf79412",
   "metadata": {},
   "outputs": [
    {
     "name": "stdout",
     "output_type": "stream",
     "text": [
      "N\r\n",
      "1463\r\n"
     ]
    }
   ],
   "source": [
    "!kgtk query -i $QNODES \\\n",
    "    --match 'n: (p)-[]->()' \\\n",
    "    --return 'count(distinct p) as N'"
   ]
  },
  {
   "cell_type": "markdown",
   "id": "b1a2b170",
   "metadata": {},
   "source": [
    "# Step 7 Quality Checking"
   ]
  },
  {
   "cell_type": "markdown",
   "id": "e62de4be",
   "metadata": {},
   "source": [
    "Problem: no `nodeProp.id`;"
   ]
  },
  {
   "cell_type": "code",
   "execution_count": 35,
   "id": "7209af51",
   "metadata": {},
   "outputs": [],
   "source": [
    "!kgtk query -i $QNODES $P31 $P279STAR \\\n",
    "--match 'q: (node1)-[nodeProp]->(node2), P31: (node2)-[]->(nodex), P279star: (nodex)-[]->(par)' \\\n",
    "--where 'par in [\"Q8148\", \"Q268592\", \"Q8187769\", \"Q3958441\", \"Q121359\"] ' \\\n",
    "--return 'distinct node1 as `node1`, nodeProp.label as `label`, node2 as `node2`' \\\n",
    "-o $CORRECT_TEMP_1"
   ]
  },
  {
   "cell_type": "code",
   "execution_count": 36,
   "id": "73dea7d8",
   "metadata": {},
   "outputs": [
    {
     "name": "stdout",
     "output_type": "stream",
     "text": [
      "node1      label              node2\r\n",
      "Q16967954  property:industry  Q1004\r\n",
      "Q29641882  property:industry  Q1061108\r\n",
      "Q20708988  property:industry  Q1068473\r\n",
      "Q4651269   property:industry  Q1068473\r\n",
      "Q21036693  property:industry  Q11633\r\n",
      "Q17103612  property:industry  Q11650\r\n",
      "Q631792    property:industry  Q11650\r\n",
      "Q17026016  property:industry  Q11661\r\n",
      "Q5187684   property:industry  Q11661\r\n"
     ]
    }
   ],
   "source": [
    "!head $CORRECT_TEMP_1 | column -ts $'\\t'"
   ]
  },
  {
   "cell_type": "code",
   "execution_count": 37,
   "id": "222f8963",
   "metadata": {},
   "outputs": [
    {
     "name": "stdout",
     "output_type": "stream",
     "text": [
      "294\r\n"
     ]
    }
   ],
   "source": [
    "!wc -l < $CORRECT_TEMP_1"
   ]
  },
  {
   "cell_type": "code",
   "execution_count": 38,
   "id": "75752aa4",
   "metadata": {},
   "outputs": [],
   "source": [
    "# find out the filter step here\n",
    "!kgtk ifnotexists -i $QNODES \\\n",
    "    --filter-on $CORRECT_TEMP_1 \\\n",
    "    --input-keys node1 node2 \\\n",
    "    --filter-keys node1 node2 \\\n",
    "    -o $INCORRECT_TEMP"
   ]
  },
  {
   "cell_type": "code",
   "execution_count": 39,
   "id": "e5eb7cb0",
   "metadata": {},
   "outputs": [
    {
     "name": "stdout",
     "output_type": "stream",
     "text": [
      "node1      label              node2\r\n",
      "Q1023161   property:industry  Q269415\r\n",
      "Q1024380   property:industry  Q5501371\r\n",
      "Q1044059   property:industry  Q815825\r\n",
      "Q1060363   property:industry  Q899383\r\n",
      "Q1060363   property:industry  Q831882\r\n",
      "Q1060363   property:industry  Q1020768\r\n",
      "Q1073564   property:industry  Q778575\r\n",
      "Q10831597  property:industry  Q778575\r\n",
      "Q1085796   property:industry  Q291\r\n"
     ]
    }
   ],
   "source": [
    "!head $INCORRECT_TEMP | column -ts $'\\t'"
   ]
  },
  {
   "cell_type": "code",
   "execution_count": 40,
   "id": "3e561417",
   "metadata": {},
   "outputs": [
    {
     "name": "stdout",
     "output_type": "stream",
     "text": [
      "1515\r\n"
     ]
    }
   ],
   "source": [
    "!wc -l < $INCORRECT_TEMP"
   ]
  },
  {
   "cell_type": "code",
   "execution_count": 41,
   "id": "10aabed3",
   "metadata": {},
   "outputs": [],
   "source": [
    "!kgtk query -i $INCORRECT_TEMP $P279STAR \\\n",
    "    --match 'i: (node1)-[nodeProp]->(node2), P279star: (node2)-[]->(par)' \\\n",
    "    --where 'par in [\"Q8148\", \"Q268592\", \"Q8187769\", \"Q3958441\", \"Q121359\"] ' \\\n",
    "    --return 'distinct node1 as `node1`, nodeProp.label as `label`, node2 as `node2`' \\\n",
    "    -o $CORRECT_TEMP_2"
   ]
  },
  {
   "cell_type": "code",
   "execution_count": 42,
   "id": "26e90404",
   "metadata": {},
   "outputs": [
    {
     "name": "stdout",
     "output_type": "stream",
     "text": [
      "node1      label              node2\r\n",
      "Q17053415  property:industry  Q121359\r\n",
      "Q1284698   property:industry  Q1740966\r\n",
      "Q13512414  property:industry  Q3220391\r\n",
      "Q21189701  property:industry  Q3220391\r\n",
      "Q4831131   property:industry  Q3220391\r\n",
      "Q30644769  property:industry  Q483639\r\n",
      "Q5458947   property:industry  Q483639\r\n",
      "Q6999952   property:industry  Q483639\r\n",
      "Q12591271  property:industry  Q5503\r\n"
     ]
    }
   ],
   "source": [
    "!head $CORRECT_TEMP_2 | column -ts $'\\t'"
   ]
  },
  {
   "cell_type": "code",
   "execution_count": 43,
   "id": "696966c9",
   "metadata": {},
   "outputs": [
    {
     "name": "stdout",
     "output_type": "stream",
     "text": [
      "220\r\n"
     ]
    }
   ],
   "source": [
    "!wc -l < $CORRECT_TEMP_2"
   ]
  },
  {
   "cell_type": "code",
   "execution_count": 44,
   "id": "ca98cdf4",
   "metadata": {},
   "outputs": [],
   "source": [
    "!kgtk ifnotexists -i $INCORRECT_TEMP \\\n",
    "    --filter-on $CORRECT_TEMP_2 \\\n",
    "    --input-keys node1 node2 \\\n",
    "    --filter-keys node1 node2 \\\n",
    "    -o $QNODES_INCORRECT"
   ]
  },
  {
   "cell_type": "code",
   "execution_count": 45,
   "id": "9089be35",
   "metadata": {},
   "outputs": [
    {
     "name": "stdout",
     "output_type": "stream",
     "text": [
      "node1      label              node2\r\n",
      "Q1024380   property:industry  Q5501371\r\n",
      "Q1044059   property:industry  Q815825\r\n",
      "Q1060363   property:industry  Q899383\r\n",
      "Q1060363   property:industry  Q831882\r\n",
      "Q1060363   property:industry  Q1020768\r\n",
      "Q1073564   property:industry  Q778575\r\n",
      "Q10831597  property:industry  Q778575\r\n",
      "Q1085796   property:industry  Q291\r\n",
      "Q10878258  property:industry  Q769493\r\n"
     ]
    }
   ],
   "source": [
    "!head $QNODES_INCORRECT | column -ts $'\\t'"
   ]
  },
  {
   "cell_type": "code",
   "execution_count": 46,
   "id": "84df744e",
   "metadata": {},
   "outputs": [
    {
     "name": "stdout",
     "output_type": "stream",
     "text": [
      "1296\r\n"
     ]
    }
   ],
   "source": [
    "!wc -l < $QNODES_INCORRECT"
   ]
  },
  {
   "cell_type": "code",
   "execution_count": 47,
   "id": "ffa0a71d",
   "metadata": {},
   "outputs": [],
   "source": [
    "!kgtk --debug cat -i $CORRECT_TEMP_1 $CORRECT_TEMP_2 -o $QNODES_CORRECT"
   ]
  },
  {
   "cell_type": "code",
   "execution_count": 48,
   "id": "b022a638",
   "metadata": {},
   "outputs": [
    {
     "name": "stdout",
     "output_type": "stream",
     "text": [
      "node1      label              node2\r\n",
      "Q16967954  property:industry  Q1004\r\n",
      "Q29641882  property:industry  Q1061108\r\n",
      "Q20708988  property:industry  Q1068473\r\n",
      "Q4651269   property:industry  Q1068473\r\n",
      "Q21036693  property:industry  Q11633\r\n",
      "Q17103612  property:industry  Q11650\r\n",
      "Q631792    property:industry  Q11650\r\n",
      "Q17026016  property:industry  Q11661\r\n",
      "Q5187684   property:industry  Q11661\r\n"
     ]
    }
   ],
   "source": [
    "!head $QNODES_CORRECT | column -ts $'\\t'"
   ]
  },
  {
   "cell_type": "code",
   "execution_count": 49,
   "id": "8ca4ffbf",
   "metadata": {},
   "outputs": [
    {
     "name": "stdout",
     "output_type": "stream",
     "text": [
      "N\r\n",
      "435\r\n"
     ]
    }
   ],
   "source": [
    "!kgtk query -i $QNODES_CORRECT \\\n",
    "    --match '(q)-[]->()' \\\n",
    "    --return 'count(distinct q) as N'"
   ]
  },
  {
   "cell_type": "code",
   "execution_count": 64,
   "id": "7d717aff",
   "metadata": {},
   "outputs": [
    {
     "data": {
      "text/html": [
       "<div>\n",
       "<style scoped>\n",
       "    .dataframe tbody tr th:only-of-type {\n",
       "        vertical-align: middle;\n",
       "    }\n",
       "\n",
       "    .dataframe tbody tr th {\n",
       "        vertical-align: top;\n",
       "    }\n",
       "\n",
       "    .dataframe thead th {\n",
       "        text-align: right;\n",
       "    }\n",
       "</style>\n",
       "<table border=\"1\" class=\"dataframe\">\n",
       "  <thead>\n",
       "    <tr style=\"text-align: right;\">\n",
       "      <th></th>\n",
       "      <th>node1</th>\n",
       "      <th>label</th>\n",
       "      <th>node2</th>\n",
       "      <th>node1;label</th>\n",
       "      <th>node2;label</th>\n",
       "    </tr>\n",
       "  </thead>\n",
       "  <tbody>\n",
       "    <tr>\n",
       "      <th>0</th>\n",
       "      <td>Q16967954</td>\n",
       "      <td>property:industry</td>\n",
       "      <td>Q1004</td>\n",
       "      <td>'WOWIO'@en</td>\n",
       "      <td>'comics'@en</td>\n",
       "    </tr>\n",
       "    <tr>\n",
       "      <th>1</th>\n",
       "      <td>Q29641882</td>\n",
       "      <td>property:industry</td>\n",
       "      <td>Q1061108</td>\n",
       "      <td>'Kansas City Board of Public Utilities'@en</td>\n",
       "      <td>'water supply'@en</td>\n",
       "    </tr>\n",
       "    <tr>\n",
       "      <th>2</th>\n",
       "      <td>Q20708988</td>\n",
       "      <td>property:industry</td>\n",
       "      <td>Q1068473</td>\n",
       "      <td>'GreenCE'@en</td>\n",
       "      <td>'educational technology'@en</td>\n",
       "    </tr>\n",
       "    <tr>\n",
       "      <th>3</th>\n",
       "      <td>Q4651269</td>\n",
       "      <td>property:industry</td>\n",
       "      <td>Q1068473</td>\n",
       "      <td>'AEC Daily'@en</td>\n",
       "      <td>'educational technology'@en</td>\n",
       "    </tr>\n",
       "    <tr>\n",
       "      <th>4</th>\n",
       "      <td>Q21036693</td>\n",
       "      <td>property:industry</td>\n",
       "      <td>Q11633</td>\n",
       "      <td>'Looksery'@en</td>\n",
       "      <td>'photography'@en</td>\n",
       "    </tr>\n",
       "    <tr>\n",
       "      <th>...</th>\n",
       "      <td>...</td>\n",
       "      <td>...</td>\n",
       "      <td>...</td>\n",
       "      <td>...</td>\n",
       "      <td>...</td>\n",
       "    </tr>\n",
       "    <tr>\n",
       "      <th>95</th>\n",
       "      <td>Q16959592</td>\n",
       "      <td>property:industry</td>\n",
       "      <td>Q289</td>\n",
       "      <td>'LA Productions'@en</td>\n",
       "      <td>'television'@en</td>\n",
       "    </tr>\n",
       "    <tr>\n",
       "      <th>96</th>\n",
       "      <td>Q17150122</td>\n",
       "      <td>property:industry</td>\n",
       "      <td>Q289</td>\n",
       "      <td>'3AD'@en</td>\n",
       "      <td>'television'@en</td>\n",
       "    </tr>\n",
       "    <tr>\n",
       "      <th>97</th>\n",
       "      <td>Q17300077</td>\n",
       "      <td>property:industry</td>\n",
       "      <td>Q289</td>\n",
       "      <td>'Temple Hill Entertainment'@en</td>\n",
       "      <td>'television'@en</td>\n",
       "    </tr>\n",
       "    <tr>\n",
       "      <th>98</th>\n",
       "      <td>Q17335612</td>\n",
       "      <td>property:industry</td>\n",
       "      <td>Q289</td>\n",
       "      <td>'Vinyl Films'@en</td>\n",
       "      <td>'television'@en</td>\n",
       "    </tr>\n",
       "    <tr>\n",
       "      <th>99</th>\n",
       "      <td>Q18168039</td>\n",
       "      <td>property:industry</td>\n",
       "      <td>Q289</td>\n",
       "      <td>'Reel One Entertainment'@en</td>\n",
       "      <td>'television'@en</td>\n",
       "    </tr>\n",
       "  </tbody>\n",
       "</table>\n",
       "<p>100 rows × 5 columns</p>\n",
       "</div>"
      ],
      "text/plain": [
       "        node1              label     node2  \\\n",
       "0   Q16967954  property:industry     Q1004   \n",
       "1   Q29641882  property:industry  Q1061108   \n",
       "2   Q20708988  property:industry  Q1068473   \n",
       "3    Q4651269  property:industry  Q1068473   \n",
       "4   Q21036693  property:industry    Q11633   \n",
       "..        ...                ...       ...   \n",
       "95  Q16959592  property:industry      Q289   \n",
       "96  Q17150122  property:industry      Q289   \n",
       "97  Q17300077  property:industry      Q289   \n",
       "98  Q17335612  property:industry      Q289   \n",
       "99  Q18168039  property:industry      Q289   \n",
       "\n",
       "                                   node1;label                  node2;label  \n",
       "0                                   'WOWIO'@en                  'comics'@en  \n",
       "1   'Kansas City Board of Public Utilities'@en            'water supply'@en  \n",
       "2                                 'GreenCE'@en  'educational technology'@en  \n",
       "3                               'AEC Daily'@en  'educational technology'@en  \n",
       "4                                'Looksery'@en             'photography'@en  \n",
       "..                                         ...                          ...  \n",
       "95                         'LA Productions'@en              'television'@en  \n",
       "96                                    '3AD'@en              'television'@en  \n",
       "97              'Temple Hill Entertainment'@en              'television'@en  \n",
       "98                            'Vinyl Films'@en              'television'@en  \n",
       "99                 'Reel One Entertainment'@en              'television'@en  \n",
       "\n",
       "[100 rows x 5 columns]"
      ]
     },
     "execution_count": 64,
     "metadata": {},
     "output_type": "execute_result"
    }
   ],
   "source": [
    "kgtk(\"\"\"\n",
    "    query -i $QNODES_CORRECT\n",
    "        --match '(q)-[p]->(v)'\n",
    "        --return 'q, p.label, v' \n",
    "        --limit 100\n",
    "    / add-labels    \n",
    "    \"\"\")"
   ]
  },
  {
   "cell_type": "code",
   "execution_count": 50,
   "id": "29a42372",
   "metadata": {},
   "outputs": [
    {
     "data": {
      "text/plain": [
       "512"
      ]
     },
     "execution_count": 50,
     "metadata": {},
     "output_type": "execute_result"
    }
   ],
   "source": [
    "correct_lines = !wc -l < $QNODES_CORRECT\n",
    "correct_lines = int(correct_lines[0]) - 1\n",
    "correct_lines"
   ]
  },
  {
   "cell_type": "code",
   "execution_count": 51,
   "id": "758064be",
   "metadata": {},
   "outputs": [
    {
     "data": {
      "text/plain": [
       "1295"
      ]
     },
     "execution_count": 51,
     "metadata": {},
     "output_type": "execute_result"
    }
   ],
   "source": [
    "incorrect_lines = !wc -l < $QNODES_INCORRECT\n",
    "incorrect_lines = int(incorrect_lines[0]) - 1\n",
    "incorrect_lines"
   ]
  },
  {
   "cell_type": "code",
   "execution_count": 52,
   "id": "7d25e2ae",
   "metadata": {},
   "outputs": [
    {
     "data": {
      "text/plain": [
       "1807"
      ]
     },
     "execution_count": 52,
     "metadata": {},
     "output_type": "execute_result"
    }
   ],
   "source": [
    "qnode_lines = !wc -l < $QNODES\n",
    "qnode_lines = int(qnode_lines[0]) - 1\n",
    "qnode_lines"
   ]
  },
  {
   "cell_type": "code",
   "execution_count": 53,
   "id": "b129ac16",
   "metadata": {},
   "outputs": [],
   "source": [
    "assert correct_lines + incorrect_lines == qnode_lines, \"The sum is not correct!\""
   ]
  },
  {
   "cell_type": "code",
   "execution_count": 54,
   "id": "b6ea96d1",
   "metadata": {},
   "outputs": [],
   "source": [
    "!kgtk cat -i $NUMBERS $STRINGS $STRUCTURED_LITERALS $QNODES_INCORRECT -o $INCORRECT"
   ]
  },
  {
   "cell_type": "code",
   "execution_count": 55,
   "id": "57edb61d",
   "metadata": {},
   "outputs": [
    {
     "name": "stdout",
     "output_type": "stream",
     "text": [
      "3688 /nas/home/bohuizha/KG/hunger-for-knowledge/output/P452/incorrect.tsv\r\n"
     ]
    }
   ],
   "source": [
    "!wc -l $INCORRECT"
   ]
  },
  {
   "cell_type": "code",
   "execution_count": 56,
   "id": "10224523",
   "metadata": {},
   "outputs": [
    {
     "name": "stdout",
     "output_type": "stream",
     "text": [
      "count(DISTINCT graph_7205_c1.\"node1\")\r\n",
      "3224\r\n"
     ]
    }
   ],
   "source": [
    "!kgtk query -i $INCORRECT \\\n",
    "    --match '(q)-[]->()' \\\n",
    "    --return 'count(distinct q)'"
   ]
  },
  {
   "cell_type": "code",
   "execution_count": null,
   "id": "bfceb240",
   "metadata": {},
   "outputs": [],
   "source": []
  }
 ],
 "metadata": {
  "kernelspec": {
   "display_name": "Python 3",
   "language": "python",
   "name": "python3"
  },
  "language_info": {
   "codemirror_mode": {
    "name": "ipython",
    "version": 3
   },
   "file_extension": ".py",
   "mimetype": "text/x-python",
   "name": "python",
   "nbconvert_exporter": "python",
   "pygments_lexer": "ipython3",
   "version": "3.7.10"
  }
 },
 "nbformat": 4,
 "nbformat_minor": 5
}
