{
 "cells": [
  {
   "cell_type": "markdown",
   "id": "bef3f771",
   "metadata": {},
   "source": [
    "# Step 1 User Query"
   ]
  },
  {
   "cell_type": "code",
   "execution_count": null,
   "id": "d080e778",
   "metadata": {},
   "outputs": [],
   "source": [
    "import os\n",
    "import re\n",
    "import time\n",
    "import json\n",
    "import subprocess\n",
    "import pandas as pd\n",
    "\n",
    "from tqdm import tqdm\n",
    "from collections import defaultdict"
   ]
  },
  {
   "cell_type": "markdown",
   "id": "43435899",
   "metadata": {},
   "source": [
    "## Define alias and variables"
   ]
  },
  {
   "cell_type": "code",
   "execution_count": null,
   "id": "c574ba06",
   "metadata": {
    "scrolled": true
   },
   "outputs": [],
   "source": [
    "# Parameters\n",
    "\n",
    "# Folder where database files store\n",
    "data_path = \"/nas/home/bohuizha/KG/hunger-for-knowledge/data/\"\n",
    "\n",
    "# The names of files in the KGTK Wikidata distirbution that we will use in this notebook.\n",
    "data_file_names = {\n",
    "    \"claims\": \"claims.tsv\",\n",
    "    \"wiki_info\": \"wikidata_infobox.tsv\",\n",
    "    \"p31\": \"P31.tsv\",\n",
    "    \"p279star\": \"P279star.tsv\",\n",
    "    \"labels\": \"labels.en.tsv\",\n",
    "    \"constraints\": \"value_type_constraint.json\"\n",
    "}\n",
    "\n",
    "# We will define environment variables to hold the full paths to the files as we will use them in the shell commands\n",
    "kgtk_environment_variables = []\n",
    "\n",
    "os.environ['DATABASE'] = data_path\n",
    "kgtk_environment_variables.append('DATABASE')\n",
    "\n",
    "for key, value in data_file_names.items():\n",
    "    variable = key.upper()\n",
    "    os.environ[variable] = data_path + value\n",
    "    kgtk_environment_variables.append(variable)\n",
    "    \n",
    "for variable in kgtk_environment_variables:\n",
    "    print(\"{}: \\\"{}\\\"\".format(variable, os.environ[variable]))"
   ]
  },
  {
   "cell_type": "markdown",
   "id": "20651ce8",
   "metadata": {},
   "source": [
    "**Method 1: query from Wikidata**\n",
    "- property constraint (P2302)\n",
    "- value-type constraint (Q21510865)"
   ]
  },
  {
   "cell_type": "code",
   "execution_count": null,
   "id": "1cf961f5",
   "metadata": {},
   "outputs": [],
   "source": [
    "# property_list = !kgtk query -i $CLAIMS --match 'c: (q)-[p:P2302]->(v:Q21510865)' --return 'q' --limit 100\n",
    "# property_list = property_list[1:5]"
   ]
  },
  {
   "cell_type": "markdown",
   "id": "2c34a77a",
   "metadata": {},
   "source": [
    "**Method 2: preprocess Kartik's work**"
   ]
  },
  {
   "cell_type": "code",
   "execution_count": null,
   "id": "b96f8845",
   "metadata": {},
   "outputs": [],
   "source": [
    "with open(os.environ['CONSTRAINTS']) as f:\n",
    "    property_dict = json.load(f)"
   ]
  },
  {
   "cell_type": "code",
   "execution_count": null,
   "id": "120a6626",
   "metadata": {},
   "outputs": [],
   "source": [
    "# start_time = round(time.time())\n",
    "property_runtime = {k: defaultdict(float) for k, _ in property_dict.items()}"
   ]
  },
  {
   "cell_type": "code",
   "execution_count": null,
   "id": "3beb7767",
   "metadata": {},
   "outputs": [],
   "source": [
    "property_lines_count = {k: defaultdict(int) for k, _ in property_dict.items()}\n",
    "property_qnodes_count = {k: defaultdict(int) for k, _ in property_dict.items()}"
   ]
  },
  {
   "cell_type": "code",
   "execution_count": null,
   "id": "752e5341",
   "metadata": {
    "scrolled": true
   },
   "outputs": [],
   "source": [
    "# Parameters\n",
    "\n",
    "# Folder on local machine where to create the output and temporary folders\n",
    "output_path = \"/nas/home/bohuizha/KG/hunger-for-knowledge/batch_output/\"\n",
    "if not os.path.exists(output_path):\n",
    "    os.makedirs(output_path)\n",
    "output_list = ['results', 'infobox_results', 'new_results', 'samples', \n",
    "               'unknown', 'entity', 'class', 'query', 'agree',\n",
    "               'direct_infer', 'indirect_infer', 'infer', \n",
    "               'structured_literals', 'nodes', 'qnodes', \n",
    "               'correct_temp_1', 'correct_temp_2', 'incorrect_temp', \n",
    "               'correct', 'incorrect']\n",
    "for folder_name in output_list:\n",
    "    folder_path = os.path.join(output_path, folder_name)\n",
    "    if not os.path.exists(folder_path):\n",
    "        os.mkdir(folder_path)\n",
    "    variable = folder_name.upper()\n",
    "    os.environ[variable] = folder_path\n",
    "    kgtk_environment_variables.append(variable)\n",
    "\n",
    "os.environ['OUTPUT'] = output_path\n",
    "kgtk_environment_variables.append('OUTPUT')\n",
    "\n",
    "os.environ['PROPERTY_MAPPING'] = \"/nas/home/bohuizha/KG/hunger-for-knowledge/batch_output/property_mapping_full.json\"\n",
    "kgtk_environment_variables.append('PROPERTY_MAPPING')\n",
    "\n",
    "os.environ['RUNTIME'] = \"/nas/home/bohuizha/KG/hunger-for-knowledge/batch_output/runtime.json\"\n",
    "kgtk_environment_variables.append('RUNTIME')\n",
    "\n",
    "os.environ['LINE_STATISTICS'] = \"/nas/home/bohuizha/KG/hunger-for-knowledge/batch_output/line.statistics.json\"\n",
    "kgtk_environment_variables.append('LINE_STATISTICS')\n",
    "\n",
    "os.environ['QNODE_STATISTICS'] = \"/nas/home/bohuizha/KG/hunger-for-knowledge/batch_output/qnode.statistics.json\"\n",
    "kgtk_environment_variables.append('QNODE_STATISTICS')\n",
    "\n",
    "for prop in property_dict.keys():\n",
    "    output_file_names = {\n",
    "        \"%s_results\" % prop: \"results/results.%s.tsv\" % prop,\n",
    "        \"%s_infobox_results\" % prop: \"infobox_results/infobox.results.%s.tsv\" % prop,\n",
    "        \"%s_new_results\" % prop: \"new_results/new.results.%s.tsv\" % prop,\n",
    "        \"%s_samples\" % prop: \"samples/samples.%s.tsv\" % prop,\n",
    "        \"%s_agree\" % prop: \"agree/agree.%s.tsv\" % prop,\n",
    "        \"%s_query_file\" % prop: \"query/query.file.%s.tsv\" % prop,\n",
    "        \"%s_direct_infer\" % prop: \"direct_infer/direct.infer.%s.tsv\" % prop,\n",
    "        \"%s_indirect_infer\" % prop: \"indirect_infer/indirect.infer.%s.tsv\" % prop,\n",
    "        \"%s_infers\" % prop: \"infers/infers.%s.tsv\" % prop,\n",
    "        \"%s_structured_literals\" % prop: \"structured_literals/structured.literals.%s.tsv\" % prop,\n",
    "        \"%s_nodes\" % prop: \"nodes/nodes.%s.tsv\" % prop,\n",
    "        \"%s_qnodes\" % prop: \"qnodes/qnodes.%s.tsv\" % prop,\n",
    "        \"%s_correct_temp_1\" % prop: \"correct_temp_1/correct_temp_1.%s.tsv\" % prop,\n",
    "        \"%s_correct_temp_2\" % prop: \"correct_temp_2/correct_temp_2.%s.tsv\" % prop,\n",
    "        \"%s_incorrect_temp\" % prop: \"incorrect_temp/incorrect_temp.%s.tsv\" % prop,\n",
    "        \"%s_correct\" % prop: \"correct/correct.%s.tsv\" % prop,\n",
    "        \"%s_incorrect\" % prop: \"incorrect/incorrect.%s.tsv\" % prop\n",
    "    }\n",
    "    # \"%s_unknown\" % prop: \"unknown/unknown.%s.tsv\" % prop,\n",
    "    # \"%s_class\" % prop: \"class/class.%s.tsv\" % prop,\n",
    "    # \"%s_entity\" % prop: \"entity/entity.%s.tsv\" % prop,\n",
    "    # print(output_file_names)\n",
    "    for key, value in output_file_names.items():\n",
    "        variable = key.upper()\n",
    "        os.environ[variable] = os.path.join(output_path, value)\n",
    "        kgtk_environment_variables.append(variable)\n",
    "\n",
    "# kgtk_environment_variables.sort()\n",
    "# for variable in kgtk_environment_variables:\n",
    "#     print(\"{}: \\\"{}\\\"\".format(variable, os.environ[variable]))"
   ]
  },
  {
   "cell_type": "markdown",
   "id": "3fa976e5",
   "metadata": {},
   "source": [
    "# Step 2: Wikidata Results"
   ]
  },
  {
   "cell_type": "markdown",
   "id": "0cd85447",
   "metadata": {},
   "source": [
    "Generate a property file for each property using `kgtk filter` (filter for property). **Note:** Already run on background and since it's relatively time consuming, it's better to not run again."
   ]
  },
  {
   "cell_type": "code",
   "execution_count": null,
   "id": "80f90c4d",
   "metadata": {
    "scrolled": true
   },
   "outputs": [],
   "source": [
    "# for prop, val in property_dict.items():\n",
    "#     command = \"kgtk filter -i $CLAIMS -p \\\" ; %s ; \\\" -o $%s_RESULTS\" % (prop, prop) \n",
    "#     # print(command)\n",
    "#     code = os.system(command)\n",
    "#     print(code, prop) "
   ]
  },
  {
   "cell_type": "code",
   "execution_count": null,
   "id": "50dad6eb",
   "metadata": {},
   "outputs": [],
   "source": [
    "# code from Kartik\n",
    "propFileDict = defaultdict()\n",
    "with open(os.environ['CLAIMS'], 'r') as f: \n",
    "    headerLine = next(f)#.decode(\"utf-8\")\n",
    "    for line in tqdm(f):\n",
    "        line = line#.decode(\"utf-8\")\n",
    "        lineP = line.rstrip().split(\"\\t\")\n",
    "        prop = lineP[2]\n",
    "        if prop in property_dict: \n",
    "            if prop not in propFileDict:\n",
    "                propFileDict[prop] = open(os.environ[\"%s_RESULTS\" % prop], \"w\")\n",
    "                propFileDict[prop].write(headerLine)\n",
    "            propFileDict[prop].write(line)\n",
    "    for file1 in propFileDict.values():\n",
    "        file1.close()"
   ]
  },
  {
   "cell_type": "markdown",
   "id": "73e4bf1f",
   "metadata": {},
   "source": [
    "## Count known results in Wikidata database:"
   ]
  },
  {
   "cell_type": "code",
   "execution_count": null,
   "id": "6c23e3d7",
   "metadata": {
    "scrolled": true
   },
   "outputs": [],
   "source": [
    "for prop in property_dict.keys():\n",
    "    if not os.path.exists(os.environ['%s_RESULTS' % prop]):\n",
    "        property_lines_count[prop]['Known'] = 0\n",
    "        property_qnodes_count[prop]['Known'] = 0\n",
    "        continue\n",
    "    if os.path.getsize(os.environ['%s_RESULTS' % prop]) == 0:\n",
    "        property_lines_count[prop]['Known'] = 0\n",
    "        property_qnodes_count[prop]['Known'] = 0\n",
    "        continue\n",
    "    # count in lines\n",
    "    lines = subprocess.check_output(\"wc -l < $%s_RESULTS\" % prop, shell=True)\n",
    "    lines = lines.decode(\"utf-8\").strip()\n",
    "    lines = int(lines) - 1\n",
    "    property_lines_count[prop]['Known'] = lines\n",
    "    # print(\"%s -> %d\" % (prop, lines))\n",
    "    # count in qnodes\n",
    "    command = \"kgtk query -i $%s_RESULTS --match '(qnode)-[]->()' --return 'count(distinct qnode)'\" % prop\n",
    "    nodes = subprocess.check_output(command, shell=True)\n",
    "    nodes = nodes.decode(\"utf-8\").strip().split('\\n')[1]\n",
    "    nodes = int(nodes)\n",
    "    property_qnodes_count[prop]['Known'] = nodes\n",
    "    print(\"%s -> %d\" % (prop, nodes))"
   ]
  },
  {
   "cell_type": "markdown",
   "id": "949bf92e",
   "metadata": {},
   "source": [
    "## Find unknow results in Wikidata database:"
   ]
  },
  {
   "cell_type": "markdown",
   "id": "13f178bf",
   "metadata": {},
   "source": [
    "Find the most frequent class and substitute the entities of the class as the whole entity set we're going to query. **Note:** Currently we don't apply this step."
   ]
  },
  {
   "cell_type": "code",
   "execution_count": null,
   "id": "43e1336f",
   "metadata": {},
   "outputs": [],
   "source": [
    "# for prop, val in property_dict.items():\n",
    "#     command = \"kgtk query -i $%s_RESULTS $P31 \\\n",
    "#         --match 'r: (entity)-[]->(), P31: (entity)-[]->(class)' \\\n",
    "#         --return 'distinct entity as node1, \\\"P31\\\" as label, class as node2' \\\n",
    "#         -o $%s_CLASS\" % (prop, prop)\n",
    "#     print(command)\n",
    "#     start = time.time()\n",
    "#     code = os.system(command)\n",
    "#     runtime = time.time() - start\n",
    "#     print(code, runtime)\n",
    "#     property_runtime[prop].append(runtime)"
   ]
  },
  {
   "cell_type": "code",
   "execution_count": null,
   "id": "0f64356c",
   "metadata": {},
   "outputs": [],
   "source": [
    "# entity_class_map = dict()\n",
    "# for prop, _ in property_dict.items():\n",
    "#     command = \"kgtk query -i $%s_CLASS \\\n",
    "#         --match 'c: ()-[]->(class)' \\\n",
    "#         --return 'class, count(class) as N' \\\n",
    "#         --order-by 'N desc' \\\n",
    "#         --limit 1\" % prop\n",
    "#     start = time.time()\n",
    "#     output = subprocess.check_output(command, shell=True)\n",
    "#     runtime = time.time() - start\n",
    "#     property_runtime[prop].append(runtime)\n",
    "#     output = output.decode(\"utf-8\").strip().split()\n",
    "#     print(\"%s\" % prop, output, runtime)\n",
    "#     if len(output) == 4:\n",
    "#         entity_class_map[prop] = output[2]"
   ]
  },
  {
   "cell_type": "code",
   "execution_count": null,
   "id": "83a10850",
   "metadata": {},
   "outputs": [],
   "source": [
    "# class_entity_map = dict()\n",
    "# for key, value in entity_class_map.items():\n",
    "#     class_entity_map[value] = []\n",
    "# for key, value in entity_class_map.items():\n",
    "#     class_entity_map[value].append(key)\n",
    "# class_entity_map"
   ]
  },
  {
   "cell_type": "markdown",
   "id": "cd458482",
   "metadata": {},
   "source": [
    "- Find all entities"
   ]
  },
  {
   "cell_type": "code",
   "execution_count": null,
   "id": "5b1ac227",
   "metadata": {},
   "outputs": [],
   "source": [
    "# for cls, prop in class_entity_map.items():\n",
    "#     command = \"kgtk filter -i $P31 -p \\\";; %s\\\" -o $%s_ENTITY\" % (cls, prop[0])\n",
    "#     print(command)\n",
    "#     # If ${val} already in folder, no need to query\n",
    "#     # if os.path.exists(os.environ['%s_ENTITY' % prop[0]]):\n",
    "#     #     print(0)\n",
    "#     #     runtime = 0\n",
    "#     #     propperty_runtime[prop].append(runtime)\n",
    "#     # else:\n",
    "#     start = time.time()\n",
    "#     code = os.system(command)\n",
    "#     runtime = time.time() - start\n",
    "#     property_runtime[prop[0]].append(runtime)\n",
    "#     print(code, runtime)\n",
    "#     if len(prop) > 1:\n",
    "#         for p in prop[1:]:\n",
    "#             os.system('cp $%s_ENTITY $%s_ENTITY' % (prop[0], p))\n",
    "#             property_runtime[p].append(runtime)"
   ]
  },
  {
   "cell_type": "code",
   "execution_count": null,
   "id": "d08e0b24",
   "metadata": {},
   "outputs": [],
   "source": [
    "# directly filter\n",
    "# !kgtk query -i $%s_CLASS $P31 \\\n",
    "#         --match 'c: (n)-[]->(class), P31: (entity)-[]->(class)' \\\n",
    "#         --where 'n != entity' \\\n",
    "#         --return 'distinct entity as node1, \\\"P31\\\" as label, class as node2' \\\n",
    "#         -o $%s_ENTITY\" % (prop, prop)"
   ]
  },
  {
   "cell_type": "markdown",
   "id": "facfa3a0",
   "metadata": {},
   "source": [
    "- Eliminate entities who have known property / properties values"
   ]
  },
  {
   "cell_type": "code",
   "execution_count": null,
   "id": "fb111115",
   "metadata": {},
   "outputs": [],
   "source": [
    "# for prop, val in property_dict.items():\n",
    "#     command = \"kgtk ifnotexists -i $%s_ENTITY \\\n",
    "#         --filter-on $%s_RESULTS \\\n",
    "#         --input-keys node1 \\\n",
    "#         --filter-keys node1 \\\n",
    "#         -o $%s_QUERY_FILE\" % (prop, prop, prop)\n",
    "#     print(command)\n",
    "#     # if os.path.exists(os.environ['%s_QUERY_FILE' % prop[0]]):\n",
    "#     #     print(0)\n",
    "#     # else:\n",
    "#     #     code = os.system(command)\n",
    "#     #     print(code)\n",
    "#     start = time.time()\n",
    "#     code = os.system(command)\n",
    "#     runtime = time.time() - start\n",
    "#     property_runtime[prop].append(runtime)\n",
    "#     print(code, runtime)"
   ]
  },
  {
   "cell_type": "markdown",
   "id": "7de951e4",
   "metadata": {},
   "source": [
    "## Count unknown results"
   ]
  },
  {
   "cell_type": "markdown",
   "id": "f867e083",
   "metadata": {},
   "source": [
    "- rows"
   ]
  },
  {
   "cell_type": "code",
   "execution_count": null,
   "id": "e5c446ce",
   "metadata": {},
   "outputs": [],
   "source": [
    "# for prop, val in property_dict.items():\n",
    "#     output = subprocess.check_output(\"wc -l < $%s_QUERY_FILE\" % prop, shell=True)\n",
    "#     output = output.decode(\"utf-8\").strip()\n",
    "#     output = int(output) - 1\n",
    "#     print(\"%s: %s\" % (prop, output))"
   ]
  },
  {
   "cell_type": "markdown",
   "id": "5c28200a",
   "metadata": {},
   "source": [
    "- entities"
   ]
  },
  {
   "cell_type": "code",
   "execution_count": null,
   "id": "fc403d8e",
   "metadata": {},
   "outputs": [],
   "source": [
    "# for prop, val in property_dict.items():\n",
    "#     command = \"kgtk query -i $%s_QUERY_FILE \\\n",
    "#         --match '(p)-[]->()' \\\n",
    "#         --return 'count(distinct p) as N'\" % prop\n",
    "#     output = subprocess.check_output(command, shell=True)\n",
    "#     output = output.decode(\"utf-8\").strip().split()[-1]\n",
    "#     print(\"%s: %s\" % (prop, output))"
   ]
  },
  {
   "cell_type": "markdown",
   "id": "66159817",
   "metadata": {},
   "source": [
    "# Step 3 Selection of Additional KG(s)"
   ]
  },
  {
   "cell_type": "markdown",
   "id": "67393831",
   "metadata": {},
   "source": [
    "Currently we use Wikidata Infobox generated from DBpedia."
   ]
  },
  {
   "cell_type": "markdown",
   "id": "bd970773",
   "metadata": {},
   "source": [
    "# Step 4 Schema Alignment"
   ]
  },
  {
   "cell_type": "markdown",
   "id": "7b6e4731",
   "metadata": {},
   "source": [
    "## Entity resolution"
   ]
  },
  {
   "cell_type": "markdown",
   "id": "401e907b",
   "metadata": {},
   "source": [
    "Use query results from Wikidata database to infer properties in Wikidata infobox and return the most frequent property."
   ]
  },
  {
   "cell_type": "markdown",
   "id": "56ac54db",
   "metadata": {},
   "source": [
    "**Direct Infer:** Query for qnode;"
   ]
  },
  {
   "cell_type": "code",
   "execution_count": null,
   "id": "448434ce",
   "metadata": {},
   "outputs": [],
   "source": [
    "for prop, val in property_dict.items():\n",
    "    command = \"kgtk query -i $%s_RESULTS --match '()-[]->()' --limit 200000 -o $%s_SAMPLES\" % (prop, prop)\n",
    "    code = os.system(command)"
   ]
  },
  {
   "cell_type": "code",
   "execution_count": null,
   "id": "06f184c4",
   "metadata": {
    "scrolled": true
   },
   "outputs": [],
   "source": [
    "for prop, val in property_dict.items():\n",
    "    command = \"kgtk query -i $%s_SAMPLES -i $WIKI_INFO \\\n",
    "        --match 's: (entity)-[]->(v), w: (entity)-[p]->(v)' \\\n",
    "        --return 'entity, p.label, v as node2' \\\n",
    "        -o $%s_DIRECT_INFER\" % (prop, prop)\n",
    "    # print(command)\n",
    "    start = time.time()\n",
    "    code = os.system(command)\n",
    "    runtime = time.time() - start\n",
    "    property_runtime[prop]['Entity Resolution'] = runtime\n",
    "    print(prop, code, runtime)"
   ]
  },
  {
   "cell_type": "markdown",
   "id": "343cf7e1",
   "metadata": {},
   "source": [
    "## Property mapping"
   ]
  },
  {
   "cell_type": "code",
   "execution_count": null,
   "id": "1e741659",
   "metadata": {
    "scrolled": true
   },
   "outputs": [],
   "source": [
    "# {Wikidata property: DBpedia property}, e.g. {'P452': 'property:industry'}\n",
    "property_mapping = dict()\n",
    "for prop, val in property_dict.items():\n",
    "    if not os.path.exists(os.environ['%s_DIRECT_INFER' % prop]):\n",
    "        continue\n",
    "    if os.path.getsize(os.environ['%s_DIRECT_INFER' % prop]) == 0:\n",
    "        continue\n",
    "    command = \"kgtk query -i $%s_DIRECT_INFER \\\n",
    "        --match '(q)-[p]->(v)' \\\n",
    "        --return 'p.label, count(v) as N' \\\n",
    "        --order-by 'N desc' \\\n",
    "        --limit 1\" % prop\n",
    "    start = time.time()\n",
    "    # print(command)\n",
    "    output = subprocess.check_output(command, shell=True)\n",
    "    runtime = time.time() - start\n",
    "    property_runtime[prop]['Property Mapping'] = runtime\n",
    "    output = output.decode(\"utf-8\").strip().split()\n",
    "    print(output, runtime)\n",
    "    if len(output) == 4:\n",
    "        property_mapping[prop] = output[2]\n",
    "        print(\"%s -> %s\" % (prop, output[2]))"
   ]
  },
  {
   "cell_type": "code",
   "execution_count": null,
   "id": "cafc75a9",
   "metadata": {},
   "outputs": [],
   "source": [
    "# save property_mapping\n",
    "with open(os.environ['PROPERTY_MAPPING'], 'w+') as f:\n",
    "    json.dump(property_mapping, f, indent=4)"
   ]
  },
  {
   "cell_type": "code",
   "execution_count": null,
   "id": "ef97b2c7",
   "metadata": {},
   "outputs": [],
   "source": [
    "# create reverse property mapping: {DBpedia property: Wikidata property}\n",
    "# assert len(set(property_mapping.keys())) == len(set(property_mapping.values())), 'Not one-to-one mapping!'\n",
    "print('Number of Wikidata properties: %d' % len(set(property_mapping.keys()))) \n",
    "print('Number of DBpedia properties: %d' % len(set(property_mapping.values())))\n",
    "property_mapping_inverted = defaultdict(list)\n",
    "for key, value in property_mapping.items():\n",
    "    property_mapping_inverted[value].append(key) "
   ]
  },
  {
   "cell_type": "markdown",
   "id": "6a60d059",
   "metadata": {},
   "source": [
    "# Step 5 Results from other KG(s)"
   ]
  },
  {
   "cell_type": "markdown",
   "id": "a1f4a83c",
   "metadata": {},
   "source": [
    "For those entities don't have property value, query in Wikidata infobox:"
   ]
  },
  {
   "cell_type": "code",
   "execution_count": null,
   "id": "4f423c35",
   "metadata": {},
   "outputs": [],
   "source": [
    "DBpediaResultsFileDict = defaultdict()\n",
    "with open(os.environ['WIKI_INFO'], 'r') as f: \n",
    "    headerLine = next(f)\n",
    "    for line in tqdm(f):\n",
    "        lineP = line.rstrip().split(\"\\t\")\n",
    "        dbpedia_prop = lineP[1]\n",
    "        if dbpedia_prop in property_mapping_inverted:\n",
    "            for wiki_prop in property_mapping_inverted[dbpedia_prop]:\n",
    "                if wiki_prop not in DBpediaResultsFileDict:\n",
    "                    DBpediaResultsFileDict[wiki_prop] = open(os.environ[\"%s_INFOBOX_RESULTS\" % wiki_prop], \"w\")\n",
    "                    DBpediaResultsFileDict[wiki_prop].write(headerLine)\n",
    "                DBpediaResultsFileDict[wiki_prop].write(line)\n",
    "    for file1 in DBpediaResultsFileDict.values():\n",
    "        file1.close()"
   ]
  },
  {
   "cell_type": "markdown",
   "id": "3e048a06",
   "metadata": {},
   "source": [
    "## Filter new results found from additional KG"
   ]
  },
  {
   "cell_type": "code",
   "execution_count": null,
   "id": "284bb5a8",
   "metadata": {
    "scrolled": true
   },
   "outputs": [],
   "source": [
    "for prop, val in property_mapping.items():\n",
    "    if not os.path.exists(os.environ['%s_INFOBOX_RESULTS' % prop]):\n",
    "        continue\n",
    "    if os.path.getsize(os.environ['%s_INFOBOX_RESULTS' % prop]) == 0:\n",
    "        continue\n",
    "    command = \"kgtk ifnotexists -i $%s_INFOBOX_RESULTS \\\n",
    "        --filter-on $%s_RESULTS \\\n",
    "        --input-keys node1 node2 \\\n",
    "        --filter-keys node1 node2 \\\n",
    "        -o $%s_NEW_RESULTS\" % (prop, prop, prop) \n",
    "    # print(command)\n",
    "    start = time.time()\n",
    "    code = os.system(command)\n",
    "    runtime = time.time() - start\n",
    "    property_runtime[prop]['Knowledge Retrieval'] = runtime\n",
    "    print(prop, code, runtime)"
   ]
  },
  {
   "cell_type": "markdown",
   "id": "bc5106fa",
   "metadata": {},
   "source": [
    "- Count rows of new findings:"
   ]
  },
  {
   "cell_type": "code",
   "execution_count": null,
   "id": "4b7a1c8a",
   "metadata": {},
   "outputs": [],
   "source": [
    "# for prop, val in property_mapping.items():\n",
    "#     output = subprocess.check_output(\"wc -l < $%s_NEW_RESULTS\" % prop, shell=True)\n",
    "#     output = output.decode(\"utf-8\").strip()\n",
    "#     output = int(output) - 1\n",
    "#     print(\"%s: %s\" % (prop, output))"
   ]
  },
  {
   "cell_type": "markdown",
   "id": "fcb32f34",
   "metadata": {},
   "source": [
    "- Count unique entities of new findings:"
   ]
  },
  {
   "cell_type": "code",
   "execution_count": null,
   "id": "f4365bea",
   "metadata": {},
   "outputs": [],
   "source": [
    "# for prop, val in property_mapping.items():\n",
    "#     command = \"kgtk query -i $%s_NEW_RESULTS \\\n",
    "#         --match 'n: (p)-[]->()' \\\n",
    "#         --return 'count(distinct p) as N'\" % prop\n",
    "#     output = subprocess.check_output(command, shell=True)\n",
    "#     output = output.decode(\"utf-8\").strip().split()[1]\n",
    "#     # print(\"%s: %s\" % (prop, output))"
   ]
  },
  {
   "cell_type": "markdown",
   "id": "457aae80",
   "metadata": {},
   "source": [
    "## Filter out entities (rows) we still don't know"
   ]
  },
  {
   "cell_type": "code",
   "execution_count": null,
   "id": "d7fe97b8",
   "metadata": {},
   "outputs": [],
   "source": [
    "# for prop, val in property_mapping.items():\n",
    "#     command = \"kgtk ifnotexists -i $%s_QUERY_FILE \\\n",
    "#         --filter-on $%s_NEW_RESULTS \\\n",
    "#         --input-keys node1 \\\n",
    "#         --filter-keys node1 \\\n",
    "#         -o $%s_UNKNOWN\" % (prop, prop, prop)\n",
    "#     print(command)\n",
    "#     start = time.time()\n",
    "#     code = os.system(command)\n",
    "#     runtime = time.time() - start\n",
    "#     property_runtime[prop].append(runtime)\n",
    "#     print(code, runtime)"
   ]
  },
  {
   "cell_type": "markdown",
   "id": "63a8b1f4",
   "metadata": {},
   "source": [
    "- Count rows still unknow"
   ]
  },
  {
   "cell_type": "code",
   "execution_count": null,
   "id": "fae99eaa",
   "metadata": {},
   "outputs": [],
   "source": [
    "# for prop, val in property_mapping.items():\n",
    "#     output = subprocess.check_output(\"wc -l < $%s_UNKNOWN\" % prop, shell=True)\n",
    "#     output = output.decode(\"utf-8\").strip()\n",
    "#     output = int(output) - 1\n",
    "#     print(\"%s: %s\" % (prop, output))"
   ]
  },
  {
   "cell_type": "markdown",
   "id": "673d320d",
   "metadata": {},
   "source": [
    "- Count entities still unknow"
   ]
  },
  {
   "cell_type": "code",
   "execution_count": null,
   "id": "45a5c447",
   "metadata": {},
   "outputs": [],
   "source": [
    "# for prop, val in property_mapping.items():\n",
    "#     command = \"kgtk query -i $%s_UNKNOWN \\\n",
    "#         --match 'n: (p)-[]->()' \\\n",
    "#         --return 'count(distinct p) as N'\" % prop\n",
    "#     output = subprocess.check_output(command, shell=True)\n",
    "#     output = output.decode(\"utf-8\").strip().split()[1]\n",
    "#     print(\"%s: %s\" % (prop, output))"
   ]
  },
  {
   "cell_type": "markdown",
   "id": "5b8a8422",
   "metadata": {},
   "source": [
    "# Step 6 Datatype Filtering"
   ]
  },
  {
   "cell_type": "markdown",
   "id": "b2c138f5",
   "metadata": {},
   "source": [
    "## 1. Filter Structured literals:"
   ]
  },
  {
   "cell_type": "code",
   "execution_count": null,
   "id": "849d6f8f",
   "metadata": {},
   "outputs": [],
   "source": [
    "for prop, val in property_mapping.items():\n",
    "    if not os.path.exists(os.environ['%s_NEW_RESULTS' % prop]):\n",
    "        continue\n",
    "    if os.path.getsize(os.environ['%s_NEW_RESULTS' % prop]) == 0:\n",
    "        continue\n",
    "    command = \"kgtk query -i $%s_NEW_RESULTS -i $WIKI_INFO \\\n",
    "        --match 'n: (q)-[p]->(s), w: (s)-[sv]->(v)' \\\n",
    "        --where 'NOT kgtk_lqstring(s) AND NOT kgtk_number(s) AND sv.label = \\\"dbpedia:structured_value\\\"' \\\n",
    "        --return 'q, p.label, s' \\\n",
    "        -o $%s_STRUCTURED_LITERALS\" % (prop, prop)\n",
    "    # print(command)\n",
    "    start = time.time()\n",
    "    code = os.system(command)\n",
    "    runtime = time.time() - start\n",
    "    property_runtime[prop]['Datatype Filtering'] = runtime\n",
    "    print(prop, code, runtime)"
   ]
  },
  {
   "cell_type": "markdown",
   "id": "1437a48d",
   "metadata": {},
   "source": [
    "## 2. Filter Qnodes"
   ]
  },
  {
   "cell_type": "code",
   "execution_count": null,
   "id": "d1bfa1c1",
   "metadata": {},
   "outputs": [],
   "source": [
    "for prop, val in property_mapping.items():\n",
    "    if not os.path.exists(os.environ['%s_NEW_RESULTS' % prop]):\n",
    "        continue\n",
    "    if os.path.getsize(os.environ['%s_NEW_RESULTS' % prop]) == 0:\n",
    "        continue\n",
    "    command_1 = \"kgtk query -i $%s_NEW_RESULTS \\\n",
    "        --match 'n: (q)-[p]->(v)' \\\n",
    "        --where 'NOT kgtk_lqstring(v) AND NOT kgtk_number(v)' \\\n",
    "        --return 'distinct q, p.label, v' \\\n",
    "        -o $%s_NODES\" % (prop, prop)\n",
    "    # print(command_1) \n",
    "    command_2 = \"kgtk ifnotexists -i $%s_NODES \\\n",
    "        --filter-on $%s_STRUCTURED_LITERALS \\\n",
    "        -o $%s_QNODES\" % (prop, prop, prop)\n",
    "    # print(command_2) \n",
    "    start = time.time()\n",
    "    code_1 = os.system(command_1)\n",
    "    code_2 = os.system(command_2)\n",
    "    runtime = time.time() - start\n",
    "    property_runtime[prop]['Datatype Filtering'] += runtime\n",
    "    print(prop, code_1, code_2, runtime) "
   ]
  },
  {
   "cell_type": "code",
   "execution_count": null,
   "id": "50105aed",
   "metadata": {
    "scrolled": true
   },
   "outputs": [],
   "source": [
    "for prop in property_mapping.keys():\n",
    "    if not os.path.exists(os.environ['%s_QNODES' % prop]):\n",
    "        property_lines_count[prop]['Found Total (Qnodes)'] = 0\n",
    "        property_qnodes_count[prop]['Found Total (Qnodes)'] = 0\n",
    "        continue\n",
    "    if os.path.getsize(os.environ['%s_QNODES' % prop]) == 0:\n",
    "        property_lines_count[prop]['Found Total (Qnodes)'] = 0\n",
    "        property_qnodes_count[prop]['Found Total (Qnodes)'] = 0\n",
    "        continue\n",
    "    # count in lines\n",
    "    lines = subprocess.check_output(\"wc -l < $%s_QNODES\" % prop, shell=True)\n",
    "    lines = lines.decode(\"utf-8\").strip()\n",
    "    lines = int(lines) - 1\n",
    "    property_lines_count[prop]['Found Total (Qnodes)'] = lines\n",
    "    print(\"%s -> %d\" % (prop, lines))\n",
    "    # count in qnodes\n",
    "    command = \"kgtk query -i $%s_QNODES --match '(qnode)-[]->()' --return 'count(distinct qnode)'\" % prop\n",
    "    nodes = subprocess.check_output(command, shell=True)\n",
    "    nodes = nodes.decode(\"utf-8\").strip().split('\\n')[1]\n",
    "    nodes = int(nodes)\n",
    "    property_qnodes_count[prop]['Found Total (Qnodes)'] = nodes"
   ]
  },
  {
   "cell_type": "markdown",
   "id": "b50b6cf3",
   "metadata": {},
   "source": [
    "# Step 7 Quality Checking"
   ]
  },
  {
   "cell_type": "markdown",
   "id": "021226df",
   "metadata": {},
   "source": [
    "Agree:"
   ]
  },
  {
   "cell_type": "code",
   "execution_count": null,
   "id": "7e640b6d",
   "metadata": {},
   "outputs": [],
   "source": [
    "for prop, val in property_mapping.items():\n",
    "    start = time.time()\n",
    "    command = \"kgtk query -i $%s_RESULTS $%s_INFOBOX_RESULTS \\\n",
    "        --match 'r: (qnode)-[p]->(value), i: (qnode)-[]->(value)' \\\n",
    "        --return 'qnode as `node1`, p.label as `label`, value as `node2`' \\\n",
    "        -o $%s_AGREE\" % (prop, prop, prop)\n",
    "    code = os.system(command)\n",
    "    runtime = time.time() - start\n",
    "    print(prop, code, runtime)"
   ]
  },
  {
   "cell_type": "code",
   "execution_count": null,
   "id": "9955ec83",
   "metadata": {
    "scrolled": true
   },
   "outputs": [],
   "source": [
    "for prop in property_mapping.keys():\n",
    "    if not os.path.exists(os.environ['%s_AGREE' % prop]):\n",
    "        property_lines_count[prop]['Agree'] = 0\n",
    "        property_qnodes_count[prop]['Agree'] = 0\n",
    "        continue\n",
    "    if os.path.getsize(os.environ['%s_AGREE' % prop]) == 0:\n",
    "        property_lines_count[prop]['Agree'] = 0\n",
    "        property_qnodes_count[prop]['Agree'] = 0\n",
    "        continue\n",
    "    # count in lines\n",
    "    lines = subprocess.check_output(\"wc -l < $%s_AGREE\" % prop, shell=True)\n",
    "    lines = lines.decode(\"utf-8\").strip()\n",
    "    lines = int(lines) - 1\n",
    "    property_lines_count[prop]['Agree'] = lines\n",
    "    print(\"%s -> %d\" % (prop, lines))\n",
    "    # count in qnodes\n",
    "    command = \"kgtk query -i $%s_AGREE --match '(qnode)-[]->()' --return 'count(distinct qnode)'\" % prop\n",
    "    nodes = subprocess.check_output(command, shell=True)\n",
    "    nodes = nodes.decode(\"utf-8\").strip().split('\\n')[1]\n",
    "    nodes = int(nodes)\n",
    "    property_qnodes_count[prop]['Agree'] = nodes"
   ]
  },
  {
   "cell_type": "markdown",
   "id": "900322a2",
   "metadata": {},
   "source": [
    "Semantic Checking:"
   ]
  },
  {
   "cell_type": "code",
   "execution_count": null,
   "id": "5cfb6fa3",
   "metadata": {},
   "outputs": [],
   "source": [
    "for prop, val in property_mapping.items():\n",
    "    start = time.time()\n",
    "    command_1 = \"kgtk query -i $%s_QNODES $P31 $P279STAR \\\n",
    "        --match 'q: (node1)-[nodeProp]->(node2), P31: (node2)-[]->(nodex), P279star: (nodex)-[]->(par)' \\\n",
    "        --where 'par in %s' \\\n",
    "        --return 'distinct node1 as `node1`, nodeProp.label as `label`, node2 as `node2`' \\\n",
    "        -o $%s_CORRECT_TEMP_1\" % (prop, property_dict[prop], prop)\n",
    "    # print(command_1)\n",
    "    code_1 = os.system(command_1)\n",
    "    # print(code_1)\n",
    "    command_2 = \"kgtk ifnotexists -i $%s_QNODES \\\n",
    "        --filter-on $%s_CORRECT_TEMP_1 \\\n",
    "        --input-keys node1 node2 \\\n",
    "        --filter-keys node1 node2 \\\n",
    "        -o $%s_INCORRECT_TEMP\" % (prop, prop, prop)\n",
    "    # print(command_2)\n",
    "    code_2 = os.system(command_2)\n",
    "    # print(code_2)\n",
    "    command_3 = \"kgtk query -i $%s_INCORRECT_TEMP $P279STAR \\\n",
    "        --match 'i: (node1)-[nodeProp]->(node2), P279star: (node2)-[]->(par)' \\\n",
    "        --where 'par in %s' \\\n",
    "        --return 'distinct node1 as `node1`, nodeProp.label as `label`, node2 as `node2`' \\\n",
    "        -o $%s_CORRECT_TEMP_2\" % (prop, property_dict[prop], prop)\n",
    "    # print(command_3)\n",
    "    code_3 = os.system(command_3)\n",
    "    # print(code_3)\n",
    "    command_4 = \"kgtk ifnotexists -i $%s_INCORRECT_TEMP \\\n",
    "        --filter-on $%s_CORRECT_TEMP_2 \\\n",
    "        --input-keys node1 node2 \\\n",
    "        --filter-keys node1 node2 \\\n",
    "        -o $%s_INCORRECT\" % (prop, prop, prop)\n",
    "    # print(command_4)\n",
    "    code_4 = os.system(command_4)\n",
    "    # print(code_4)\n",
    "    command_5 = \"kgtk cat -i $%s_CORRECT_TEMP_1 $%s_CORRECT_TEMP_2 \\\n",
    "        -o $%s_CORRECT\" % (prop, prop, prop)\n",
    "    # print(command_5)\n",
    "    code_5 = os.system(command_5)\n",
    "    # print(code_5)\n",
    "    runtime = time.time() - start\n",
    "    property_runtime[prop]['Semantic Validation'] = runtime\n",
    "    print(prop, code_1, code_2, code_3, code_4, code_5, runtime)"
   ]
  },
  {
   "cell_type": "code",
   "execution_count": null,
   "id": "af9c5e5a",
   "metadata": {
    "scrolled": true
   },
   "outputs": [],
   "source": [
    "for prop in property_mapping.keys():\n",
    "    if not os.path.exists(os.environ['%s_CORRECT' % prop]):\n",
    "        property_lines_count[prop]['Correct'] = 0\n",
    "        property_qnodes_count[prop]['Correct'] = 0\n",
    "        continue\n",
    "    if os.path.getsize(os.environ['%s_CORRECT' % prop]) == 0:\n",
    "        property_lines_count[prop]['Correct'] = 0\n",
    "        property_qnodes_count[prop]['Correct'] = 0\n",
    "        continue\n",
    "    # count in lines\n",
    "    lines = subprocess.checka_output(\"wc -l < $%s_CORRECT\" % prop, shell=True)\n",
    "    lines = lines.decode(\"utf-8\").strip()\n",
    "    lines = int(lines) - 1\n",
    "    property_lines_count[prop]['Correct'] = lines\n",
    "    print(\"%s -> %d\" % (prop, lines))\n",
    "    # count in qnodes\n",
    "    command = \"kgtk query -i $%s_CORRECT --match '(qnode)-[]->()' --return 'count(distinct qnode)'\" % prop\n",
    "    nodes = subprocess.check_output(command, shell=True)\n",
    "    nodes = nodes.decode(\"utf-8\").strip().split('\\n')[1]\n",
    "    nodes = int(nodes)\n",
    "    property_qnodes_count[prop]['Correct'] = nodes"
   ]
  },
  {
   "cell_type": "code",
   "execution_count": null,
   "id": "08feea3d",
   "metadata": {},
   "outputs": [],
   "source": [
    "for prop in property_mapping.keys():\n",
    "    if not os.path.exists(os.environ['%s_INCORRECT' % prop]):\n",
    "        property_lines_count[prop]['Incorrect'] = 0\n",
    "        property_qnodes_count[prop]['Incorrect'] = 0\n",
    "        continue\n",
    "    if os.path.getsize(os.environ['%s_INCORRECT' % prop]) == 0:\n",
    "        property_lines_count[prop]['Incorrect'] = 0\n",
    "        property_qnodes_count[prop]['Incorrect'] = 0\n",
    "        continue\n",
    "    # count in lines\n",
    "    lines = subprocess.check_output(\"wc -l < $%s_INCORRECT\" % prop, shell=True)\n",
    "    lines = lines.decode(\"utf-8\").strip()\n",
    "    lines = int(lines) - 1\n",
    "    property_lines_count[prop]['Incorrect'] = lines\n",
    "    print(\"%s -> %d\" % (prop, lines))\n",
    "    # count in qnodes\n",
    "    command = \"kgtk query -i $%s_INCORRECT --match '(qnode)-[]->()' --return 'count(distinct qnode)'\" % prop\n",
    "    nodes = subprocess.check_output(command, shell=True)\n",
    "    nodes = nodes.decode(\"utf-8\").strip().split('\\n')[1]\n",
    "    nodes = int(nodes)\n",
    "    property_qnodes_count[prop]['Incorrect'] = nodes"
   ]
  },
  {
   "cell_type": "code",
   "execution_count": null,
   "id": "6bc0a738",
   "metadata": {
    "scrolled": true
   },
   "outputs": [],
   "source": [
    "for prop, val in property_mapping.items():\n",
    "    \n",
    "    output_1 = subprocess.check_output(\"wc -l < $%s_CORRECT\" % prop, shell=True)\n",
    "    output_1 = output_1.decode(\"utf-8\").strip()\n",
    "    correct_lines = int(output_1) - 1\n",
    "    # property_results_count[prop]['Correct'] = correct_lines\n",
    "    \n",
    "    output_2 = subprocess.check_output(\"wc -l < $%s_INCORRECT\" % prop, shell=True)\n",
    "    output_2 = output_2.decode(\"utf-8\").strip()\n",
    "    incorrect_lines = int(output_2) - 1\n",
    "    # property_results_count[prop]['Incorrect'] = incorrect_lines\n",
    "    \n",
    "    output_3 = subprocess.check_output(\"wc -l < $%s_QNODES\" % prop, shell=True)\n",
    "    output_3 = output_3.decode(\"utf-8\").strip()\n",
    "    qnode_lines = int(output_3) - 1\n",
    "    # property_results_count[prop].append(qnode_lines) \n",
    "    \n",
    "    print(\"%s: correct %d; incorrect %d; total %d\" % (prop, correct_lines, incorrect_lines, qnode_lines))\n",
    "    \n",
    "    assert correct_lines + incorrect_lines == qnode_lines, \"The sum is not correct!\""
   ]
  },
  {
   "cell_type": "markdown",
   "id": "d396d2b0",
   "metadata": {},
   "source": [
    "# Step (8). Output statistics"
   ]
  },
  {
   "cell_type": "markdown",
   "id": "6ca15d0e",
   "metadata": {},
   "source": [
    "## Runtime"
   ]
  },
  {
   "cell_type": "code",
   "execution_count": null,
   "id": "46daae6d",
   "metadata": {},
   "outputs": [],
   "source": [
    "# df = pd.DataFrame.from_dict(runtime_copy, orient='index', \n",
    "#                             columns=['Entity Resolution', 'Property Mapping', 'Query Wikidata Infobox', 'Filter new results', 'Datatype Filtering', 'Quality Checking'])\n",
    "# df.to_csv('/nas/home/bohuizha/KG/hunger-for-knowledge/batch_output/runtime.csv', sep=',')\n",
    "with open(os.environ['RUNTIME'], 'w', encoding='utf-8') as f:\n",
    "    json.dump(property_runtime, f, ensure_ascii=False, indent=4)"
   ]
  },
  {
   "cell_type": "markdown",
   "id": "68213e4a",
   "metadata": {},
   "source": [
    "## Results count"
   ]
  },
  {
   "cell_type": "code",
   "execution_count": null,
   "id": "0121c2ff",
   "metadata": {},
   "outputs": [],
   "source": [
    "with open(os.environ['LINE_STATISTICS'], 'w', encoding='utf-8') as f:\n",
    "    json.dump(property_lines_count, f, ensure_ascii=False, indent=4)"
   ]
  },
  {
   "cell_type": "code",
   "execution_count": null,
   "id": "6ec4958e",
   "metadata": {},
   "outputs": [],
   "source": [
    "with open(os.environ['QNODE_STATISTICS'], 'w', encoding='utf-8') as f:\n",
    "    json.dump(property_qnodes_count, f, ensure_ascii=False, indent=4)"
   ]
  },
  {
   "cell_type": "code",
   "execution_count": null,
   "id": "3271de6d",
   "metadata": {},
   "outputs": [],
   "source": []
  }
 ],
 "metadata": {
  "kernelspec": {
   "display_name": "Python 3 (ipykernel)",
   "language": "python",
   "name": "python3"
  },
  "language_info": {
   "codemirror_mode": {
    "name": "ipython",
    "version": 3
   },
   "file_extension": ".py",
   "mimetype": "text/x-python",
   "name": "python",
   "nbconvert_exporter": "python",
   "pygments_lexer": "ipython3",
   "version": "3.7.10"
  }
 },
 "nbformat": 4,
 "nbformat_minor": 5
}
