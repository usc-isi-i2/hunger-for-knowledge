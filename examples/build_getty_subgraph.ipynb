{
 "cells": [
  {
   "cell_type": "markdown",
   "id": "e01fcd35",
   "metadata": {},
   "source": [
    "# Getty Subgraph Tutorial\n",
    "In this notebook, we build a subgraph based on a set of Getty ULAN explicit files and use it in the hunger-for-knowledge procedure for place of birth in Wikidata and Getty."
   ]
  },
  {
   "cell_type": "code",
   "execution_count": 1,
   "id": "1e844127",
   "metadata": {},
   "outputs": [],
   "source": [
    "import os\n",
    "import json\n",
    "import pandas as pd\n",
    "\n",
    "from kgtk.functions import kgtk, kypher"
   ]
  },
  {
   "cell_type": "markdown",
   "id": "ca6ded1c",
   "metadata": {},
   "source": [
    "## Step 0: Set up environment paths"
   ]
  },
  {
   "cell_type": "code",
   "execution_count": 2,
   "id": "dcd2f539",
   "metadata": {
    "scrolled": false
   },
   "outputs": [
    {
     "name": "stdout",
     "output_type": "stream",
     "text": [
      "DATABASE: \"/nas/home/bohuizha/KG/hunger-for-knowledge/data/\"\n",
      "ULAN: \"/nas/home/bohuizha/KG/hunger-for-knowledge/data/gvp/ULAN/\"\n",
      "ULAN_SUBJECTS: \"/nas/home/bohuizha/KG/hunger-for-knowledge/data/gvp/ULAN/Subjects.tsv\"\n",
      "ULAN_TERMS: \"/nas/home/bohuizha/KG/hunger-for-knowledge/data/gvp/ULAN/Terms.tsv\"\n",
      "AGENTMAP: \"/nas/home/bohuizha/KG/hunger-for-knowledge/data/gvp/ULAN/AgentMap.tsv\"\n",
      "BIOGRAPHIES: \"/nas/home/bohuizha/KG/hunger-for-knowledge/data/gvp/ULAN/Biographies.tsv\"\n",
      "ULAN_ALIGN: \"/nas/home/bohuizha/KG/hunger-for-knowledge/data/gvp/ULAN/wiki.align.tsv\"\n",
      "ULAN_FULL_ALIGN: \"/nas/home/bohuizha/KG/hunger-for-knowledge/data/gvp/ULAN/full.align.tsv\"\n",
      "ULAN_FULL_ALIGN_ID: \"/nas/home/bohuizha/KG/hunger-for-knowledge/data/gvp/ULAN/full.align.id.tsv\"\n",
      "TGN: \"/nas/home/bohuizha/KG/hunger-for-knowledge/data/gvp/TGN/\"\n",
      "TGN_FULL: \"/nas/home/bohuizha/KG/hunger-for-knowledge/data/gvp/TGN/full.tsv\"\n",
      "TGN_ALIGN: \"/nas/home/bohuizha/KG/hunger-for-knowledge/data/gvp/TGN/wiki.align.tsv\"\n",
      "TGN_FULL_ALIGN: \"/nas/home/bohuizha/KG/hunger-for-knowledge/data/gvp/TGN/full.align.tsv\"\n",
      "WIKIDATA: \"/nas/home/bohuizha/KG/hunger-for-knowledge/data/claims.tsv\"\n",
      "SUBGRAPH: \"/nas/home/bohuizha/KG/hunger-for-knowledge/data/gvp/subgraph/\"\n",
      "WIKI_POB: \"/nas/home/bohuizha/KG/hunger-for-knowledge/data/gvp/subgraph/wiki.pob.tsv\"\n",
      "WIKI_UNKNOWN: \"/nas/home/bohuizha/KG/hunger-for-knowledge/data/gvp/subgraph/wiki.unknown.tsv\"\n",
      "ULAN_SUBGRAPH: \"/nas/home/bohuizha/KG/hunger-for-knowledge/data/gvp/subgraph/subgraph.ulan.tsv\"\n",
      "ULAN_SUBGRAPH_ID: \"/nas/home/bohuizha/KG/hunger-for-knowledge/data/gvp/subgraph/subgraph.ulan.id.tsv\"\n",
      "WIKI_ALIGN_SAMPLE: \"/nas/home/bohuizha/KG/hunger-for-knowledge/data/gvp/subgraph/wiki.align.sample.tsv\"\n",
      "SUBJECTS_SAMPLE: \"/nas/home/bohuizha/KG/hunger-for-knowledge/data/gvp/subgraph/subjects.sample.tsv\"\n",
      "AGENTMAP_SAMPLE: \"/nas/home/bohuizha/KG/hunger-for-knowledge/data/gvp/subgraph/agentmap.sample.tsv\"\n",
      "MAPBIO_SAMPLE: \"/nas/home/bohuizha/KG/hunger-for-knowledge/data/gvp/subgraph/mapbio.sample.tsv\"\n",
      "BIO_SAMPLE: \"/nas/home/bohuizha/KG/hunger-for-knowledge/data/gvp/subgraph/bio.sample.tsv\"\n",
      "POBMAP_SAMPLE: \"/nas/home/bohuizha/KG/hunger-for-knowledge/data/gvp/subgraph/pobmap.sample.tsv\"\n",
      "PAIRS: \"/nas/home/bohuizha/KG/hunger-for-knowledge/data/gvp/subgraph/pairs.tsv\"\n",
      "PATHS: \"/nas/home/bohuizha/KG/hunger-for-knowledge/data/gvp/subgraph/paths.tsv\"\n",
      "PATHS_LABEL: \"/nas/home/bohuizha/KG/hunger-for-knowledge/data/gvp/subgraph/paths.label.tsv\"\n",
      "GETTY_POB: \"/nas/home/bohuizha/KG/hunger-for-knowledge/data/gvp/subgraph/getty.pob.tsv\"\n",
      "GETTY_MAPPED_POB: \"/nas/home/bohuizha/KG/hunger-for-knowledge/data/gvp/subgraph/getty.mapped.tsv\"\n",
      "CORRECT: \"/nas/home/bohuizha/KG/hunger-for-knowledge/data/gvp/subgraph/correct.tsv\"\n",
      "UNKNOWN: \"/nas/home/bohuizha/KG/hunger-for-knowledge/data/gvp/subgraph/unknown.tsv\"\n"
     ]
    }
   ],
   "source": [
    "# We will define environment variables to hold the full paths to the files as we will use them in the shell commands\n",
    "kgtk_environment_variables = []\n",
    "\n",
    "# Folder where database files store\n",
    "data_path = \"/nas/home/bohuizha/KG/hunger-for-knowledge/data/\"\n",
    "os.environ['DATABASE'] = data_path\n",
    "kgtk_environment_variables.append('DATABASE')\n",
    "\n",
    "# Wikidata (all is much less than claims)\n",
    "os.environ['WIKIDATA'] = data_path + \"claims.tsv\"\n",
    "kgtk_environment_variables.append('WIKIDATA')\n",
    "\n",
    "# Label file of Wikidata\n",
    "os.environ['KGTK_LABEL_FILE'] = data_path + \"labels.en.tsv\"\n",
    "kgtk_environment_variables.append('KGTK_LABEL_FILE')\n",
    "\n",
    "# P31\n",
    "os.environ['P31'] = data_path + \"P31.tsv\"\n",
    "kgtk_environment_variables.append('P31')\n",
    "\n",
    "# P279star\n",
    "os.environ['P279STAR'] = data_path + \"P279star.tsv\"\n",
    "kgtk_environment_variables.append('P279STAR')\n",
    "\n",
    "# Folder of ULAN\n",
    "ulan_path = data_path + \"gvp/ULAN/\"\n",
    "os.environ['ULAN'] = ulan_path\n",
    "kgtk_environment_variables.append('ULAN')\n",
    "\n",
    "# Full file provided by Getty ULAN, contains all explicit files\n",
    "# os.environ['ULAN_FULL'] = ulan_path + \"full.tsv\"\n",
    "# kgtk_environment_variables.append('ULAN_FULL')\n",
    "\n",
    "# Explicit file Subjects\n",
    "os.environ['ULAN_SUBJECTS'] = ulan_path + \"Subjects.tsv\"\n",
    "kgtk_environment_variables.append('ULAN_SUBJECTS')\n",
    "\n",
    "# Explicit file Terms\n",
    "os.environ['ULAN_TERMS'] = ulan_path + \"Terms.tsv\"\n",
    "kgtk_environment_variables.append('ULAN_TERMS')\n",
    "\n",
    "# Explicit file AgentMap\n",
    "os.environ['AGENTMAP'] = ulan_path + \"AgentMap.tsv\"\n",
    "kgtk_environment_variables.append('AGENTMAP')\n",
    "\n",
    "# Explicit file Biographies\n",
    "os.environ['BIOGRAPHIES'] = ulan_path + \"Biographies.tsv\"\n",
    "kgtk_environment_variables.append('BIOGRAPHIES')\n",
    "\n",
    "ulan_wikialign_path = ulan_path + \"wiki.align.tsv\"\n",
    "os.environ['ULAN_ALIGN'] = ulan_wikialign_path\n",
    "kgtk_environment_variables.append('ULAN_ALIGN')\n",
    "\n",
    "os.environ['ULAN_FULL_ALIGN'] = ulan_path + \"full.align.tsv\"\n",
    "kgtk_environment_variables.append('ULAN_FULL_ALIGN')\n",
    "\n",
    "os.environ['ULAN_FULL_ALIGN_ID'] = ulan_path + \"full.align.id.tsv\"\n",
    "kgtk_environment_variables.append('ULAN_FULL_ALIGN_ID')\n",
    "\n",
    "# Folder of TGN\n",
    "tgn_path = data_path + \"gvp/TGN/\"\n",
    "os.environ['TGN'] = tgn_path\n",
    "kgtk_environment_variables.append('TGN')\n",
    "\n",
    "os.environ['TGN_FULL'] = tgn_path + \"full.tsv\"\n",
    "kgtk_environment_variables.append('TGN_FULL')\n",
    "\n",
    "os.environ['TGN_ALIGN'] = tgn_path + \"wiki.align.tsv\"\n",
    "kgtk_environment_variables.append('TGN_ALIGN')\n",
    "\n",
    "os.environ['TGN_FULL_ALIGN'] = tgn_path + \"full.align.tsv\"\n",
    "kgtk_environment_variables.append('TGN_FULL_ALIGN')\n",
    "\n",
    "# Output\n",
    "subgraph_path = data_path + \"gvp/subgraph/\"\n",
    "if not os.path.exists(subgraph_path):\n",
    "    os.mkdir(subgraph_path)\n",
    "os.environ['SUBGRAPH'] = subgraph_path\n",
    "kgtk_environment_variables.append('SUBGRAPH')\n",
    "\n",
    "output_names = {\n",
    "    \"wiki_pob\": \"wiki.pob.tsv\",\n",
    "    \"wiki_unknown\": \"wiki.unknown.tsv\",\n",
    "    \"ulan_subgraph\": \"subgraph.ulan.tsv\",\n",
    "    \"ulan_subgraph_id\": \"subgraph.ulan.id.tsv\",\n",
    "    \"wiki_align_sample\": \"wiki.align.sample.tsv\",\n",
    "    \"subjects_sample_1\": \"subjects.sample.1.tsv\",\n",
    "    \"subjects_sample_2\": \"subjects.sample.2.tsv\",\n",
    "    \"agentmap_sample_1\": \"agentmap.sample.1.tsv\",\n",
    "    \"agentmap_sample_2\": \"agentmap.sample.2.tsv\",\n",
    "    \"mapbio_sample\": \"mapbio.sample.tsv\",\n",
    "    \"bio_sample\": \"bio.sample.tsv\",\n",
    "    \"pobmap_sample\": \"pobmap.sample.tsv\",\n",
    "    \"pairs\": \"pairs.tsv\",\n",
    "    \"paths\": \"paths.tsv\",\n",
    "    \"paths_label\": \"paths.label.tsv\",\n",
    "    \"getty_pob\": \"getty.pob.tsv\",\n",
    "    \"getty_mapped_pob\": \"getty.mapped.tsv\",\n",
    "    \"correct\": \"correct.tsv\",\n",
    "    \"unknown\": \"unknown.tsv\"\n",
    "}\n",
    "\n",
    "for key, value in output_names.items():\n",
    "    variable = key.upper()\n",
    "    os.environ[variable] = os.path.join(subgraph_path, value)\n",
    "    kgtk_environment_variables.append(variable)\n",
    "\n",
    "for variable in kgtk_environment_variables:\n",
    "    print(\"{}: \\\"{}\\\"\".format(variable, os.environ[variable]))"
   ]
  },
  {
   "cell_type": "markdown",
   "id": "0d3348ad",
   "metadata": {},
   "source": [
    "## Step 1: Sample ULAN IDs\n",
    "Sample ULAN IDs both in Subjects (ULAN) and Wikidata Alignment:"
   ]
  },
  {
   "cell_type": "code",
   "execution_count": 3,
   "id": "ff098f7d",
   "metadata": {},
   "outputs": [
    {
     "name": "stdout",
     "output_type": "stream",
     "text": [
      "CPU times: user 7.18 ms, sys: 21.1 ms, total: 28.3 ms\n",
      "Wall time: 3.12 s\n"
     ]
    }
   ],
   "source": [
    "%%time\n",
    "kgtk(\"\"\"\n",
    "    query -i $ULAN_ALIGN $ULAN_SUBJECTS \n",
    "        --match 'w: (ulanid)-[]->(), s: (ulanid)-[p]->(v)'\n",
    "        --return 'distinct ulanid, p.label, v'\n",
    "        --limit 2500\n",
    "        -o $SUBJECTS_SAMPLE\n",
    "    \"\"\")"
   ]
  },
  {
   "cell_type": "markdown",
   "id": "d97be4a7",
   "metadata": {},
   "source": [
    "Count how many distinct ULAN IDs:"
   ]
  },
  {
   "cell_type": "code",
   "execution_count": 4,
   "id": "bf7cd9d7",
   "metadata": {},
   "outputs": [
    {
     "data": {
      "text/html": [
       "<div>\n",
       "<style scoped>\n",
       "    .dataframe tbody tr th:only-of-type {\n",
       "        vertical-align: middle;\n",
       "    }\n",
       "\n",
       "    .dataframe tbody tr th {\n",
       "        vertical-align: top;\n",
       "    }\n",
       "\n",
       "    .dataframe thead th {\n",
       "        text-align: right;\n",
       "    }\n",
       "</style>\n",
       "<table border=\"1\" class=\"dataframe\">\n",
       "  <thead>\n",
       "    <tr style=\"text-align: right;\">\n",
       "      <th></th>\n",
       "      <th>count</th>\n",
       "    </tr>\n",
       "  </thead>\n",
       "  <tbody>\n",
       "    <tr>\n",
       "      <th>0</th>\n",
       "      <td>278</td>\n",
       "    </tr>\n",
       "  </tbody>\n",
       "</table>\n",
       "</div>"
      ],
      "text/plain": [
       "   count\n",
       "0    278"
      ]
     },
     "execution_count": 4,
     "metadata": {},
     "output_type": "execute_result"
    }
   ],
   "source": [
    "kgtk(\"\"\"\n",
    "    query -i $SUBJECTS_SAMPLE\n",
    "        --match '(ulanid)-[]->()'\n",
    "        --return 'count(distinct ulanid) as count'\n",
    "    \"\"\")"
   ]
  },
  {
   "cell_type": "markdown",
   "id": "149f3b7d",
   "metadata": {},
   "source": [
    "## Step 2: Collect Information in Separate Files"
   ]
  },
  {
   "cell_type": "markdown",
   "id": "0b77188a",
   "metadata": {},
   "source": [
    "### AgentMap"
   ]
  },
  {
   "cell_type": "code",
   "execution_count": 5,
   "id": "241f3c73",
   "metadata": {},
   "outputs": [
    {
     "name": "stdout",
     "output_type": "stream",
     "text": [
      "CPU times: user 4.93 ms, sys: 11.2 ms, total: 16.1 ms\n",
      "Wall time: 2.24 s\n"
     ]
    }
   ],
   "source": [
    "%%time\n",
    "kgtk(\"\"\"\n",
    "    query -i $SUBJECTS_SAMPLE $AGENTMAP \n",
    "        --match 's: (ulanid)-[]->(), \\\n",
    "                 a: (ulanid)-[p]->(v)'\n",
    "        --return 'distinct ulanid, p.label, v'\n",
    "        -o $AGENTMAP_SAMPLE\n",
    "    \"\"\")"
   ]
  },
  {
   "cell_type": "markdown",
   "id": "d735fff8",
   "metadata": {},
   "source": [
    "### Biographies"
   ]
  },
  {
   "cell_type": "code",
   "execution_count": 124,
   "id": "be960bc1",
   "metadata": {},
   "outputs": [
    {
     "name": "stdout",
     "output_type": "stream",
     "text": [
      "CPU times: user 4.93 ms, sys: 11.1 ms, total: 16 ms\n",
      "Wall time: 2.38 s\n"
     ]
    }
   ],
   "source": [
    "%%time\n",
    "kgtk(\"\"\"\n",
    "    query -i $AGENTMAP_SAMPLE $BIOGRAPHIES \n",
    "        --match 'agentmap: ()-[]->(ulanagent), \\\n",
    "                 Biographies: (ulanagent)-[p]->(v)'\n",
    "        --return 'distinct ulanagent as node1, p.label as label, v as node2'\n",
    "        -o $MAPBIO_SAMPLE\n",
    "    \"\"\")"
   ]
  },
  {
   "cell_type": "code",
   "execution_count": 125,
   "id": "f152c804",
   "metadata": {},
   "outputs": [
    {
     "name": "stdout",
     "output_type": "stream",
     "text": [
      "CPU times: user 3.28 ms, sys: 13.5 ms, total: 16.8 ms\n",
      "Wall time: 2.88 s\n"
     ]
    }
   ],
   "source": [
    "%%time\n",
    "kgtk(\"\"\"\n",
    "    query -i $MAPBIO_SAMPLE $BIOGRAPHIES \n",
    "        --match 'mapbio: ()-[]->(ulanbio), \\\n",
    "                 Biographies: (ulanbio)-[p]->(v)'\n",
    "        --return 'distinct ulanbio as node1, p.label as label, v as node2'\n",
    "        -o $BIO_SAMPLE\n",
    "    \"\"\")"
   ]
  },
  {
   "cell_type": "markdown",
   "id": "f0176e0e",
   "metadata": {},
   "source": [
    "Check actual birthplaces have in this subgraph:"
   ]
  },
  {
   "cell_type": "code",
   "execution_count": 126,
   "id": "f19dcad6",
   "metadata": {},
   "outputs": [
    {
     "name": "stdout",
     "output_type": "stream",
     "text": [
      "CPU times: user 53.2 ms, sys: 20.4 ms, total: 73.6 ms\n",
      "Wall time: 2.57 s\n"
     ]
    },
    {
     "data": {
      "text/html": [
       "<div>\n",
       "<style scoped>\n",
       "    .dataframe tbody tr th:only-of-type {\n",
       "        vertical-align: middle;\n",
       "    }\n",
       "\n",
       "    .dataframe tbody tr th {\n",
       "        vertical-align: top;\n",
       "    }\n",
       "\n",
       "    .dataframe thead th {\n",
       "        text-align: right;\n",
       "    }\n",
       "</style>\n",
       "<table border=\"1\" class=\"dataframe\">\n",
       "  <thead>\n",
       "    <tr style=\"text-align: right;\">\n",
       "      <th></th>\n",
       "      <th>node1</th>\n",
       "      <th>label</th>\n",
       "      <th>node2</th>\n",
       "    </tr>\n",
       "  </thead>\n",
       "  <tbody>\n",
       "    <tr>\n",
       "      <th>0</th>\n",
       "      <td>ulan_bio:4000000001</td>\n",
       "      <td>schema:birthPlace</td>\n",
       "      <td>tgn:7010794-place</td>\n",
       "    </tr>\n",
       "    <tr>\n",
       "      <th>1</th>\n",
       "      <td>ulan_bio:4000000003</td>\n",
       "      <td>schema:birthPlace</td>\n",
       "      <td>tgn:7010794-place</td>\n",
       "    </tr>\n",
       "    <tr>\n",
       "      <th>2</th>\n",
       "      <td>ulan_bio:4000000004</td>\n",
       "      <td>schema:birthPlace</td>\n",
       "      <td>tgn:7008546-place</td>\n",
       "    </tr>\n",
       "    <tr>\n",
       "      <th>3</th>\n",
       "      <td>ulan_bio:4000000009</td>\n",
       "      <td>schema:birthPlace</td>\n",
       "      <td>tgn:7007269-place</td>\n",
       "    </tr>\n",
       "    <tr>\n",
       "      <th>4</th>\n",
       "      <td>ulan_bio:4000000018</td>\n",
       "      <td>schema:birthPlace</td>\n",
       "      <td>tgn:7008775-place</td>\n",
       "    </tr>\n",
       "    <tr>\n",
       "      <th>...</th>\n",
       "      <td>...</td>\n",
       "      <td>...</td>\n",
       "      <td>...</td>\n",
       "    </tr>\n",
       "    <tr>\n",
       "      <th>3421</th>\n",
       "      <td>ulan_bio:4000711145</td>\n",
       "      <td>schema:birthPlace</td>\n",
       "      <td>tgn:1000062-place</td>\n",
       "    </tr>\n",
       "    <tr>\n",
       "      <th>3422</th>\n",
       "      <td>ulan_bio:4000711209</td>\n",
       "      <td>schema:birthPlace</td>\n",
       "      <td>tgn:7012392-place</td>\n",
       "    </tr>\n",
       "    <tr>\n",
       "      <th>3423</th>\n",
       "      <td>ulan_bio:4000722129</td>\n",
       "      <td>schema:birthPlace</td>\n",
       "      <td>tgn:7013628-place</td>\n",
       "    </tr>\n",
       "    <tr>\n",
       "      <th>3424</th>\n",
       "      <td>ulan_bio:4000724344</td>\n",
       "      <td>schema:birthPlace</td>\n",
       "      <td>tgn:7003980-place</td>\n",
       "    </tr>\n",
       "    <tr>\n",
       "      <th>3425</th>\n",
       "      <td>ulan_bio:4000724615</td>\n",
       "      <td>schema:birthPlace</td>\n",
       "      <td>tgn:7003980-place</td>\n",
       "    </tr>\n",
       "  </tbody>\n",
       "</table>\n",
       "<p>3426 rows × 3 columns</p>\n",
       "</div>"
      ],
      "text/plain": [
       "                    node1              label              node2\n",
       "0     ulan_bio:4000000001  schema:birthPlace  tgn:7010794-place\n",
       "1     ulan_bio:4000000003  schema:birthPlace  tgn:7010794-place\n",
       "2     ulan_bio:4000000004  schema:birthPlace  tgn:7008546-place\n",
       "3     ulan_bio:4000000009  schema:birthPlace  tgn:7007269-place\n",
       "4     ulan_bio:4000000018  schema:birthPlace  tgn:7008775-place\n",
       "...                   ...                ...                ...\n",
       "3421  ulan_bio:4000711145  schema:birthPlace  tgn:1000062-place\n",
       "3422  ulan_bio:4000711209  schema:birthPlace  tgn:7012392-place\n",
       "3423  ulan_bio:4000722129  schema:birthPlace  tgn:7013628-place\n",
       "3424  ulan_bio:4000724344  schema:birthPlace  tgn:7003980-place\n",
       "3425  ulan_bio:4000724615  schema:birthPlace  tgn:7003980-place\n",
       "\n",
       "[3426 rows x 3 columns]"
      ]
     },
     "execution_count": 126,
     "metadata": {},
     "output_type": "execute_result"
    }
   ],
   "source": [
    "%%time\n",
    "kgtk(\"\"\"\n",
    "    query -i $BIO_SAMPLE\n",
    "        --match '(ulanbio)-[p]->(v)'\n",
    "        --where 'p.label = \"schema:birthPlace\"'\n",
    "        --return 'distinct ulanbio as node1, p.label as label, v as node2'\n",
    "    \"\"\")"
   ]
  },
  {
   "cell_type": "markdown",
   "id": "fbe1d0dc",
   "metadata": {},
   "source": [
    "### TGN-Wikidata Alignment"
   ]
  },
  {
   "cell_type": "code",
   "execution_count": 127,
   "id": "3361131a",
   "metadata": {},
   "outputs": [
    {
     "name": "stdout",
     "output_type": "stream",
     "text": [
      "CPU times: user 4.84 ms, sys: 8.93 ms, total: 13.8 ms\n",
      "Wall time: 2.26 s\n"
     ]
    }
   ],
   "source": [
    "%%time\n",
    "kgtk(\"\"\"\n",
    "    query -i $BIO_SAMPLE $TGN_ALIGN \n",
    "        --match 'b: ()-[]->(tgnplace), \\\n",
    "                 w: (tgnplace)-[p]->(v)'\n",
    "        --return 'distinct tgnplace as node1, p.label as label, v as node2'\n",
    "        -o $POBMAP_SAMPLE\n",
    "    \"\"\")"
   ]
  },
  {
   "cell_type": "markdown",
   "id": "b0afdaee",
   "metadata": {},
   "source": [
    "## Step 3:  Concate into Subgraph and Add-id"
   ]
  },
  {
   "cell_type": "markdown",
   "id": "35780a4e",
   "metadata": {},
   "source": [
    "Concatenate:"
   ]
  },
  {
   "cell_type": "code",
   "execution_count": 129,
   "id": "51f7e61a",
   "metadata": {},
   "outputs": [
    {
     "name": "stdout",
     "output_type": "stream",
     "text": [
      "CPU times: user 5.32 ms, sys: 8.54 ms, total: 13.9 ms\n",
      "Wall time: 2.35 s\n"
     ]
    }
   ],
   "source": [
    "%%time\n",
    "kgtk(\"\"\"\n",
    "    cat -i $SUBJECTS_SAMPLE $AGENTMAP_SAMPLE $MAPBIO_SAMPLE $BIO_SAMPLE $POBMAP_SAMPLE\n",
    "        -o $ULAN_SUBGRAPH\n",
    "    \"\"\")"
   ]
  },
  {
   "cell_type": "markdown",
   "id": "0a9e88b0",
   "metadata": {},
   "source": [
    "Add ids:"
   ]
  },
  {
   "cell_type": "code",
   "execution_count": 130,
   "id": "a8b27c0f",
   "metadata": {},
   "outputs": [
    {
     "name": "stdout",
     "output_type": "stream",
     "text": [
      "CPU times: user 2.39 ms, sys: 11.6 ms, total: 14 ms\n",
      "Wall time: 2.66 s\n"
     ]
    }
   ],
   "source": [
    "%%time\n",
    "kgtk(\"\"\"\n",
    "    add-id -i $ULAN_SUBGRAPH --id-style node1-label-node2 --id-separator \":\" -o $ULAN_SUBGRAPH_ID\n",
    "    \"\"\")"
   ]
  },
  {
   "cell_type": "code",
   "execution_count": 159,
   "id": "997880b9",
   "metadata": {},
   "outputs": [
    {
     "name": "stdout",
     "output_type": "stream",
     "text": [
      "12228876 /nas/home/bohuizha/KG/hunger-for-knowledge/data/gvp/subgraph/subgraph.ulan.id.tsv\r\n"
     ]
    }
   ],
   "source": [
    "!wc -l $ULAN_SUBGRAPH_ID"
   ]
  },
  {
   "cell_type": "markdown",
   "id": "42b7c602",
   "metadata": {},
   "source": [
    "## Step 4: Build Pairs (from Wikidata Results)"
   ]
  },
  {
   "cell_type": "code",
   "execution_count": 134,
   "id": "67843a95",
   "metadata": {},
   "outputs": [
    {
     "name": "stdout",
     "output_type": "stream",
     "text": [
      "CPU times: user 8.16 ms, sys: 11.2 ms, total: 19.4 ms\n",
      "Wall time: 13.6 s\n"
     ]
    }
   ],
   "source": [
    "%%time\n",
    "kgtk(\"\"\"\n",
    "    query -i $ULAN_ALIGN $WIKIDATA\n",
    "        --match 'w: (ulanid)-[]->(qnode), \n",
    "                 a: (qnode)-[:P19]->(pob)' \n",
    "        --return 'distinct ulanid as source, pob as target'\n",
    "        -o $PAIRS\n",
    "    \"\"\")"
   ]
  },
  {
   "cell_type": "markdown",
   "id": "765e964b",
   "metadata": {},
   "source": [
    "## Step 5: `kgtk paths` Query"
   ]
  },
  {
   "cell_type": "code",
   "execution_count": 161,
   "id": "8a65cb7b",
   "metadata": {},
   "outputs": [
    {
     "name": "stdout",
     "output_type": "stream",
     "text": [
      "CPU times: user 27.2 s, sys: 13.5 s, total: 40.7 s\n",
      "Wall time: 12h 51min 56s\n"
     ]
    }
   ],
   "source": [
    "%%time\n",
    "kgtk(\"\"\"\n",
    "    paths --max_hops 4\n",
    "        --path-file $PAIRS\n",
    "        --path-mode NONE \n",
    "        --path-source source\n",
    "        --path-target target\n",
    "        -i $ULAN_SUBGRAPH_ID\n",
    "        --statistics-only\n",
    "        -o $PATHS\n",
    "    \"\"\")"
   ]
  },
  {
   "cell_type": "markdown",
   "id": "17cfcd61",
   "metadata": {},
   "source": [
    "## Step 6: Select Top 1 Property Chain"
   ]
  },
  {
   "cell_type": "code",
   "execution_count": 162,
   "id": "d101bb64",
   "metadata": {},
   "outputs": [
    {
     "data": {
      "text/html": [
       "<div>\n",
       "<style scoped>\n",
       "    .dataframe tbody tr th:only-of-type {\n",
       "        vertical-align: middle;\n",
       "    }\n",
       "\n",
       "    .dataframe tbody tr th {\n",
       "        vertical-align: top;\n",
       "    }\n",
       "\n",
       "    .dataframe thead th {\n",
       "        text-align: right;\n",
       "    }\n",
       "</style>\n",
       "<table border=\"1\" class=\"dataframe\">\n",
       "  <thead>\n",
       "    <tr style=\"text-align: right;\">\n",
       "      <th></th>\n",
       "      <th>node1</th>\n",
       "      <th>label</th>\n",
       "      <th>node2</th>\n",
       "      <th>id</th>\n",
       "    </tr>\n",
       "  </thead>\n",
       "  <tbody>\n",
       "    <tr>\n",
       "      <th>0</th>\n",
       "      <td>p0</td>\n",
       "      <td>0</td>\n",
       "      <td>ulan:500023949:foaf:focus:ulan:500023949-agent</td>\n",
       "      <td>p0-0-0</td>\n",
       "    </tr>\n",
       "    <tr>\n",
       "      <th>1</th>\n",
       "      <td>p0</td>\n",
       "      <td>1</td>\n",
       "      <td>ulan:500023949-agent:gvp:biographyPreferred:ul...</td>\n",
       "      <td>p0-1-1</td>\n",
       "    </tr>\n",
       "    <tr>\n",
       "      <th>2</th>\n",
       "      <td>p0</td>\n",
       "      <td>2</td>\n",
       "      <td>ulan_bio:4000061264:schema:birthPlace:tgn:7008...</td>\n",
       "      <td>p0-2-2</td>\n",
       "    </tr>\n",
       "    <tr>\n",
       "      <th>3</th>\n",
       "      <td>p0</td>\n",
       "      <td>3</td>\n",
       "      <td>tgn:7008038-place:skos:exactMatch:Q90</td>\n",
       "      <td>p0-3-3</td>\n",
       "    </tr>\n",
       "    <tr>\n",
       "      <th>4</th>\n",
       "      <td>p1</td>\n",
       "      <td>0</td>\n",
       "      <td>ulan:500023949:foaf:focus:ulan:500023949-agent</td>\n",
       "      <td>p1-0-4</td>\n",
       "    </tr>\n",
       "    <tr>\n",
       "      <th>...</th>\n",
       "      <td>...</td>\n",
       "      <td>...</td>\n",
       "      <td>...</td>\n",
       "      <td>...</td>\n",
       "    </tr>\n",
       "    <tr>\n",
       "      <th>114715</th>\n",
       "      <td>p28678</td>\n",
       "      <td>3</td>\n",
       "      <td>tgn:7004446-place:skos:exactMatch:Q365</td>\n",
       "      <td>p28678-3-114715</td>\n",
       "    </tr>\n",
       "    <tr>\n",
       "      <th>114716</th>\n",
       "      <td>p28679</td>\n",
       "      <td>0</td>\n",
       "      <td>ulan:500026801:foaf:focus:ulan:500026801-agent</td>\n",
       "      <td>p28679-0-114716</td>\n",
       "    </tr>\n",
       "    <tr>\n",
       "      <th>114717</th>\n",
       "      <td>p28679</td>\n",
       "      <td>1</td>\n",
       "      <td>ulan:500026801-agent:gvp:biographyNonPreferred...</td>\n",
       "      <td>p28679-1-114717</td>\n",
       "    </tr>\n",
       "    <tr>\n",
       "      <th>114718</th>\n",
       "      <td>p28679</td>\n",
       "      <td>2</td>\n",
       "      <td>ulan_bio:4000704540:schema:birthPlace:tgn:7004...</td>\n",
       "      <td>p28679-2-114718</td>\n",
       "    </tr>\n",
       "    <tr>\n",
       "      <th>114719</th>\n",
       "      <td>p28679</td>\n",
       "      <td>3</td>\n",
       "      <td>tgn:7004335-place:skos:exactMatch:Q2999</td>\n",
       "      <td>p28679-3-114719</td>\n",
       "    </tr>\n",
       "  </tbody>\n",
       "</table>\n",
       "<p>114720 rows × 4 columns</p>\n",
       "</div>"
      ],
      "text/plain": [
       "         node1  label                                              node2  \\\n",
       "0           p0      0     ulan:500023949:foaf:focus:ulan:500023949-agent   \n",
       "1           p0      1  ulan:500023949-agent:gvp:biographyPreferred:ul...   \n",
       "2           p0      2  ulan_bio:4000061264:schema:birthPlace:tgn:7008...   \n",
       "3           p0      3              tgn:7008038-place:skos:exactMatch:Q90   \n",
       "4           p1      0     ulan:500023949:foaf:focus:ulan:500023949-agent   \n",
       "...        ...    ...                                                ...   \n",
       "114715  p28678      3             tgn:7004446-place:skos:exactMatch:Q365   \n",
       "114716  p28679      0     ulan:500026801:foaf:focus:ulan:500026801-agent   \n",
       "114717  p28679      1  ulan:500026801-agent:gvp:biographyNonPreferred...   \n",
       "114718  p28679      2  ulan_bio:4000704540:schema:birthPlace:tgn:7004...   \n",
       "114719  p28679      3            tgn:7004335-place:skos:exactMatch:Q2999   \n",
       "\n",
       "                     id  \n",
       "0                p0-0-0  \n",
       "1                p0-1-1  \n",
       "2                p0-2-2  \n",
       "3                p0-3-3  \n",
       "4                p1-0-4  \n",
       "...                 ...  \n",
       "114715  p28678-3-114715  \n",
       "114716  p28679-0-114716  \n",
       "114717  p28679-1-114717  \n",
       "114718  p28679-2-114718  \n",
       "114719  p28679-3-114719  \n",
       "\n",
       "[114720 rows x 4 columns]"
      ]
     },
     "execution_count": 162,
     "metadata": {},
     "output_type": "execute_result"
    }
   ],
   "source": [
    "paths = pd.read_csv(os.environ['PATHS'], sep='\\t')\n",
    "paths"
   ]
  },
  {
   "cell_type": "code",
   "execution_count": 163,
   "id": "f48e3d6d",
   "metadata": {},
   "outputs": [
    {
     "data": {
      "text/html": [
       "<div>\n",
       "<style scoped>\n",
       "    .dataframe tbody tr th:only-of-type {\n",
       "        vertical-align: middle;\n",
       "    }\n",
       "\n",
       "    .dataframe tbody tr th {\n",
       "        vertical-align: top;\n",
       "    }\n",
       "\n",
       "    .dataframe thead th {\n",
       "        text-align: right;\n",
       "    }\n",
       "</style>\n",
       "<table border=\"1\" class=\"dataframe\">\n",
       "  <thead>\n",
       "    <tr style=\"text-align: right;\">\n",
       "      <th></th>\n",
       "      <th>node1</th>\n",
       "      <th>label</th>\n",
       "      <th>node2</th>\n",
       "      <th>id</th>\n",
       "    </tr>\n",
       "  </thead>\n",
       "  <tbody>\n",
       "    <tr>\n",
       "      <th>0</th>\n",
       "      <td>p0</td>\n",
       "      <td>0</td>\n",
       "      <td>foaf:focus</td>\n",
       "      <td>p0-0-0</td>\n",
       "    </tr>\n",
       "    <tr>\n",
       "      <th>1</th>\n",
       "      <td>p0</td>\n",
       "      <td>1</td>\n",
       "      <td>gvp:biographyPreferred</td>\n",
       "      <td>p0-1-1</td>\n",
       "    </tr>\n",
       "    <tr>\n",
       "      <th>2</th>\n",
       "      <td>p0</td>\n",
       "      <td>2</td>\n",
       "      <td>schema:birthPlace</td>\n",
       "      <td>p0-2-2</td>\n",
       "    </tr>\n",
       "    <tr>\n",
       "      <th>3</th>\n",
       "      <td>p0</td>\n",
       "      <td>3</td>\n",
       "      <td>skos:exactMatch</td>\n",
       "      <td>p0-3-3</td>\n",
       "    </tr>\n",
       "    <tr>\n",
       "      <th>4</th>\n",
       "      <td>p1</td>\n",
       "      <td>0</td>\n",
       "      <td>foaf:focus</td>\n",
       "      <td>p1-0-4</td>\n",
       "    </tr>\n",
       "    <tr>\n",
       "      <th>...</th>\n",
       "      <td>...</td>\n",
       "      <td>...</td>\n",
       "      <td>...</td>\n",
       "      <td>...</td>\n",
       "    </tr>\n",
       "    <tr>\n",
       "      <th>114715</th>\n",
       "      <td>p28678</td>\n",
       "      <td>3</td>\n",
       "      <td>skos:exactMatch</td>\n",
       "      <td>p28678-3-114715</td>\n",
       "    </tr>\n",
       "    <tr>\n",
       "      <th>114716</th>\n",
       "      <td>p28679</td>\n",
       "      <td>0</td>\n",
       "      <td>foaf:focus</td>\n",
       "      <td>p28679-0-114716</td>\n",
       "    </tr>\n",
       "    <tr>\n",
       "      <th>114717</th>\n",
       "      <td>p28679</td>\n",
       "      <td>1</td>\n",
       "      <td>gvp:biographyNonPreferred</td>\n",
       "      <td>p28679-1-114717</td>\n",
       "    </tr>\n",
       "    <tr>\n",
       "      <th>114718</th>\n",
       "      <td>p28679</td>\n",
       "      <td>2</td>\n",
       "      <td>schema:birthPlace</td>\n",
       "      <td>p28679-2-114718</td>\n",
       "    </tr>\n",
       "    <tr>\n",
       "      <th>114719</th>\n",
       "      <td>p28679</td>\n",
       "      <td>3</td>\n",
       "      <td>skos:exactMatch</td>\n",
       "      <td>p28679-3-114719</td>\n",
       "    </tr>\n",
       "  </tbody>\n",
       "</table>\n",
       "<p>114720 rows × 4 columns</p>\n",
       "</div>"
      ],
      "text/plain": [
       "         node1  label                      node2               id\n",
       "0           p0      0                 foaf:focus           p0-0-0\n",
       "1           p0      1     gvp:biographyPreferred           p0-1-1\n",
       "2           p0      2          schema:birthPlace           p0-2-2\n",
       "3           p0      3            skos:exactMatch           p0-3-3\n",
       "4           p1      0                 foaf:focus           p1-0-4\n",
       "...        ...    ...                        ...              ...\n",
       "114715  p28678      3            skos:exactMatch  p28678-3-114715\n",
       "114716  p28679      0                 foaf:focus  p28679-0-114716\n",
       "114717  p28679      1  gvp:biographyNonPreferred  p28679-1-114717\n",
       "114718  p28679      2          schema:birthPlace  p28679-2-114718\n",
       "114719  p28679      3            skos:exactMatch  p28679-3-114719\n",
       "\n",
       "[114720 rows x 4 columns]"
      ]
     },
     "execution_count": 163,
     "metadata": {},
     "output_type": "execute_result"
    }
   ],
   "source": [
    "paths.node2 = paths.node2.apply(lambda x: ':'.join(x.split(':')[2:4]))\n",
    "paths"
   ]
  },
  {
   "cell_type": "code",
   "execution_count": 164,
   "id": "b9f7adcf",
   "metadata": {},
   "outputs": [],
   "source": [
    "paths.to_csv(os.environ['PATHS_LABEL'], sep='\\t', index=False)"
   ]
  },
  {
   "cell_type": "code",
   "execution_count": 165,
   "id": "845d2d66",
   "metadata": {},
   "outputs": [
    {
     "name": "stdout",
     "output_type": "stream",
     "text": [
      "node1  label  node2                      id\r\n",
      "p0     0      foaf:focus                 p0-0-0\r\n",
      "p0     1      gvp:biographyPreferred     p0-1-1\r\n",
      "p0     2      schema:birthPlace          p0-2-2\r\n",
      "p0     3      skos:exactMatch            p0-3-3\r\n",
      "p1     0      foaf:focus                 p1-0-4\r\n",
      "p1     1      gvp:biographyNonPreferred  p1-1-5\r\n",
      "p1     2      schema:deathPlace          p1-2-6\r\n",
      "p1     3      skos:exactMatch            p1-3-7\r\n",
      "p2     0      foaf:focus                 p2-0-8\r\n"
     ]
    }
   ],
   "source": [
    "!head $PATHS_LABEL | column -ts $'\\t'"
   ]
  },
  {
   "cell_type": "code",
   "execution_count": 166,
   "id": "d20ee9fa",
   "metadata": {},
   "outputs": [
    {
     "data": {
      "text/plain": [
       "node2                                                                 \n",
       "foaf:focus gvp:biographyPreferred schema:birthPlace skos:exactMatch       13978\n",
       "foaf:focus gvp:biographyNonPreferred schema:birthPlace skos:exactMatch     7932\n",
       "foaf:focus gvp:biographyPreferred schema:deathPlace skos:exactMatch        4737\n",
       "foaf:focus gvp:biographyNonPreferred schema:deathPlace skos:exactMatch     2033\n",
       "dtype: int64"
      ]
     },
     "execution_count": 166,
     "metadata": {},
     "output_type": "execute_result"
    }
   ],
   "source": [
    "paths_concat = paths.groupby(paths['node1']).agg({'node2': lambda x: ' '.join(list(x))})\n",
    "paths_concat.value_counts()"
   ]
  },
  {
   "cell_type": "markdown",
   "id": "39f1385a",
   "metadata": {},
   "source": [
    "## Step 7: Query Getty Using the Property Chain"
   ]
  },
  {
   "cell_type": "markdown",
   "id": "02130c53",
   "metadata": {},
   "source": [
    "Path: `(ulanid)-[foaf:focus]->()-[gvp:biographyPreferred]->()-[schema:birthPlace]->()-[skos:exactMatch]->(Qnode of PoB)`"
   ]
  },
  {
   "cell_type": "code",
   "execution_count": 170,
   "id": "28832ee3",
   "metadata": {},
   "outputs": [
    {
     "name": "stdout",
     "output_type": "stream",
     "text": [
      "CPU times: user 7.6 ms, sys: 20.4 ms, total: 28 ms\n",
      "Wall time: 10.1 s\n"
     ]
    }
   ],
   "source": [
    "%%time\n",
    "kgtk(\"\"\"\n",
    "    query -i $ULAN_SUBGRAPH_ID\n",
    "        --match '(ulanid)-[p0]->()-[p1]->()-[p2]->()-[p3]->(pob)'\n",
    "        --where 'p0.label = \"foaf:focus\" AND\n",
    "                 p1.label = \"gvp:biographyPreferred\" AND \n",
    "                 p2.label = \"schema:birthPlace\" AND\n",
    "                 p3.label = \"skos:exactMatch\"'\n",
    "        --return 'distinct ulanid as node1, \"birthplace\" as label, pob as node2'\n",
    "        -o $GETTY_POB\n",
    "    \"\"\")"
   ]
  },
  {
   "cell_type": "markdown",
   "id": "95d4bf05",
   "metadata": {},
   "source": [
    "## Step 8: Record and Validate Results"
   ]
  },
  {
   "cell_type": "markdown",
   "id": "3c2c1050",
   "metadata": {},
   "source": [
    "Map back to Wikidata"
   ]
  },
  {
   "cell_type": "code",
   "execution_count": null,
   "id": "0b0b1f28",
   "metadata": {},
   "outputs": [],
   "source": [
    "%%time\n",
    "kgtk(\"\"\"\n",
    "    query -i $GETTY_POB $ULAN_ALIGN\n",
    "        --match 'g: (ulanid)-[p]->(pob), \n",
    "                 w: (ulanid)-[]->(qnode)'\n",
    "        --return 'distinct qnode as node1, p.label as label, pob as node2'\n",
    "        -o $GETTY_MAPPED_POB\n",
    "    \"\"\")"
   ]
  },
  {
   "cell_type": "code",
   "execution_count": null,
   "id": "b6cfa979",
   "metadata": {},
   "outputs": [],
   "source": [
    "kgtk(\"\"\"\n",
    "    query -i $GETTY_MAPPED_POB\n",
    "        --match '(qnode)-[]->(pob)'\n",
    "        --return 'count(distinct qnode)'\n",
    "    \"\"\")"
   ]
  },
  {
   "cell_type": "markdown",
   "id": "6eee7fc3",
   "metadata": {},
   "source": [
    "Validate with Wikidata Constraints"
   ]
  },
  {
   "cell_type": "code",
   "execution_count": null,
   "id": "fded71ea",
   "metadata": {},
   "outputs": [],
   "source": [
    "%%time\n",
    "kgtk(\"\"\"\n",
    "    query -i $GETTY_MAPPED_POB $P31 $P279STAR \\\n",
    "        --match 'g: (node1)-[nodeProp]->(node2), P31: (node2)-[]->(nodex), P279star: (nodex)-[]->(par)' \\\n",
    "        --where 'par in [\"Q618123\", \"Q3895768\", \"Q24334893\", \"Q2221906\", \"Q102496\", \"Q27096213\"]' \\\n",
    "        --return 'distinct node1 as `node1`, nodeProp.label as `label`, node2 as `node2`' \\\n",
    "        -o $CORRECT\n",
    "    \"\"\")"
   ]
  },
  {
   "cell_type": "code",
   "execution_count": null,
   "id": "c337cbdf",
   "metadata": {},
   "outputs": [],
   "source": [
    "%%time\n",
    "kgtk(\"\"\"\n",
    "    ifnotexists -i $GETTY_MAPPED_POB \\\n",
    "        --filter-on $CORRECT \\\n",
    "        --input-keys node1 node2 \\\n",
    "        --filter-keys node1 node2\n",
    "    \"\"\")"
   ]
  },
  {
   "cell_type": "code",
   "execution_count": null,
   "id": "dbedafa4",
   "metadata": {},
   "outputs": [],
   "source": []
  }
 ],
 "metadata": {
  "kernelspec": {
   "display_name": "Python 3",
   "language": "python",
   "name": "python3"
  },
  "language_info": {
   "codemirror_mode": {
    "name": "ipython",
    "version": 3
   },
   "file_extension": ".py",
   "mimetype": "text/x-python",
   "name": "python",
   "nbconvert_exporter": "python",
   "pygments_lexer": "ipython3",
   "version": "3.7.10"
  }
 },
 "nbformat": 4,
 "nbformat_minor": 5
}
