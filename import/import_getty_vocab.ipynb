{
 "cells": [
  {
   "cell_type": "code",
   "execution_count": 1,
   "id": "fe6b7597",
   "metadata": {},
   "outputs": [],
   "source": [
    "import csv\n",
    "import pandas as pd"
   ]
  },
  {
   "cell_type": "markdown",
   "id": "ee279062",
   "metadata": {},
   "source": [
    "# Build namespace file for import"
   ]
  },
  {
   "cell_type": "code",
   "execution_count": 7,
   "id": "6b0a887f",
   "metadata": {},
   "outputs": [],
   "source": [
    "# namepsaces prefix come from http://vocab.getty.edu/ : \"GVP ontology\"\n",
    "namespaces = []\n",
    "namespaces.append(['xml-schema-type', 'prefix_expansion', '\"http://www.w3.org/2001/XMLSchema#\"'])\n",
    "namespaces.append(['ulan_scopeNote', 'prefix_expansion', '\"http://vocab.getty.edu/ulan/scopeNote/\"'])\n",
    "namespaces.append(['tgn_term', 'prefix_expansion', '\"http://vocab.getty.edu/tgn/term/\"'])\n",
    "namespaces.append(['rrx', 'prefix_expansion', '\"http://purl.org/r2rml-ext/\"'])\n",
    "namespaces.append(['tgn_scopeNote', 'prefix_expansion', '\"http://vocab.getty.edu/tgn/scopeNote/\"'])\n",
    "namespaces.append(['bio', 'prefix_expansion', '\"http://purl.org/vocab/bio/0.1/\"'])\n",
    "namespaces.append(['sd', 'prefix_expansion', '\"http://www.w3.org/ns/sparql-service-description#\"'])\n",
    "namespaces.append(['bibo', 'prefix_expansion', '\"http://purl.org/ontology/bibo/\"'])\n",
    "namespaces.append(['ulan', 'prefix_expansion', '\"http://vocab.getty.edu/ulan/\"'])\n",
    "namespaces.append(['voag', 'prefix_expansion', '\"http://voag.linkedmodel.org/voag#\"'])\n",
    "namespaces.append(['wv', 'prefix_expansion', '\"http://vocab.org/waiver/terms/\"'])\n",
    "namespaces.append(['rr', 'prefix_expansion', '\"http://www.w3.org/ns/r2rml#\"'])\n",
    "namespaces.append(['ulan_event', 'prefix_expansion', '\"http://vocab.getty.edu/ulan/event/\"'])\n",
    "namespaces.append(['wgs', 'prefix_expansion', '\"http://www.w3.org/2003/01/geo/wgs84_pos#\"'])\n",
    "namespaces.append(['ulan_contrib', 'prefix_expansion', '\"http://vocab.getty.edu/ulan/contrib/\"'])\n",
    "namespaces.append(['luc', 'prefix_expansion', '\"http://www.ontotext.com/owlim/lucene#\"'])\n",
    "namespaces.append(['ulan_rev', 'prefix_expansion', '\"http://vocab.getty.edu/ulan/rev/\"'])\n",
    "namespaces.append(['dcat', 'prefix_expansion', '\"http://www.w3.org/ns/dcat#\"'])\n",
    "namespaces.append(['ulan_term', 'prefix_expansion', '\"http://vocab.getty.edu/ulan/term/\"'])\n",
    "namespaces.append(['aat_scopeNote', 'prefix_expansion', '\"http://vocab.getty.edu/aat/scopeNote/\"'])\n",
    "namespaces.append(['voaf', 'prefix_expansion', '\"http://purl.org/vocommons/voaf#\"'])\n",
    "namespaces.append(['void', 'prefix_expansion', '\"http://rdfs.org/ns/void#\"'])\n",
    "namespaces.append(['aat_rel', 'prefix_expansion', '\"http://vocab.getty.edu/aat/rel/\"'])\n",
    "namespaces.append(['fmt', 'prefix_expansion', '\"http://www.w3.org/ns/formats/\"'])\n",
    "namespaces.append(['ulan_bio', 'prefix_expansion', '\"http://vocab.getty.edu/ulan/bio/\"'])\n",
    "namespaces.append(['tgn_contrib', 'prefix_expansion', '\"http://vocab.getty.edu/tgn/contrib/\"'])\n",
    "namespaces.append(['owl', 'prefix_expansion', '\"http://www.w3.org/2002/07/owl#\"'])\n",
    "namespaces.append(['skosxl', 'prefix_expansion', '\"http://www.w3.org/2008/05/skos-xl#\"'])\n",
    "namespaces.append(['sesame', 'prefix_expansion', '\"http://www.openrdf.org/schema/sesame#\"'])\n",
    "namespaces.append(['ulan_rel', 'prefix_expansion', '\"http://vocab.getty.edu/ulan/rel/\"'])\n",
    "namespaces.append(['tgn_rev', 'prefix_expansion', '\"http://vocab.getty.edu/tgn/rev/\"'])\n",
    "namespaces.append(['aat', 'prefix_expansion', '\"http://vocab.getty.edu/aat/\"'])\n",
    "namespaces.append(['tgn', 'prefix_expansion', '\"http://vocab.getty.edu/tgn/\"'])\n",
    "namespaces.append(['ontogeo', 'prefix_expansion', '\"http://www.ontotext.com/owlim/geo#\"'])\n",
    "namespaces.append(['aat_rev', 'prefix_expansion', '\"http://vocab.getty.edu/aat/rev/\"'])\n",
    "namespaces.append(['prov', 'prefix_expansion', '\"http://www.w3.org/ns/prov#\"'])\n",
    "namespaces.append(['gvp', 'prefix_expansion', '\"http://vocab.getty.edu/ontology#\"'])\n",
    "namespaces.append(['tgn_rel', 'prefix_expansion', '\"http://vocab.getty.edu/tgn/rel/\"'])\n",
    "namespaces.append(['schema', 'prefix_expansion', '\"http://schema.org/\"'])\n",
    "namespaces.append(['ptop', 'prefix_expansion', '\"http://www.ontotext.com/proton/protontop#\"'])\n",
    "namespaces.append(['wdrs', 'prefix_expansion', '\"http://www.w3.org/2007/05/powder-s#\"'])\n",
    "namespaces.append(['aat_term', 'prefix_expansion', '\"http://vocab.getty.edu/aat/term/\"'])\n",
    "namespaces.append(['rdf', 'prefix_expansion', '\"http://www.w3.org/1999/02/22-rdf-syntax-ns#\"'])\n",
    "namespaces.append(['ulan_source_rev', 'prefix_expansion', '\"http://vocab.getty.edu/ulan/source/rev/\"'])\n",
    "namespaces.append(['foaf', 'prefix_expansion', '\"http://xmlns.com/foaf/0.1/\"'])\n",
    "namespaces.append(['tgn_source', 'prefix_expansion', '\"http://vocab.getty.edu/tgn/source/\"'])\n",
    "namespaces.append(['vaem', 'prefix_expansion', '\"http://www.linkedmodel.org/schema/vaem#\"'])\n",
    "namespaces.append(['dctype', 'prefix_expansion', '\"http://purl.org/dc/dcmitype/\"'])\n",
    "namespaces.append(['dcterm', 'prefix_expansion', '\"http://purl.org/dc/terms/\"'])\n",
    "namespaces.append(['iso', 'prefix_expansion', '\"http://purl.org/iso25964/skos-thes#\"'])\n",
    "namespaces.append(['aat_contrib', 'prefix_expansion', '\"http://vocab.getty.edu/aat/contrib/\"'])\n",
    "namespaces.append(['skos', 'prefix_expansion', '\"http://www.w3.org/2004/02/skos/core#\"'])\n",
    "namespaces.append(['vdpp', 'prefix_expansion', '\"http://data.lirmm.fr/ontologies/vdpp#\"'])\n",
    "namespaces.append(['adms', 'prefix_expansion', '\"http://www.w3.org/ns/adms#\"'])\n",
    "namespaces.append(['gvp_lang', 'prefix_expansion', '\"http://vocab.getty.edu/language/\"'])\n",
    "namespaces.append(['dc', 'prefix_expansion', '\"http://purl.org/dc/elements/1.1/\"'])\n",
    "namespaces.append(['aat_source_rev', 'prefix_expansion', '\"http://vocab.getty.edu/aat/source/rev/\"'])\n",
    "namespaces.append(['vann', 'prefix_expansion', '\"http://purl.org/vocab/vann/\"'])\n",
    "namespaces.append(['vcard', 'prefix_expansion', '\"http://www.w3.org/2006/vcard/ns#\"'])\n",
    "namespaces.append(['ulan_source', 'prefix_expansion', '\"http://vocab.getty.edu/ulan/source/\"'])\n",
    "namespaces.append(['cc', 'prefix_expansion', '\"http://creativecommons.org/ns#\"'])\n",
    "namespaces.append(['rdfs', 'prefix_expansion', '\"http://www.w3.org/2000/01/rdf-schema#\"'])"
   ]
  },
  {
   "cell_type": "code",
   "execution_count": 8,
   "id": "a60338ea",
   "metadata": {},
   "outputs": [],
   "source": [
    "# save namespaces\n",
    "with open('/nas/home/bohuizha/KG/hunger-for-knowledge/data/gvp/namespaces.tsv', 'w+', newline='') as f:\n",
    "    fieldnames = ['node1', 'label', 'node2']\n",
    "    writer = csv.writer(f, delimiter='\\t', quoting=csv.QUOTE_NONE, escapechar='', quotechar='')\n",
    "    writer.writerow(fieldnames)\n",
    "    for ns in namespaces:\n",
    "        writer.writerow(ns)"
   ]
  },
  {
   "cell_type": "markdown",
   "id": "963caab3",
   "metadata": {},
   "source": [
    "# Rebuild WikidataAlignment"
   ]
  },
  {
   "cell_type": "markdown",
   "id": "57c6d8a3",
   "metadata": {},
   "source": [
    "### Query on Wikidata"
   ]
  },
  {
   "cell_type": "markdown",
   "id": "d728264e",
   "metadata": {},
   "source": [
    "Query and count for birthdate (P569) on Wikidata:"
   ]
  },
  {
   "cell_type": "code",
   "execution_count": 59,
   "id": "d43c8863",
   "metadata": {},
   "outputs": [],
   "source": [
    "CLAIMS=\"/nas/home/bohuizha/KG/hunger-for-knowledge/data/claims.tsv\"\n",
    "WIKIALIGN=\"/nas/home/bohuizha/KG/hunger-for-knowledge/data/gvp/ULAN/WikiAlign.tsv\"\n",
    "OUTPUT=\"/nas/home/bohuizha/KG/hunger-for-knowledge/data/gvp/Wikidata/birthdate.tsv\"\n",
    "\n",
    "!kgtk query -i $WIKIALIGN $CLAIMS \\\n",
    "    --match 'WikiAlign: (ulanid)-[]->(q), claims: (q)-[p:P569]->(bdate)' \\\n",
    "    --return 'distinct ulanid as node1, p.label as label, bdate as node2' \\\n",
    "    -o $OUTPUT"
   ]
  },
  {
   "cell_type": "code",
   "execution_count": 60,
   "id": "6a598272",
   "metadata": {},
   "outputs": [
    {
     "name": "stdout",
     "output_type": "stream",
     "text": [
      "count(DISTINCT graph_599_c1.\"node1\")\r\n",
      "84110\r\n"
     ]
    }
   ],
   "source": [
    "OUTPUT=\"/nas/home/bohuizha/KG/hunger-for-knowledge/data/gvp/Wikidata/birthdate.tsv\"\n",
    "\n",
    "# !wc -l $OUTPUT\n",
    "!kgtk query -i $OUTPUT \\\n",
    "    --match '(ulanid)-[]->()' \\\n",
    "    --return 'count(distinct ulanid)'"
   ]
  },
  {
   "cell_type": "code",
   "execution_count": 61,
   "id": "ebbe3858",
   "metadata": {},
   "outputs": [
    {
     "name": "stdout",
     "output_type": "stream",
     "text": [
      "node1           label  node2\r\n",
      "ulan:500023949  P569   ^1886-03-24T00:00:00Z/11\r\n",
      "ulan:500123827  P569   ^1884-04-03T00:00:00Z/11\r\n",
      "ulan:500123827  P569   ^1885-04-03T00:00:00Z/11\r\n",
      "ulan:500223082  P569   ^1944-01-27T00:00:00Z/11\r\n",
      "ulan:500108173  P569   ^1951-07-26T00:00:00Z/11\r\n",
      "ulan:500072302  P569   ^1890-06-18T00:00:00Z/11\r\n",
      "ulan:500091345  P569   ^1885-11-22T00:00:00Z/11\r\n",
      "ulan:500059872  P569   ^1953-06-07T00:00:00Z/11\r\n",
      "ulan:500020713  P569   ^1881-03-20T00:00:00Z/11\r\n"
     ]
    }
   ],
   "source": [
    "OUTPUT=\"/nas/home/bohuizha/KG/hunger-for-knowledge/data/gvp/Wikidata/birthdate.tsv\"\n",
    "\n",
    "!head $OUTPUT | column -ts $'\\t'"
   ]
  },
  {
   "cell_type": "markdown",
   "id": "ece7944e",
   "metadata": {},
   "source": [
    "Query and count for birthplace (P19) on Wikidata:"
   ]
  },
  {
   "cell_type": "code",
   "execution_count": 62,
   "id": "44add866",
   "metadata": {},
   "outputs": [],
   "source": [
    "CLAIMS=\"/nas/home/bohuizha/KG/hunger-for-knowledge/data/claims.tsv\"\n",
    "WIKIALIGN=\"/nas/home/bohuizha/KG/hunger-for-knowledge/data/gvp/ULAN/WikiAlign.tsv\"\n",
    "OUTPUT=\"/nas/home/bohuizha/KG/hunger-for-knowledge/data/gvp/Wikidata/birthplace.tsv\"\n",
    "\n",
    "!kgtk query -i $WIKIALIGN $CLAIMS \\\n",
    "    --match 'WikiAlign: (ulanid)-[]->(q), claims: (q)-[p:P19]->(bplace)' \\\n",
    "    --return 'distinct ulanid as node1, p.label as label, bplace as node2' \\\n",
    "    -o $OUTPUT"
   ]
  },
  {
   "cell_type": "code",
   "execution_count": 63,
   "id": "a746f422",
   "metadata": {},
   "outputs": [
    {
     "name": "stdout",
     "output_type": "stream",
     "text": [
      "count(DISTINCT graph_600_c1.\"node1\")\r\n",
      "64785\r\n"
     ]
    }
   ],
   "source": [
    "OUTPUT=\"/nas/home/bohuizha/KG/hunger-for-knowledge/data/gvp/Wikidata/birthplace.tsv\"\n",
    "\n",
    "# !wc -l $OUTPUT\n",
    "!kgtk query -i $OUTPUT \\\n",
    "    --match '(ulanid)-[]->()' \\\n",
    "    --return 'count(distinct ulanid)'"
   ]
  },
  {
   "cell_type": "code",
   "execution_count": 64,
   "id": "7be516d3",
   "metadata": {},
   "outputs": [
    {
     "name": "stdout",
     "output_type": "stream",
     "text": [
      "node1           label  node2\r\n",
      "ulan:500023949  P19    Q90\r\n",
      "ulan:500123827  P19    Q1297\r\n",
      "ulan:500223082  P19    Q842925\r\n",
      "ulan:500108173  P19    Q45779\r\n",
      "ulan:500072302  P19    Q390798\r\n",
      "ulan:500091345  P19    Q754776\r\n",
      "ulan:500059872  P19    Q1781\r\n",
      "ulan:500020713  P19    Q1792\r\n",
      "ulan:500160869  P19    Q34713\r\n"
     ]
    }
   ],
   "source": [
    "OUTPUT=\"/nas/home/bohuizha/KG/hunger-for-knowledge/data/gvp/Wikidata/birthplace.tsv\"\n",
    "\n",
    "!head $OUTPUT | column -ts $'\\t'"
   ]
  },
  {
   "cell_type": "markdown",
   "id": "46a7da1d",
   "metadata": {},
   "source": [
    "Query and count for deathdate (P570) on Wikidata:"
   ]
  },
  {
   "cell_type": "code",
   "execution_count": 65,
   "id": "0d113e6f",
   "metadata": {},
   "outputs": [],
   "source": [
    "CLAIMS=\"/nas/home/bohuizha/KG/hunger-for-knowledge/data/claims.tsv\"\n",
    "WIKIALIGN=\"/nas/home/bohuizha/KG/hunger-for-knowledge/data/gvp/ULAN/WikiAlign.tsv\"\n",
    "OUTPUT=\"/nas/home/bohuizha/KG/hunger-for-knowledge/data/gvp/Wikidata/deathdate.tsv\"\n",
    "\n",
    "!kgtk query -i $WIKIALIGN $CLAIMS \\\n",
    "    --match 'WikiAlign: (ulanid)-[]->(q), claims: (q)-[p:P570]->(ddate)' \\\n",
    "    --return 'distinct ulanid as node1, p.label as label, ddate as node2' \\\n",
    "    -o $OUTPUT"
   ]
  },
  {
   "cell_type": "code",
   "execution_count": 66,
   "id": "096edfed",
   "metadata": {},
   "outputs": [
    {
     "name": "stdout",
     "output_type": "stream",
     "text": [
      "count(DISTINCT graph_601_c1.\"node1\")\r\n",
      "70938\r\n"
     ]
    }
   ],
   "source": [
    "OUTPUT=\"/nas/home/bohuizha/KG/hunger-for-knowledge/data/gvp/Wikidata/deathdate.tsv\"\n",
    "\n",
    "!kgtk query -i $OUTPUT \\\n",
    "    --match '(ulanid)-[]->()' \\\n",
    "    --return 'count(distinct ulanid)'"
   ]
  },
  {
   "cell_type": "code",
   "execution_count": 67,
   "id": "c172af7f",
   "metadata": {},
   "outputs": [
    {
     "name": "stdout",
     "output_type": "stream",
     "text": [
      "node1           label  node2\r\n",
      "ulan:500023949  P570   ^1945-02-08T00:00:00Z/11\r\n",
      "ulan:500123827  P570   ^1954-09-07T00:00:00Z/11\r\n",
      "ulan:500072302  P570   ^1957-12-20T00:00:00Z/11\r\n",
      "ulan:500091345  P570   ^1954-12-23T00:00:00Z/11\r\n",
      "ulan:500020713  P570   ^1935-05-30T00:00:00Z/11\r\n",
      "ulan:500160869  P570   ^1981-08-22T00:00:00Z/11\r\n",
      "ulan:500108146  P570   ^1588-01-01T00:00:00Z/9\r\n",
      "ulan:500108146  P570   ^1586-01-01T00:00:00Z/9\r\n",
      "ulan:500113074  P570   ^1884-07-27T00:00:00Z/11\r\n"
     ]
    }
   ],
   "source": [
    "OUTPUT=\"/nas/home/bohuizha/KG/hunger-for-knowledge/data/gvp/Wikidata/deathdate.tsv\"\n",
    "\n",
    "!head $OUTPUT | column -ts $'\\t'"
   ]
  },
  {
   "cell_type": "markdown",
   "id": "740dd764",
   "metadata": {},
   "source": [
    "Query and count for occupation (P106) on Wikidata:"
   ]
  },
  {
   "cell_type": "code",
   "execution_count": 68,
   "id": "2e5cfe56",
   "metadata": {},
   "outputs": [],
   "source": [
    "CLAIMS=\"/nas/home/bohuizha/KG/hunger-for-knowledge/data/claims.tsv\"\n",
    "WIKIALIGN=\"/nas/home/bohuizha/KG/hunger-for-knowledge/data/gvp/ULAN/WikiAlign.tsv\"\n",
    "OUTPUT=\"/nas/home/bohuizha/KG/hunger-for-knowledge/data/gvp/Wikidata/occupation.tsv\"\n",
    "\n",
    "!kgtk query -i $WIKIALIGN $CLAIMS \\\n",
    "    --match 'WikiAlign: (ulanid)-[]->(q), claims: (q)-[p:P106]->(occupt)' \\\n",
    "    --return 'distinct ulanid as node1, p.label as label, occupt as node2' \\\n",
    "    -o $OUTPUT"
   ]
  },
  {
   "cell_type": "code",
   "execution_count": 69,
   "id": "43411b37",
   "metadata": {},
   "outputs": [
    {
     "name": "stdout",
     "output_type": "stream",
     "text": [
      "count(DISTINCT graph_602_c1.\"node1\")\r\n",
      "87492\r\n"
     ]
    }
   ],
   "source": [
    "OUTPUT=\"/nas/home/bohuizha/KG/hunger-for-knowledge/data/gvp/Wikidata/occupation.tsv\"\n",
    "\n",
    "# !wc -l $OUTPUT\n",
    "!kgtk query -i $OUTPUT \\\n",
    "    --match '(ulanid)-[]->()' \\\n",
    "    --return 'count(distinct ulanid)'"
   ]
  },
  {
   "cell_type": "code",
   "execution_count": 70,
   "id": "a9ab989a",
   "metadata": {},
   "outputs": [
    {
     "name": "stdout",
     "output_type": "stream",
     "text": [
      "node1           label  node2\r\n",
      "ulan:500023949  P106   Q2962070\r\n",
      "ulan:500023949  P106   Q42973\r\n",
      "ulan:500023949  P106   Q5322166\r\n",
      "ulan:500123827  P106   Q1114448\r\n",
      "ulan:500123827  P106   Q2526255\r\n",
      "ulan:500123827  P106   Q28389\r\n",
      "ulan:500123827  P106   Q3282637\r\n",
      "ulan:500123827  P106   Q715301\r\n",
      "ulan:500223082  P106   Q42973\r\n"
     ]
    }
   ],
   "source": [
    "OUTPUT=\"/nas/home/bohuizha/KG/hunger-for-knowledge/data/gvp/Wikidata/occupation.tsv\"\n",
    "\n",
    "!head $OUTPUT | column -ts $'\\t'"
   ]
  },
  {
   "cell_type": "markdown",
   "id": "b229dade",
   "metadata": {},
   "source": [
    "Query and count for nationality (P27) on Wikidata:"
   ]
  },
  {
   "cell_type": "code",
   "execution_count": 71,
   "id": "34698c02",
   "metadata": {},
   "outputs": [],
   "source": [
    "CLAIMS=\"/nas/home/bohuizha/KG/hunger-for-knowledge/data/claims.tsv\"\n",
    "WIKIALIGN=\"/nas/home/bohuizha/KG/hunger-for-knowledge/data/gvp/ULAN/WikiAlign.tsv\"\n",
    "OUTPUT=\"/nas/home/bohuizha/KG/hunger-for-knowledge/data/gvp/Wikidata/nationality.tsv\"\n",
    "\n",
    "!kgtk query -i $WIKIALIGN $CLAIMS \\\n",
    "    --match 'WikiAlign: (ulanid)-[]->(q), claims: (q)-[p:P27]->(nation)' \\\n",
    "    --return 'distinct ulanid as node1, p.label as label, nation as node2' \\\n",
    "    -o $OUTPUT"
   ]
  },
  {
   "cell_type": "code",
   "execution_count": 72,
   "id": "56d9d812",
   "metadata": {},
   "outputs": [
    {
     "name": "stdout",
     "output_type": "stream",
     "text": [
      "count(DISTINCT graph_603_c1.\"node1\")\r\n",
      "69387\r\n"
     ]
    }
   ],
   "source": [
    "OUTPUT=\"/nas/home/bohuizha/KG/hunger-for-knowledge/data/gvp/Wikidata/nationality.tsv\"\n",
    "\n",
    "# !wc -l $OUTPUT\n",
    "!kgtk query -i $OUTPUT \\\n",
    "    --match '(ulanid)-[]->()' \\\n",
    "    --return 'count(distinct ulanid)'"
   ]
  },
  {
   "cell_type": "code",
   "execution_count": 73,
   "id": "3e237ac7",
   "metadata": {},
   "outputs": [
    {
     "name": "stdout",
     "output_type": "stream",
     "text": [
      "node1           label  node2\r\n",
      "ulan:500023949  P27    Q142\r\n",
      "ulan:500123827  P27    Q30\r\n",
      "ulan:500223082  P27    Q28\r\n",
      "ulan:500108173  P27    Q28\r\n",
      "ulan:500072302  P27    Q28513\r\n",
      "ulan:500091345  P27    Q28\r\n",
      "ulan:500059872  P27    Q28\r\n",
      "ulan:500020713  P27    Q183\r\n",
      "ulan:500160869  P27    Q183\r\n"
     ]
    }
   ],
   "source": [
    "OUTPUT=\"/nas/home/bohuizha/KG/hunger-for-knowledge/data/gvp/Wikidata/nationality.tsv\"\n",
    "\n",
    "!head $OUTPUT | column -ts $'\\t'"
   ]
  },
  {
   "cell_type": "markdown",
   "id": "ef638940",
   "metadata": {},
   "source": [
    "Query and count for gender (P21) on Wikidata:"
   ]
  },
  {
   "cell_type": "code",
   "execution_count": 74,
   "id": "a653866e",
   "metadata": {},
   "outputs": [],
   "source": [
    "CLAIMS=\"/nas/home/bohuizha/KG/hunger-for-knowledge/data/claims.tsv\"\n",
    "WIKIALIGN=\"/nas/home/bohuizha/KG/hunger-for-knowledge/data/gvp/ULAN/WikiAlign.tsv\"\n",
    "OUTPUT=\"/nas/home/bohuizha/KG/hunger-for-knowledge/data/gvp/Wikidata/gender.tsv\"\n",
    "\n",
    "!kgtk query -i $WIKIALIGN $CLAIMS \\\n",
    "    --match 'WikiAlign: (ulanid)-[]->(q), claims: (q)-[p:P21]->(gd)' \\\n",
    "    --return 'distinct ulanid as node1, p.label as label, gd as node2' \\\n",
    "    -o $OUTPUT"
   ]
  },
  {
   "cell_type": "code",
   "execution_count": 75,
   "id": "1c176648",
   "metadata": {},
   "outputs": [
    {
     "name": "stdout",
     "output_type": "stream",
     "text": [
      "count(DISTINCT graph_604_c1.\"node1\")\r\n",
      "89307\r\n"
     ]
    }
   ],
   "source": [
    "OUTPUT=\"/nas/home/bohuizha/KG/hunger-for-knowledge/data/gvp/Wikidata/gender.tsv\"\n",
    "\n",
    "# !wc -l $OUTPUT\n",
    "!kgtk query -i $OUTPUT \\\n",
    "    --match '(ulanid)-[]->()' \\\n",
    "    --return 'count(distinct ulanid)'"
   ]
  },
  {
   "cell_type": "code",
   "execution_count": 76,
   "id": "397d2f04",
   "metadata": {
    "scrolled": true
   },
   "outputs": [
    {
     "name": "stdout",
     "output_type": "stream",
     "text": [
      "node1           label  node2\r\n",
      "ulan:500023949  P21    Q6581097\r\n",
      "ulan:500123827  P21    Q6581097\r\n",
      "ulan:500223082  P21    Q6581097\r\n",
      "ulan:500108173  P21    Q6581097\r\n",
      "ulan:500072302  P21    Q6581072\r\n",
      "ulan:500091345  P21    Q6581097\r\n",
      "ulan:500059872  P21    Q6581097\r\n",
      "ulan:500020713  P21    Q6581097\r\n",
      "ulan:500160869  P21    Q6581097\r\n"
     ]
    }
   ],
   "source": [
    "OUTPUT=\"/nas/home/bohuizha/KG/hunger-for-knowledge/data/gvp/Wikidata/gender.tsv\"\n",
    "\n",
    "!head $OUTPUT | column -ts $'\\t'"
   ]
  },
  {
   "cell_type": "markdown",
   "id": "509cd355",
   "metadata": {},
   "source": [
    "# Import files\n",
    "Import explicit files using `import-ntriples` of `kgtk`."
   ]
  },
  {
   "cell_type": "markdown",
   "id": "c363a157",
   "metadata": {},
   "source": [
    "## AAT Subjects"
   ]
  },
  {
   "cell_type": "code",
   "execution_count": 32,
   "id": "7a3d3afd",
   "metadata": {},
   "outputs": [],
   "source": [
    "INPUT_FILE=\"/nas/home/bohuizha/KG/hunger-for-knowledge/data/gvp/AAT/AATOut_1Subjects.nt\"\n",
    "OUTPUT_FILE=\"/nas/home/bohuizha/KG/hunger-for-knowledge/data/gvp/AAT/Subjects.tsv\"\n",
    "NAMESPACES=\"/nas/home/bohuizha/KG/hunger-for-knowledge/data/gvp/namespaces.tsv\"\n",
    "\n",
    "!kgtk import-ntriples \\\n",
    "    -i $INPUT_FILE \\\n",
    "    -o $OUTPUT_FILE \\\n",
    "    --namespace-file $NAMESPACES \\\n",
    "    --namespace-id-use-uuid True \\\n",
    "    --build-new-namespaces False \\\n",
    "    --output-only-used-namespaces True \\\n",
    "    --structured-value-label gvp:structured_value \\\n",
    "    --structured-uri-label gvp:structured_uri \\\n",
    "    --newnode-prefix node \\\n",
    "    --newnode-use-uuid True"
   ]
  },
  {
   "cell_type": "code",
   "execution_count": 33,
   "id": "f99f3140",
   "metadata": {},
   "outputs": [
    {
     "name": "stdout",
     "output_type": "stream",
     "text": [
      "node1\tlabel\tnode2\r\n",
      "aat:300430183\tgvp:displayOrder\t1\r\n",
      "aat:300430183\trdf:type\tgvp:Concept\r\n",
      "aat:300430183\tgvp:parentString\t\"<phonograph components>, sound device components, <components by specific context>, components (objects parts), Components (hierarchy name), Objects Facet\"\r\n",
      "aat:300430183\tgvp:parentStringAbbrev\t\"<phonograph components>, sound device components, ... Objects Facet\"\r\n",
      "aat:300430183\tdcterm:license\thttp://opendatacommons.org/licenses/by/1.0/\r\n",
      "aat:300430183\tcc:license\thttp://opendatacommons.org/licenses/by/1.0/\r\n",
      "aat:300430183\tvoid:inDataset\thttp://vocab.getty.edu/dataset/aat\r\n",
      "aat:300430183\tskos:inScheme\taat:\r\n",
      "aat:300430183\tdc:identifier\t\"300430183\"\r\n"
     ]
    }
   ],
   "source": [
    "SUBJECTS=\"/nas/home/bohuizha/KG/hunger-for-knowledge/data/gvp/AAT/Subjects.tsv\"\n",
    "\n",
    "!head -n 10 $SUBJECTS"
   ]
  },
  {
   "cell_type": "markdown",
   "id": "311b212c",
   "metadata": {},
   "source": [
    "## ULAN Subjects"
   ]
  },
  {
   "cell_type": "code",
   "execution_count": 35,
   "id": "d3092d1d",
   "metadata": {},
   "outputs": [],
   "source": [
    "INPUT_FILE=\"/nas/home/bohuizha/KG/hunger-for-knowledge/data/gvp/ULAN/ULANOut_1Subjects.nt\"\n",
    "OUTPUT_FILE=\"/nas/home/bohuizha/KG/hunger-for-knowledge/data/gvp/ULAN/Subjects.tsv\"\n",
    "NAMESPACES=\"/nas/home/bohuizha/KG/hunger-for-knowledge/data/gvp/namespaces.tsv\"\n",
    "\n",
    "!kgtk import-ntriples \\\n",
    "    -i $INPUT_FILE \\\n",
    "    -o $OUTPUT_FILE \\\n",
    "    --namespace-file $NAMESPACES \\\n",
    "    --namespace-id-use-uuid True \\\n",
    "    --build-new-namespaces False \\\n",
    "    --output-only-used-namespaces True \\\n",
    "    --structured-value-label gvp:structured_value \\\n",
    "    --structured-uri-label gvp:structured_uri \\\n",
    "    --newnode-prefix node \\\n",
    "    --newnode-use-uuid True"
   ]
  },
  {
   "cell_type": "code",
   "execution_count": 1,
   "id": "91077571",
   "metadata": {},
   "outputs": [
    {
     "name": "stdout",
     "output_type": "stream",
     "text": [
      "ulan:500299802  void:inDataset    http://vocab.getty.edu/dataset/ulan\r\n",
      "ulan:500299802  skos:inScheme     ulan:\r\n",
      "cc              prefix_expansion  \"http://creativecommons.org/ns#\"\r\n",
      "dc              prefix_expansion  \"http://purl.org/dc/elements/1.1/\"\r\n",
      "dcterm          prefix_expansion  \"http://purl.org/dc/terms/\"\r\n",
      "gvp             prefix_expansion  \"http://vocab.getty.edu/ontology#\"\r\n",
      "rdf             prefix_expansion  \"http://www.w3.org/1999/02/22-rdf-syntax-ns#\"\r\n",
      "skos            prefix_expansion  \"http://www.w3.org/2004/02/skos/core#\"\r\n",
      "ulan            prefix_expansion  \"http://vocab.getty.edu/ulan/\"\r\n",
      "void            prefix_expansion  \"http://rdfs.org/ns/void#\"\r\n"
     ]
    }
   ],
   "source": [
    "SUBJECTS=\"/nas/home/bohuizha/KG/hunger-for-knowledge/data/gvp/ULAN/Subjects.tsv\"\n",
    "\n",
    "!tail -n 10 $SUBJECTS | column -ts $'\\t'"
   ]
  },
  {
   "cell_type": "markdown",
   "id": "caaab478",
   "metadata": {},
   "source": [
    "Count total number of ULAN nodes."
   ]
  },
  {
   "cell_type": "code",
   "execution_count": 116,
   "id": "c569b32a",
   "metadata": {},
   "outputs": [
    {
     "name": "stdout",
     "output_type": "stream",
     "text": [
      "count(DISTINCT graph_560_c1.\"node1\")\r\n",
      "324514\r\n"
     ]
    }
   ],
   "source": [
    "SUBJECTS=\"/nas/home/bohuizha/KG/hunger-for-knowledge/data/gvp/ULAN/Subjects.tsv\"\n",
    "\n",
    "!kgtk query -i $SUBJECTS \\\n",
    "    --match '(s)-[]->()' \\\n",
    "    --return 'count(distinct s)'\n",
    "\n",
    "# 324514 - 8"
   ]
  },
  {
   "cell_type": "markdown",
   "id": "0b596275",
   "metadata": {},
   "source": [
    "## ULAN Terms"
   ]
  },
  {
   "cell_type": "code",
   "execution_count": 40,
   "id": "c7a89e67",
   "metadata": {},
   "outputs": [],
   "source": [
    "INPUT_FILE=\"/nas/home/bohuizha/KG/hunger-for-knowledge/data/gvp/ULAN/ULANOut_2Terms.nt\"\n",
    "OUTPUT_FILE=\"/nas/home/bohuizha/KG/hunger-for-knowledge/data/gvp/ULAN/Terms.tsv\"\n",
    "NAMESPACES=\"/nas/home/bohuizha/KG/hunger-for-knowledge/data/gvp/namespaces.tsv\"\n",
    "\n",
    "!kgtk import-ntriples \\\n",
    "    -i $INPUT_FILE \\\n",
    "    -o $OUTPUT_FILE \\\n",
    "    --namespace-file $NAMESPACES \\\n",
    "    --namespace-id-use-uuid True \\\n",
    "    --build-new-namespaces False \\\n",
    "    --output-only-used-namespaces True \\\n",
    "    --structured-value-label gvp:structured_value \\\n",
    "    --structured-uri-label gvp:structured_uri \\\n",
    "    --newnode-prefix node \\\n",
    "    --newnode-use-uuid True"
   ]
  },
  {
   "cell_type": "code",
   "execution_count": 134,
   "id": "e4062734",
   "metadata": {},
   "outputs": [
    {
     "name": "stdout",
     "output_type": "stream",
     "text": [
      "node1           label             node2\r\n",
      "ulan:500523072  gvp:prefLabelGVP  ulan_term:1501308201\r\n",
      "ulan:500523072  skosxl:prefLabel  ulan_term:1501308201\r\n",
      "ulan:500523077  gvp:prefLabelGVP  ulan_term:1501308206\r\n",
      "ulan:500523077  skosxl:prefLabel  ulan_term:1501308206\r\n"
     ]
    }
   ],
   "source": [
    "TERMS=\"/nas/home/bohuizha/KG/hunger-for-knowledge/data/gvp/ULAN/Terms.tsv\"\n",
    "\n",
    "!head -n 5 $TERMS | column -ts $'\\t'"
   ]
  },
  {
   "cell_type": "code",
   "execution_count": 130,
   "id": "5a08c8d4",
   "metadata": {},
   "outputs": [
    {
     "name": "stdout",
     "output_type": "stream",
     "text": [
      "label\n",
      "gvp:prefLabelGVP\n",
      "skosxl:prefLabel\n",
      "skosxl:altLabel\n",
      "rdf:type\n",
      "skosxl:literalForm\n",
      "dc:identifier\n",
      "dcterm:language\n",
      "gvp:displayOrder\n",
      "gvp:termDisplay\n",
      "gvp:term\n",
      "gvp:termFlag\n",
      "gvp:qualifier\n",
      "gvp:historicFlag\n",
      "gvp:termKind\n",
      "rdfs:comment\n",
      "gvp:structured_value\n",
      "gvp:structured_uri\n",
      "gvp:estStart\n",
      "gvp:estEnd\n",
      "prefix_expansion\n"
     ]
    }
   ],
   "source": [
    "TERMS=\"/nas/home/bohuizha/KG/hunger-for-knowledge/data/gvp/ULAN/Terms.tsv\"\n",
    "\n",
    "!kgtk query -i $TERMS \\\n",
    "    --match '(s)-[p]->(v)' \\\n",
    "    --return 'distinct p.label' \n",
    "\n",
    "# gvp:term -> name, label\n",
    "# gvp:estStart, gvp:estEnd -> birthdatte and deathdate, the same as in Biographies"
   ]
  },
  {
   "cell_type": "code",
   "execution_count": 17,
   "id": "7294ee30",
   "metadata": {
    "scrolled": true
   },
   "outputs": [
    {
     "name": "stdout",
     "output_type": "stream",
     "text": [
      "node1\tlabel\tnode2\r\n",
      "ulan_term:1501073272-nl\tskosxl:literalForm\t'Metz, Cäsar'@nl\r\n",
      "ulan_term:1501073289-nl\tskosxl:literalForm\t'Ruths, Amelie'@nl\r\n",
      "ulan_term:1501246833\tskosxl:literalForm\t\"Dallinger, Johann, the younger\"\r\n",
      "ulan_term:1501070859-nl\tskosxl:literalForm\t'Bahner, Hermann'@nl\r\n",
      "ulan_term:1501070899-nl\tskosxl:literalForm\t'Happ, Jakob'@nl\r\n",
      "ulan_term:1501070902-nl\tskosxl:literalForm\t'Held, Carl Ehrenfried'@nl\r\n",
      "ulan_term:1501070904-nl\tskosxl:literalForm\t'Hesse, Georg'@nl\r\n",
      "ulan_term:1501070908-nl\tskosxl:literalForm\t'Hunger, Heinz'@nl\r\n",
      "ulan_term:1500802911\tskosxl:literalForm\t\"Salm, Adriaen Cornelisz van der\"\r\n",
      "ulan_term:1501054868\tskosxl:literalForm\t\"Casati\"\r\n"
     ]
    }
   ],
   "source": [
    "TERMS=\"/nas/home/bohuizha/KG/hunger-for-knowledge/data/gvp/ULAN/Terms.tsv\"\n",
    "\n",
    "!kgtk query -i $TERMS \\\n",
    "    --match '(s)-[p]->(v)' \\\n",
    "    --where 'p.label = \"skosxl:literalForm\"' \\\n",
    "    --return 's, p.label, v' \\\n",
    "    --limit 10"
   ]
  },
  {
   "cell_type": "markdown",
   "id": "dd728a11",
   "metadata": {},
   "source": [
    "## ULAN AgentMap"
   ]
  },
  {
   "cell_type": "code",
   "execution_count": 74,
   "id": "24d4ab53",
   "metadata": {},
   "outputs": [],
   "source": [
    "INPUT_FILE=\"/nas/home/bohuizha/KG/hunger-for-knowledge/data/gvp/ULAN/ULANOut_AgentMap.nt\"\n",
    "OUTPUT_FILE=\"/nas/home/bohuizha/KG/hunger-for-knowledge/data/gvp/ULAN/AgentMap.tsv\"\n",
    "NAMESPACES=\"/nas/home/bohuizha/KG/hunger-for-knowledge/data/gvp/namespaces.tsv\"\n",
    "\n",
    "!kgtk import-ntriples \\\n",
    "    -i $INPUT_FILE \\\n",
    "    -o $OUTPUT_FILE \\\n",
    "    --namespace-file $NAMESPACES \\\n",
    "    --namespace-id-use-uuid True \\\n",
    "    --build-new-namespaces False \\\n",
    "    --output-only-used-namespaces True \\\n",
    "    --structured-value-label gvp:structured_value \\\n",
    "    --structured-uri-label gvp:structured_uri \\\n",
    "    --newnode-prefix node \\\n",
    "    --newnode-use-uuid True"
   ]
  },
  {
   "cell_type": "code",
   "execution_count": 118,
   "id": "562a6215",
   "metadata": {},
   "outputs": [
    {
     "name": "stdout",
     "output_type": "stream",
     "text": [
      "node1           label       node2\r\n",
      "ulan:500000002  foaf:focus  ulan:500000002-agent\r\n",
      "ulan:500000003  foaf:focus  ulan:500000003-agent\r\n",
      "ulan:500000004  foaf:focus  ulan:500000004-agent\r\n",
      "ulan:500000005  foaf:focus  ulan:500000005-agent\r\n",
      "ulan:500000006  foaf:focus  ulan:500000006-agent\r\n",
      "ulan:500000007  foaf:focus  ulan:500000007-agent\r\n",
      "ulan:500000009  foaf:focus  ulan:500000009-agent\r\n",
      "ulan:500000010  foaf:focus  ulan:500000010-agent\r\n",
      "ulan:500000011  foaf:focus  ulan:500000011-agent\r\n"
     ]
    }
   ],
   "source": [
    "AGENTMAP=\"/nas/home/bohuizha/KG/hunger-for-knowledge/data/gvp/ULAN/AgentMap.tsv\"\n",
    "\n",
    "!head -n 10 $AGENTMAP | column -ts $'\\t'"
   ]
  },
  {
   "cell_type": "markdown",
   "id": "b66f35ff",
   "metadata": {},
   "source": [
    "## ULAN AgentTypes"
   ]
  },
  {
   "cell_type": "code",
   "execution_count": 14,
   "id": "fa6757c8",
   "metadata": {},
   "outputs": [],
   "source": [
    "INPUT_FILE=\"/nas/home/bohuizha/KG/hunger-for-knowledge/data/gvp/ULAN/ULANOut_AgentTypes.nt\"\n",
    "OUTPUT_FILE=\"/nas/home/bohuizha/KG/hunger-for-knowledge/data/gvp/ULAN/AgentTypes.tsv\"\n",
    "NAMESPACES=\"/nas/home/bohuizha/KG/hunger-for-knowledge/data/gvp/namespaces.tsv\"\n",
    "\n",
    "!kgtk import-ntriples \\\n",
    "    -i $INPUT_FILE \\\n",
    "    -o $OUTPUT_FILE \\\n",
    "    --namespace-file $NAMESPACES \\\n",
    "    --namespace-id-use-uuid True \\\n",
    "    --build-new-namespaces False \\\n",
    "    --output-only-used-namespaces True \\\n",
    "    --structured-value-label gvp:structured_value \\\n",
    "    --structured-uri-label gvp:structured_uri \\\n",
    "    --newnode-prefix node \\\n",
    "    --newnode-use-uuid True"
   ]
  },
  {
   "cell_type": "markdown",
   "id": "8cd8a765",
   "metadata": {},
   "source": [
    "Check for properties:\n",
    "- `gvp:agentTypePreferred` : **occupation**"
   ]
  },
  {
   "cell_type": "code",
   "execution_count": 27,
   "id": "abdcfac6",
   "metadata": {
    "scrolled": true
   },
   "outputs": [
    {
     "name": "stdout",
     "output_type": "stream",
     "text": [
      "label\n",
      "rdf:type\n",
      "rdf:subject\n",
      "rdf:object\n",
      "rdf:predicate\n",
      "gvp:displayOrder\n",
      "gvp:structured_value\n",
      "gvp:structured_uri\n",
      "gvp:estStart\n",
      "rdfs:comment\n",
      "gvp:estEnd\n",
      "gvp:historicFlag\n",
      "gvp:agentTypePreferred\n",
      "gvp:agentTypeNonPreferred\n",
      "prefix_expansion\n"
     ]
    }
   ],
   "source": [
    "AGENTTYPES=\"/nas/home/bohuizha/KG/hunger-for-knowledge/data/gvp/ULAN/AgentTypes.tsv\"\n",
    "\n",
    "!kgtk query -i $AGENTTYPES \\\n",
    "    --match '(s)-[p]->(v)' \\\n",
    "    --return 'distinct p.label' "
   ]
  },
  {
   "cell_type": "markdown",
   "id": "d69b124d",
   "metadata": {},
   "source": [
    "Count how many ULAN ids with occupation we could find:"
   ]
  },
  {
   "cell_type": "code",
   "execution_count": 57,
   "id": "cfdf0342",
   "metadata": {},
   "outputs": [
    {
     "name": "stdout",
     "output_type": "stream",
     "text": [
      "count(DISTINCT graph_605_c1.\"node1\")\r\n",
      "324477\r\n"
     ]
    }
   ],
   "source": [
    "AGENTTYPES=\"/nas/home/bohuizha/KG/hunger-for-knowledge/data/gvp/ULAN/AgentTypes.tsv\"\n",
    "\n",
    "!kgtk query -i $AGENTTYPES \\\n",
    "    --match '(ulanid)-[p]->(occupt)' \\\n",
    "    --where 'p.label = \"gvp:agentTypePreferred\"' \\\n",
    "    --return 'count(distinct ulanid)'"
   ]
  },
  {
   "cell_type": "markdown",
   "id": "b4cc6326",
   "metadata": {},
   "source": [
    "## ULAN Biographies"
   ]
  },
  {
   "cell_type": "code",
   "execution_count": 46,
   "id": "03b3e69b",
   "metadata": {},
   "outputs": [],
   "source": [
    "INPUT_FILE=\"/nas/home/bohuizha/KG/hunger-for-knowledge/data/gvp/ULAN/ULANOut_Biographies.nt\"\n",
    "OUTPUT_FILE=\"/nas/home/bohuizha/KG/hunger-for-knowledge/data/gvp/ULAN/Biographies.tsv\"\n",
    "NAMESPACES=\"/nas/home/bohuizha/KG/hunger-for-knowledge/data/gvp/namespaces.tsv\"\n",
    "\n",
    "!kgtk import-ntriples \\\n",
    "    -i $INPUT_FILE \\\n",
    "    -o $OUTPUT_FILE \\\n",
    "    --namespace-file $NAMESPACES \\\n",
    "    --namespace-id-use-uuid True \\\n",
    "    --build-new-namespaces False \\\n",
    "    --output-only-used-namespaces True \\\n",
    "    --structured-value-label gvp:structured_value \\\n",
    "    --structured-uri-label gvp:structured_uri \\\n",
    "    --newnode-prefix node \\\n",
    "    --newnode-use-uuid True"
   ]
  },
  {
   "cell_type": "code",
   "execution_count": 49,
   "id": "1586a7fe",
   "metadata": {},
   "outputs": [
    {
     "name": "stdout",
     "output_type": "stream",
     "text": [
      "node1                 label                      node2\r\n",
      "ulan:500000002-agent  gvp:biographyPreferred     ulan_bio:4000336014\r\n",
      "ulan:500000003-agent  gvp:biographyPreferred     ulan_bio:4000336015\r\n",
      "ulan:500000004-agent  gvp:biographyNonPreferred  ulan_bio:4000000003\r\n",
      "ulan:500000004-agent  gvp:biographyPreferred     ulan_bio:4000000001\r\n",
      "ulan:500000004-agent  gvp:biographyNonPreferred  ulan_bio:4000000002\r\n",
      "ulan:500000004-agent  gvp:biographyNonPreferred  ulan_bio:4000334645\r\n",
      "ulan:500000004-agent  gvp:biographyNonPreferred  ulan_bio:4000757338\r\n",
      "ulan:500000005-agent  gvp:biographyPreferred     ulan_bio:4000000004\r\n",
      "ulan:500000005-agent  gvp:biographyNonPreferred  ulan_bio:4000000005\r\n"
     ]
    }
   ],
   "source": [
    "BIO=\"/nas/home/bohuizha/KG/hunger-for-knowledge/data/gvp/ULAN/Biographies.tsv\"\n",
    "\n",
    "!head $BIO | column -ts $'\\t'"
   ]
  },
  {
   "cell_type": "markdown",
   "id": "1121d086",
   "metadata": {},
   "source": [
    "Check for properties:\n",
    "- `schema:birthPlace` : **birth place**\n",
    "- `schema:deathPlace` : **death place**\n",
    "- `gvp:estStart` : **birth date**\n",
    "- `gvp:estEnd` : **death date**\n",
    "- `schema:gender` : **gender**"
   ]
  },
  {
   "cell_type": "code",
   "execution_count": 135,
   "id": "9cdcf6c2",
   "metadata": {},
   "outputs": [
    {
     "name": "stdout",
     "output_type": "stream",
     "text": [
      "label\n",
      "gvp:biographyPreferred\n",
      "gvp:biographyNonPreferred\n",
      "rdf:type\n",
      "gvp:structured_value\n",
      "gvp:structured_uri\n",
      "gvp:estStart\n",
      "schema:gender\n",
      "dcterm:contributor\n",
      "schema:birthPlace\n",
      "schema:description\n",
      "gvp:estEnd\n",
      "schema:deathPlace\n",
      "schema:foundationLocation\n",
      "schema:dissolutionLocation\n",
      "prefix_expansion\n"
     ]
    }
   ],
   "source": [
    "BIO=\"/nas/home/bohuizha/KG/hunger-for-knowledge/data/gvp/ULAN/Biographies.tsv\"\n",
    "\n",
    "!kgtk query -i $BIO \\\n",
    "    --match '()-[p]->()' \\\n",
    "    --return 'distinct p.label'"
   ]
  },
  {
   "cell_type": "markdown",
   "id": "18e48f20",
   "metadata": {},
   "source": [
    "Count how many ULAN ids with birth date(year) we could find."
   ]
  },
  {
   "cell_type": "code",
   "execution_count": 78,
   "id": "b2bbf40c",
   "metadata": {},
   "outputs": [],
   "source": [
    "AGENTMAP=\"/nas/home/bohuizha/KG/hunger-for-knowledge/data/gvp/ULAN/AgentMap.tsv\"\n",
    "BIO=\"/nas/home/bohuizha/KG/hunger-for-knowledge/data/gvp/ULAN/Biographies.tsv\"\n",
    "OUTPUT=\"/nas/home/bohuizha/KG/hunger-for-knowledge/data/gvp/ULAN/Birthyears.tsv\"\n",
    "\n",
    "!kgtk query -i $AGENTMAP $BIO \\\n",
    "    --match 'AgentMap: (ulanid)-[p0]->(ulanagent), Biographies: (ulanagent)-[p1]->()-[p2]->()-[p3]->(v)' \\\n",
    "    --where 'p0.label = \"foaf:focus\" AND \\\n",
    "             p1.label = \"gvp:biographyPreferred\" AND \\\n",
    "             p2.label = \"gvp:estStart\" AND \\\n",
    "             p3.label = \"gvp:structured_value\"' \\\n",
    "    --return 'distinct ulanid as node1, p2.label as label, v as node2' \\\n",
    "    -o $OUTPUT"
   ]
  },
  {
   "cell_type": "code",
   "execution_count": 85,
   "id": "c15e7fb9",
   "metadata": {},
   "outputs": [
    {
     "name": "stdout",
     "output_type": "stream",
     "text": [
      "count(DISTINCT graph_615_c1.\"node1\")\r\n",
      "324492\r\n"
     ]
    }
   ],
   "source": [
    "OUTPUT=\"/nas/home/bohuizha/KG/hunger-for-knowledge/data/gvp/ULAN/Birthyears.tsv\"\n",
    "\n",
    "!kgtk query -i $OUTPUT \\\n",
    "    --match '(ulanid)-[]->()' \\\n",
    "    --return 'count(distinct ulanid)'"
   ]
  },
  {
   "cell_type": "code",
   "execution_count": 83,
   "id": "2c2fdf78",
   "metadata": {},
   "outputs": [],
   "source": [
    "WIKIRESULTS=\"/nas/home/bohuizha/KG/hunger-for-knowledge/data/gvp/Wikidata/birthdate.tsv\"\n",
    "OUTPUT=\"/nas/home/bohuizha/KG/hunger-for-knowledge/data/gvp/ULAN/Birthyears.tsv\"\n",
    "TEMP=\"/nas/home/bohuizha/KG/hunger-for-knowledge/data/gvp/temp.tsv\"\n",
    "\n",
    "!kgtk ifnotexists -i $OUTPUT \\\n",
    "    --filter-on $WIKIRESULTS \\\n",
    "    --input-keys node1 \\\n",
    "    --filter-keys node1 \\\n",
    "    -o $TEMP"
   ]
  },
  {
   "cell_type": "code",
   "execution_count": 84,
   "id": "ab7191e1",
   "metadata": {},
   "outputs": [
    {
     "name": "stdout",
     "output_type": "stream",
     "text": [
      "count(DISTINCT graph_614_c1.\"node1\")\r\n",
      "240382\r\n"
     ]
    }
   ],
   "source": [
    "TEMP=\"/nas/home/bohuizha/KG/hunger-for-knowledge/data/gvp/temp.tsv\"\n",
    "\n",
    "!kgtk query -i $TEMP \\\n",
    "    --match '(ulanid)-[]->()' \\\n",
    "    --return 'count(distinct ulanid)'"
   ]
  },
  {
   "cell_type": "markdown",
   "id": "93e913e7",
   "metadata": {},
   "source": [
    "Count how many ULAN ids with death date(year) we could find."
   ]
  },
  {
   "cell_type": "code",
   "execution_count": 86,
   "id": "6f39774f",
   "metadata": {},
   "outputs": [],
   "source": [
    "AGENTMAP=\"/nas/home/bohuizha/KG/hunger-for-knowledge/data/gvp/ULAN/AgentMap.tsv\"\n",
    "BIO=\"/nas/home/bohuizha/KG/hunger-for-knowledge/data/gvp/ULAN/Biographies.tsv\"\n",
    "OUTPUT=\"/nas/home/bohuizha/KG/hunger-for-knowledge/data/gvp/ULAN/Deathyears.tsv\"\n",
    "\n",
    "!kgtk query -i $AGENTMAP $BIO \\\n",
    "    --match 'AgentMap: (ulanid)-[p0]->(ulanagent), Biographies: (ulanagent)-[p1]->()-[p2]->(v)' \\\n",
    "    --where 'p0.label = \"foaf:focus\" AND p1.label = \"gvp:biographyPreferred\" AND p2.label = \"gvp:estEnd\"' \\\n",
    "    --return 'distinct ulanid, p2.label as label, v as node2' \\\n",
    "    -o $OUTPUT"
   ]
  },
  {
   "cell_type": "code",
   "execution_count": 87,
   "id": "fee0e595",
   "metadata": {},
   "outputs": [
    {
     "name": "stdout",
     "output_type": "stream",
     "text": [
      "count(DISTINCT graph_616_c1.\"node1\")\r\n",
      "283927\r\n"
     ]
    }
   ],
   "source": [
    "OUTPUT=\"/nas/home/bohuizha/KG/hunger-for-knowledge/data/gvp/ULAN/Deathyears.tsv\"\n",
    "\n",
    "!kgtk query -i $OUTPUT \\\n",
    "    --match '(ulanid)-[]->()' \\\n",
    "    --return 'count(distinct ulanid)'"
   ]
  },
  {
   "cell_type": "code",
   "execution_count": 88,
   "id": "557b111e",
   "metadata": {},
   "outputs": [],
   "source": [
    "WIKIRESULTS=\"/nas/home/bohuizha/KG/hunger-for-knowledge/data/gvp/Wikidata/deathdate.tsv\"\n",
    "OUTPUT=\"/nas/home/bohuizha/KG/hunger-for-knowledge/data/gvp/ULAN/Deathyears.tsv\"\n",
    "TEMP=\"/nas/home/bohuizha/KG/hunger-for-knowledge/data/gvp/temp.tsv\"\n",
    "\n",
    "!kgtk ifnotexists -i $OUTPUT \\\n",
    "    --filter-on $WIKIRESULTS \\\n",
    "    --input-keys node1 \\\n",
    "    --filter-keys node1 \\\n",
    "    -o $TEMP"
   ]
  },
  {
   "cell_type": "code",
   "execution_count": 89,
   "id": "5d9b1866",
   "metadata": {},
   "outputs": [
    {
     "name": "stdout",
     "output_type": "stream",
     "text": [
      "count(DISTINCT graph_614_c1.\"node1\")\r\n",
      "212998\r\n"
     ]
    }
   ],
   "source": [
    "TEMP=\"/nas/home/bohuizha/KG/hunger-for-knowledge/data/gvp/temp.tsv\"\n",
    "\n",
    "!kgtk query -i $TEMP \\\n",
    "    --match '(ulanid)-[]->()' \\\n",
    "    --return 'count(distinct ulanid)'"
   ]
  },
  {
   "cell_type": "markdown",
   "id": "fa76a4c4",
   "metadata": {},
   "source": [
    "Count how many ULAN ids with birth places we could find."
   ]
  },
  {
   "cell_type": "code",
   "execution_count": 23,
   "id": "5719b5cc",
   "metadata": {},
   "outputs": [
    {
     "name": "stdout",
     "output_type": "stream",
     "text": [
      "count(DISTINCT graph_562_c1.\"node1\")\r\n",
      "56890\r\n"
     ]
    }
   ],
   "source": [
    "BIO=\"/nas/home/bohuizha/KG/hunger-for-knowledge/data/gvp/ULAN/Biographies.tsv\"\n",
    "\n",
    "!kgtk query -i $BIO \\\n",
    "    --match '(ulanagent)-[p1]->()-[p2]->(v)' \\\n",
    "    --where 'p1.label = \"gvp:biographyPreferred\" AND p2.label = \"schema:birthPlace\"' \\\n",
    "    --return 'count(distinct ulanagent)'"
   ]
  },
  {
   "cell_type": "markdown",
   "id": "1b397acd",
   "metadata": {},
   "source": [
    "Count how many ULAN ids with death places we could find."
   ]
  },
  {
   "cell_type": "code",
   "execution_count": 124,
   "id": "db0275a4",
   "metadata": {},
   "outputs": [
    {
     "name": "stdout",
     "output_type": "stream",
     "text": [
      "count(DISTINCT graph_562_c1.\"node1\")\r\n",
      "31502\r\n"
     ]
    }
   ],
   "source": [
    "BIO=\"/nas/home/bohuizha/KG/hunger-for-knowledge/data/gvp/ULAN/Biographies.tsv\"\n",
    "\n",
    "!kgtk query -i $BIO \\\n",
    "    --match '(ulanagent)-[p1]->()-[p2]->(v)' \\\n",
    "    --where 'p1.label = \"gvp:biographyPreferred\" AND p2.label = \"schema:deathPlace\"' \\\n",
    "    --return 'count(distinct ulanagent)'"
   ]
  },
  {
   "cell_type": "markdown",
   "id": "fe889bbc",
   "metadata": {},
   "source": [
    "Count how many ULAN ids with gender we could find:"
   ]
  },
  {
   "cell_type": "code",
   "execution_count": 56,
   "id": "05bfd927",
   "metadata": {},
   "outputs": [
    {
     "name": "stdout",
     "output_type": "stream",
     "text": [
      "count(DISTINCT graph_564_c1.\"node1\")\r\n",
      "275797\r\n"
     ]
    }
   ],
   "source": [
    "AGENTMAP=\"/nas/home/bohuizha/KG/hunger-for-knowledge/data/gvp/ULAN/AgentMap.tsv\"\n",
    "BIO=\"/nas/home/bohuizha/KG/hunger-for-knowledge/data/gvp/ULAN/Biographies.tsv\"\n",
    "\n",
    "# !kgtk query -i $BIO \\\n",
    "#     --match '(agent)-[p1]->(bio)-[p2]->(gender)' \\\n",
    "#     --where 'p1.label = \"gvp:biographyPreferred\" AND p2.label = \"schema:gender\"' \\\n",
    "#     --return 'distinct agent, p2.label, gender' \\\n",
    "#     --limit 10\n",
    "\n",
    "# aat:300189557 -> female\n",
    "# aat:300189559 -> male\n",
    "# aat:300400512 -> unavailable (information indicator)\n",
    "# aat:300400513 -> other (information indicator)\n",
    "\n",
    "!kgtk query -i $AGENTMAP $BIO \\\n",
    "    --match 'AgentMap: (ulanid)-[p0]->(agent), Biographies: (agent)-[p1]->(bio)-[p2]->(gender)' \\\n",
    "    --where 'p0.label = \"foaf:focus\" AND p1.label = \"gvp:biographyPreferred\" AND p2.label = \"schema:gender\"' \\\n",
    "    --return 'count(distinct ulanid)'"
   ]
  },
  {
   "cell_type": "markdown",
   "id": "89bd4e6e",
   "metadata": {},
   "source": [
    "AAT-Wikidata Genders Alignment"
   ]
  },
  {
   "cell_type": "code",
   "execution_count": 49,
   "id": "68b57c8f",
   "metadata": {},
   "outputs": [],
   "source": [
    "AATALIGN=\"/nas/home/bohuizha/KG/hunger-for-knowledge/data/gvp/AAT/wiki.align.tsv\"\n",
    "GENDERALIGN=\"/nas/home/bohuizha/KG/hunger-for-knowledge/data/gvp/AAT/wiki.align.gender.tsv\"\n",
    "\n",
    "!kgtk query -i $AATALIGN \\\n",
    "    --match '(aatid)-[p]->(qnode)' \\\n",
    "    --where 'aatid in [\"aat:300189557\", \"aat:300189559\", \"aat:300400512\", \"aat:300400513\"]' \\\n",
    "    --return 'aatid, p.label, qnode' \\\n",
    "    -o $GENDERALIGN"
   ]
  },
  {
   "cell_type": "code",
   "execution_count": 50,
   "id": "32ba80b7",
   "metadata": {},
   "outputs": [
    {
     "name": "stdout",
     "output_type": "stream",
     "text": [
      "node1          label            node2\r\n",
      "aat:300189557  skos:exactMatch  Q43445\r\n",
      "aat:300189559  skos:exactMatch  Q44148\r\n",
      "aat:300189557  skos:exactMatch  Q6581072\r\n"
     ]
    }
   ],
   "source": [
    "GENDERALIGN=\"/nas/home/bohuizha/KG/hunger-for-knowledge/data/gvp/AAT/wiki.align.gender.tsv\"\n",
    "\n",
    "!head $GENDERALIGN | column -ts $'\\t'"
   ]
  },
  {
   "cell_type": "markdown",
   "id": "840e6bf1",
   "metadata": {},
   "source": [
    "## ULAN Event"
   ]
  },
  {
   "cell_type": "code",
   "execution_count": 50,
   "id": "4aef2d2d",
   "metadata": {},
   "outputs": [],
   "source": [
    "INPUT_FILE=\"/nas/home/bohuizha/KG/hunger-for-knowledge/data/gvp/ULAN/ULANOut_Event.nt\"\n",
    "OUTPUT_FILE=\"/nas/home/bohuizha/KG/hunger-for-knowledge/data/gvp/ULAN/Event.tsv\"\n",
    "NAMESPACES=\"/nas/home/bohuizha/KG/hunger-for-knowledge/data/gvp/namespaces.tsv\"\n",
    "\n",
    "!kgtk import-ntriples \\\n",
    "    -i $INPUT_FILE \\\n",
    "    -o $OUTPUT_FILE \\\n",
    "    --namespace-file $NAMESPACES \\\n",
    "    --namespace-id-use-uuid True \\\n",
    "    --build-new-namespaces False \\\n",
    "    --output-only-used-namespaces True \\\n",
    "    --structured-value-label gvp:structured_value \\\n",
    "    --structured-uri-label gvp:structured_uri \\\n",
    "    --newnode-prefix node \\\n",
    "    --newnode-use-uuid True"
   ]
  },
  {
   "cell_type": "code",
   "execution_count": 2,
   "id": "cb5d1081",
   "metadata": {},
   "outputs": [
    {
     "name": "stdout",
     "output_type": "stream",
     "text": [
      "label\n",
      "gvp:eventPreferred\n",
      "gvp:eventNonPreferred\n",
      "rdf:type\n",
      "schema:location\n",
      "dcterm:type\n",
      "gvp:structured_value\n",
      "gvp:structured_uri\n",
      "gvp:estStart\n",
      "rdfs:comment\n",
      "gvp:estEnd\n",
      "prefix_expansion\n"
     ]
    }
   ],
   "source": [
    "EVENT=\"/nas/home/bohuizha/KG/hunger-for-knowledge/data/gvp/ULAN/Event.tsv\"\n",
    "\n",
    "!kgtk query -i $EVENT \\\n",
    "    --match '()-[p]->()' \\\n",
    "    --return 'distinct p.label'"
   ]
  },
  {
   "cell_type": "code",
   "execution_count": 126,
   "id": "ed400123",
   "metadata": {},
   "outputs": [
    {
     "name": "stdout",
     "output_type": "stream",
     "text": [
      "node1                 label                  node2\r\n",
      "ulan:500000005-agent  gvp:eventPreferred     ulan_event:121172\r\n",
      "ulan:500000005-agent  gvp:eventNonPreferred  ulan_event:121173\r\n",
      "ulan:500000007-agent  gvp:eventPreferred     ulan_event:124822\r\n",
      "ulan:500000009-agent  gvp:eventPreferred     ulan_event:106483\r\n"
     ]
    }
   ],
   "source": [
    "EVENT=\"/nas/home/bohuizha/KG/hunger-for-knowledge/data/gvp/ULAN/Event.tsv\"\n",
    "\n",
    "!head -n 5 $EVENT | column -ts $'\\t'"
   ]
  },
  {
   "cell_type": "code",
   "execution_count": 5,
   "id": "65c15b89",
   "metadata": {},
   "outputs": [
    {
     "name": "stdout",
     "output_type": "stream",
     "text": [
      "node1\tlabel\tnode2\r\n",
      "ulan_event:124822\trdf:type\tbio:Event\r\n",
      "ulan_event:124822\trdf:type\tschema:Event\r\n",
      "ulan_event:124822\tgvp:estStart\tnodeFTx3rhTSabwNzcWwm6jkkQ-1\r\n",
      "ulan_event:124822\trdfs:comment\t\"1546-1555\"\r\n",
      "ulan_event:124822\tdcterm:type\taat:300393177\r\n",
      "ulan_event:124822\tgvp:estEnd\tnodeFTx3rhTSabwNzcWwm6jkkQ-2\r\n"
     ]
    }
   ],
   "source": [
    "EVENT=\"/nas/home/bohuizha/KG/hunger-for-knowledge/data/gvp/ULAN/Event.tsv\"\n",
    "# ulan:500000007-agent\n",
    "\n",
    "!kgtk query -i $EVENT \\ \n",
    "    --match '(q)-[]->()' \\ \n",
    "    --where 'q = \"ulan_event:124822\"' "
   ]
  },
  {
   "cell_type": "code",
   "execution_count": 5,
   "id": "f648d4ca",
   "metadata": {},
   "outputs": [
    {
     "name": "stdout",
     "output_type": "stream",
     "text": [
      "node1\tlabel\tnode2\r\n",
      "nodeFTx3rhTSabwNzcWwm6jkkQ-2\tgvp:structured_value\t\"1555\"\r\n",
      "nodeFTx3rhTSabwNzcWwm6jkkQ-2\tgvp:structured_uri\txml-schema-type:gYear\r\n"
     ]
    }
   ],
   "source": [
    "EVENT=\"/nas/home/bohuizha/KG/hunger-for-knowledge/data/gvp/ULAN/Event.tsv\"\n",
    "\n",
    "!kgtk query -i $EVENT \\\n",
    "    --match '(q)-[]->()' \\\n",
    "    --where 'q = \"nodeFTx3rhTSabwNzcWwm6jkkQ-2\"'"
   ]
  },
  {
   "cell_type": "markdown",
   "id": "748d1aea",
   "metadata": {},
   "source": [
    "## ULAN Nationality"
   ]
  },
  {
   "cell_type": "code",
   "execution_count": 53,
   "id": "987fc48a",
   "metadata": {},
   "outputs": [],
   "source": [
    "INPUT_FILE=\"/nas/home/bohuizha/KG/hunger-for-knowledge/data/gvp/ULAN/ULANOut_Nationality.nt\"\n",
    "OUTPUT_FILE=\"/nas/home/bohuizha/KG/hunger-for-knowledge/data/gvp/ULAN/Nationality.tsv\"\n",
    "NAMESPACES=\"/nas/home/bohuizha/KG/hunger-for-knowledge/data/gvp/namespaces.tsv\"\n",
    "\n",
    "!kgtk import-ntriples \\\n",
    "    -i $INPUT_FILE \\\n",
    "    -o $OUTPUT_FILE \\\n",
    "    --namespace-file $NAMESPACES \\\n",
    "    --namespace-id-use-uuid True \\\n",
    "    --build-new-namespaces False \\\n",
    "    --output-only-used-namespaces True \\\n",
    "    --structured-value-label gvp:structured_value \\\n",
    "    --structured-uri-label gvp:structured_uri \\\n",
    "    --newnode-prefix node \\\n",
    "    --newnode-use-uuid True"
   ]
  },
  {
   "cell_type": "code",
   "execution_count": 129,
   "id": "eff86e1c",
   "metadata": {
    "scrolled": true
   },
   "outputs": [
    {
     "name": "stdout",
     "output_type": "stream",
     "text": [
      "node1                                 label             node2\r\n",
      "ulan:500000004-nationality-300111159  rdf:type          rdf:Statement\r\n",
      "ulan:500000004-nationality-300111159  rdf:predicate     gvp:nationalityPreferred\r\n",
      "ulan:500000004-nationality-300111159  rdf:object        aat:300111159\r\n",
      "ulan:500000004-nationality-300111159  rdf:subject       ulan:500000004-agent\r\n",
      "ulan:500000004-nationality-300111159  gvp:displayOrder  1\r\n",
      "ulan:500000004-nationality-300111178  rdf:type          rdf:Statement\r\n",
      "ulan:500000004-nationality-300111178  rdf:predicate     gvp:nationalityNonPreferred\r\n",
      "ulan:500000004-nationality-300111178  rdf:object        aat:300111178\r\n",
      "ulan:500000004-nationality-300111178  rdf:subject       ulan:500000004-agent\r\n"
     ]
    }
   ],
   "source": [
    "NATION=\"/nas/home/bohuizha/KG/hunger-for-knowledge/data/gvp/ULAN/Nationality.tsv\"\n",
    "\n",
    "!head -n 10 $NATION | column -ts $'\\t'\n",
    "# need import aat, for example, aat:300111198 -> Italian "
   ]
  },
  {
   "cell_type": "code",
   "execution_count": 1,
   "id": "2df3c6c9",
   "metadata": {},
   "outputs": [
    {
     "name": "stdout",
     "output_type": "stream",
     "text": [
      "label\n",
      "rdf:type\n",
      "rdf:predicate\n",
      "rdf:object\n",
      "rdf:subject\n",
      "gvp:displayOrder\n",
      "gvp:nationalityPreferred\n",
      "gvp:nationalityNonPreferred\n",
      "prefix_expansion\n"
     ]
    }
   ],
   "source": [
    "NATION=\"/nas/home/bohuizha/KG/hunger-for-knowledge/data/gvp/ULAN/Nationality.tsv\"\n",
    "\n",
    "!kgtk query -i $NATION \\\n",
    "    --match '()-[p]->()' \\\n",
    "    --return 'distinct p.label'"
   ]
  },
  {
   "cell_type": "markdown",
   "id": "204d027e",
   "metadata": {},
   "source": [
    "Sample query for nationality:"
   ]
  },
  {
   "cell_type": "code",
   "execution_count": 130,
   "id": "5429eabf",
   "metadata": {},
   "outputs": [
    {
     "name": "stdout",
     "output_type": "stream",
     "text": [
      "node1\tlabel\tnode2\r\n",
      "ulan:500000004\tgvp:nationalityPreferred\taat:300111159\r\n",
      "ulan:500000004\tgvp:nationalityPreferred\taat:300111178\r\n",
      "ulan:500000005\tgvp:nationalityPreferred\taat:300386124\r\n",
      "ulan:500000005\tgvp:nationalityPreferred\taat:300111198\r\n",
      "ulan:500000009\tgvp:nationalityPreferred\taat:300386003\r\n",
      "ulan:500000009\tgvp:nationalityPreferred\taat:300111198\r\n",
      "ulan:500000011\tgvp:nationalityPreferred\taat:300111159\r\n",
      "ulan:500000011\tgvp:nationalityPreferred\taat:300111178\r\n",
      "ulan:500000012\tgvp:nationalityPreferred\taat:300111159\r\n",
      "ulan:500000012\tgvp:nationalityPreferred\taat:300379012\r\n"
     ]
    }
   ],
   "source": [
    "AGENTMAP=\"/nas/home/bohuizha/KG/hunger-for-knowledge/data/gvp/ULAN/AgentMap.tsv\"\n",
    "NATION=\"/nas/home/bohuizha/KG/hunger-for-knowledge/data/gvp/ULAN/Nationality.tsv\"\n",
    "\n",
    "!kgtk query -i $AGENTMAP $NATION \\\n",
    "    --match 'a: (ulanid)-[p1]->(ulanagent), n: (nationality)<-[p2]-()-[p3]->(ulanagent)' \\\n",
    "    --where 'p1.label = \"foaf:focus\" AND p2.label = \"rdf:object\" AND p3.label = \"rdf:subject\"' \\\n",
    "    --return 'ulanid, \"gvp:nationalityPreferred\" AS label, nationality' \\\n",
    "    --limit 10"
   ]
  },
  {
   "cell_type": "markdown",
   "id": "7201e9db",
   "metadata": {},
   "source": [
    "Count how many ULAN ids with nationality we could find."
   ]
  },
  {
   "cell_type": "code",
   "execution_count": 131,
   "id": "9ad65b53",
   "metadata": {},
   "outputs": [
    {
     "name": "stdout",
     "output_type": "stream",
     "text": [
      "count(DISTINCT graph_564_c1.\"node1\")\r\n",
      "47815\r\n"
     ]
    }
   ],
   "source": [
    "AGENTMAP=\"/nas/home/bohuizha/KG/hunger-for-knowledge/data/gvp/ULAN/AgentMap.tsv\"\n",
    "NATION=\"/nas/home/bohuizha/KG/hunger-for-knowledge/data/gvp/ULAN/Nationality.tsv\"\n",
    "\n",
    "!kgtk query -i $AGENTMAP $NATION \\\n",
    "    --match 'a: (ulanid)-[p1]->(ulanagent), n: (nationality)<-[p2]-()-[p3]->(ulanagent)' \\\n",
    "    --where 'p1.label = \"foaf:focus\" AND p2.label = \"rdf:object\" AND p3.label = \"rdf:subject\"' \\\n",
    "    --return 'count(distinct ulanid)'"
   ]
  },
  {
   "cell_type": "markdown",
   "id": "045fa666",
   "metadata": {},
   "source": [
    "# TGN Subjects"
   ]
  },
  {
   "cell_type": "code",
   "execution_count": 32,
   "id": "2c1e0446",
   "metadata": {},
   "outputs": [],
   "source": [
    "INPUT_FILE=\"/nas/home/bohuizha/KG/hunger-for-knowledge/data/gvp/TGN/TGNOut_1Subjects.nt\"\n",
    "OUTPUT_FILE=\"/nas/home/bohuizha/KG/hunger-for-knowledge/data/gvp/TGN/Subjects.tsv\"\n",
    "NAMESPACES=\"/nas/home/bohuizha/KG/hunger-for-knowledge/data/gvp/namespaces.tsv\"\n",
    "\n",
    "!kgtk import-ntriples \\\n",
    "    -i $INPUT_FILE \\\n",
    "    -o $OUTPUT_FILE \\\n",
    "    --namespace-file $NAMESPACES \\\n",
    "    --namespace-id-use-uuid True \\\n",
    "    --build-new-namespaces False \\\n",
    "    --output-only-used-namespaces True \\\n",
    "    --structured-value-label gvp:structured_value \\\n",
    "    --structured-uri-label gvp:structured_uri \\\n",
    "    --newnode-prefix node \\\n",
    "    --newnode-use-uuid True"
   ]
  },
  {
   "cell_type": "markdown",
   "id": "827de559",
   "metadata": {},
   "source": [
    "Check for properties:"
   ]
  },
  {
   "cell_type": "code",
   "execution_count": 33,
   "id": "d39d3436",
   "metadata": {},
   "outputs": [
    {
     "name": "stdout",
     "output_type": "stream",
     "text": [
      "label\n",
      "gvp:displayOrder\n",
      "rdf:type\n",
      "gvp:parentStringAbbrev\n",
      "gvp:parentString\n",
      "void:inDataset\n",
      "cc:license\n",
      "skos:inScheme\n",
      "dcterm:license\n",
      "dc:identifier\n",
      "prefix_expansion\n"
     ]
    }
   ],
   "source": [
    "SUBJECTS=\"/nas/home/bohuizha/KG/hunger-for-knowledge/data/gvp/TGN/Subjects.tsv\"\n",
    "\n",
    "!kgtk query -i $SUBJECTS \\\n",
    "    --match '(s)-[p]->(v)' \\\n",
    "    --return 'distinct p.label'"
   ]
  },
  {
   "cell_type": "code",
   "execution_count": 2,
   "id": "06c52de5",
   "metadata": {},
   "outputs": [
    {
     "name": "stdout",
     "output_type": "stream",
     "text": [
      "tgn:7030632  dcterm:license    http://opendatacommons.org/licenses/by/1.0/\r\n",
      "tgn:7030632  dc:identifier     \"7030632\"\r\n",
      "cc           prefix_expansion  \"http://creativecommons.org/ns#\"\r\n",
      "dc           prefix_expansion  \"http://purl.org/dc/elements/1.1/\"\r\n",
      "dcterm       prefix_expansion  \"http://purl.org/dc/terms/\"\r\n",
      "gvp          prefix_expansion  \"http://vocab.getty.edu/ontology#\"\r\n",
      "rdf          prefix_expansion  \"http://www.w3.org/1999/02/22-rdf-syntax-ns#\"\r\n",
      "skos         prefix_expansion  \"http://www.w3.org/2004/02/skos/core#\"\r\n",
      "tgn          prefix_expansion  \"http://vocab.getty.edu/tgn/\"\r\n",
      "void         prefix_expansion  \"http://rdfs.org/ns/void#\"\r\n"
     ]
    }
   ],
   "source": [
    "SUBJECTS=\"/nas/home/bohuizha/KG/hunger-for-knowledge/data/gvp/TGN/Subjects.tsv\"\n",
    "\n",
    "!tail $SUBJECTS | column -ts $'\\t'"
   ]
  },
  {
   "cell_type": "code",
   "execution_count": 3,
   "id": "35f44f0c",
   "metadata": {},
   "outputs": [
    {
     "name": "stdout",
     "output_type": "stream",
     "text": [
      "count(DISTINCT graph_606_c1.\"node1\")\r\n",
      "2510782\r\n"
     ]
    }
   ],
   "source": [
    "SUBJECTS=\"/nas/home/bohuizha/KG/hunger-for-knowledge/data/gvp/TGN/Subjects.tsv\"\n",
    "\n",
    "!kgtk query -i $SUBJECTS \\\n",
    "    --match '(q)-[]->()' \\\n",
    "    --return 'count(distinct q)'\n",
    "# 2510782 - 8"
   ]
  },
  {
   "cell_type": "markdown",
   "id": "96bfb4f4",
   "metadata": {},
   "source": [
    "## TGN Terms"
   ]
  },
  {
   "cell_type": "code",
   "execution_count": 6,
   "id": "d9191555",
   "metadata": {},
   "outputs": [],
   "source": [
    "INPUT_FILE=\"/nas/home/bohuizha/KG/hunger-for-knowledge/data/gvp/TGN/TGNOut_2Terms.nt\"\n",
    "OUTPUT_FILE=\"/nas/home/bohuizha/KG/hunger-for-knowledge/data/gvp/TGN/Terms.tsv\"\n",
    "NAMESPACES=\"/nas/home/bohuizha/KG/hunger-for-knowledge/data/gvp/namespaces.tsv\"\n",
    "\n",
    "!kgtk import-ntriples \\\n",
    "    -i $INPUT_FILE \\\n",
    "    -o $OUTPUT_FILE \\\n",
    "    --namespace-file $NAMESPACES \\\n",
    "    --namespace-id-use-uuid True \\\n",
    "    --build-new-namespaces False \\\n",
    "    --output-only-used-namespaces True \\\n",
    "    --structured-value-label gvp:structured_value \\\n",
    "    --structured-uri-label gvp:structured_uri \\\n",
    "    --newnode-prefix node \\\n",
    "    --newnode-use-uuid True"
   ]
  },
  {
   "cell_type": "code",
   "execution_count": 58,
   "id": "78b3d9e6",
   "metadata": {},
   "outputs": [
    {
     "name": "stdout",
     "output_type": "stream",
     "text": [
      "node1        label             node2\r\n",
      "tgn:1001437  skosxl:altLabel   tgn_term:1575-nl\r\n",
      "tgn:7005238  skosxl:altLabel   tgn_term:111-id\r\n",
      "tgn:1001438  skosxl:altLabel   tgn_term:348096-nl\r\n",
      "tgn:1001438  skosxl:altLabel   tgn_term:348096-fr\r\n",
      "tgn:7005238  skosxl:altLabel   tgn_term:111-it\r\n",
      "tgn:7005238  skosxl:altLabel   tgn_term:111-es\r\n",
      "tgn:1000047  gvp:prefLabelGVP  tgn_term:56-an\r\n",
      "tgn:1000047  skosxl:altLabel   tgn_term:56-an\r\n",
      "tgn:1000047  skosxl:altLabel   tgn_term:56-ast\r\n"
     ]
    }
   ],
   "source": [
    "TGNTERMS=\"/nas/home/bohuizha/KG/hunger-for-knowledge/data/gvp/TGN/Terms.tsv\"\n",
    "\n",
    "!head $TGNTERMS | column -ts $'\\t'"
   ]
  },
  {
   "cell_type": "markdown",
   "id": "deae0799",
   "metadata": {},
   "source": [
    "Check for properties:"
   ]
  },
  {
   "cell_type": "code",
   "execution_count": 10,
   "id": "7db24692",
   "metadata": {},
   "outputs": [
    {
     "name": "stdout",
     "output_type": "stream",
     "text": [
      "label\n",
      "skosxl:altLabel\n",
      "gvp:prefLabelGVP\n",
      "skosxl:prefLabel\n",
      "rdf:type\n",
      "gvp:termFlag\n",
      "skosxl:literalForm\n",
      "dc:identifier\n",
      "gvp:displayOrder\n",
      "gvp:term\n",
      "dcterm:language\n",
      "gvp:termKind\n",
      "rdfs:comment\n",
      "gvp:structured_value\n",
      "gvp:structured_uri\n",
      "gvp:estStart\n",
      "gvp:termDisplay\n",
      "gvp:termPOS\n",
      "gvp:estEnd\n",
      "gvp:qualifier\n",
      "gvp:historicFlag\n",
      "prefix_expansion\n"
     ]
    }
   ],
   "source": [
    "TGNTERMS=\"/nas/home/bohuizha/KG/hunger-for-knowledge/data/gvp/TGN/Terms.tsv\"\n",
    "\n",
    "!kgtk query -i $TGNTERMS \\\n",
    "    --match '(s)-[p]->(v)' \\\n",
    "    --return 'distinct p.label'"
   ]
  },
  {
   "cell_type": "code",
   "execution_count": 41,
   "id": "d022a203",
   "metadata": {},
   "outputs": [
    {
     "name": "stdout",
     "output_type": "stream",
     "text": [
      "node1\tlabel\tnode2\r\n",
      "tgn:1001437\tskosxl:altLabel\ttgn_term:1575-nl\r\n",
      "tgn:7005238\tskosxl:altLabel\ttgn_term:111-id\r\n",
      "tgn:1001438\tskosxl:altLabel\ttgn_term:348096-nl\r\n",
      "tgn:1001438\tskosxl:altLabel\ttgn_term:348096-fr\r\n",
      "tgn:7005238\tskosxl:altLabel\ttgn_term:111-it\r\n",
      "tgn:7005238\tskosxl:altLabel\ttgn_term:111-es\r\n",
      "tgn:1000047\tskosxl:altLabel\ttgn_term:56-an\r\n",
      "tgn:1000047\tskosxl:altLabel\ttgn_term:56-ast\r\n",
      "tgn:1000047\tskosxl:altLabel\ttgn_term:56-id\r\n",
      "tgn:7000529\tskosxl:altLabel\ttgn_term:349-kw\r\n"
     ]
    }
   ],
   "source": [
    "TGNTERMS=\"/nas/home/bohuizha/KG/hunger-for-knowledge/data/gvp/TGN/Terms.tsv\"\n",
    "\n",
    "!kgtk query -i $TGNTERMS \\\n",
    "    --match '(s)-[p]->(v)' \\\n",
    "    --where 'p.label = \"skosxl:altLabel\"' \\\n",
    "    --return 's, p.label, v' \\\n",
    "    --limit 10"
   ]
  },
  {
   "cell_type": "code",
   "execution_count": 35,
   "id": "b56ee742",
   "metadata": {},
   "outputs": [
    {
     "name": "stdout",
     "output_type": "stream",
     "text": [
      "node1\tlabel\tnode2\r\n",
      "tgn_term:1001777815\tgvp:term\t\"Las Cebollas\"\r\n",
      "tgn_term:1001777819\tgvp:term\t\"Las Cebollas\"\r\n",
      "tgn_term:1001777829\tgvp:term\t\"Rancho Las Casitas\"\r\n",
      "tgn_term:1001777833\tgvp:term\t\"Las Casitas\"\r\n",
      "tgn_term:1001774974\tgvp:term\t\"La Vinata\"\r\n",
      "tgn_term:1001774983\tgvp:term\t\"La Villita\"\r\n",
      "tgn_term:1001774991\tgvp:term\t\"La Villa Guadalupe\"\r\n",
      "tgn_term:1001775005\tgvp:term\t\"La Viejita\"\r\n",
      "tgn_term:1001777590\tgvp:term\t\"Las Cuatitas\"\r\n",
      "tgn_term:1001777591\tgvp:term\t\"Rancho Las Cuates\"\r\n"
     ]
    }
   ],
   "source": [
    "TGNTERMS=\"/nas/home/bohuizha/KG/hunger-for-knowledge/data/gvp/TGN/Terms.tsv\"\n",
    "\n",
    "!kgtk query -i $TGNTERMS \\\n",
    "    --match '(s)-[p]->(v)' \\\n",
    "    --where 'p.label = \"gvp:term\"' \\\n",
    "    --return 's, p.label, v' \\\n",
    "    --limit 10"
   ]
  },
  {
   "cell_type": "code",
   "execution_count": 34,
   "id": "5b54df92",
   "metadata": {},
   "outputs": [
    {
     "name": "stdout",
     "output_type": "stream",
     "text": [
      "node1\tlabel\tnode2\r\n",
      "tgn_term:1001777815\tdc:identifier\t\"1001777815\"\r\n",
      "tgn_term:1001777819\tdc:identifier\t\"1001777819\"\r\n",
      "tgn_term:1001777829\tdc:identifier\t\"1001777829\"\r\n",
      "tgn_term:1001777833\tdc:identifier\t\"1001777833\"\r\n",
      "tgn_term:1001774974\tdc:identifier\t\"1001774974\"\r\n",
      "tgn_term:1001774983\tdc:identifier\t\"1001774983\"\r\n",
      "tgn_term:1001774991\tdc:identifier\t\"1001774991\"\r\n",
      "tgn_term:1001775005\tdc:identifier\t\"1001775005\"\r\n",
      "tgn_term:1001777590\tdc:identifier\t\"1001777590\"\r\n",
      "tgn_term:1001777591\tdc:identifier\t\"1001777591\"\r\n"
     ]
    }
   ],
   "source": [
    "TGNTERMS=\"/nas/home/bohuizha/KG/hunger-for-knowledge/data/gvp/TGN/Terms.tsv\"\n",
    "\n",
    "!kgtk query -i $TGNTERMS \\\n",
    "    --match '(s)-[p]->(v)' \\\n",
    "    --where 'p.label = \"dc:identifier\"' \\\n",
    "    --return 's, p.label, v' \\\n",
    "    --limit 10"
   ]
  },
  {
   "cell_type": "markdown",
   "id": "c8c42d18",
   "metadata": {},
   "source": [
    "## TGN PlaceMap"
   ]
  },
  {
   "cell_type": "code",
   "execution_count": 8,
   "id": "6463e0a3",
   "metadata": {},
   "outputs": [],
   "source": [
    "INPUT_FILE=\"/nas/home/bohuizha/KG/hunger-for-knowledge/data/gvp/TGN/TGNOut_PlaceMap.nt\"\n",
    "OUTPUT_FILE=\"/nas/home/bohuizha/KG/hunger-for-knowledge/data/gvp/TGN/PlaceMap.tsv\"\n",
    "NAMESPACES=\"/nas/home/bohuizha/KG/hunger-for-knowledge/data/gvp/namespaces.tsv\"\n",
    "\n",
    "!kgtk import-ntriples \\\n",
    "    -i $INPUT_FILE \\\n",
    "    -o $OUTPUT_FILE \\\n",
    "    --namespace-file $NAMESPACES \\\n",
    "    --namespace-id-use-uuid True \\\n",
    "    --build-new-namespaces False \\\n",
    "    --output-only-used-namespaces True \\\n",
    "    --structured-value-label gvp:structured_value \\\n",
    "    --structured-uri-label gvp:structured_uri \\\n",
    "    --newnode-prefix node \\\n",
    "    --newnode-use-uuid True"
   ]
  },
  {
   "cell_type": "markdown",
   "id": "34b4ba79",
   "metadata": {},
   "source": [
    "Check for properties:"
   ]
  },
  {
   "cell_type": "code",
   "execution_count": 4,
   "id": "12ce2dc4",
   "metadata": {},
   "outputs": [
    {
     "name": "stdout",
     "output_type": "stream",
     "text": [
      "label\n",
      "void:inDataset\n",
      "rdf:type\n",
      "dcterm:license\n",
      "cc:license\n",
      "foaf:focus\n",
      "prefix_expansion\n"
     ]
    }
   ],
   "source": [
    "PLACEMAP=\"/nas/home/bohuizha/KG/hunger-for-knowledge/data/gvp/TGN/PlaceMap.tsv\"\n",
    "\n",
    "!kgtk query -i $PLACEMAP \\\n",
    "    --match '(s)-[p]->(v)' \\\n",
    "    --return 'distinct p.label'"
   ]
  },
  {
   "cell_type": "code",
   "execution_count": 42,
   "id": "5ebc32ba",
   "metadata": {},
   "outputs": [
    {
     "name": "stdout",
     "output_type": "stream",
     "text": [
      "node1\tlabel\tnode2\r\n",
      "tgn:1000001\tfoaf:focus\ttgn:1000001-place\r\n",
      "tgn:1000002\tfoaf:focus\ttgn:1000002-place\r\n",
      "tgn:1000003\tfoaf:focus\ttgn:1000003-place\r\n",
      "tgn:1000004\tfoaf:focus\ttgn:1000004-place\r\n",
      "tgn:1000006\tfoaf:focus\ttgn:1000006-place\r\n",
      "tgn:1000007\tfoaf:focus\ttgn:1000007-place\r\n",
      "tgn:1000009\tfoaf:focus\ttgn:1000009-place\r\n",
      "tgn:1000046\tfoaf:focus\ttgn:1000046-place\r\n",
      "tgn:1000047\tfoaf:focus\ttgn:1000047-place\r\n",
      "tgn:1000048\tfoaf:focus\ttgn:1000048-place\r\n"
     ]
    }
   ],
   "source": [
    "PLACEMAP=\"/nas/home/bohuizha/KG/hunger-for-knowledge/data/gvp/TGN/PlaceMap.tsv\"\n",
    "\n",
    "!kgtk query -i $PLACEMAP \\\n",
    "    --match '(s)-[p]->(v)' \\\n",
    "    --where 'p.label = \"foaf:focus\"' \\\n",
    "    --return 's, p.label, v' \\\n",
    "    --limit 10"
   ]
  },
  {
   "cell_type": "code",
   "execution_count": 30,
   "id": "4f1e55db",
   "metadata": {
    "scrolled": true
   },
   "outputs": [
    {
     "name": "stdout",
     "output_type": "stream",
     "text": [
      "node1              label           node2\r\n",
      "tgn:1000001-place  void:inDataset  http://vocab.getty.edu/dataset/tgn\r\n",
      "tgn:1000001-place  rdf:type        schema:Place\r\n",
      "tgn:1000001-place  dcterm:license  http://opendatacommons.org/licenses/by/1.0/\r\n",
      "tgn:1000001-place  cc:license      http://opendatacommons.org/licenses/by/1.0/\r\n",
      "tgn:1000001-place  rdf:type        wgs:SpatialThing\r\n",
      "tgn:1000002-place  void:inDataset  http://vocab.getty.edu/dataset/tgn\r\n",
      "tgn:1000002-place  rdf:type        schema:Place\r\n",
      "tgn:1000002-place  dcterm:license  http://opendatacommons.org/licenses/by/1.0/\r\n",
      "tgn:1000002-place  cc:license      http://opendatacommons.org/licenses/by/1.0/\r\n"
     ]
    }
   ],
   "source": [
    "PLACEMAP=\"/nas/home/bohuizha/KG/hunger-for-knowledge/data/gvp/TGN/PlaceMap.tsv\"\n",
    "\n",
    "!head $PLACEMAP | column -ts $'\\t'"
   ]
  },
  {
   "cell_type": "markdown",
   "id": "7af49cc1",
   "metadata": {},
   "source": [
    "# Build Subgraphs"
   ]
  },
  {
   "cell_type": "markdown",
   "id": "2a3c5efe",
   "metadata": {},
   "source": [
    "## ULAN Biographies Concatenate Subgraph"
   ]
  },
  {
   "cell_type": "code",
   "execution_count": 53,
   "id": "f18e8261",
   "metadata": {},
   "outputs": [],
   "source": [
    "SUBJECTS=\"/nas/home/bohuizha/KG/hunger-for-knowledge/data/gvp/ULAN/Subjects.tsv\"\n",
    "AGENTMAP=\"/nas/home/bohuizha/KG/hunger-for-knowledge/data/gvp/ULAN/AgentMap.tsv\"\n",
    "BIO=\"/nas/home/bohuizha/KG/hunger-for-knowledge/data/gvp/ULAN/Biographies.tsv\"\n",
    "SUBGRAPH=\"/nas/home/bohuizha/KG/hunger-for-knowledge/data/gvp/ULAN/ulan.bio.concat.tsv\"\n",
    "\n",
    "!kgtk cat -i $SUBJECTS $AGENTMAP $BIO -o $SUBGRAPH"
   ]
  },
  {
   "cell_type": "markdown",
   "id": "0fa3d50c",
   "metadata": {},
   "source": [
    "Add id"
   ]
  },
  {
   "cell_type": "code",
   "execution_count": 54,
   "id": "e0eafe0d",
   "metadata": {},
   "outputs": [],
   "source": [
    "SUBGRAPH=\"/nas/home/bohuizha/KG/hunger-for-knowledge/data/gvp/ULAN/ulan.bio.concat.tsv\"\n",
    "OUTPUT=\"/nas/home/bohuizha/KG/hunger-for-knowledge/data/gvp/ULAN/ulan.bio.concat.id.tsv\"\n",
    "\n",
    "!kgtk add-id -i $SUBGRAPH --id-style node1-label-node2 --id-separator \":\" -o $OUTPUT"
   ]
  },
  {
   "cell_type": "markdown",
   "id": "067fa01b",
   "metadata": {},
   "source": [
    "## ULAN Event Concatenate Subgraph"
   ]
  },
  {
   "cell_type": "code",
   "execution_count": 6,
   "id": "b52b6133",
   "metadata": {},
   "outputs": [],
   "source": [
    "SUBJECTS=\"/nas/home/bohuizha/KG/hunger-for-knowledge/data/gvp/ULAN/Subjects.tsv\"\n",
    "AGENTMAP=\"/nas/home/bohuizha/KG/hunger-for-knowledge/data/gvp/ULAN/AgentMap.tsv\"\n",
    "EVENT=\"/nas/home/bohuizha/KG/hunger-for-knowledge/data/gvp/ULAN/Event.tsv\"\n",
    "SUBGRAPH=\"/nas/home/bohuizha/KG/hunger-for-knowledge/data/gvp/ULAN/ulan.event.concat.tsv\"\n",
    "\n",
    "!kgtk cat -i $SUBJECTS $AGENTMAP $EVENT -o $SUBGRAPH"
   ]
  },
  {
   "cell_type": "code",
   "execution_count": 7,
   "id": "d0451533",
   "metadata": {},
   "outputs": [],
   "source": [
    "SUBGRAPH=\"/nas/home/bohuizha/KG/hunger-for-knowledge/data/gvp/ULAN/ulan.event.concat.tsv\"\n",
    "OUTPUT=\"/nas/home/bohuizha/KG/hunger-for-knowledge/data/gvp/ULAN/ulan.event.concat.id.tsv\"\n",
    "\n",
    "!kgtk add-id -i $SUBGRAPH --id-style node1-label-node2 --id-separator \":\" -o $OUTPUT"
   ]
  },
  {
   "cell_type": "markdown",
   "id": "9a1c277a",
   "metadata": {},
   "source": [
    "## ULAN Biographies & TGN Concatenate Subgraph"
   ]
  },
  {
   "cell_type": "code",
   "execution_count": null,
   "id": "f79a726d",
   "metadata": {},
   "outputs": [],
   "source": []
  },
  {
   "cell_type": "markdown",
   "id": "3ed3ddc9",
   "metadata": {},
   "source": [
    "Add id"
   ]
  },
  {
   "cell_type": "code",
   "execution_count": null,
   "id": "08029a5f",
   "metadata": {},
   "outputs": [],
   "source": [
    "SUBGRAPH=\"/nas/home/bohuizha/KG/hunger-for-knowledge/data/gvp/ULAN/ulan.concat.tsv\"\n",
    "OUTPUT=\"/nas/home/bohuizha/KG/hunger-for-knowledge/data/gvp/ULAN/ulan.concat.id.tsv\"\n",
    "\n",
    "!kgtk add-id -i $SUBGRAPH --id-style node1-label-node2 --id-separator \":\" -o $OUTPUT"
   ]
  },
  {
   "cell_type": "markdown",
   "id": "da270131",
   "metadata": {},
   "source": [
    "## ULAN Nationality Concatenate Subgraph"
   ]
  },
  {
   "cell_type": "code",
   "execution_count": 46,
   "id": "19f3f17a",
   "metadata": {},
   "outputs": [],
   "source": [
    "SUBJECTS=\"/nas/home/bohuizha/KG/hunger-for-knowledge/data/gvp/ULAN/Subjects.tsv\"\n",
    "AGENTMAP=\"/nas/home/bohuizha/KG/hunger-for-knowledge/data/gvp/ULAN/AgentMap.tsv\"\n",
    "NATION=\"/nas/home/bohuizha/KG/hunger-for-knowledge/data/gvp/ULAN/Nationality.tsv\"\n",
    "AATALIGN=\"/nas/home/bohuizha/KG/hunger-for-knowledge/data/gvp/AAT/wiki.align.tsv\"\n",
    "SUBGRAPH=\"/nas/home/bohuizha/KG/hunger-for-knowledge/data/gvp/ULAN/ulan.nation.concat.tsv\"\n",
    "\n",
    "!kgtk cat -i $SUBJECTS $AGENTMAP $NATION $AATALIGN -o $SUBGRAPH"
   ]
  },
  {
   "cell_type": "markdown",
   "id": "01e570f2",
   "metadata": {},
   "source": [
    "Add id"
   ]
  },
  {
   "cell_type": "code",
   "execution_count": 47,
   "id": "e3c6d7b1",
   "metadata": {},
   "outputs": [],
   "source": [
    "SUBGRAPH=\"/nas/home/bohuizha/KG/hunger-for-knowledge/data/gvp/ULAN/ulan.nation.concat.tsv\"\n",
    "OUTPUT=\"/nas/home/bohuizha/KG/hunger-for-knowledge/data/gvp/ULAN/ulan.nation.concat.id.tsv\"\n",
    "\n",
    "!kgtk add-id -i $SUBGRAPH --id-style node1-label-node2 --id-separator \":\" -o $OUTPUT"
   ]
  },
  {
   "cell_type": "markdown",
   "id": "b83058fe",
   "metadata": {},
   "source": [
    "## ULAN Gender Concatenate Subgraph"
   ]
  },
  {
   "cell_type": "code",
   "execution_count": 51,
   "id": "758fd4b2",
   "metadata": {},
   "outputs": [],
   "source": [
    "SUBJECTS=\"/nas/home/bohuizha/KG/hunger-for-knowledge/data/gvp/ULAN/Subjects.tsv\"\n",
    "AGENTMAP=\"/nas/home/bohuizha/KG/hunger-for-knowledge/data/gvp/ULAN/AgentMap.tsv\"\n",
    "BIO=\"/nas/home/bohuizha/KG/hunger-for-knowledge/data/gvp/ULAN/Biographies.tsv\"\n",
    "AATALIGN=\"/nas/home/bohuizha/KG/hunger-for-knowledge/data/gvp/AAT/wiki.align.gender.tsv\"\n",
    "SUBGRAPH=\"/nas/home/bohuizha/KG/hunger-for-knowledge/data/gvp/ULAN/ulan.gender.concat.tsv\"\n",
    "\n",
    "!kgtk cat -i $SUBJECTS $AGENTMAP $BIO $AATALIGN -o $SUBGRAPH"
   ]
  },
  {
   "cell_type": "markdown",
   "id": "45e2a771",
   "metadata": {},
   "source": [
    "Add id"
   ]
  },
  {
   "cell_type": "code",
   "execution_count": 52,
   "id": "2a573a29",
   "metadata": {},
   "outputs": [],
   "source": [
    "SUBGRAPH=\"/nas/home/bohuizha/KG/hunger-for-knowledge/data/gvp/ULAN/ulan.gender.concat.tsv\"\n",
    "OUTPUT=\"/nas/home/bohuizha/KG/hunger-for-knowledge/data/gvp/ULAN/ulan.gender.concat.id.tsv\"\n",
    "\n",
    "!kgtk add-id -i $SUBGRAPH --id-style node1-label-node2 --id-separator \":\" -o $OUTPUT"
   ]
  },
  {
   "cell_type": "markdown",
   "id": "5b49d96d",
   "metadata": {},
   "source": [
    "# Example 0\n",
    "Analyze what happens with the Getty people that are not in Wikidata. Manually check 10 of them."
   ]
  },
  {
   "cell_type": "code",
   "execution_count": 3,
   "id": "64e42dbd",
   "metadata": {},
   "outputs": [],
   "source": [
    "SUBJECTS=\"/nas/home/bohuizha/KG/hunger-for-knowledge/data/gvp/ULAN/Subjects.tsv\"\n",
    "WIKIALIGN=\"/nas/home/bohuizha/KG/hunger-for-knowledge/data/gvp/ULAN/wiki.align.tsv\"\n",
    "OUTPUT=\"/nas/home/bohuizha/KG/hunger-for-knowledge/data/gvp/ULAN/not.wiki.align.tsv\"\n",
    "\n",
    "!kgtk ifnotexists -i $SUBJECTS \\\n",
    "    --filter-on $WIKIALIGN \\\n",
    "    --input-keys node1 \\\n",
    "    --filter-keys node1 \\\n",
    "    -o $OUTPUT"
   ]
  },
  {
   "cell_type": "code",
   "execution_count": 15,
   "id": "e0ebf697",
   "metadata": {},
   "outputs": [
    {
     "name": "stdout",
     "output_type": "stream",
     "text": [
      "node1\tlabel\tnode2\tbirth\n",
      "ulan:500020917\talias\t\"Guidaccio da Imola\"\t\"1463\"\n",
      "ulan:500130909\talias\t\"Andrea da Ancona\"\t\"1472\"\n",
      "ulan:500051853\talias\t\"Bassano family\"\t\"1530\"\n",
      "ulan:500353724\talias\t\"Stamperia granducale\"\t\"1643\"\n",
      "ulan:500015332\talias\t'Hoffmann, Felicità'@nl\t\"1690\"\n",
      "ulan:500043086\talias\t\"Silvestre, Suzanne Elisabeth\"\t\"1694\"\n",
      "ulan:500308843\talias\t\"Schloss Schwedt\"\t\"1700\"\n",
      "ulan:500191775\talias\t\"Richardson, J.\"\t\"1700\"\n",
      "ulan:500061099\talias\t\"Hoare, Prince, I\"\t\"1711\"\n",
      "ulan:500331245\talias\t\"Longman & Broderip\"\t\"1776\"\n",
      "ulan:500041030\talias\t\"Favart, Geneviève\"\t\"1780\"\n",
      "ulan:500073387\talias\t\"Saint George, Anne\"\t\"1785\"\n",
      "ulan:500015191\talias\t'Gauffier, Pauline'@nl\t\"1790\"\n",
      "ulan:500310372\talias\t\"Galerie Petit\"\t\"1800\"\n",
      "ulan:500310350\talias\t\"Galerie Manzi, Joyant et Compagnie\"\t\"1800\"\n",
      "ulan:500309067\talias\t\"Historical Museum\"\t\"1800\"\n",
      "ulan:500309627\talias\t\"International Centre of Culture\"\t\"1800\"\n",
      "ulan:500094932\talias\t\"Leporello\"\t\"1800\"\n",
      "ulan:500009196\talias\t\"Mulready, Elizabeth\"\t\"1802\"\n",
      "ulan:500112564\talias\t\"Heygendorf, Caroline von\"\t\"1820\"\n",
      "ulan:500019235\talias\t\"Braddon, Paul\"\t\"1825\"\n",
      "ulan:500301668\talias\t\"Arthur Tooth & Sons\"\t\"1842\"\n",
      "ulan:500074950\talias\t\"Hegg, Theresa Maria\"\t\"1849\"\n",
      "ulan:500330123\talias\t\"Martin, Hall & Co.\"\t\"1854\"\n",
      "ulan:500353454\talias\t\"Dummer, Oscar\"\t\"1857\"\n"
     ]
    }
   ],
   "source": [
    "OUTPUT=\"/nas/home/bohuizha/KG/hunger-for-knowledge/data/gvp/ULAN/not.wiki.align.tsv\"\n",
    "TERMS=\"/nas/home/bohuizha/KG/hunger-for-knowledge/data/gvp/ULAN/Terms.tsv\"\n",
    "\n",
    "!kgtk query -i $OUTPUT $TERMS \\\n",
    "    --match 'n: (ulanid)-[]->(), \\\n",
    "             t: (ulanid)-[p1]->(ulanterm), \\\n",
    "             t: (birth)<-[p4]-()<-[p2]-(ulanterm)-[p3]->(name)' \\\n",
    "    --where 'p1.label = \"gvp:prefLabelGVP\" AND p2.label = \"gvp:estStart\" AND p3.label = \"skosxl:literalForm\" AND p4.label = \"gvp:structured_value\"' \\\n",
    "    --return 'distinct ulanid as node1, \"alias\" as label, name as node2, birth as birth' \\\n",
    "    --limit 25"
   ]
  },
  {
   "cell_type": "markdown",
   "id": "a61e05c4",
   "metadata": {},
   "source": [
    "# Example 1:\n",
    "Simple query (name, birth place, birth year) for 50 people in both Wikidata and ULAN."
   ]
  },
  {
   "cell_type": "code",
   "execution_count": 27,
   "id": "cb2195b7",
   "metadata": {},
   "outputs": [
    {
     "name": "stdout",
     "output_type": "stream",
     "text": [
      "'id'\r\n",
      "\r\n"
     ]
    }
   ],
   "source": [
    "# seems not work when combine name query and birthyear query\n",
    "\n",
    "# TERMS=\"/nas/home/bohuizha/KG/hunger-for-knowledge/data/gvp/ULAN/Terms.tsv\"\n",
    "# ALIGN=\"/nas/home/bohuizha/KG/hunger-for-knowledge/data/gvp/ULAN/WikidataAlignment.tsv\"\n",
    "# BIO=\"/nas/home/bohuizha/KG/hunger-for-knowledge/data/gvp/ULAN/Biographies.tsv\"\n",
    "# # CLAIMS=\"\"\n",
    "\n",
    "# !kgtk query -i $ALIGN $TERMS $BIO \\\n",
    "#     --match 'a: (ulanid)-[]->(qnode), \\\n",
    "#              t: (ulanid)-[p0]->()-[p1]->(ulanname), \\\n",
    "#              t: (ulanid)-[p0]->()-[p2]->(snode)-[p3]->(datevalue)' \\\n",
    "#     --where 'p0.label = \"gvp:prefLabelGVP\" AND p1.label = \"skosxl:literalForm\" \\\n",
    "#              AND p2.label = \"gvp:estStart\" AND p3.label = \"gvp:structured_value\"' \\\n",
    "#     --return 'ulanname as node1, datevalue as node2' \\\n",
    "#     --limit 10"
   ]
  },
  {
   "cell_type": "markdown",
   "id": "71968fbe",
   "metadata": {},
   "source": [
    "## Step 1: query for names"
   ]
  },
  {
   "cell_type": "code",
   "execution_count": 63,
   "id": "7ede3b0b",
   "metadata": {},
   "outputs": [],
   "source": [
    "TERMS=\"/nas/home/bohuizha/KG/hunger-for-knowledge/data/gvp/ULAN/Terms.tsv\"\n",
    "# ALIGN=\"/nas/home/bohuizha/KG/hunger-for-knowledge/data/gvp/ULAN/WikidataAlignment.tsv\"\n",
    "ALIGN=\"/nas/home/bohuizha/KG/hunger-for-knowledge/data/gvp/WikiAlign.tsv\"\n",
    "BIO=\"/nas/home/bohuizha/KG/hunger-for-knowledge/data/gvp/ULAN/Biographies.tsv\"\n",
    "OUTPUT=\"/nas/home/bohuizha/KG/hunger-for-knowledge/data/gvp/labels.tsv\"\n",
    "\n",
    "!kgtk query -i $ALIGN $TERMS \\\n",
    "    --match 'WikiAlign: (ulanid)-[]->(qnode), t: (ulanid)-[p0]->(ulanterm)-[p1]->(ulanname)' \\\n",
    "    --where 'p0.label = \"gvp:prefLabelGVP\" AND p1.label = \"skosxl:literalForm\" AND kgtk_string(ulanname)' \\\n",
    "    --return 'distinct ulanid as node1, p0.label as label, ulanname as node2' \\\n",
    "    -o $OUTPUT"
   ]
  },
  {
   "cell_type": "code",
   "execution_count": 64,
   "id": "58ff847d",
   "metadata": {},
   "outputs": [
    {
     "name": "stdout",
     "output_type": "stream",
     "text": [
      "55162 /nas/home/bohuizha/KG/hunger-for-knowledge/data/gvp/labels.tsv\r\n"
     ]
    }
   ],
   "source": [
    "OUTPUT=\"/nas/home/bohuizha/KG/hunger-for-knowledge/data/gvp/labels.tsv\"\n",
    "!wc -l $OUTPUT"
   ]
  },
  {
   "cell_type": "markdown",
   "id": "6bc54af8",
   "metadata": {},
   "source": [
    "## Step 2: query for birth year"
   ]
  },
  {
   "cell_type": "code",
   "execution_count": 77,
   "id": "445fed0b",
   "metadata": {},
   "outputs": [],
   "source": [
    "AGENTMAP=\"/nas/home/bohuizha/KG/hunger-for-knowledge/data/gvp/ULAN/AgentMap.tsv\"\n",
    "# ALIGN=\"/nas/home/bohuizha/KG/hunger-for-knowledge/data/gvp/ULAN/WikidataAlignment.tsv\"\n",
    "ALIGN=\"/nas/home/bohuizha/KG/hunger-for-knowledge/data/gvp/WikiAlign.tsv\"\n",
    "BIO=\"/nas/home/bohuizha/KG/hunger-for-knowledge/data/gvp/ULAN/Biographies.tsv\"\n",
    "OUTPUT=\"/nas/home/bohuizha/KG/hunger-for-knowledge/data/gvp/birthyear.tsv\"\n",
    "\n",
    "!kgtk query -i $ALIGN $AGENTMAP $BIO \\\n",
    "    --match 'WikiAlign: (ulanid)-[]->(qnode), \\\n",
    "             AgentMap: (ulanid)-[p0]->(ulanagent), \\\n",
    "             Biographies: (ulanagent)-[p1]->()-[p2]->()-[p3]->(datevalue)' \\\n",
    "    --where 'p0.label = \"foaf:focus\" AND p1.label = \"gvp:biographyPreferred\" AND p2.label = \"gvp:estStart\" AND p3.label = \"gvp:structured_value\"' \\\n",
    "    --return 'distinct ulanid as node1, p2.label as label, datevalue as node2' \\\n",
    "    -o $OUTPUT"
   ]
  },
  {
   "cell_type": "code",
   "execution_count": 78,
   "id": "40d46a51",
   "metadata": {},
   "outputs": [
    {
     "name": "stdout",
     "output_type": "stream",
     "text": [
      "92354 /nas/home/bohuizha/KG/hunger-for-knowledge/data/gvp/birthyear.tsv\r\n"
     ]
    }
   ],
   "source": [
    "OUTPUT=\"/nas/home/bohuizha/KG/hunger-for-knowledge/data/gvp/birthyear.tsv\"\n",
    "!wc -l $OUTPUT"
   ]
  },
  {
   "cell_type": "markdown",
   "id": "ef0dd908",
   "metadata": {},
   "source": [
    "## Step 3: query for birth place"
   ]
  },
  {
   "cell_type": "code",
   "execution_count": 81,
   "id": "b0eca5a8",
   "metadata": {},
   "outputs": [],
   "source": [
    "AGENTMAP=\"/nas/home/bohuizha/KG/hunger-for-knowledge/data/gvp/ULAN/AgentMap.tsv\"\n",
    "# ALIGN=\"/nas/home/bohuizha/KG/hunger-for-knowledge/data/gvp/ULAN/WikidataAlignment.tsv\"\n",
    "ALIGN=\"/nas/home/bohuizha/KG/hunger-for-knowledge/data/gvp/WikiAlign.tsv\"\n",
    "BIO=\"/nas/home/bohuizha/KG/hunger-for-knowledge/data/gvp/ULAN/Biographies.tsv\"\n",
    "TGNTERMS=\"/nas/home/bohuizha/KG/hunger-for-knowledge/data/gvp/TGN/TGNTerms.tsv\"\n",
    "PLACEMAP=\"/nas/home/bohuizha/KG/hunger-for-knowledge/data/gvp/TGN/PlaceMap.tsv\"\n",
    "OUTPUT=\"/nas/home/bohuizha/KG/hunger-for-knowledge/data/gvp/birthplace.tsv\"\n",
    "\n",
    "!kgtk query -i $ALIGN $AGENTMAP $BIO $PLACEMAP $TGNTERMS \\\n",
    "    --match 'WikiAlign: (ulanid)-[]->(qnode), \\\n",
    "             AgentMap: (ulanid)-[p0]->(ulanagent), \\\n",
    "             Biographies: (ulanagent)-[p1]->(ulanbio)-[p2]->(tgnplace)' \\\n",
    "    --where 'p0.label = \"foaf:focus\" AND p1.label = \"gvp:biographyPreferred\" \\\n",
    "             AND p2.label = \"schema:birthPlace\"' \\\n",
    "    --return 'distinct ulanid as node1, p2.label as label, tgnplace as node2' \\\n",
    "    -o $OUTPUT"
   ]
  },
  {
   "cell_type": "code",
   "execution_count": 82,
   "id": "9dddf66d",
   "metadata": {},
   "outputs": [],
   "source": [
    "AGENTMAP=\"/nas/home/bohuizha/KG/hunger-for-knowledge/data/gvp/ULAN/AgentMap.tsv\"\n",
    "# ALIGN=\"/nas/home/bohuizha/KG/hunger-for-knowledge/data/gvp/ULAN/WikidataAlignment.tsv\"\n",
    "TGNTERMS=\"/nas/home/bohuizha/KG/hunger-for-knowledge/data/gvp/TGN/TGNTerms.tsv\"\n",
    "PLACEMAP=\"/nas/home/bohuizha/KG/hunger-for-knowledge/data/gvp/TGN/PlaceMap.tsv\"\n",
    "BIRTHPLACE=\"/nas/home/bohuizha/KG/hunger-for-knowledge/data/gvp/birthplace.tsv\"\n",
    "OUTPUT=\"/nas/home/bohuizha/KG/hunger-for-knowledge/data/gvp/birthplacelabel.tsv\"\n",
    "\n",
    "!kgtk query -i $BIRTHPLACE $PLACEMAP $TGNTERMS \\\n",
    "    --match 'birthplace: (ulanid)-[p]->(birthplace), \\\n",
    "             PlaceMap: (tgnid)-[p0]->(birthplace), \\\n",
    "             TGNTerms: (tgnid)-[p1]->(tgnterm), \\\n",
    "             TGNTerms: (tgnterm)-[p2]->(tgnlabel)' \\\n",
    "    --where 'p0.label = \"foaf:focus\" AND p1.label = \"skosxl:altLabel\" AND p2.label = \"gvp:term\" AND kgtk_lqstring_lang(tgnlabel) = \"en\"' \\\n",
    "    --return 'distinct ulanid as node1, p.label as label, kgtk_lqstring_text(tgnlabel) as node2' \\\n",
    "    -o $OUTPUT"
   ]
  },
  {
   "cell_type": "code",
   "execution_count": 83,
   "id": "00f5faee",
   "metadata": {},
   "outputs": [
    {
     "name": "stdout",
     "output_type": "stream",
     "text": [
      "13836 /nas/home/bohuizha/KG/hunger-for-knowledge/data/gvp/birthplacelabel.tsv\r\n"
     ]
    }
   ],
   "source": [
    "OUTPUT=\"/nas/home/bohuizha/KG/hunger-for-knowledge/data/gvp/birthplacelabel.tsv\"\n",
    "!wc -l $OUTPUT"
   ]
  },
  {
   "cell_type": "markdown",
   "id": "2cbd31f4",
   "metadata": {},
   "source": [
    "## Step 4: combination"
   ]
  },
  {
   "cell_type": "code",
   "execution_count": 101,
   "id": "4c53560d",
   "metadata": {},
   "outputs": [],
   "source": [
    "ALIGN=\"/nas/home/bohuizha/KG/hunger-for-knowledge/data/gvp/WikiAlign.tsv\"\n",
    "LABELS=\"/nas/home/bohuizha/KG/hunger-for-knowledge/data/gvp/labels.tsv\"\n",
    "BIRTHYEAR=\"/nas/home/bohuizha/KG/hunger-for-knowledge/data/gvp/birthyear.tsv\"\n",
    "BIRTHPLACE=\"/nas/home/bohuizha/KG/hunger-for-knowledge/data/gvp/birthplace.tsv\"\n",
    "BIRTHPLACELABEL=\"/nas/home/bohuizha/KG/hunger-for-knowledge/data/gvp/birthplacelabel.tsv\"\n",
    "OUTPUT=\"/nas/home/bohuizha/KG/hunger-for-knowledge/data/gvp/results.tsv\"\n",
    "\n",
    "!kgtk query -i $LABELS $ALIGN $BIRTHYEAR $BIRTHPLACE $BIRTHPLACELABEL \\\n",
    "    --match 'labels: (ulanid)-[]->(name), \\\n",
    "             WikiAlign: (ulanid)-[]->(qnode), \\\n",
    "             birthyear: (ulanid)-[]->(year), \\\n",
    "             birthplacelabel: (ulanid)-[]->(placelabel) ' \\\n",
    "    --return 'distinct ulanid as node1, \"skos:exactMatch\" as label, qnode as node2, name as Name, placelabel as Place, year as Year' \\\n",
    "    -o $OUTPUT"
   ]
  },
  {
   "cell_type": "code",
   "execution_count": 133,
   "id": "4b057b36",
   "metadata": {},
   "outputs": [
    {
     "name": "stdout",
     "output_type": "stream",
     "text": [
      "6711 /nas/home/bohuizha/KG/hunger-for-knowledge/data/gvp/results.tsv\r\n"
     ]
    }
   ],
   "source": [
    "OUTPUT=\"/nas/home/bohuizha/KG/hunger-for-knowledge/data/gvp/results.tsv\"\n",
    "!wc -l $OUTPUT"
   ]
  },
  {
   "cell_type": "markdown",
   "id": "1d6710a8",
   "metadata": {},
   "source": [
    "## Step 5: output desired files"
   ]
  },
  {
   "cell_type": "code",
   "execution_count": 106,
   "id": "96f51131",
   "metadata": {},
   "outputs": [],
   "source": [
    "results_path = \"/nas/home/bohuizha/KG/hunger-for-knowledge/data/gvp/results.tsv\"\n",
    "results_df = pd.read_csv(results_path, sep='\\t')\n",
    "results_50_df = results_df.groupby(['node1'], as_index=False).first()[:50]\n",
    "\n",
    "results_50_path = \"/nas/home/bohuizha/KG/hunger-for-knowledge/data/gvp/results_50.tsv\"\n",
    "results_50_df.to_csv(results_50_path, sep=',', columns=['Name', 'Place', 'Year'], \n",
    "                     index=False, quoting=csv.QUOTE_NONNUMERIC)\n",
    "align_50_path = \"/nas/home/bohuizha/KG/hunger-for-knowledge/data/gvp/align_50.tsv\"\n",
    "results_50_df.to_csv(align_50_path, sep=',', columns=['node1', 'label', 'node2'], index=False)"
   ]
  },
  {
   "cell_type": "code",
   "execution_count": null,
   "id": "1a6aa76e",
   "metadata": {},
   "outputs": [],
   "source": []
  }
 ],
 "metadata": {
  "kernelspec": {
   "display_name": "Python 3 (ipykernel)",
   "language": "python",
   "name": "python3"
  },
  "language_info": {
   "codemirror_mode": {
    "name": "ipython",
    "version": 3
   },
   "file_extension": ".py",
   "mimetype": "text/x-python",
   "name": "python",
   "nbconvert_exporter": "python",
   "pygments_lexer": "ipython3",
   "version": "3.7.10"
  }
 },
 "nbformat": 4,
 "nbformat_minor": 5
}
