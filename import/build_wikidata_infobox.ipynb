{
 "cells": [
  {
   "cell_type": "markdown",
   "id": "1ea03e05",
   "metadata": {},
   "source": [
    "# Build Wikidata Infobox"
   ]
  },
  {
   "cell_type": "code",
   "execution_count": 1,
   "id": "9d260f3c",
   "metadata": {},
   "outputs": [],
   "source": [
    "import os\n",
    "import re\n",
    "import csv\n",
    "import json\n",
    "import numpy as np\n",
    "import pandas as pd\n",
    "\n",
    "from kgtk.functions import kgtk, kypher"
   ]
  },
  {
   "cell_type": "markdown",
   "id": "cb8f5ddb",
   "metadata": {},
   "source": [
    "## Datasets\n",
    "1. Sitelinks: <div/>\n",
    "`id                          node1    label                 node2                                ` <div/>\n",
    "`Q45-wikipedia_sitelink-1    Q45      wikipedia_sitelink    http://en.wikipedia.org/wiki/Portugal`\n",
    "2. DBpedia infobox: <div/>\n",
    "`<http://dbpedia.org/resource/!!!>    <http://dbpedia.org/property/alias>    \"Chk Chk Chk\"@en `."
   ]
  },
  {
   "cell_type": "code",
   "execution_count": 2,
   "id": "1255b555",
   "metadata": {},
   "outputs": [
    {
     "name": "stdout",
     "output_type": "stream",
     "text": [
      "DATABASE: \"/nas/home/bohuizha/KG/hunger-for-knowledge/data/\"\n",
      "WIKI_INFO: \"/nas/home/bohuizha/KG/hunger-for-knowledge/data/wikidata_infobox.tsv\"\n",
      "WIKI_SITE: \"/nas/home/bohuizha/KG/hunger-for-knowledge/data/wikidata-20211027.sitelinks.en.tsv\"\n",
      "SITELINKS: \"/nas/home/bohuizha/KG/hunger-for-knowledge/data/infobox/sitelinks.tsv\"\n",
      "INFOBOX_TTL: \"/nas/home/bohuizha/KG/hunger-for-knowledge/data/infobox-properties_en_2021_12_01.ttl\"\n",
      "INFOBOX_TSV: \"/nas/home/bohuizha/KG/hunger-for-knowledge/data/infobox-properties_en_2021_12_01.tsv\"\n",
      "QNODES: \"/nas/home/bohuizha/KG/hunger-for-knowledge/data/infobox/qnodes.tsv\"\n",
      "NOT_DBNODE: \"/nas/home/bohuizha/KG/hunger-for-knowledge/data/infobox/wikidata_infobox_not_dbnode.tsv\"\n",
      "STRUCTURED_LITERALS: \"/nas/home/bohuizha/KG/hunger-for-knowledge/data/infobox/structured_literals.tsv\"\n",
      "NAMESPACES: \"/nas/home/bohuizha/KG/hunger-for-knowledge/data/namespaces.tsv\"\n",
      "WIKI_INFO_MAPPED: \"/nas/home/bohuizha/KG/hunger-for-knowledge/data/infobox/wikidata_infobox_mapped.tsv\"\n",
      "HEAD_MAPPED: \"/nas/home/bohuizha/KG/hunger-for-knowledge/data/infobox/wikidata_infobox_head_mapped.tsv\"\n"
     ]
    }
   ],
   "source": [
    "# Parameters\n",
    "\n",
    "# Folder where database files store\n",
    "data_path = \"/nas/home/bohuizha/KG/hunger-for-knowledge/data/\"\n",
    "\n",
    "# The names of files in the KGTK Wikidata distirbution that we will use in this notebook.\n",
    "data_file_names = {\n",
    "    \"wiki_info\": \"wikidata_infobox.tsv\",\n",
    "    \"wiki_site\": \"wikidata-20211027.sitelinks.en.tsv\",\n",
    "    \"sitelinks\": \"infobox/sitelinks.tsv\",\n",
    "    \"infobox_ttl\": \"infobox-properties_en_2021_12_01.ttl\",\n",
    "    \"infobox_tsv\": \"infobox-properties_en_2021_12_01.tsv\",\n",
    "    \"qnodes\": \"infobox/qnodes.tsv\",\n",
    "    \"not_dbnode\": \"infobox/wikidata_infobox_not_dbnode.tsv\",\n",
    "    \"structured_literals\": \"infobox/structured_literals.tsv\",\n",
    "    \"namespaces\": \"namespaces.tsv\",\n",
    "    \"wiki_info_mapped\": \"infobox/wikidata_infobox_mapped.tsv\",\n",
    "    \"head_mapped\": \"infobox/wikidata_infobox_head_mapped.tsv\"\n",
    "}\n",
    "\n",
    "# We will define environment variables to hold the full paths to the files as we will use them in the shell commands\n",
    "kgtk_environment_variables = []\n",
    "\n",
    "os.environ['DATABASE'] = data_path\n",
    "kgtk_environment_variables.append('DATABASE')\n",
    "\n",
    "for key, value in data_file_names.items():\n",
    "    variable = key.upper()\n",
    "    os.environ[variable] = data_path + value\n",
    "    kgtk_environment_variables.append(variable)\n",
    "    \n",
    "for variable in kgtk_environment_variables:\n",
    "    print(\"{}: \\\"{}\\\"\".format(variable, os.environ[variable]))"
   ]
  },
  {
   "cell_type": "markdown",
   "id": "2484a355",
   "metadata": {},
   "source": [
    "## Procedure"
   ]
  },
  {
   "cell_type": "markdown",
   "id": "a60dcae3",
   "metadata": {},
   "source": [
    "### Step 1 Build Wikidata nodes to DBpedia nodes link\n",
    "Convert node2 from ` http://en.wikipedia.org/wiki/Portugal` into `dbpedia-resource:Portugal` use namespace;"
   ]
  },
  {
   "cell_type": "code",
   "execution_count": 5,
   "id": "5f694231",
   "metadata": {},
   "outputs": [],
   "source": [
    "df = pd.read_csv(os.environ[\"WIKI_SITE\"], sep='\\t')\n",
    "\n",
    "df['id'] = df['id'].apply(lambda x: re.sub('wiki', 'db', x))\n",
    "df['node2'] = df['node2'].apply(lambda x: re.sub('http://en.wikipedia.org/wiki/', 'dbpedia-resource:', x))\n",
    "# \n",
    "df.loc[len(df.index)] = ['prefix', 'dbpedia-resource', 'prefix_expansion', '\"http://dbpedia.org/resource/\"', 'en', np.nan, np.nan]\n",
    "\n",
    "df.to_csv(os.environ[\"SITELINKS\"], sep='\\t', index=False,\n",
    "          quoting=csv.QUOTE_NONE, escapechar='', quotechar='')"
   ]
  },
  {
   "cell_type": "markdown",
   "id": "092d9028",
   "metadata": {},
   "source": [
    "### Step 2 Build namespaces"
   ]
  },
  {
   "cell_type": "code",
   "execution_count": 6,
   "id": "56ec74a2",
   "metadata": {},
   "outputs": [],
   "source": [
    "namespaces = [\n",
    "    [\n",
    "        'dbpedia-resource',\n",
    "        'prefix_expansion',\n",
    "        '\"http://dbpedia.org/resource/\"'\n",
    "    ],\n",
    "    [\n",
    "        'property',\n",
    "        'prefix_expansion',\n",
    "        '\"http://dbpedia.org/property/\"'\n",
    "    ],\n",
    "    [\n",
    "        'dbpedia-datatype',\n",
    "        'prefix_expansion',\n",
    "        '\"http://dbpedia.org/datatype/\"'\n",
    "    ],\n",
    "    [\n",
    "        'rdf',\n",
    "        'prefix_expansion',\n",
    "        '\"http://www.w3.org/1999/02/22-rdf-syntax-ns#\"'\n",
    "    ],\n",
    "    [\n",
    "        'xml-schema-type',\n",
    "        'prefix_expansion',\n",
    "        '\"http://www.w3.org/2001/XMLSchema#\"'\n",
    "    ]\n",
    "]\n",
    "with open(os.environ[\"NAMESPACES\"], 'w+', newline='') as f:\n",
    "    fieldnames = ['node1', 'label', 'node2']\n",
    "    # fieldnames = ['subject', 'to', 'object']\n",
    "    writer = csv.writer(f, delimiter='\\t', quoting=csv.QUOTE_NONE, escapechar='', quotechar='')\n",
    "    writer.writerow(fieldnames)\n",
    "    for ns in namespaces:\n",
    "        writer.writerow(ns)"
   ]
  },
  {
   "cell_type": "markdown",
   "id": "fad4220f",
   "metadata": {},
   "source": [
    "### Step 3 Import DBpedia infobox\n",
    "Use `kgtk` `import-ntriples` to convert ttl to tsv;"
   ]
  },
  {
   "cell_type": "code",
   "execution_count": 7,
   "id": "0902f81d",
   "metadata": {},
   "outputs": [
    {
     "name": "stdout",
     "output_type": "stream",
     "text": [
      "CPU times: user 1.12 s, sys: 780 ms, total: 1.9 s\n",
      "Wall time: 43min 51s\n"
     ]
    }
   ],
   "source": [
    "%%time\n",
    "kgtk(\"\"\"\n",
    "    import-ntriples -i $INFOBOX_TTL \n",
    "        -o $INFOBOX_TSV \n",
    "        --namespace-file $NAMESPACES \n",
    "        --namespace-id-use-uuid True \n",
    "        --build-new-namespaces False \n",
    "        --output-only-used-namespaces True \n",
    "        --structured-value-label dbpedia:structured_value \n",
    "        --structured-uri-label dbpedia:structured_uri \n",
    "        --newnode-prefix node \n",
    "        --newnode-use-uuid True\n",
    "    \"\"\")"
   ]
  },
  {
   "cell_type": "markdown",
   "id": "15671100",
   "metadata": {},
   "source": [
    "### Step 4 Map node2 to Wikidata nodes\n",
    "For records like `<Wikidata node> <property> <DBpedia node>` map value node (node2) into `Wikidata node`, like `<Wikidata node> <property> <Wikidata node>`;"
   ]
  },
  {
   "cell_type": "code",
   "execution_count": 8,
   "id": "72cf6a79",
   "metadata": {},
   "outputs": [
    {
     "name": "stdout",
     "output_type": "stream",
     "text": [
      "CPU times: user 451 ms, sys: 375 ms, total: 826 ms\n",
      "Wall time: 14min 9s\n"
     ]
    }
   ],
   "source": [
    "%%time\n",
    "kgtk(\"\"\"\n",
    "    query -i $INFOBOX_TSV $SITELINKS\n",
    "        --match 'i: (w)-[p]->(v), s: (q)-[]->(w)' \n",
    "        --return 'q as node1, p.label as label, v as node2'\n",
    "        -o $HEAD_MAPPED \n",
    "    \"\"\")"
   ]
  },
  {
   "cell_type": "code",
   "execution_count": 9,
   "id": "029604d3",
   "metadata": {},
   "outputs": [
    {
     "name": "stdout",
     "output_type": "stream",
     "text": [
      "CPU times: user 407 ms, sys: 382 ms, total: 790 ms\n",
      "Wall time: 10min 56s\n"
     ]
    }
   ],
   "source": [
    "%%time\n",
    "kgtk(\"\"\"\n",
    "    query -i $HEAD_MAPPED $SITELINKS \n",
    "        --match 'wi: (w)-[p]->(v), s: (q)-[]->(v)' \n",
    "        --return 'w as node1, p.label as label, q as node2' \n",
    "        -o $QNODES\n",
    "    \"\"\") "
   ]
  },
  {
   "cell_type": "code",
   "execution_count": 10,
   "id": "1b1902f8",
   "metadata": {},
   "outputs": [
    {
     "name": "stdout",
     "output_type": "stream",
     "text": [
      "CPU times: user 233 ms, sys: 294 ms, total: 527 ms\n",
      "Wall time: 6min 43s\n"
     ]
    }
   ],
   "source": [
    "%%time\n",
    "kgtk(\"\"\"\n",
    "    filter -i $HEAD_MAPPED \n",
    "        --regex --match-type match \n",
    "        -p ';;^(?!dbpedia-resource:).*' \n",
    "        -o $NOT_DBNODE\n",
    "    \"\"\")"
   ]
  },
  {
   "cell_type": "code",
   "execution_count": 11,
   "id": "ce5a57a3",
   "metadata": {},
   "outputs": [
    {
     "name": "stdout",
     "output_type": "stream",
     "text": [
      "CPU times: user 131 ms, sys: 361 ms, total: 493 ms\n",
      "Wall time: 5min 47s\n"
     ]
    }
   ],
   "source": [
    "%%time\n",
    "kgtk(\"\"\"\n",
    "    join --left-join --right-join \n",
    "        --left-file $NOT_DBNODE\n",
    "        --right-file $QNODES \n",
    "        -o $WIKI_INFO_MAPPED\n",
    "    \"\"\")"
   ]
  },
  {
   "cell_type": "markdown",
   "id": "91a1acb9",
   "metadata": {},
   "source": [
    "### Step 5 Add structured literals\n",
    "Concatenate structure literals in original DBpedia infobox with generated Wikidata infobox;"
   ]
  },
  {
   "cell_type": "code",
   "execution_count": 12,
   "id": "3f957d9b",
   "metadata": {},
   "outputs": [
    {
     "name": "stdout",
     "output_type": "stream",
     "text": [
      "CPU times: user 81.8 ms, sys: 278 ms, total: 360 ms\n",
      "Wall time: 5min 38s\n"
     ]
    }
   ],
   "source": [
    "%%time\n",
    "kgtk(\"\"\"\n",
    "    filter -i $INFOBOX_TSV \n",
    "        --regex --match-type match \n",
    "        -p \"node;;\" \n",
    "        -o $STRUCTURED_LITERALS\n",
    "    \"\"\")"
   ]
  },
  {
   "cell_type": "code",
   "execution_count": 13,
   "id": "24b7034d",
   "metadata": {},
   "outputs": [
    {
     "name": "stdout",
     "output_type": "stream",
     "text": [
      "CPU times: user 37.4 ms, sys: 199 ms, total: 236 ms\n",
      "Wall time: 1min 34s\n"
     ]
    }
   ],
   "source": [
    "%%time\n",
    "kgtk(\"\"\"\n",
    "    cat -i $STRUCTURED_LITERALS $WIKI_INFO_MAPPED \n",
    "        -o $WIKI_INFO\n",
    "    \"\"\")"
   ]
  },
  {
   "cell_type": "code",
   "execution_count": null,
   "id": "06915c59",
   "metadata": {},
   "outputs": [],
   "source": [
    "# kgtk(\"\"\"\n",
    "#     query -i $WIKIINFO \n",
    "#         --match '(q)-[]->()' \n",
    "#         --where 'q = \"\"'\n",
    "#     \"\"\")"
   ]
  },
  {
   "cell_type": "code",
   "execution_count": null,
   "id": "20bc6a5d",
   "metadata": {},
   "outputs": [],
   "source": []
  }
 ],
 "metadata": {
  "kernelspec": {
   "display_name": "Python 3 (ipykernel)",
   "language": "python",
   "name": "python3"
  },
  "language_info": {
   "codemirror_mode": {
    "name": "ipython",
    "version": 3
   },
   "file_extension": ".py",
   "mimetype": "text/x-python",
   "name": "python",
   "nbconvert_exporter": "python",
   "pygments_lexer": "ipython3",
   "version": "3.7.10"
  }
 },
 "nbformat": 4,
 "nbformat_minor": 5
}
