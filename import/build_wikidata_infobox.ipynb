{
 "cells": [
  {
   "cell_type": "markdown",
   "id": "1ea03e05",
   "metadata": {},
   "source": [
    "# Build Wikidata Infobox"
   ]
  },
  {
   "cell_type": "markdown",
   "id": "cb8f5ddb",
   "metadata": {},
   "source": [
    "## Datasets\n",
    "1. Sitelinks: <div/>\n",
    "`id    node1    label    node2    rank` <div/>\n",
    "`Q45-wikipedia_sitelink-1    Q45    wikipedia_sitelink    http://en.wikipedia.org/wiki/Portugal`\n",
    "2. DBpedia infobox: <div/>\n",
    "<http://dbpedia.org/resource/!!!>    <http://dbpedia.org/property/alias>    \"Chk Chk Chk\"@en ."
   ]
  },
  {
   "cell_type": "markdown",
   "id": "2484a355",
   "metadata": {},
   "source": [
    "## Procedure"
   ]
  },
  {
   "cell_type": "code",
   "execution_count": 1,
   "id": "9d260f3c",
   "metadata": {},
   "outputs": [],
   "source": [
    "import csv\n",
    "import pandas as pd"
   ]
  },
  {
   "cell_type": "markdown",
   "id": "a60dcae3",
   "metadata": {},
   "source": [
    "### Step 1 Build Wikidata nodes to DBpedia nodes link\n",
    "Convert node2 from ` http://en.wikipedia.org/wiki/Portugal` into `dbpedia-resource:Portugal` use namespace;"
   ]
  },
  {
   "cell_type": "code",
   "execution_count": null,
   "id": "5f694231",
   "metadata": {},
   "outputs": [],
   "source": [
    "sitelink_path = '../data/wikidata-20181210.sitelinks.en.tsv'\n",
    "df = pd.read_csv(sitelink_path, sep='\\t')\n",
    "\n",
    "df['id'] = df['id'].apply(lambda x: re.sub('wiki', 'db', x))\n",
    "df['node2'] = df['node2'].apply(lambda x: re.sub('http://en.wikipedia.org/wiki/', 'dbpedia-resource:', x))\n",
    "df.loc[len(df.index)] = ['prefix', 'dbpedia-resource', 'prefix_expansion', '\"http://dbpedia.org/resource/\"', np.nan]\n",
    "\n",
    "df.to_csv('../data/sitelinks.tsv', sep='\\t', index=False,\n",
    "          quoting=csv.QUOTE_NONE, escapechar='', quotechar='')"
   ]
  },
  {
   "cell_type": "markdown",
   "id": "092d9028",
   "metadata": {},
   "source": [
    "### Step 2 Build namespaces"
   ]
  },
  {
   "cell_type": "code",
   "execution_count": null,
   "id": "56ec74a2",
   "metadata": {},
   "outputs": [],
   "source": [
    "namespaces = [\n",
    "    [\n",
    "        'dbpedia-resource',\n",
    "        'prefix_expansion',\n",
    "        '\"http://dbpedia.org/resource/\"'\n",
    "    ],\n",
    "    [\n",
    "        'property',\n",
    "        'prefix_expansion',\n",
    "        '\"http://dbpedia.org/property/\"'\n",
    "    ],\n",
    "    [\n",
    "        'dbpedia-datatype',\n",
    "        'prefix_expansion',\n",
    "        '\"http://dbpedia.org/datatype/\"'\n",
    "    ],\n",
    "    [\n",
    "        'rdf',\n",
    "        'prefix_expansion',\n",
    "        '\"http://www.w3.org/1999/02/22-rdf-syntax-ns#\"'\n",
    "    ],\n",
    "    [\n",
    "        'xml-schema-type',\n",
    "        'prefix_expansion',\n",
    "        '\"http://www.w3.org/2001/XMLSchema#\"'\n",
    "    ]\n",
    "]\n",
    "with open('../data/namespaces.tsv', 'w+', newline='') as f:\n",
    "    fieldnames = ['node1', 'label', 'node2']\n",
    "    # fieldnames = ['subject', 'to', 'object']\n",
    "    writer = csv.writer(f, delimiter='\\t', quoting=csv.QUOTE_NONE, escapechar='', quotechar='')\n",
    "    writer.writerow(fieldnames)\n",
    "    for ns in namespaces:\n",
    "        writer.writerow(ns)"
   ]
  },
  {
   "cell_type": "markdown",
   "id": "fad4220f",
   "metadata": {},
   "source": [
    "### Step 3 Import DBpedia infobox\n",
    "Use `kgtk` `import-ntriples` to convert ttl to tsv;"
   ]
  },
  {
   "cell_type": "code",
   "execution_count": null,
   "id": "0902f81d",
   "metadata": {},
   "outputs": [],
   "source": [
    "%%bash\n",
    "INFOBOX_INPUT_FILE=\"../data/infobox-properties_lang=en.ttl\"\n",
    "INFOBOX_OUTPUT_FILE=\"../data/infobox_properties_lang=en.tsv\"\n",
    "\n",
    "kgtk import-ntriples -i $INFOBOX_INPUT_FILE \\\n",
    "                     -o $INFOBOX_OUTPUT_FILE \\\n",
    "                     --namespace-file ../data/namespaces.tsv \\\n",
    "                     --namespace-id-use-uuid True \\\n",
    "                     --build-new-namespaces False \\\n",
    "                     --output-only-used-namespaces True \\\n",
    "                     --structured-value-label dbpedia:structured_value \\\n",
    "                     --structured-uri-label dbpedia:structured_uri \\\n",
    "                     --newnode-prefix node \\\n",
    "                     --newnode-use-uuid True"
   ]
  },
  {
   "cell_type": "markdown",
   "id": "15671100",
   "metadata": {},
   "source": [
    "### Step 4 Map node2 to Wikidata nodes\n",
    "For records like `<Wikidata node> <property> <DBpedia node>` map value node (node2) into `Wikidata node`, like `<Wikidata node> <property> <Wikidata node>`;"
   ]
  },
  {
   "cell_type": "code",
   "execution_count": null,
   "id": "029604d3",
   "metadata": {},
   "outputs": [],
   "source": [
    "%%bash\n",
    "WIKI_INFO='../data/wikidata_infobox_lang=en.tsv'\n",
    "SITELINK='../data/wikidata-20181210.sitelinks.en.tsv'\n",
    "\n",
    "kgtk query -i $WIKI_INFO -i $SITELINK \\\n",
    "          --match 'wi: (w)-[p]->(v), s: (q)-[]->(v)' \\\n",
    "          --return 'w, p.label, q' \\\n",
    "          -o ../data/node2_wikidata.tsv"
   ]
  },
  {
   "cell_type": "code",
   "execution_count": null,
   "id": "1b1902f8",
   "metadata": {},
   "outputs": [],
   "source": [
    "%%bash\n",
    "WIKI_INFO='../data/wikidata_infobox_lang=en.tsv'\n",
    "\n",
    "kgtk filter -i $WIKI_INFO \\\n",
    "           --regex --match-type match \\\n",
    "           -p ';;^(?!dbpedia-resource:).*' \\\n",
    "           -o ../data/wiki_infobox_no_dbvalue.tsv"
   ]
  },
  {
   "cell_type": "code",
   "execution_count": null,
   "id": "ce5a57a3",
   "metadata": {},
   "outputs": [],
   "source": [
    "%%bash\n",
    "kgtk join --left-join --right-join \\\n",
    "          --left-file ../data/wiki_infobox_no_dbvalue.tsv \\\n",
    "          --right-file ../data/node2_wikidata.tsv \\\n",
    "          -o ../data/wiki_infobox_mapped.tsv"
   ]
  },
  {
   "cell_type": "markdown",
   "id": "91a1acb9",
   "metadata": {},
   "source": [
    "### Step 5 Add structured literals\n",
    "Concatenate structure literals in original DBpedia infobox with generated Wikidata infobox;"
   ]
  },
  {
   "cell_type": "code",
   "execution_count": null,
   "id": "3f957d9b",
   "metadata": {},
   "outputs": [],
   "source": [
    "%%bash\n",
    "INFOBOX=\"../data/infobox_properties_lang=en.tsv\"\n",
    "\n",
    "kgtk filter -i $INFOBOX \\\n",
    "           --regex --match-type match \\\n",
    "           -p \"node;;\" \\\n",
    "           -o ../data/structured_literals.tsv"
   ]
  },
  {
   "cell_type": "code",
   "execution_count": null,
   "id": "24b7034d",
   "metadata": {},
   "outputs": [],
   "source": [
    "%%bash\n",
    "kgtk cat -i ../data/structured_literals.tsv ../data/wiki_infobox_mapped.tsv \\\n",
    "         -o ../data/wikidata_infobox.tsv"
   ]
  },
  {
   "cell_type": "code",
   "execution_count": null,
   "id": "afa2789d",
   "metadata": {},
   "outputs": [],
   "source": []
  },
  {
   "cell_type": "code",
   "execution_count": 4,
   "id": "06915c59",
   "metadata": {},
   "outputs": [
    {
     "name": "stdout",
     "output_type": "stream",
     "text": [
      "node1\tlabel\tnode2\r\n",
      "nodemxZbyK2VRrGoaxfdLmyLxw-5457912\tdbpedia:structured_value\t\"1964-09-27\"\r\n",
      "nodemxZbyK2VRrGoaxfdLmyLxw-5457912\tdbpedia:structured_uri\txml-schema-type:date\r\n"
     ]
    }
   ],
   "source": [
    "WIKIINFO=\"./data/wikidata_infobox.tsv\"\n",
    "\n",
    "!kgtk query -i $WIKIINFO \\\n",
    "    --match '(q)-[]->()' \\\n",
    "    --where 'q = \"nodemxZbyK2VRrGoaxfdLmyLxw-5457912\"'"
   ]
  },
  {
   "cell_type": "code",
   "execution_count": null,
   "id": "20bc6a5d",
   "metadata": {},
   "outputs": [],
   "source": []
  }
 ],
 "metadata": {
  "kernelspec": {
   "display_name": "Python 3",
   "language": "python",
   "name": "python3"
  },
  "language_info": {
   "codemirror_mode": {
    "name": "ipython",
    "version": 3
   },
   "file_extension": ".py",
   "mimetype": "text/x-python",
   "name": "python",
   "nbconvert_exporter": "python",
   "pygments_lexer": "ipython3",
   "version": "3.7.10"
  }
 },
 "nbformat": 4,
 "nbformat_minor": 5
}
