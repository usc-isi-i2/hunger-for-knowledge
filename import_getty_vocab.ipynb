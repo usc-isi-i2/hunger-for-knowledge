{
 "cells": [
  {
   "cell_type": "code",
   "execution_count": 46,
   "id": "a73ded37",
   "metadata": {},
   "outputs": [
    {
     "name": "stdout",
     "output_type": "stream",
     "text": [
      "/nas/home/bohuizha/KG/hunger-for-knowledge\r\n"
     ]
    }
   ],
   "source": [
    "!pwd"
   ]
  },
  {
   "cell_type": "code",
   "execution_count": 87,
   "id": "fe6b7597",
   "metadata": {},
   "outputs": [],
   "source": [
    "import csv\n",
    "import pandas as pd"
   ]
  },
  {
   "cell_type": "code",
   "execution_count": null,
   "id": "b25e6910",
   "metadata": {},
   "outputs": [],
   "source": [
    "# check file by loading into dataframe\n",
    "ulan_subject_path = '/nas/home/bohuizha/KG/hunger-for-knowledge/data/gvp/ULAN/ULANOut_1Subjects.nt'\n",
    "ulan_subject_df = pd.read_csv(ulan_subject_path, sep=' ', \n",
    "                              header=None, names=['node1', 'label', 'node2', 'x'],\n",
    "                              usecols=[0, 1, 2])\n",
    "ulan_subject_df"
   ]
  },
  {
   "cell_type": "markdown",
   "id": "ee279062",
   "metadata": {},
   "source": [
    "Build namespace file for import."
   ]
  },
  {
   "cell_type": "code",
   "execution_count": 33,
   "id": "6b0a887f",
   "metadata": {},
   "outputs": [],
   "source": [
    "# namepsaces prefix come from http://vocab.getty.edu/ : \"GVP ontology\"\n",
    "namespaces = []\n",
    "namespaces.append(['xml-schema-type', 'prefix_expansion', '\"http://www.w3.org/2001/XMLSchema#\"'])\n",
    "namespaces.append(['ulan_scopeNote', 'prefix_expansion', '\"http://vocab.getty.edu/ulan/scopeNote/\"'])\n",
    "namespaces.append(['tgn_term', 'prefix_expansion', '\"http://vocab.getty.edu/tgn/term/\"'])\n",
    "namespaces.append(['rrx', 'prefix_expansion', '\"http://purl.org/r2rml-ext/\"'])\n",
    "namespaces.append(['tgn_scopeNote', 'prefix_expansion', '\"http://vocab.getty.edu/tgn/scopeNote/\"'])\n",
    "namespaces.append(['bio', 'prefix_expansion', '\"http://purl.org/vocab/bio/0.1/\"'])\n",
    "namespaces.append(['sd', 'prefix_expansion', '\"http://www.w3.org/ns/sparql-service-description#\"'])\n",
    "namespaces.append(['bibo', 'prefix_expansion', '\"http://purl.org/ontology/bibo/\"'])\n",
    "namespaces.append(['ulan', 'prefix_expansion', '\"http://vocab.getty.edu/ulan/\"'])\n",
    "namespaces.append(['voag', 'prefix_expansion', '\"', 'prefix_expansion', '\"http://voag.linkedmodel.org/voag#\"'])\n",
    "namespaces.append(['wv', 'prefix_expansion', '\"http://vocab.org/waiver/terms/\"'])\n",
    "namespaces.append(['rr', 'prefix_expansion', '\"http://www.w3.org/ns/r2rml#\"'])\n",
    "namespaces.append(['ulan_event', 'prefix_expansion', '\"http://vocab.getty.edu/ulan/event/\"'])\n",
    "namespaces.append(['wgs', 'prefix_expansion', '\"http://www.w3.org/2003/01/geo/wgs84_pos#\"'])\n",
    "namespaces.append(['ulan_contrib', 'prefix_expansion', '\"http://vocab.getty.edu/ulan/contrib/\"'])\n",
    "namespaces.append(['luc', 'prefix_expansion', '\"http://www.ontotext.com/owlim/lucene#\"'])\n",
    "namespaces.append(['ulan_rev', 'prefix_expansion', '\"http://vocab.getty.edu/ulan/rev/\"'])\n",
    "namespaces.append(['dcat', 'prefix_expansion', '\"http://www.w3.org/ns/dcat#\"'])\n",
    "namespaces.append(['ulan_term', 'prefix_expansion', '\"http://vocab.getty.edu/ulan/term/\"'])\n",
    "namespaces.append(['aat_scopeNote', 'prefix_expansion', '\"http://vocab.getty.edu/aat/scopeNote/\"'])\n",
    "namespaces.append(['voaf', 'prefix_expansion', '\"http://purl.org/vocommons/voaf#\"'])\n",
    "namespaces.append(['void', 'prefix_expansion', '\"http://rdfs.org/ns/void#\"'])\n",
    "namespaces.append(['aat_rel', 'prefix_expansion', '\"http://vocab.getty.edu/aat/rel/\"'])\n",
    "namespaces.append(['fmt', 'prefix_expansion', '\"http://www.w3.org/ns/formats/\"'])\n",
    "namespaces.append(['ulan_bio', 'prefix_expansion', '\"http://vocab.getty.edu/ulan/bio/\"'])\n",
    "namespaces.append(['tgn_contrib', 'prefix_expansion', '\"http://vocab.getty.edu/tgn/contrib/\"'])\n",
    "namespaces.append(['owl', 'prefix_expansion', '\"http://www.w3.org/2002/07/owl#\"'])\n",
    "namespaces.append(['skosxl', 'prefix_expansion', '\"http://www.w3.org/2008/05/skos-xl#\"'])\n",
    "namespaces.append(['sesame', 'prefix_expansion', '\"http://www.openrdf.org/schema/sesame#\"'])\n",
    "namespaces.append(['ulan_rel', 'prefix_expansion', '\"http://vocab.getty.edu/ulan/rel/\"'])\n",
    "namespaces.append(['tgn_rev', 'prefix_expansion', '\"http://vocab.getty.edu/tgn/rev/\"'])\n",
    "namespaces.append(['aat', 'prefix_expansion', '\"http://vocab.getty.edu/aat/\"'])\n",
    "namespaces.append(['tgn', 'prefix_expansion', '\"http://vocab.getty.edu/tgn/\"'])\n",
    "namespaces.append(['ontogeo', 'prefix_expansion', '\"http://www.ontotext.com/owlim/geo#\"'])\n",
    "namespaces.append(['aat_rev', 'prefix_expansion', '\"http://vocab.getty.edu/aat/rev/\"'])\n",
    "namespaces.append(['prov', 'prefix_expansion', '\"http://www.w3.org/ns/prov#\"'])\n",
    "namespaces.append(['gvp', 'prefix_expansion', '\"http://vocab.getty.edu/ontology#\"'])\n",
    "namespaces.append(['tgn_rel', 'prefix_expansion', '\"http://vocab.getty.edu/tgn/rel/\"'])\n",
    "namespaces.append(['schema', 'prefix_expansion', '\"http://schema.org/\"'])\n",
    "namespaces.append(['ptop', 'prefix_expansion', '\"http://www.ontotext.com/proton/protontop#\"'])\n",
    "namespaces.append(['wdrs', 'prefix_expansion', '\"http://www.w3.org/2007/05/powder-s#\"'])\n",
    "namespaces.append(['aat_term', 'prefix_expansion', '\"http://vocab.getty.edu/aat/term/\"'])\n",
    "namespaces.append(['rdf', 'prefix_expansion', '\"http://www.w3.org/1999/02/22-rdf-syntax-ns#\"'])\n",
    "namespaces.append(['ulan_source_rev', 'prefix_expansion', '\"http://vocab.getty.edu/ulan/source/rev/\"'])\n",
    "namespaces.append(['foaf', 'prefix_expansion', '\"http://xmlns.com/foaf/0.1/\"'])\n",
    "namespaces.append(['tgn_source', 'prefix_expansion', '\"http://vocab.getty.edu/tgn/source/\"'])\n",
    "namespaces.append(['vaem', 'prefix_expansion', '\"http://www.linkedmodel.org/schema/vaem#\"'])\n",
    "namespaces.append(['dctype', 'prefix_expansion', '\"http://purl.org/dc/dcmitype/\"'])\n",
    "namespaces.append(['dcterm', 'prefix_expansion', '\"http://purl.org/dc/terms/\"'])\n",
    "namespaces.append(['iso', 'prefix_expansion', '\"http://purl.org/iso25964/skos-thes#\"'])\n",
    "namespaces.append(['aat_contrib', 'prefix_expansion', '\"http://vocab.getty.edu/aat/contrib/\"'])\n",
    "namespaces.append(['skos', 'prefix_expansion', '\"http://www.w3.org/2004/02/skos/core#\"'])\n",
    "namespaces.append(['vdpp', 'prefix_expansion', '\"http://data.lirmm.fr/ontologies/vdpp#\"'])\n",
    "namespaces.append(['adms', 'prefix_expansion', '\"http://www.w3.org/ns/adms#\"'])\n",
    "namespaces.append(['gvp_lang', 'prefix_expansion', '\"http://vocab.getty.edu/language/\"'])\n",
    "namespaces.append(['dc', 'prefix_expansion', '\"http://purl.org/dc/elements/1.1/\"'])\n",
    "namespaces.append(['aat_source_rev', 'prefix_expansion', '\"http://vocab.getty.edu/aat/source/rev/\"'])\n",
    "namespaces.append(['vann', 'prefix_expansion', '\"http://purl.org/vocab/vann/\"'])\n",
    "namespaces.append(['vcard', 'prefix_expansion', '\"http://www.w3.org/2006/vcard/ns#\"'])\n",
    "namespaces.append(['ulan_source', 'prefix_expansion', '\"http://vocab.getty.edu/ulan/source/\"'])\n",
    "namespaces.append(['cc', 'prefix_expansion', '\"http://creativecommons.org/ns#\"'])\n",
    "namespaces.append(['rdfs', 'prefix_expansion', '\"http://www.w3.org/2000/01/rdf-schema#\"'])"
   ]
  },
  {
   "cell_type": "code",
   "execution_count": 34,
   "id": "a60338ea",
   "metadata": {},
   "outputs": [],
   "source": [
    "# save namespaces\n",
    "with open('/nas/home/bohuizha/KG/hunger-for-knowledge/data/gvp/namespaces.tsv', 'w+', newline='') as f:\n",
    "    fieldnames = ['node1', 'label', 'node2']\n",
    "    writer = csv.writer(f, delimiter='\\t', quoting=csv.QUOTE_NONE, escapechar='', quotechar='')\n",
    "    writer.writerow(fieldnames)\n",
    "    for ns in namespaces:\n",
    "        writer.writerow(ns)"
   ]
  },
  {
   "cell_type": "markdown",
   "id": "207cead2",
   "metadata": {},
   "source": [
    "Here we built our own alignment file instead of using WikidataAlignment provided by ULAN. The later example proves this -- the WikidataAlignment contains much less useful pairs than our own alignment file."
   ]
  },
  {
   "cell_type": "code",
   "execution_count": 60,
   "id": "178f6d42",
   "metadata": {},
   "outputs": [],
   "source": [
    "WIKIDATA=\"/nas/home/bohuizha/KG/hunger-for-knowledge/batch_output/results/results.P245.tsv\"\n",
    "SUBJECTS=\"/nas/home/bohuizha/KG/hunger-for-knowledge/data/gvp/ULAN/Subjects.tsv\"\n",
    "OUTPUT=\"/nas/home/bohuizha/KG/hunger-for-knowledge/data/gvp/WikiAlign.tsv\"\n",
    "\n",
    "!kgtk query -i $WIKIDATA $SUBJECTS \\\n",
    "    --match 'r: (qnode)-[]->(identifier), s: (ulanid)-[p]->(identifier)' \\\n",
    "    --where 'p.label = \"dc:identifier\"' \\\n",
    "    --return 'ulanid as node1, \"skos:exactMatch\" as label, qnode as node2' \\\n",
    "    -o $OUTPUT"
   ]
  },
  {
   "cell_type": "code",
   "execution_count": 108,
   "id": "649da387",
   "metadata": {},
   "outputs": [
    {
     "name": "stdout",
     "output_type": "stream",
     "text": [
      "node1           label            node2\r\n",
      "ulan:500023949  skos:exactMatch  Q1000203\r\n",
      "ulan:500123827  skos:exactMatch  Q1000471\r\n",
      "ulan:500223082  skos:exactMatch  Q1000490\r\n",
      "ulan:500108173  skos:exactMatch  Q1000506\r\n"
     ]
    }
   ],
   "source": [
    "WIKIALIGN=\"/nas/home/bohuizha/KG/hunger-for-knowledge/data/gvp/WikiAlign.tsv\"\n",
    "!head -n 5 $WIKIALIGN | column -ts $'\\t'"
   ]
  },
  {
   "cell_type": "markdown",
   "id": "24e85f3c",
   "metadata": {},
   "source": [
    "Count how many alignment pairs / nodes we found."
   ]
  },
  {
   "cell_type": "code",
   "execution_count": 111,
   "id": "0cc221b7",
   "metadata": {},
   "outputs": [
    {
     "name": "stdout",
     "output_type": "stream",
     "text": [
      "N_ulannode\tN_qnode\r\n",
      "92353\t92210\r\n"
     ]
    }
   ],
   "source": [
    "WIKIALIGN=\"/nas/home/bohuizha/KG/hunger-for-knowledge/data/gvp/WikiAlign.tsv\"\n",
    "\n",
    "!kgtk query -i $WIKIALIGN \\\n",
    "    --match '(ulannode)-[]->(qnode)' \\\n",
    "    --return 'count(distinct ulannode) as N_ulannode, count(distinct qnode) as N_qnode'"
   ]
  },
  {
   "cell_type": "markdown",
   "id": "509cd355",
   "metadata": {},
   "source": [
    "Import explicit files using `import-ntriples` of `kgtk`."
   ]
  },
  {
   "cell_type": "code",
   "execution_count": 35,
   "id": "d3092d1d",
   "metadata": {},
   "outputs": [],
   "source": [
    "INPUT_FILE=\"/nas/home/bohuizha/KG/hunger-for-knowledge/data/gvp/ULAN/ULANOut_1Subjects.nt\"\n",
    "OUTPUT_FILE=\"/nas/home/bohuizha/KG/hunger-for-knowledge/data/gvp/ULAN/Subjects.tsv\"\n",
    "NAMESPACES=\"/nas/home/bohuizha/KG/hunger-for-knowledge/data/gvp/namespaces.tsv\"\n",
    "\n",
    "!kgtk import-ntriples \\\n",
    "    -i $INPUT_FILE \\\n",
    "    -o $OUTPUT_FILE \\\n",
    "    --namespace-file $NAMESPACES \\\n",
    "    --namespace-id-use-uuid True \\\n",
    "    --build-new-namespaces False \\\n",
    "    --output-only-used-namespaces True \\\n",
    "    --structured-value-label gvp:structured_value \\\n",
    "    --structured-uri-label gvp:structured_uri \\\n",
    "    --newnode-prefix node \\\n",
    "    --newnode-use-uuid True"
   ]
  },
  {
   "cell_type": "code",
   "execution_count": 115,
   "id": "91077571",
   "metadata": {},
   "outputs": [
    {
     "name": "stdout",
     "output_type": "stream",
     "text": [
      "node1           label                   node2\r\n",
      "ulan:500436973  rdf:type                gvp:UnknownPersonConcept\r\n",
      "ulan:500436973  gvp:displayOrder        1\r\n",
      "ulan:500436973  gvp:parentStringAbbrev  \"Unknown People by Culture\"\r\n",
      "ulan:500436973  gvp:parentString        \"Unknown People by Culture\"\r\n",
      "ulan:500436973  dcterm:license          http://opendatacommons.org/licenses/by/1.0/\r\n",
      "ulan:500436973  void:inDataset          http://vocab.getty.edu/dataset/ulan\r\n",
      "ulan:500436973  skos:inScheme           ulan:\r\n",
      "ulan:500436973  cc:license              http://opendatacommons.org/licenses/by/1.0/\r\n",
      "ulan:500436973  dc:identifier           \"500436973\"\r\n"
     ]
    }
   ],
   "source": [
    "SUBJECTS=\"/nas/home/bohuizha/KG/hunger-for-knowledge/data/gvp/ULAN/Subjects.tsv\"\n",
    "\n",
    "!head -n 10 $SUBJECTS | column -ts $'\\t'"
   ]
  },
  {
   "cell_type": "markdown",
   "id": "caaab478",
   "metadata": {},
   "source": [
    "Count total number of ULAN nodes."
   ]
  },
  {
   "cell_type": "code",
   "execution_count": 116,
   "id": "c569b32a",
   "metadata": {},
   "outputs": [
    {
     "name": "stdout",
     "output_type": "stream",
     "text": [
      "count(DISTINCT graph_560_c1.\"node1\")\r\n",
      "324514\r\n"
     ]
    }
   ],
   "source": [
    "SUBJECTS=\"/nas/home/bohuizha/KG/hunger-for-knowledge/data/gvp/ULAN/Subjects.tsv\"\n",
    "\n",
    "!kgtk query -i $SUBJECTS \\\n",
    "    --match '(s)-[]->()' \\\n",
    "    --return 'count(distinct s)'"
   ]
  },
  {
   "cell_type": "code",
   "execution_count": 40,
   "id": "c7a89e67",
   "metadata": {},
   "outputs": [],
   "source": [
    "INPUT_FILE=\"/nas/home/bohuizha/KG/hunger-for-knowledge/data/gvp/ULAN/ULANOut_2Terms.nt\"\n",
    "OUTPUT_FILE=\"/nas/home/bohuizha/KG/hunger-for-knowledge/data/gvp/ULAN/Terms.tsv\"\n",
    "NAMESPACES=\"/nas/home/bohuizha/KG/hunger-for-knowledge/data/gvp/namespaces.tsv\"\n",
    "\n",
    "!kgtk import-ntriples \\\n",
    "    -i $INPUT_FILE \\\n",
    "    -o $OUTPUT_FILE \\\n",
    "    --namespace-file $NAMESPACES \\\n",
    "    --namespace-id-use-uuid True \\\n",
    "    --build-new-namespaces False \\\n",
    "    --output-only-used-namespaces True \\\n",
    "    --structured-value-label gvp:structured_value \\\n",
    "    --structured-uri-label gvp:structured_uri \\\n",
    "    --newnode-prefix node \\\n",
    "    --newnode-use-uuid True"
   ]
  },
  {
   "cell_type": "code",
   "execution_count": 134,
   "id": "e4062734",
   "metadata": {},
   "outputs": [
    {
     "name": "stdout",
     "output_type": "stream",
     "text": [
      "node1           label             node2\r\n",
      "ulan:500523072  gvp:prefLabelGVP  ulan_term:1501308201\r\n",
      "ulan:500523072  skosxl:prefLabel  ulan_term:1501308201\r\n",
      "ulan:500523077  gvp:prefLabelGVP  ulan_term:1501308206\r\n",
      "ulan:500523077  skosxl:prefLabel  ulan_term:1501308206\r\n"
     ]
    }
   ],
   "source": [
    "TERMS=\"/nas/home/bohuizha/KG/hunger-for-knowledge/data/gvp/ULAN/Terms.tsv\"\n",
    "\n",
    "!head -n 5 $TERMS | column -ts $'\\t'"
   ]
  },
  {
   "cell_type": "code",
   "execution_count": 130,
   "id": "5a08c8d4",
   "metadata": {},
   "outputs": [
    {
     "name": "stdout",
     "output_type": "stream",
     "text": [
      "label\n",
      "gvp:prefLabelGVP\n",
      "skosxl:prefLabel\n",
      "skosxl:altLabel\n",
      "rdf:type\n",
      "skosxl:literalForm\n",
      "dc:identifier\n",
      "dcterm:language\n",
      "gvp:displayOrder\n",
      "gvp:termDisplay\n",
      "gvp:term\n",
      "gvp:termFlag\n",
      "gvp:qualifier\n",
      "gvp:historicFlag\n",
      "gvp:termKind\n",
      "rdfs:comment\n",
      "gvp:structured_value\n",
      "gvp:structured_uri\n",
      "gvp:estStart\n",
      "gvp:estEnd\n",
      "prefix_expansion\n"
     ]
    }
   ],
   "source": [
    "TERMS=\"/nas/home/bohuizha/KG/hunger-for-knowledge/data/gvp/ULAN/Terms.tsv\"\n",
    "\n",
    "!kgtk query -i $TERMS \\\n",
    "    --match '(s)-[p]->(v)' \\\n",
    "    --return 'distinct p.label' \n",
    "\n",
    "# gvp:term -> name, label\n",
    "# gvp:estStart, gvp:estEnd -> birthdatte and deathdate, the same as in Biographies"
   ]
  },
  {
   "cell_type": "code",
   "execution_count": 17,
   "id": "7294ee30",
   "metadata": {},
   "outputs": [
    {
     "name": "stdout",
     "output_type": "stream",
     "text": [
      "node1\tlabel\tnode2\r\n",
      "ulan_term:1501073272-nl\tskosxl:literalForm\t'Metz, Cäsar'@nl\r\n",
      "ulan_term:1501073289-nl\tskosxl:literalForm\t'Ruths, Amelie'@nl\r\n",
      "ulan_term:1501246833\tskosxl:literalForm\t\"Dallinger, Johann, the younger\"\r\n",
      "ulan_term:1501070859-nl\tskosxl:literalForm\t'Bahner, Hermann'@nl\r\n",
      "ulan_term:1501070899-nl\tskosxl:literalForm\t'Happ, Jakob'@nl\r\n",
      "ulan_term:1501070902-nl\tskosxl:literalForm\t'Held, Carl Ehrenfried'@nl\r\n",
      "ulan_term:1501070904-nl\tskosxl:literalForm\t'Hesse, Georg'@nl\r\n",
      "ulan_term:1501070908-nl\tskosxl:literalForm\t'Hunger, Heinz'@nl\r\n",
      "ulan_term:1500802911\tskosxl:literalForm\t\"Salm, Adriaen Cornelisz van der\"\r\n",
      "ulan_term:1501054868\tskosxl:literalForm\t\"Casati\"\r\n"
     ]
    }
   ],
   "source": [
    "TERMS=\"/nas/home/bohuizha/KG/hunger-for-knowledge/data/gvp/ULAN/Terms.tsv\"\n",
    "\n",
    "!kgtk query -i $TERMS \\\n",
    "    --match '(s)-[p]->(v)' \\\n",
    "    --where 'p.label = \"skosxl:literalForm\"' \\\n",
    "    --return 's, p.label, v' \\\n",
    "    --limit 10"
   ]
  },
  {
   "cell_type": "code",
   "execution_count": 74,
   "id": "24d4ab53",
   "metadata": {},
   "outputs": [],
   "source": [
    "INPUT_FILE=\"/nas/home/bohuizha/KG/hunger-for-knowledge/data/gvp/ULAN/ULANOut_AgentMap.nt\"\n",
    "OUTPUT_FILE=\"/nas/home/bohuizha/KG/hunger-for-knowledge/data/gvp/ULAN/AgentMap.tsv\"\n",
    "NAMESPACES=\"/nas/home/bohuizha/KG/hunger-for-knowledge/data/gvp/namespaces.tsv\"\n",
    "\n",
    "!kgtk import-ntriples \\\n",
    "    -i $INPUT_FILE \\\n",
    "    -o $OUTPUT_FILE \\\n",
    "    --namespace-file $NAMESPACES \\\n",
    "    --namespace-id-use-uuid True \\\n",
    "    --build-new-namespaces False \\\n",
    "    --output-only-used-namespaces True \\\n",
    "    --structured-value-label gvp:structured_value \\\n",
    "    --structured-uri-label gvp:structured_uri \\\n",
    "    --newnode-prefix node \\\n",
    "    --newnode-use-uuid True"
   ]
  },
  {
   "cell_type": "code",
   "execution_count": 118,
   "id": "562a6215",
   "metadata": {},
   "outputs": [
    {
     "name": "stdout",
     "output_type": "stream",
     "text": [
      "node1           label       node2\r\n",
      "ulan:500000002  foaf:focus  ulan:500000002-agent\r\n",
      "ulan:500000003  foaf:focus  ulan:500000003-agent\r\n",
      "ulan:500000004  foaf:focus  ulan:500000004-agent\r\n",
      "ulan:500000005  foaf:focus  ulan:500000005-agent\r\n",
      "ulan:500000006  foaf:focus  ulan:500000006-agent\r\n",
      "ulan:500000007  foaf:focus  ulan:500000007-agent\r\n",
      "ulan:500000009  foaf:focus  ulan:500000009-agent\r\n",
      "ulan:500000010  foaf:focus  ulan:500000010-agent\r\n",
      "ulan:500000011  foaf:focus  ulan:500000011-agent\r\n"
     ]
    }
   ],
   "source": [
    "AGENTMAP=\"/nas/home/bohuizha/KG/hunger-for-knowledge/data/gvp/ULAN/AgentMap.tsv\"\n",
    "\n",
    "!head -n 10 $AGENTMAP | column -ts $'\\t'"
   ]
  },
  {
   "cell_type": "code",
   "execution_count": 14,
   "id": "fa6757c8",
   "metadata": {},
   "outputs": [],
   "source": [
    "INPUT_FILE=\"/nas/home/bohuizha/KG/hunger-for-knowledge/data/gvp/ULAN/ULANOut_AgentTypes.nt\"\n",
    "OUTPUT_FILE=\"/nas/home/bohuizha/KG/hunger-for-knowledge/data/gvp/ULAN/AgentTypes.tsv\"\n",
    "NAMESPACES=\"/nas/home/bohuizha/KG/hunger-for-knowledge/data/gvp/namespaces.tsv\"\n",
    "\n",
    "!kgtk import-ntriples \\\n",
    "    -i $INPUT_FILE \\\n",
    "    -o $OUTPUT_FILE \\\n",
    "    --namespace-file $NAMESPACES \\\n",
    "    --namespace-id-use-uuid True \\\n",
    "    --build-new-namespaces False \\\n",
    "    --output-only-used-namespaces True \\\n",
    "    --structured-value-label gvp:structured_value \\\n",
    "    --structured-uri-label gvp:structured_uri \\\n",
    "    --newnode-prefix node \\\n",
    "    --newnode-use-uuid True"
   ]
  },
  {
   "cell_type": "code",
   "execution_count": 46,
   "id": "03b3e69b",
   "metadata": {},
   "outputs": [],
   "source": [
    "INPUT_FILE=\"/nas/home/bohuizha/KG/hunger-for-knowledge/data/gvp/ULAN/ULANOut_Biographies.nt\"\n",
    "OUTPUT_FILE=\"/nas/home/bohuizha/KG/hunger-for-knowledge/data/gvp/ULAN/Biographies.tsv\"\n",
    "NAMESPACES=\"/nas/home/bohuizha/KG/hunger-for-knowledge/data/gvp/namespaces.tsv\"\n",
    "\n",
    "!kgtk import-ntriples \\\n",
    "    -i $INPUT_FILE \\\n",
    "    -o $OUTPUT_FILE \\\n",
    "    --namespace-file $NAMESPACES \\\n",
    "    --namespace-id-use-uuid True \\\n",
    "    --build-new-namespaces False \\\n",
    "    --output-only-used-namespaces True \\\n",
    "    --structured-value-label gvp:structured_value \\\n",
    "    --structured-uri-label gvp:structured_uri \\\n",
    "    --newnode-prefix node \\\n",
    "    --newnode-use-uuid True"
   ]
  },
  {
   "cell_type": "code",
   "execution_count": 120,
   "id": "1586a7fe",
   "metadata": {},
   "outputs": [
    {
     "name": "stdout",
     "output_type": "stream",
     "text": [
      "node1                 label                      node2\r\n",
      "ulan:500000002-agent  gvp:biographyPreferred     ulan_bio:4000336014\r\n",
      "ulan:500000003-agent  gvp:biographyPreferred     ulan_bio:4000336015\r\n",
      "ulan:500000004-agent  gvp:biographyNonPreferred  ulan_bio:4000000003\r\n",
      "ulan:500000004-agent  gvp:biographyPreferred     ulan_bio:4000000001\r\n"
     ]
    }
   ],
   "source": [
    "BIO=\"/nas/home/bohuizha/KG/hunger-for-knowledge/data/gvp/ULAN/Biographies.tsv\"\n",
    "\n",
    "!head -n 5 $BIO | column -ts $'\\t'"
   ]
  },
  {
   "cell_type": "code",
   "execution_count": 135,
   "id": "9cdcf6c2",
   "metadata": {},
   "outputs": [
    {
     "name": "stdout",
     "output_type": "stream",
     "text": [
      "label\n",
      "gvp:biographyPreferred\n",
      "gvp:biographyNonPreferred\n",
      "rdf:type\n",
      "gvp:structured_value\n",
      "gvp:structured_uri\n",
      "gvp:estStart\n",
      "schema:gender\n",
      "dcterm:contributor\n",
      "schema:birthPlace\n",
      "schema:description\n",
      "gvp:estEnd\n",
      "schema:deathPlace\n",
      "schema:foundationLocation\n",
      "schema:dissolutionLocation\n",
      "prefix_expansion\n"
     ]
    }
   ],
   "source": [
    "BIO=\"/nas/home/bohuizha/KG/hunger-for-knowledge/data/gvp/ULAN/Biographies.tsv\"\n",
    "\n",
    "!kgtk query -i $BIO \\\n",
    "    --match '()-[p]->()' \\\n",
    "    --return 'distinct p.label'"
   ]
  },
  {
   "cell_type": "code",
   "execution_count": 121,
   "id": "11f85a1d",
   "metadata": {},
   "outputs": [
    {
     "name": "stdout",
     "output_type": "stream",
     "text": [
      "node1\tlabel\tnode2\r\n",
      "ulan_bio:4000000003\tschema:birthPlace\ttgn:7010794-place\r\n",
      "ulan_bio:4000000001\tschema:birthPlace\ttgn:7010794-place\r\n",
      "ulan_bio:4000000001\tschema:birthPlace\ttgn:7010794-place\r\n",
      "ulan_bio:4000334645\tschema:birthPlace\ttgn:7010794-place\r\n",
      "ulan_bio:4000000004\tschema:birthPlace\ttgn:7008546-place\r\n"
     ]
    }
   ],
   "source": [
    "BIO=\"/nas/home/bohuizha/KG/hunger-for-knowledge/data/gvp/ULAN/Biographies.tsv\"\n",
    "\n",
    "!kgtk query -i $BIO \\\n",
    "    --match '(s)-[p]->(v)' \\\n",
    "    --where 'p.label = \"schema:birthPlace\"' \\\n",
    "    --return 's, p.label, v' \\\n",
    "    --limit 5"
   ]
  },
  {
   "cell_type": "code",
   "execution_count": null,
   "id": "05bfd927",
   "metadata": {},
   "outputs": [],
   "source": [
    "BIO=\"/nas/home/bohuizha/KG/hunger-for-knowledge/data/gvp/ULAN/Biographies.tsv\"\n",
    "!kgtk query -i $BIO \\\n",
    "    --match '(s)-[p]->(v)' \\\n",
    "    --where 'p.label = \"schema:gender\"' \\\n",
    "    --return 's, p.label, v'\n",
    "\n",
    "# aat:300189557 -> female\n",
    "# aat:300189559 -> male\n",
    "# aat:300400512 -> unavailable (information indicator)\n",
    "# aat:300400513 -> other (information indicator)"
   ]
  },
  {
   "cell_type": "markdown",
   "id": "18e48f20",
   "metadata": {},
   "source": [
    "Count how many birth date(year) we could find."
   ]
  },
  {
   "cell_type": "code",
   "execution_count": 122,
   "id": "b2bbf40c",
   "metadata": {},
   "outputs": [
    {
     "name": "stdout",
     "output_type": "stream",
     "text": [
      "count(DISTINCT graph_562_c1.\"node1\")\n",
      "324492\n"
     ]
    }
   ],
   "source": [
    "BIO=\"/nas/home/bohuizha/KG/hunger-for-knowledge/data/gvp/ULAN/Biographies.tsv\"\n",
    "\n",
    "!kgtk query -i $BIO \\\n",
    "    --match '(ulanagent)-[p1]->()-[p2]->()-[p3]->(v)' \\\n",
    "    --where 'p1.label = \"gvp:biographyPreferred\" AND \\\n",
    "             p2.label = \"gvp:estStart\" AND \\\n",
    "             p3.label = \"gvp:structured_value\"' \\\n",
    "    --return 'count(distinct ulanagent)'"
   ]
  },
  {
   "cell_type": "markdown",
   "id": "93e913e7",
   "metadata": {},
   "source": [
    "Count how many death date(year) we could find."
   ]
  },
  {
   "cell_type": "code",
   "execution_count": 27,
   "id": "6f39774f",
   "metadata": {},
   "outputs": [
    {
     "name": "stdout",
     "output_type": "stream",
     "text": [
      "count(DISTINCT graph_562_c1.\"node1\")\r\n",
      "283927\r\n"
     ]
    }
   ],
   "source": [
    "BIO=\"/nas/home/bohuizha/KG/hunger-for-knowledge/data/gvp/ULAN/Biographies.tsv\"\n",
    "\n",
    "!kgtk query -i $BIO \\\n",
    "    --match '(ulanagent)-[p1]->()-[p2]->(v)' \\\n",
    "    --where 'p1.label = \"gvp:biographyPreferred\" AND p2.label = \"gvp:estEnd\"' \\\n",
    "    --return 'count(distinct ulanagent)'"
   ]
  },
  {
   "cell_type": "markdown",
   "id": "fa76a4c4",
   "metadata": {},
   "source": [
    "Count how many birth places we could find."
   ]
  },
  {
   "cell_type": "code",
   "execution_count": 23,
   "id": "5719b5cc",
   "metadata": {},
   "outputs": [
    {
     "name": "stdout",
     "output_type": "stream",
     "text": [
      "count(DISTINCT graph_562_c1.\"node1\")\r\n",
      "56890\r\n"
     ]
    }
   ],
   "source": [
    "BIO=\"/nas/home/bohuizha/KG/hunger-for-knowledge/data/gvp/ULAN/Biographies.tsv\"\n",
    "\n",
    "!kgtk query -i $BIO \\\n",
    "    --match '(ulanagent)-[p1]->()-[p2]->(v)' \\\n",
    "    --where 'p1.label = \"gvp:biographyPreferred\" AND p2.label = \"schema:birthPlace\"' \\\n",
    "    --return 'count(distinct ulanagent)'"
   ]
  },
  {
   "cell_type": "markdown",
   "id": "1b397acd",
   "metadata": {},
   "source": [
    "Count how many death places we could find."
   ]
  },
  {
   "cell_type": "code",
   "execution_count": 124,
   "id": "db0275a4",
   "metadata": {},
   "outputs": [
    {
     "name": "stdout",
     "output_type": "stream",
     "text": [
      "count(DISTINCT graph_562_c1.\"node1\")\r\n",
      "31502\r\n"
     ]
    }
   ],
   "source": [
    "BIO=\"/nas/home/bohuizha/KG/hunger-for-knowledge/data/gvp/ULAN/Biographies.tsv\"\n",
    "\n",
    "!kgtk query -i $BIO \\\n",
    "    --match '(ulanagent)-[p1]->()-[p2]->(v)' \\\n",
    "    --where 'p1.label = \"gvp:biographyPreferred\" AND p2.label = \"schema:deathPlace\"' \\\n",
    "    --return 'count(distinct ulanagent)'"
   ]
  },
  {
   "cell_type": "code",
   "execution_count": 50,
   "id": "4aef2d2d",
   "metadata": {},
   "outputs": [],
   "source": [
    "INPUT_FILE=\"/nas/home/bohuizha/KG/hunger-for-knowledge/data/gvp/ULAN/ULANOut_Event.nt\"\n",
    "OUTPUT_FILE=\"/nas/home/bohuizha/KG/hunger-for-knowledge/data/gvp/ULAN/Event.tsv\"\n",
    "NAMESPACES=\"/nas/home/bohuizha/KG/hunger-for-knowledge/data/gvp/namespaces.tsv\"\n",
    "\n",
    "!kgtk import-ntriples \\\n",
    "    -i $INPUT_FILE \\\n",
    "    -o $OUTPUT_FILE \\\n",
    "    --namespace-file $NAMESPACES \\\n",
    "    --namespace-id-use-uuid True \\\n",
    "    --build-new-namespaces False \\\n",
    "    --output-only-used-namespaces True \\\n",
    "    --structured-value-label gvp:structured_value \\\n",
    "    --structured-uri-label gvp:structured_uri \\\n",
    "    --newnode-prefix node \\\n",
    "    --newnode-use-uuid True"
   ]
  },
  {
   "cell_type": "code",
   "execution_count": 126,
   "id": "ed400123",
   "metadata": {},
   "outputs": [
    {
     "name": "stdout",
     "output_type": "stream",
     "text": [
      "node1                 label                  node2\r\n",
      "ulan:500000005-agent  gvp:eventPreferred     ulan_event:121172\r\n",
      "ulan:500000005-agent  gvp:eventNonPreferred  ulan_event:121173\r\n",
      "ulan:500000007-agent  gvp:eventPreferred     ulan_event:124822\r\n",
      "ulan:500000009-agent  gvp:eventPreferred     ulan_event:106483\r\n"
     ]
    }
   ],
   "source": [
    "EVENT=\"/nas/home/bohuizha/KG/hunger-for-knowledge/data/gvp/ULAN/Event.tsv\"\n",
    "\n",
    "!head -n 5 $EVENT | column -ts $'\\t'"
   ]
  },
  {
   "cell_type": "code",
   "execution_count": 53,
   "id": "987fc48a",
   "metadata": {},
   "outputs": [],
   "source": [
    "INPUT_FILE=\"/nas/home/bohuizha/KG/hunger-for-knowledge/data/gvp/ULAN/ULANOut_Nationality.nt\"\n",
    "OUTPUT_FILE=\"/nas/home/bohuizha/KG/hunger-for-knowledge/data/gvp/ULAN/Nationality.tsv\"\n",
    "NAMESPACES=\"/nas/home/bohuizha/KG/hunger-for-knowledge/data/gvp/namespaces.tsv\"\n",
    "\n",
    "!kgtk import-ntriples \\\n",
    "    -i $INPUT_FILE \\\n",
    "    -o $OUTPUT_FILE \\\n",
    "    --namespace-file $NAMESPACES \\\n",
    "    --namespace-id-use-uuid True \\\n",
    "    --build-new-namespaces False \\\n",
    "    --output-only-used-namespaces True \\\n",
    "    --structured-value-label gvp:structured_value \\\n",
    "    --structured-uri-label gvp:structured_uri \\\n",
    "    --newnode-prefix node \\\n",
    "    --newnode-use-uuid True"
   ]
  },
  {
   "cell_type": "code",
   "execution_count": 129,
   "id": "eff86e1c",
   "metadata": {},
   "outputs": [
    {
     "name": "stdout",
     "output_type": "stream",
     "text": [
      "node1                                 label             node2\r\n",
      "ulan:500000004-nationality-300111159  rdf:type          rdf:Statement\r\n",
      "ulan:500000004-nationality-300111159  rdf:predicate     gvp:nationalityPreferred\r\n",
      "ulan:500000004-nationality-300111159  rdf:object        aat:300111159\r\n",
      "ulan:500000004-nationality-300111159  rdf:subject       ulan:500000004-agent\r\n",
      "ulan:500000004-nationality-300111159  gvp:displayOrder  1\r\n",
      "ulan:500000004-nationality-300111178  rdf:type          rdf:Statement\r\n",
      "ulan:500000004-nationality-300111178  rdf:predicate     gvp:nationalityNonPreferred\r\n",
      "ulan:500000004-nationality-300111178  rdf:object        aat:300111178\r\n",
      "ulan:500000004-nationality-300111178  rdf:subject       ulan:500000004-agent\r\n"
     ]
    }
   ],
   "source": [
    "NATION=\"/nas/home/bohuizha/KG/hunger-for-knowledge/data/gvp/ULAN/Nationality.tsv\"\n",
    "\n",
    "!head -n 10 $NATION | column -ts $'\\t'\n",
    "# need import aat, for example, aat:300111198 -> Italian "
   ]
  },
  {
   "cell_type": "markdown",
   "id": "204d027e",
   "metadata": {},
   "source": [
    "Sample query for nationality."
   ]
  },
  {
   "cell_type": "code",
   "execution_count": 130,
   "id": "5429eabf",
   "metadata": {},
   "outputs": [
    {
     "name": "stdout",
     "output_type": "stream",
     "text": [
      "node1\tlabel\tnode2\r\n",
      "ulan:500000004\tgvp:nationalityPreferred\taat:300111159\r\n",
      "ulan:500000004\tgvp:nationalityPreferred\taat:300111178\r\n",
      "ulan:500000005\tgvp:nationalityPreferred\taat:300386124\r\n",
      "ulan:500000005\tgvp:nationalityPreferred\taat:300111198\r\n",
      "ulan:500000009\tgvp:nationalityPreferred\taat:300386003\r\n",
      "ulan:500000009\tgvp:nationalityPreferred\taat:300111198\r\n",
      "ulan:500000011\tgvp:nationalityPreferred\taat:300111159\r\n",
      "ulan:500000011\tgvp:nationalityPreferred\taat:300111178\r\n",
      "ulan:500000012\tgvp:nationalityPreferred\taat:300111159\r\n",
      "ulan:500000012\tgvp:nationalityPreferred\taat:300379012\r\n"
     ]
    }
   ],
   "source": [
    "AGENTMAP=\"/nas/home/bohuizha/KG/hunger-for-knowledge/data/gvp/ULAN/AgentMap.tsv\"\n",
    "NATION=\"/nas/home/bohuizha/KG/hunger-for-knowledge/data/gvp/ULAN/Nationality.tsv\"\n",
    "\n",
    "!kgtk query -i $AGENTMAP $NATION \\\n",
    "    --match 'a: (ulanid)-[p1]->(ulanagent), n: (nationality)<-[p2]-()-[p3]->(ulanagent)' \\\n",
    "    --where 'p1.label = \"foaf:focus\" AND p2.label = \"rdf:object\" AND p3.label = \"rdf:subject\"' \\\n",
    "    --return 'ulanid, \"gvp:nationalityPreferred\" AS label, nationality' \\\n",
    "    --limit 10"
   ]
  },
  {
   "cell_type": "markdown",
   "id": "7201e9db",
   "metadata": {},
   "source": [
    "Count how many ULAN people with nationality we could find."
   ]
  },
  {
   "cell_type": "code",
   "execution_count": 131,
   "id": "9ad65b53",
   "metadata": {},
   "outputs": [
    {
     "name": "stdout",
     "output_type": "stream",
     "text": [
      "count(DISTINCT graph_564_c1.\"node1\")\r\n",
      "47815\r\n"
     ]
    }
   ],
   "source": [
    "AGENTMAP=\"/nas/home/bohuizha/KG/hunger-for-knowledge/data/gvp/ULAN/AgentMap.tsv\"\n",
    "NATION=\"/nas/home/bohuizha/KG/hunger-for-knowledge/data/gvp/ULAN/Nationality.tsv\"\n",
    "\n",
    "!kgtk query -i $AGENTMAP $NATION \\\n",
    "    --match 'a: (ulanid)-[p1]->(ulanagent), n: (nationality)<-[p2]-()-[p3]->(ulanagent)' \\\n",
    "    --where 'p1.label = \"foaf:focus\" AND p2.label = \"rdf:object\" AND p3.label = \"rdf:subject\"' \\\n",
    "    --return 'count(distinct ulanid)'"
   ]
  },
  {
   "cell_type": "code",
   "execution_count": 6,
   "id": "d9191555",
   "metadata": {},
   "outputs": [],
   "source": [
    "INPUT_FILE=\"/nas/home/bohuizha/KG/hunger-for-knowledge/data/gvp/TGN/TGNOut_2Terms.nt\"\n",
    "OUTPUT_FILE=\"/nas/home/bohuizha/KG/hunger-for-knowledge/data/gvp/TGN/Terms.tsv\"\n",
    "NAMESPACES=\"/nas/home/bohuizha/KG/hunger-for-knowledge/data/gvp/namespaces.tsv\"\n",
    "\n",
    "!kgtk import-ntriples \\\n",
    "    -i $INPUT_FILE \\\n",
    "    -o $OUTPUT_FILE \\\n",
    "    --namespace-file $NAMESPACES \\\n",
    "    --namespace-id-use-uuid True \\\n",
    "    --build-new-namespaces False \\\n",
    "    --output-only-used-namespaces True \\\n",
    "    --structured-value-label gvp:structured_value \\\n",
    "    --structured-uri-label gvp:structured_uri \\\n",
    "    --newnode-prefix node \\\n",
    "    --newnode-use-uuid True"
   ]
  },
  {
   "cell_type": "code",
   "execution_count": 10,
   "id": "7db24692",
   "metadata": {},
   "outputs": [
    {
     "name": "stdout",
     "output_type": "stream",
     "text": [
      "label\n",
      "skosxl:altLabel\n",
      "gvp:prefLabelGVP\n",
      "skosxl:prefLabel\n",
      "rdf:type\n",
      "gvp:termFlag\n",
      "skosxl:literalForm\n",
      "dc:identifier\n",
      "gvp:displayOrder\n",
      "gvp:term\n",
      "dcterm:language\n",
      "gvp:termKind\n",
      "rdfs:comment\n",
      "gvp:structured_value\n",
      "gvp:structured_uri\n",
      "gvp:estStart\n",
      "gvp:termDisplay\n",
      "gvp:termPOS\n",
      "gvp:estEnd\n",
      "gvp:qualifier\n",
      "gvp:historicFlag\n",
      "prefix_expansion\n"
     ]
    }
   ],
   "source": [
    "TGNTERMS=\"/nas/home/bohuizha/KG/hunger-for-knowledge/data/gvp/TGN/Terms.tsv\"\n",
    "\n",
    "!kgtk query -i $TGNTERMS \\\n",
    "    --match '(s)-[p]->(v)' \\\n",
    "    --return 'distinct p.label'"
   ]
  },
  {
   "cell_type": "code",
   "execution_count": 8,
   "id": "6463e0a3",
   "metadata": {},
   "outputs": [],
   "source": [
    "INPUT_FILE=\"/nas/home/bohuizha/KG/hunger-for-knowledge/data/gvp/TGN/TGNOut_PlaceMap.nt\"\n",
    "OUTPUT_FILE=\"/nas/home/bohuizha/KG/hunger-for-knowledge/data/gvp/TGN/PlaceMap.tsv\"\n",
    "NAMESPACES=\"/nas/home/bohuizha/KG/hunger-for-knowledge/data/gvp/namespaces.tsv\"\n",
    "\n",
    "!kgtk import-ntriples \\\n",
    "    -i $INPUT_FILE \\\n",
    "    -o $OUTPUT_FILE \\\n",
    "    --namespace-file $NAMESPACES \\\n",
    "    --namespace-id-use-uuid True \\\n",
    "    --build-new-namespaces False \\\n",
    "    --output-only-used-namespaces True \\\n",
    "    --structured-value-label gvp:structured_value \\\n",
    "    --structured-uri-label gvp:structured_uri \\\n",
    "    --newnode-prefix node \\\n",
    "    --newnode-use-uuid True"
   ]
  },
  {
   "cell_type": "code",
   "execution_count": 4,
   "id": "12ce2dc4",
   "metadata": {},
   "outputs": [
    {
     "name": "stdout",
     "output_type": "stream",
     "text": [
      "label\n",
      "void:inDataset\n",
      "rdf:type\n",
      "dcterm:license\n",
      "cc:license\n",
      "foaf:focus\n",
      "prefix_expansion\n"
     ]
    }
   ],
   "source": [
    "PLACEMAP=\"/nas/home/bohuizha/KG/hunger-for-knowledge/data/gvp/TGN/PlaceMap.tsv\"\n",
    "\n",
    "!kgtk query -i $PLACEMAP \\\n",
    "    --match '(s)-[p]->(v)' \\\n",
    "    --return 'distinct p.label'"
   ]
  },
  {
   "cell_type": "markdown",
   "id": "38037364",
   "metadata": {},
   "source": [
    "Simple query (name, birth place, birth year) for 50 people in both Wikidata and ULAN."
   ]
  },
  {
   "cell_type": "code",
   "execution_count": 27,
   "id": "cb2195b7",
   "metadata": {},
   "outputs": [
    {
     "name": "stdout",
     "output_type": "stream",
     "text": [
      "'id'\r\n",
      "\r\n"
     ]
    }
   ],
   "source": [
    "# seems not work when combine name query and birthyear query\n",
    "\n",
    "# TERMS=\"/nas/home/bohuizha/KG/hunger-for-knowledge/data/gvp/ULAN/Terms.tsv\"\n",
    "# ALIGN=\"/nas/home/bohuizha/KG/hunger-for-knowledge/data/gvp/ULAN/WikidataAlignment.tsv\"\n",
    "# BIO=\"/nas/home/bohuizha/KG/hunger-for-knowledge/data/gvp/ULAN/Biographies.tsv\"\n",
    "# # CLAIMS=\"\"\n",
    "\n",
    "# !kgtk query -i $ALIGN $TERMS $BIO \\\n",
    "#     --match 'a: (ulanid)-[]->(qnode), \\\n",
    "#              t: (ulanid)-[p0]->()-[p1]->(ulanname), \\\n",
    "#              t: (ulanid)-[p0]->()-[p2]->(snode)-[p3]->(datevalue)' \\\n",
    "#     --where 'p0.label = \"gvp:prefLabelGVP\" AND p1.label = \"skosxl:literalForm\" \\\n",
    "#              AND p2.label = \"gvp:estStart\" AND p3.label = \"gvp:structured_value\"' \\\n",
    "#     --return 'ulanname as node1, datevalue as node2' \\\n",
    "#     --limit 10"
   ]
  },
  {
   "cell_type": "markdown",
   "id": "71968fbe",
   "metadata": {},
   "source": [
    "Step 1: query for names;"
   ]
  },
  {
   "cell_type": "code",
   "execution_count": 63,
   "id": "7ede3b0b",
   "metadata": {},
   "outputs": [],
   "source": [
    "TERMS=\"/nas/home/bohuizha/KG/hunger-for-knowledge/data/gvp/ULAN/Terms.tsv\"\n",
    "# ALIGN=\"/nas/home/bohuizha/KG/hunger-for-knowledge/data/gvp/ULAN/WikidataAlignment.tsv\"\n",
    "ALIGN=\"/nas/home/bohuizha/KG/hunger-for-knowledge/data/gvp/WikiAlign.tsv\"\n",
    "BIO=\"/nas/home/bohuizha/KG/hunger-for-knowledge/data/gvp/ULAN/Biographies.tsv\"\n",
    "OUTPUT=\"/nas/home/bohuizha/KG/hunger-for-knowledge/data/gvp/labels.tsv\"\n",
    "\n",
    "!kgtk query -i $ALIGN $TERMS \\\n",
    "    --match 'WikiAlign: (ulanid)-[]->(qnode), t: (ulanid)-[p0]->(ulanterm)-[p1]->(ulanname)' \\\n",
    "    --where 'p0.label = \"gvp:prefLabelGVP\" AND p1.label = \"skosxl:literalForm\" AND kgtk_string(ulanname)' \\\n",
    "    --return 'distinct ulanid as node1, p0.label as label, ulanname as node2' \\\n",
    "    -o $OUTPUT"
   ]
  },
  {
   "cell_type": "code",
   "execution_count": 64,
   "id": "58ff847d",
   "metadata": {},
   "outputs": [
    {
     "name": "stdout",
     "output_type": "stream",
     "text": [
      "55162 /nas/home/bohuizha/KG/hunger-for-knowledge/data/gvp/labels.tsv\r\n"
     ]
    }
   ],
   "source": [
    "OUTPUT=\"/nas/home/bohuizha/KG/hunger-for-knowledge/data/gvp/labels.tsv\"\n",
    "!wc -l $OUTPUT"
   ]
  },
  {
   "cell_type": "markdown",
   "id": "6bc54af8",
   "metadata": {},
   "source": [
    "Step 2: query for birth year;"
   ]
  },
  {
   "cell_type": "code",
   "execution_count": 77,
   "id": "445fed0b",
   "metadata": {},
   "outputs": [],
   "source": [
    "AGENTMAP=\"/nas/home/bohuizha/KG/hunger-for-knowledge/data/gvp/ULAN/AgentMap.tsv\"\n",
    "# ALIGN=\"/nas/home/bohuizha/KG/hunger-for-knowledge/data/gvp/ULAN/WikidataAlignment.tsv\"\n",
    "ALIGN=\"/nas/home/bohuizha/KG/hunger-for-knowledge/data/gvp/WikiAlign.tsv\"\n",
    "BIO=\"/nas/home/bohuizha/KG/hunger-for-knowledge/data/gvp/ULAN/Biographies.tsv\"\n",
    "OUTPUT=\"/nas/home/bohuizha/KG/hunger-for-knowledge/data/gvp/birthyear.tsv\"\n",
    "\n",
    "!kgtk query -i $ALIGN $AGENTMAP $BIO \\\n",
    "    --match 'WikiAlign: (ulanid)-[]->(qnode), \\\n",
    "             AgentMap: (ulanid)-[p0]->(ulanagent), \\\n",
    "             Biographies: (ulanagent)-[p1]->()-[p2]->()-[p3]->(datevalue)' \\\n",
    "    --where 'p0.label = \"foaf:focus\" AND p1.label = \"gvp:biographyPreferred\" AND p2.label = \"gvp:estStart\" AND p3.label = \"gvp:structured_value\"' \\\n",
    "    --return 'distinct ulanid as node1, p2.label as label, datevalue as node2' \\\n",
    "    -o $OUTPUT"
   ]
  },
  {
   "cell_type": "code",
   "execution_count": 78,
   "id": "40d46a51",
   "metadata": {},
   "outputs": [
    {
     "name": "stdout",
     "output_type": "stream",
     "text": [
      "92354 /nas/home/bohuizha/KG/hunger-for-knowledge/data/gvp/birthyear.tsv\r\n"
     ]
    }
   ],
   "source": [
    "OUTPUT=\"/nas/home/bohuizha/KG/hunger-for-knowledge/data/gvp/birthyear.tsv\"\n",
    "!wc -l $OUTPUT"
   ]
  },
  {
   "cell_type": "markdown",
   "id": "ef0dd908",
   "metadata": {},
   "source": [
    "Step 3: query for birth place;"
   ]
  },
  {
   "cell_type": "code",
   "execution_count": 81,
   "id": "b0eca5a8",
   "metadata": {},
   "outputs": [],
   "source": [
    "AGENTMAP=\"/nas/home/bohuizha/KG/hunger-for-knowledge/data/gvp/ULAN/AgentMap.tsv\"\n",
    "# ALIGN=\"/nas/home/bohuizha/KG/hunger-for-knowledge/data/gvp/ULAN/WikidataAlignment.tsv\"\n",
    "ALIGN=\"/nas/home/bohuizha/KG/hunger-for-knowledge/data/gvp/WikiAlign.tsv\"\n",
    "BIO=\"/nas/home/bohuizha/KG/hunger-for-knowledge/data/gvp/ULAN/Biographies.tsv\"\n",
    "TGNTERMS=\"/nas/home/bohuizha/KG/hunger-for-knowledge/data/gvp/TGN/TGNTerms.tsv\"\n",
    "PLACEMAP=\"/nas/home/bohuizha/KG/hunger-for-knowledge/data/gvp/TGN/PlaceMap.tsv\"\n",
    "OUTPUT=\"/nas/home/bohuizha/KG/hunger-for-knowledge/data/gvp/birthplace.tsv\"\n",
    "\n",
    "!kgtk query -i $ALIGN $AGENTMAP $BIO $PLACEMAP $TGNTERMS \\\n",
    "    --match 'WikiAlign: (ulanid)-[]->(qnode), \\\n",
    "             AgentMap: (ulanid)-[p0]->(ulanagent), \\\n",
    "             Biographies: (ulanagent)-[p1]->(ulanbio)-[p2]->(tgnplace)' \\\n",
    "    --where 'p0.label = \"foaf:focus\" AND p1.label = \"gvp:biographyPreferred\" \\\n",
    "             AND p2.label = \"schema:birthPlace\"' \\\n",
    "    --return 'distinct ulanid as node1, p2.label as label, tgnplace as node2' \\\n",
    "    -o $OUTPUT"
   ]
  },
  {
   "cell_type": "code",
   "execution_count": 82,
   "id": "9dddf66d",
   "metadata": {},
   "outputs": [],
   "source": [
    "AGENTMAP=\"/nas/home/bohuizha/KG/hunger-for-knowledge/data/gvp/ULAN/AgentMap.tsv\"\n",
    "# ALIGN=\"/nas/home/bohuizha/KG/hunger-for-knowledge/data/gvp/ULAN/WikidataAlignment.tsv\"\n",
    "TGNTERMS=\"/nas/home/bohuizha/KG/hunger-for-knowledge/data/gvp/TGN/TGNTerms.tsv\"\n",
    "PLACEMAP=\"/nas/home/bohuizha/KG/hunger-for-knowledge/data/gvp/TGN/PlaceMap.tsv\"\n",
    "BIRTHPLACE=\"/nas/home/bohuizha/KG/hunger-for-knowledge/data/gvp/birthplace.tsv\"\n",
    "OUTPUT=\"/nas/home/bohuizha/KG/hunger-for-knowledge/data/gvp/birthplacelabel.tsv\"\n",
    "\n",
    "!kgtk query -i $BIRTHPLACE $PLACEMAP $TGNTERMS \\\n",
    "    --match 'birthplace: (ulanid)-[p]->(birthplace), \\\n",
    "             PlaceMap: (tgnid)-[p0]->(birthplace), \\\n",
    "             TGNTerms: (tgnid)-[p1]->(tgnterm), \\\n",
    "             TGNTerms: (tgnterm)-[p2]->(tgnlabel)' \\\n",
    "    --where 'p0.label = \"foaf:focus\" AND p1.label = \"skosxl:altLabel\" AND p2.label = \"gvp:term\" AND kgtk_lqstring_lang(tgnlabel) = \"en\"' \\\n",
    "    --return 'distinct ulanid as node1, p.label as label, kgtk_lqstring_text(tgnlabel) as node2' \\\n",
    "    -o $OUTPUT"
   ]
  },
  {
   "cell_type": "code",
   "execution_count": 83,
   "id": "00f5faee",
   "metadata": {},
   "outputs": [
    {
     "name": "stdout",
     "output_type": "stream",
     "text": [
      "13836 /nas/home/bohuizha/KG/hunger-for-knowledge/data/gvp/birthplacelabel.tsv\r\n"
     ]
    }
   ],
   "source": [
    "OUTPUT=\"/nas/home/bohuizha/KG/hunger-for-knowledge/data/gvp/birthplacelabel.tsv\"\n",
    "!wc -l $OUTPUT"
   ]
  },
  {
   "cell_type": "markdown",
   "id": "2cbd31f4",
   "metadata": {},
   "source": [
    "Step 4: combination;"
   ]
  },
  {
   "cell_type": "code",
   "execution_count": 101,
   "id": "4c53560d",
   "metadata": {},
   "outputs": [],
   "source": [
    "ALIGN=\"/nas/home/bohuizha/KG/hunger-for-knowledge/data/gvp/WikiAlign.tsv\"\n",
    "LABELS=\"/nas/home/bohuizha/KG/hunger-for-knowledge/data/gvp/labels.tsv\"\n",
    "BIRTHYEAR=\"/nas/home/bohuizha/KG/hunger-for-knowledge/data/gvp/birthyear.tsv\"\n",
    "BIRTHPLACE=\"/nas/home/bohuizha/KG/hunger-for-knowledge/data/gvp/birthplace.tsv\"\n",
    "BIRTHPLACELABEL=\"/nas/home/bohuizha/KG/hunger-for-knowledge/data/gvp/birthplacelabel.tsv\"\n",
    "OUTPUT=\"/nas/home/bohuizha/KG/hunger-for-knowledge/data/gvp/results.tsv\"\n",
    "\n",
    "!kgtk query -i $LABELS $ALIGN $BIRTHYEAR $BIRTHPLACE $BIRTHPLACELABEL \\\n",
    "    --match 'labels: (ulanid)-[]->(name), \\\n",
    "             WikiAlign: (ulanid)-[]->(qnode), \\\n",
    "             birthyear: (ulanid)-[]->(year), \\\n",
    "             birthplacelabel: (ulanid)-[]->(placelabel) ' \\\n",
    "    --return 'distinct ulanid as node1, \"skos:exactMatch\" as label, qnode as node2, name as Name, placelabel as Place, year as Year' \\\n",
    "    -o $OUTPUT"
   ]
  },
  {
   "cell_type": "code",
   "execution_count": 133,
   "id": "4b057b36",
   "metadata": {},
   "outputs": [
    {
     "name": "stdout",
     "output_type": "stream",
     "text": [
      "6711 /nas/home/bohuizha/KG/hunger-for-knowledge/data/gvp/results.tsv\r\n"
     ]
    }
   ],
   "source": [
    "OUTPUT=\"/nas/home/bohuizha/KG/hunger-for-knowledge/data/gvp/results.tsv\"\n",
    "!wc -l $OUTPUT"
   ]
  },
  {
   "cell_type": "markdown",
   "id": "1d6710a8",
   "metadata": {},
   "source": [
    "Step 5: output desired files."
   ]
  },
  {
   "cell_type": "code",
   "execution_count": 106,
   "id": "96f51131",
   "metadata": {},
   "outputs": [],
   "source": [
    "results_path = \"/nas/home/bohuizha/KG/hunger-for-knowledge/data/gvp/results.tsv\"\n",
    "results_df = pd.read_csv(results_path, sep='\\t')\n",
    "results_50_df = results_df.groupby(['node1'], as_index=False).first()[:50]\n",
    "\n",
    "results_50_path = \"/nas/home/bohuizha/KG/hunger-for-knowledge/data/gvp/results_50.tsv\"\n",
    "results_50_df.to_csv(results_50_path, sep=',', columns=['Name', 'Place', 'Year'], \n",
    "                     index=False, quoting=csv.QUOTE_NONNUMERIC)\n",
    "align_50_path = \"/nas/home/bohuizha/KG/hunger-for-knowledge/data/gvp/align_50.tsv\"\n",
    "results_50_df.to_csv(align_50_path, sep=',', columns=['node1', 'label', 'node2'], index=False)"
   ]
  },
  {
   "cell_type": "code",
   "execution_count": null,
   "id": "1a6aa76e",
   "metadata": {},
   "outputs": [],
   "source": []
  }
 ],
 "metadata": {
  "kernelspec": {
   "display_name": "Python 3",
   "language": "python",
   "name": "python3"
  },
  "language_info": {
   "codemirror_mode": {
    "name": "ipython",
    "version": 3
   },
   "file_extension": ".py",
   "mimetype": "text/x-python",
   "name": "python",
   "nbconvert_exporter": "python",
   "pygments_lexer": "ipython3",
   "version": "3.7.10"
  }
 },
 "nbformat": 4,
 "nbformat_minor": 5
}
