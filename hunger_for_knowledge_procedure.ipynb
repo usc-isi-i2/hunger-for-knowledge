{
 "cells": [
  {
   "cell_type": "markdown",
   "id": "urban-formula",
   "metadata": {},
   "source": [
    "# Hunger for Knowledge Procedure"
   ]
  },
  {
   "cell_type": "markdown",
   "id": "336cd912",
   "metadata": {},
   "source": [
    "## Step 0 Set up `kgtk`\n",
    "Use GitHub branch `dev`:"
   ]
  },
  {
   "cell_type": "code",
   "execution_count": null,
   "id": "b4ae0eb6",
   "metadata": {},
   "outputs": [],
   "source": [
    "%%bash\n",
    "git clone -b dev https://github.com/usc-isi-i2/kgtk.git\n",
    "cd kgtk\n",
    "python setup.py install"
   ]
  },
  {
   "cell_type": "markdown",
   "id": "cross-eating",
   "metadata": {},
   "source": [
    "## Step 1 Send a SPARQL query use `kgtk`"
   ]
  },
  {
   "cell_type": "markdown",
   "id": "35d92c7e",
   "metadata": {},
   "source": [
    "Example 1: Find spouse(s) of politicians: <div>\n",
    "SPARQL query:\n",
    "```\n",
    "SELECT ?politicianLabel ?spouseLabel\n",
    "WHERE \n",
    "{\n",
    "  ?politician wdt:P31  wd:Q5 ;\n",
    "              wdt:P106 wd:Q82955 ;\n",
    "              wdt:P26  ?spouse .\n",
    "  SERVICE wikibase:label { bd:serviceParam wikibase:language \"en\". }\n",
    "}\n",
    "```"
   ]
  },
  {
   "cell_type": "markdown",
   "id": "956dabe5",
   "metadata": {},
   "source": [
    "### Main `kgtk` query:"
   ]
  },
  {
   "cell_type": "code",
   "execution_count": null,
   "id": "5dbc7fd8",
   "metadata": {},
   "outputs": [],
   "source": [
    "%%bash\n",
    "kgtk query -i data/claims.tsv \\\n",
    "           --match 'c: (:Q82955)<-[:P106]-(politician)-[:P26]->(s)' \\\n",
    "           --return 'politician, \"P26\" as label, s' \\\n",
    "           -o data/spouse_of_politician_kgtk.tsv"
   ]
  },
  {
   "cell_type": "markdown",
   "id": "af0a3ad4",
   "metadata": {},
   "source": [
    "### Count known results in Wikidata database:"
   ]
  },
  {
   "cell_type": "markdown",
   "id": "10814a7c",
   "metadata": {},
   "source": [
    "Count politician-spouse pairs / **rows** (result should -1 which is the header):"
   ]
  },
  {
   "cell_type": "code",
   "execution_count": 6,
   "id": "cefd481c",
   "metadata": {
    "scrolled": true
   },
   "outputs": [
    {
     "name": "stdout",
     "output_type": "stream",
     "text": [
      "36975 data/spouse_of_politician_kgtk.tsv\n"
     ]
    }
   ],
   "source": [
    "%%bash\n",
    "wc -l data/spouse_of_politician_kgtk.tsv"
   ]
  },
  {
   "cell_type": "markdown",
   "id": "b9bae014",
   "metadata": {},
   "source": [
    "Count how many **unique politicians** have spouse in Wikidata:"
   ]
  },
  {
   "cell_type": "code",
   "execution_count": 7,
   "id": "8b899374",
   "metadata": {},
   "outputs": [
    {
     "name": "stdout",
     "output_type": "stream",
     "text": [
      "N\n",
      "30400\n"
     ]
    }
   ],
   "source": [
    "%%bash\n",
    "kgtk query -i data/spouse_of_politician_kgtk.tsv \\\n",
    "           --match 'c: (p)-[]->()' \\\n",
    "           --return 'count(distinct p) as N'"
   ]
  },
  {
   "cell_type": "markdown",
   "id": "b22f3eaa",
   "metadata": {},
   "source": [
    "### Find unknow results in Wikidata database:\n",
    "- Find all politicians"
   ]
  },
  {
   "cell_type": "code",
   "execution_count": 23,
   "id": "42864fd2",
   "metadata": {},
   "outputs": [],
   "source": [
    "%%bash\n",
    "kgtk query -i data/claims.tsv \\\n",
    "           --match 'c: (:Q82955)<-[:P106]-(politician)' \\\n",
    "           --return 'politician, \"P106\" as label, \"Q82955\" as node2' \\\n",
    "           -o data/politician.tsv"
   ]
  },
  {
   "cell_type": "markdown",
   "id": "40dcc0bd",
   "metadata": {},
   "source": [
    "- Eliminate politicians who have spouse(s)"
   ]
  },
  {
   "cell_type": "code",
   "execution_count": 25,
   "id": "bd71221f",
   "metadata": {},
   "outputs": [],
   "source": [
    "%%bash\n",
    "kgtk ifnotexists -i data/politician.tsv \\\n",
    "                 --filter-on data/spouse_of_politician_kgtk.tsv \\\n",
    "                 --input-keys node1 \\\n",
    "                 --filter-keys node1 \\\n",
    "                 -o data/politician_wo_spouse.tsv"
   ]
  },
  {
   "cell_type": "markdown",
   "id": "7628acfd",
   "metadata": {},
   "source": [
    "### Count unknown results in Wikidata database:"
   ]
  },
  {
   "cell_type": "code",
   "execution_count": 26,
   "id": "8f8d2bca",
   "metadata": {},
   "outputs": [
    {
     "name": "stdout",
     "output_type": "stream",
     "text": [
      "N\n",
      "619168\n"
     ]
    }
   ],
   "source": [
    "%%bash\n",
    "kgtk query -i data/politician_wo_spouse.tsv \\\n",
    "           --match 'c: (p)-[]->()' \\\n",
    "           --return 'count(distinct p) as N'"
   ]
  },
  {
   "cell_type": "markdown",
   "id": "juvenile-element",
   "metadata": {},
   "source": [
    "## Step 2 Infer properties"
   ]
  },
  {
   "cell_type": "markdown",
   "id": "94ef1eac",
   "metadata": {},
   "source": [
    "Use query results from Wikidata database to infer properties in Wikidata infobox and return the most frequent property."
   ]
  },
  {
   "cell_type": "code",
   "execution_count": 41,
   "id": "forbidden-neighbor",
   "metadata": {},
   "outputs": [
    {
     "name": "stdout",
     "output_type": "stream",
     "text": [
      "label\tN\n",
      "property:spouse\t5697\n"
     ]
    }
   ],
   "source": [
    "%%bash\n",
    "WIKI_INFO=\"data/wikidata_infobox.tsv\"\n",
    "RESULTS=\"data/spouse_of_politician_kgtk.tsv\"\n",
    "\n",
    "kgtk query -i $RESULTS -i $WIKI_INFO \\\n",
    "           --match 's: (n)-[]->(v), w: (n)-[p]->(v)' \\\n",
    "           --return 'p.label, count(v) as N' \\\n",
    "           --order-by 'N desc' \\\n",
    "           --limit 1"
   ]
  },
  {
   "cell_type": "markdown",
   "id": "distant-norway",
   "metadata": {},
   "source": [
    "## Step 3 Run query in Wikidata infobox "
   ]
  },
  {
   "cell_type": "markdown",
   "id": "parliamentary-station",
   "metadata": {},
   "source": [
    "For those don't have spouse, query in Wikidata infobox:"
   ]
  },
  {
   "cell_type": "code",
   "execution_count": 28,
   "id": "proved-extension",
   "metadata": {},
   "outputs": [],
   "source": [
    "%%bash\n",
    "WIKI_INFO=\"data/wikidata_infobox.tsv\"\n",
    "QUERY_FILE=\"data/politician_wo_spouse.tsv\"\n",
    "\n",
    "kgtk query -i $QUERY_FILE -i $WIKI_INFO \\\n",
    "           --match 'p: (politician)-[]->(), w: (politician)-[property]->(spouse)' \\\n",
    "           --where 'property.label = \"property:spouse\"' \\\n",
    "           --return 'politician, property.label, spouse' \\\n",
    "           -o data/new_spouse_of_politician.tsv"
   ]
  },
  {
   "cell_type": "markdown",
   "id": "31fc5cec",
   "metadata": {},
   "source": [
    "- Count rows of new findings:"
   ]
  },
  {
   "cell_type": "code",
   "execution_count": 57,
   "id": "b8f80588",
   "metadata": {},
   "outputs": [
    {
     "name": "stdout",
     "output_type": "stream",
     "text": [
      "58739 data/new_spouse_of_politician.tsv\n"
     ]
    }
   ],
   "source": [
    "%%bash\n",
    "wc -l data/new_spouse_of_politician.tsv"
   ]
  },
  {
   "cell_type": "markdown",
   "id": "e6dcef7a",
   "metadata": {},
   "source": [
    "- Count unique politicians of new findings:"
   ]
  },
  {
   "cell_type": "code",
   "execution_count": 30,
   "id": "fbba6416",
   "metadata": {},
   "outputs": [
    {
     "name": "stdout",
     "output_type": "stream",
     "text": [
      "N\n",
      "39443\n"
     ]
    }
   ],
   "source": [
    "%%bash\n",
    "kgtk query -i data/new_spouse_of_politician.tsv \\\n",
    "           --match 'n: (p)-[]->()' \\\n",
    "           --return 'count(distinct p) as N'"
   ]
  },
  {
   "cell_type": "markdown",
   "id": "56b8c84c",
   "metadata": {},
   "source": [
    "## Step 4 Datatype distribution of new findings"
   ]
  },
  {
   "cell_type": "markdown",
   "id": "2a5db2e5",
   "metadata": {},
   "source": [
    "### 1. Numbers:"
   ]
  },
  {
   "cell_type": "markdown",
   "id": "130f4a19",
   "metadata": {},
   "source": [
    "- Rows:"
   ]
  },
  {
   "cell_type": "code",
   "execution_count": 42,
   "id": "9cbbae09",
   "metadata": {},
   "outputs": [
    {
     "name": "stdout",
     "output_type": "stream",
     "text": [
      "7336 data/numbers.tsv\n"
     ]
    }
   ],
   "source": [
    "%%bash\n",
    "kgtk query -i data/new_spouse_of_politician.tsv \\\n",
    "           --match 'n: (p)-[]->(s)' \\\n",
    "           --where 'kgtk_number(s)' \\\n",
    "           -o data/numbers.tsv\n",
    "\n",
    "wc -l data/numbers.tsv"
   ]
  },
  {
   "cell_type": "markdown",
   "id": "1e3c10cd",
   "metadata": {},
   "source": [
    "- Unique politicians:"
   ]
  },
  {
   "cell_type": "code",
   "execution_count": 43,
   "id": "23490768",
   "metadata": {},
   "outputs": [
    {
     "name": "stdout",
     "output_type": "stream",
     "text": [
      "N\n",
      "4587\n"
     ]
    }
   ],
   "source": [
    "%%bash\n",
    "kgtk query -i data/numbers.tsv \\\n",
    "           --match '(p)-[]->()' \\\n",
    "           --return 'count(distinct p) as N'"
   ]
  },
  {
   "cell_type": "markdown",
   "id": "8422f099",
   "metadata": {},
   "source": [
    "### 2. Structured literals:"
   ]
  },
  {
   "cell_type": "markdown",
   "id": "c2f6b480",
   "metadata": {},
   "source": [
    "- Rows:"
   ]
  },
  {
   "cell_type": "code",
   "execution_count": 44,
   "id": "8d05ad37",
   "metadata": {},
   "outputs": [
    {
     "name": "stdout",
     "output_type": "stream",
     "text": [
      "1943 data/structured_literals.tsv\n"
     ]
    }
   ],
   "source": [
    "%%bash\n",
    "RESULTS=data/new_spouse_of_politician.tsv\n",
    "WIKI_INFO=data/wikidata_infobox.tsv\n",
    "\n",
    "kgtk query -i $RESULTS -i $WIKI_INFO \\\n",
    "           --match 'n: (p)-[q]->(s), w: (s)-[sv]->(v)' \\\n",
    "           --where 'NOT kgtk_lqstring(s) AND NOT kgtk_number(s) AND sv.label = \"dbpedia:structured_value\"' \\\n",
    "           --return 's as node1, sv.label, v' \\\n",
    "           -o data/structured_literals.tsv\n",
    "\n",
    "wc -l data/structured_literals.tsv"
   ]
  },
  {
   "cell_type": "markdown",
   "id": "dff318d1",
   "metadata": {},
   "source": [
    "- Unique politicians:"
   ]
  },
  {
   "cell_type": "code",
   "execution_count": 46,
   "id": "10c96375",
   "metadata": {},
   "outputs": [
    {
     "name": "stdout",
     "output_type": "stream",
     "text": [
      "N\n",
      "1942\n"
     ]
    }
   ],
   "source": [
    "%%bash\n",
    "kgtk query -i data/structured_literals.tsv \\\n",
    "           --match '(p)-[]->()' \\\n",
    "           --return 'count(distinct p) as N'"
   ]
  },
  {
   "cell_type": "markdown",
   "id": "b651b98e",
   "metadata": {},
   "source": [
    "### 3. Strings:"
   ]
  },
  {
   "cell_type": "markdown",
   "id": "abb8aed5",
   "metadata": {},
   "source": [
    "#### All:"
   ]
  },
  {
   "cell_type": "markdown",
   "id": "0fc07195",
   "metadata": {},
   "source": [
    "- Rows:"
   ]
  },
  {
   "cell_type": "code",
   "execution_count": 47,
   "id": "8ec4a1ba",
   "metadata": {},
   "outputs": [
    {
     "name": "stdout",
     "output_type": "stream",
     "text": [
      "48171 data/strings.tsv\n"
     ]
    }
   ],
   "source": [
    "%%bash\n",
    "kgtk query -i data/new_spouse_of_politician.tsv \\\n",
    "           --match 'n: (p)-[]->(s)' \\\n",
    "           --where 'kgtk_lqstring(s)' \\\n",
    "           -o data/strings.tsv\n",
    "\n",
    "wc -l data/strings.tsv"
   ]
  },
  {
   "cell_type": "markdown",
   "id": "45f7db13",
   "metadata": {},
   "source": [
    "- Unique politicians:"
   ]
  },
  {
   "cell_type": "code",
   "execution_count": 48,
   "id": "5dd16e99",
   "metadata": {},
   "outputs": [
    {
     "name": "stdout",
     "output_type": "stream",
     "text": [
      "N\n",
      "38317\n"
     ]
    }
   ],
   "source": [
    "%%bash\n",
    "kgtk query -i data/strings.tsv \\\n",
    "           --match '(p)-[]->()' \\\n",
    "           --return 'count(distinct p) as N'"
   ]
  },
  {
   "cell_type": "markdown",
   "id": "c28260f6",
   "metadata": {},
   "source": [
    "#### Empty:"
   ]
  },
  {
   "cell_type": "markdown",
   "id": "fce87776",
   "metadata": {},
   "source": [
    "- Rows:"
   ]
  },
  {
   "cell_type": "code",
   "execution_count": 49,
   "id": "b5f8afe3",
   "metadata": {},
   "outputs": [
    {
     "name": "stdout",
     "output_type": "stream",
     "text": [
      "5868 data/empty_strings.tsv\n"
     ]
    }
   ],
   "source": [
    "%%bash\n",
    "kgtk query -i data/new_spouse_of_politician.tsv \\\n",
    "           --match 'n: (p)-[]->(s)' \\\n",
    "           --where 'kgtk_lqstring_text(s) = \"\"' \\\n",
    "           -o data/empty_strings.tsv\n",
    "\n",
    "wc -l data/empty_strings.tsv"
   ]
  },
  {
   "cell_type": "markdown",
   "id": "45f319e3",
   "metadata": {},
   "source": [
    "- Unique politicians:"
   ]
  },
  {
   "cell_type": "code",
   "execution_count": 50,
   "id": "ce64bebb",
   "metadata": {},
   "outputs": [
    {
     "name": "stdout",
     "output_type": "stream",
     "text": [
      "N\n",
      "5867\n"
     ]
    }
   ],
   "source": [
    "%%bash\n",
    "kgtk query -i data/empty_strings.tsv \\\n",
    "           --match 'n: (p)-[]->()' \\\n",
    "           --return 'count(distinct p) as N'"
   ]
  },
  {
   "cell_type": "markdown",
   "id": "e5a6ceb5",
   "metadata": {},
   "source": [
    "#### Further check empty strings:"
   ]
  },
  {
   "cell_type": "markdown",
   "id": "8a65d4cf",
   "metadata": {},
   "source": [
    "Since some of the empty items not excatly mean only return empty for that politician, for example,\n",
    "```\n",
    "Q1133864    property:spouse    nodemxZbyK2VRrGoaxfdLmyLxw-7343552\n",
    "Q1133864    property:spouse    'Ethel Arnold'@en\n",
    "Q1133864    property:spouse    ''@en\n",
    "```\n",
    "so it need further check.<div>\n",
    "First we filter out all non-empty strings:"
   ]
  },
  {
   "cell_type": "code",
   "execution_count": null,
   "id": "2af1392a",
   "metadata": {},
   "outputs": [],
   "source": [
    "%%bash\n",
    "kgtk query -i data/new_spouse_of_politician.tsv \\\n",
    "           --match 'n: (p)-[]->(s)' \\\n",
    "           --where 'kgtk_lqstring_text(s) != \"\"' \\\n",
    "           -o data/non_empty_strings.tsv"
   ]
  },
  {
   "cell_type": "markdown",
   "id": "824d6ea4",
   "metadata": {},
   "source": [
    "Then we filter those in empty but also have spouse in non-empty ones, then we can count how many \"pure\" empty:"
   ]
  },
  {
   "cell_type": "code",
   "execution_count": 53,
   "id": "e70a2b64",
   "metadata": {},
   "outputs": [
    {
     "name": "stdout",
     "output_type": "stream",
     "text": [
      "297 data/pure_empty.tsv\n"
     ]
    }
   ],
   "source": [
    "%%bash\n",
    "kgtk ifnotexists -i data/empty_strings.tsv \\\n",
    "                 --filter-on data/non_empty_strings.tsv \\\n",
    "                 --input-keys node1 \\\n",
    "                 --filter-keys node1 \\\n",
    "                 -o data/pure_empty.tsv \n",
    "\n",
    "wc -l data/pure_empty.tsv"
   ]
  },
  {
   "cell_type": "code",
   "execution_count": 54,
   "id": "8439ddd1",
   "metadata": {},
   "outputs": [
    {
     "name": "stdout",
     "output_type": "stream",
     "text": [
      "N\n",
      "296\n"
     ]
    }
   ],
   "source": [
    "%%bash\n",
    "kgtk query -i data/pure_empty.tsv \\\n",
    "           --match 'p: (politician)-[]->()' \\\n",
    "           --return 'count(distinct politician) as N'"
   ]
  },
  {
   "cell_type": "markdown",
   "id": "8a7cce72",
   "metadata": {},
   "source": [
    "### 4. Qnodes"
   ]
  },
  {
   "cell_type": "markdown",
   "id": "ceeb8a67",
   "metadata": {},
   "source": [
    "- Rows:"
   ]
  },
  {
   "cell_type": "code",
   "execution_count": 55,
   "id": "0328daad",
   "metadata": {},
   "outputs": [
    {
     "name": "stdout",
     "output_type": "stream",
     "text": [
      "23946 data/qnodes.tsv\n"
     ]
    }
   ],
   "source": [
    "%%bash\n",
    "kgtk query -i data/claims.tsv -i data/new_spouse_of_politician.tsv \\\n",
    "           --match 'c: (q)-[]->(), n:()-[]->(q)' \\\n",
    "           -o data/qnodes.tsv\n",
    "\n",
    "wc -l data/qnodes.tsv"
   ]
  },
  {
   "cell_type": "markdown",
   "id": "9ca4dafd",
   "metadata": {},
   "source": [
    "- Unique politicians:"
   ]
  },
  {
   "cell_type": "code",
   "execution_count": 56,
   "id": "cf43b298",
   "metadata": {},
   "outputs": [
    {
     "name": "stdout",
     "output_type": "stream",
     "text": [
      "N\n",
      "1275\n"
     ]
    }
   ],
   "source": [
    "%%bash\n",
    "kgtk query -i data/qnodes.tsv \\\n",
    "           --match '(p)-[]->()' \\\n",
    "           --return 'count(distinct p) as N'"
   ]
  },
  {
   "cell_type": "code",
   "execution_count": null,
   "id": "30487a51",
   "metadata": {},
   "outputs": [],
   "source": []
  }
 ],
 "metadata": {
  "kernelspec": {
   "display_name": "Python 3",
   "language": "python",
   "name": "python3"
  },
  "language_info": {
   "codemirror_mode": {
    "name": "ipython",
    "version": 3
   },
   "file_extension": ".py",
   "mimetype": "text/x-python",
   "name": "python",
   "nbconvert_exporter": "python",
   "pygments_lexer": "ipython3",
   "version": "3.7.10"
  }
 },
 "nbformat": 4,
 "nbformat_minor": 5
}
