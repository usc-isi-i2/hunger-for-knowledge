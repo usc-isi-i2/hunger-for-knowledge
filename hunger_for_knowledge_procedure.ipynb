{
 "cells": [
  {
   "cell_type": "markdown",
   "id": "urban-formula",
   "metadata": {},
   "source": [
    "# Hunger for Knowledge Procedure"
   ]
  },
  {
   "cell_type": "markdown",
   "id": "336cd912",
   "metadata": {},
   "source": [
    "## Step 0 Set up `kgtk`"
   ]
  },
  {
   "cell_type": "code",
   "execution_count": null,
   "id": "b4ae0eb6",
   "metadata": {},
   "outputs": [],
   "source": []
  },
  {
   "cell_type": "markdown",
   "id": "cross-eating",
   "metadata": {},
   "source": [
    "## Step 1 Send a SPARQL query"
   ]
  },
  {
   "cell_type": "markdown",
   "id": "2c7ec848",
   "metadata": {},
   "source": [
    "Find spouse of politicians:"
   ]
  },
  {
   "cell_type": "code",
   "execution_count": null,
   "id": "5dbc7fd8",
   "metadata": {},
   "outputs": [],
   "source": [
    "%%bash\n",
    "kgtk query -i data/claims.tsv \\\n",
    "           --match 'c: (:Q82955)<-[:P106]-(politician)-[:P26]->(s)' \\\n",
    "           --return 'politician, \"P26\" as label, s' \\\n",
    "           -o data/spouse_of_politician_kgtk.tsv"
   ]
  },
  {
   "cell_type": "markdown",
   "id": "e636cfa2",
   "metadata": {},
   "source": [
    "Count politician-spouse pairs (-1):"
   ]
  },
  {
   "cell_type": "code",
   "execution_count": 6,
   "id": "cefd481c",
   "metadata": {
    "scrolled": true
   },
   "outputs": [
    {
     "name": "stdout",
     "output_type": "stream",
     "text": [
      "36975 data/spouse_of_politician_kgtk.tsv\n"
     ]
    }
   ],
   "source": [
    "%%bash\n",
    "wc -l data/spouse_of_politician_kgtk.tsv"
   ]
  },
  {
   "cell_type": "markdown",
   "id": "eabe9f4a",
   "metadata": {},
   "source": [
    "Count how many politicians have spouse in Wikidata:"
   ]
  },
  {
   "cell_type": "code",
   "execution_count": 7,
   "id": "23c46a3a",
   "metadata": {},
   "outputs": [
    {
     "name": "stdout",
     "output_type": "stream",
     "text": [
      "N\n",
      "30400\n"
     ]
    }
   ],
   "source": [
    "%%bash\n",
    "kgtk query -i data/spouse_of_politician_kgtk.tsv \\\n",
    "           --match 'c: (p)-[]->()' \\\n",
    "           --return 'count(distinct p) as N'"
   ]
  },
  {
   "cell_type": "markdown",
   "id": "47c0429b",
   "metadata": {},
   "source": [
    "Find politicians don't have spouse listed in Wikidata:\n",
    "- Find all politicians"
   ]
  },
  {
   "cell_type": "code",
   "execution_count": null,
   "id": "42864fd2",
   "metadata": {},
   "outputs": [],
   "source": [
    "%%bash\n",
    "kgtk query -i data/claims.tsv \\\n",
    "           --match 'c: (:Q82955)<-[:P106]-(politician)-[p]->(s)' \\\n",
    "           --return 'politician, p.label, s' \\\n",
    "           -o data/politician.tsv"
   ]
  },
  {
   "cell_type": "markdown",
   "id": "f4d7d04f",
   "metadata": {},
   "source": [
    "- Eliminate politicians who have spouse(s)"
   ]
  },
  {
   "cell_type": "code",
   "execution_count": null,
   "id": "99edef50",
   "metadata": {},
   "outputs": [],
   "source": [
    "%%bash\n",
    "kgtk ifnotexists -i data/politician.tsv \\\n",
    "                 --filter-on data/spouse_of_politician_kgtk.tsv \\\n",
    "                 --input-keys node1 \\\n",
    "                 --filter-keys node1 \\\n",
    "                 -o data/politician_wo_spouse.tsv"
   ]
  },
  {
   "cell_type": "markdown",
   "id": "0430205f",
   "metadata": {},
   "source": [
    "Count politicians in Wikidata who don't have spouse listed:"
   ]
  },
  {
   "cell_type": "code",
   "execution_count": 9,
   "id": "585459eb",
   "metadata": {},
   "outputs": [
    {
     "name": "stdout",
     "output_type": "stream",
     "text": [
      "N\n",
      "619168\n"
     ]
    }
   ],
   "source": [
    "%%bash\n",
    "kgtk query -i data/politician_wo_spouse.tsv \\\n",
    "           --match 'c: (p)-[]->()' \\\n",
    "           --return 'count(distinct p) as N'"
   ]
  },
  {
   "cell_type": "markdown",
   "id": "juvenile-element",
   "metadata": {},
   "source": [
    "## Step 2 Infer properties"
   ]
  },
  {
   "cell_type": "code",
   "execution_count": 10,
   "id": "forbidden-neighbor",
   "metadata": {},
   "outputs": [
    {
     "name": "stdout",
     "output_type": "stream",
     "text": [
      "label\tN\n",
      "property:1namedata\t10\n",
      "property:2namedata\t2\n",
      "property:after\t68\n",
      "property:alongside\t3\n",
      "property:appointer\t2\n",
      "property:associatedActs\t1\n",
      "property:before\t67\n",
      "property:caption\t2\n",
      "property:children\t3\n",
      "property:coach\t1\n",
      "property:consort\t2\n",
      "property:coronation\t1\n",
      "property:deputy\t1\n",
      "property:deputyPresident\t1\n",
      "property:dictator\t1\n",
      "property:father\t5\n",
      "property:formerpartner\t1\n",
      "property:governor\t64\n",
      "property:issue\t3\n",
      "property:leader\t2\n",
      "property:lieutenantGovernor\t1\n",
      "property:liveInPartner\t1\n",
      "property:minister\t1\n",
      "property:monarch\t4\n",
      "property:mother\t1\n",
      "property:partner\t17\n",
      "property:pharaoh\t1\n",
      "property:preceded\t13\n",
      "property:predecessor\t127\n",
      "property:premier\t1\n",
      "property:president\t294\n",
      "property:primeminister\t26\n",
      "property:queen\t5\n",
      "property:regent\t61\n",
      "property:relations\t3\n",
      "property:relatives\t1\n",
      "property:royalHouse\t1\n",
      "property:spouse\t5697\n",
      "property:spouse(s)_\t1\n",
      "property:spouses\t22\n",
      "property:succeeded\t17\n",
      "property:successor\t100\n",
      "property:title\t1\n",
      "property:vicePresident\t1\n",
      "property:vicepresident\t28\n",
      "property:with\t11\n"
     ]
    }
   ],
   "source": [
    "%%bash\n",
    "WIKI_INFO=\"data/wikidata_infobox.tsv\"\n",
    "RESULTS=\"data/spouse_of_politician_kgtk.tsv\"\n",
    "\n",
    "kgtk query -i $RESULTS -i $WIKI_INFO \\\n",
    "           --match 's: (n)-[]->(v), w: (n)-[p]->(v)' \\\n",
    "           --return 'p.label, count(v) as N'"
   ]
  },
  {
   "cell_type": "markdown",
   "id": "distant-norway",
   "metadata": {},
   "source": [
    "## Step 3 Run query in Wikidata infobox "
   ]
  },
  {
   "cell_type": "markdown",
   "id": "parliamentary-station",
   "metadata": {},
   "source": [
    "For those don't have spouse, query in Wikidata infobox:"
   ]
  },
  {
   "cell_type": "code",
   "execution_count": null,
   "id": "proved-extension",
   "metadata": {},
   "outputs": [],
   "source": [
    "%%bash\n",
    "WIKI_INFO=\"data/wikidata_infobox.tsv\"\n",
    "QUERY_FILE=\"data/politician_wo_spouse.tsv\"\n",
    "\n",
    "kgtk query -i $QUERY_FILE -i $WIKI_INFO \\\n",
    "           --match 'p: (politician)-[]->(), w: (politician)-[property]->(spouse)' \\\n",
    "           --where 'property.label = \"property:spouse\"' \\\n",
    "           --return 'politician, property.label, spouse' \\\n",
    "           -o data/new_spouse_of_politician.tsv"
   ]
  },
  {
   "cell_type": "markdown",
   "id": "b74a113a",
   "metadata": {},
   "source": [
    "It is weird that the returned file contains many duplicate lines, need further process."
   ]
  },
  {
   "cell_type": "markdown",
   "id": "14558b0c",
   "metadata": {},
   "source": [
    "Count politician with spouse that we newly found in Wikidata infobox:"
   ]
  },
  {
   "cell_type": "code",
   "execution_count": 11,
   "id": "ae7ff97c",
   "metadata": {},
   "outputs": [
    {
     "name": "stdout",
     "output_type": "stream",
     "text": [
      "N\n",
      "39443\n"
     ]
    }
   ],
   "source": [
    "%%bash\n",
    "kgtk query -i data/new_spouse_of_politician.tsv \\\n",
    "           --match 'n: (p)-[]->()' \\\n",
    "           --return 'count(distinct p) as N'"
   ]
  },
  {
   "cell_type": "markdown",
   "id": "c2cc4f9b",
   "metadata": {},
   "source": [
    "Count empty:"
   ]
  },
  {
   "cell_type": "code",
   "execution_count": 12,
   "id": "a37cd60b",
   "metadata": {},
   "outputs": [
    {
     "name": "stdout",
     "output_type": "stream",
     "text": [
      "N\n",
      "38021\n"
     ]
    }
   ],
   "source": [
    "%%bash\n",
    "kgtk query -i data/new_spouse_of_politician.tsv \\\n",
    "           --match 'n: (p)-[]->(s)' \\\n",
    "           --where 'kgtk_lqstring_text(s) != \"\"' \\\n",
    "           --return 'count(distinct p) as N'"
   ]
  },
  {
   "cell_type": "code",
   "execution_count": null,
   "id": "a1a95230",
   "metadata": {},
   "outputs": [],
   "source": []
  }
 ],
 "metadata": {
  "kernelspec": {
   "display_name": "Python 3",
   "language": "python",
   "name": "python3"
  },
  "language_info": {
   "codemirror_mode": {
    "name": "ipython",
    "version": 3
   },
   "file_extension": ".py",
   "mimetype": "text/x-python",
   "name": "python",
   "nbconvert_exporter": "python",
   "pygments_lexer": "ipython3",
   "version": "3.7.10"
  }
 },
 "nbformat": 4,
 "nbformat_minor": 5
}
